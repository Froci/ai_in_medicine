{
 "cells": [
  {
   "cell_type": "markdown",
   "metadata": {},
   "source": [
    "# Machine Learning with scikit-learn\n",
    "\n",
    "Tutors: Jaime Rodríguez-Guerra (jaime.rodriguez@charite.de), Jan Philipp Albrecht (j.p.albrecht@fu-berlin.de)\n",
    "\n",
    "> Based on [previous work](https://github.com/volkamerlab/TeachOpenCADD/blob/master/talktorials/7_machine_learning/T7_machine_learning.ipynb) by Jan Philipp Albrecht and Jacob Gora"
   ]
  },
  {
   "cell_type": "markdown",
   "metadata": {},
   "source": [
    "# 1. Aims of this session\n",
    "\n",
    "Familiarize yourself with the ground concepts of machine learning while you apply popular algorithms and patterns in Python's `scikit-learn`."
   ]
  },
  {
   "cell_type": "markdown",
   "metadata": {},
   "source": [
    "# Learning goals\n",
    "\n",
    "\n",
    "## Theory\n",
    "\n",
    "* Machine Learning (ML) methods\n",
    "* Data preparation\n",
    "\n",
    "## Practical\n",
    "\n",
    "* Prepare your data\n",
    "* Use regression to find correlations between MMSE and hippocampus volume\n",
    "* Apply Random Forests to predict Alzheimer's disease based on volumetric measurements and other variables\n",
    "* Cluster with k-means to guess the thresholds used for MMSE-based diagnosis\n",
    "* Validate your models"
   ]
  },
  {
   "cell_type": "markdown",
   "metadata": {},
   "source": [
    "# References\n",
    "\n",
    "* ML:\n",
    "    * Random forest (RF): [http://ect.bell-labs.com/who/tkh/publications/papers/odt.pdf](http://ect.bell-labs.com/who/tkh/publications/papers/odt.pdf)\n",
    "    * Support vector machines (SVM): [https://link.springer.com/article/10.1007%2FBF00994018](https://link.springer.com/article/10.1007%2FBF00994018)\n",
    "    * Artificial neural networks (ANN): [https://www.frontiersin.org/research-topics/4817/artificial-neural-networks-as-models-of-neural-information-processing](https://www.frontiersin.org/research-topics/4817/artificial-neural-networks-as-models-of-neural-information-processing)\n",
    "* Performance: \n",
    "    * [Sensitivity and specificity (Wikipedia)](https://en.wikipedia.org/wiki/Sensitivity_and_specificity)\n",
    "    * [Roc curve and AUC (Wikipedia)](https://en.wikipedia.org/wiki/Receiver_operating_characteristic#Area_under_the_curve)\n",
    "* See also [this notebook by B. Merget](https://github.com/Team-SKI/Publications/tree/master/Profiling_prediction_of_kinase_inhibitors) from [*J. Med. Chem.*, 2017, 60, 474−485](https://pubs.acs.org/doi/10.1021/acs.jmedchem.6b01611) "
   ]
  },
  {
   "cell_type": "markdown",
   "metadata": {},
   "source": [
    "## Theory\n",
    "\n",
    "\n",
    "### Supervised vs unsupervised learning\n",
    "\n",
    "In supervised learning, the algorithm is fed data that is well labelled (e.g. classification); e.g. some of the data will be tagged with/as the correct answer. In unsupervised learning, the algorithm infers the labels (e.g. clustering).\n",
    "\n",
    "\n",
    "### Machine Learning (ML)\n",
    "\n",
    "ML can be applied for (see also [scikit-learn page](http://scikit-learn.org/stable/)):\n",
    "\n",
    "* **Classification (supervised)**: Identify to which category an object belongs (Nearest neighbors, Naive Bayes, RF, SVM, ...)\n",
    "* **Regression**: Prediction of a continuous-values attribute associated with an object\n",
    "* **Clustering (unsupervised)**: Automated grouping of similar objects into sets\n",
    "\n",
    "#### Supervised learning\n",
    "\n",
    "Learning algorithm creates rules by finding patterns in the training data. \n",
    "\n",
    "* **Decision trees**: A decision tree is a flowchart-like structure in which each internal node represents a \"test\" on an attribute, each branch represents the outcome of the test, and each leaf node represents a class label (decision taken after computing all attributes). The paths from root to leaf represent classification rules.\n",
    "* **Random Forest (RF)**: Multiple decision trees which produce a mean prediction.\n",
    "* **Support Vector Machines (SVM)**: SVMs can efficiently perform a non-linear classification using what is called the kernel trick, implicitly mapping their inputs into high-dimensional feature spaces. Classifier based on the idea of maximizing the margin as objective function.  \n",
    "\n",
    " \n",
    "#### Validation strategies\n",
    "\n",
    "All models must be validated before using them!\n",
    "\n",
    "__Train-test split__\n",
    "\n",
    "The data is split _beforehand_ in two sets:\n",
    "\n",
    "* The training set, which will be used to _train_ the model.\n",
    "* The testing set, which will be used to validate the answer provided by the trained model. This data shouldn't have been _seen_ by the model.\n",
    "\n",
    "There are several criteria to split the data into these two sets, but a common one is a random split where 20% of the data goes to the testing set and the remaining 80% goes to the training set. This is called a 80/20 split.\n",
    "\n",
    "__K-fold cross validation__\n",
    "\n",
    "This model validation technique splits the dataset in two groups in an iterative manner:\n",
    "\n",
    "* Training data set: Considered as the known dataset on which the model is trained\n",
    "* Test dataset: Unknown dataset on which the model is then tested\n",
    "* Process is repeated k-times\n",
    "\n",
    "The goal is to test the ability of the model to predict data which it has never seen before in order to flag problems known as over-fitting and to assess the generalization ability of the model.\n",
    "\n",
    "#### Performance measures\n",
    "\n",
    "Having defined a True Positive (TP), True Negative (TN), False Positive (FP) and False Negative (FN), we have:\n",
    "\n",
    "* **Sensitivity**, also true positive rate: TPR = TP/(FN+TP)\n",
    "* **Specificity**, also true negative rate: TNR = TN/(FP + TN)\n",
    "* **Accuracy**, also the trueness: ACC = (TP + TN)/(TP + TN + FP + FN)\n",
    "* **ROC-curve**, receiver operating characteristic curve\n",
    "    * A graphical plot that illustrates the diagnostic ability of our classifier\n",
    "    * Plots the sensitivity against the specificity\n",
    "* **AUC**, the area under the roc curve (AUC):  \n",
    "    * Describes the probability that a classifier will rank a randomly chosen positive instance higher than a negative one\n",
    "    * Values between 0 and 1, the higher the better\n"
   ]
  },
  {
   "cell_type": "markdown",
   "metadata": {},
   "source": [
    "### Data preparation\n",
    "\n",
    "Some algorithms will expect the data in a specific form so, before the models are trained and evaluated, the data needs to be formatted and sanitized accordingly. Perhaps surprisingly, this is often one of the trickiest parts in ML: getting good data and preparing it for the study!\n",
    "\n",
    "Some common tasks include:\n",
    "\n",
    "* Dropping non-numeric values\n",
    "* Cleaning unneeded columns\n",
    "* Standardizing labels and/or magnitudes\n",
    "* Normalizing ranges\n",
    "* Converting measurement units\n",
    "* Finding a good representation"
   ]
  },
  {
   "cell_type": "markdown",
   "metadata": {},
   "source": [
    "## Practical"
   ]
  },
  {
   "cell_type": "markdown",
   "metadata": {},
   "source": [
    "Some questions:\n",
    "\n",
    "* Classification: Is MMSE connected to Alzheimer's? MMSE is a 30-question test.\n",
    "* Classification: ADASQ4 would also be nice, but lots of NaN\n",
    "* DX is the simplified version. Use that instead of DX_bl.\n",
    "* Regression: Volumetric measurements, specially in the hippocampus + ventricles can correlate to dementia\n",
    "    * Does the hc volume correlate to questionnaire\n",
    "* Whole brain volumes should NOT correlate\n",
    "* Cluster by sex"
   ]
  },
  {
   "cell_type": "markdown",
   "metadata": {},
   "source": [
    "### Prepare your data\n",
    "\n",
    "Before we can use the supplied data, we need to select and transform the parts we are interested in. Then, we will perform a 80/20 split, leaving it ready for analysis."
   ]
  },
  {
   "cell_type": "code",
   "execution_count": 2,
   "metadata": {},
   "outputs": [],
   "source": [
    "import pandas as pd"
   ]
  },
  {
   "cell_type": "code",
   "execution_count": 3,
   "metadata": {},
   "outputs": [],
   "source": [
    "# Load data as cleaned in day two\n",
    "df = pd.read_csv(\"data/alzheimers_disease_reduced.csv\")"
   ]
  },
  {
   "cell_type": "code",
   "execution_count": 4,
   "metadata": {},
   "outputs": [
    {
     "name": "stdout",
     "output_type": "stream",
     "text": [
      "(14532, 49)\n",
      "<class 'pandas.core.frame.DataFrame'>\n",
      "RangeIndex: 14532 entries, 0 to 14531\n",
      "Data columns (total 49 columns):\n",
      "RID                      14532 non-null int64\n",
      "VISCODE                  14532 non-null object\n",
      "SITE                     14532 non-null int64\n",
      "EXAMDATE                 14532 non-null object\n",
      "AGE                      14529 non-null float64\n",
      "PTGENDER                 14532 non-null object\n",
      "PTEDUCAT                 14532 non-null int64\n",
      "WORK                     13892 non-null object\n",
      "PTETHCAT                 14532 non-null object\n",
      "PTRACCAT                 14532 non-null object\n",
      "PTMARRY                  14532 non-null object\n",
      "APOE4                    14312 non-null object\n",
      "FDG                      3631 non-null float64\n",
      "PIB                      223 non-null float64\n",
      "AV45                     2669 non-null float64\n",
      "ABETA                    2370 non-null object\n",
      "TAU                      2370 non-null object\n",
      "PTAU                     2369 non-null object\n",
      "CDRSB                    10431 non-null float64\n",
      "ADAS11                   10298 non-null float64\n",
      "ADAS13                   10203 non-null float64\n",
      "ADASQ4                   10324 non-null float64\n",
      "MMSE                     10341 non-null float64\n",
      "RAVLT_immediate          10215 non-null float64\n",
      "RAVLT_learning           10216 non-null float64\n",
      "RAVLT_forgetting         10188 non-null float64\n",
      "RAVLT_perc_forgetting    10116 non-null float64\n",
      "LDELTOTAL                8309 non-null float64\n",
      "DIGITSCOR                3801 non-null float64\n",
      "TRABSCOR                 9899 non-null float64\n",
      "FAQ                      10440 non-null float64\n",
      "MOCA                     6329 non-null float64\n",
      "FLDSTRENG                1 non-null float64\n",
      "IMAGEUID                 7952 non-null float64\n",
      "Ventricles               7446 non-null float64\n",
      "Hippocampus              6803 non-null float64\n",
      "WholeBrain               7690 non-null float64\n",
      "Entorhinal               6470 non-null float64\n",
      "Fusiform                 6470 non-null float64\n",
      "MidTemp                  6470 non-null float64\n",
      "ICV                      7954 non-null float64\n",
      "DX                       10293 non-null object\n",
      "mPACCdigit               10330 non-null object\n",
      "mPACCtrailsB             10332 non-null float64\n",
      "LDELTOTAL_BL             14523 non-null float64\n",
      "Month                    14532 non-null float64\n",
      "M                        14531 non-null float64\n",
      "update_stamp             14532 non-null object\n",
      "Unnamed: 109             3 non-null object\n",
      "dtypes: float64(31), int64(3), object(15)\n",
      "memory usage: 5.4+ MB\n",
      "None\n"
     ]
    },
    {
     "data": {
      "text/html": [
       "<div>\n",
       "<style scoped>\n",
       "    .dataframe tbody tr th:only-of-type {\n",
       "        vertical-align: middle;\n",
       "    }\n",
       "\n",
       "    .dataframe tbody tr th {\n",
       "        vertical-align: top;\n",
       "    }\n",
       "\n",
       "    .dataframe thead th {\n",
       "        text-align: right;\n",
       "    }\n",
       "</style>\n",
       "<table border=\"1\" class=\"dataframe\">\n",
       "  <thead>\n",
       "    <tr style=\"text-align: right;\">\n",
       "      <th></th>\n",
       "      <th>RID</th>\n",
       "      <th>VISCODE</th>\n",
       "      <th>SITE</th>\n",
       "      <th>EXAMDATE</th>\n",
       "      <th>AGE</th>\n",
       "      <th>PTGENDER</th>\n",
       "      <th>PTEDUCAT</th>\n",
       "      <th>WORK</th>\n",
       "      <th>PTETHCAT</th>\n",
       "      <th>PTRACCAT</th>\n",
       "      <th>...</th>\n",
       "      <th>MidTemp</th>\n",
       "      <th>ICV</th>\n",
       "      <th>DX</th>\n",
       "      <th>mPACCdigit</th>\n",
       "      <th>mPACCtrailsB</th>\n",
       "      <th>LDELTOTAL_BL</th>\n",
       "      <th>Month</th>\n",
       "      <th>M</th>\n",
       "      <th>update_stamp</th>\n",
       "      <th>Unnamed: 109</th>\n",
       "    </tr>\n",
       "  </thead>\n",
       "  <tbody>\n",
       "    <tr>\n",
       "      <th>0</th>\n",
       "      <td>128</td>\n",
       "      <td>bl</td>\n",
       "      <td>164</td>\n",
       "      <td>2005-09-08</td>\n",
       "      <td>74.2</td>\n",
       "      <td>Male</td>\n",
       "      <td>16</td>\n",
       "      <td>technical writer and editor</td>\n",
       "      <td>Not Hisp/Latino</td>\n",
       "      <td>White</td>\n",
       "      <td>...</td>\n",
       "      <td>27930.0</td>\n",
       "      <td>1984658.0</td>\n",
       "      <td>CN</td>\n",
       "      <td>-4.41005</td>\n",
       "      <td>-4.23545</td>\n",
       "      <td>10.0</td>\n",
       "      <td>0.0</td>\n",
       "      <td>0.0</td>\n",
       "      <td>2019-12-04 04:19:56.0</td>\n",
       "      <td>NaN</td>\n",
       "    </tr>\n",
       "    <tr>\n",
       "      <th>1</th>\n",
       "      <td>129</td>\n",
       "      <td>bl</td>\n",
       "      <td>164</td>\n",
       "      <td>2005-09-12</td>\n",
       "      <td>82.4</td>\n",
       "      <td>Male</td>\n",
       "      <td>18</td>\n",
       "      <td>Secretary</td>\n",
       "      <td>Not Hisp/Latino</td>\n",
       "      <td>White</td>\n",
       "      <td>...</td>\n",
       "      <td>18425.0</td>\n",
       "      <td>1920689.0</td>\n",
       "      <td>Dementia</td>\n",
       "      <td>-16.6244</td>\n",
       "      <td>-16.23320</td>\n",
       "      <td>2.0</td>\n",
       "      <td>0.0</td>\n",
       "      <td>0.0</td>\n",
       "      <td>2019-12-04 04:19:56.0</td>\n",
       "      <td>NaN</td>\n",
       "    </tr>\n",
       "    <tr>\n",
       "      <th>2</th>\n",
       "      <td>129</td>\n",
       "      <td>m06</td>\n",
       "      <td>164</td>\n",
       "      <td>2006-03-13</td>\n",
       "      <td>81.4</td>\n",
       "      <td>Male</td>\n",
       "      <td>18</td>\n",
       "      <td>Elementary school teacher</td>\n",
       "      <td>Not Hisp/Latino</td>\n",
       "      <td>White</td>\n",
       "      <td>...</td>\n",
       "      <td>16975.0</td>\n",
       "      <td>1906429.0</td>\n",
       "      <td>Dementia</td>\n",
       "      <td>-15.092</td>\n",
       "      <td>-13.49320</td>\n",
       "      <td>2.0</td>\n",
       "      <td>6.0</td>\n",
       "      <td>6.0</td>\n",
       "      <td>2019-12-04 04:19:56.0</td>\n",
       "      <td>NaN</td>\n",
       "    </tr>\n",
       "    <tr>\n",
       "      <th>3</th>\n",
       "      <td>129</td>\n",
       "      <td>m12</td>\n",
       "      <td>164</td>\n",
       "      <td>2006-09-12</td>\n",
       "      <td>81.3</td>\n",
       "      <td>Male</td>\n",
       "      <td>18</td>\n",
       "      <td>Communication</td>\n",
       "      <td>Not Hisp/Latino</td>\n",
       "      <td>White</td>\n",
       "      <td>...</td>\n",
       "      <td>17333.0</td>\n",
       "      <td>1903819.0</td>\n",
       "      <td>Dementia</td>\n",
       "      <td>-21.4587</td>\n",
       "      <td>-20.29090</td>\n",
       "      <td>2.0</td>\n",
       "      <td>12.0</td>\n",
       "      <td>12.0</td>\n",
       "      <td>2019-12-04 04:19:56.0</td>\n",
       "      <td>NaN</td>\n",
       "    </tr>\n",
       "    <tr>\n",
       "      <th>4</th>\n",
       "      <td>129</td>\n",
       "      <td>m24</td>\n",
       "      <td>164</td>\n",
       "      <td>2007-09-12</td>\n",
       "      <td>80.5</td>\n",
       "      <td>Male</td>\n",
       "      <td>18</td>\n",
       "      <td>Accounting</td>\n",
       "      <td>Not Hisp/Latino</td>\n",
       "      <td>White</td>\n",
       "      <td>...</td>\n",
       "      <td>16401.0</td>\n",
       "      <td>1903419.0</td>\n",
       "      <td>Dementia</td>\n",
       "      <td>-20.1324</td>\n",
       "      <td>-20.34260</td>\n",
       "      <td>2.0</td>\n",
       "      <td>24.0</td>\n",
       "      <td>24.0</td>\n",
       "      <td>2019-12-04 04:19:56.0</td>\n",
       "      <td>NaN</td>\n",
       "    </tr>\n",
       "  </tbody>\n",
       "</table>\n",
       "<p>5 rows × 49 columns</p>\n",
       "</div>"
      ],
      "text/plain": [
       "   RID VISCODE  SITE    EXAMDATE   AGE PTGENDER  PTEDUCAT  \\\n",
       "0  128      bl   164  2005-09-08  74.2     Male        16   \n",
       "1  129      bl   164  2005-09-12  82.4     Male        18   \n",
       "2  129     m06   164  2006-03-13  81.4     Male        18   \n",
       "3  129     m12   164  2006-09-12  81.3     Male        18   \n",
       "4  129     m24   164  2007-09-12  80.5     Male        18   \n",
       "\n",
       "                          WORK         PTETHCAT PTRACCAT  ...  MidTemp  \\\n",
       "0  technical writer and editor  Not Hisp/Latino    White  ...  27930.0   \n",
       "1                    Secretary  Not Hisp/Latino    White  ...  18425.0   \n",
       "2    Elementary school teacher  Not Hisp/Latino    White  ...  16975.0   \n",
       "3                Communication  Not Hisp/Latino    White  ...  17333.0   \n",
       "4                   Accounting  Not Hisp/Latino    White  ...  16401.0   \n",
       "\n",
       "         ICV        DX  mPACCdigit  mPACCtrailsB LDELTOTAL_BL Month     M  \\\n",
       "0  1984658.0        CN    -4.41005      -4.23545         10.0   0.0   0.0   \n",
       "1  1920689.0  Dementia    -16.6244     -16.23320          2.0   0.0   0.0   \n",
       "2  1906429.0  Dementia     -15.092     -13.49320          2.0   6.0   6.0   \n",
       "3  1903819.0  Dementia    -21.4587     -20.29090          2.0  12.0  12.0   \n",
       "4  1903419.0  Dementia    -20.1324     -20.34260          2.0  24.0  24.0   \n",
       "\n",
       "            update_stamp  Unnamed: 109  \n",
       "0  2019-12-04 04:19:56.0           NaN  \n",
       "1  2019-12-04 04:19:56.0           NaN  \n",
       "2  2019-12-04 04:19:56.0           NaN  \n",
       "3  2019-12-04 04:19:56.0           NaN  \n",
       "4  2019-12-04 04:19:56.0           NaN  \n",
       "\n",
       "[5 rows x 49 columns]"
      ]
     },
     "execution_count": 4,
     "metadata": {},
     "output_type": "execute_result"
    }
   ],
   "source": [
    "# Print some info\n",
    "print(df.shape)\n",
    "print(df.info())\n",
    "df.head()"
   ]
  },
  {
   "cell_type": "markdown",
   "metadata": {},
   "source": [
    "In `sklearn`, the naming convention states that:\n",
    "\n",
    "- `X` (uppercase) refers to the dataset containing the known data; e.g. MMSE scores, hippocampus volume\n",
    "- `y` (lowercase) refers to the labels (unknowns) of that data; e.g. diagnosis\n",
    "\n",
    "One of the first tasks you will need to do will be separating the dataframe into the useful parts for each question. For example:"
   ]
  },
  {
   "cell_type": "code",
   "execution_count": 5,
   "metadata": {},
   "outputs": [],
   "source": [
    "X = df['MMSE']\n",
    "y = df['DX']"
   ]
  },
  {
   "cell_type": "markdown",
   "metadata": {},
   "source": [
    "Before running to analyze the data, though, there are some quality check strategies we can consider. One of the easiest to implement is a test-train split; i.e. \"hide\" some of the data from the model as a \"test\" set which we'll use to verify if the predictions are useful outside the training set. One common split is 20% test, 80% train. The library `sklearn` contains an utility function for this precise action:"
   ]
  },
  {
   "cell_type": "code",
   "execution_count": 6,
   "metadata": {},
   "outputs": [],
   "source": [
    "from sklearn.model_selection import train_test_split\n",
    "X_train, X_test, y_train, y_test =  train_test_split(X, y, test_size=0.2)"
   ]
  },
  {
   "cell_type": "markdown",
   "metadata": {},
   "source": [
    "### Emergency data cleanup\n",
    "\n",
    "Never trust your data. Even if it's \"clean\", it can contain artifacts! Check `y`. It's supposed to contain three labels only (), but it contains more!"
   ]
  },
  {
   "cell_type": "code",
   "execution_count": 7,
   "metadata": {},
   "outputs": [
    {
     "data": {
      "text/plain": [
       "array(['CN', 'Dementia', 'MCI', nan, '1846260', '1600371'], dtype=object)"
      ]
     },
     "execution_count": 7,
     "metadata": {},
     "output_type": "execute_result"
    }
   ],
   "source": [
    "y.unique()"
   ]
  },
  {
   "cell_type": "markdown",
   "metadata": {},
   "source": [
    "Let's make sure the extra ones are dropped, because this column will be very important in this notebook."
   ]
  },
  {
   "cell_type": "code",
   "execution_count": 8,
   "metadata": {},
   "outputs": [
    {
     "data": {
      "text/plain": [
       "array(['CN', 'Dementia', 'MCI'], dtype=object)"
      ]
     },
     "execution_count": 8,
     "metadata": {},
     "output_type": "execute_result"
    }
   ],
   "source": [
    "df = df.query(\"DX in ('CN', 'Dementia', 'MCI')\").copy()\n",
    "df.DX.unique()"
   ]
  },
  {
   "cell_type": "markdown",
   "metadata": {},
   "source": [
    "### Use regression to find correlations between MMSE and hippocampus volume\n",
    "\n",
    "MMSE tests are used to diagnose AD. Low scoring participants are often diagnosed with some kind of cognitive impairment. Some literature references that a reduced hippocampus volume might correlate with some forms of dementia. Would you be able to find a correlation between MMSE scores and hippocampus volume? Let's see if we can find it with linear regression."
   ]
  },
  {
   "cell_type": "code",
   "execution_count": 9,
   "metadata": {},
   "outputs": [
    {
     "name": "stdout",
     "output_type": "stream",
     "text": [
      "(6103, 2)\n"
     ]
    },
    {
     "data": {
      "text/html": [
       "<div>\n",
       "<style scoped>\n",
       "    .dataframe tbody tr th:only-of-type {\n",
       "        vertical-align: middle;\n",
       "    }\n",
       "\n",
       "    .dataframe tbody tr th {\n",
       "        vertical-align: top;\n",
       "    }\n",
       "\n",
       "    .dataframe thead th {\n",
       "        text-align: right;\n",
       "    }\n",
       "</style>\n",
       "<table border=\"1\" class=\"dataframe\">\n",
       "  <thead>\n",
       "    <tr style=\"text-align: right;\">\n",
       "      <th></th>\n",
       "      <th>MMSE</th>\n",
       "      <th>Hippocampus</th>\n",
       "    </tr>\n",
       "  </thead>\n",
       "  <tbody>\n",
       "    <tr>\n",
       "      <th>count</th>\n",
       "      <td>6103.000000</td>\n",
       "      <td>6103.000000</td>\n",
       "    </tr>\n",
       "    <tr>\n",
       "      <th>mean</th>\n",
       "      <td>26.772735</td>\n",
       "      <td>6641.061773</td>\n",
       "    </tr>\n",
       "    <tr>\n",
       "      <th>std</th>\n",
       "      <td>3.659011</td>\n",
       "      <td>1246.072686</td>\n",
       "    </tr>\n",
       "    <tr>\n",
       "      <th>min</th>\n",
       "      <td>0.000000</td>\n",
       "      <td>2216.000000</td>\n",
       "    </tr>\n",
       "    <tr>\n",
       "      <th>25%</th>\n",
       "      <td>25.000000</td>\n",
       "      <td>5774.000000</td>\n",
       "    </tr>\n",
       "    <tr>\n",
       "      <th>50%</th>\n",
       "      <td>28.000000</td>\n",
       "      <td>6718.000000</td>\n",
       "    </tr>\n",
       "    <tr>\n",
       "      <th>75%</th>\n",
       "      <td>29.000000</td>\n",
       "      <td>7545.500000</td>\n",
       "    </tr>\n",
       "    <tr>\n",
       "      <th>max</th>\n",
       "      <td>30.000000</td>\n",
       "      <td>11207.000000</td>\n",
       "    </tr>\n",
       "  </tbody>\n",
       "</table>\n",
       "</div>"
      ],
      "text/plain": [
       "              MMSE   Hippocampus\n",
       "count  6103.000000   6103.000000\n",
       "mean     26.772735   6641.061773\n",
       "std       3.659011   1246.072686\n",
       "min       0.000000   2216.000000\n",
       "25%      25.000000   5774.000000\n",
       "50%      28.000000   6718.000000\n",
       "75%      29.000000   7545.500000\n",
       "max      30.000000  11207.000000"
      ]
     },
     "execution_count": 9,
     "metadata": {},
     "output_type": "execute_result"
    }
   ],
   "source": [
    "# clean the data\n",
    "regr_Xy = df[['MMSE', 'Hippocampus']].dropna()\n",
    "print(regr_Xy.shape)\n",
    "regr_Xy.describe()"
   ]
  },
  {
   "cell_type": "code",
   "execution_count": 10,
   "metadata": {},
   "outputs": [],
   "source": [
    "# define the data\n",
    "regr_X = regr_Xy['MMSE']\n",
    "regr_y = regr_Xy['Hippocampus']\n",
    "# split sets\n",
    "regr_X_train, regr_X_test, regr_y_train, regr_y_test =  train_test_split(regr_X, regr_y, test_size=0.2)"
   ]
  },
  {
   "cell_type": "markdown",
   "metadata": {},
   "source": [
    "Print some information about our data"
   ]
  },
  {
   "cell_type": "code",
   "execution_count": 11,
   "metadata": {},
   "outputs": [
    {
     "name": "stdout",
     "output_type": "stream",
     "text": [
      "(4882,)\n"
     ]
    },
    {
     "data": {
      "text/plain": [
       "4979    27.0\n",
       "369     29.0\n",
       "1581    30.0\n",
       "1632    28.0\n",
       "8302    26.0\n",
       "Name: MMSE, dtype: float64"
      ]
     },
     "execution_count": 11,
     "metadata": {},
     "output_type": "execute_result"
    }
   ],
   "source": [
    "print(regr_X_train.shape)\n",
    "regr_X_train.head()"
   ]
  },
  {
   "cell_type": "code",
   "execution_count": 12,
   "metadata": {},
   "outputs": [
    {
     "name": "stdout",
     "output_type": "stream",
     "text": [
      "(4882,)\n"
     ]
    },
    {
     "data": {
      "text/plain": [
       "4979    5671.0\n",
       "369     5452.0\n",
       "1581    5752.0\n",
       "1632    6420.0\n",
       "8302    6216.0\n",
       "Name: Hippocampus, dtype: float64"
      ]
     },
     "execution_count": 12,
     "metadata": {},
     "output_type": "execute_result"
    }
   ],
   "source": [
    "print(regr_y_train.shape)\n",
    "regr_y_train.head()"
   ]
  },
  {
   "cell_type": "markdown",
   "metadata": {},
   "source": [
    "`scikit-learn` has functions to perform regression, so we do not need to code that ourselves. It's just an `import` statement away!"
   ]
  },
  {
   "cell_type": "code",
   "execution_count": 13,
   "metadata": {},
   "outputs": [
    {
     "ename": "ValueError",
     "evalue": "Expected 2D array, got 1D array instead:\narray=[27. 29. 30. ... 21. 27. 29.].\nReshape your data either using array.reshape(-1, 1) if your data has a single feature or array.reshape(1, -1) if it contains a single sample.",
     "output_type": "error",
     "traceback": [
      "\u001b[0;31m---------------------------------------------------------------------------\u001b[0m",
      "\u001b[0;31mValueError\u001b[0m                                Traceback (most recent call last)",
      "\u001b[0;32m<ipython-input-13-b01dde0b48b4>\u001b[0m in \u001b[0;36m<module>\u001b[0;34m\u001b[0m\n\u001b[1;32m      3\u001b[0m \u001b[0mregressor\u001b[0m \u001b[0;34m=\u001b[0m \u001b[0mLinearRegression\u001b[0m\u001b[0;34m(\u001b[0m\u001b[0;34m)\u001b[0m\u001b[0;34m\u001b[0m\u001b[0;34m\u001b[0m\u001b[0m\n\u001b[1;32m      4\u001b[0m \u001b[0;31m# Fit the regressor to our training data\u001b[0m\u001b[0;34m\u001b[0m\u001b[0;34m\u001b[0m\u001b[0;34m\u001b[0m\u001b[0m\n\u001b[0;32m----> 5\u001b[0;31m \u001b[0mregressor\u001b[0m\u001b[0;34m.\u001b[0m\u001b[0mfit\u001b[0m\u001b[0;34m(\u001b[0m\u001b[0mregr_X_train\u001b[0m\u001b[0;34m,\u001b[0m \u001b[0mregr_y_train\u001b[0m\u001b[0;34m)\u001b[0m\u001b[0;34m\u001b[0m\u001b[0;34m\u001b[0m\u001b[0m\n\u001b[0m",
      "\u001b[0;32m~/.local/anaconda/envs/teachopencadd/lib/python3.6/site-packages/sklearn/linear_model/_base.py\u001b[0m in \u001b[0;36mfit\u001b[0;34m(self, X, y, sample_weight)\u001b[0m\n\u001b[1;32m    490\u001b[0m         \u001b[0mn_jobs_\u001b[0m \u001b[0;34m=\u001b[0m \u001b[0mself\u001b[0m\u001b[0;34m.\u001b[0m\u001b[0mn_jobs\u001b[0m\u001b[0;34m\u001b[0m\u001b[0;34m\u001b[0m\u001b[0m\n\u001b[1;32m    491\u001b[0m         X, y = check_X_y(X, y, accept_sparse=['csr', 'csc', 'coo'],\n\u001b[0;32m--> 492\u001b[0;31m                          y_numeric=True, multi_output=True)\n\u001b[0m\u001b[1;32m    493\u001b[0m \u001b[0;34m\u001b[0m\u001b[0m\n\u001b[1;32m    494\u001b[0m         \u001b[0;32mif\u001b[0m \u001b[0msample_weight\u001b[0m \u001b[0;32mis\u001b[0m \u001b[0;32mnot\u001b[0m \u001b[0;32mNone\u001b[0m\u001b[0;34m:\u001b[0m\u001b[0;34m\u001b[0m\u001b[0;34m\u001b[0m\u001b[0m\n",
      "\u001b[0;32m~/.local/anaconda/envs/teachopencadd/lib/python3.6/site-packages/sklearn/utils/validation.py\u001b[0m in \u001b[0;36mcheck_X_y\u001b[0;34m(X, y, accept_sparse, accept_large_sparse, dtype, order, copy, force_all_finite, ensure_2d, allow_nd, multi_output, ensure_min_samples, ensure_min_features, y_numeric, warn_on_dtype, estimator)\u001b[0m\n\u001b[1;32m    753\u001b[0m                     \u001b[0mensure_min_features\u001b[0m\u001b[0;34m=\u001b[0m\u001b[0mensure_min_features\u001b[0m\u001b[0;34m,\u001b[0m\u001b[0;34m\u001b[0m\u001b[0;34m\u001b[0m\u001b[0m\n\u001b[1;32m    754\u001b[0m                     \u001b[0mwarn_on_dtype\u001b[0m\u001b[0;34m=\u001b[0m\u001b[0mwarn_on_dtype\u001b[0m\u001b[0;34m,\u001b[0m\u001b[0;34m\u001b[0m\u001b[0;34m\u001b[0m\u001b[0m\n\u001b[0;32m--> 755\u001b[0;31m                     estimator=estimator)\n\u001b[0m\u001b[1;32m    756\u001b[0m     \u001b[0;32mif\u001b[0m \u001b[0mmulti_output\u001b[0m\u001b[0;34m:\u001b[0m\u001b[0;34m\u001b[0m\u001b[0;34m\u001b[0m\u001b[0m\n\u001b[1;32m    757\u001b[0m         y = check_array(y, 'csr', force_all_finite=True, ensure_2d=False,\n",
      "\u001b[0;32m~/.local/anaconda/envs/teachopencadd/lib/python3.6/site-packages/sklearn/utils/validation.py\u001b[0m in \u001b[0;36mcheck_array\u001b[0;34m(array, accept_sparse, accept_large_sparse, dtype, order, copy, force_all_finite, ensure_2d, allow_nd, ensure_min_samples, ensure_min_features, warn_on_dtype, estimator)\u001b[0m\n\u001b[1;32m    554\u001b[0m                     \u001b[0;34m\"Reshape your data either using array.reshape(-1, 1) if \"\u001b[0m\u001b[0;34m\u001b[0m\u001b[0;34m\u001b[0m\u001b[0m\n\u001b[1;32m    555\u001b[0m                     \u001b[0;34m\"your data has a single feature or array.reshape(1, -1) \"\u001b[0m\u001b[0;34m\u001b[0m\u001b[0;34m\u001b[0m\u001b[0m\n\u001b[0;32m--> 556\u001b[0;31m                     \"if it contains a single sample.\".format(array))\n\u001b[0m\u001b[1;32m    557\u001b[0m \u001b[0;34m\u001b[0m\u001b[0m\n\u001b[1;32m    558\u001b[0m         \u001b[0;31m# in the future np.flexible dtypes will be handled like object dtypes\u001b[0m\u001b[0;34m\u001b[0m\u001b[0;34m\u001b[0m\u001b[0;34m\u001b[0m\u001b[0m\n",
      "\u001b[0;31mValueError\u001b[0m: Expected 2D array, got 1D array instead:\narray=[27. 29. 30. ... 21. 27. 29.].\nReshape your data either using array.reshape(-1, 1) if your data has a single feature or array.reshape(1, -1) if it contains a single sample."
     ]
    }
   ],
   "source": [
    "from sklearn.linear_model import LinearRegression\n",
    "# Create the regressor \n",
    "regressor = LinearRegression()\n",
    "# Fit the regressor to our training data\n",
    "regressor.fit(regr_X_train, regr_y_train)"
   ]
  },
  {
   "cell_type": "markdown",
   "metadata": {},
   "source": [
    "Oops, we got an error! Fortunately, it is a very informative one that tells us how to fix it. The `LinearRegression` object supports several features per data point (several dimensions), so as a generalization the _shape_ of the array will be two-dimensional. We can fix that following the advice in the error message."
   ]
  },
  {
   "cell_type": "code",
   "execution_count": 14,
   "metadata": {},
   "outputs": [
    {
     "data": {
      "text/plain": [
       "LinearRegression(copy_X=True, fit_intercept=True, n_jobs=None, normalize=False)"
      ]
     },
     "execution_count": 14,
     "metadata": {},
     "output_type": "execute_result"
    }
   ],
   "source": [
    "from sklearn.linear_model import LinearRegression\n",
    "# Create the regressor \n",
    "regressor = LinearRegression()\n",
    "# Fit the regressor to our training data - tip: .values is the Numpy Array behind the dataframe!\n",
    "regressor.fit(regr_X_train.values.reshape(-1, 1), regr_y_train.values.reshape(-1, 1))"
   ]
  },
  {
   "cell_type": "markdown",
   "metadata": {},
   "source": [
    "__Exercise__\n",
    "\n",
    "What are the coefficients of the equation? Tip: Inspect the `regressor` object and print fill in the gaps in the following code:"
   ]
  },
  {
   "cell_type": "code",
   "execution_count": 15,
   "metadata": {},
   "outputs": [
    {
     "name": "stdout",
     "output_type": "stream",
     "text": [
      "The calculated linear equation is y = __COEFFICIENT__*x + __INTERCEPT__\n"
     ]
    }
   ],
   "source": [
    "print(f'The calculated linear equation is y = {\"__COEFFICIENT__\"}*x + {\"__INTERCEPT__\"}')"
   ]
  },
  {
   "cell_type": "markdown",
   "metadata": {},
   "source": [
    "<details>\n",
    "    <summary>Solution</summary>\n",
    "    \n",
    "```python\n",
    "print(f'The calculated linear equation is y = {regressor.coef_[0][0]:.3f}*x + {regressor.intercept_[0]:.3f}')  \n",
    "```\n",
    "</details>"
   ]
  },
  {
   "cell_type": "code",
   "execution_count": 16,
   "metadata": {},
   "outputs": [
    {
     "data": {
      "text/plain": [
       "array([[7012.12616115],\n",
       "       [7012.12616115],\n",
       "       [7174.15107063],\n",
       "       ...,\n",
       "       [5715.92688528],\n",
       "       [7174.15107063],\n",
       "       [6526.0514327 ]])"
      ]
     },
     "execution_count": 16,
     "metadata": {},
     "output_type": "execute_result"
    }
   ],
   "source": [
    "# Now we can _predict_ values! You could solve the equation with Python, but there's a convenient method in the `regressor`\n",
    "regr_y_predicted = regressor.predict(regr_X_test.values.reshape(-1, 1))\n",
    "regr_y_predicted"
   ]
  },
  {
   "cell_type": "markdown",
   "metadata": {},
   "source": [
    "How do the _predicted_ values compare to the _actual_ values? Let's measure some stats!"
   ]
  },
  {
   "cell_type": "code",
   "execution_count": 17,
   "metadata": {},
   "outputs": [
    {
     "name": "stdout",
     "output_type": "stream",
     "text": [
      "MSE: 1185036.4427928193 ; R2: 0.2566875115962818\n"
     ]
    }
   ],
   "source": [
    "from sklearn.metrics import mean_squared_error, r2_score\n",
    "regr_mse = mean_squared_error(regr_y_test, regr_y_predicted)\n",
    "regr_r2 = r2_score(regr_y_test, regr_y_predicted)\n",
    "print(\"MSE:\", regr_mse,\"; R2:\", regr_r2)"
   ]
  },
  {
   "cell_type": "markdown",
   "metadata": {},
   "source": [
    "Turns out it correlates _pretty_ bad. Let's try to see this in a plot. You should know how to do this by now."
   ]
  },
  {
   "cell_type": "markdown",
   "metadata": {},
   "source": [
    "<details>\n",
    "<summary>Solution</summary>\n",
    "   \n",
    "    \n",
    "```python\n",
    "from matplotlib import pyplot as plt\n",
    "fig, ax = plt.subplots()\n",
    "ax.scatter(X_test, y_test, c=\"grey\", marker='.')\n",
    "ax.plot(X_test, y_predicted, c=\"blue\", marker='_')\n",
    "ax.set_xlabel(\"MMSE\")\n",
    "ax.set_ylabel(\"Hippocampus\")\n",
    "ax.set_title(f\"y = {regressor.coef_[0][0]:.1f}x + {regressor.intercept_[0]:.1f}\");\n",
    "```\n",
    "    \n",
    "</details>"
   ]
  },
  {
   "cell_type": "markdown",
   "metadata": {},
   "source": [
    "The data is too spread for a good linear regression. You can infer some kind of _trend_ but that's not predictive enough."
   ]
  },
  {
   "cell_type": "markdown",
   "metadata": {},
   "source": [
    "### Apply Random Forests to predict Alzheimer's disease based on volumetric measurements and other variables\n",
    "\n",
    "Literature shows that some volumetric measurements on the brain has been shown to correlate with the development of the disease. Let's check if that's true.\n",
    "\n",
    "The dataset we are using contains information on several volumetric measurements. Namely:\n",
    "\n",
    "- Ventricles\n",
    "- Hippocampus\n",
    "- Entorhinal cortex\n",
    "- Fusiform gyrus\n",
    "\n",
    "Can those be accurate descriptors for AD?"
   ]
  },
  {
   "cell_type": "code",
   "execution_count": 18,
   "metadata": {},
   "outputs": [],
   "source": [
    "# Choose and clean the data\n",
    "rf_Xy = df[['Ventricles', 'Hippocampus', 'Entorhinal', 'Fusiform', 'DX']].dropna()\n",
    "rf_X = rf_Xy[['Ventricles', 'Hippocampus', 'Entorhinal', 'Fusiform']]\n",
    "rf_y = rf_Xy['DX']\n",
    "# Split\n",
    "rf_X_train, rf_X_test, rf_y_train, rf_y_test =  train_test_split(rf_X, rf_y, test_size=0.2)"
   ]
  },
  {
   "cell_type": "code",
   "execution_count": 19,
   "metadata": {},
   "outputs": [
    {
     "data": {
      "text/plain": [
       "RandomForestClassifier(bootstrap=True, ccp_alpha=0.0, class_weight=None,\n",
       "                       criterion='gini', max_depth=None, max_features='auto',\n",
       "                       max_leaf_nodes=None, max_samples=None,\n",
       "                       min_impurity_decrease=0.0, min_impurity_split=None,\n",
       "                       min_samples_leaf=1, min_samples_split=2,\n",
       "                       min_weight_fraction_leaf=0.0, n_estimators=100,\n",
       "                       n_jobs=None, oob_score=False, random_state=None,\n",
       "                       verbose=0, warm_start=False)"
      ]
     },
     "execution_count": 19,
     "metadata": {},
     "output_type": "execute_result"
    }
   ],
   "source": [
    "# Create the RandomForestClassifier\n",
    "from sklearn.ensemble import RandomForestClassifier\n",
    "rf_classifier = RandomForestClassifier()\n",
    "# Train the classifier - this takes longer!\n",
    "rf_classifier.fit(rf_X_train, rf_y_train)"
   ]
  },
  {
   "cell_type": "code",
   "execution_count": 20,
   "metadata": {},
   "outputs": [
    {
     "data": {
      "text/plain": [
       "array(['CN', 'Dementia', 'CN', ..., 'CN', 'Dementia', 'CN'], dtype=object)"
      ]
     },
     "execution_count": 20,
     "metadata": {},
     "output_type": "execute_result"
    }
   ],
   "source": [
    "# Let'see if it can predict AD based on this descriptors\n",
    "rf_y_predicted = rf_classifier.predict(rf_X_test)\n",
    "rf_y_predicted"
   ]
  },
  {
   "cell_type": "markdown",
   "metadata": {},
   "source": [
    "Mean squared errors or R-squared do not work with classifiers. We need other metrics! Intuitively, we might want to know the \"success rate\": how many data points we predicted accurately. This is a matter of comparing `y_test` and `y_predicted` and counting which values are equal."
   ]
  },
  {
   "cell_type": "code",
   "execution_count": 21,
   "metadata": {},
   "outputs": [
    {
     "name": "stdout",
     "output_type": "stream",
     "text": [
      "RF predicted 639 points out of 1095. This is a 58.36% success rate.\n"
     ]
    }
   ],
   "source": [
    "rf_ok = (rf_y_test == rf_y_predicted).sum()\n",
    "rf_total = rf_y_test.shape[0]\n",
    "rf_rate = 100 * rf_ok / rf_total\n",
    "print(f\"RF predicted {rf_ok} points out of {rf_total}. This is a {rf_rate:.2f}% success rate.\")"
   ]
  },
  {
   "cell_type": "code",
   "execution_count": 22,
   "metadata": {},
   "outputs": [
    {
     "name": "stdout",
     "output_type": "stream",
     "text": [
      "Score = 58.36%\n"
     ]
    }
   ],
   "source": [
    "# This can also be done with a builtin method! it will predict values for `X_test`\n",
    "# and return the success rate against `y_test`\n",
    "rf_score = rf_classifier.score(rf_X_test, rf_y_test)\n",
    "print(f\"Score = {100*rf_score:.2f}%\")"
   ]
  },
  {
   "cell_type": "markdown",
   "metadata": {},
   "source": [
    "Not impressive or informative... but RF is known to be sensitive to hyperparamaters. Maybe you can find a more successful combination?"
   ]
  },
  {
   "cell_type": "markdown",
   "metadata": {},
   "source": [
    "__Exercise__\n",
    "\n",
    "Read the [`RandomForestClassifier` docs](https://scikit-learn.org/stable/modules/generated/sklearn.ensemble.RandomForestClassifier.html) and play with the hyperparameters to improve the success rate. For examples, play with the number of estimators. What's the effect on the prediction rate and the runtime?"
   ]
  },
  {
   "cell_type": "code",
   "execution_count": 23,
   "metadata": {},
   "outputs": [
    {
     "name": "stdout",
     "output_type": "stream",
     "text": [
      "Score = 58.63%\n"
     ]
    }
   ],
   "source": [
    "rf_classifier_custom = RandomForestClassifier(n_estimators=100)\n",
    "# Do not modify below here\n",
    "rf_classifier_custom.fit(rf_X_train, rf_y_train)\n",
    "rf_custom_score = rf_classifier_custom.score(rf_X_test, rf_y_test)\n",
    "print(f\"Score = {100*rf_custom_score:.2f}%\")"
   ]
  },
  {
   "cell_type": "markdown",
   "metadata": {},
   "source": [
    "__Exercise__\n",
    "\n",
    "What if we try something simpler? MMSE scores _should_ be a good classifier for the diagnosed condition."
   ]
  },
  {
   "cell_type": "code",
   "execution_count": 24,
   "metadata": {},
   "outputs": [],
   "source": [
    "# define and clean\n",
    "mmse_Xy = df[['MMSE', 'DX']].dropna()\n",
    "mmse_X = mmse_Xy.MMSE.values.reshape(-1, 1)\n",
    "mmse_y = mmse_Xy.DX.values.reshape(-1, 1)\n",
    "# split\n",
    "mmse_X_train, mmse_X_test, mmse_y_train, mmse_y_test =  train_test_split(mmse_X, mmse_y, test_size=0.2)"
   ]
  },
  {
   "cell_type": "code",
   "execution_count": 25,
   "metadata": {},
   "outputs": [
    {
     "name": "stderr",
     "output_type": "stream",
     "text": [
      "/home/jaime/.local/anaconda/envs/teachopencadd/lib/python3.6/site-packages/ipykernel_launcher.py:3: DataConversionWarning: A column-vector y was passed when a 1d array was expected. Please change the shape of y to (n_samples,), for example using ravel().\n",
      "  This is separate from the ipykernel package so we can avoid doing imports until\n"
     ]
    },
    {
     "name": "stdout",
     "output_type": "stream",
     "text": [
      "Score = 65.12%\n"
     ]
    }
   ],
   "source": [
    "mmse_classifier_custom = RandomForestClassifier(n_estimators=100)\n",
    "# Do not modify below here\n",
    "mmse_classifier_custom.fit(mmse_X_train, mmse_y_train)\n",
    "mmse_custom_score = mmse_classifier_custom.score(mmse_X_test, mmse_y_test)\n",
    "print(f\"Score = {100*mmse_custom_score:.2f}%\")"
   ]
  },
  {
   "cell_type": "markdown",
   "metadata": {},
   "source": [
    "What if we add more variables? Maybe `AGE` can help?"
   ]
  },
  {
   "cell_type": "code",
   "execution_count": 26,
   "metadata": {},
   "outputs": [
    {
     "name": "stderr",
     "output_type": "stream",
     "text": [
      "/home/jaime/.local/anaconda/envs/teachopencadd/lib/python3.6/site-packages/ipykernel_launcher.py:9: DataConversionWarning: A column-vector y was passed when a 1d array was expected. Please change the shape of y to (n_samples,), for example using ravel().\n",
      "  if __name__ == '__main__':\n"
     ]
    },
    {
     "name": "stdout",
     "output_type": "stream",
     "text": [
      "Score = 63.25%\n"
     ]
    }
   ],
   "source": [
    "# define and clean\n",
    "age_mmse_Xy = df[['MMSE', 'AGE', 'DX']].dropna()\n",
    "age_mmse_X = age_mmse_Xy.MMSE.values.reshape(-1, 1)\n",
    "age_mmse_y = age_mmse_Xy.DX.values.reshape(-1, 1)\n",
    "# split\n",
    "age_mmse_X_train, age_mmse_X_test, age_mmse_y_train, age_mmse_y_test =  train_test_split(age_mmse_X, age_mmse_y, test_size=0.2)\n",
    "age_mmse_classifier_custom = RandomForestClassifier(n_estimators=100)\n",
    "# Do not modify below here\n",
    "age_mmse_classifier_custom.fit(age_mmse_X_train, age_mmse_y_train)\n",
    "age_mmse_custom_score = mmse_classifier_custom.score(age_mmse_X_test, age_mmse_y_test)\n",
    "print(f\"Score = {100*age_mmse_custom_score:.2f}%\")"
   ]
  },
  {
   "cell_type": "markdown",
   "metadata": {},
   "source": [
    "### Cluster with k-means to guess the thresholds used for MMSE-based diagnosis\n",
    "\n",
    "MMSE tests propose five categories of diagnosis with respect to the scores obtained by the patient. Do you think we can \"learn\" the thresholds to these five categories with ML methods? One possible approach would be composing a distance metric out of our known descriptors and _clustering_ the data points by that distance. One way of doing that is through [dimensionality reduction]() algorithms, such as Principal Component Analysis (PCA). Do not worry if you do not fully understand how they work, this exercise is an excuse to make you familiar with all these methods. All of them are available in `scikit-learn`, so you don't need to implement any complicated math.\n",
    "\n",
    "There are three main steps\n",
    "\n",
    "1. Fit MMSE and all volumetric data we have used so far to the PCA algorithm.\n",
    "2. Cluster the data points with k-means using the first dimension of PCA\n",
    "3. Plot and label the data points and see if they can -see- they five or three groups"
   ]
  },
  {
   "cell_type": "code",
   "execution_count": 68,
   "metadata": {},
   "outputs": [
    {
     "name": "stdout",
     "output_type": "stream",
     "text": [
      "(5467, 6)\n"
     ]
    },
    {
     "data": {
      "text/html": [
       "<div>\n",
       "<style scoped>\n",
       "    .dataframe tbody tr th:only-of-type {\n",
       "        vertical-align: middle;\n",
       "    }\n",
       "\n",
       "    .dataframe tbody tr th {\n",
       "        vertical-align: top;\n",
       "    }\n",
       "\n",
       "    .dataframe thead th {\n",
       "        text-align: right;\n",
       "    }\n",
       "</style>\n",
       "<table border=\"1\" class=\"dataframe\">\n",
       "  <thead>\n",
       "    <tr style=\"text-align: right;\">\n",
       "      <th></th>\n",
       "      <th>MMSE</th>\n",
       "      <th>Ventricles</th>\n",
       "      <th>Hippocampus</th>\n",
       "      <th>Entorhinal</th>\n",
       "      <th>Fusiform</th>\n",
       "      <th>DX</th>\n",
       "    </tr>\n",
       "  </thead>\n",
       "  <tbody>\n",
       "    <tr>\n",
       "      <th>0</th>\n",
       "      <td>28.0</td>\n",
       "      <td>118226.0</td>\n",
       "      <td>8340.0</td>\n",
       "      <td>4182.0</td>\n",
       "      <td>16562.0</td>\n",
       "      <td>CN</td>\n",
       "    </tr>\n",
       "    <tr>\n",
       "      <th>1</th>\n",
       "      <td>20.0</td>\n",
       "      <td>84599.0</td>\n",
       "      <td>5318.0</td>\n",
       "      <td>1790.0</td>\n",
       "      <td>15507.0</td>\n",
       "      <td>Dementia</td>\n",
       "    </tr>\n",
       "    <tr>\n",
       "      <th>2</th>\n",
       "      <td>24.0</td>\n",
       "      <td>88580.0</td>\n",
       "      <td>5445.0</td>\n",
       "      <td>2426.0</td>\n",
       "      <td>14401.0</td>\n",
       "      <td>Dementia</td>\n",
       "    </tr>\n",
       "    <tr>\n",
       "      <th>3</th>\n",
       "      <td>17.0</td>\n",
       "      <td>90099.0</td>\n",
       "      <td>5156.0</td>\n",
       "      <td>1595.0</td>\n",
       "      <td>14618.0</td>\n",
       "      <td>Dementia</td>\n",
       "    </tr>\n",
       "    <tr>\n",
       "      <th>4</th>\n",
       "      <td>19.0</td>\n",
       "      <td>97420.0</td>\n",
       "      <td>5138.0</td>\n",
       "      <td>1174.0</td>\n",
       "      <td>14034.0</td>\n",
       "      <td>Dementia</td>\n",
       "    </tr>\n",
       "  </tbody>\n",
       "</table>\n",
       "</div>"
      ],
      "text/plain": [
       "   MMSE  Ventricles  Hippocampus  Entorhinal  Fusiform        DX\n",
       "0  28.0    118226.0       8340.0      4182.0   16562.0        CN\n",
       "1  20.0     84599.0       5318.0      1790.0   15507.0  Dementia\n",
       "2  24.0     88580.0       5445.0      2426.0   14401.0  Dementia\n",
       "3  17.0     90099.0       5156.0      1595.0   14618.0  Dementia\n",
       "4  19.0     97420.0       5138.0      1174.0   14034.0  Dementia"
      ]
     },
     "execution_count": 68,
     "metadata": {},
     "output_type": "execute_result"
    }
   ],
   "source": [
    "# define data\n",
    "kmeans_Xy = df[['MMSE', 'Ventricles', 'Hippocampus', 'Entorhinal', 'Fusiform', 'DX']].dropna()\n",
    "kmeans_X = kmeans_Xy[['MMSE', 'Ventricles', 'Hippocampus', 'Entorhinal', 'Fusiform']]\n",
    "kmeans_y = kmeans_Xy['DX']\n",
    "print(kmeans_Xy.shape)\n",
    "kmeans_Xy.head()"
   ]
  },
  {
   "cell_type": "code",
   "execution_count": 69,
   "metadata": {},
   "outputs": [],
   "source": [
    "from sklearn.decomposition import PCA\n",
    "pca = PCA(n_components=2)\n",
    "reduced_X = pca.fit_transform(kmeans_X)"
   ]
  },
  {
   "cell_type": "code",
   "execution_count": 70,
   "metadata": {},
   "outputs": [
    {
     "data": {
      "text/plain": [
       "<matplotlib.axes._subplots.AxesSubplot at 0x7f852c243dd8>"
      ]
     },
     "execution_count": 70,
     "metadata": {},
     "output_type": "execute_result"
    },
    {
     "data": {
      "image/png": "[encoded data removed]",
      "text/plain": [
       "<Figure size 432x288 with 1 Axes>"
      ]
     },
     "metadata": {
      "needs_background": "light"
     },
     "output_type": "display_data"
    }
   ],
   "source": [
    "# Preview the PCA data in a scatter plot\n",
    "from matplotlib import pyplot as plt\n",
    "fig, ax = plt.subplots()\n",
    "ax.scatter(reduced_X[:, 0], reduced_X[:, 1], marker='.')\n",
    "ax"
   ]
  },
  {
   "cell_type": "markdown",
   "metadata": {},
   "source": [
    "There is no easy way to infer five groups in this data cloud. Most probably, _k-means clustering_ won't provide any useful information either."
   ]
  },
  {
   "cell_type": "code",
   "execution_count": 73,
   "metadata": {},
   "outputs": [],
   "source": [
    "from sklearn.cluster import KMeans\n",
    "kmeans = KMeans(n_clusters=len(kmeans_y.unique()))\n",
    "clustered_X = kmeans.fit_transform(reduced_X)"
   ]
  },
  {
   "cell_type": "code",
   "execution_count": 74,
   "metadata": {},
   "outputs": [
    {
     "name": "stdout",
     "output_type": "stream",
     "text": [
      "{'CN': 'r', 'Dementia': 'g', 'MCI': 'b'}\n"
     ]
    },
    {
     "data": {
      "image/png": "[encoded data removed]",
      "text/plain": [
       "<Figure size 432x288 with 1 Axes>"
      ]
     },
     "metadata": {
      "needs_background": "light"
     },
     "output_type": "display_data"
    }
   ],
   "source": [
    "fig, ax = plt.subplots()\n",
    "colormap = {label: color for label, color in zip(kmeans_y.unique(), 'rgbyp')}\n",
    "colors = [colormap[label] for label in kmeans_y]\n",
    "ax.scatter(reduced_X[:, 0], reduced_X[:, 1], marker='.', c=colors)\n",
    "ax.scatter(kmeans.cluster_centers_[:, 0], kmeans.cluster_centers_[:, 1], \n",
    "           marker='X', s=200, color='black', zorder=10)\n",
    "print(colormap)"
   ]
  },
  {
   "cell_type": "markdown",
   "metadata": {},
   "source": [
    "If we label the data points by their known label, we can see PCA cannot explain the differences. Naturally, clustering won't be able to infer this either!"
   ]
  },
  {
   "cell_type": "markdown",
   "metadata": {},
   "source": [
    "### Evaluate your models\n",
    "\n",
    "In each model we have measured the performance with different metrics:\n",
    "\n",
    "- Regression can be assessed with MSE (mean squared error) and r-squared (the closer to 1, the better).\n",
    "- Classification can be measured with the success rate (number of labels we have successfully predicted).\n",
    "\n",
    "A _successful prediction_ is only one of the possible outcomes of a prediction. A generalization of these outcomes is done with four classes:\n",
    "\n",
    "- True positive\n",
    "- False positive\n",
    "- True negative\n",
    "- False negative\n",
    "\n",
    "We normally present these four values in a confusion matrix:\n",
    "\n",
    "<img src=\"images/confusion_matrix.png\" />\n",
    "\n",
    "<img src=\"images/confusion_matrix_pregnancy.png\" />\n"
   ]
  },
  {
   "cell_type": "markdown",
   "metadata": {},
   "source": [
    "__Exercise__\n",
    "\n",
    "Normally these are used with two values (e.g. active vs inactive), but we can generalize to several labels. As expected, `scikit-learn` (version 0.22 or greater!) has utility functions to help us. Let's use the Random Forest classifier for as an example."
   ]
  },
  {
   "cell_type": "code",
   "execution_count": null,
   "metadata": {},
   "outputs": [],
   "source": [
    "from sklearn.metrics import plot_confusion_matrix\n",
    "# Check the documentation to know what variables to use!\n",
    "plot_confusion_matrix?"
   ]
  },
  {
   "cell_type": "markdown",
   "metadata": {},
   "source": [
    "<details>\n",
    "<summary>Solution</summary>\n",
    "    \n",
    "```python\n",
    "plot_confusion_matrix(rf_classifier, rf_X_test, rf_y_test, normalize='all')\n",
    "```\n",
    "    \n",
    "</details>"
   ]
  },
  {
   "cell_type": "markdown",
   "metadata": {},
   "source": [
    "Another method to evaluate your models is the Area Under the Curve (AUC) of the Receiver Operating Characteristics (ROC). The higher the AUC (closer to 1.0), the better!\n",
    "\n",
    "<img width=\"400\" height=\"auto\" src=\"images/rocs.png\" />\n",
    "\n",
    "* A. Ideal ROC (1.0)\n",
    "* B. Good ROC (> 0.5, close to 1.0)\n",
    "* C. Unhelpful ROC (0.5, as valuable as a random prediction)\n",
    "* D. Worst ROC (0.0, all predictions are wrong)"
   ]
  },
  {
   "cell_type": "markdown",
   "metadata": {},
   "source": [
    "__Advanced exercise__\n",
    "\n",
    "Calculate and plot the ROC for the RF multiclass classification. There is some code in `scikit-learn` documentation [here](https://scikit-learn.org/stable/auto_examples/model_selection/plot_roc.html). This is non-trivial!"
   ]
  },
  {
   "cell_type": "markdown",
   "metadata": {},
   "source": [
    "### Validate your models\n",
    "\n",
    "If you have been trying different results, you might have noticed that the results can change slightly in every attempt. How do we make sure that our good results are not just a byproduct of mere luck? How can we be sure the results are consistently valid? The answer is cross-validation: running the calculation several times and applying some statistics!\n",
    "\n"
   ]
  },
  {
   "cell_type": "code",
   "execution_count": 76,
   "metadata": {},
   "outputs": [
    {
     "name": "stdout",
     "output_type": "stream",
     "text": [
      "Avg accuracy is 0.50 (+/-0.07)\n"
     ]
    }
   ],
   "source": [
    "# import the CV helper, 10-fold\n",
    "from sklearn.model_selection import cross_val_score\n",
    "scores = cross_val_score(rf_classifier, rf_X, rf_y, cv=10)\n",
    "print(f\"Avg accuracy is {scores.mean():.2f} (+/-{2*scores.std():.2f})\")"
   ]
  },
  {
   "cell_type": "markdown",
   "metadata": {},
   "source": [
    "This is why CV is _so_ important! We might have had the impression that our RF classifier was, at least, slightly better than random, but that doesn't seem to be the case _at all_."
   ]
  },
  {
   "cell_type": "markdown",
   "metadata": {},
   "source": [
    "# Discussion\n",
    "\n",
    "Machine Learning methods can help put numbers to at-first-thought intuitive relationships between variables. While one can be tricked into _tuning_ a model to best perform at predictive levels, it is of utmost importance to evaluate _and_ validate such models with the techniques above mentioned."
   ]
  },
  {
   "cell_type": "markdown",
   "metadata": {},
   "source": [
    "# Quiz\n",
    "\n",
    "1. Can you assume all data will be immediately ready for processing? What kind of preprocessing tasks do you need to perform if needed? Is this a trivial step that can be done until data is _good enough_ or would you consider a key step in the ML pipeline?\n",
    "2. Any classifier can perform well if you tune the hyperparameters to your data. Is this statement true or false? If true, would you consider that part of the best practices in ML?\n",
    "3. Try to setup a classification model that can predict Alzheimer's disease better than random."
   ]
  }
 ],
 "metadata": {
  "gist": {
   "data": {
    "description": "CADDSeminar_2018/CADD_course_talktorial_template.ipynb",
    "public": false
   },
   "id": ""
  },
  "kernelspec": {
   "display_name": "Python 3",
   "language": "python",
   "name": "python3"
  },
  "language_info": {
   "codemirror_mode": {
    "name": "ipython",
    "version": 3
   },
   "file_extension": ".py",
   "mimetype": "text/x-python",
   "name": "python",
   "nbconvert_exporter": "python",
   "pygments_lexer": "ipython3",
   "version": "3.6.7"
  }
 },
 "nbformat": 4,
 "nbformat_minor": 4
}
