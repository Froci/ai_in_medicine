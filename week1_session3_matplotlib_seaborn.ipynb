{
 "cells": [
  {
   "cell_type": "markdown",
   "metadata": {
    "slideshow": {
     "slide_type": "-"
    }
   },
   "source": [
    "# AI in Medicine: Data Science - Basics II"
   ]
  },
  {
   "cell_type": "markdown",
   "metadata": {
    "slideshow": {
     "slide_type": "-"
    }
   },
   "source": [
    "*Instructor:* Moritz Seiler, AG Ritter, Charité - Universitätsmedizin Berlin (moritz.seiler@charite.de) <br>\n",
    "*Target audience:* Medical students from Charité<br>\n",
    "*Course date:* July 2020"
   ]
  },
  {
   "cell_type": "markdown",
   "metadata": {},
   "source": [
    "This notebook introduces **data visualisation** in Python with ***matplotlib***.\n"
   ]
  },
  {
   "cell_type": "markdown",
   "metadata": {},
   "source": [
    "**First, please make sure, that you're using the Python 3/3.6 kernel!** You can check that in the top right corner of your browser window. If you're using a different Version, go to the Tab 'Kernel' --> 'Change Kernel' and select the correct kernel."
   ]
  },
  {
   "cell_type": "markdown",
   "metadata": {
    "slideshow": {
     "slide_type": "-"
    }
   },
   "source": [
    "*Data set*\n",
    "\n",
    "*matplotlib*\n",
    "- Basics in *matplotlib*\n",
    "- Generating a figure\n",
    "- Examples of different visualisation methods\n",
    "- Save plot\n",
    "- Exercises"
   ]
  },
  {
   "cell_type": "markdown",
   "metadata": {},
   "source": [
    "## Data set"
   ]
  },
  {
   "cell_type": "markdown",
   "metadata": {},
   "source": [
    "The data we are using in this tutorial is the RKI Covid-19 data set that you already know from the previous tutorials.<br>\n",
    "\n",
    "*Source:<br> Robert Koch-Institut (RKI), dl-de/by-2-0*"
   ]
  },
  {
   "cell_type": "code",
   "execution_count": 119,
   "metadata": {},
   "outputs": [],
   "source": [
    "# Import the Pandas and NumPy library\n",
    "import pandas as pd\n",
    "import numpy as np\n",
    "\n",
    "# Read in the RKI Covid-19 data set\n",
    "covid19 = pd.read_csv('../RKI_COVID19.csv')\n",
    "covid19['Meldedatum'] = pd.to_datetime(covid19['Meldedatum'])"
   ]
  },
  {
   "cell_type": "code",
   "execution_count": 120,
   "metadata": {},
   "outputs": [
    {
     "data": {
      "text/html": [
       "<div>\n",
       "<style scoped>\n",
       "    .dataframe tbody tr th:only-of-type {\n",
       "        vertical-align: middle;\n",
       "    }\n",
       "\n",
       "    .dataframe tbody tr th {\n",
       "        vertical-align: top;\n",
       "    }\n",
       "\n",
       "    .dataframe thead th {\n",
       "        text-align: right;\n",
       "    }\n",
       "</style>\n",
       "<table border=\"1\" class=\"dataframe\">\n",
       "  <thead>\n",
       "    <tr style=\"text-align: right;\">\n",
       "      <th></th>\n",
       "      <th>ObjectId</th>\n",
       "      <th>IdBundesland</th>\n",
       "      <th>Bundesland</th>\n",
       "      <th>Landkreis</th>\n",
       "      <th>Altersgruppe</th>\n",
       "      <th>Geschlecht</th>\n",
       "      <th>AnzahlFall</th>\n",
       "      <th>AnzahlTodesfall</th>\n",
       "      <th>Meldedatum</th>\n",
       "      <th>IdLandkreis</th>\n",
       "      <th>Datenstand</th>\n",
       "      <th>NeuerFall</th>\n",
       "      <th>NeuerTodesfall</th>\n",
       "      <th>Refdatum</th>\n",
       "      <th>NeuGenesen</th>\n",
       "      <th>AnzahlGenesen</th>\n",
       "      <th>IstErkrankungsbeginn</th>\n",
       "      <th>Altersgruppe2</th>\n",
       "    </tr>\n",
       "  </thead>\n",
       "  <tbody>\n",
       "    <tr>\n",
       "      <th>0</th>\n",
       "      <td>14706817</td>\n",
       "      <td>1</td>\n",
       "      <td>Schleswig-Holstein</td>\n",
       "      <td>SK Flensburg</td>\n",
       "      <td>A15-A34</td>\n",
       "      <td>M</td>\n",
       "      <td>1</td>\n",
       "      <td>0</td>\n",
       "      <td>2020-03-14</td>\n",
       "      <td>1001</td>\n",
       "      <td>29.06.2020, 00:00 Uhr</td>\n",
       "      <td>0</td>\n",
       "      <td>-9</td>\n",
       "      <td>2020/03/16 00:00:00</td>\n",
       "      <td>0</td>\n",
       "      <td>1</td>\n",
       "      <td>1</td>\n",
       "      <td>Nicht übermittelt</td>\n",
       "    </tr>\n",
       "    <tr>\n",
       "      <th>1</th>\n",
       "      <td>14706818</td>\n",
       "      <td>1</td>\n",
       "      <td>Schleswig-Holstein</td>\n",
       "      <td>SK Flensburg</td>\n",
       "      <td>A15-A34</td>\n",
       "      <td>M</td>\n",
       "      <td>1</td>\n",
       "      <td>0</td>\n",
       "      <td>2020-03-19</td>\n",
       "      <td>1001</td>\n",
       "      <td>29.06.2020, 00:00 Uhr</td>\n",
       "      <td>0</td>\n",
       "      <td>-9</td>\n",
       "      <td>2020/03/13 00:00:00</td>\n",
       "      <td>0</td>\n",
       "      <td>1</td>\n",
       "      <td>1</td>\n",
       "      <td>Nicht übermittelt</td>\n",
       "    </tr>\n",
       "    <tr>\n",
       "      <th>2</th>\n",
       "      <td>14706819</td>\n",
       "      <td>1</td>\n",
       "      <td>Schleswig-Holstein</td>\n",
       "      <td>SK Flensburg</td>\n",
       "      <td>A15-A34</td>\n",
       "      <td>M</td>\n",
       "      <td>1</td>\n",
       "      <td>0</td>\n",
       "      <td>2020-03-19</td>\n",
       "      <td>1001</td>\n",
       "      <td>29.06.2020, 00:00 Uhr</td>\n",
       "      <td>0</td>\n",
       "      <td>-9</td>\n",
       "      <td>2020/03/16 00:00:00</td>\n",
       "      <td>0</td>\n",
       "      <td>1</td>\n",
       "      <td>1</td>\n",
       "      <td>Nicht übermittelt</td>\n",
       "    </tr>\n",
       "    <tr>\n",
       "      <th>3</th>\n",
       "      <td>14706820</td>\n",
       "      <td>1</td>\n",
       "      <td>Schleswig-Holstein</td>\n",
       "      <td>SK Flensburg</td>\n",
       "      <td>A15-A34</td>\n",
       "      <td>M</td>\n",
       "      <td>1</td>\n",
       "      <td>0</td>\n",
       "      <td>2020-03-21</td>\n",
       "      <td>1001</td>\n",
       "      <td>29.06.2020, 00:00 Uhr</td>\n",
       "      <td>0</td>\n",
       "      <td>-9</td>\n",
       "      <td>2020/03/13 00:00:00</td>\n",
       "      <td>0</td>\n",
       "      <td>1</td>\n",
       "      <td>1</td>\n",
       "      <td>Nicht übermittelt</td>\n",
       "    </tr>\n",
       "    <tr>\n",
       "      <th>4</th>\n",
       "      <td>14706821</td>\n",
       "      <td>1</td>\n",
       "      <td>Schleswig-Holstein</td>\n",
       "      <td>SK Flensburg</td>\n",
       "      <td>A15-A34</td>\n",
       "      <td>M</td>\n",
       "      <td>1</td>\n",
       "      <td>0</td>\n",
       "      <td>2020-03-27</td>\n",
       "      <td>1001</td>\n",
       "      <td>29.06.2020, 00:00 Uhr</td>\n",
       "      <td>0</td>\n",
       "      <td>-9</td>\n",
       "      <td>2020/03/22 00:00:00</td>\n",
       "      <td>0</td>\n",
       "      <td>1</td>\n",
       "      <td>1</td>\n",
       "      <td>Nicht übermittelt</td>\n",
       "    </tr>\n",
       "  </tbody>\n",
       "</table>\n",
       "</div>"
      ],
      "text/plain": [
       "   ObjectId  IdBundesland          Bundesland     Landkreis Altersgruppe  \\\n",
       "0  14706817             1  Schleswig-Holstein  SK Flensburg      A15-A34   \n",
       "1  14706818             1  Schleswig-Holstein  SK Flensburg      A15-A34   \n",
       "2  14706819             1  Schleswig-Holstein  SK Flensburg      A15-A34   \n",
       "3  14706820             1  Schleswig-Holstein  SK Flensburg      A15-A34   \n",
       "4  14706821             1  Schleswig-Holstein  SK Flensburg      A15-A34   \n",
       "\n",
       "  Geschlecht  AnzahlFall  AnzahlTodesfall Meldedatum  IdLandkreis  \\\n",
       "0          M           1                0 2020-03-14         1001   \n",
       "1          M           1                0 2020-03-19         1001   \n",
       "2          M           1                0 2020-03-19         1001   \n",
       "3          M           1                0 2020-03-21         1001   \n",
       "4          M           1                0 2020-03-27         1001   \n",
       "\n",
       "              Datenstand  NeuerFall  NeuerTodesfall             Refdatum  \\\n",
       "0  29.06.2020, 00:00 Uhr          0              -9  2020/03/16 00:00:00   \n",
       "1  29.06.2020, 00:00 Uhr          0              -9  2020/03/13 00:00:00   \n",
       "2  29.06.2020, 00:00 Uhr          0              -9  2020/03/16 00:00:00   \n",
       "3  29.06.2020, 00:00 Uhr          0              -9  2020/03/13 00:00:00   \n",
       "4  29.06.2020, 00:00 Uhr          0              -9  2020/03/22 00:00:00   \n",
       "\n",
       "   NeuGenesen  AnzahlGenesen  IstErkrankungsbeginn      Altersgruppe2  \n",
       "0           0              1                     1  Nicht übermittelt  \n",
       "1           0              1                     1  Nicht übermittelt  \n",
       "2           0              1                     1  Nicht übermittelt  \n",
       "3           0              1                     1  Nicht übermittelt  \n",
       "4           0              1                     1  Nicht übermittelt  "
      ]
     },
     "execution_count": 120,
     "metadata": {},
     "output_type": "execute_result"
    }
   ],
   "source": [
    "covid19.head()"
   ]
  },
  {
   "cell_type": "code",
   "execution_count": 121,
   "metadata": {},
   "outputs": [
    {
     "data": {
      "text/plain": [
       "Index(['ObjectId', 'IdBundesland', 'Bundesland', 'Landkreis', 'Altersgruppe',\n",
       "       'Geschlecht', 'AnzahlFall', 'AnzahlTodesfall', 'Meldedatum',\n",
       "       'IdLandkreis', 'Datenstand', 'NeuerFall', 'NeuerTodesfall', 'Refdatum',\n",
       "       'NeuGenesen', 'AnzahlGenesen', 'IstErkrankungsbeginn', 'Altersgruppe2'],\n",
       "      dtype='object')"
      ]
     },
     "execution_count": 121,
     "metadata": {},
     "output_type": "execute_result"
    }
   ],
   "source": [
    "covid19.columns"
   ]
  },
  {
   "cell_type": "markdown",
   "metadata": {
    "slideshow": {
     "slide_type": "-"
    }
   },
   "source": [
    "## *matplotlib*"
   ]
  },
  {
   "cell_type": "markdown",
   "metadata": {},
   "source": [
    "Matplotlib is a Python 2D plotting library which produces publication-quality figures. It was designed to serve two purposes:\n",
    "\n",
    "1) allow for interactive, cross-platform control of figures and plots,<br>\n",
    "2) make it easy to produce static raster or vector graphics files without the need for any GUIs.   \n",
    "\n",
    "<br><br>\n",
    "\n",
    "<center><i>\"Matplotlib tries to make easy things easy and hard things possible.\"</center>\n",
    "    \n",
    "<img src=\"https://matplotlib.org/_static/logo2_compressed.svg\" width=\"40%\">\n",
    "\n",
    "*Source: https://matplotlib.org/_static/logo2_compressed.svg*"
   ]
  },
  {
   "cell_type": "markdown",
   "metadata": {
    "slideshow": {
     "slide_type": "-"
    }
   },
   "source": [
    "### Installation"
   ]
  },
  {
   "cell_type": "markdown",
   "metadata": {},
   "source": [
    "For an installation of the *matplotlib* library, you have to enter the following command in the terminal."
   ]
  },
  {
   "cell_type": "markdown",
   "metadata": {},
   "source": [
    "```python\n",
    "!pip install matplotlib\n",
    "```"
   ]
  },
  {
   "cell_type": "markdown",
   "metadata": {},
   "source": [
    "### Importing the library"
   ]
  },
  {
   "cell_type": "markdown",
   "metadata": {},
   "source": [
    "A library is imported using the command *import*. In the following, we will use the *pyplot* module, which we will call *plt*."
   ]
  },
  {
   "cell_type": "code",
   "execution_count": 122,
   "metadata": {},
   "outputs": [],
   "source": [
    "# Import the pyplot module\n",
    "import matplotlib.pyplot as plt"
   ]
  },
  {
   "cell_type": "markdown",
   "metadata": {},
   "source": [
    "**First, check your *matplotlib* version!** Version 3.0.3 or later is required for this tutorial."
   ]
  },
  {
   "cell_type": "code",
   "execution_count": 3,
   "metadata": {},
   "outputs": [
    {
     "data": {
      "text/plain": [
       "'3.1.1'"
      ]
     },
     "execution_count": 3,
     "metadata": {},
     "output_type": "execute_result"
    }
   ],
   "source": [
    "import matplotlib\n",
    "matplotlib.__version__"
   ]
  },
  {
   "cell_type": "markdown",
   "metadata": {},
   "source": [
    "If you're running an older version of matplotlib, you can upgrade the version in the notebook by executing the following command, otherwise skip the next cell. After updating the version of the library, you have to restart your kernel 'Kernel' --> 'Restart'."
   ]
  },
  {
   "cell_type": "code",
   "execution_count": null,
   "metadata": {},
   "outputs": [],
   "source": [
    "!pip install matplotlib --upgrade pip"
   ]
  },
  {
   "cell_type": "markdown",
   "metadata": {},
   "source": [
    "### Getting started!"
   ]
  },
  {
   "cell_type": "markdown",
   "metadata": {},
   "source": [
    "In *matplotlib*, there are several common approaches to plotting with matplotlib:\n",
    "\n",
    "- object-oriented API,\n",
    "- *pyplot* API.\n",
    "- *pylab* API *(not recommended)*"
   ]
  },
  {
   "cell_type": "markdown",
   "metadata": {},
   "source": [
    "In this tutorial, we'll focus on the object-oriented approach which is recommended to use, especially when you want to create complex graphics, because it gives you more control over the figure. *Pyplot* on the other hand is just a *MATLAB*-like module of the *matplotlib* library which is mainly intended for interactive\n",
    "plots and simple cases of programmatic plot generation. The syntax of both approaches is quite similiar, so if you know the object-oriented approach, you won't have a problem to work with the *pyplot* module."
   ]
  },
  {
   "cell_type": "markdown",
   "metadata": {},
   "source": [
    "Before we'll create our first plot, we need to look at the parts of a *matplotlib* figure:\n",
    "\n",
    "-**Figure**<br>\n",
    "The whole figure.<br>\n",
    "-**Axes**<br>\n",
    "This is what you think of as ’a plot’, it is the region of the image with the\n",
    "data space. A given figure can contain many Axes, but a given Axes\n",
    "object can only be in one Figure.<br>\n",
    "-**Axis**<br>\n",
    "These are the number-line-like objects. They take care of setting the\n",
    "graph limits and generating the ticks (the marks on the axis) and\n",
    "ticklabels (strings labeling the ticks)<br>\n",
    "-**Artist**<br>\n",
    "Basically everything you can see on the figure is an artist (even the\n",
    "Figure, Axes, and Axis objects)"
   ]
  },
  {
   "cell_type": "markdown",
   "metadata": {},
   "source": [
    "<img src=\"https://matplotlib.org/3.1.1/_images/sphx_glr_anatomy_001.png\" width=\"40%\">\n",
    "\n",
    "*Source: https://matplotlib.org/3.1.1/_images/sphx_glr_anatomy_001.png*"
   ]
  },
  {
   "cell_type": "markdown",
   "metadata": {},
   "source": [
    "When using the object-oriented approach, we have to initialize the objects *Figure* and *Axes* first. This is commonly done by calling the `pyplot.figure()` function and adding the *Axes* object via `pyplot.add_axes()`."
   ]
  },
  {
   "cell_type": "code",
   "execution_count": 123,
   "metadata": {},
   "outputs": [
    {
     "data": {
      "image/png": "[encoded data removed]",
      "text/plain": [
       "<Figure size 432x288 with 1 Axes>"
      ]
     },
     "metadata": {
      "needs_background": "light"
     },
     "output_type": "display_data"
    }
   ],
   "source": [
    "# Initialize `Figure` and `Axes` object\n",
    "fig = plt.figure()\n",
    "ax = fig.add_axes( [0, 0, 1, 1]) # [bottom, top, width, height]"
   ]
  },
  {
   "cell_type": "markdown",
   "metadata": {},
   "source": [
    "Alternatively, we can use `pyplot.subplots()` to initialize both the *Figure* and the *Axes* object. You can also generate several *Axes* objects in one *Figure*."
   ]
  },
  {
   "cell_type": "code",
   "execution_count": 124,
   "metadata": {},
   "outputs": [
    {
     "data": {
      "image/png": "[encoded data removed]",
      "text/plain": [
       "<Figure size 432x288 with 1 Axes>"
      ]
     },
     "metadata": {
      "needs_background": "light"
     },
     "output_type": "display_data"
    }
   ],
   "source": [
    "# Initialize `Figure` and `Axes` object\n",
    "fig, ax = plt.subplots(nrows=1, ncols=1) # 1 row, 1 column"
   ]
  },
  {
   "cell_type": "markdown",
   "metadata": {},
   "source": [
    "So, let's create our first plot using *matplotlib*."
   ]
  },
  {
   "cell_type": "markdown",
   "metadata": {},
   "source": [
    "### First plot with *matplotlib*"
   ]
  },
  {
   "cell_type": "markdown",
   "metadata": {},
   "source": [
    "Plotting in *matplotlib* follows a certain rountine which includes the following steps:\n",
    "\n",
    "1. Prepare data\n",
    "2. Create plot\n",
    "3. Plot\n",
    "4. Customize plot\n",
    "5. Save plot\n",
    "6. Show plot"
   ]
  },
  {
   "cell_type": "markdown",
   "metadata": {},
   "source": [
    "So, let's first create a small data set for a simple visualization using *matplotlib*."
   ]
  },
  {
   "cell_type": "code",
   "execution_count": 125,
   "metadata": {},
   "outputs": [],
   "source": [
    "# Generate data set (STEP 1)\n",
    "x = [1,2,3,4]\n",
    "y = [1,2,3,4]"
   ]
  },
  {
   "cell_type": "markdown",
   "metadata": {},
   "source": [
    "As seen above, when using the pure *matplotlib* object-oriented approach, we first have to initialize the *Figure* and *Axes* objects. After that, we can simply use a plotting method on the *Axes* object. In this small example we're going to create a simple line graph."
   ]
  },
  {
   "cell_type": "code",
   "execution_count": 126,
   "metadata": {},
   "outputs": [
    {
     "data": {
      "image/png": "[encoded data removed]",
      "text/plain": [
       "<Figure size 432x288 with 1 Axes>"
      ]
     },
     "metadata": {
      "needs_background": "light"
     },
     "output_type": "display_data"
    }
   ],
   "source": [
    "# Line Plot using the object-oriented approach\n",
    "fig, ax = plt.subplots(1, 1) # Initializing the 'Figure' and 'Axes' objects (STEP 2)\n",
    "#ax.plot(x, y); # Line Plot function (STEP 3)\n",
    "#ax.set_xlabel('x'); #  Set label for x-Axis (STEP 4)\n",
    "#ax.set_ylabel('y'); # Set label for y-Axis\n",
    "#ax.set_title('My first Plot with matplotlib'); # Set title\n",
    "plt.show() # (STEP 6)"
   ]
  },
  {
   "cell_type": "markdown",
   "metadata": {},
   "source": [
    "Before we move on, let's have a look at the *matplotlib* documentation of the line plot method:\n",
    "\n",
    "https://matplotlib.org/3.1.1/api/_as_gen/matplotlib.axes.Axes.plot.html#matplotlib.axes.Axes.plot\n",
    "\n",
    "Alternatively, we can use the following command to open the documentation in the notebook."
   ]
  },
  {
   "cell_type": "code",
   "execution_count": 127,
   "metadata": {},
   "outputs": [],
   "source": [
    "ax.plot?"
   ]
  },
  {
   "cell_type": "markdown",
   "metadata": {},
   "source": [
    "### Plotting methods"
   ]
  },
  {
   "cell_type": "markdown",
   "metadata": {},
   "source": [
    "*Matplotlib* offers a huge amount of plotting methods/functions. A good starting point, so you don't have to start from scratch, is the *matplotlib* gallery, where you can find example code for some of these methods/functions (https://matplotlib.org/gallery/index.html). \n",
    "\n",
    "*Note: Interestingly, just about all methods of an Axes object exist as a function in the pyplot module (and vice-versa).*"
   ]
  },
  {
   "cell_type": "markdown",
   "metadata": {},
   "source": [
    "A small list of *matplotlib* *Axes* methods:\n",
    "\n",
    "- **Histogram:** ax.hist(x)\n",
    "    * x: numerical (converted into categorical)\n",
    "    * distribution of x\n",
    "    \n",
    "- **Box Plot:** ax.boxplot(x)\n",
    "    * x: numerical\n",
    "    * distribution of x / identification of outliers\n",
    "- **Violin Plot:** ax.violinplot(x)\n",
    "    * x: numerical\n",
    "    * distribution of x \n",
    "- **Pie Chart:** ax.pie(x) *(not recommended)*\n",
    "    * x: categorical\n",
    "    * proportions of categories in x\n",
    "- **Scatter Plot**:  ax.scatter(x,y)\n",
    "    * x: numerical\n",
    "    * y: numerical\n",
    "    * joint distribution of x and y / identification of outliers\n",
    "- **Line Plot**:  ax.plot(x, y)\n",
    "    * x: numerical/categorical\n",
    "    * y: numerical\n",
    "    * function *(math.)* / time-series\n",
    "- **Bar Plot**:  ax.bar(x, y) \n",
    "    * x: categorical\n",
    "    * y: numerical (often count of x)\n",
    "    * joint distribution of x and y / identification of outliers\n",
    "- **Contour Plot**: ax.contour(X, Y, Z)\n",
    "    * X: numerical\n",
    "    * Y: numerical\n",
    "    * Z: numerical\n",
    "    * 3D surface on a 2D format\n",
    "- ..."
   ]
  },
  {
   "cell_type": "markdown",
   "metadata": {},
   "source": [
    "### Examples"
   ]
  },
  {
   "cell_type": "markdown",
   "metadata": {},
   "source": [
    "Let's look at some examples."
   ]
  },
  {
   "cell_type": "markdown",
   "metadata": {},
   "source": [
    "***Bar plot***"
   ]
  },
  {
   "cell_type": "markdown",
   "metadata": {},
   "source": [
    "In our first example, we want to visualize the overall number of reported Covid-19 cases per state. For this, we use the variables *Bundesland* and *AnzahlFall*. Let's first have a look at those two variables."
   ]
  },
  {
   "cell_type": "code",
   "execution_count": 128,
   "metadata": {},
   "outputs": [
    {
     "data": {
      "text/html": [
       "<div>\n",
       "<style scoped>\n",
       "    .dataframe tbody tr th:only-of-type {\n",
       "        vertical-align: middle;\n",
       "    }\n",
       "\n",
       "    .dataframe tbody tr th {\n",
       "        vertical-align: top;\n",
       "    }\n",
       "\n",
       "    .dataframe thead th {\n",
       "        text-align: right;\n",
       "    }\n",
       "</style>\n",
       "<table border=\"1\" class=\"dataframe\">\n",
       "  <thead>\n",
       "    <tr style=\"text-align: right;\">\n",
       "      <th></th>\n",
       "      <th>Bundesland</th>\n",
       "      <th>AnzahlFall</th>\n",
       "    </tr>\n",
       "  </thead>\n",
       "  <tbody>\n",
       "    <tr>\n",
       "      <th>0</th>\n",
       "      <td>Schleswig-Holstein</td>\n",
       "      <td>1</td>\n",
       "    </tr>\n",
       "    <tr>\n",
       "      <th>1</th>\n",
       "      <td>Schleswig-Holstein</td>\n",
       "      <td>1</td>\n",
       "    </tr>\n",
       "    <tr>\n",
       "      <th>2</th>\n",
       "      <td>Schleswig-Holstein</td>\n",
       "      <td>1</td>\n",
       "    </tr>\n",
       "    <tr>\n",
       "      <th>3</th>\n",
       "      <td>Schleswig-Holstein</td>\n",
       "      <td>1</td>\n",
       "    </tr>\n",
       "    <tr>\n",
       "      <th>4</th>\n",
       "      <td>Schleswig-Holstein</td>\n",
       "      <td>1</td>\n",
       "    </tr>\n",
       "    <tr>\n",
       "      <th>...</th>\n",
       "      <td>...</td>\n",
       "      <td>...</td>\n",
       "    </tr>\n",
       "    <tr>\n",
       "      <th>155775</th>\n",
       "      <td>Thüringen</td>\n",
       "      <td>1</td>\n",
       "    </tr>\n",
       "    <tr>\n",
       "      <th>155776</th>\n",
       "      <td>Thüringen</td>\n",
       "      <td>1</td>\n",
       "    </tr>\n",
       "    <tr>\n",
       "      <th>155777</th>\n",
       "      <td>Thüringen</td>\n",
       "      <td>1</td>\n",
       "    </tr>\n",
       "    <tr>\n",
       "      <th>155778</th>\n",
       "      <td>Thüringen</td>\n",
       "      <td>2</td>\n",
       "    </tr>\n",
       "    <tr>\n",
       "      <th>155779</th>\n",
       "      <td>Thüringen</td>\n",
       "      <td>1</td>\n",
       "    </tr>\n",
       "  </tbody>\n",
       "</table>\n",
       "<p>155780 rows × 2 columns</p>\n",
       "</div>"
      ],
      "text/plain": [
       "                Bundesland  AnzahlFall\n",
       "0       Schleswig-Holstein           1\n",
       "1       Schleswig-Holstein           1\n",
       "2       Schleswig-Holstein           1\n",
       "3       Schleswig-Holstein           1\n",
       "4       Schleswig-Holstein           1\n",
       "...                    ...         ...\n",
       "155775           Thüringen           1\n",
       "155776           Thüringen           1\n",
       "155777           Thüringen           1\n",
       "155778           Thüringen           2\n",
       "155779           Thüringen           1\n",
       "\n",
       "[155780 rows x 2 columns]"
      ]
     },
     "execution_count": 128,
     "metadata": {},
     "output_type": "execute_result"
    }
   ],
   "source": [
    "covid19[['Bundesland', 'AnzahlFall']]"
   ]
  },
  {
   "cell_type": "markdown",
   "metadata": {},
   "source": [
    "We see that the each state occurs several times in our dataset. Let's add the variable *Meldedatum* and print the first 20 rows of the dataset."
   ]
  },
  {
   "cell_type": "code",
   "execution_count": 129,
   "metadata": {},
   "outputs": [
    {
     "data": {
      "text/html": [
       "<div>\n",
       "<style scoped>\n",
       "    .dataframe tbody tr th:only-of-type {\n",
       "        vertical-align: middle;\n",
       "    }\n",
       "\n",
       "    .dataframe tbody tr th {\n",
       "        vertical-align: top;\n",
       "    }\n",
       "\n",
       "    .dataframe thead th {\n",
       "        text-align: right;\n",
       "    }\n",
       "</style>\n",
       "<table border=\"1\" class=\"dataframe\">\n",
       "  <thead>\n",
       "    <tr style=\"text-align: right;\">\n",
       "      <th></th>\n",
       "      <th>Bundesland</th>\n",
       "      <th>AnzahlFall</th>\n",
       "      <th>Meldedatum</th>\n",
       "    </tr>\n",
       "  </thead>\n",
       "  <tbody>\n",
       "    <tr>\n",
       "      <th>0</th>\n",
       "      <td>Schleswig-Holstein</td>\n",
       "      <td>1</td>\n",
       "      <td>2020-03-14</td>\n",
       "    </tr>\n",
       "    <tr>\n",
       "      <th>1</th>\n",
       "      <td>Schleswig-Holstein</td>\n",
       "      <td>1</td>\n",
       "      <td>2020-03-19</td>\n",
       "    </tr>\n",
       "    <tr>\n",
       "      <th>2</th>\n",
       "      <td>Schleswig-Holstein</td>\n",
       "      <td>1</td>\n",
       "      <td>2020-03-19</td>\n",
       "    </tr>\n",
       "    <tr>\n",
       "      <th>3</th>\n",
       "      <td>Schleswig-Holstein</td>\n",
       "      <td>1</td>\n",
       "      <td>2020-03-21</td>\n",
       "    </tr>\n",
       "    <tr>\n",
       "      <th>4</th>\n",
       "      <td>Schleswig-Holstein</td>\n",
       "      <td>1</td>\n",
       "      <td>2020-03-27</td>\n",
       "    </tr>\n",
       "    <tr>\n",
       "      <th>5</th>\n",
       "      <td>Schleswig-Holstein</td>\n",
       "      <td>1</td>\n",
       "      <td>2020-04-04</td>\n",
       "    </tr>\n",
       "    <tr>\n",
       "      <th>6</th>\n",
       "      <td>Schleswig-Holstein</td>\n",
       "      <td>1</td>\n",
       "      <td>2020-04-06</td>\n",
       "    </tr>\n",
       "    <tr>\n",
       "      <th>7</th>\n",
       "      <td>Schleswig-Holstein</td>\n",
       "      <td>1</td>\n",
       "      <td>2020-04-07</td>\n",
       "    </tr>\n",
       "    <tr>\n",
       "      <th>8</th>\n",
       "      <td>Schleswig-Holstein</td>\n",
       "      <td>1</td>\n",
       "      <td>2020-04-09</td>\n",
       "    </tr>\n",
       "    <tr>\n",
       "      <th>9</th>\n",
       "      <td>Schleswig-Holstein</td>\n",
       "      <td>1</td>\n",
       "      <td>2020-05-29</td>\n",
       "    </tr>\n",
       "    <tr>\n",
       "      <th>10</th>\n",
       "      <td>Schleswig-Holstein</td>\n",
       "      <td>1</td>\n",
       "      <td>2020-06-25</td>\n",
       "    </tr>\n",
       "    <tr>\n",
       "      <th>11</th>\n",
       "      <td>Schleswig-Holstein</td>\n",
       "      <td>1</td>\n",
       "      <td>2020-03-14</td>\n",
       "    </tr>\n",
       "    <tr>\n",
       "      <th>12</th>\n",
       "      <td>Schleswig-Holstein</td>\n",
       "      <td>1</td>\n",
       "      <td>2020-03-18</td>\n",
       "    </tr>\n",
       "    <tr>\n",
       "      <th>13</th>\n",
       "      <td>Schleswig-Holstein</td>\n",
       "      <td>1</td>\n",
       "      <td>2020-03-18</td>\n",
       "    </tr>\n",
       "    <tr>\n",
       "      <th>14</th>\n",
       "      <td>Schleswig-Holstein</td>\n",
       "      <td>1</td>\n",
       "      <td>2020-03-28</td>\n",
       "    </tr>\n",
       "    <tr>\n",
       "      <th>15</th>\n",
       "      <td>Schleswig-Holstein</td>\n",
       "      <td>1</td>\n",
       "      <td>2020-05-21</td>\n",
       "    </tr>\n",
       "    <tr>\n",
       "      <th>16</th>\n",
       "      <td>Schleswig-Holstein</td>\n",
       "      <td>1</td>\n",
       "      <td>2020-06-18</td>\n",
       "    </tr>\n",
       "    <tr>\n",
       "      <th>17</th>\n",
       "      <td>Schleswig-Holstein</td>\n",
       "      <td>1</td>\n",
       "      <td>2020-03-14</td>\n",
       "    </tr>\n",
       "    <tr>\n",
       "      <th>18</th>\n",
       "      <td>Schleswig-Holstein</td>\n",
       "      <td>1</td>\n",
       "      <td>2020-03-20</td>\n",
       "    </tr>\n",
       "    <tr>\n",
       "      <th>19</th>\n",
       "      <td>Schleswig-Holstein</td>\n",
       "      <td>1</td>\n",
       "      <td>2020-05-05</td>\n",
       "    </tr>\n",
       "  </tbody>\n",
       "</table>\n",
       "</div>"
      ],
      "text/plain": [
       "            Bundesland  AnzahlFall Meldedatum\n",
       "0   Schleswig-Holstein           1 2020-03-14\n",
       "1   Schleswig-Holstein           1 2020-03-19\n",
       "2   Schleswig-Holstein           1 2020-03-19\n",
       "3   Schleswig-Holstein           1 2020-03-21\n",
       "4   Schleswig-Holstein           1 2020-03-27\n",
       "5   Schleswig-Holstein           1 2020-04-04\n",
       "6   Schleswig-Holstein           1 2020-04-06\n",
       "7   Schleswig-Holstein           1 2020-04-07\n",
       "8   Schleswig-Holstein           1 2020-04-09\n",
       "9   Schleswig-Holstein           1 2020-05-29\n",
       "10  Schleswig-Holstein           1 2020-06-25\n",
       "11  Schleswig-Holstein           1 2020-03-14\n",
       "12  Schleswig-Holstein           1 2020-03-18\n",
       "13  Schleswig-Holstein           1 2020-03-18\n",
       "14  Schleswig-Holstein           1 2020-03-28\n",
       "15  Schleswig-Holstein           1 2020-05-21\n",
       "16  Schleswig-Holstein           1 2020-06-18\n",
       "17  Schleswig-Holstein           1 2020-03-14\n",
       "18  Schleswig-Holstein           1 2020-03-20\n",
       "19  Schleswig-Holstein           1 2020-05-05"
      ]
     },
     "execution_count": 129,
     "metadata": {},
     "output_type": "execute_result"
    }
   ],
   "source": [
    "covid19[['Bundesland', 'AnzahlFall', 'Meldedatum']].head(20)"
   ]
  },
  {
   "cell_type": "markdown",
   "metadata": {},
   "source": [
    "We see, that we have time-series of reported cases. Since we are interested in the cumulative number of cases per state, we have to take the sum of the variable *AnzahlFall* for each state. This can simply be done by using the `groupby()` method from the *Pandas* library. We group our dataset by the variable *Bundesland* and then define the operation that is then applied to the grouped data which is the sum of the remaining variable *AnzahlFall*."
   ]
  },
  {
   "cell_type": "code",
   "execution_count": 130,
   "metadata": {},
   "outputs": [],
   "source": [
    "cases_state = covid19[['Bundesland','AnzahlFall']].groupby('Bundesland').sum()"
   ]
  },
  {
   "cell_type": "markdown",
   "metadata": {},
   "source": [
    "Let's print the result."
   ]
  },
  {
   "cell_type": "code",
   "execution_count": 131,
   "metadata": {},
   "outputs": [
    {
     "data": {
      "text/html": [
       "<div>\n",
       "<style scoped>\n",
       "    .dataframe tbody tr th:only-of-type {\n",
       "        vertical-align: middle;\n",
       "    }\n",
       "\n",
       "    .dataframe tbody tr th {\n",
       "        vertical-align: top;\n",
       "    }\n",
       "\n",
       "    .dataframe thead th {\n",
       "        text-align: right;\n",
       "    }\n",
       "</style>\n",
       "<table border=\"1\" class=\"dataframe\">\n",
       "  <thead>\n",
       "    <tr style=\"text-align: right;\">\n",
       "      <th></th>\n",
       "      <th>AnzahlFall</th>\n",
       "    </tr>\n",
       "    <tr>\n",
       "      <th>Bundesland</th>\n",
       "      <th></th>\n",
       "    </tr>\n",
       "  </thead>\n",
       "  <tbody>\n",
       "    <tr>\n",
       "      <th>Baden-Württemberg</th>\n",
       "      <td>35530</td>\n",
       "    </tr>\n",
       "    <tr>\n",
       "      <th>Bayern</th>\n",
       "      <td>48344</td>\n",
       "    </tr>\n",
       "    <tr>\n",
       "      <th>Berlin</th>\n",
       "      <td>8176</td>\n",
       "    </tr>\n",
       "    <tr>\n",
       "      <th>Brandenburg</th>\n",
       "      <td>3419</td>\n",
       "    </tr>\n",
       "    <tr>\n",
       "      <th>Bremen</th>\n",
       "      <td>1661</td>\n",
       "    </tr>\n",
       "    <tr>\n",
       "      <th>Hamburg</th>\n",
       "      <td>5193</td>\n",
       "    </tr>\n",
       "    <tr>\n",
       "      <th>Hessen</th>\n",
       "      <td>10762</td>\n",
       "    </tr>\n",
       "    <tr>\n",
       "      <th>Mecklenburg-Vorpommern</th>\n",
       "      <td>801</td>\n",
       "    </tr>\n",
       "    <tr>\n",
       "      <th>Niedersachsen</th>\n",
       "      <td>13502</td>\n",
       "    </tr>\n",
       "    <tr>\n",
       "      <th>Nordrhein-Westfalen</th>\n",
       "      <td>42868</td>\n",
       "    </tr>\n",
       "    <tr>\n",
       "      <th>Rheinland-Pfalz</th>\n",
       "      <td>6987</td>\n",
       "    </tr>\n",
       "    <tr>\n",
       "      <th>Saarland</th>\n",
       "      <td>2806</td>\n",
       "    </tr>\n",
       "    <tr>\n",
       "      <th>Sachsen</th>\n",
       "      <td>5444</td>\n",
       "    </tr>\n",
       "    <tr>\n",
       "      <th>Sachsen-Anhalt</th>\n",
       "      <td>1869</td>\n",
       "    </tr>\n",
       "    <tr>\n",
       "      <th>Schleswig-Holstein</th>\n",
       "      <td>3147</td>\n",
       "    </tr>\n",
       "    <tr>\n",
       "      <th>Thüringen</th>\n",
       "      <td>3250</td>\n",
       "    </tr>\n",
       "  </tbody>\n",
       "</table>\n",
       "</div>"
      ],
      "text/plain": [
       "                        AnzahlFall\n",
       "Bundesland                        \n",
       "Baden-Württemberg            35530\n",
       "Bayern                       48344\n",
       "Berlin                        8176\n",
       "Brandenburg                   3419\n",
       "Bremen                        1661\n",
       "Hamburg                       5193\n",
       "Hessen                       10762\n",
       "Mecklenburg-Vorpommern         801\n",
       "Niedersachsen                13502\n",
       "Nordrhein-Westfalen          42868\n",
       "Rheinland-Pfalz               6987\n",
       "Saarland                      2806\n",
       "Sachsen                       5444\n",
       "Sachsen-Anhalt                1869\n",
       "Schleswig-Holstein            3147\n",
       "Thüringen                     3250"
      ]
     },
     "execution_count": 131,
     "metadata": {},
     "output_type": "execute_result"
    }
   ],
   "source": [
    "cases_state"
   ]
  },
  {
   "cell_type": "markdown",
   "metadata": {},
   "source": [
    "Here, we see that the structure of our dataframe has changed; to restore the old structure we can use the `reset_index()` method."
   ]
  },
  {
   "cell_type": "code",
   "execution_count": 132,
   "metadata": {},
   "outputs": [],
   "source": [
    "cases_state = cases_state.reset_index()"
   ]
  },
  {
   "cell_type": "markdown",
   "metadata": {},
   "source": [
    "Let's print the result again."
   ]
  },
  {
   "cell_type": "code",
   "execution_count": 133,
   "metadata": {},
   "outputs": [
    {
     "data": {
      "text/html": [
       "<div>\n",
       "<style scoped>\n",
       "    .dataframe tbody tr th:only-of-type {\n",
       "        vertical-align: middle;\n",
       "    }\n",
       "\n",
       "    .dataframe tbody tr th {\n",
       "        vertical-align: top;\n",
       "    }\n",
       "\n",
       "    .dataframe thead th {\n",
       "        text-align: right;\n",
       "    }\n",
       "</style>\n",
       "<table border=\"1\" class=\"dataframe\">\n",
       "  <thead>\n",
       "    <tr style=\"text-align: right;\">\n",
       "      <th></th>\n",
       "      <th>Bundesland</th>\n",
       "      <th>AnzahlFall</th>\n",
       "    </tr>\n",
       "  </thead>\n",
       "  <tbody>\n",
       "    <tr>\n",
       "      <th>0</th>\n",
       "      <td>Baden-Württemberg</td>\n",
       "      <td>35530</td>\n",
       "    </tr>\n",
       "    <tr>\n",
       "      <th>1</th>\n",
       "      <td>Bayern</td>\n",
       "      <td>48344</td>\n",
       "    </tr>\n",
       "    <tr>\n",
       "      <th>2</th>\n",
       "      <td>Berlin</td>\n",
       "      <td>8176</td>\n",
       "    </tr>\n",
       "    <tr>\n",
       "      <th>3</th>\n",
       "      <td>Brandenburg</td>\n",
       "      <td>3419</td>\n",
       "    </tr>\n",
       "    <tr>\n",
       "      <th>4</th>\n",
       "      <td>Bremen</td>\n",
       "      <td>1661</td>\n",
       "    </tr>\n",
       "    <tr>\n",
       "      <th>5</th>\n",
       "      <td>Hamburg</td>\n",
       "      <td>5193</td>\n",
       "    </tr>\n",
       "    <tr>\n",
       "      <th>6</th>\n",
       "      <td>Hessen</td>\n",
       "      <td>10762</td>\n",
       "    </tr>\n",
       "    <tr>\n",
       "      <th>7</th>\n",
       "      <td>Mecklenburg-Vorpommern</td>\n",
       "      <td>801</td>\n",
       "    </tr>\n",
       "    <tr>\n",
       "      <th>8</th>\n",
       "      <td>Niedersachsen</td>\n",
       "      <td>13502</td>\n",
       "    </tr>\n",
       "    <tr>\n",
       "      <th>9</th>\n",
       "      <td>Nordrhein-Westfalen</td>\n",
       "      <td>42868</td>\n",
       "    </tr>\n",
       "    <tr>\n",
       "      <th>10</th>\n",
       "      <td>Rheinland-Pfalz</td>\n",
       "      <td>6987</td>\n",
       "    </tr>\n",
       "    <tr>\n",
       "      <th>11</th>\n",
       "      <td>Saarland</td>\n",
       "      <td>2806</td>\n",
       "    </tr>\n",
       "    <tr>\n",
       "      <th>12</th>\n",
       "      <td>Sachsen</td>\n",
       "      <td>5444</td>\n",
       "    </tr>\n",
       "    <tr>\n",
       "      <th>13</th>\n",
       "      <td>Sachsen-Anhalt</td>\n",
       "      <td>1869</td>\n",
       "    </tr>\n",
       "    <tr>\n",
       "      <th>14</th>\n",
       "      <td>Schleswig-Holstein</td>\n",
       "      <td>3147</td>\n",
       "    </tr>\n",
       "    <tr>\n",
       "      <th>15</th>\n",
       "      <td>Thüringen</td>\n",
       "      <td>3250</td>\n",
       "    </tr>\n",
       "  </tbody>\n",
       "</table>\n",
       "</div>"
      ],
      "text/plain": [
       "                Bundesland  AnzahlFall\n",
       "0        Baden-Württemberg       35530\n",
       "1                   Bayern       48344\n",
       "2                   Berlin        8176\n",
       "3              Brandenburg        3419\n",
       "4                   Bremen        1661\n",
       "5                  Hamburg        5193\n",
       "6                   Hessen       10762\n",
       "7   Mecklenburg-Vorpommern         801\n",
       "8            Niedersachsen       13502\n",
       "9      Nordrhein-Westfalen       42868\n",
       "10         Rheinland-Pfalz        6987\n",
       "11                Saarland        2806\n",
       "12                 Sachsen        5444\n",
       "13          Sachsen-Anhalt        1869\n",
       "14      Schleswig-Holstein        3147\n",
       "15               Thüringen        3250"
      ]
     },
     "execution_count": 133,
     "metadata": {},
     "output_type": "execute_result"
    }
   ],
   "source": [
    "cases_state"
   ]
  },
  {
   "cell_type": "markdown",
   "metadata": {},
   "source": [
    "Now, we have a dataframe with the old structure which can be used for our visualisation. So, let's use a barplot to visualise this table with states along the x-axis and the sums along the y-axis."
   ]
  },
  {
   "cell_type": "code",
   "execution_count": 134,
   "metadata": {},
   "outputs": [
    {
     "data": {
      "image/png": "[encoded data removed]",
      "text/plain": [
       "<Figure size 1152x432 with 1 Axes>"
      ]
     },
     "metadata": {
      "needs_background": "light"
     },
     "output_type": "display_data"
    }
   ],
   "source": [
    "fig, ax = plt.subplots(1,1,figsize=(16,6))\n",
    "ax.bar(cases_state['Bundesland'],cases_state['AnzahlFall'])\n",
    "ax.set_xlabel('State')\n",
    "ax.set_ylabel('Count')\n",
    "ax.set_title('Reported Covid-19 cases per state in Germany');"
   ]
  },
  {
   "cell_type": "markdown",
   "metadata": {},
   "source": [
    "The x-axis is a bit messy since some of the state names are too long and overlap. So, let's flip the axes to solve this issue by using the `barh()` method for horizontal barplots."
   ]
  },
  {
   "cell_type": "code",
   "execution_count": 135,
   "metadata": {},
   "outputs": [
    {
     "data": {
      "image/png": "[encoded data removed]",
      "text/plain": [
       "<Figure size 720x720 with 1 Axes>"
      ]
     },
     "metadata": {
      "needs_background": "light"
     },
     "output_type": "display_data"
    }
   ],
   "source": [
    "fig, ax = plt.subplots(1,1,figsize=(10,10))\n",
    "ax.barh(cases_state['Bundesland'],cases_state['AnzahlFall'])\n",
    "ax.set_xlabel('Count')\n",
    "ax.set_ylabel('State')\n",
    "ax.set_title('Reported Covid-19 cases per state in Germany');"
   ]
  },
  {
   "cell_type": "markdown",
   "metadata": {},
   "source": [
    "This look a lot better than our vertival bar plot. To further improve the readability of this chart, we sort the states by the number of cases instead of their alphabetical order. For this, we use the `sort_values()` method. "
   ]
  },
  {
   "cell_type": "code",
   "execution_count": 136,
   "metadata": {},
   "outputs": [
    {
     "data": {
      "text/html": [
       "<div>\n",
       "<style scoped>\n",
       "    .dataframe tbody tr th:only-of-type {\n",
       "        vertical-align: middle;\n",
       "    }\n",
       "\n",
       "    .dataframe tbody tr th {\n",
       "        vertical-align: top;\n",
       "    }\n",
       "\n",
       "    .dataframe thead th {\n",
       "        text-align: right;\n",
       "    }\n",
       "</style>\n",
       "<table border=\"1\" class=\"dataframe\">\n",
       "  <thead>\n",
       "    <tr style=\"text-align: right;\">\n",
       "      <th></th>\n",
       "      <th>Bundesland</th>\n",
       "      <th>AnzahlFall</th>\n",
       "    </tr>\n",
       "  </thead>\n",
       "  <tbody>\n",
       "    <tr>\n",
       "      <th>7</th>\n",
       "      <td>Mecklenburg-Vorpommern</td>\n",
       "      <td>801</td>\n",
       "    </tr>\n",
       "    <tr>\n",
       "      <th>4</th>\n",
       "      <td>Bremen</td>\n",
       "      <td>1661</td>\n",
       "    </tr>\n",
       "    <tr>\n",
       "      <th>13</th>\n",
       "      <td>Sachsen-Anhalt</td>\n",
       "      <td>1869</td>\n",
       "    </tr>\n",
       "    <tr>\n",
       "      <th>11</th>\n",
       "      <td>Saarland</td>\n",
       "      <td>2806</td>\n",
       "    </tr>\n",
       "    <tr>\n",
       "      <th>14</th>\n",
       "      <td>Schleswig-Holstein</td>\n",
       "      <td>3147</td>\n",
       "    </tr>\n",
       "    <tr>\n",
       "      <th>15</th>\n",
       "      <td>Thüringen</td>\n",
       "      <td>3250</td>\n",
       "    </tr>\n",
       "    <tr>\n",
       "      <th>3</th>\n",
       "      <td>Brandenburg</td>\n",
       "      <td>3419</td>\n",
       "    </tr>\n",
       "    <tr>\n",
       "      <th>5</th>\n",
       "      <td>Hamburg</td>\n",
       "      <td>5193</td>\n",
       "    </tr>\n",
       "    <tr>\n",
       "      <th>12</th>\n",
       "      <td>Sachsen</td>\n",
       "      <td>5444</td>\n",
       "    </tr>\n",
       "    <tr>\n",
       "      <th>10</th>\n",
       "      <td>Rheinland-Pfalz</td>\n",
       "      <td>6987</td>\n",
       "    </tr>\n",
       "    <tr>\n",
       "      <th>2</th>\n",
       "      <td>Berlin</td>\n",
       "      <td>8176</td>\n",
       "    </tr>\n",
       "    <tr>\n",
       "      <th>6</th>\n",
       "      <td>Hessen</td>\n",
       "      <td>10762</td>\n",
       "    </tr>\n",
       "    <tr>\n",
       "      <th>8</th>\n",
       "      <td>Niedersachsen</td>\n",
       "      <td>13502</td>\n",
       "    </tr>\n",
       "    <tr>\n",
       "      <th>0</th>\n",
       "      <td>Baden-Württemberg</td>\n",
       "      <td>35530</td>\n",
       "    </tr>\n",
       "    <tr>\n",
       "      <th>9</th>\n",
       "      <td>Nordrhein-Westfalen</td>\n",
       "      <td>42868</td>\n",
       "    </tr>\n",
       "    <tr>\n",
       "      <th>1</th>\n",
       "      <td>Bayern</td>\n",
       "      <td>48344</td>\n",
       "    </tr>\n",
       "  </tbody>\n",
       "</table>\n",
       "</div>"
      ],
      "text/plain": [
       "                Bundesland  AnzahlFall\n",
       "7   Mecklenburg-Vorpommern         801\n",
       "4                   Bremen        1661\n",
       "13          Sachsen-Anhalt        1869\n",
       "11                Saarland        2806\n",
       "14      Schleswig-Holstein        3147\n",
       "15               Thüringen        3250\n",
       "3              Brandenburg        3419\n",
       "5                  Hamburg        5193\n",
       "12                 Sachsen        5444\n",
       "10         Rheinland-Pfalz        6987\n",
       "2                   Berlin        8176\n",
       "6                   Hessen       10762\n",
       "8            Niedersachsen       13502\n",
       "0        Baden-Württemberg       35530\n",
       "9      Nordrhein-Westfalen       42868\n",
       "1                   Bayern       48344"
      ]
     },
     "execution_count": 136,
     "metadata": {},
     "output_type": "execute_result"
    }
   ],
   "source": [
    "cases_state_sorted = cases_state.sort_values('AnzahlFall')\n",
    "cases_state_sorted"
   ]
  },
  {
   "cell_type": "markdown",
   "metadata": {},
   "source": [
    "Let's plot the result again."
   ]
  },
  {
   "cell_type": "code",
   "execution_count": 137,
   "metadata": {},
   "outputs": [
    {
     "data": {
      "image/png": "[encoded data removed]",
      "text/plain": [
       "<Figure size 720x720 with 1 Axes>"
      ]
     },
     "metadata": {
      "needs_background": "light"
     },
     "output_type": "display_data"
    }
   ],
   "source": [
    "fig, ax = plt.subplots(1,1,figsize=(10,10))\n",
    "ax.barh(cases_state_sorted['Bundesland'],cases_state_sorted['AnzahlFall'])\n",
    "ax.set_xlabel('Count')\n",
    "ax.set_ylabel('State')\n",
    "ax.set_title('Reported Covid-19 cases per state in Germany');"
   ]
  },
  {
   "cell_type": "markdown",
   "metadata": {},
   "source": [
    "In *matplotlib* you can easily overlay some plots by using multiple methods on the same *Axes* object. Let's split the confirmed number of cases into *infected*, *recovered* and *deceased* plot them in the same figure. For this task, we need the variables *Bundesland*, *AnzahlFall*, *AnzahlGenesen* und *AnzahlTodesfall*. Following the same procedure as before, we group the data by the variable *Bundesland* and add up all the cases. Then, we sort them by the variable *AnzahlFall*."
   ]
  },
  {
   "cell_type": "code",
   "execution_count": 138,
   "metadata": {},
   "outputs": [],
   "source": [
    "data_state = covid19[['Bundesland','AnzahlFall','AnzahlGenesen','AnzahlTodesfall']]\n",
    "data_state = data_state.groupby('Bundesland').sum()\n",
    "data_state = data_state.reset_index()\n",
    "data_state_sorted = data_state.sort_values('AnzahlFall')"
   ]
  },
  {
   "cell_type": "markdown",
   "metadata": {},
   "source": [
    "Let's have a look at the data."
   ]
  },
  {
   "cell_type": "code",
   "execution_count": 139,
   "metadata": {},
   "outputs": [
    {
     "data": {
      "text/html": [
       "<div>\n",
       "<style scoped>\n",
       "    .dataframe tbody tr th:only-of-type {\n",
       "        vertical-align: middle;\n",
       "    }\n",
       "\n",
       "    .dataframe tbody tr th {\n",
       "        vertical-align: top;\n",
       "    }\n",
       "\n",
       "    .dataframe thead th {\n",
       "        text-align: right;\n",
       "    }\n",
       "</style>\n",
       "<table border=\"1\" class=\"dataframe\">\n",
       "  <thead>\n",
       "    <tr style=\"text-align: right;\">\n",
       "      <th></th>\n",
       "      <th>Bundesland</th>\n",
       "      <th>AnzahlFall</th>\n",
       "      <th>AnzahlGenesen</th>\n",
       "      <th>AnzahlTodesfall</th>\n",
       "    </tr>\n",
       "  </thead>\n",
       "  <tbody>\n",
       "    <tr>\n",
       "      <th>7</th>\n",
       "      <td>Mecklenburg-Vorpommern</td>\n",
       "      <td>801</td>\n",
       "      <td>766</td>\n",
       "      <td>20</td>\n",
       "    </tr>\n",
       "    <tr>\n",
       "      <th>4</th>\n",
       "      <td>Bremen</td>\n",
       "      <td>1661</td>\n",
       "      <td>1543</td>\n",
       "      <td>50</td>\n",
       "    </tr>\n",
       "    <tr>\n",
       "      <th>13</th>\n",
       "      <td>Sachsen-Anhalt</td>\n",
       "      <td>1869</td>\n",
       "      <td>1722</td>\n",
       "      <td>58</td>\n",
       "    </tr>\n",
       "    <tr>\n",
       "      <th>11</th>\n",
       "      <td>Saarland</td>\n",
       "      <td>2806</td>\n",
       "      <td>2614</td>\n",
       "      <td>173</td>\n",
       "    </tr>\n",
       "    <tr>\n",
       "      <th>14</th>\n",
       "      <td>Schleswig-Holstein</td>\n",
       "      <td>3147</td>\n",
       "      <td>2970</td>\n",
       "      <td>152</td>\n",
       "    </tr>\n",
       "    <tr>\n",
       "      <th>15</th>\n",
       "      <td>Thüringen</td>\n",
       "      <td>3250</td>\n",
       "      <td>3000</td>\n",
       "      <td>181</td>\n",
       "    </tr>\n",
       "    <tr>\n",
       "      <th>3</th>\n",
       "      <td>Brandenburg</td>\n",
       "      <td>3419</td>\n",
       "      <td>3172</td>\n",
       "      <td>165</td>\n",
       "    </tr>\n",
       "    <tr>\n",
       "      <th>5</th>\n",
       "      <td>Hamburg</td>\n",
       "      <td>5193</td>\n",
       "      <td>4854</td>\n",
       "      <td>259</td>\n",
       "    </tr>\n",
       "    <tr>\n",
       "      <th>12</th>\n",
       "      <td>Sachsen</td>\n",
       "      <td>5444</td>\n",
       "      <td>5134</td>\n",
       "      <td>222</td>\n",
       "    </tr>\n",
       "    <tr>\n",
       "      <th>10</th>\n",
       "      <td>Rheinland-Pfalz</td>\n",
       "      <td>6987</td>\n",
       "      <td>6615</td>\n",
       "      <td>235</td>\n",
       "    </tr>\n",
       "    <tr>\n",
       "      <th>2</th>\n",
       "      <td>Berlin</td>\n",
       "      <td>8176</td>\n",
       "      <td>7260</td>\n",
       "      <td>213</td>\n",
       "    </tr>\n",
       "    <tr>\n",
       "      <th>6</th>\n",
       "      <td>Hessen</td>\n",
       "      <td>10762</td>\n",
       "      <td>9897</td>\n",
       "      <td>506</td>\n",
       "    </tr>\n",
       "    <tr>\n",
       "      <th>8</th>\n",
       "      <td>Niedersachsen</td>\n",
       "      <td>13502</td>\n",
       "      <td>12182</td>\n",
       "      <td>628</td>\n",
       "    </tr>\n",
       "    <tr>\n",
       "      <th>0</th>\n",
       "      <td>Baden-Württemberg</td>\n",
       "      <td>35530</td>\n",
       "      <td>33298</td>\n",
       "      <td>1829</td>\n",
       "    </tr>\n",
       "    <tr>\n",
       "      <th>9</th>\n",
       "      <td>Nordrhein-Westfalen</td>\n",
       "      <td>42868</td>\n",
       "      <td>37855</td>\n",
       "      <td>1678</td>\n",
       "    </tr>\n",
       "    <tr>\n",
       "      <th>1</th>\n",
       "      <td>Bayern</td>\n",
       "      <td>48344</td>\n",
       "      <td>45169</td>\n",
       "      <td>2592</td>\n",
       "    </tr>\n",
       "  </tbody>\n",
       "</table>\n",
       "</div>"
      ],
      "text/plain": [
       "                Bundesland  AnzahlFall  AnzahlGenesen  AnzahlTodesfall\n",
       "7   Mecklenburg-Vorpommern         801            766               20\n",
       "4                   Bremen        1661           1543               50\n",
       "13          Sachsen-Anhalt        1869           1722               58\n",
       "11                Saarland        2806           2614              173\n",
       "14      Schleswig-Holstein        3147           2970              152\n",
       "15               Thüringen        3250           3000              181\n",
       "3              Brandenburg        3419           3172              165\n",
       "5                  Hamburg        5193           4854              259\n",
       "12                 Sachsen        5444           5134              222\n",
       "10         Rheinland-Pfalz        6987           6615              235\n",
       "2                   Berlin        8176           7260              213\n",
       "6                   Hessen       10762           9897              506\n",
       "8            Niedersachsen       13502          12182              628\n",
       "0        Baden-Württemberg       35530          33298             1829\n",
       "9      Nordrhein-Westfalen       42868          37855             1678\n",
       "1                   Bayern       48344          45169             2592"
      ]
     },
     "execution_count": 139,
     "metadata": {},
     "output_type": "execute_result"
    }
   ],
   "source": [
    "data_state_sorted"
   ]
  },
  {
   "cell_type": "markdown",
   "metadata": {},
   "source": [
    "Now, we again create our *Figure* and one *Axes* object which will then be used for all plots. This way, we can simply overlay our 3 barplots by first plotting the largest bar, then the second largest and finally the smallest bars. We can do it this way because the variable *AnzahlFall* **includes** the other two variables. When overlaying the other two bar plots, we have to consider that those variables are **exclusive** which means we have to add the number of deaths to the recovered cases to report them correctly in an overlayed plot. "
   ]
  },
  {
   "cell_type": "code",
   "execution_count": 140,
   "metadata": {},
   "outputs": [
    {
     "data": {
      "image/png": "[encoded data removed]",
      "text/plain": [
       "<Figure size 720x720 with 1 Axes>"
      ]
     },
     "metadata": {
      "needs_background": "light"
     },
     "output_type": "display_data"
    }
   ],
   "source": [
    "fig, ax = plt.subplots(1,1,figsize=(10,10))\n",
    "ax.barh(data_state_sorted['Bundesland'],data_state_sorted['AnzahlFall'],label='infected')\n",
    "ax.barh(data_state_sorted['Bundesland'],data_state_sorted['AnzahlGenesen']+data_state_sorted['AnzahlTodesfall'],label='recovered')\n",
    "ax.barh(data_state_sorted['Bundesland'],data_state_sorted['AnzahlTodesfall'], label='deceased')\n",
    "ax.set_xlabel('Count')\n",
    "ax.set_ylabel('State')\n",
    "ax.set_title('Reported Covid-19 cases per state in Germany');\n",
    "ax.legend();"
   ]
  },
  {
   "cell_type": "markdown",
   "metadata": {},
   "source": [
    "***Line plot***"
   ]
  },
  {
   "cell_type": "markdown",
   "metadata": {},
   "source": [
    "In the previous example, we have looked at the cumulative cases which means we haven't captured the longitudinal aspect of our data. Therefore, we will here plot the cumulative cases over time and not just at the last time point. This means, we again need the variables *Bundesland*, *Meldedatum* and *AnzahlFall* for this task. Different from the task above, we now group the data by two variables *Bundesland* and *Meldedatum* to add the cases."
   ]
  },
  {
   "cell_type": "code",
   "execution_count": 141,
   "metadata": {},
   "outputs": [],
   "source": [
    "cases = covid19[['Bundesland', 'AnzahlFall', 'Meldedatum']].groupby(['Bundesland','Meldedatum'])['AnzahlFall'].sum()"
   ]
  },
  {
   "cell_type": "markdown",
   "metadata": {},
   "source": [
    "Since this gives us the sum of cases per state and date, we have to group the data again to calculate the cumulative sums per state and date."
   ]
  },
  {
   "cell_type": "code",
   "execution_count": 142,
   "metadata": {},
   "outputs": [],
   "source": [
    "cases_cum = cases.groupby(level=0).cumsum()\n",
    "cases_sum = cases_cum.reset_index()"
   ]
  },
  {
   "cell_type": "markdown",
   "metadata": {},
   "source": [
    "Let's have a look at the data."
   ]
  },
  {
   "cell_type": "code",
   "execution_count": 143,
   "metadata": {},
   "outputs": [
    {
     "data": {
      "text/html": [
       "<div>\n",
       "<style scoped>\n",
       "    .dataframe tbody tr th:only-of-type {\n",
       "        vertical-align: middle;\n",
       "    }\n",
       "\n",
       "    .dataframe tbody tr th {\n",
       "        vertical-align: top;\n",
       "    }\n",
       "\n",
       "    .dataframe thead th {\n",
       "        text-align: right;\n",
       "    }\n",
       "</style>\n",
       "<table border=\"1\" class=\"dataframe\">\n",
       "  <thead>\n",
       "    <tr style=\"text-align: right;\">\n",
       "      <th></th>\n",
       "      <th>Bundesland</th>\n",
       "      <th>Meldedatum</th>\n",
       "      <th>AnzahlFall</th>\n",
       "    </tr>\n",
       "  </thead>\n",
       "  <tbody>\n",
       "    <tr>\n",
       "      <th>0</th>\n",
       "      <td>Baden-Württemberg</td>\n",
       "      <td>2020-02-24</td>\n",
       "      <td>1</td>\n",
       "    </tr>\n",
       "    <tr>\n",
       "      <th>1</th>\n",
       "      <td>Baden-Württemberg</td>\n",
       "      <td>2020-02-25</td>\n",
       "      <td>3</td>\n",
       "    </tr>\n",
       "    <tr>\n",
       "      <th>2</th>\n",
       "      <td>Baden-Württemberg</td>\n",
       "      <td>2020-02-26</td>\n",
       "      <td>7</td>\n",
       "    </tr>\n",
       "    <tr>\n",
       "      <th>3</th>\n",
       "      <td>Baden-Württemberg</td>\n",
       "      <td>2020-02-27</td>\n",
       "      <td>10</td>\n",
       "    </tr>\n",
       "    <tr>\n",
       "      <th>4</th>\n",
       "      <td>Baden-Württemberg</td>\n",
       "      <td>2020-02-28</td>\n",
       "      <td>16</td>\n",
       "    </tr>\n",
       "    <tr>\n",
       "      <th>5</th>\n",
       "      <td>Baden-Württemberg</td>\n",
       "      <td>2020-02-29</td>\n",
       "      <td>18</td>\n",
       "    </tr>\n",
       "    <tr>\n",
       "      <th>6</th>\n",
       "      <td>Baden-Württemberg</td>\n",
       "      <td>2020-03-01</td>\n",
       "      <td>19</td>\n",
       "    </tr>\n",
       "    <tr>\n",
       "      <th>7</th>\n",
       "      <td>Baden-Württemberg</td>\n",
       "      <td>2020-03-02</td>\n",
       "      <td>29</td>\n",
       "    </tr>\n",
       "    <tr>\n",
       "      <th>8</th>\n",
       "      <td>Baden-Württemberg</td>\n",
       "      <td>2020-03-03</td>\n",
       "      <td>53</td>\n",
       "    </tr>\n",
       "    <tr>\n",
       "      <th>9</th>\n",
       "      <td>Baden-Württemberg</td>\n",
       "      <td>2020-03-04</td>\n",
       "      <td>90</td>\n",
       "    </tr>\n",
       "    <tr>\n",
       "      <th>10</th>\n",
       "      <td>Baden-Württemberg</td>\n",
       "      <td>2020-03-05</td>\n",
       "      <td>126</td>\n",
       "    </tr>\n",
       "    <tr>\n",
       "      <th>11</th>\n",
       "      <td>Baden-Württemberg</td>\n",
       "      <td>2020-03-06</td>\n",
       "      <td>177</td>\n",
       "    </tr>\n",
       "    <tr>\n",
       "      <th>12</th>\n",
       "      <td>Baden-Württemberg</td>\n",
       "      <td>2020-03-07</td>\n",
       "      <td>208</td>\n",
       "    </tr>\n",
       "    <tr>\n",
       "      <th>13</th>\n",
       "      <td>Baden-Württemberg</td>\n",
       "      <td>2020-03-08</td>\n",
       "      <td>227</td>\n",
       "    </tr>\n",
       "    <tr>\n",
       "      <th>14</th>\n",
       "      <td>Baden-Württemberg</td>\n",
       "      <td>2020-03-09</td>\n",
       "      <td>279</td>\n",
       "    </tr>\n",
       "    <tr>\n",
       "      <th>15</th>\n",
       "      <td>Baden-Württemberg</td>\n",
       "      <td>2020-03-10</td>\n",
       "      <td>397</td>\n",
       "    </tr>\n",
       "    <tr>\n",
       "      <th>16</th>\n",
       "      <td>Baden-Württemberg</td>\n",
       "      <td>2020-03-11</td>\n",
       "      <td>543</td>\n",
       "    </tr>\n",
       "    <tr>\n",
       "      <th>17</th>\n",
       "      <td>Baden-Württemberg</td>\n",
       "      <td>2020-03-12</td>\n",
       "      <td>731</td>\n",
       "    </tr>\n",
       "    <tr>\n",
       "      <th>18</th>\n",
       "      <td>Baden-Württemberg</td>\n",
       "      <td>2020-03-13</td>\n",
       "      <td>1045</td>\n",
       "    </tr>\n",
       "    <tr>\n",
       "      <th>19</th>\n",
       "      <td>Baden-Württemberg</td>\n",
       "      <td>2020-03-14</td>\n",
       "      <td>1371</td>\n",
       "    </tr>\n",
       "  </tbody>\n",
       "</table>\n",
       "</div>"
      ],
      "text/plain": [
       "           Bundesland Meldedatum  AnzahlFall\n",
       "0   Baden-Württemberg 2020-02-24           1\n",
       "1   Baden-Württemberg 2020-02-25           3\n",
       "2   Baden-Württemberg 2020-02-26           7\n",
       "3   Baden-Württemberg 2020-02-27          10\n",
       "4   Baden-Württemberg 2020-02-28          16\n",
       "5   Baden-Württemberg 2020-02-29          18\n",
       "6   Baden-Württemberg 2020-03-01          19\n",
       "7   Baden-Württemberg 2020-03-02          29\n",
       "8   Baden-Württemberg 2020-03-03          53\n",
       "9   Baden-Württemberg 2020-03-04          90\n",
       "10  Baden-Württemberg 2020-03-05         126\n",
       "11  Baden-Württemberg 2020-03-06         177\n",
       "12  Baden-Württemberg 2020-03-07         208\n",
       "13  Baden-Württemberg 2020-03-08         227\n",
       "14  Baden-Württemberg 2020-03-09         279\n",
       "15  Baden-Württemberg 2020-03-10         397\n",
       "16  Baden-Württemberg 2020-03-11         543\n",
       "17  Baden-Württemberg 2020-03-12         731\n",
       "18  Baden-Württemberg 2020-03-13        1045\n",
       "19  Baden-Württemberg 2020-03-14        1371"
      ]
     },
     "execution_count": 143,
     "metadata": {},
     "output_type": "execute_result"
    }
   ],
   "source": [
    "cases_cum.head(20)"
   ]
  },
  {
   "cell_type": "markdown",
   "metadata": {},
   "source": [
    "Now, we can plot the temporal evolution of Covid-19 cases for individual states (e.g. Bavaria, Berlin) by first creating subsets of the data for the corresponding state and then using the line method `plot()` to create the line chart."
   ]
  },
  {
   "cell_type": "code",
   "execution_count": 144,
   "metadata": {},
   "outputs": [
    {
     "data": {
      "image/png": "[encoded data removed]",
      "text/plain": [
       "<Figure size 1008x720 with 1 Axes>"
      ]
     },
     "metadata": {
      "needs_background": "light"
     },
     "output_type": "display_data"
    }
   ],
   "source": [
    "fig, ax = plt.subplots(1,1,figsize=(14,10))\n",
    "\n",
    "bavaria = cases_cum[cases_cum['Bundesland']=='Bayern']\n",
    "berlin = cases_cum[cases_cum['Bundesland']=='Berlin']\n",
    "ax.plot(bavaria['Meldedatum'], bavaria['AnzahlFall'], label='Bayern')\n",
    "ax.plot(berlin['Meldedatum'], berlin['AnzahlFall'], label='Berlin')\n",
    "ax.legend();"
   ]
  },
  {
   "cell_type": "markdown",
   "metadata": {},
   "source": [
    "If you want to plot a line for every state, you can use a *for-loop* to create the subsets and the line charts. You have to first create an array with unique state names. "
   ]
  },
  {
   "cell_type": "code",
   "execution_count": null,
   "metadata": {},
   "outputs": [],
   "source": [
    "states = test_cum['Bundesland'].unique()"
   ]
  },
  {
   "cell_type": "markdown",
   "metadata": {},
   "source": [
    "Then, you can simply loop through this array to create the subsets and the plots."
   ]
  },
  {
   "cell_type": "code",
   "execution_count": 151,
   "metadata": {},
   "outputs": [
    {
     "data": {
      "image/png": "[encoded data removed]",
      "text/plain": [
       "<Figure size 1008x720 with 1 Axes>"
      ]
     },
     "metadata": {
      "needs_background": "light"
     },
     "output_type": "display_data"
    }
   ],
   "source": [
    "fig, ax = plt.subplots(1,1,figsize=(14,10))\n",
    "\n",
    "for state in states:\n",
    "    x = cases_cum[test_cum['Bundesland']==state]['Meldedatum']\n",
    "    y = cases_cum[test_cum['Bundesland']==state]['AnzahlFall']\n",
    "    ax.plot(x,y,label=state)\n",
    "    \n",
    "ax.legend();"
   ]
  },
  {
   "cell_type": "markdown",
   "metadata": {},
   "source": [
    "### Save plots"
   ]
  },
  {
   "cell_type": "markdown",
   "metadata": {},
   "source": [
    "You can easily save your created figures by adding the function ```fig.savefig()``` to your code. The only argument you need to pass to the function is a complete path/just the file name (you then save it in your directory).\n",
    "\n",
    "*Recommendation: Use vector-based graphics; so, you don't get blurry figures in your document later on (e.g. SVG, EPS, PDF)*"
   ]
  },
  {
   "cell_type": "code",
   "execution_count": 152,
   "metadata": {},
   "outputs": [
    {
     "data": {
      "image/png": "[encoded data removed]",
      "text/plain": [
       "<Figure size 432x288 with 1 Axes>"
      ]
     },
     "metadata": {
      "needs_background": "light"
     },
     "output_type": "display_data"
    }
   ],
   "source": [
    "fig, ax = plt.subplots(1, 1) # Initializing the 'Figure' and 'Axes' objects \n",
    "ax.plot(x, y); # Line Plot function \n",
    "ax.set_xlabel('x'); #  Set label for x-Axis \n",
    "ax.set_ylabel('y'); # Set label for y-Axis\n",
    "ax.set_title('My first Plot with matplotlib'); # Set title\n",
    "\n",
    "# Save plot\n",
    "fig.savefig('line.pdf', \n",
    "            format='pdf', \n",
    "            bbox_inches = 'tight'); # bbox_inches = 'tight' created a padding around the figure"
   ]
  },
  {
   "cell_type": "markdown",
   "metadata": {},
   "source": [
    "### Exercises"
   ]
  },
  {
   "cell_type": "markdown",
   "metadata": {},
   "source": [
    "Now, it's time for you to get your hands dirty. Please answer the following questions by choosing a **suitable graphical representation** of the data *(think about the scales)* including axis labels, title and legend (if necessary). Before you create a plot, please check whether difficulties can arise and how they can be remedied. For simplicity, 'NA's can be removed from the data. \n",
    "\n",
    "*Tip:* The following resources might be helpful:\n",
    "- www.stackoverflow.com\n",
    "- matplotlib documentation: https://matplotlib.org/api/axes_api.html"
   ]
  },
  {
   "cell_type": "markdown",
   "metadata": {},
   "source": [
    "1) **Create a Covid-19 subset of Berlin.** <br>"
   ]
  },
  {
   "cell_type": "code",
   "execution_count": 165,
   "metadata": {},
   "outputs": [],
   "source": [
    "berlin = covid19[covid19['Bundesland']=='Berlin']"
   ]
  },
  {
   "cell_type": "markdown",
   "metadata": {},
   "source": [
    "**Solution**"
   ]
  },
  {
   "cell_type": "code",
   "execution_count": null,
   "metadata": {},
   "outputs": [],
   "source": []
  },
  {
   "cell_type": "markdown",
   "metadata": {},
   "source": [
    "2) **Plot the Covid-19 cases by sex in Berlin.** <br><br>\n",
    "*Steps:*<br>\n",
    "2.1 Select the required variables and store them in a separate dataframe.<br>\n",
    "2.2 Group the data by sex and take the sum of the required variable.<br>\n",
    "2.3 Create the plot."
   ]
  },
  {
   "cell_type": "code",
   "execution_count": 160,
   "metadata": {},
   "outputs": [
    {
     "data": {
      "image/png": "[encoded data removed]",
      "text/plain": [
       "<Figure size 864x432 with 1 Axes>"
      ]
     },
     "metadata": {
      "needs_background": "light"
     },
     "output_type": "display_data"
    }
   ],
   "source": [
    "### 2.1\n",
    "berlin_cases = berlin[['Geschlecht', 'AnzahlFall']]\n",
    "\n",
    "### 2.2\n",
    "berlin_cases_sex = berlin_cases.groupby('Geschlecht').sum().reset_index()\n",
    "\n",
    "###\n",
    "fig, ax = plt.subplots(1, 1, figsize=(12,6))\n",
    "\n",
    "ax.bar(berlin_cases_sex['Geschlecht'], berlin_cases_sex['AnzahlFall'])\n",
    "ax.set_xlabel('Sex')\n",
    "ax.set_ylabel('Count')\n",
    "ax.set_title('Reported Covid-19 cases by sex in Berlin');\n"
   ]
  },
  {
   "cell_type": "markdown",
   "metadata": {},
   "source": [
    "**Solution**"
   ]
  },
  {
   "cell_type": "code",
   "execution_count": null,
   "metadata": {},
   "outputs": [],
   "source": []
  },
  {
   "cell_type": "markdown",
   "metadata": {},
   "source": [
    "**3) Plot the Covid-19 cases by age group in Berlin.**<br><br>\n",
    "*Steps:*<br>\n",
    "3.1 Select the required variables and store them in a separate dataframe.<br>\n",
    "3.2 Group the data by age group and take the sum of the required variable.<br>\n",
    "3.3 Create the plot."
   ]
  },
  {
   "cell_type": "code",
   "execution_count": 173,
   "metadata": {},
   "outputs": [
    {
     "data": {
      "image/png": "[encoded data removed]",
      "text/plain": [
       "<Figure size 864x432 with 1 Axes>"
      ]
     },
     "metadata": {
      "needs_background": "light"
     },
     "output_type": "display_data"
    }
   ],
   "source": [
    "### 3.1\n",
    "berlin_cases = berlin[['Altersgruppe','AnzahlFall']]\n",
    "\n",
    "\n",
    "### 3.2\n",
    "berlin_cases_age = berlin_cases.groupby('Altersgruppe')['AnzahlFall'].sum().reset_index()\n",
    "\n",
    "### 3.3\n",
    "fig, ax = plt.subplots(1, 1, figsize=(12,6))\n",
    "ax.bar(berlin_cases_age['Altersgruppe'], berlin_cases_age['AnzahlFall'])\n",
    "ax.set_xlabel('Age group')\n",
    "ax.set_ylabel('Count')\n",
    "ax.set_title('Reported Covid-19 cases by age group in Berlin');\n"
   ]
  },
  {
   "cell_type": "markdown",
   "metadata": {},
   "source": [
    "**Solution**"
   ]
  },
  {
   "cell_type": "code",
   "execution_count": null,
   "metadata": {},
   "outputs": [],
   "source": []
  },
  {
   "cell_type": "markdown",
   "metadata": {},
   "source": [
    "4) **Plot the cumulative cases by age group over time.**<br><br>\n",
    "*Steps:*<br>\n",
    "4.1 Select the required variables and store them in a separate dataframe.<br>\n",
    "4.2 Group the data by age group as well as reporting date and take the sum of the required variable.<br>\n",
    "4.3 Group the data again by *level=0* and take the cumulative sum.<br>\n",
    "4.4 Reset the index of the resulting dataframe.<br>\n",
    "4.5 Create an array with unique ages groups.<br>\n",
    "4.6 Loop through the age group array and plot the data."
   ]
  },
  {
   "cell_type": "code",
   "execution_count": 178,
   "metadata": {},
   "outputs": [
    {
     "data": {
      "image/png": "[encoded data removed]",
      "text/plain": [
       "<Figure size 1008x432 with 1 Axes>"
      ]
     },
     "metadata": {
      "needs_background": "light"
     },
     "output_type": "display_data"
    }
   ],
   "source": [
    "### 4.1\n",
    "berlin_cases = berlin[['Altersgruppe','AnzahlFall','Meldedatum']]\n",
    "### 4.2\n",
    "berlin_cases_grouped = berlin_cases.groupby(['Altersgruppe','Meldedatum'])['AnzahlFall'].sum()\n",
    "### 4.3\n",
    "berlin_cases_cum = berlin_cases_grouped.groupby(level=0).cumsum()\n",
    "### 4.4\n",
    "berlin_cases_cum = berlin_cases_cum.reset_index()\n",
    "### 4.5\n",
    "age_groups = berlin_cases_cum['Altersgruppe'].unique()\n",
    "### 4.6\n",
    "fig, ax= plt.subplots(1,1,figsize=(14,6))\n",
    "\n",
    "for age_group in age_groups:\n",
    "    x = berlin_cases_cum[berlin_cases_cum['Altersgruppe']==age_group]['Meldedatum']\n",
    "    y = berlin_cases_cum[berlin_cases_cum['Altersgruppe']==age_group]['AnzahlFall']\n",
    "    ax.plot(x,y,label=age_group)\n",
    "\n",
    "ax.set_xlabel('Reporting date')\n",
    "ax.set_ylabel('Count')\n",
    "ax.set_title('Reported Covid-19 cases by age group over time in Berlin')\n",
    "ax.legend();"
   ]
  },
  {
   "cell_type": "markdown",
   "metadata": {},
   "source": [
    "**Solution**"
   ]
  },
  {
   "cell_type": "code",
   "execution_count": null,
   "metadata": {},
   "outputs": [],
   "source": []
  }
 ],
 "metadata": {
  "kernelspec": {
   "display_name": "Python 3",
   "language": "python",
   "name": "python3"
  },
  "language_info": {
   "codemirror_mode": {
    "name": "ipython",
    "version": 3
   },
   "file_extension": ".py",
   "mimetype": "text/x-python",
   "name": "python",
   "nbconvert_exporter": "python",
   "pygments_lexer": "ipython3",
   "version": "3.7.5"
  }
 },
 "nbformat": 4,
 "nbformat_minor": 2
}
