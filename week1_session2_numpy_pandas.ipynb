{
 "cells": [
  {
   "cell_type": "markdown",
   "metadata": {
    "toc-hr-collapsed": false
   },
   "source": [
    "# AI in Medicine\n",
    "From vectors and matrices to artificial intelligence\n",
    "\n",
    "## Data Science - Basics I\n",
    "### Python Programming: *numpy* and *pandas*\n",
    "\n",
    "Instructor: Dominique Sydow, AG Volkamer, Charité"
   ]
  },
  {
   "cell_type": "markdown",
   "metadata": {},
   "source": [
    "## 1. Aims of this talktorial/session\n",
    "\n",
    "TBA"
   ]
  },
  {
   "cell_type": "markdown",
   "metadata": {},
   "source": [
    "## 2. Learning goals\n",
    "\n",
    "### Theory\n",
    "\n",
    "* Data science - what is that?\n",
    "* Python packages for data science\n",
    "* The *numpy* library\n",
    "* The *pandas* library\n",
    "\n",
    "### Practical\n",
    "\n",
    "* Dataset\n",
    "* Read data with *pandas* as DataFrame\n",
    "* Look at individual DataFrame components\n",
    "* Look at data\n",
    "* Subset data\n",
    "* Group data\n",
    "* Write data"
   ]
  },
  {
   "cell_type": "markdown",
   "metadata": {},
   "source": [
    "## 3. References\n",
    "\n",
    "* https://medium.com/dunder-data/how-to-learn-pandas-108905ab4955\n",
    "* https://www.shanelynn.ie/select-pandas-dataframe-rows-and-columns-using-iloc-loc-and-ix/#iloc-selection\n",
    "* https://medium.com/dunder-data/selecting-subsets-of-data-in-pandas-6fcd0170be9c"
   ]
  },
  {
   "cell_type": "markdown",
   "metadata": {},
   "source": [
    "## 4. Theory\n",
    "\n",
    "### Data Science\n",
    "\n",
    "TBA"
   ]
  },
  {
   "cell_type": "markdown",
   "metadata": {},
   "source": [
    "### Python packages for data science\n",
    "\n",
    "TBA"
   ]
  },
  {
   "cell_type": "markdown",
   "metadata": {},
   "source": [
    "### The *numpy* library"
   ]
  },
  {
   "cell_type": "markdown",
   "metadata": {},
   "source": [
    "#### Overview\n",
    "\n",
    "* Role: TBA\n",
    "* Website: TBA\n",
    "> TBA\n",
    "* Documentation: TBA\n",
    "* Literature: TBA"
   ]
  },
  {
   "cell_type": "markdown",
   "metadata": {},
   "source": [
    "#### Applications\n",
    "\n",
    "TBA"
   ]
  },
  {
   "cell_type": "markdown",
   "metadata": {},
   "source": [
    "### The *pandas* library"
   ]
  },
  {
   "cell_type": "markdown",
   "metadata": {},
   "source": [
    "#### Overview\n",
    "\n",
    "* Role: Data manipulation and analysis\n",
    "* Website: https://pandas.pydata.org/\n",
    "> *pandas* is an open source, BSD-licensed library providing high-performance, easy-to-use data structures and data analysis tools for the Python programming language.\n",
    "* Documentation: https://pandas.pydata.org/pandas-docs/stable/\n",
    "* Literature: TBA"
   ]
  },
  {
   "cell_type": "markdown",
   "metadata": {},
   "source": [
    "#### Applications\n",
    "\n",
    "Taken from: https://medium.com/dunder-data/how-to-learn-pandas-108905ab4955\n",
    "\n",
    "*pandas* is capable of many tasks including:\n",
    "\n",
    "* Reading/writing many different data formats\n",
    "* Selecting subsets of data\n",
    "* Calculating across rows and down columns\n",
    "* Finding and filling missing data\n",
    "* Applying operations to independent groups within the data\n",
    "* Reshaping data into different forms\n",
    "* Combing multiple datasets together\n",
    "* Advanced time-series functionality\n",
    "* Visualization through matplotlib and seaborn"
   ]
  },
  {
   "cell_type": "markdown",
   "metadata": {},
   "source": [
    "#### DataFrame and Series\n",
    "\n",
    "The *pandas* library has two primary containers of data, the DataFrame and the Series. You will spend nearly all your time working with both of the objects when you use pandas. The DataFrame is used more than the Series, so let’s take a look at an image of it first.\n",
    "\n",
    "![DataFrame anatomy](https://cdn-images-1.medium.com/max/1600/1*ZSehcrMtBWN7_qCWq_HiSg.png)\n",
    "**Figure X**: DataFrame anatomy. Figure source: https://medium.com/dunder-data/selecting-subsets-of-data-in-pandas-6fcd0170be9c"
   ]
  },
  {
   "cell_type": "markdown",
   "metadata": {},
   "source": [
    "## 5. Practical"
   ]
  },
  {
   "cell_type": "code",
   "execution_count": 1,
   "metadata": {},
   "outputs": [],
   "source": [
    "import numpy as np\n",
    "import pandas as pd"
   ]
  },
  {
   "cell_type": "markdown",
   "metadata": {},
   "source": [
    "### Dataset\n",
    "\n",
    "TBA\n",
    "\n",
    "What you need to know about our dataset:\n",
    "\n",
    "* Raw data `alzheimers_disease.csv`\n",
    "* Column name description `dictionary.csv`\n",
    "* Final columns of interest:\n",
    "  * `TBA`\n",
    "  * `TBA`\n",
    "  * `TBA`"
   ]
  },
  {
   "cell_type": "markdown",
   "metadata": {},
   "source": [
    "### Read data with *pandas* as DataFrame\n",
    "\n",
    "TBA"
   ]
  },
  {
   "cell_type": "code",
   "execution_count": 2,
   "metadata": {},
   "outputs": [
    {
     "name": "stderr",
     "output_type": "stream",
     "text": [
      "/home/dominique/anaconda2/envs/aimed/lib/python3.6/site-packages/IPython/core/interactiveshell.py:3051: DtypeWarning: Columns (16,17,18,99,100) have mixed types. Specify dtype option on import or set low_memory=False.\n",
      "  interactivity=interactivity, compiler=compiler, result=result)\n"
     ]
    }
   ],
   "source": [
    "data = pd.read_csv(\n",
    "    './data/alzheimers_disease.csv', \n",
    "    delimiter=','\n",
    "    # dtypes\n",
    ")"
   ]
  },
  {
   "cell_type": "markdown",
   "metadata": {},
   "source": [
    "### Look at data"
   ]
  },
  {
   "cell_type": "markdown",
   "metadata": {},
   "source": [
    "#### DataFrame dimensionality\n",
    "\n",
    "Show the number of columns and rows (= dimensionality/shape) of the table in the form of `(number of rows, number of columns)`"
   ]
  },
  {
   "cell_type": "code",
   "execution_count": 3,
   "metadata": {},
   "outputs": [
    {
     "data": {
      "text/plain": [
       "(14532, 109)"
      ]
     },
     "execution_count": 3,
     "metadata": {},
     "output_type": "execute_result"
    }
   ],
   "source": [
    "data.shape"
   ]
  },
  {
   "cell_type": "markdown",
   "metadata": {},
   "source": [
    "Set the number of rows displayed in this Jupyter notebook."
   ]
  },
  {
   "cell_type": "code",
   "execution_count": 4,
   "metadata": {},
   "outputs": [],
   "source": [
    "pd.set_option('display.max_rows', 20)"
   ]
  },
  {
   "cell_type": "markdown",
   "metadata": {},
   "source": [
    "#### DataFrame head/tail\n",
    "\n",
    "Have a look at first few rows of the table."
   ]
  },
  {
   "cell_type": "code",
   "execution_count": 5,
   "metadata": {},
   "outputs": [
    {
     "data": {
      "text/html": [
       "<div>\n",
       "<style scoped>\n",
       "    .dataframe tbody tr th:only-of-type {\n",
       "        vertical-align: middle;\n",
       "    }\n",
       "\n",
       "    .dataframe tbody tr th {\n",
       "        vertical-align: top;\n",
       "    }\n",
       "\n",
       "    .dataframe thead th {\n",
       "        text-align: right;\n",
       "    }\n",
       "</style>\n",
       "<table border=\"1\" class=\"dataframe\">\n",
       "  <thead>\n",
       "    <tr style=\"text-align: right;\">\n",
       "      <th></th>\n",
       "      <th>RID</th>\n",
       "      <th>VISCODE</th>\n",
       "      <th>SITE</th>\n",
       "      <th>EXAMDATE</th>\n",
       "      <th>DX_bl</th>\n",
       "      <th>AGE</th>\n",
       "      <th>PTGENDER</th>\n",
       "      <th>PTEDUCAT</th>\n",
       "      <th>WORK</th>\n",
       "      <th>PTETHCAT</th>\n",
       "      <th>...</th>\n",
       "      <th>TAU_bl</th>\n",
       "      <th>PTAU_bl</th>\n",
       "      <th>FDG_bl</th>\n",
       "      <th>PIB_bl</th>\n",
       "      <th>AV45_bl</th>\n",
       "      <th>Years_bl</th>\n",
       "      <th>Month_bl</th>\n",
       "      <th>Month</th>\n",
       "      <th>M</th>\n",
       "      <th>update_stamp</th>\n",
       "    </tr>\n",
       "  </thead>\n",
       "  <tbody>\n",
       "    <tr>\n",
       "      <th>0</th>\n",
       "      <td>2</td>\n",
       "      <td>bl</td>\n",
       "      <td>11</td>\n",
       "      <td>2005-09-08</td>\n",
       "      <td>CN</td>\n",
       "      <td>74.3</td>\n",
       "      <td>Male</td>\n",
       "      <td>16</td>\n",
       "      <td>technical writer and editor</td>\n",
       "      <td>Not Hisp/Latino</td>\n",
       "      <td>...</td>\n",
       "      <td>NaN</td>\n",
       "      <td>NaN</td>\n",
       "      <td>1.36665</td>\n",
       "      <td>NaN</td>\n",
       "      <td>NaN</td>\n",
       "      <td>0.000000</td>\n",
       "      <td>0.00000</td>\n",
       "      <td>0</td>\n",
       "      <td>0.0</td>\n",
       "      <td>2019-12-04 04:19:56.0</td>\n",
       "    </tr>\n",
       "    <tr>\n",
       "      <th>1</th>\n",
       "      <td>3</td>\n",
       "      <td>bl</td>\n",
       "      <td>11</td>\n",
       "      <td>2005-09-12</td>\n",
       "      <td>AD</td>\n",
       "      <td>81.3</td>\n",
       "      <td>Male</td>\n",
       "      <td>18</td>\n",
       "      <td>Secretary</td>\n",
       "      <td>Not Hisp/Latino</td>\n",
       "      <td>...</td>\n",
       "      <td>239.7</td>\n",
       "      <td>22.83</td>\n",
       "      <td>1.08355</td>\n",
       "      <td>NaN</td>\n",
       "      <td>NaN</td>\n",
       "      <td>0.000000</td>\n",
       "      <td>0.00000</td>\n",
       "      <td>0</td>\n",
       "      <td>0.0</td>\n",
       "      <td>2019-12-04 04:19:56.0</td>\n",
       "    </tr>\n",
       "    <tr>\n",
       "      <th>2</th>\n",
       "      <td>3</td>\n",
       "      <td>m06</td>\n",
       "      <td>11</td>\n",
       "      <td>2006-03-13</td>\n",
       "      <td>AD</td>\n",
       "      <td>81.3</td>\n",
       "      <td>Male</td>\n",
       "      <td>18</td>\n",
       "      <td>Elementary school teacher</td>\n",
       "      <td>Not Hisp/Latino</td>\n",
       "      <td>...</td>\n",
       "      <td>239.7</td>\n",
       "      <td>22.83</td>\n",
       "      <td>1.08355</td>\n",
       "      <td>NaN</td>\n",
       "      <td>NaN</td>\n",
       "      <td>0.498289</td>\n",
       "      <td>5.96721</td>\n",
       "      <td>6</td>\n",
       "      <td>6.0</td>\n",
       "      <td>2019-12-04 04:19:56.0</td>\n",
       "    </tr>\n",
       "    <tr>\n",
       "      <th>3</th>\n",
       "      <td>3</td>\n",
       "      <td>m12</td>\n",
       "      <td>11</td>\n",
       "      <td>2006-09-12</td>\n",
       "      <td>AD</td>\n",
       "      <td>81.3</td>\n",
       "      <td>Male</td>\n",
       "      <td>18</td>\n",
       "      <td>Communication</td>\n",
       "      <td>Not Hisp/Latino</td>\n",
       "      <td>...</td>\n",
       "      <td>239.7</td>\n",
       "      <td>22.83</td>\n",
       "      <td>1.08355</td>\n",
       "      <td>NaN</td>\n",
       "      <td>NaN</td>\n",
       "      <td>0.999316</td>\n",
       "      <td>11.96720</td>\n",
       "      <td>12</td>\n",
       "      <td>12.0</td>\n",
       "      <td>2019-12-04 04:19:56.0</td>\n",
       "    </tr>\n",
       "    <tr>\n",
       "      <th>4</th>\n",
       "      <td>3</td>\n",
       "      <td>m24</td>\n",
       "      <td>11</td>\n",
       "      <td>2007-09-12</td>\n",
       "      <td>AD</td>\n",
       "      <td>81.3</td>\n",
       "      <td>Male</td>\n",
       "      <td>18</td>\n",
       "      <td>Accounting</td>\n",
       "      <td>Not Hisp/Latino</td>\n",
       "      <td>...</td>\n",
       "      <td>239.7</td>\n",
       "      <td>22.83</td>\n",
       "      <td>1.08355</td>\n",
       "      <td>NaN</td>\n",
       "      <td>NaN</td>\n",
       "      <td>1.998630</td>\n",
       "      <td>23.93440</td>\n",
       "      <td>24</td>\n",
       "      <td>24.0</td>\n",
       "      <td>2019-12-04 04:19:56.0</td>\n",
       "    </tr>\n",
       "  </tbody>\n",
       "</table>\n",
       "<p>5 rows × 109 columns</p>\n",
       "</div>"
      ],
      "text/plain": [
       "   RID VISCODE  SITE    EXAMDATE DX_bl   AGE PTGENDER  PTEDUCAT  \\\n",
       "0    2      bl    11  2005-09-08    CN  74.3     Male        16   \n",
       "1    3      bl    11  2005-09-12    AD  81.3     Male        18   \n",
       "2    3     m06    11  2006-03-13    AD  81.3     Male        18   \n",
       "3    3     m12    11  2006-09-12    AD  81.3     Male        18   \n",
       "4    3     m24    11  2007-09-12    AD  81.3     Male        18   \n",
       "\n",
       "                          WORK         PTETHCAT  ... TAU_bl PTAU_bl   FDG_bl  \\\n",
       "0  technical writer and editor  Not Hisp/Latino  ...    NaN     NaN  1.36665   \n",
       "1                    Secretary  Not Hisp/Latino  ...  239.7   22.83  1.08355   \n",
       "2    Elementary school teacher  Not Hisp/Latino  ...  239.7   22.83  1.08355   \n",
       "3                Communication  Not Hisp/Latino  ...  239.7   22.83  1.08355   \n",
       "4                   Accounting  Not Hisp/Latino  ...  239.7   22.83  1.08355   \n",
       "\n",
       "   PIB_bl  AV45_bl  Years_bl  Month_bl Month     M           update_stamp  \n",
       "0     NaN      NaN  0.000000   0.00000     0   0.0  2019-12-04 04:19:56.0  \n",
       "1     NaN      NaN  0.000000   0.00000     0   0.0  2019-12-04 04:19:56.0  \n",
       "2     NaN      NaN  0.498289   5.96721     6   6.0  2019-12-04 04:19:56.0  \n",
       "3     NaN      NaN  0.999316  11.96720    12  12.0  2019-12-04 04:19:56.0  \n",
       "4     NaN      NaN  1.998630  23.93440    24  24.0  2019-12-04 04:19:56.0  \n",
       "\n",
       "[5 rows x 109 columns]"
      ]
     },
     "execution_count": 5,
     "metadata": {},
     "output_type": "execute_result"
    }
   ],
   "source": [
    "data.head()  # data.head(10)"
   ]
  },
  {
   "cell_type": "markdown",
   "metadata": {},
   "source": [
    "Have a look at the last few rows of the table."
   ]
  },
  {
   "cell_type": "code",
   "execution_count": 6,
   "metadata": {},
   "outputs": [
    {
     "data": {
      "text/html": [
       "<div>\n",
       "<style scoped>\n",
       "    .dataframe tbody tr th:only-of-type {\n",
       "        vertical-align: middle;\n",
       "    }\n",
       "\n",
       "    .dataframe tbody tr th {\n",
       "        vertical-align: top;\n",
       "    }\n",
       "\n",
       "    .dataframe thead th {\n",
       "        text-align: right;\n",
       "    }\n",
       "</style>\n",
       "<table border=\"1\" class=\"dataframe\">\n",
       "  <thead>\n",
       "    <tr style=\"text-align: right;\">\n",
       "      <th></th>\n",
       "      <th>RID</th>\n",
       "      <th>VISCODE</th>\n",
       "      <th>SITE</th>\n",
       "      <th>EXAMDATE</th>\n",
       "      <th>DX_bl</th>\n",
       "      <th>AGE</th>\n",
       "      <th>PTGENDER</th>\n",
       "      <th>PTEDUCAT</th>\n",
       "      <th>WORK</th>\n",
       "      <th>PTETHCAT</th>\n",
       "      <th>...</th>\n",
       "      <th>TAU_bl</th>\n",
       "      <th>PTAU_bl</th>\n",
       "      <th>FDG_bl</th>\n",
       "      <th>PIB_bl</th>\n",
       "      <th>AV45_bl</th>\n",
       "      <th>Years_bl</th>\n",
       "      <th>Month_bl</th>\n",
       "      <th>Month</th>\n",
       "      <th>M</th>\n",
       "      <th>update_stamp</th>\n",
       "    </tr>\n",
       "  </thead>\n",
       "  <tbody>\n",
       "    <tr>\n",
       "      <th>14527</th>\n",
       "      <td>6097</td>\n",
       "      <td>m24</td>\n",
       "      <td>99</td>\n",
       "      <td>2019-12-12</td>\n",
       "      <td>SMC</td>\n",
       "      <td>74.6</td>\n",
       "      <td>Male</td>\n",
       "      <td>18</td>\n",
       "      <td>RN</td>\n",
       "      <td>Not Hisp/Latino</td>\n",
       "      <td>...</td>\n",
       "      <td>NaN</td>\n",
       "      <td>NaN</td>\n",
       "      <td>NaN</td>\n",
       "      <td>NaN</td>\n",
       "      <td>1.004900</td>\n",
       "      <td>2.02053</td>\n",
       "      <td>24.1967</td>\n",
       "      <td>24</td>\n",
       "      <td>24.0</td>\n",
       "      <td>2019-12-14 04:20:30.0</td>\n",
       "    </tr>\n",
       "    <tr>\n",
       "      <th>14528</th>\n",
       "      <td>4706</td>\n",
       "      <td>m96</td>\n",
       "      <td>37</td>\n",
       "      <td>2019-12-16</td>\n",
       "      <td>EMCI</td>\n",
       "      <td>60.7</td>\n",
       "      <td>Male</td>\n",
       "      <td>14</td>\n",
       "      <td>painting contractor</td>\n",
       "      <td>Not Hisp/Latino</td>\n",
       "      <td>...</td>\n",
       "      <td>261.3</td>\n",
       "      <td>23.94</td>\n",
       "      <td>1.28876</td>\n",
       "      <td>NaN</td>\n",
       "      <td>0.946004</td>\n",
       "      <td>7.58385</td>\n",
       "      <td>90.8197</td>\n",
       "      <td>90</td>\n",
       "      <td>96.0</td>\n",
       "      <td>2019-12-17 04:20:22.0</td>\n",
       "    </tr>\n",
       "    <tr>\n",
       "      <th>14529</th>\n",
       "      <td>6136</td>\n",
       "      <td>m24</td>\n",
       "      <td>41</td>\n",
       "      <td>2019-12-03</td>\n",
       "      <td>CN</td>\n",
       "      <td>61.1</td>\n",
       "      <td>Male</td>\n",
       "      <td>12</td>\n",
       "      <td>Surgeon</td>\n",
       "      <td>Not Hisp/Latino</td>\n",
       "      <td>...</td>\n",
       "      <td>NaN</td>\n",
       "      <td>NaN</td>\n",
       "      <td>NaN</td>\n",
       "      <td>NaN</td>\n",
       "      <td>NaN</td>\n",
       "      <td>1.96851</td>\n",
       "      <td>23.5738</td>\n",
       "      <td>24</td>\n",
       "      <td>24.0</td>\n",
       "      <td>2019-12-17 04:20:25.0</td>\n",
       "    </tr>\n",
       "    <tr>\n",
       "      <th>14530</th>\n",
       "      <td>6610</td>\n",
       "      <td>m12</td>\n",
       "      <td>6</td>\n",
       "      <td>2019-11-26</td>\n",
       "      <td>LMCI</td>\n",
       "      <td>61.3</td>\n",
       "      <td>Male</td>\n",
       "      <td>10</td>\n",
       "      <td>Insurance Broker</td>\n",
       "      <td>Not Hisp/Latino</td>\n",
       "      <td>...</td>\n",
       "      <td>NaN</td>\n",
       "      <td>NaN</td>\n",
       "      <td>1.19248</td>\n",
       "      <td>NaN</td>\n",
       "      <td>NaN</td>\n",
       "      <td>1.01574</td>\n",
       "      <td>12.1639</td>\n",
       "      <td>12</td>\n",
       "      <td>12.0</td>\n",
       "      <td>2019-12-17 04:20:26.0</td>\n",
       "    </tr>\n",
       "    <tr>\n",
       "      <th>14531</th>\n",
       "      <td>6834</td>\n",
       "      <td>bl</td>\n",
       "      <td>16</td>\n",
       "      <td>2019-12-11</td>\n",
       "      <td>NaN</td>\n",
       "      <td>82.3</td>\n",
       "      <td>Female</td>\n",
       "      <td>16</td>\n",
       "      <td>NaN</td>\n",
       "      <td>Not Hisp/Latino</td>\n",
       "      <td>...</td>\n",
       "      <td>NaN</td>\n",
       "      <td>NaN</td>\n",
       "      <td>NaN</td>\n",
       "      <td>NaN</td>\n",
       "      <td>NaN</td>\n",
       "      <td>0.00000</td>\n",
       "      <td>0.0000</td>\n",
       "      <td>0</td>\n",
       "      <td>0.0</td>\n",
       "      <td>2019-12-17 04:20:26.0</td>\n",
       "    </tr>\n",
       "  </tbody>\n",
       "</table>\n",
       "<p>5 rows × 109 columns</p>\n",
       "</div>"
      ],
      "text/plain": [
       "        RID VISCODE  SITE    EXAMDATE DX_bl   AGE PTGENDER  PTEDUCAT  \\\n",
       "14527  6097     m24    99  2019-12-12   SMC  74.6     Male        18   \n",
       "14528  4706     m96    37  2019-12-16  EMCI  60.7     Male        14   \n",
       "14529  6136     m24    41  2019-12-03    CN  61.1     Male        12   \n",
       "14530  6610     m12     6  2019-11-26  LMCI  61.3     Male        10   \n",
       "14531  6834      bl    16  2019-12-11   NaN  82.3   Female        16   \n",
       "\n",
       "                      WORK         PTETHCAT  ... TAU_bl PTAU_bl   FDG_bl  \\\n",
       "14527                   RN  Not Hisp/Latino  ...    NaN     NaN      NaN   \n",
       "14528  painting contractor  Not Hisp/Latino  ...  261.3   23.94  1.28876   \n",
       "14529              Surgeon  Not Hisp/Latino  ...    NaN     NaN      NaN   \n",
       "14530     Insurance Broker  Not Hisp/Latino  ...    NaN     NaN  1.19248   \n",
       "14531                  NaN  Not Hisp/Latino  ...    NaN     NaN      NaN   \n",
       "\n",
       "       PIB_bl   AV45_bl  Years_bl Month_bl Month     M           update_stamp  \n",
       "14527     NaN  1.004900   2.02053  24.1967    24  24.0  2019-12-14 04:20:30.0  \n",
       "14528     NaN  0.946004   7.58385  90.8197    90  96.0  2019-12-17 04:20:22.0  \n",
       "14529     NaN       NaN   1.96851  23.5738    24  24.0  2019-12-17 04:20:25.0  \n",
       "14530     NaN       NaN   1.01574  12.1639    12  12.0  2019-12-17 04:20:26.0  \n",
       "14531     NaN       NaN   0.00000   0.0000     0   0.0  2019-12-17 04:20:26.0  \n",
       "\n",
       "[5 rows x 109 columns]"
      ]
     },
     "execution_count": 6,
     "metadata": {},
     "output_type": "execute_result"
    }
   ],
   "source": [
    "data.tail()  # data.tail(10)"
   ]
  },
  {
   "cell_type": "markdown",
   "metadata": {},
   "source": [
    "#### DataFrame information\n",
    "\n",
    "Get information about a DataFrame including the index dtype and column dtypes, non-null values and memory usage"
   ]
  },
  {
   "cell_type": "code",
   "execution_count": 7,
   "metadata": {},
   "outputs": [
    {
     "name": "stdout",
     "output_type": "stream",
     "text": [
      "<class 'pandas.core.frame.DataFrame'>\n",
      "RangeIndex: 14532 entries, 0 to 14531\n",
      "Columns: 109 entries, RID to update_stamp\n",
      "dtypes: float64(87), int64(5), object(17)\n",
      "memory usage: 12.1+ MB\n"
     ]
    }
   ],
   "source": [
    "data.info()"
   ]
  },
  {
   "cell_type": "markdown",
   "metadata": {},
   "source": [
    "![bla](https://pbpython.com/images/pandas_dtypes.png)"
   ]
  },
  {
   "cell_type": "markdown",
   "metadata": {},
   "source": [
    "#### Descriptive statistics on DataFrame data\n",
    "\n",
    "Use the describe method to see how the data is distributed (numerical features only!)."
   ]
  },
  {
   "cell_type": "code",
   "execution_count": 8,
   "metadata": {},
   "outputs": [
    {
     "data": {
      "text/html": [
       "<div>\n",
       "<style scoped>\n",
       "    .dataframe tbody tr th:only-of-type {\n",
       "        vertical-align: middle;\n",
       "    }\n",
       "\n",
       "    .dataframe tbody tr th {\n",
       "        vertical-align: top;\n",
       "    }\n",
       "\n",
       "    .dataframe thead th {\n",
       "        text-align: right;\n",
       "    }\n",
       "</style>\n",
       "<table border=\"1\" class=\"dataframe\">\n",
       "  <thead>\n",
       "    <tr style=\"text-align: right;\">\n",
       "      <th></th>\n",
       "      <th>RID</th>\n",
       "      <th>SITE</th>\n",
       "      <th>AGE</th>\n",
       "      <th>PTEDUCAT</th>\n",
       "      <th>APOE4</th>\n",
       "      <th>FDG</th>\n",
       "      <th>PIB</th>\n",
       "      <th>AV45</th>\n",
       "      <th>CDRSB</th>\n",
       "      <th>ADAS11</th>\n",
       "      <th>...</th>\n",
       "      <th>EcogSPOrgan_bl</th>\n",
       "      <th>EcogSPDivatt_bl</th>\n",
       "      <th>EcogSPTotal_bl</th>\n",
       "      <th>FDG_bl</th>\n",
       "      <th>PIB_bl</th>\n",
       "      <th>AV45_bl</th>\n",
       "      <th>Years_bl</th>\n",
       "      <th>Month_bl</th>\n",
       "      <th>Month</th>\n",
       "      <th>M</th>\n",
       "    </tr>\n",
       "  </thead>\n",
       "  <tbody>\n",
       "    <tr>\n",
       "      <th>count</th>\n",
       "      <td>14532.000000</td>\n",
       "      <td>14532.000000</td>\n",
       "      <td>14529.000000</td>\n",
       "      <td>14532.000000</td>\n",
       "      <td>14311.000000</td>\n",
       "      <td>3630.000000</td>\n",
       "      <td>223.000000</td>\n",
       "      <td>2668.000000</td>\n",
       "      <td>10434.000000</td>\n",
       "      <td>10298.000000</td>\n",
       "      <td>...</td>\n",
       "      <td>7003.000000</td>\n",
       "      <td>7179.000000</td>\n",
       "      <td>7332.000000</td>\n",
       "      <td>10204.000000</td>\n",
       "      <td>152.000000</td>\n",
       "      <td>6748.000000</td>\n",
       "      <td>14532.000000</td>\n",
       "      <td>14532.000000</td>\n",
       "      <td>14532.000000</td>\n",
       "      <td>14531.000000</td>\n",
       "    </tr>\n",
       "    <tr>\n",
       "      <th>mean</th>\n",
       "      <td>2563.323218</td>\n",
       "      <td>77.022296</td>\n",
       "      <td>73.523622</td>\n",
       "      <td>16.052092</td>\n",
       "      <td>0.524562</td>\n",
       "      <td>1.205638</td>\n",
       "      <td>1.783161</td>\n",
       "      <td>1.189325</td>\n",
       "      <td>2.087407</td>\n",
       "      <td>11.497509</td>\n",
       "      <td>...</td>\n",
       "      <td>1.594829</td>\n",
       "      <td>1.780169</td>\n",
       "      <td>1.639910</td>\n",
       "      <td>1.248641</td>\n",
       "      <td>1.584260</td>\n",
       "      <td>1.193110</td>\n",
       "      <td>2.422059</td>\n",
       "      <td>29.005144</td>\n",
       "      <td>28.925475</td>\n",
       "      <td>28.746198</td>\n",
       "    </tr>\n",
       "    <tr>\n",
       "      <th>std</th>\n",
       "      <td>2050.550766</td>\n",
       "      <td>120.005597</td>\n",
       "      <td>7.015739</td>\n",
       "      <td>2.796145</td>\n",
       "      <td>0.651350</td>\n",
       "      <td>0.159013</td>\n",
       "      <td>0.422511</td>\n",
       "      <td>0.227371</td>\n",
       "      <td>2.851988</td>\n",
       "      <td>8.362519</td>\n",
       "      <td>...</td>\n",
       "      <td>0.813545</td>\n",
       "      <td>0.876843</td>\n",
       "      <td>0.685024</td>\n",
       "      <td>0.144250</td>\n",
       "      <td>0.303596</td>\n",
       "      <td>0.219290</td>\n",
       "      <td>2.559503</td>\n",
       "      <td>30.651094</td>\n",
       "      <td>30.620795</td>\n",
       "      <td>30.468485</td>\n",
       "    </tr>\n",
       "    <tr>\n",
       "      <th>min</th>\n",
       "      <td>2.000000</td>\n",
       "      <td>2.000000</td>\n",
       "      <td>0.000000</td>\n",
       "      <td>4.000000</td>\n",
       "      <td>0.000000</td>\n",
       "      <td>0.636743</td>\n",
       "      <td>1.095000</td>\n",
       "      <td>0.805364</td>\n",
       "      <td>0.000000</td>\n",
       "      <td>0.000000</td>\n",
       "      <td>...</td>\n",
       "      <td>1.000000</td>\n",
       "      <td>1.000000</td>\n",
       "      <td>1.000000</td>\n",
       "      <td>0.693671</td>\n",
       "      <td>1.155000</td>\n",
       "      <td>0.805364</td>\n",
       "      <td>0.000000</td>\n",
       "      <td>0.000000</td>\n",
       "      <td>0.000000</td>\n",
       "      <td>0.000000</td>\n",
       "    </tr>\n",
       "    <tr>\n",
       "      <th>25%</th>\n",
       "      <td>680.000000</td>\n",
       "      <td>21.000000</td>\n",
       "      <td>69.100000</td>\n",
       "      <td>14.000000</td>\n",
       "      <td>0.000000</td>\n",
       "      <td>1.108340</td>\n",
       "      <td>1.361250</td>\n",
       "      <td>1.007397</td>\n",
       "      <td>0.000000</td>\n",
       "      <td>6.000000</td>\n",
       "      <td>...</td>\n",
       "      <td>1.000000</td>\n",
       "      <td>1.000000</td>\n",
       "      <td>1.108110</td>\n",
       "      <td>1.160830</td>\n",
       "      <td>1.360000</td>\n",
       "      <td>1.015360</td>\n",
       "      <td>0.495551</td>\n",
       "      <td>5.934430</td>\n",
       "      <td>6.000000</td>\n",
       "      <td>6.000000</td>\n",
       "    </tr>\n",
       "    <tr>\n",
       "      <th>50%</th>\n",
       "      <td>2045.000000</td>\n",
       "      <td>41.000000</td>\n",
       "      <td>73.500000</td>\n",
       "      <td>16.000000</td>\n",
       "      <td>0.000000</td>\n",
       "      <td>1.218115</td>\n",
       "      <td>1.850000</td>\n",
       "      <td>1.106450</td>\n",
       "      <td>1.000000</td>\n",
       "      <td>9.330000</td>\n",
       "      <td>...</td>\n",
       "      <td>1.166670</td>\n",
       "      <td>1.500000</td>\n",
       "      <td>1.378380</td>\n",
       "      <td>1.256040</td>\n",
       "      <td>1.490000</td>\n",
       "      <td>1.108140</td>\n",
       "      <td>1.524980</td>\n",
       "      <td>18.262300</td>\n",
       "      <td>18.000000</td>\n",
       "      <td>18.000000</td>\n",
       "    </tr>\n",
       "    <tr>\n",
       "      <th>75%</th>\n",
       "      <td>4489.000000</td>\n",
       "      <td>116.000000</td>\n",
       "      <td>78.400000</td>\n",
       "      <td>18.000000</td>\n",
       "      <td>1.000000</td>\n",
       "      <td>1.310293</td>\n",
       "      <td>2.127500</td>\n",
       "      <td>1.353638</td>\n",
       "      <td>3.000000</td>\n",
       "      <td>15.000000</td>\n",
       "      <td>...</td>\n",
       "      <td>2.000000</td>\n",
       "      <td>2.250000</td>\n",
       "      <td>1.952613</td>\n",
       "      <td>1.339960</td>\n",
       "      <td>1.835000</td>\n",
       "      <td>1.359820</td>\n",
       "      <td>3.542780</td>\n",
       "      <td>42.426200</td>\n",
       "      <td>42.000000</td>\n",
       "      <td>42.000000</td>\n",
       "    </tr>\n",
       "    <tr>\n",
       "      <th>max</th>\n",
       "      <td>6837.000000</td>\n",
       "      <td>941.000000</td>\n",
       "      <td>91.400000</td>\n",
       "      <td>20.000000</td>\n",
       "      <td>2.000000</td>\n",
       "      <td>1.751210</td>\n",
       "      <td>2.927500</td>\n",
       "      <td>2.669210</td>\n",
       "      <td>18.000000</td>\n",
       "      <td>70.000000</td>\n",
       "      <td>...</td>\n",
       "      <td>4.000000</td>\n",
       "      <td>4.000000</td>\n",
       "      <td>3.948720</td>\n",
       "      <td>1.701130</td>\n",
       "      <td>2.282500</td>\n",
       "      <td>2.025560</td>\n",
       "      <td>14.086200</td>\n",
       "      <td>168.689000</td>\n",
       "      <td>168.000000</td>\n",
       "      <td>168.000000</td>\n",
       "    </tr>\n",
       "  </tbody>\n",
       "</table>\n",
       "<p>8 rows × 92 columns</p>\n",
       "</div>"
      ],
      "text/plain": [
       "                RID          SITE           AGE      PTEDUCAT         APOE4  \\\n",
       "count  14532.000000  14532.000000  14529.000000  14532.000000  14311.000000   \n",
       "mean    2563.323218     77.022296     73.523622     16.052092      0.524562   \n",
       "std     2050.550766    120.005597      7.015739      2.796145      0.651350   \n",
       "min        2.000000      2.000000      0.000000      4.000000      0.000000   \n",
       "25%      680.000000     21.000000     69.100000     14.000000      0.000000   \n",
       "50%     2045.000000     41.000000     73.500000     16.000000      0.000000   \n",
       "75%     4489.000000    116.000000     78.400000     18.000000      1.000000   \n",
       "max     6837.000000    941.000000     91.400000     20.000000      2.000000   \n",
       "\n",
       "               FDG         PIB         AV45         CDRSB        ADAS11  ...  \\\n",
       "count  3630.000000  223.000000  2668.000000  10434.000000  10298.000000  ...   \n",
       "mean      1.205638    1.783161     1.189325      2.087407     11.497509  ...   \n",
       "std       0.159013    0.422511     0.227371      2.851988      8.362519  ...   \n",
       "min       0.636743    1.095000     0.805364      0.000000      0.000000  ...   \n",
       "25%       1.108340    1.361250     1.007397      0.000000      6.000000  ...   \n",
       "50%       1.218115    1.850000     1.106450      1.000000      9.330000  ...   \n",
       "75%       1.310293    2.127500     1.353638      3.000000     15.000000  ...   \n",
       "max       1.751210    2.927500     2.669210     18.000000     70.000000  ...   \n",
       "\n",
       "       EcogSPOrgan_bl  EcogSPDivatt_bl  EcogSPTotal_bl        FDG_bl  \\\n",
       "count     7003.000000      7179.000000     7332.000000  10204.000000   \n",
       "mean         1.594829         1.780169        1.639910      1.248641   \n",
       "std          0.813545         0.876843        0.685024      0.144250   \n",
       "min          1.000000         1.000000        1.000000      0.693671   \n",
       "25%          1.000000         1.000000        1.108110      1.160830   \n",
       "50%          1.166670         1.500000        1.378380      1.256040   \n",
       "75%          2.000000         2.250000        1.952613      1.339960   \n",
       "max          4.000000         4.000000        3.948720      1.701130   \n",
       "\n",
       "           PIB_bl      AV45_bl      Years_bl      Month_bl         Month  \\\n",
       "count  152.000000  6748.000000  14532.000000  14532.000000  14532.000000   \n",
       "mean     1.584260     1.193110      2.422059     29.005144     28.925475   \n",
       "std      0.303596     0.219290      2.559503     30.651094     30.620795   \n",
       "min      1.155000     0.805364      0.000000      0.000000      0.000000   \n",
       "25%      1.360000     1.015360      0.495551      5.934430      6.000000   \n",
       "50%      1.490000     1.108140      1.524980     18.262300     18.000000   \n",
       "75%      1.835000     1.359820      3.542780     42.426200     42.000000   \n",
       "max      2.282500     2.025560     14.086200    168.689000    168.000000   \n",
       "\n",
       "                  M  \n",
       "count  14531.000000  \n",
       "mean      28.746198  \n",
       "std       30.468485  \n",
       "min        0.000000  \n",
       "25%        6.000000  \n",
       "50%       18.000000  \n",
       "75%       42.000000  \n",
       "max      168.000000  \n",
       "\n",
       "[8 rows x 92 columns]"
      ]
     },
     "execution_count": 8,
     "metadata": {},
     "output_type": "execute_result"
    }
   ],
   "source": [
    "data.describe()"
   ]
  },
  {
   "cell_type": "markdown",
   "metadata": {},
   "source": [
    "Get a list of the columns names."
   ]
  },
  {
   "cell_type": "code",
   "execution_count": 9,
   "metadata": {},
   "outputs": [
    {
     "data": {
      "text/plain": [
       "Index(['RID', 'VISCODE', 'SITE', 'EXAMDATE', 'DX_bl', 'AGE', 'PTGENDER',\n",
       "       'PTEDUCAT', 'WORK', 'PTETHCAT',\n",
       "       ...\n",
       "       'TAU_bl', 'PTAU_bl', 'FDG_bl', 'PIB_bl', 'AV45_bl', 'Years_bl',\n",
       "       'Month_bl', 'Month', 'M', 'update_stamp'],\n",
       "      dtype='object', length=109)"
      ]
     },
     "execution_count": 9,
     "metadata": {},
     "output_type": "execute_result"
    }
   ],
   "source": [
    "data.columns"
   ]
  },
  {
   "cell_type": "markdown",
   "metadata": {},
   "source": [
    "### Look at individual DataFrame components\n",
    "\n",
    "Taken from: https://medium.com/dunder-data/selecting-subsets-of-data-in-pandas-6fcd0170be9c\n",
    "\n",
    "*pandas* DataFrame are composed of three components. The **index**, **columns** and data (**values**). \n",
    "Let's extract each of these components into their own variables and inspect them:"
   ]
  },
  {
   "cell_type": "code",
   "execution_count": 10,
   "metadata": {},
   "outputs": [
    {
     "data": {
      "text/plain": [
       "RangeIndex(start=0, stop=14532, step=1)"
      ]
     },
     "execution_count": 10,
     "metadata": {},
     "output_type": "execute_result"
    }
   ],
   "source": [
    "index = data.index\n",
    "index"
   ]
  },
  {
   "cell_type": "code",
   "execution_count": 11,
   "metadata": {},
   "outputs": [
    {
     "data": {
      "text/plain": [
       "Index(['RID', 'VISCODE', 'SITE', 'EXAMDATE', 'DX_bl', 'AGE', 'PTGENDER',\n",
       "       'PTEDUCAT', 'WORK', 'PTETHCAT',\n",
       "       ...\n",
       "       'TAU_bl', 'PTAU_bl', 'FDG_bl', 'PIB_bl', 'AV45_bl', 'Years_bl',\n",
       "       'Month_bl', 'Month', 'M', 'update_stamp'],\n",
       "      dtype='object', length=109)"
      ]
     },
     "execution_count": 11,
     "metadata": {},
     "output_type": "execute_result"
    }
   ],
   "source": [
    "columns = data.columns\n",
    "columns"
   ]
  },
  {
   "cell_type": "code",
   "execution_count": 12,
   "metadata": {},
   "outputs": [
    {
     "data": {
      "text/plain": [
       "array([[2, 'bl', 11, ..., 0, 0.0, '2019-12-04 04:19:56.0'],\n",
       "       [3, 'bl', 11, ..., 0, 0.0, '2019-12-04 04:19:56.0'],\n",
       "       [3, 'm06', 11, ..., 6, 6.0, '2019-12-04 04:19:56.0'],\n",
       "       ...,\n",
       "       [6136, 'm24', 41, ..., 24, 24.0, '2019-12-17 04:20:25.0'],\n",
       "       [6610, 'm12', 6, ..., 12, 12.0, '2019-12-17 04:20:26.0'],\n",
       "       [6834, 'bl', 16, ..., 0, 0.0, '2019-12-17 04:20:26.0']],\n",
       "      dtype=object)"
      ]
     },
     "execution_count": 12,
     "metadata": {},
     "output_type": "execute_result"
    }
   ],
   "source": [
    "values = data.values\n",
    "values"
   ]
  },
  {
   "cell_type": "code",
   "execution_count": 13,
   "metadata": {},
   "outputs": [
    {
     "data": {
      "text/plain": [
       "pandas.core.indexes.range.RangeIndex"
      ]
     },
     "execution_count": 13,
     "metadata": {},
     "output_type": "execute_result"
    }
   ],
   "source": [
    "type(index)"
   ]
  },
  {
   "cell_type": "code",
   "execution_count": 14,
   "metadata": {},
   "outputs": [
    {
     "data": {
      "text/plain": [
       "pandas.core.indexes.base.Index"
      ]
     },
     "execution_count": 14,
     "metadata": {},
     "output_type": "execute_result"
    }
   ],
   "source": [
    "type(columns)"
   ]
  },
  {
   "cell_type": "code",
   "execution_count": 15,
   "metadata": {},
   "outputs": [
    {
     "data": {
      "text/plain": [
       "numpy.ndarray"
      ]
     },
     "execution_count": 15,
     "metadata": {},
     "output_type": "execute_result"
    }
   ],
   "source": [
    "type(values)"
   ]
  },
  {
   "cell_type": "markdown",
   "metadata": {},
   "source": [
    "Interestingly, both the `index` and the `columns` are the same type. They are both a *pandas* `Index` object. This object is quite powerful in itself, but for now you can just think of it as a sequence of labels for either the rows or the columns.\n",
    "\n",
    "The `values`'s type is a *NumPy* `ndarray`, which stands for n-dimensional array, and is the primary container of data in the *NumPy* library. *pandas* is built directly on top of *NumPy* and it's this array that is responsible for the bulk of the workload."
   ]
  },
  {
   "cell_type": "markdown",
   "metadata": {},
   "source": [
    "### Subset data\n",
    "\n",
    "We can select data from a DataFrame by label, by index or a combination of both using `[ ]`, `.loc` and `.iloc`."
   ]
  },
  {
   "cell_type": "code",
   "execution_count": 16,
   "metadata": {},
   "outputs": [
    {
     "data": {
      "text/plain": [
       "0          Male\n",
       "1          Male\n",
       "2          Male\n",
       "3          Male\n",
       "4          Male\n",
       "          ...  \n",
       "14527      Male\n",
       "14528      Male\n",
       "14529      Male\n",
       "14530      Male\n",
       "14531    Female\n",
       "Name: PTGENDER, Length: 14532, dtype: object"
      ]
     },
     "execution_count": 16,
     "metadata": {},
     "output_type": "execute_result"
    }
   ],
   "source": [
    "# Select column by colu\n",
    "data['PTGENDER']"
   ]
  },
  {
   "cell_type": "markdown",
   "metadata": {},
   "source": [
    "#### Select data by row numbers (`iloc`)\n",
    "\n",
    "The `iloc` indexer in `pandas` is used for integer-location based indexing / selection by position.\n",
    "\n",
    "The `iloc` indexer syntax is `data.iloc[\\<row selection\\>, \\<column selection\\>]`, used to select rows and columns by number, in the order that they appear in the DataFrame.\n",
    "\n",
    "There are two ways to use `.iloc` - via a row selector, and a column selector."
   ]
  },
  {
   "cell_type": "code",
   "execution_count": 17,
   "metadata": {},
   "outputs": [
    {
     "data": {
      "text/plain": [
       "RID                                 3\n",
       "VISCODE                           m24\n",
       "SITE                               11\n",
       "EXAMDATE                   2007-09-12\n",
       "DX_bl                              AD\n",
       "                        ...          \n",
       "Years_bl                      1.99863\n",
       "Month_bl                      23.9344\n",
       "Month                              24\n",
       "M                                  24\n",
       "update_stamp    2019-12-04 04:19:56.0\n",
       "Name: 4, Length: 109, dtype: object"
      ]
     },
     "execution_count": 17,
     "metadata": {},
     "output_type": "execute_result"
    }
   ],
   "source": [
    "data.iloc[4]  # Get 5th row of DataFrame"
   ]
  },
  {
   "cell_type": "code",
   "execution_count": 18,
   "metadata": {},
   "outputs": [
    {
     "data": {
      "text/plain": [
       "0          CN\n",
       "1          AD\n",
       "2          AD\n",
       "3          AD\n",
       "4          AD\n",
       "         ... \n",
       "14527     SMC\n",
       "14528    EMCI\n",
       "14529      CN\n",
       "14530    LMCI\n",
       "14531     NaN\n",
       "Name: DX_bl, Length: 14532, dtype: object"
      ]
     },
     "execution_count": 18,
     "metadata": {},
     "output_type": "execute_result"
    }
   ],
   "source": [
    "data.iloc[:, 4]  # Get 5th column of DataFrame"
   ]
  },
  {
   "cell_type": "code",
   "execution_count": 19,
   "metadata": {},
   "outputs": [
    {
     "data": {
      "text/plain": [
       "'AD'"
      ]
     },
     "execution_count": 19,
     "metadata": {},
     "output_type": "execute_result"
    }
   ],
   "source": [
    "data.iloc[4, 4]  # Get element in 5th row of 5th columns"
   ]
  },
  {
   "cell_type": "code",
   "execution_count": 20,
   "metadata": {},
   "outputs": [
    {
     "data": {
      "text/html": [
       "<div>\n",
       "<style scoped>\n",
       "    .dataframe tbody tr th:only-of-type {\n",
       "        vertical-align: middle;\n",
       "    }\n",
       "\n",
       "    .dataframe tbody tr th {\n",
       "        vertical-align: top;\n",
       "    }\n",
       "\n",
       "    .dataframe thead th {\n",
       "        text-align: right;\n",
       "    }\n",
       "</style>\n",
       "<table border=\"1\" class=\"dataframe\">\n",
       "  <thead>\n",
       "    <tr style=\"text-align: right;\">\n",
       "      <th></th>\n",
       "      <th>RID</th>\n",
       "      <th>VISCODE</th>\n",
       "      <th>SITE</th>\n",
       "    </tr>\n",
       "  </thead>\n",
       "  <tbody>\n",
       "    <tr>\n",
       "      <th>3</th>\n",
       "      <td>3</td>\n",
       "      <td>m12</td>\n",
       "      <td>11</td>\n",
       "    </tr>\n",
       "    <tr>\n",
       "      <th>4</th>\n",
       "      <td>3</td>\n",
       "      <td>m24</td>\n",
       "      <td>11</td>\n",
       "    </tr>\n",
       "  </tbody>\n",
       "</table>\n",
       "</div>"
      ],
      "text/plain": [
       "   RID VISCODE  SITE\n",
       "3    3     m12    11\n",
       "4    3     m24    11"
      ]
     },
     "execution_count": 20,
     "metadata": {},
     "output_type": "execute_result"
    }
   ],
   "source": [
    "data.iloc[3:5, 0:3]  # Get multiple rows/columns"
   ]
  },
  {
   "cell_type": "markdown",
   "metadata": {},
   "source": [
    "#### Select data by label or by a conditional statment (`loc`)\n",
    "\n",
    "The `loc` indexer can be used with DataFrames for two different use cases:\n",
    "\n",
    "* Selecting rows by label/index\n",
    "* Selecting rows with a boolean / conditional lookup\n",
    "\n",
    "The `loc` indexer is used with the same syntax as `iloc`: `data.loc[\\<row selection\\>, \\<column selection\\>]`."
   ]
  },
  {
   "cell_type": "code",
   "execution_count": 21,
   "metadata": {},
   "outputs": [
    {
     "data": {
      "text/plain": [
       "RID                                 3\n",
       "VISCODE                            bl\n",
       "SITE                               11\n",
       "EXAMDATE                   2005-09-12\n",
       "DX_bl                              AD\n",
       "                        ...          \n",
       "Years_bl                            0\n",
       "Month_bl                            0\n",
       "Month                               0\n",
       "M                                   0\n",
       "update_stamp    2019-12-04 04:19:56.0\n",
       "Name: 1, Length: 109, dtype: object"
      ]
     },
     "execution_count": 21,
     "metadata": {},
     "output_type": "execute_result"
    }
   ],
   "source": [
    "data.loc[1]"
   ]
  },
  {
   "cell_type": "code",
   "execution_count": 22,
   "metadata": {},
   "outputs": [
    {
     "data": {
      "text/plain": [
       "1    Male\n",
       "2    Male\n",
       "3    Male\n",
       "Name: PTGENDER, dtype: object"
      ]
     },
     "execution_count": 22,
     "metadata": {},
     "output_type": "execute_result"
    }
   ],
   "source": [
    "data.loc[1:3, 'PTGENDER']"
   ]
  },
  {
   "cell_type": "markdown",
   "metadata": {},
   "source": [
    "#### Select data by ... (`[ ]`)"
   ]
  },
  {
   "cell_type": "code",
   "execution_count": 23,
   "metadata": {},
   "outputs": [
    {
     "data": {
      "text/plain": [
       "0    Male\n",
       "1    Male\n",
       "2    Male\n",
       "3    Male\n",
       "4    Male\n",
       "Name: PTGENDER, dtype: object"
      ]
     },
     "execution_count": 23,
     "metadata": {},
     "output_type": "execute_result"
    }
   ],
   "source": [
    "data['PTGENDER'].head()  # Returns Series"
   ]
  },
  {
   "cell_type": "code",
   "execution_count": 24,
   "metadata": {},
   "outputs": [
    {
     "data": {
      "text/html": [
       "<div>\n",
       "<style scoped>\n",
       "    .dataframe tbody tr th:only-of-type {\n",
       "        vertical-align: middle;\n",
       "    }\n",
       "\n",
       "    .dataframe tbody tr th {\n",
       "        vertical-align: top;\n",
       "    }\n",
       "\n",
       "    .dataframe thead th {\n",
       "        text-align: right;\n",
       "    }\n",
       "</style>\n",
       "<table border=\"1\" class=\"dataframe\">\n",
       "  <thead>\n",
       "    <tr style=\"text-align: right;\">\n",
       "      <th></th>\n",
       "      <th>PTGENDER</th>\n",
       "    </tr>\n",
       "  </thead>\n",
       "  <tbody>\n",
       "    <tr>\n",
       "      <th>0</th>\n",
       "      <td>Male</td>\n",
       "    </tr>\n",
       "    <tr>\n",
       "      <th>1</th>\n",
       "      <td>Male</td>\n",
       "    </tr>\n",
       "    <tr>\n",
       "      <th>2</th>\n",
       "      <td>Male</td>\n",
       "    </tr>\n",
       "    <tr>\n",
       "      <th>3</th>\n",
       "      <td>Male</td>\n",
       "    </tr>\n",
       "    <tr>\n",
       "      <th>4</th>\n",
       "      <td>Male</td>\n",
       "    </tr>\n",
       "  </tbody>\n",
       "</table>\n",
       "</div>"
      ],
      "text/plain": [
       "  PTGENDER\n",
       "0     Male\n",
       "1     Male\n",
       "2     Male\n",
       "3     Male\n",
       "4     Male"
      ]
     },
     "execution_count": 24,
     "metadata": {},
     "output_type": "execute_result"
    }
   ],
   "source": [
    "data[['PTGENDER']].head()  # Returns DataFrame"
   ]
  },
  {
   "cell_type": "code",
   "execution_count": 25,
   "metadata": {},
   "outputs": [
    {
     "data": {
      "text/html": [
       "<div>\n",
       "<style scoped>\n",
       "    .dataframe tbody tr th:only-of-type {\n",
       "        vertical-align: middle;\n",
       "    }\n",
       "\n",
       "    .dataframe tbody tr th {\n",
       "        vertical-align: top;\n",
       "    }\n",
       "\n",
       "    .dataframe thead th {\n",
       "        text-align: right;\n",
       "    }\n",
       "</style>\n",
       "<table border=\"1\" class=\"dataframe\">\n",
       "  <thead>\n",
       "    <tr style=\"text-align: right;\">\n",
       "      <th></th>\n",
       "      <th>PTGENDER</th>\n",
       "      <th>AGE</th>\n",
       "    </tr>\n",
       "  </thead>\n",
       "  <tbody>\n",
       "    <tr>\n",
       "      <th>0</th>\n",
       "      <td>Male</td>\n",
       "      <td>74.3</td>\n",
       "    </tr>\n",
       "    <tr>\n",
       "      <th>1</th>\n",
       "      <td>Male</td>\n",
       "      <td>81.3</td>\n",
       "    </tr>\n",
       "    <tr>\n",
       "      <th>2</th>\n",
       "      <td>Male</td>\n",
       "      <td>81.3</td>\n",
       "    </tr>\n",
       "    <tr>\n",
       "      <th>3</th>\n",
       "      <td>Male</td>\n",
       "      <td>81.3</td>\n",
       "    </tr>\n",
       "    <tr>\n",
       "      <th>4</th>\n",
       "      <td>Male</td>\n",
       "      <td>81.3</td>\n",
       "    </tr>\n",
       "  </tbody>\n",
       "</table>\n",
       "</div>"
      ],
      "text/plain": [
       "  PTGENDER   AGE\n",
       "0     Male  74.3\n",
       "1     Male  81.3\n",
       "2     Male  81.3\n",
       "3     Male  81.3\n",
       "4     Male  81.3"
      ]
     },
     "execution_count": 25,
     "metadata": {},
     "output_type": "execute_result"
    }
   ],
   "source": [
    "data[['PTGENDER', 'AGE']].head()"
   ]
  },
  {
   "cell_type": "markdown",
   "metadata": {},
   "source": [
    "### Apply"
   ]
  },
  {
   "cell_type": "markdown",
   "metadata": {},
   "source": [
    "### Group data"
   ]
  },
  {
   "cell_type": "markdown",
   "metadata": {},
   "source": [
    "### Write data"
   ]
  },
  {
   "cell_type": "code",
   "execution_count": null,
   "metadata": {},
   "outputs": [],
   "source": []
  },
  {
   "cell_type": "markdown",
   "metadata": {},
   "source": [
    "## 6. Discussion\n",
    "\n",
    "TBA"
   ]
  },
  {
   "cell_type": "markdown",
   "metadata": {},
   "source": [
    "## 7. Quiz\n",
    "\n",
    "* TBA\n",
    "* TBA\n",
    "* TBA"
   ]
  }
 ],
 "metadata": {
  "kernelspec": {
   "display_name": "aimed",
   "language": "python",
   "name": "aimed"
  },
  "language_info": {
   "codemirror_mode": {
    "name": "ipython",
    "version": 3
   },
   "file_extension": ".py",
   "mimetype": "text/x-python",
   "name": "python",
   "nbconvert_exporter": "python",
   "pygments_lexer": "ipython3",
   "version": "3.6.7"
  }
 },
 "nbformat": 4,
 "nbformat_minor": 4
}
