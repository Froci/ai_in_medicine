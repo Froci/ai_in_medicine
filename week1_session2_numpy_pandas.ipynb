{
 "cells": [
  {
   "cell_type": "markdown",
   "metadata": {
    "toc-hr-collapsed": false
   },
   "source": [
    "# AI in Medicine: Data Science - Basics I\n",
    " \n",
    "## Python Programming: `numpy` and `pandas`\n",
    "\n",
    "- **Instructor**: Dominique Sydow, AG Volkamer, Charité (dominique.sydow@charite.de)\n",
    "- **Target audience**: Medical students from the Charité\n",
    "- **Course date**: July 2021"
   ]
  },
  {
   "cell_type": "markdown",
   "metadata": {},
   "source": [
    "## 1. Aims of this session\n",
    "\n",
    "In this talktorial, you will get in touch with **data science**. Using the **Python packages `numpy` and `pandas`**, you will load and work with the RKI COVID-19 dataset for Berlin."
   ]
  },
  {
   "cell_type": "markdown",
   "metadata": {},
   "source": [
    "## 2. Learning goals\n",
    "\n",
    "### Theory\n",
    "\n",
    "* Data science\n",
    "* The `numpy` library\n",
    "* The `pandas` library\n",
    "\n",
    "### Practical\n",
    "\n",
    "1. Dataset\n",
    "2. Read data with `pandas` as `DataFrame`\n",
    "3. Look at data\n",
    "4. Select columns\n",
    "5. Get unique entries in a column\n",
    "6. Select rows\n",
    "7. Group data"
   ]
  },
  {
   "cell_type": "markdown",
   "metadata": {},
   "source": [
    "## 3. References\n",
    "\n",
    "- Data science, machine learning, artificial intelligence\n",
    "  - http://varianceexplained.org/r/ds-ml-ai/\n",
    "- Vectors, matrices, tensors\n",
    "  - https://www.quantstart.com/articles/scalars-vectors-matrices-and-tensors-linear-algebra-for-deep-learning-part-1/\n",
    "  - https://dev.to/mmithrakumar/scalars-vectors-matrices-and-tensors-with-tensorflow-2-0-1f66\n",
    "- `numpy`\n",
    "  - https://numpy.org/doc/stable/user/absolute_beginners.html\n",
    "  - https://scipy-lectures.org/intro/numpy/array_object.html\n",
    "- `pandas`\n",
    "  - https://medium.com/dunder-data/how-to-learn-pandas-108905ab4955\n",
    "  - https://www.shanelynn.ie/select-pandas-dataframe-rows-and-columns-using-iloc-loc-and-ix/#iloc-selection\n",
    "  - https://medium.com/dunder-data/selecting-subsets-of-data-in-pandas-6fcd0170be9c\n",
    "- Datasets\n",
    "  - COVID-19 cases:  [raw RKI data](https://opendata.arcgis.com/datasets/dd4580c810204019a7b8eb3e0b329dd6_0.csv)\n",
    "  - Vaccination progress in Germany: [raw RKI data](https://www.rki.de/DE/Content/InfAZ/N/Neuartiges_Coronavirus/Daten/Impfquoten-Tab.html) and [processed data](https://github.com/ard-data/2020-rki-impf-archive)\n",
    "- Data visualization\n",
    "  - [RKI COVID-19 dashboard](https://corona.rki.de/)\n",
    "  - [COVID-19 cases for Berlin's districts > Bezirke > Übersicht](https://www.berlin.de/corona/lagebericht/)\n",
    "  - [Vaccination dashboard](https://impfdashboard.de/)"
   ]
  },
  {
   "cell_type": "markdown",
   "metadata": {},
   "source": [
    "## 4. Theory"
   ]
  },
  {
   "cell_type": "markdown",
   "metadata": {},
   "source": [
    "### Data Science"
   ]
  },
  {
   "cell_type": "markdown",
   "metadata": {},
   "source": [
    "#### What is the difference between data science, machine learning, and artificial intelligence? \n",
    "\n",
    "Adapted from [David Robinson's blog post](http://varianceexplained.org/r/ds-ml-ai/).\n",
    "\n",
    "The fields data science, machine learning, and artificial intelligence do have a great deal of **overlap**, but they are **not interchangeable**."
   ]
  },
  {
   "cell_type": "markdown",
   "metadata": {},
   "source": [
    "#### **Data science** produces **insights**\n",
    "  - “The average patient has a 70% chance of survival” (descriptive: describe a dataset)\n",
    "  - “Different patients have different chances of survival” (exploratory: find relationships you did not know about)  \n",
    "  - “A randomized experiment shows that patients assigned to Alice are more likely to survive than those assigned to Bob” (correlation: find out what happens to one variable when you make another variable change)"
   ]
  },
  {
   "cell_type": "markdown",
   "metadata": {},
   "source": [
    "#### **Machine learning** (ML) produces **predictions**\n",
    "  - \"Predict whether this patient will go into sepsis”\n",
    "  - “Predict whether this image has a bird in it\""
   ]
  },
  {
   "cell_type": "markdown",
   "metadata": {},
   "source": [
    "#### **Artificial intelligence** (AI) produces **actions**\n",
    "  - Game-playing algorithms (Deep Blue, AlphaGo)\n",
    "  - Robotics and control theory (motion planning, walking a bipedal robot)\n",
    "  - Optimization (Google Maps choosing a route)"
   ]
  },
  {
   "cell_type": "markdown",
   "metadata": {},
   "source": [
    "### The `numpy` library"
   ]
  },
  {
   "cell_type": "markdown",
   "metadata": {},
   "source": [
    "#### Overview\n",
    "\n",
    "* Role: Scientific computing (with arrays)\n",
    "* Website: https://numpy.org/\n",
    "* Description (taken from [here](https://numpy.org/doc/stable/user/absolute_beginners.html)):\n",
    "> NumPy (Numerical Python) is an open source Python library that’s used in almost every field of science and engineering. It’s the universal standard for working with numerical data in Python, and it’s at the core of the scientific Python and PyData ecosystems. NumPy users include everyone from beginning coders to experienced researchers doing state-of-the-art scientific and industrial research and development. The NumPy API is used extensively in Pandas, SciPy, Matplotlib, scikit-learn, scikit-image and most other data science and scientific Python packages.\n",
    "* Documentation: https://numpy.org/devdocs/"
   ]
  },
  {
   "cell_type": "markdown",
   "metadata": {},
   "source": [
    "#### Applications\n",
    "\n",
    "- Create vectors (1D), matrices (2D), tensors (>= 3D) in the form of arrays\n",
    "- Use a large collection of high-level mathematical functions to operate on these arrays\n",
    "- Used extensively in `pandas`, `scipy`, `matplotlib`, `scikit-learn` and most other data science and scientific Python packages\n",
    "\n",
    "![](https://res.cloudinary.com/practicaldev/image/fetch/s--oTgfo1EL--/c_limit%2Cf_auto%2Cfl_progressive%2Cq_auto%2Cw_880/https://raw.githubusercontent.com/adhiraiyan/DeepLearningWithTF2.0/master/notebooks/figures/fig0201a.png)\n",
    "\n",
    "Figure source: https://dev.to/mmithrakumar/scalars-vectors-matrices-and-tensors-with-tensorflow-2-0-1f66"
   ]
  },
  {
   "cell_type": "markdown",
   "metadata": {},
   "source": [
    "### The `pandas` library"
   ]
  },
  {
   "cell_type": "markdown",
   "metadata": {},
   "source": [
    "#### Overview\n",
    "\n",
    "* Role: Data manipulation and analysis\n",
    "* Website: https://pandas.pydata.org/\n",
    "* Description (taken from [here](https://pandas.pydata.org/)):\n",
    "> pandas is a fast, powerful, flexible and easy to use open source data analysis and manipulation tool,\n",
    "built on top of the Python programming language.\n",
    "* Documentation: https://pandas.pydata.org/pandas-docs/stable/"
   ]
  },
  {
   "cell_type": "markdown",
   "metadata": {},
   "source": [
    "#### Applications\n",
    "\n",
    "Taken from: https://medium.com/dunder-data/how-to-learn-pandas-108905ab4955\n",
    "\n",
    "> `pandas` is capable of many tasks including:\n",
    ">\n",
    "> * Reading/writing many different data formats\n",
    "> * Selecting subsets of data\n",
    "> * Calculating across rows and down columns\n",
    "> * Finding and filling missing data\n",
    "> * Applying operations to independent groups within the data\n",
    "> * Reshaping data into different forms\n",
    "> * Visualization through matplotlib and seaborn"
   ]
  },
  {
   "cell_type": "markdown",
   "metadata": {},
   "source": [
    "#### `DataFrame` and `Series`\n",
    "\n",
    "The `pandas` library has two main containers of data, the `DataFrame` (2D) and the `Series` (1D). \n",
    "\n",
    "- `DataFrame` [documentation](https://pandas.pydata.org/pandas-docs/stable/reference/api/pandas.DataFrame.html):\n",
    "  > Two-dimensional size-mutable, potentially heterogeneous tabular data structure with labeled axes (rows and columns). Arithmetic operations align on both row and column labels. Can be thought of as a dict-like container for Series objects. The primary pandas data structure\n",
    "- `Series` [documentation](https://pandas.pydata.org/pandas-docs/stable/reference/api/pandas.Series.html):\n",
    "  > One-dimensional ndarray with axis labels (including time series).\n",
    "\n",
    "\n",
    "The `DataFrame` is used more than the `Series`, so let’s take a look at its components.\n",
    "\n",
    "![DataFrame anatomy](https://raw.githubusercontent.com/volkamerlab/ai_in_medicine/master/images/dataframe_anatomy.png)\n",
    "\n",
    "Figure source: https://medium.com/dunder-data/selecting-subsets-of-data-in-pandas-6fcd0170be9c"
   ]
  },
  {
   "cell_type": "markdown",
   "metadata": {},
   "source": [
    "## 5. Practical"
   ]
  },
  {
   "cell_type": "markdown",
   "metadata": {},
   "source": [
    "<div class=\"alert alert-block alert-info\">\n",
    "    <b>Our aim:</b> We will walk through all functionalities in pandas that we will need to visualize the latest COVID-19 case numbers for Berlin by age group and district. After you have seen how this can be done, you will get the latest data for the German vaccination progress and will plot the time course of first/second vaccinations yourself.\n",
    "</div>"
   ]
  },
  {
   "cell_type": "markdown",
   "metadata": {},
   "source": [
    "### 5.1. Dataset\n",
    "\n",
    "We will work with the data on COVID-19 cases which is daily published by the Robert-Koch-Institut (RKI) and is visualized very nicely on the RKI COVID-19 Dashboard (https://corona.rki.de). \n",
    "In this notebook we will focus on data for Berlin.\n",
    "\n",
    "The dataset is freely available [here](https://npgeo-corona-npgeo-de.hub.arcgis.com/datasets/dd4580c810204019a7b8eb3e0b329dd6_0): We can load the dataset directly into `pandas` from this URL: https://opendata.arcgis.com/datasets/dd4580c810204019a7b8eb3e0b329dd6_0.csv"
   ]
  },
  {
   "cell_type": "markdown",
   "metadata": {},
   "source": [
    "### 5.2. Read data with `pandas` as `DataFrame`"
   ]
  },
  {
   "cell_type": "code",
   "execution_count": 1,
   "metadata": {},
   "outputs": [],
   "source": [
    "import numpy as np\n",
    "import pandas as pd"
   ]
  },
  {
   "cell_type": "markdown",
   "metadata": {},
   "source": [
    "First, we import the libraries `numpy` and `pandas` (abbreviated as `np` and `pd` so that we can write shorter code from here on). Libraries are a collection of functionalities that enable you to perform many common tasks without writing the whole code yourself from scratch.\n",
    "\n",
    "For instance, the `pandas` library provides the function `read_csv()` to read a comma-separated values (csv) file into a so-called `DataFrame`.\n",
    "\n",
    "**Tip**: You can check out available functionalities of a library in this Jupyter notebook, by writing the library name followed by a dot and then hitting the tab key. All available functionalities will pop up for you to explore. Since there are a lot of options, you can narrow it down by writing e.g. `read` while the popup windows is up. \n",
    "\n",
    "**Note**: If you are working in in Google Colab you will first have to disable `Automatically trigger code completions` on `Tools` > `Settings` > `Editor` in order to be able to use this feature.\n",
    "\n",
    "See for yourself all the possible file formats that you can read with `pandas`:"
   ]
  },
  {
   "cell_type": "raw",
   "metadata": {},
   "source": [
    "pd.read  # Hit the tab key while your cursor sits after \"pd.read\""
   ]
  },
  {
   "cell_type": "markdown",
   "metadata": {},
   "source": [
    "If we execute (with `Enter`) this cell, we get an `AttributeError` because the module `pandas` does not know `read()`."
   ]
  },
  {
   "cell_type": "markdown",
   "metadata": {},
   "source": [
    "We can also use `?` to get a function's docstring, i.e. a description of what the function does and what kind of parameters we can pass!"
   ]
  },
  {
   "cell_type": "raw",
   "metadata": {},
   "source": [
    "pd.read_csv?"
   ]
  },
  {
   "cell_type": "markdown",
   "metadata": {},
   "source": [
    "We will now use the `read_csv()` function ([see docs](https://pandas.pydata.org/pandas-docs/stable/reference/api/pandas.read_csv.html)) to load the csv file content as `DataFrame` into the variable `data`."
   ]
  },
  {
   "cell_type": "code",
   "execution_count": 4,
   "metadata": {},
   "outputs": [
    {
     "name": "stdout",
     "output_type": "stream",
     "text": [
      "CPU times: user 324 ms, sys: 67.6 ms, total: 392 ms\n",
      "Wall time: 3.68 s\n"
     ]
    }
   ],
   "source": [
    "%%time\n",
    "# `read_csv` takes paths in your computer, but also Internet URLs!\n",
    "# Reading the remote csv file takes a couple of seconds\n",
    "data = pd.read_csv(\"https://npgeo-corona-npgeo-de.hub.arcgis.com/datasets/3949d6fd2dc74386b763e451f4c6e384_0.csv\", sep=',')\n",
    "\n",
    "# Berlin only\n",
    "# https://npgeo-corona-npgeo-de.hub.arcgis.com/datasets/3949d6fd2dc74386b763e451f4c6e384_0.csv\n",
    "\n",
    "# Germany\n",
    "# https://opendata.arcgis.com/datasets/dd4580c810204019a7b8eb3e0b329dd6_0.csv"
   ]
  },
  {
   "cell_type": "markdown",
   "metadata": {},
   "source": [
    "Let's take a look at that `DataFrame` in `data`."
   ]
  },
  {
   "cell_type": "markdown",
   "metadata": {},
   "source": [
    "### 5.3. Look at data"
   ]
  },
  {
   "cell_type": "markdown",
   "metadata": {},
   "source": [
    "#### `DataFrame` head/tail\n",
    "\n",
    "Let's have a look at the first few rows of the table using the `head()` function ([see docs](https://pandas.pydata.org/pandas-docs/stable/reference/api/pandas.DataFrame.head.html)). \n",
    "\n",
    "**Note**: We will use this command a lot to avoid printing large tables in this Jupyter notebook."
   ]
  },
  {
   "cell_type": "code",
   "execution_count": 5,
   "metadata": {},
   "outputs": [
    {
     "data": {
      "text/html": [
       "<div>\n",
       "<style scoped>\n",
       "    .dataframe tbody tr th:only-of-type {\n",
       "        vertical-align: middle;\n",
       "    }\n",
       "\n",
       "    .dataframe tbody tr th {\n",
       "        vertical-align: top;\n",
       "    }\n",
       "\n",
       "    .dataframe thead th {\n",
       "        text-align: right;\n",
       "    }\n",
       "</style>\n",
       "<table border=\"1\" class=\"dataframe\">\n",
       "  <thead>\n",
       "    <tr style=\"text-align: right;\">\n",
       "      <th></th>\n",
       "      <th>IdBundesland</th>\n",
       "      <th>Bundesland</th>\n",
       "      <th>IdLandkreis</th>\n",
       "      <th>Landkreis</th>\n",
       "      <th>Altersgruppe</th>\n",
       "      <th>Altersgruppe2</th>\n",
       "      <th>Geschlecht</th>\n",
       "      <th>Meldedatum</th>\n",
       "      <th>Refdatum</th>\n",
       "      <th>IstErkrankungsbeginn</th>\n",
       "      <th>NeuerFall</th>\n",
       "      <th>NeuerTodesfall</th>\n",
       "      <th>NeuGenesen</th>\n",
       "      <th>AnzahlFall</th>\n",
       "      <th>AnzahlTodesfall</th>\n",
       "      <th>AnzahlGenesen</th>\n",
       "      <th>Datenstand</th>\n",
       "      <th>ObjectId</th>\n",
       "    </tr>\n",
       "  </thead>\n",
       "  <tbody>\n",
       "    <tr>\n",
       "      <th>0</th>\n",
       "      <td>11</td>\n",
       "      <td>Berlin</td>\n",
       "      <td>11001</td>\n",
       "      <td>SK Berlin Mitte</td>\n",
       "      <td>A00-A04</td>\n",
       "      <td>Nicht übermittelt</td>\n",
       "      <td>M</td>\n",
       "      <td>2020/03/05 00:00:00+00</td>\n",
       "      <td>2020/03/07 00:00:00+00</td>\n",
       "      <td>1</td>\n",
       "      <td>0</td>\n",
       "      <td>-9</td>\n",
       "      <td>0</td>\n",
       "      <td>1</td>\n",
       "      <td>0</td>\n",
       "      <td>1</td>\n",
       "      <td>06.07.2021, 00:00 Uhr</td>\n",
       "      <td>1</td>\n",
       "    </tr>\n",
       "    <tr>\n",
       "      <th>1</th>\n",
       "      <td>11</td>\n",
       "      <td>Berlin</td>\n",
       "      <td>11001</td>\n",
       "      <td>SK Berlin Mitte</td>\n",
       "      <td>A00-A04</td>\n",
       "      <td>Nicht übermittelt</td>\n",
       "      <td>M</td>\n",
       "      <td>2020/03/11 00:00:00+00</td>\n",
       "      <td>2020/03/03 00:00:00+00</td>\n",
       "      <td>1</td>\n",
       "      <td>0</td>\n",
       "      <td>-9</td>\n",
       "      <td>0</td>\n",
       "      <td>1</td>\n",
       "      <td>0</td>\n",
       "      <td>1</td>\n",
       "      <td>06.07.2021, 00:00 Uhr</td>\n",
       "      <td>2</td>\n",
       "    </tr>\n",
       "    <tr>\n",
       "      <th>2</th>\n",
       "      <td>11</td>\n",
       "      <td>Berlin</td>\n",
       "      <td>11001</td>\n",
       "      <td>SK Berlin Mitte</td>\n",
       "      <td>A00-A04</td>\n",
       "      <td>Nicht übermittelt</td>\n",
       "      <td>M</td>\n",
       "      <td>2020/03/14 00:00:00+00</td>\n",
       "      <td>2020/03/13 00:00:00+00</td>\n",
       "      <td>1</td>\n",
       "      <td>0</td>\n",
       "      <td>-9</td>\n",
       "      <td>0</td>\n",
       "      <td>1</td>\n",
       "      <td>0</td>\n",
       "      <td>1</td>\n",
       "      <td>06.07.2021, 00:00 Uhr</td>\n",
       "      <td>3</td>\n",
       "    </tr>\n",
       "    <tr>\n",
       "      <th>3</th>\n",
       "      <td>11</td>\n",
       "      <td>Berlin</td>\n",
       "      <td>11001</td>\n",
       "      <td>SK Berlin Mitte</td>\n",
       "      <td>A00-A04</td>\n",
       "      <td>Nicht übermittelt</td>\n",
       "      <td>M</td>\n",
       "      <td>2020/03/18 00:00:00+00</td>\n",
       "      <td>2020/03/13 00:00:00+00</td>\n",
       "      <td>1</td>\n",
       "      <td>0</td>\n",
       "      <td>-9</td>\n",
       "      <td>0</td>\n",
       "      <td>1</td>\n",
       "      <td>0</td>\n",
       "      <td>1</td>\n",
       "      <td>06.07.2021, 00:00 Uhr</td>\n",
       "      <td>4</td>\n",
       "    </tr>\n",
       "    <tr>\n",
       "      <th>4</th>\n",
       "      <td>11</td>\n",
       "      <td>Berlin</td>\n",
       "      <td>11001</td>\n",
       "      <td>SK Berlin Mitte</td>\n",
       "      <td>A00-A04</td>\n",
       "      <td>Nicht übermittelt</td>\n",
       "      <td>M</td>\n",
       "      <td>2020/03/22 00:00:00+00</td>\n",
       "      <td>2020/03/21 00:00:00+00</td>\n",
       "      <td>1</td>\n",
       "      <td>0</td>\n",
       "      <td>-9</td>\n",
       "      <td>0</td>\n",
       "      <td>1</td>\n",
       "      <td>0</td>\n",
       "      <td>1</td>\n",
       "      <td>06.07.2021, 00:00 Uhr</td>\n",
       "      <td>5</td>\n",
       "    </tr>\n",
       "  </tbody>\n",
       "</table>\n",
       "</div>"
      ],
      "text/plain": [
       "   IdBundesland Bundesland  IdLandkreis        Landkreis Altersgruppe  \\\n",
       "0            11     Berlin        11001  SK Berlin Mitte      A00-A04   \n",
       "1            11     Berlin        11001  SK Berlin Mitte      A00-A04   \n",
       "2            11     Berlin        11001  SK Berlin Mitte      A00-A04   \n",
       "3            11     Berlin        11001  SK Berlin Mitte      A00-A04   \n",
       "4            11     Berlin        11001  SK Berlin Mitte      A00-A04   \n",
       "\n",
       "       Altersgruppe2 Geschlecht              Meldedatum  \\\n",
       "0  Nicht übermittelt          M  2020/03/05 00:00:00+00   \n",
       "1  Nicht übermittelt          M  2020/03/11 00:00:00+00   \n",
       "2  Nicht übermittelt          M  2020/03/14 00:00:00+00   \n",
       "3  Nicht übermittelt          M  2020/03/18 00:00:00+00   \n",
       "4  Nicht übermittelt          M  2020/03/22 00:00:00+00   \n",
       "\n",
       "                 Refdatum  IstErkrankungsbeginn  NeuerFall  NeuerTodesfall  \\\n",
       "0  2020/03/07 00:00:00+00                     1          0              -9   \n",
       "1  2020/03/03 00:00:00+00                     1          0              -9   \n",
       "2  2020/03/13 00:00:00+00                     1          0              -9   \n",
       "3  2020/03/13 00:00:00+00                     1          0              -9   \n",
       "4  2020/03/21 00:00:00+00                     1          0              -9   \n",
       "\n",
       "   NeuGenesen  AnzahlFall  AnzahlTodesfall  AnzahlGenesen  \\\n",
       "0           0           1                0              1   \n",
       "1           0           1                0              1   \n",
       "2           0           1                0              1   \n",
       "3           0           1                0              1   \n",
       "4           0           1                0              1   \n",
       "\n",
       "              Datenstand  ObjectId  \n",
       "0  06.07.2021, 00:00 Uhr         1  \n",
       "1  06.07.2021, 00:00 Uhr         2  \n",
       "2  06.07.2021, 00:00 Uhr         3  \n",
       "3  06.07.2021, 00:00 Uhr         4  \n",
       "4  06.07.2021, 00:00 Uhr         5  "
      ]
     },
     "execution_count": 5,
     "metadata": {},
     "output_type": "execute_result"
    }
   ],
   "source": [
    "data.head()  # Shows by default the first 5 entries"
   ]
  },
  {
   "cell_type": "markdown",
   "metadata": {},
   "source": [
    "Let's have a look at the last few rows of the table using the `tail()` function ([see docs](https://pandas.pydata.org/pandas-docs/stable/reference/api/pandas.DataFrame.tail.html)). Note that you can pass a number to the `head()` and `tail()` functions to specify how many first/last rows you want to see."
   ]
  },
  {
   "cell_type": "code",
   "execution_count": 6,
   "metadata": {},
   "outputs": [
    {
     "data": {
      "text/html": [
       "<div>\n",
       "<style scoped>\n",
       "    .dataframe tbody tr th:only-of-type {\n",
       "        vertical-align: middle;\n",
       "    }\n",
       "\n",
       "    .dataframe tbody tr th {\n",
       "        vertical-align: top;\n",
       "    }\n",
       "\n",
       "    .dataframe thead th {\n",
       "        text-align: right;\n",
       "    }\n",
       "</style>\n",
       "<table border=\"1\" class=\"dataframe\">\n",
       "  <thead>\n",
       "    <tr style=\"text-align: right;\">\n",
       "      <th></th>\n",
       "      <th>IdBundesland</th>\n",
       "      <th>Bundesland</th>\n",
       "      <th>IdLandkreis</th>\n",
       "      <th>Landkreis</th>\n",
       "      <th>Altersgruppe</th>\n",
       "      <th>Altersgruppe2</th>\n",
       "      <th>Geschlecht</th>\n",
       "      <th>Meldedatum</th>\n",
       "      <th>Refdatum</th>\n",
       "      <th>IstErkrankungsbeginn</th>\n",
       "      <th>NeuerFall</th>\n",
       "      <th>NeuerTodesfall</th>\n",
       "      <th>NeuGenesen</th>\n",
       "      <th>AnzahlFall</th>\n",
       "      <th>AnzahlTodesfall</th>\n",
       "      <th>AnzahlGenesen</th>\n",
       "      <th>Datenstand</th>\n",
       "      <th>ObjectId</th>\n",
       "    </tr>\n",
       "  </thead>\n",
       "  <tbody>\n",
       "    <tr>\n",
       "      <th>98719</th>\n",
       "      <td>11</td>\n",
       "      <td>Berlin</td>\n",
       "      <td>11012</td>\n",
       "      <td>SK Berlin Reinickendorf</td>\n",
       "      <td>A80+</td>\n",
       "      <td>Nicht übermittelt</td>\n",
       "      <td>W</td>\n",
       "      <td>2021/01/13 00:00:00+00</td>\n",
       "      <td>2020/12/28 00:00:00+00</td>\n",
       "      <td>1</td>\n",
       "      <td>0</td>\n",
       "      <td>-9</td>\n",
       "      <td>0</td>\n",
       "      <td>1</td>\n",
       "      <td>0</td>\n",
       "      <td>1</td>\n",
       "      <td>06.07.2021, 00:00 Uhr</td>\n",
       "      <td>98720</td>\n",
       "    </tr>\n",
       "    <tr>\n",
       "      <th>98720</th>\n",
       "      <td>11</td>\n",
       "      <td>Berlin</td>\n",
       "      <td>11012</td>\n",
       "      <td>SK Berlin Reinickendorf</td>\n",
       "      <td>A80+</td>\n",
       "      <td>Nicht übermittelt</td>\n",
       "      <td>W</td>\n",
       "      <td>2021/01/13 00:00:00+00</td>\n",
       "      <td>2021/01/08 00:00:00+00</td>\n",
       "      <td>1</td>\n",
       "      <td>0</td>\n",
       "      <td>-9</td>\n",
       "      <td>0</td>\n",
       "      <td>1</td>\n",
       "      <td>0</td>\n",
       "      <td>1</td>\n",
       "      <td>06.07.2021, 00:00 Uhr</td>\n",
       "      <td>98721</td>\n",
       "    </tr>\n",
       "  </tbody>\n",
       "</table>\n",
       "</div>"
      ],
      "text/plain": [
       "       IdBundesland Bundesland  IdLandkreis                Landkreis  \\\n",
       "98719            11     Berlin        11012  SK Berlin Reinickendorf   \n",
       "98720            11     Berlin        11012  SK Berlin Reinickendorf   \n",
       "\n",
       "      Altersgruppe      Altersgruppe2 Geschlecht              Meldedatum  \\\n",
       "98719         A80+  Nicht übermittelt          W  2021/01/13 00:00:00+00   \n",
       "98720         A80+  Nicht übermittelt          W  2021/01/13 00:00:00+00   \n",
       "\n",
       "                     Refdatum  IstErkrankungsbeginn  NeuerFall  \\\n",
       "98719  2020/12/28 00:00:00+00                     1          0   \n",
       "98720  2021/01/08 00:00:00+00                     1          0   \n",
       "\n",
       "       NeuerTodesfall  NeuGenesen  AnzahlFall  AnzahlTodesfall  AnzahlGenesen  \\\n",
       "98719              -9           0           1                0              1   \n",
       "98720              -9           0           1                0              1   \n",
       "\n",
       "                  Datenstand  ObjectId  \n",
       "98719  06.07.2021, 00:00 Uhr     98720  \n",
       "98720  06.07.2021, 00:00 Uhr     98721  "
      ]
     },
     "execution_count": 6,
     "metadata": {},
     "output_type": "execute_result"
    }
   ],
   "source": [
    "data.tail(2)"
   ]
  },
  {
   "cell_type": "markdown",
   "metadata": {},
   "source": [
    "#### `DataFrame` dimensionality\n",
    "\n",
    "Let's show the number of columns and rows (= dimensionality/shape) of the table in the form of `(number of rows, number of columns)` using `shape`."
   ]
  },
  {
   "cell_type": "code",
   "execution_count": 7,
   "metadata": {},
   "outputs": [
    {
     "data": {
      "text/plain": [
       "(98721, 18)"
      ]
     },
     "execution_count": 7,
     "metadata": {},
     "output_type": "execute_result"
    }
   ],
   "source": [
    "data.shape"
   ]
  },
  {
   "cell_type": "markdown",
   "metadata": {},
   "source": [
    "#### `DataFrame` column names\n",
    "\n",
    "We can get all columns names using `columns`."
   ]
  },
  {
   "cell_type": "code",
   "execution_count": 8,
   "metadata": {},
   "outputs": [
    {
     "data": {
      "text/plain": [
       "Index(['IdBundesland', 'Bundesland', 'IdLandkreis', 'Landkreis',\n",
       "       'Altersgruppe', 'Altersgruppe2', 'Geschlecht', 'Meldedatum', 'Refdatum',\n",
       "       'IstErkrankungsbeginn', 'NeuerFall', 'NeuerTodesfall', 'NeuGenesen',\n",
       "       'AnzahlFall', 'AnzahlTodesfall', 'AnzahlGenesen', 'Datenstand',\n",
       "       'ObjectId'],\n",
       "      dtype='object')"
      ]
     },
     "execution_count": 8,
     "metadata": {},
     "output_type": "execute_result"
    }
   ],
   "source": [
    "data.columns"
   ]
  },
  {
   "cell_type": "markdown",
   "metadata": {},
   "source": [
    "Let's list here the meaning of a few criteria (see full list on [RKI COVID-19 data download website](https://www.arcgis.com/home/item.html?id=dd4580c810204019a7b8eb3e0b329dd6)):\n",
    "\n",
    "- `Bundesland`: State name\n",
    "- `Landkreis`: District name\n",
    "- `Altersgruppe`: Age group (6 groups: `0-4`, `5-14`, `15-34`, `35-59`, `60-79`, `80+` and `unbekannt`=unknown)\n",
    "- `Geschlecht`: Gender (`M`=male, `W`=female and `unbekannt`=unknown)\n",
    "- `AnzahlFall`: Number of cases in group\n",
    "- `AnzahlTodesfall`: Number of deaths in group\n",
    "- `AnzahlGenesen`: Number of recoveries cases in group\n",
    "- `Meldedatum`: Date when case was reported to the Gesundheitsamt (you will use this in the next lesson on data visualization with `matplotlib`)\n",
    "- `Datenstand`: Date when data was updated"
   ]
  },
  {
   "cell_type": "markdown",
   "metadata": {},
   "source": [
    "We can think of a `DataFrame` as a list of lists (whereby each list can contain different datatypes) which is shown as a table with metadata such as column and index names."
   ]
  },
  {
   "cell_type": "code",
   "execution_count": 9,
   "metadata": {},
   "outputs": [
    {
     "data": {
      "text/plain": [
       "[['Helen', 20, 'female'], ['Paul', 25, 'male'], ['Kim', 35, 'female']]"
      ]
     },
     "execution_count": 9,
     "metadata": {},
     "output_type": "execute_result"
    }
   ],
   "source": [
    "list_of_lists = [['Helen', 20, 'female'], ['Paul', 25, 'male'], ['Kim', 35, 'female']]\n",
    "list_of_lists"
   ]
  },
  {
   "cell_type": "code",
   "execution_count": 10,
   "metadata": {},
   "outputs": [
    {
     "data": {
      "text/html": [
       "<div>\n",
       "<style scoped>\n",
       "    .dataframe tbody tr th:only-of-type {\n",
       "        vertical-align: middle;\n",
       "    }\n",
       "\n",
       "    .dataframe tbody tr th {\n",
       "        vertical-align: top;\n",
       "    }\n",
       "\n",
       "    .dataframe thead th {\n",
       "        text-align: right;\n",
       "    }\n",
       "</style>\n",
       "<table border=\"1\" class=\"dataframe\">\n",
       "  <thead>\n",
       "    <tr style=\"text-align: right;\">\n",
       "      <th></th>\n",
       "      <th>name</th>\n",
       "      <th>age</th>\n",
       "      <th>gender</th>\n",
       "    </tr>\n",
       "  </thead>\n",
       "  <tbody>\n",
       "    <tr>\n",
       "      <th>0</th>\n",
       "      <td>Helen</td>\n",
       "      <td>20</td>\n",
       "      <td>female</td>\n",
       "    </tr>\n",
       "    <tr>\n",
       "      <th>1</th>\n",
       "      <td>Paul</td>\n",
       "      <td>25</td>\n",
       "      <td>male</td>\n",
       "    </tr>\n",
       "    <tr>\n",
       "      <th>2</th>\n",
       "      <td>Kim</td>\n",
       "      <td>35</td>\n",
       "      <td>female</td>\n",
       "    </tr>\n",
       "  </tbody>\n",
       "</table>\n",
       "</div>"
      ],
      "text/plain": [
       "    name  age  gender\n",
       "0  Helen   20  female\n",
       "1   Paul   25    male\n",
       "2    Kim   35  female"
      ]
     },
     "execution_count": 10,
     "metadata": {},
     "output_type": "execute_result"
    }
   ],
   "source": [
    "pd.DataFrame(list_of_lists, columns=['name', 'age', 'gender'])"
   ]
  },
  {
   "cell_type": "markdown",
   "metadata": {},
   "source": [
    "#### _Your turn_: Exercises\n",
    "\n",
    "Let's meet in small groups and work on a few exercises. Afterwards, we will discuss them shortly together."
   ]
  },
  {
   "cell_type": "markdown",
   "metadata": {},
   "source": [
    "__Exercise 1__: Get (a) the first 4 rows and (b) the last 5 rows in `data`"
   ]
  },
  {
   "cell_type": "code",
   "execution_count": null,
   "metadata": {},
   "outputs": [],
   "source": []
  },
  {
   "cell_type": "markdown",
   "metadata": {},
   "source": [
    "__Exercise 2__: Get (a) the number of columns and (b) the third column name in `data`"
   ]
  },
  {
   "cell_type": "code",
   "execution_count": null,
   "metadata": {},
   "outputs": [],
   "source": []
  },
  {
   "cell_type": "markdown",
   "metadata": {},
   "source": [
    "__Exercise 3__: Set up a `DataFrame` containing data on 4 countries:\n",
    "- Country name\n",
    "- Your favorite thing about this country\n",
    "- Have you been there already?"
   ]
  },
  {
   "cell_type": "code",
   "execution_count": null,
   "metadata": {},
   "outputs": [],
   "source": []
  },
  {
   "cell_type": "markdown",
   "metadata": {},
   "source": [
    "### 5.4 Select columns"
   ]
  },
  {
   "cell_type": "markdown",
   "metadata": {},
   "source": [
    "#### By column name"
   ]
  },
  {
   "cell_type": "markdown",
   "metadata": {},
   "source": [
    "Let's select some interesting columns! The `DataFrame` is quite large and we are only interested in a subset of the offered criteria. With `pandas`, it is very easy to slice the columns that you want by the following syntax:\n",
    "\n",
    "```python\n",
    "data[list_of_interesting_columns]\n",
    "```\n",
    "\n",
    "The list of column names of interest could look like this:\n",
    "```python\n",
    "list_of_interesting_columns = ['Bundesland', 'Landkreis']\n",
    "```\n",
    "\n",
    "Taking both steps together it looks like this (note the two sets of `[]`, the inner `[]` is part of the list, the outer `[]` is the syntax for `DataFrame` slicing):"
   ]
  },
  {
   "cell_type": "code",
   "execution_count": 11,
   "metadata": {},
   "outputs": [
    {
     "data": {
      "text/html": [
       "<div>\n",
       "<style scoped>\n",
       "    .dataframe tbody tr th:only-of-type {\n",
       "        vertical-align: middle;\n",
       "    }\n",
       "\n",
       "    .dataframe tbody tr th {\n",
       "        vertical-align: top;\n",
       "    }\n",
       "\n",
       "    .dataframe thead th {\n",
       "        text-align: right;\n",
       "    }\n",
       "</style>\n",
       "<table border=\"1\" class=\"dataframe\">\n",
       "  <thead>\n",
       "    <tr style=\"text-align: right;\">\n",
       "      <th></th>\n",
       "      <th>Bundesland</th>\n",
       "      <th>Landkreis</th>\n",
       "    </tr>\n",
       "  </thead>\n",
       "  <tbody>\n",
       "    <tr>\n",
       "      <th>0</th>\n",
       "      <td>Berlin</td>\n",
       "      <td>SK Berlin Mitte</td>\n",
       "    </tr>\n",
       "    <tr>\n",
       "      <th>1</th>\n",
       "      <td>Berlin</td>\n",
       "      <td>SK Berlin Mitte</td>\n",
       "    </tr>\n",
       "    <tr>\n",
       "      <th>2</th>\n",
       "      <td>Berlin</td>\n",
       "      <td>SK Berlin Mitte</td>\n",
       "    </tr>\n",
       "    <tr>\n",
       "      <th>3</th>\n",
       "      <td>Berlin</td>\n",
       "      <td>SK Berlin Mitte</td>\n",
       "    </tr>\n",
       "    <tr>\n",
       "      <th>4</th>\n",
       "      <td>Berlin</td>\n",
       "      <td>SK Berlin Mitte</td>\n",
       "    </tr>\n",
       "  </tbody>\n",
       "</table>\n",
       "</div>"
      ],
      "text/plain": [
       "  Bundesland        Landkreis\n",
       "0     Berlin  SK Berlin Mitte\n",
       "1     Berlin  SK Berlin Mitte\n",
       "2     Berlin  SK Berlin Mitte\n",
       "3     Berlin  SK Berlin Mitte\n",
       "4     Berlin  SK Berlin Mitte"
      ]
     },
     "execution_count": 11,
     "metadata": {},
     "output_type": "execute_result"
    }
   ],
   "source": [
    "data[['Bundesland', 'Landkreis']].head()  # Note the use of .head() to show only the first 5 rows"
   ]
  },
  {
   "cell_type": "markdown",
   "metadata": {},
   "source": [
    "We see in the following that it is possible to write a command over multiple lines to make is easier to read."
   ]
  },
  {
   "cell_type": "code",
   "execution_count": 12,
   "metadata": {},
   "outputs": [
    {
     "data": {
      "text/html": [
       "<div>\n",
       "<style scoped>\n",
       "    .dataframe tbody tr th:only-of-type {\n",
       "        vertical-align: middle;\n",
       "    }\n",
       "\n",
       "    .dataframe tbody tr th {\n",
       "        vertical-align: top;\n",
       "    }\n",
       "\n",
       "    .dataframe thead th {\n",
       "        text-align: right;\n",
       "    }\n",
       "</style>\n",
       "<table border=\"1\" class=\"dataframe\">\n",
       "  <thead>\n",
       "    <tr style=\"text-align: right;\">\n",
       "      <th></th>\n",
       "      <th>Bundesland</th>\n",
       "      <th>Landkreis</th>\n",
       "      <th>Altersgruppe</th>\n",
       "      <th>Geschlecht</th>\n",
       "      <th>AnzahlFall</th>\n",
       "      <th>AnzahlTodesfall</th>\n",
       "      <th>AnzahlGenesen</th>\n",
       "      <th>Datenstand</th>\n",
       "    </tr>\n",
       "  </thead>\n",
       "  <tbody>\n",
       "    <tr>\n",
       "      <th>0</th>\n",
       "      <td>Berlin</td>\n",
       "      <td>SK Berlin Mitte</td>\n",
       "      <td>A00-A04</td>\n",
       "      <td>M</td>\n",
       "      <td>1</td>\n",
       "      <td>0</td>\n",
       "      <td>1</td>\n",
       "      <td>06.07.2021, 00:00 Uhr</td>\n",
       "    </tr>\n",
       "    <tr>\n",
       "      <th>1</th>\n",
       "      <td>Berlin</td>\n",
       "      <td>SK Berlin Mitte</td>\n",
       "      <td>A00-A04</td>\n",
       "      <td>M</td>\n",
       "      <td>1</td>\n",
       "      <td>0</td>\n",
       "      <td>1</td>\n",
       "      <td>06.07.2021, 00:00 Uhr</td>\n",
       "    </tr>\n",
       "    <tr>\n",
       "      <th>2</th>\n",
       "      <td>Berlin</td>\n",
       "      <td>SK Berlin Mitte</td>\n",
       "      <td>A00-A04</td>\n",
       "      <td>M</td>\n",
       "      <td>1</td>\n",
       "      <td>0</td>\n",
       "      <td>1</td>\n",
       "      <td>06.07.2021, 00:00 Uhr</td>\n",
       "    </tr>\n",
       "    <tr>\n",
       "      <th>3</th>\n",
       "      <td>Berlin</td>\n",
       "      <td>SK Berlin Mitte</td>\n",
       "      <td>A00-A04</td>\n",
       "      <td>M</td>\n",
       "      <td>1</td>\n",
       "      <td>0</td>\n",
       "      <td>1</td>\n",
       "      <td>06.07.2021, 00:00 Uhr</td>\n",
       "    </tr>\n",
       "    <tr>\n",
       "      <th>4</th>\n",
       "      <td>Berlin</td>\n",
       "      <td>SK Berlin Mitte</td>\n",
       "      <td>A00-A04</td>\n",
       "      <td>M</td>\n",
       "      <td>1</td>\n",
       "      <td>0</td>\n",
       "      <td>1</td>\n",
       "      <td>06.07.2021, 00:00 Uhr</td>\n",
       "    </tr>\n",
       "    <tr>\n",
       "      <th>...</th>\n",
       "      <td>...</td>\n",
       "      <td>...</td>\n",
       "      <td>...</td>\n",
       "      <td>...</td>\n",
       "      <td>...</td>\n",
       "      <td>...</td>\n",
       "      <td>...</td>\n",
       "      <td>...</td>\n",
       "    </tr>\n",
       "    <tr>\n",
       "      <th>98716</th>\n",
       "      <td>Berlin</td>\n",
       "      <td>SK Berlin Reinickendorf</td>\n",
       "      <td>A80+</td>\n",
       "      <td>W</td>\n",
       "      <td>1</td>\n",
       "      <td>1</td>\n",
       "      <td>0</td>\n",
       "      <td>06.07.2021, 00:00 Uhr</td>\n",
       "    </tr>\n",
       "    <tr>\n",
       "      <th>98717</th>\n",
       "      <td>Berlin</td>\n",
       "      <td>SK Berlin Reinickendorf</td>\n",
       "      <td>A80+</td>\n",
       "      <td>W</td>\n",
       "      <td>4</td>\n",
       "      <td>0</td>\n",
       "      <td>4</td>\n",
       "      <td>06.07.2021, 00:00 Uhr</td>\n",
       "    </tr>\n",
       "    <tr>\n",
       "      <th>98718</th>\n",
       "      <td>Berlin</td>\n",
       "      <td>SK Berlin Reinickendorf</td>\n",
       "      <td>A80+</td>\n",
       "      <td>W</td>\n",
       "      <td>1</td>\n",
       "      <td>1</td>\n",
       "      <td>0</td>\n",
       "      <td>06.07.2021, 00:00 Uhr</td>\n",
       "    </tr>\n",
       "    <tr>\n",
       "      <th>98719</th>\n",
       "      <td>Berlin</td>\n",
       "      <td>SK Berlin Reinickendorf</td>\n",
       "      <td>A80+</td>\n",
       "      <td>W</td>\n",
       "      <td>1</td>\n",
       "      <td>0</td>\n",
       "      <td>1</td>\n",
       "      <td>06.07.2021, 00:00 Uhr</td>\n",
       "    </tr>\n",
       "    <tr>\n",
       "      <th>98720</th>\n",
       "      <td>Berlin</td>\n",
       "      <td>SK Berlin Reinickendorf</td>\n",
       "      <td>A80+</td>\n",
       "      <td>W</td>\n",
       "      <td>1</td>\n",
       "      <td>0</td>\n",
       "      <td>1</td>\n",
       "      <td>06.07.2021, 00:00 Uhr</td>\n",
       "    </tr>\n",
       "  </tbody>\n",
       "</table>\n",
       "<p>98721 rows × 8 columns</p>\n",
       "</div>"
      ],
      "text/plain": [
       "      Bundesland                Landkreis Altersgruppe Geschlecht  AnzahlFall  \\\n",
       "0         Berlin          SK Berlin Mitte      A00-A04          M           1   \n",
       "1         Berlin          SK Berlin Mitte      A00-A04          M           1   \n",
       "2         Berlin          SK Berlin Mitte      A00-A04          M           1   \n",
       "3         Berlin          SK Berlin Mitte      A00-A04          M           1   \n",
       "4         Berlin          SK Berlin Mitte      A00-A04          M           1   \n",
       "...          ...                      ...          ...        ...         ...   \n",
       "98716     Berlin  SK Berlin Reinickendorf         A80+          W           1   \n",
       "98717     Berlin  SK Berlin Reinickendorf         A80+          W           4   \n",
       "98718     Berlin  SK Berlin Reinickendorf         A80+          W           1   \n",
       "98719     Berlin  SK Berlin Reinickendorf         A80+          W           1   \n",
       "98720     Berlin  SK Berlin Reinickendorf         A80+          W           1   \n",
       "\n",
       "       AnzahlTodesfall  AnzahlGenesen             Datenstand  \n",
       "0                    0              1  06.07.2021, 00:00 Uhr  \n",
       "1                    0              1  06.07.2021, 00:00 Uhr  \n",
       "2                    0              1  06.07.2021, 00:00 Uhr  \n",
       "3                    0              1  06.07.2021, 00:00 Uhr  \n",
       "4                    0              1  06.07.2021, 00:00 Uhr  \n",
       "...                ...            ...                    ...  \n",
       "98716                1              0  06.07.2021, 00:00 Uhr  \n",
       "98717                0              4  06.07.2021, 00:00 Uhr  \n",
       "98718                1              0  06.07.2021, 00:00 Uhr  \n",
       "98719                0              1  06.07.2021, 00:00 Uhr  \n",
       "98720                0              1  06.07.2021, 00:00 Uhr  \n",
       "\n",
       "[98721 rows x 8 columns]"
      ]
     },
     "execution_count": 12,
     "metadata": {},
     "output_type": "execute_result"
    }
   ],
   "source": [
    "data[\n",
    "    [\n",
    "        'Bundesland', \n",
    "        'Landkreis', \n",
    "        'Altersgruppe', \n",
    "        'Geschlecht', \n",
    "        'AnzahlFall', \n",
    "        'AnzahlTodesfall', \n",
    "        'AnzahlGenesen', \n",
    "        'Datenstand'\n",
    "    ]\n",
    "]"
   ]
  },
  {
   "cell_type": "markdown",
   "metadata": {},
   "source": [
    "#### By column AND index names/indices using `loc/iloc`"
   ]
  },
  {
   "cell_type": "markdown",
   "metadata": {},
   "source": [
    "1. __Recap__\n",
    "\n",
    "So far we sliced columns using column names like this:"
   ]
  },
  {
   "cell_type": "code",
   "execution_count": 13,
   "metadata": {},
   "outputs": [
    {
     "data": {
      "text/html": [
       "<div>\n",
       "<style scoped>\n",
       "    .dataframe tbody tr th:only-of-type {\n",
       "        vertical-align: middle;\n",
       "    }\n",
       "\n",
       "    .dataframe tbody tr th {\n",
       "        vertical-align: top;\n",
       "    }\n",
       "\n",
       "    .dataframe thead th {\n",
       "        text-align: right;\n",
       "    }\n",
       "</style>\n",
       "<table border=\"1\" class=\"dataframe\">\n",
       "  <thead>\n",
       "    <tr style=\"text-align: right;\">\n",
       "      <th></th>\n",
       "      <th>Bundesland</th>\n",
       "      <th>Landkreis</th>\n",
       "    </tr>\n",
       "  </thead>\n",
       "  <tbody>\n",
       "    <tr>\n",
       "      <th>0</th>\n",
       "      <td>Berlin</td>\n",
       "      <td>SK Berlin Mitte</td>\n",
       "    </tr>\n",
       "    <tr>\n",
       "      <th>1</th>\n",
       "      <td>Berlin</td>\n",
       "      <td>SK Berlin Mitte</td>\n",
       "    </tr>\n",
       "    <tr>\n",
       "      <th>2</th>\n",
       "      <td>Berlin</td>\n",
       "      <td>SK Berlin Mitte</td>\n",
       "    </tr>\n",
       "    <tr>\n",
       "      <th>3</th>\n",
       "      <td>Berlin</td>\n",
       "      <td>SK Berlin Mitte</td>\n",
       "    </tr>\n",
       "    <tr>\n",
       "      <th>4</th>\n",
       "      <td>Berlin</td>\n",
       "      <td>SK Berlin Mitte</td>\n",
       "    </tr>\n",
       "  </tbody>\n",
       "</table>\n",
       "</div>"
      ],
      "text/plain": [
       "  Bundesland        Landkreis\n",
       "0     Berlin  SK Berlin Mitte\n",
       "1     Berlin  SK Berlin Mitte\n",
       "2     Berlin  SK Berlin Mitte\n",
       "3     Berlin  SK Berlin Mitte\n",
       "4     Berlin  SK Berlin Mitte"
      ]
     },
     "execution_count": 13,
     "metadata": {},
     "output_type": "execute_result"
    }
   ],
   "source": [
    "data[['Bundesland', 'Landkreis']].head()"
   ]
  },
  {
   "cell_type": "markdown",
   "metadata": {},
   "source": [
    "2. __`loc`__\n",
    "\n",
    "The above code is a shorter form for using `loc`:\n",
    "```python\n",
    "dataframe.loc[list_of_row_names, list_of_column_names]\n",
    "```\n",
    "`index_names` or `column_names` can be set to `:` if we want to select the full row or column, respectively."
   ]
  },
  {
   "cell_type": "code",
   "execution_count": 14,
   "metadata": {},
   "outputs": [
    {
     "data": {
      "text/html": [
       "<div>\n",
       "<style scoped>\n",
       "    .dataframe tbody tr th:only-of-type {\n",
       "        vertical-align: middle;\n",
       "    }\n",
       "\n",
       "    .dataframe tbody tr th {\n",
       "        vertical-align: top;\n",
       "    }\n",
       "\n",
       "    .dataframe thead th {\n",
       "        text-align: right;\n",
       "    }\n",
       "</style>\n",
       "<table border=\"1\" class=\"dataframe\">\n",
       "  <thead>\n",
       "    <tr style=\"text-align: right;\">\n",
       "      <th></th>\n",
       "      <th>Bundesland</th>\n",
       "      <th>Landkreis</th>\n",
       "    </tr>\n",
       "  </thead>\n",
       "  <tbody>\n",
       "    <tr>\n",
       "      <th>0</th>\n",
       "      <td>Berlin</td>\n",
       "      <td>SK Berlin Mitte</td>\n",
       "    </tr>\n",
       "    <tr>\n",
       "      <th>1</th>\n",
       "      <td>Berlin</td>\n",
       "      <td>SK Berlin Mitte</td>\n",
       "    </tr>\n",
       "    <tr>\n",
       "      <th>2</th>\n",
       "      <td>Berlin</td>\n",
       "      <td>SK Berlin Mitte</td>\n",
       "    </tr>\n",
       "    <tr>\n",
       "      <th>3</th>\n",
       "      <td>Berlin</td>\n",
       "      <td>SK Berlin Mitte</td>\n",
       "    </tr>\n",
       "    <tr>\n",
       "      <th>4</th>\n",
       "      <td>Berlin</td>\n",
       "      <td>SK Berlin Mitte</td>\n",
       "    </tr>\n",
       "  </tbody>\n",
       "</table>\n",
       "</div>"
      ],
      "text/plain": [
       "  Bundesland        Landkreis\n",
       "0     Berlin  SK Berlin Mitte\n",
       "1     Berlin  SK Berlin Mitte\n",
       "2     Berlin  SK Berlin Mitte\n",
       "3     Berlin  SK Berlin Mitte\n",
       "4     Berlin  SK Berlin Mitte"
      ]
     },
     "execution_count": 14,
     "metadata": {},
     "output_type": "execute_result"
    }
   ],
   "source": [
    "data.loc[:, ['Bundesland', 'Landkreis']].head()"
   ]
  },
  {
   "cell_type": "markdown",
   "metadata": {},
   "source": [
    "3. __`iloc`__\n",
    "\n",
    "Or, instead of row and column names, we can use their indices (like you learnt on day 1 where you selected elements from a list). \n",
    "\n",
    "```python\n",
    "dataframe.iloc[list_of_row_indices, list_of_column_indices].head()\n",
    "```\n",
    "\n",
    "Remember, in Python indices are 0-indexed."
   ]
  },
  {
   "cell_type": "code",
   "execution_count": 15,
   "metadata": {},
   "outputs": [
    {
     "data": {
      "text/plain": [
       "Index(['IdBundesland', 'Bundesland', 'IdLandkreis', 'Landkreis',\n",
       "       'Altersgruppe', 'Altersgruppe2', 'Geschlecht', 'Meldedatum', 'Refdatum',\n",
       "       'IstErkrankungsbeginn', 'NeuerFall', 'NeuerTodesfall', 'NeuGenesen',\n",
       "       'AnzahlFall', 'AnzahlTodesfall', 'AnzahlGenesen', 'Datenstand',\n",
       "       'ObjectId'],\n",
       "      dtype='object')"
      ]
     },
     "execution_count": 15,
     "metadata": {},
     "output_type": "execute_result"
    }
   ],
   "source": [
    "# Check out index of columns of interest\n",
    "data.columns"
   ]
  },
  {
   "cell_type": "code",
   "execution_count": 16,
   "metadata": {},
   "outputs": [
    {
     "data": {
      "text/html": [
       "<div>\n",
       "<style scoped>\n",
       "    .dataframe tbody tr th:only-of-type {\n",
       "        vertical-align: middle;\n",
       "    }\n",
       "\n",
       "    .dataframe tbody tr th {\n",
       "        vertical-align: top;\n",
       "    }\n",
       "\n",
       "    .dataframe thead th {\n",
       "        text-align: right;\n",
       "    }\n",
       "</style>\n",
       "<table border=\"1\" class=\"dataframe\">\n",
       "  <thead>\n",
       "    <tr style=\"text-align: right;\">\n",
       "      <th></th>\n",
       "      <th>IdLandkreis</th>\n",
       "      <th>Landkreis</th>\n",
       "    </tr>\n",
       "  </thead>\n",
       "  <tbody>\n",
       "    <tr>\n",
       "      <th>0</th>\n",
       "      <td>11001</td>\n",
       "      <td>SK Berlin Mitte</td>\n",
       "    </tr>\n",
       "    <tr>\n",
       "      <th>1</th>\n",
       "      <td>11001</td>\n",
       "      <td>SK Berlin Mitte</td>\n",
       "    </tr>\n",
       "    <tr>\n",
       "      <th>2</th>\n",
       "      <td>11001</td>\n",
       "      <td>SK Berlin Mitte</td>\n",
       "    </tr>\n",
       "    <tr>\n",
       "      <th>3</th>\n",
       "      <td>11001</td>\n",
       "      <td>SK Berlin Mitte</td>\n",
       "    </tr>\n",
       "    <tr>\n",
       "      <th>4</th>\n",
       "      <td>11001</td>\n",
       "      <td>SK Berlin Mitte</td>\n",
       "    </tr>\n",
       "  </tbody>\n",
       "</table>\n",
       "</div>"
      ],
      "text/plain": [
       "   IdLandkreis        Landkreis\n",
       "0        11001  SK Berlin Mitte\n",
       "1        11001  SK Berlin Mitte\n",
       "2        11001  SK Berlin Mitte\n",
       "3        11001  SK Berlin Mitte\n",
       "4        11001  SK Berlin Mitte"
      ]
     },
     "execution_count": 16,
     "metadata": {},
     "output_type": "execute_result"
    }
   ],
   "source": [
    "data.iloc[:, [2, 3]].head()"
   ]
  },
  {
   "cell_type": "markdown",
   "metadata": {},
   "source": [
    "__Note__: You will use `loc/iloc` in the notebooks to come in the next lessons, but for this lesson here, we will use column selection by column names as discussed first:"
   ]
  },
  {
   "cell_type": "code",
   "execution_count": 17,
   "metadata": {},
   "outputs": [
    {
     "data": {
      "text/html": [
       "<div>\n",
       "<style scoped>\n",
       "    .dataframe tbody tr th:only-of-type {\n",
       "        vertical-align: middle;\n",
       "    }\n",
       "\n",
       "    .dataframe tbody tr th {\n",
       "        vertical-align: top;\n",
       "    }\n",
       "\n",
       "    .dataframe thead th {\n",
       "        text-align: right;\n",
       "    }\n",
       "</style>\n",
       "<table border=\"1\" class=\"dataframe\">\n",
       "  <thead>\n",
       "    <tr style=\"text-align: right;\">\n",
       "      <th></th>\n",
       "      <th>Bundesland</th>\n",
       "      <th>Landkreis</th>\n",
       "    </tr>\n",
       "  </thead>\n",
       "  <tbody>\n",
       "    <tr>\n",
       "      <th>0</th>\n",
       "      <td>Berlin</td>\n",
       "      <td>SK Berlin Mitte</td>\n",
       "    </tr>\n",
       "    <tr>\n",
       "      <th>1</th>\n",
       "      <td>Berlin</td>\n",
       "      <td>SK Berlin Mitte</td>\n",
       "    </tr>\n",
       "    <tr>\n",
       "      <th>2</th>\n",
       "      <td>Berlin</td>\n",
       "      <td>SK Berlin Mitte</td>\n",
       "    </tr>\n",
       "    <tr>\n",
       "      <th>3</th>\n",
       "      <td>Berlin</td>\n",
       "      <td>SK Berlin Mitte</td>\n",
       "    </tr>\n",
       "    <tr>\n",
       "      <th>4</th>\n",
       "      <td>Berlin</td>\n",
       "      <td>SK Berlin Mitte</td>\n",
       "    </tr>\n",
       "  </tbody>\n",
       "</table>\n",
       "</div>"
      ],
      "text/plain": [
       "  Bundesland        Landkreis\n",
       "0     Berlin  SK Berlin Mitte\n",
       "1     Berlin  SK Berlin Mitte\n",
       "2     Berlin  SK Berlin Mitte\n",
       "3     Berlin  SK Berlin Mitte\n",
       "4     Berlin  SK Berlin Mitte"
      ]
     },
     "execution_count": 17,
     "metadata": {},
     "output_type": "execute_result"
    }
   ],
   "source": [
    "data[['Bundesland', 'Landkreis']].head()"
   ]
  },
  {
   "cell_type": "markdown",
   "metadata": {},
   "source": [
    "#### _Your turn_: Exercises\n",
    "\n",
    "Let's meet in small groups and work on a few exercises. Afterwards, we will discuss them shortly together."
   ]
  },
  {
   "cell_type": "markdown",
   "metadata": {},
   "source": [
    "__Exercise 4__: Select the columns listing the number of cases, deaths and recoveries using their __column names__."
   ]
  },
  {
   "cell_type": "code",
   "execution_count": null,
   "metadata": {},
   "outputs": [],
   "source": []
  },
  {
   "cell_type": "markdown",
   "metadata": {},
   "source": [
    "__Exercise 5__: Do the same as in Exercise 4 but this time use __`loc`__."
   ]
  },
  {
   "cell_type": "code",
   "execution_count": null,
   "metadata": {},
   "outputs": [],
   "source": []
  },
  {
   "cell_type": "markdown",
   "metadata": {},
   "source": [
    "__Exercise 6__: Do the same as in Exercise 4 and 5 but this time use __`iloc`__."
   ]
  },
  {
   "cell_type": "code",
   "execution_count": null,
   "metadata": {},
   "outputs": [],
   "source": []
  },
  {
   "cell_type": "markdown",
   "metadata": {},
   "source": [
    "### 5.5 Get unique entries in a column\n",
    "\n",
    "Now, we'd like to check what kind of entries we can find in a column. \n",
    "\n",
    "First, we select a column, similar to how we learned it in *Chapter 5.4*. Since we select this time only **one** column, we do not pass the column name as a list but as a simple string."
   ]
  },
  {
   "cell_type": "code",
   "execution_count": 18,
   "metadata": {},
   "outputs": [
    {
     "data": {
      "text/plain": [
       "0    Berlin\n",
       "1    Berlin\n",
       "2    Berlin\n",
       "3    Berlin\n",
       "4    Berlin\n",
       "Name: Bundesland, dtype: object"
      ]
     },
     "execution_count": 18,
     "metadata": {},
     "output_type": "execute_result"
    }
   ],
   "source": [
    "data['Bundesland'].head()"
   ]
  },
  {
   "cell_type": "markdown",
   "metadata": {},
   "source": [
    "This returns a `Series` (instead of a `DataFrame`):"
   ]
  },
  {
   "cell_type": "code",
   "execution_count": 19,
   "metadata": {},
   "outputs": [
    {
     "data": {
      "text/plain": [
       "pandas.core.series.Series"
      ]
     },
     "execution_count": 19,
     "metadata": {},
     "output_type": "execute_result"
    }
   ],
   "source": [
    "type(data['Bundesland'])"
   ]
  },
  {
   "cell_type": "markdown",
   "metadata": {},
   "source": [
    "Now let's apply the `unique()` function ([see docs](https://pandas.pydata.org/pandas-docs/stable/reference/api/pandas.Series.unique.html)) and check the states in our dataset."
   ]
  },
  {
   "cell_type": "code",
   "execution_count": 20,
   "metadata": {},
   "outputs": [
    {
     "data": {
      "text/plain": [
       "array(['Berlin'], dtype=object)"
      ]
     },
     "execution_count": 20,
     "metadata": {},
     "output_type": "execute_result"
    }
   ],
   "source": [
    "data['Bundesland'].unique()  # Note: Here we pass the single column as string not as list (as shown in Chapter 5.4)"
   ]
  },
  {
   "cell_type": "markdown",
   "metadata": {},
   "source": [
    "There should be 16 states, let's check with Python's built-in function `len` ([see docs](https://docs.python.org/3/library/functions.html#len)) that returns the length of e.g. list-like objects:"
   ]
  },
  {
   "cell_type": "code",
   "execution_count": 21,
   "metadata": {},
   "outputs": [
    {
     "data": {
      "text/plain": [
       "1"
      ]
     },
     "execution_count": 21,
     "metadata": {},
     "output_type": "execute_result"
    }
   ],
   "source": [
    "len(data['Bundesland'].unique())"
   ]
  },
  {
   "cell_type": "markdown",
   "metadata": {},
   "source": [
    "#### _Your turn_: Exercises\n",
    "\n",
    "Let's meet in small groups and work on a few exercises. Afterwards, we will discuss them shortly together."
   ]
  },
  {
   "cell_type": "markdown",
   "metadata": {},
   "source": [
    "__Exercise 7__: Select the column on age groups (`'Altersgruppe'`) - which age groups are monitored?"
   ]
  },
  {
   "cell_type": "code",
   "execution_count": null,
   "metadata": {},
   "outputs": [],
   "source": []
  },
  {
   "cell_type": "markdown",
   "metadata": {},
   "source": [
    "__Exercise 8__: Select the column on districts (`'Landkreis'`) - how many districts are monitored?"
   ]
  },
  {
   "cell_type": "code",
   "execution_count": null,
   "metadata": {},
   "outputs": [],
   "source": []
  },
  {
   "cell_type": "markdown",
   "metadata": {},
   "source": [
    "### 5.6. Select rows (by conditions)"
   ]
  },
  {
   "cell_type": "markdown",
   "metadata": {},
   "source": [
    "Very often, you not only have more criteria (columns) in your dataset than you are actually interested in but also more data points (rows) than you need. Let's say for instance, that we are mainly interested in data points regarding Berlin. Since we have a dataset for Germany, we will need to do some (row) filtering."
   ]
  },
  {
   "cell_type": "markdown",
   "metadata": {},
   "source": [
    "Let's select only the state column (`Bundesland`)."
   ]
  },
  {
   "cell_type": "code",
   "execution_count": 22,
   "metadata": {},
   "outputs": [
    {
     "data": {
      "text/plain": [
       "0        Berlin\n",
       "1        Berlin\n",
       "2        Berlin\n",
       "3        Berlin\n",
       "4        Berlin\n",
       "          ...  \n",
       "98716    Berlin\n",
       "98717    Berlin\n",
       "98718    Berlin\n",
       "98719    Berlin\n",
       "98720    Berlin\n",
       "Name: Bundesland, Length: 98721, dtype: object"
      ]
     },
     "execution_count": 22,
     "metadata": {},
     "output_type": "execute_result"
    }
   ],
   "source": [
    "data['Bundesland']"
   ]
  },
  {
   "cell_type": "markdown",
   "metadata": {},
   "source": [
    "With `Series` it is very easy to check for each row if it fullfils a given condition. As an example, let's ask for \"Thüringen\"."
   ]
  },
  {
   "cell_type": "code",
   "execution_count": 23,
   "metadata": {},
   "outputs": [
    {
     "data": {
      "text/plain": [
       "0        False\n",
       "1        False\n",
       "2        False\n",
       "3        False\n",
       "4        False\n",
       "         ...  \n",
       "98716    False\n",
       "98717    False\n",
       "98718    False\n",
       "98719    False\n",
       "98720    False\n",
       "Name: Bundesland, Length: 98721, dtype: bool"
      ]
     },
     "execution_count": 23,
     "metadata": {},
     "output_type": "execute_result"
    }
   ],
   "source": [
    "data['Bundesland'] == 'Thüringen'"
   ]
  },
  {
   "cell_type": "markdown",
   "metadata": {},
   "source": [
    "You can see, that this operation returns a `Series` of the same length and index as our initial `Series` containing boolean values (`True` or `False`).\n",
    "\n",
    "How can we use this boolean Series know to subset `data` for data points concerning Berlin (i.e. filter `data` for rows concerning Berlin)? We use the following syntax:\n",
    "\n",
    "```python\n",
    "data[condition]\n",
    "```"
   ]
  },
  {
   "cell_type": "code",
   "execution_count": 24,
   "metadata": {},
   "outputs": [
    {
     "data": {
      "text/html": [
       "<div>\n",
       "<style scoped>\n",
       "    .dataframe tbody tr th:only-of-type {\n",
       "        vertical-align: middle;\n",
       "    }\n",
       "\n",
       "    .dataframe tbody tr th {\n",
       "        vertical-align: top;\n",
       "    }\n",
       "\n",
       "    .dataframe thead th {\n",
       "        text-align: right;\n",
       "    }\n",
       "</style>\n",
       "<table border=\"1\" class=\"dataframe\">\n",
       "  <thead>\n",
       "    <tr style=\"text-align: right;\">\n",
       "      <th></th>\n",
       "      <th>IdBundesland</th>\n",
       "      <th>Bundesland</th>\n",
       "      <th>IdLandkreis</th>\n",
       "      <th>Landkreis</th>\n",
       "      <th>Altersgruppe</th>\n",
       "      <th>Altersgruppe2</th>\n",
       "      <th>Geschlecht</th>\n",
       "      <th>Meldedatum</th>\n",
       "      <th>Refdatum</th>\n",
       "      <th>IstErkrankungsbeginn</th>\n",
       "      <th>NeuerFall</th>\n",
       "      <th>NeuerTodesfall</th>\n",
       "      <th>NeuGenesen</th>\n",
       "      <th>AnzahlFall</th>\n",
       "      <th>AnzahlTodesfall</th>\n",
       "      <th>AnzahlGenesen</th>\n",
       "      <th>Datenstand</th>\n",
       "      <th>ObjectId</th>\n",
       "    </tr>\n",
       "  </thead>\n",
       "  <tbody>\n",
       "    <tr>\n",
       "      <th>0</th>\n",
       "      <td>11</td>\n",
       "      <td>Berlin</td>\n",
       "      <td>11001</td>\n",
       "      <td>SK Berlin Mitte</td>\n",
       "      <td>A00-A04</td>\n",
       "      <td>Nicht übermittelt</td>\n",
       "      <td>M</td>\n",
       "      <td>2020/03/05 00:00:00+00</td>\n",
       "      <td>2020/03/07 00:00:00+00</td>\n",
       "      <td>1</td>\n",
       "      <td>0</td>\n",
       "      <td>-9</td>\n",
       "      <td>0</td>\n",
       "      <td>1</td>\n",
       "      <td>0</td>\n",
       "      <td>1</td>\n",
       "      <td>06.07.2021, 00:00 Uhr</td>\n",
       "      <td>1</td>\n",
       "    </tr>\n",
       "    <tr>\n",
       "      <th>1</th>\n",
       "      <td>11</td>\n",
       "      <td>Berlin</td>\n",
       "      <td>11001</td>\n",
       "      <td>SK Berlin Mitte</td>\n",
       "      <td>A00-A04</td>\n",
       "      <td>Nicht übermittelt</td>\n",
       "      <td>M</td>\n",
       "      <td>2020/03/11 00:00:00+00</td>\n",
       "      <td>2020/03/03 00:00:00+00</td>\n",
       "      <td>1</td>\n",
       "      <td>0</td>\n",
       "      <td>-9</td>\n",
       "      <td>0</td>\n",
       "      <td>1</td>\n",
       "      <td>0</td>\n",
       "      <td>1</td>\n",
       "      <td>06.07.2021, 00:00 Uhr</td>\n",
       "      <td>2</td>\n",
       "    </tr>\n",
       "    <tr>\n",
       "      <th>2</th>\n",
       "      <td>11</td>\n",
       "      <td>Berlin</td>\n",
       "      <td>11001</td>\n",
       "      <td>SK Berlin Mitte</td>\n",
       "      <td>A00-A04</td>\n",
       "      <td>Nicht übermittelt</td>\n",
       "      <td>M</td>\n",
       "      <td>2020/03/14 00:00:00+00</td>\n",
       "      <td>2020/03/13 00:00:00+00</td>\n",
       "      <td>1</td>\n",
       "      <td>0</td>\n",
       "      <td>-9</td>\n",
       "      <td>0</td>\n",
       "      <td>1</td>\n",
       "      <td>0</td>\n",
       "      <td>1</td>\n",
       "      <td>06.07.2021, 00:00 Uhr</td>\n",
       "      <td>3</td>\n",
       "    </tr>\n",
       "    <tr>\n",
       "      <th>3</th>\n",
       "      <td>11</td>\n",
       "      <td>Berlin</td>\n",
       "      <td>11001</td>\n",
       "      <td>SK Berlin Mitte</td>\n",
       "      <td>A00-A04</td>\n",
       "      <td>Nicht übermittelt</td>\n",
       "      <td>M</td>\n",
       "      <td>2020/03/18 00:00:00+00</td>\n",
       "      <td>2020/03/13 00:00:00+00</td>\n",
       "      <td>1</td>\n",
       "      <td>0</td>\n",
       "      <td>-9</td>\n",
       "      <td>0</td>\n",
       "      <td>1</td>\n",
       "      <td>0</td>\n",
       "      <td>1</td>\n",
       "      <td>06.07.2021, 00:00 Uhr</td>\n",
       "      <td>4</td>\n",
       "    </tr>\n",
       "    <tr>\n",
       "      <th>4</th>\n",
       "      <td>11</td>\n",
       "      <td>Berlin</td>\n",
       "      <td>11001</td>\n",
       "      <td>SK Berlin Mitte</td>\n",
       "      <td>A00-A04</td>\n",
       "      <td>Nicht übermittelt</td>\n",
       "      <td>M</td>\n",
       "      <td>2020/03/22 00:00:00+00</td>\n",
       "      <td>2020/03/21 00:00:00+00</td>\n",
       "      <td>1</td>\n",
       "      <td>0</td>\n",
       "      <td>-9</td>\n",
       "      <td>0</td>\n",
       "      <td>1</td>\n",
       "      <td>0</td>\n",
       "      <td>1</td>\n",
       "      <td>06.07.2021, 00:00 Uhr</td>\n",
       "      <td>5</td>\n",
       "    </tr>\n",
       "    <tr>\n",
       "      <th>...</th>\n",
       "      <td>...</td>\n",
       "      <td>...</td>\n",
       "      <td>...</td>\n",
       "      <td>...</td>\n",
       "      <td>...</td>\n",
       "      <td>...</td>\n",
       "      <td>...</td>\n",
       "      <td>...</td>\n",
       "      <td>...</td>\n",
       "      <td>...</td>\n",
       "      <td>...</td>\n",
       "      <td>...</td>\n",
       "      <td>...</td>\n",
       "      <td>...</td>\n",
       "      <td>...</td>\n",
       "      <td>...</td>\n",
       "      <td>...</td>\n",
       "      <td>...</td>\n",
       "    </tr>\n",
       "    <tr>\n",
       "      <th>98716</th>\n",
       "      <td>11</td>\n",
       "      <td>Berlin</td>\n",
       "      <td>11012</td>\n",
       "      <td>SK Berlin Reinickendorf</td>\n",
       "      <td>A80+</td>\n",
       "      <td>Nicht übermittelt</td>\n",
       "      <td>W</td>\n",
       "      <td>2021/01/11 00:00:00+00</td>\n",
       "      <td>2021/01/11 00:00:00+00</td>\n",
       "      <td>0</td>\n",
       "      <td>0</td>\n",
       "      <td>0</td>\n",
       "      <td>-9</td>\n",
       "      <td>1</td>\n",
       "      <td>1</td>\n",
       "      <td>0</td>\n",
       "      <td>06.07.2021, 00:00 Uhr</td>\n",
       "      <td>98717</td>\n",
       "    </tr>\n",
       "    <tr>\n",
       "      <th>98717</th>\n",
       "      <td>11</td>\n",
       "      <td>Berlin</td>\n",
       "      <td>11012</td>\n",
       "      <td>SK Berlin Reinickendorf</td>\n",
       "      <td>A80+</td>\n",
       "      <td>Nicht übermittelt</td>\n",
       "      <td>W</td>\n",
       "      <td>2021/01/12 00:00:00+00</td>\n",
       "      <td>2021/01/12 00:00:00+00</td>\n",
       "      <td>0</td>\n",
       "      <td>0</td>\n",
       "      <td>-9</td>\n",
       "      <td>0</td>\n",
       "      <td>4</td>\n",
       "      <td>0</td>\n",
       "      <td>4</td>\n",
       "      <td>06.07.2021, 00:00 Uhr</td>\n",
       "      <td>98718</td>\n",
       "    </tr>\n",
       "    <tr>\n",
       "      <th>98718</th>\n",
       "      <td>11</td>\n",
       "      <td>Berlin</td>\n",
       "      <td>11012</td>\n",
       "      <td>SK Berlin Reinickendorf</td>\n",
       "      <td>A80+</td>\n",
       "      <td>Nicht übermittelt</td>\n",
       "      <td>W</td>\n",
       "      <td>2021/01/12 00:00:00+00</td>\n",
       "      <td>2021/01/12 00:00:00+00</td>\n",
       "      <td>0</td>\n",
       "      <td>0</td>\n",
       "      <td>0</td>\n",
       "      <td>-9</td>\n",
       "      <td>1</td>\n",
       "      <td>1</td>\n",
       "      <td>0</td>\n",
       "      <td>06.07.2021, 00:00 Uhr</td>\n",
       "      <td>98719</td>\n",
       "    </tr>\n",
       "    <tr>\n",
       "      <th>98719</th>\n",
       "      <td>11</td>\n",
       "      <td>Berlin</td>\n",
       "      <td>11012</td>\n",
       "      <td>SK Berlin Reinickendorf</td>\n",
       "      <td>A80+</td>\n",
       "      <td>Nicht übermittelt</td>\n",
       "      <td>W</td>\n",
       "      <td>2021/01/13 00:00:00+00</td>\n",
       "      <td>2020/12/28 00:00:00+00</td>\n",
       "      <td>1</td>\n",
       "      <td>0</td>\n",
       "      <td>-9</td>\n",
       "      <td>0</td>\n",
       "      <td>1</td>\n",
       "      <td>0</td>\n",
       "      <td>1</td>\n",
       "      <td>06.07.2021, 00:00 Uhr</td>\n",
       "      <td>98720</td>\n",
       "    </tr>\n",
       "    <tr>\n",
       "      <th>98720</th>\n",
       "      <td>11</td>\n",
       "      <td>Berlin</td>\n",
       "      <td>11012</td>\n",
       "      <td>SK Berlin Reinickendorf</td>\n",
       "      <td>A80+</td>\n",
       "      <td>Nicht übermittelt</td>\n",
       "      <td>W</td>\n",
       "      <td>2021/01/13 00:00:00+00</td>\n",
       "      <td>2021/01/08 00:00:00+00</td>\n",
       "      <td>1</td>\n",
       "      <td>0</td>\n",
       "      <td>-9</td>\n",
       "      <td>0</td>\n",
       "      <td>1</td>\n",
       "      <td>0</td>\n",
       "      <td>1</td>\n",
       "      <td>06.07.2021, 00:00 Uhr</td>\n",
       "      <td>98721</td>\n",
       "    </tr>\n",
       "  </tbody>\n",
       "</table>\n",
       "<p>98721 rows × 18 columns</p>\n",
       "</div>"
      ],
      "text/plain": [
       "       IdBundesland Bundesland  IdLandkreis                Landkreis  \\\n",
       "0                11     Berlin        11001          SK Berlin Mitte   \n",
       "1                11     Berlin        11001          SK Berlin Mitte   \n",
       "2                11     Berlin        11001          SK Berlin Mitte   \n",
       "3                11     Berlin        11001          SK Berlin Mitte   \n",
       "4                11     Berlin        11001          SK Berlin Mitte   \n",
       "...             ...        ...          ...                      ...   \n",
       "98716            11     Berlin        11012  SK Berlin Reinickendorf   \n",
       "98717            11     Berlin        11012  SK Berlin Reinickendorf   \n",
       "98718            11     Berlin        11012  SK Berlin Reinickendorf   \n",
       "98719            11     Berlin        11012  SK Berlin Reinickendorf   \n",
       "98720            11     Berlin        11012  SK Berlin Reinickendorf   \n",
       "\n",
       "      Altersgruppe      Altersgruppe2 Geschlecht              Meldedatum  \\\n",
       "0          A00-A04  Nicht übermittelt          M  2020/03/05 00:00:00+00   \n",
       "1          A00-A04  Nicht übermittelt          M  2020/03/11 00:00:00+00   \n",
       "2          A00-A04  Nicht übermittelt          M  2020/03/14 00:00:00+00   \n",
       "3          A00-A04  Nicht übermittelt          M  2020/03/18 00:00:00+00   \n",
       "4          A00-A04  Nicht übermittelt          M  2020/03/22 00:00:00+00   \n",
       "...            ...                ...        ...                     ...   \n",
       "98716         A80+  Nicht übermittelt          W  2021/01/11 00:00:00+00   \n",
       "98717         A80+  Nicht übermittelt          W  2021/01/12 00:00:00+00   \n",
       "98718         A80+  Nicht übermittelt          W  2021/01/12 00:00:00+00   \n",
       "98719         A80+  Nicht übermittelt          W  2021/01/13 00:00:00+00   \n",
       "98720         A80+  Nicht übermittelt          W  2021/01/13 00:00:00+00   \n",
       "\n",
       "                     Refdatum  IstErkrankungsbeginn  NeuerFall  \\\n",
       "0      2020/03/07 00:00:00+00                     1          0   \n",
       "1      2020/03/03 00:00:00+00                     1          0   \n",
       "2      2020/03/13 00:00:00+00                     1          0   \n",
       "3      2020/03/13 00:00:00+00                     1          0   \n",
       "4      2020/03/21 00:00:00+00                     1          0   \n",
       "...                       ...                   ...        ...   \n",
       "98716  2021/01/11 00:00:00+00                     0          0   \n",
       "98717  2021/01/12 00:00:00+00                     0          0   \n",
       "98718  2021/01/12 00:00:00+00                     0          0   \n",
       "98719  2020/12/28 00:00:00+00                     1          0   \n",
       "98720  2021/01/08 00:00:00+00                     1          0   \n",
       "\n",
       "       NeuerTodesfall  NeuGenesen  AnzahlFall  AnzahlTodesfall  AnzahlGenesen  \\\n",
       "0                  -9           0           1                0              1   \n",
       "1                  -9           0           1                0              1   \n",
       "2                  -9           0           1                0              1   \n",
       "3                  -9           0           1                0              1   \n",
       "4                  -9           0           1                0              1   \n",
       "...               ...         ...         ...              ...            ...   \n",
       "98716               0          -9           1                1              0   \n",
       "98717              -9           0           4                0              4   \n",
       "98718               0          -9           1                1              0   \n",
       "98719              -9           0           1                0              1   \n",
       "98720              -9           0           1                0              1   \n",
       "\n",
       "                  Datenstand  ObjectId  \n",
       "0      06.07.2021, 00:00 Uhr         1  \n",
       "1      06.07.2021, 00:00 Uhr         2  \n",
       "2      06.07.2021, 00:00 Uhr         3  \n",
       "3      06.07.2021, 00:00 Uhr         4  \n",
       "4      06.07.2021, 00:00 Uhr         5  \n",
       "...                      ...       ...  \n",
       "98716  06.07.2021, 00:00 Uhr     98717  \n",
       "98717  06.07.2021, 00:00 Uhr     98718  \n",
       "98718  06.07.2021, 00:00 Uhr     98719  \n",
       "98719  06.07.2021, 00:00 Uhr     98720  \n",
       "98720  06.07.2021, 00:00 Uhr     98721  \n",
       "\n",
       "[98721 rows x 18 columns]"
      ]
     },
     "execution_count": 24,
     "metadata": {},
     "output_type": "execute_result"
    }
   ],
   "source": [
    "# Condition\n",
    "state_is_berlin = data['Bundesland'] == 'Berlin'\n",
    "\n",
    "# Subset dataset by condition\n",
    "data[state_is_berlin]  # equals\n",
    "data[data['Bundesland'] == 'Berlin']"
   ]
  },
  {
   "cell_type": "markdown",
   "metadata": {},
   "source": [
    "#### _Your turn_: Exercises\n",
    "\n",
    "Let's meet in small groups and work on a few exercises. Afterwards, we will discuss them shortly together."
   ]
  },
  {
   "cell_type": "markdown",
   "metadata": {},
   "source": [
    "__Exercise 9__: Select only data points for Berlin Mitte (one condition)."
   ]
  },
  {
   "cell_type": "code",
   "execution_count": null,
   "metadata": {},
   "outputs": [],
   "source": []
  },
  {
   "cell_type": "markdown",
   "metadata": {},
   "source": [
    "__Exercise 10__: Select only data points for Berlin and patients between 35 and 59 years old (two conditions).\n",
    "\n",
    "```python\n",
    "# Use one condition\n",
    "data[condition]\n",
    "\n",
    "# Use multipe conditions\n",
    "data[condition1 & condition2]  # Fullfill condition 1 AND 2\n",
    "data[condition1 & not condition2]  # Fullfill condition 1 AND not 2\n",
    "data[condition1 | condition2]  # Fullfill condition 1 OR 2\n",
    "```"
   ]
  },
  {
   "cell_type": "code",
   "execution_count": null,
   "metadata": {},
   "outputs": [],
   "source": []
  },
  {
   "cell_type": "markdown",
   "metadata": {},
   "source": [
    "### 5.7. Group data"
   ]
  },
  {
   "cell_type": "markdown",
   "metadata": {},
   "source": [
    "From here on, we will continue to work only with data for Berlin, so we will save the subset to the new variable `data_berlin`."
   ]
  },
  {
   "cell_type": "code",
   "execution_count": 25,
   "metadata": {},
   "outputs": [
    {
     "data": {
      "text/plain": [
       "(98721, 18)"
      ]
     },
     "execution_count": 25,
     "metadata": {},
     "output_type": "execute_result"
    }
   ],
   "source": [
    "data_berlin = data[data['Bundesland'] == 'Berlin']\n",
    "data_berlin.shape"
   ]
  },
  {
   "cell_type": "markdown",
   "metadata": {},
   "source": [
    "From https://pandas.pydata.org/pandas-docs/stable/user_guide/groupby.html:\n",
    "\n",
    "> By `groupby()` we are referring to a process involving one or more of the following steps:\n",
    "> * **Splitting** the data into groups based on some criteria.\n",
    "> * **Applying** a function to each group independently.\n",
    "> * **Combining** the results into a data structure.\n"
   ]
  },
  {
   "cell_type": "markdown",
   "metadata": {},
   "source": [
    "#### Example: Get group sum with `sum()`"
   ]
  },
  {
   "cell_type": "markdown",
   "metadata": {},
   "source": [
    "**Splitting**: Split data into groups based on a criteria."
   ]
  },
  {
   "cell_type": "code",
   "execution_count": 26,
   "metadata": {},
   "outputs": [
    {
     "data": {
      "text/plain": [
       "<pandas.core.groupby.generic.DataFrameGroupBy object at 0x7f89f8dc1d50>"
      ]
     },
     "execution_count": 26,
     "metadata": {},
     "output_type": "execute_result"
    }
   ],
   "source": [
    "data_berlin.groupby('Altersgruppe')"
   ]
  },
  {
   "cell_type": "code",
   "execution_count": 27,
   "metadata": {},
   "outputs": [
    {
     "data": {
      "text/plain": [
       "pandas.core.groupby.generic.DataFrameGroupBy"
      ]
     },
     "execution_count": 27,
     "metadata": {},
     "output_type": "execute_result"
    }
   ],
   "source": [
    "type(data_berlin.groupby('Altersgruppe'))"
   ]
  },
  {
   "cell_type": "markdown",
   "metadata": {},
   "source": [
    "Look at one of the groups (= subset of the full DataFrame)."
   ]
  },
  {
   "cell_type": "code",
   "execution_count": 28,
   "metadata": {},
   "outputs": [
    {
     "data": {
      "text/html": [
       "<div>\n",
       "<style scoped>\n",
       "    .dataframe tbody tr th:only-of-type {\n",
       "        vertical-align: middle;\n",
       "    }\n",
       "\n",
       "    .dataframe tbody tr th {\n",
       "        vertical-align: top;\n",
       "    }\n",
       "\n",
       "    .dataframe thead th {\n",
       "        text-align: right;\n",
       "    }\n",
       "</style>\n",
       "<table border=\"1\" class=\"dataframe\">\n",
       "  <thead>\n",
       "    <tr style=\"text-align: right;\">\n",
       "      <th></th>\n",
       "      <th>IdBundesland</th>\n",
       "      <th>Bundesland</th>\n",
       "      <th>IdLandkreis</th>\n",
       "      <th>Landkreis</th>\n",
       "      <th>Altersgruppe</th>\n",
       "      <th>Altersgruppe2</th>\n",
       "      <th>Geschlecht</th>\n",
       "      <th>Meldedatum</th>\n",
       "      <th>Refdatum</th>\n",
       "      <th>IstErkrankungsbeginn</th>\n",
       "      <th>NeuerFall</th>\n",
       "      <th>NeuerTodesfall</th>\n",
       "      <th>NeuGenesen</th>\n",
       "      <th>AnzahlFall</th>\n",
       "      <th>AnzahlTodesfall</th>\n",
       "      <th>AnzahlGenesen</th>\n",
       "      <th>Datenstand</th>\n",
       "      <th>ObjectId</th>\n",
       "    </tr>\n",
       "  </thead>\n",
       "  <tbody>\n",
       "    <tr>\n",
       "      <th>0</th>\n",
       "      <td>11</td>\n",
       "      <td>Berlin</td>\n",
       "      <td>11001</td>\n",
       "      <td>SK Berlin Mitte</td>\n",
       "      <td>A00-A04</td>\n",
       "      <td>Nicht übermittelt</td>\n",
       "      <td>M</td>\n",
       "      <td>2020/03/05 00:00:00+00</td>\n",
       "      <td>2020/03/07 00:00:00+00</td>\n",
       "      <td>1</td>\n",
       "      <td>0</td>\n",
       "      <td>-9</td>\n",
       "      <td>0</td>\n",
       "      <td>1</td>\n",
       "      <td>0</td>\n",
       "      <td>1</td>\n",
       "      <td>06.07.2021, 00:00 Uhr</td>\n",
       "      <td>1</td>\n",
       "    </tr>\n",
       "    <tr>\n",
       "      <th>1</th>\n",
       "      <td>11</td>\n",
       "      <td>Berlin</td>\n",
       "      <td>11001</td>\n",
       "      <td>SK Berlin Mitte</td>\n",
       "      <td>A00-A04</td>\n",
       "      <td>Nicht übermittelt</td>\n",
       "      <td>M</td>\n",
       "      <td>2020/03/11 00:00:00+00</td>\n",
       "      <td>2020/03/03 00:00:00+00</td>\n",
       "      <td>1</td>\n",
       "      <td>0</td>\n",
       "      <td>-9</td>\n",
       "      <td>0</td>\n",
       "      <td>1</td>\n",
       "      <td>0</td>\n",
       "      <td>1</td>\n",
       "      <td>06.07.2021, 00:00 Uhr</td>\n",
       "      <td>2</td>\n",
       "    </tr>\n",
       "    <tr>\n",
       "      <th>2</th>\n",
       "      <td>11</td>\n",
       "      <td>Berlin</td>\n",
       "      <td>11001</td>\n",
       "      <td>SK Berlin Mitte</td>\n",
       "      <td>A00-A04</td>\n",
       "      <td>Nicht übermittelt</td>\n",
       "      <td>M</td>\n",
       "      <td>2020/03/14 00:00:00+00</td>\n",
       "      <td>2020/03/13 00:00:00+00</td>\n",
       "      <td>1</td>\n",
       "      <td>0</td>\n",
       "      <td>-9</td>\n",
       "      <td>0</td>\n",
       "      <td>1</td>\n",
       "      <td>0</td>\n",
       "      <td>1</td>\n",
       "      <td>06.07.2021, 00:00 Uhr</td>\n",
       "      <td>3</td>\n",
       "    </tr>\n",
       "    <tr>\n",
       "      <th>3</th>\n",
       "      <td>11</td>\n",
       "      <td>Berlin</td>\n",
       "      <td>11001</td>\n",
       "      <td>SK Berlin Mitte</td>\n",
       "      <td>A00-A04</td>\n",
       "      <td>Nicht übermittelt</td>\n",
       "      <td>M</td>\n",
       "      <td>2020/03/18 00:00:00+00</td>\n",
       "      <td>2020/03/13 00:00:00+00</td>\n",
       "      <td>1</td>\n",
       "      <td>0</td>\n",
       "      <td>-9</td>\n",
       "      <td>0</td>\n",
       "      <td>1</td>\n",
       "      <td>0</td>\n",
       "      <td>1</td>\n",
       "      <td>06.07.2021, 00:00 Uhr</td>\n",
       "      <td>4</td>\n",
       "    </tr>\n",
       "    <tr>\n",
       "      <th>4</th>\n",
       "      <td>11</td>\n",
       "      <td>Berlin</td>\n",
       "      <td>11001</td>\n",
       "      <td>SK Berlin Mitte</td>\n",
       "      <td>A00-A04</td>\n",
       "      <td>Nicht übermittelt</td>\n",
       "      <td>M</td>\n",
       "      <td>2020/03/22 00:00:00+00</td>\n",
       "      <td>2020/03/21 00:00:00+00</td>\n",
       "      <td>1</td>\n",
       "      <td>0</td>\n",
       "      <td>-9</td>\n",
       "      <td>0</td>\n",
       "      <td>1</td>\n",
       "      <td>0</td>\n",
       "      <td>1</td>\n",
       "      <td>06.07.2021, 00:00 Uhr</td>\n",
       "      <td>5</td>\n",
       "    </tr>\n",
       "    <tr>\n",
       "      <th>...</th>\n",
       "      <td>...</td>\n",
       "      <td>...</td>\n",
       "      <td>...</td>\n",
       "      <td>...</td>\n",
       "      <td>...</td>\n",
       "      <td>...</td>\n",
       "      <td>...</td>\n",
       "      <td>...</td>\n",
       "      <td>...</td>\n",
       "      <td>...</td>\n",
       "      <td>...</td>\n",
       "      <td>...</td>\n",
       "      <td>...</td>\n",
       "      <td>...</td>\n",
       "      <td>...</td>\n",
       "      <td>...</td>\n",
       "      <td>...</td>\n",
       "      <td>...</td>\n",
       "    </tr>\n",
       "    <tr>\n",
       "      <th>91152</th>\n",
       "      <td>11</td>\n",
       "      <td>Berlin</td>\n",
       "      <td>11012</td>\n",
       "      <td>SK Berlin Reinickendorf</td>\n",
       "      <td>A00-A04</td>\n",
       "      <td>Nicht übermittelt</td>\n",
       "      <td>W</td>\n",
       "      <td>2021/03/24 00:00:00+00</td>\n",
       "      <td>2021/03/24 00:00:00+00</td>\n",
       "      <td>0</td>\n",
       "      <td>0</td>\n",
       "      <td>-9</td>\n",
       "      <td>0</td>\n",
       "      <td>1</td>\n",
       "      <td>0</td>\n",
       "      <td>1</td>\n",
       "      <td>06.07.2021, 00:00 Uhr</td>\n",
       "      <td>91153</td>\n",
       "    </tr>\n",
       "    <tr>\n",
       "      <th>91153</th>\n",
       "      <td>11</td>\n",
       "      <td>Berlin</td>\n",
       "      <td>11012</td>\n",
       "      <td>SK Berlin Reinickendorf</td>\n",
       "      <td>A00-A04</td>\n",
       "      <td>Nicht übermittelt</td>\n",
       "      <td>W</td>\n",
       "      <td>2021/03/25 00:00:00+00</td>\n",
       "      <td>2021/03/25 00:00:00+00</td>\n",
       "      <td>0</td>\n",
       "      <td>0</td>\n",
       "      <td>-9</td>\n",
       "      <td>0</td>\n",
       "      <td>1</td>\n",
       "      <td>0</td>\n",
       "      <td>1</td>\n",
       "      <td>06.07.2021, 00:00 Uhr</td>\n",
       "      <td>91154</td>\n",
       "    </tr>\n",
       "    <tr>\n",
       "      <th>91154</th>\n",
       "      <td>11</td>\n",
       "      <td>Berlin</td>\n",
       "      <td>11012</td>\n",
       "      <td>SK Berlin Reinickendorf</td>\n",
       "      <td>A00-A04</td>\n",
       "      <td>Nicht übermittelt</td>\n",
       "      <td>W</td>\n",
       "      <td>2021/03/26 00:00:00+00</td>\n",
       "      <td>2021/03/23 00:00:00+00</td>\n",
       "      <td>1</td>\n",
       "      <td>0</td>\n",
       "      <td>-9</td>\n",
       "      <td>0</td>\n",
       "      <td>1</td>\n",
       "      <td>0</td>\n",
       "      <td>1</td>\n",
       "      <td>06.07.2021, 00:00 Uhr</td>\n",
       "      <td>91155</td>\n",
       "    </tr>\n",
       "    <tr>\n",
       "      <th>91155</th>\n",
       "      <td>11</td>\n",
       "      <td>Berlin</td>\n",
       "      <td>11012</td>\n",
       "      <td>SK Berlin Reinickendorf</td>\n",
       "      <td>A00-A04</td>\n",
       "      <td>Nicht übermittelt</td>\n",
       "      <td>W</td>\n",
       "      <td>2021/03/27 00:00:00+00</td>\n",
       "      <td>2021/03/27 00:00:00+00</td>\n",
       "      <td>0</td>\n",
       "      <td>0</td>\n",
       "      <td>-9</td>\n",
       "      <td>0</td>\n",
       "      <td>2</td>\n",
       "      <td>0</td>\n",
       "      <td>2</td>\n",
       "      <td>06.07.2021, 00:00 Uhr</td>\n",
       "      <td>91156</td>\n",
       "    </tr>\n",
       "    <tr>\n",
       "      <th>91156</th>\n",
       "      <td>11</td>\n",
       "      <td>Berlin</td>\n",
       "      <td>11012</td>\n",
       "      <td>SK Berlin Reinickendorf</td>\n",
       "      <td>A00-A04</td>\n",
       "      <td>Nicht übermittelt</td>\n",
       "      <td>W</td>\n",
       "      <td>2021/03/29 00:00:00+00</td>\n",
       "      <td>2021/03/27 00:00:00+00</td>\n",
       "      <td>1</td>\n",
       "      <td>0</td>\n",
       "      <td>-9</td>\n",
       "      <td>0</td>\n",
       "      <td>1</td>\n",
       "      <td>0</td>\n",
       "      <td>1</td>\n",
       "      <td>06.07.2021, 00:00 Uhr</td>\n",
       "      <td>91157</td>\n",
       "    </tr>\n",
       "  </tbody>\n",
       "</table>\n",
       "<p>3777 rows × 18 columns</p>\n",
       "</div>"
      ],
      "text/plain": [
       "       IdBundesland Bundesland  IdLandkreis                Landkreis  \\\n",
       "0                11     Berlin        11001          SK Berlin Mitte   \n",
       "1                11     Berlin        11001          SK Berlin Mitte   \n",
       "2                11     Berlin        11001          SK Berlin Mitte   \n",
       "3                11     Berlin        11001          SK Berlin Mitte   \n",
       "4                11     Berlin        11001          SK Berlin Mitte   \n",
       "...             ...        ...          ...                      ...   \n",
       "91152            11     Berlin        11012  SK Berlin Reinickendorf   \n",
       "91153            11     Berlin        11012  SK Berlin Reinickendorf   \n",
       "91154            11     Berlin        11012  SK Berlin Reinickendorf   \n",
       "91155            11     Berlin        11012  SK Berlin Reinickendorf   \n",
       "91156            11     Berlin        11012  SK Berlin Reinickendorf   \n",
       "\n",
       "      Altersgruppe      Altersgruppe2 Geschlecht              Meldedatum  \\\n",
       "0          A00-A04  Nicht übermittelt          M  2020/03/05 00:00:00+00   \n",
       "1          A00-A04  Nicht übermittelt          M  2020/03/11 00:00:00+00   \n",
       "2          A00-A04  Nicht übermittelt          M  2020/03/14 00:00:00+00   \n",
       "3          A00-A04  Nicht übermittelt          M  2020/03/18 00:00:00+00   \n",
       "4          A00-A04  Nicht übermittelt          M  2020/03/22 00:00:00+00   \n",
       "...            ...                ...        ...                     ...   \n",
       "91152      A00-A04  Nicht übermittelt          W  2021/03/24 00:00:00+00   \n",
       "91153      A00-A04  Nicht übermittelt          W  2021/03/25 00:00:00+00   \n",
       "91154      A00-A04  Nicht übermittelt          W  2021/03/26 00:00:00+00   \n",
       "91155      A00-A04  Nicht übermittelt          W  2021/03/27 00:00:00+00   \n",
       "91156      A00-A04  Nicht übermittelt          W  2021/03/29 00:00:00+00   \n",
       "\n",
       "                     Refdatum  IstErkrankungsbeginn  NeuerFall  \\\n",
       "0      2020/03/07 00:00:00+00                     1          0   \n",
       "1      2020/03/03 00:00:00+00                     1          0   \n",
       "2      2020/03/13 00:00:00+00                     1          0   \n",
       "3      2020/03/13 00:00:00+00                     1          0   \n",
       "4      2020/03/21 00:00:00+00                     1          0   \n",
       "...                       ...                   ...        ...   \n",
       "91152  2021/03/24 00:00:00+00                     0          0   \n",
       "91153  2021/03/25 00:00:00+00                     0          0   \n",
       "91154  2021/03/23 00:00:00+00                     1          0   \n",
       "91155  2021/03/27 00:00:00+00                     0          0   \n",
       "91156  2021/03/27 00:00:00+00                     1          0   \n",
       "\n",
       "       NeuerTodesfall  NeuGenesen  AnzahlFall  AnzahlTodesfall  AnzahlGenesen  \\\n",
       "0                  -9           0           1                0              1   \n",
       "1                  -9           0           1                0              1   \n",
       "2                  -9           0           1                0              1   \n",
       "3                  -9           0           1                0              1   \n",
       "4                  -9           0           1                0              1   \n",
       "...               ...         ...         ...              ...            ...   \n",
       "91152              -9           0           1                0              1   \n",
       "91153              -9           0           1                0              1   \n",
       "91154              -9           0           1                0              1   \n",
       "91155              -9           0           2                0              2   \n",
       "91156              -9           0           1                0              1   \n",
       "\n",
       "                  Datenstand  ObjectId  \n",
       "0      06.07.2021, 00:00 Uhr         1  \n",
       "1      06.07.2021, 00:00 Uhr         2  \n",
       "2      06.07.2021, 00:00 Uhr         3  \n",
       "3      06.07.2021, 00:00 Uhr         4  \n",
       "4      06.07.2021, 00:00 Uhr         5  \n",
       "...                      ...       ...  \n",
       "91152  06.07.2021, 00:00 Uhr     91153  \n",
       "91153  06.07.2021, 00:00 Uhr     91154  \n",
       "91154  06.07.2021, 00:00 Uhr     91155  \n",
       "91155  06.07.2021, 00:00 Uhr     91156  \n",
       "91156  06.07.2021, 00:00 Uhr     91157  \n",
       "\n",
       "[3777 rows x 18 columns]"
      ]
     },
     "execution_count": 28,
     "metadata": {},
     "output_type": "execute_result"
    }
   ],
   "source": [
    "data_berlin.groupby('Altersgruppe').get_group(\"A00-A04\")"
   ]
  },
  {
   "cell_type": "markdown",
   "metadata": {},
   "source": [
    "**Applying and combining**: Apply function to each group, e.g. get the sum of numerical values in each group using `sum()`."
   ]
  },
  {
   "cell_type": "code",
   "execution_count": 29,
   "metadata": {},
   "outputs": [
    {
     "data": {
      "text/html": [
       "<div>\n",
       "<style scoped>\n",
       "    .dataframe tbody tr th:only-of-type {\n",
       "        vertical-align: middle;\n",
       "    }\n",
       "\n",
       "    .dataframe tbody tr th {\n",
       "        vertical-align: top;\n",
       "    }\n",
       "\n",
       "    .dataframe thead th {\n",
       "        text-align: right;\n",
       "    }\n",
       "</style>\n",
       "<table border=\"1\" class=\"dataframe\">\n",
       "  <thead>\n",
       "    <tr style=\"text-align: right;\">\n",
       "      <th></th>\n",
       "      <th>IdBundesland</th>\n",
       "      <th>IdLandkreis</th>\n",
       "      <th>IstErkrankungsbeginn</th>\n",
       "      <th>NeuerFall</th>\n",
       "      <th>NeuerTodesfall</th>\n",
       "      <th>NeuGenesen</th>\n",
       "      <th>AnzahlFall</th>\n",
       "      <th>AnzahlTodesfall</th>\n",
       "      <th>AnzahlGenesen</th>\n",
       "      <th>ObjectId</th>\n",
       "    </tr>\n",
       "    <tr>\n",
       "      <th>Altersgruppe</th>\n",
       "      <th></th>\n",
       "      <th></th>\n",
       "      <th></th>\n",
       "      <th></th>\n",
       "      <th></th>\n",
       "      <th></th>\n",
       "      <th></th>\n",
       "      <th></th>\n",
       "      <th></th>\n",
       "      <th></th>\n",
       "    </tr>\n",
       "  </thead>\n",
       "  <tbody>\n",
       "    <tr>\n",
       "      <th>A00-A04</th>\n",
       "      <td>41547</td>\n",
       "      <td>41570925</td>\n",
       "      <td>1945</td>\n",
       "      <td>1</td>\n",
       "      <td>-33993</td>\n",
       "      <td>-98</td>\n",
       "      <td>4648</td>\n",
       "      <td>0</td>\n",
       "      <td>4637</td>\n",
       "      <td>173201462</td>\n",
       "    </tr>\n",
       "    <tr>\n",
       "      <th>A05-A14</th>\n",
       "      <td>97009</td>\n",
       "      <td>97064294</td>\n",
       "      <td>5236</td>\n",
       "      <td>3</td>\n",
       "      <td>-79371</td>\n",
       "      <td>-236</td>\n",
       "      <td>13792</td>\n",
       "      <td>0</td>\n",
       "      <td>13763</td>\n",
       "      <td>403941755</td>\n",
       "    </tr>\n",
       "    <tr>\n",
       "      <th>A15-A34</th>\n",
       "      <td>335588</td>\n",
       "      <td>335774245</td>\n",
       "      <td>25055</td>\n",
       "      <td>26</td>\n",
       "      <td>-274536</td>\n",
       "      <td>-1339</td>\n",
       "      <td>59004</td>\n",
       "      <td>4</td>\n",
       "      <td>58844</td>\n",
       "      <td>1406312450</td>\n",
       "    </tr>\n",
       "    <tr>\n",
       "      <th>A35-A59</th>\n",
       "      <td>366157</td>\n",
       "      <td>366365114</td>\n",
       "      <td>27841</td>\n",
       "      <td>11</td>\n",
       "      <td>-298322</td>\n",
       "      <td>-2223</td>\n",
       "      <td>66624</td>\n",
       "      <td>142</td>\n",
       "      <td>66365</td>\n",
       "      <td>1667636514</td>\n",
       "    </tr>\n",
       "    <tr>\n",
       "      <th>A60-A79</th>\n",
       "      <td>165792</td>\n",
       "      <td>165890407</td>\n",
       "      <td>10759</td>\n",
       "      <td>4</td>\n",
       "      <td>-126045</td>\n",
       "      <td>-9842</td>\n",
       "      <td>23464</td>\n",
       "      <td>1166</td>\n",
       "      <td>22268</td>\n",
       "      <td>820781231</td>\n",
       "    </tr>\n",
       "    <tr>\n",
       "      <th>A80+</th>\n",
       "      <td>76417</td>\n",
       "      <td>76463057</td>\n",
       "      <td>3514</td>\n",
       "      <td>1</td>\n",
       "      <td>-46358</td>\n",
       "      <td>-16272</td>\n",
       "      <td>12193</td>\n",
       "      <td>2246</td>\n",
       "      <td>9935</td>\n",
       "      <td>390543072</td>\n",
       "    </tr>\n",
       "    <tr>\n",
       "      <th>unbekannt</th>\n",
       "      <td>3421</td>\n",
       "      <td>3422206</td>\n",
       "      <td>69</td>\n",
       "      <td>0</td>\n",
       "      <td>-2772</td>\n",
       "      <td>-36</td>\n",
       "      <td>592</td>\n",
       "      <td>3</td>\n",
       "      <td>588</td>\n",
       "      <td>10550797</td>\n",
       "    </tr>\n",
       "  </tbody>\n",
       "</table>\n",
       "</div>"
      ],
      "text/plain": [
       "              IdBundesland  IdLandkreis  IstErkrankungsbeginn  NeuerFall  \\\n",
       "Altersgruppe                                                               \n",
       "A00-A04              41547     41570925                  1945          1   \n",
       "A05-A14              97009     97064294                  5236          3   \n",
       "A15-A34             335588    335774245                 25055         26   \n",
       "A35-A59             366157    366365114                 27841         11   \n",
       "A60-A79             165792    165890407                 10759          4   \n",
       "A80+                 76417     76463057                  3514          1   \n",
       "unbekannt             3421      3422206                    69          0   \n",
       "\n",
       "              NeuerTodesfall  NeuGenesen  AnzahlFall  AnzahlTodesfall  \\\n",
       "Altersgruppe                                                            \n",
       "A00-A04               -33993         -98        4648                0   \n",
       "A05-A14               -79371        -236       13792                0   \n",
       "A15-A34              -274536       -1339       59004                4   \n",
       "A35-A59              -298322       -2223       66624              142   \n",
       "A60-A79              -126045       -9842       23464             1166   \n",
       "A80+                  -46358      -16272       12193             2246   \n",
       "unbekannt              -2772         -36         592                3   \n",
       "\n",
       "              AnzahlGenesen    ObjectId  \n",
       "Altersgruppe                             \n",
       "A00-A04                4637   173201462  \n",
       "A05-A14               13763   403941755  \n",
       "A15-A34               58844  1406312450  \n",
       "A35-A59               66365  1667636514  \n",
       "A60-A79               22268   820781231  \n",
       "A80+                   9935   390543072  \n",
       "unbekannt               588    10550797  "
      ]
     },
     "execution_count": 29,
     "metadata": {},
     "output_type": "execute_result"
    }
   ],
   "source": [
    "data_berlin.groupby('Altersgruppe').sum()"
   ]
  },
  {
   "cell_type": "markdown",
   "metadata": {},
   "source": [
    "With `pandas` it is very easy to quickly plot data using the `plot()` function ([see docs](https://pandas.pydata.org/pandas-docs/stable/reference/api/pandas.DataFrame.plot.html)) - with the parameter `kind` you can specify what plot type you want to plot (in our case we want a barplot)."
   ]
  },
  {
   "cell_type": "code",
   "execution_count": 30,
   "metadata": {},
   "outputs": [],
   "source": [
    "data_berlin.groupby('Altersgruppe').sum()['AnzahlFall'].plot(\n",
    "    kind='bar', \n",
    "    title=f'Number of all COVID19 cases in Berlin since the beginning of the pandamic ({data[\"Datenstand\"].unique()[0]})'\n",
    ");"
   ]
  },
  {
   "cell_type": "markdown",
   "metadata": {},
   "source": [
    "Compare this plot with the [RKI Dashboard](https://corona.rki.de/)."
   ]
  },
  {
   "cell_type": "markdown",
   "metadata": {},
   "source": [
    "#### _Your turn_: Exercises\n",
    "\n",
    "Let's meet in small groups and work on a few exercises. Afterwards, we will discuss them shortly together."
   ]
  },
  {
   "cell_type": "markdown",
   "metadata": {},
   "source": [
    "__Exercise 11__: Since the `groupby` functionality is very powerful but also at first difficult to wraps our head around, go through the first two examples above again in your group and discuss questions."
   ]
  },
  {
   "cell_type": "code",
   "execution_count": null,
   "metadata": {},
   "outputs": [],
   "source": []
  },
  {
   "cell_type": "markdown",
   "metadata": {},
   "source": [
    "__Exercise 12__: Get number of total COVID-19 cases by Berlin's districts and compare your findings to the [official COVID-19 table for Berlin > Bezirke > Übersicht](https://www.berlin.de/corona/lagebericht/)."
   ]
  },
  {
   "cell_type": "code",
   "execution_count": null,
   "metadata": {},
   "outputs": [],
   "source": []
  },
  {
   "cell_type": "markdown",
   "metadata": {},
   "source": [
    "__Exercise 13__: Plot the number of total COVID-19 cases in Berlin grouped by Berlin's districts (barplot)."
   ]
  },
  {
   "cell_type": "code",
   "execution_count": null,
   "metadata": {},
   "outputs": [],
   "source": []
  },
  {
   "cell_type": "markdown",
   "metadata": {},
   "source": [
    "## 6. Discussion\n",
    "\n",
    "In this notebook, we saw how quickly possible it is to read in a csv file as `DataFrame` (*Chapter 5.2*) and to start working with it. \n",
    "- We got a first impression on our COVID-19 Berlin dataset. We looked at the number of data points (`DataFrame` rows) and criteria (`DataFrame` columns) as well as some example data points, see *Chapter 5.3*.\n",
    "- We selected interesting columns and checked what kind of column entries we can except, see *Chapter 5.4 and 5.5*. \n",
    "- We grouped data by certain criteria (columns), and applied operations on these groups, e.g. we calculated the sum within each group). We also did some first steps towards plotting with `pandas`, see *Chapter 5.6*. "
   ]
  },
  {
   "cell_type": "markdown",
   "metadata": {},
   "source": [
    "## 7. Final exercise\n",
    "\n",
    "As promised at the beginning, you will get your own dataset now :)\n",
    "\n",
    "Last year during the course, we could only work with COVID-19 cases data but luckily, this year, we have something positive to look at as well - the vaccination progress in Germany! You can find that data online again at the [RKI website](https://www.rki.de/DE/Content/InfAZ/N/Neuartiges_Coronavirus/Daten/Impfquoten-Tab.html) (under the \"Daten\" section). \n",
    "\n",
    "The provided Excel file is a bit difficult to handle, thus many GitHub repos have been set up to process the dataset into formats that are easier to work with, e.g. https://github.com/ard-data/2020-rki-impf-archive."
   ]
  },
  {
   "cell_type": "markdown",
   "metadata": {},
   "source": [
    "1. Let's load the cumulative vaccination progress for Germany:"
   ]
  },
  {
   "cell_type": "code",
   "execution_count": 31,
   "metadata": {},
   "outputs": [
    {
     "data": {
      "text/html": [
       "<div>\n",
       "<style scoped>\n",
       "    .dataframe tbody tr th:only-of-type {\n",
       "        vertical-align: middle;\n",
       "    }\n",
       "\n",
       "    .dataframe tbody tr th {\n",
       "        vertical-align: top;\n",
       "    }\n",
       "\n",
       "    .dataframe thead th {\n",
       "        text-align: right;\n",
       "    }\n",
       "</style>\n",
       "<table border=\"1\" class=\"dataframe\">\n",
       "  <thead>\n",
       "    <tr style=\"text-align: right;\">\n",
       "      <th></th>\n",
       "      <th>date</th>\n",
       "      <th>publication_date</th>\n",
       "      <th>dosen_kumulativ</th>\n",
       "      <th>personen_erst_kumulativ</th>\n",
       "      <th>personen_voll_kumulativ</th>\n",
       "      <th>personen_min1_kumulativ</th>\n",
       "      <th>personen_zweit_kumulativ</th>\n",
       "      <th>dosen_biontech_kumulativ</th>\n",
       "      <th>personen_erst_biontech_kumulativ</th>\n",
       "      <th>personen_voll_biontech_kumulativ</th>\n",
       "      <th>...</th>\n",
       "      <th>impf_quote_dosen_alter_60plus</th>\n",
       "      <th>impf_quote_erst_alter_60plus</th>\n",
       "      <th>impf_quote_voll_alter_60plus</th>\n",
       "      <th>impf_quote_min1_alter_60plus</th>\n",
       "      <th>impf_quote_zweit_alter_60plus</th>\n",
       "      <th>impf_inzidenz_dosen_alter_60plus</th>\n",
       "      <th>impf_inzidenz_erst_alter_60plus</th>\n",
       "      <th>impf_inzidenz_voll_alter_60plus</th>\n",
       "      <th>impf_inzidenz_min1_alter_60plus</th>\n",
       "      <th>impf_inzidenz_zweit_alter_60plus</th>\n",
       "    </tr>\n",
       "  </thead>\n",
       "  <tbody>\n",
       "    <tr>\n",
       "      <th>0</th>\n",
       "      <td>2020-12-27</td>\n",
       "      <td>2020-12-28 16:15</td>\n",
       "      <td>21566</td>\n",
       "      <td>21566</td>\n",
       "      <td>0</td>\n",
       "      <td>21566</td>\n",
       "      <td>0</td>\n",
       "      <td>21566</td>\n",
       "      <td>21566</td>\n",
       "      <td>0</td>\n",
       "      <td>...</td>\n",
       "      <td>NaN</td>\n",
       "      <td>NaN</td>\n",
       "      <td>NaN</td>\n",
       "      <td>NaN</td>\n",
       "      <td>NaN</td>\n",
       "      <td>NaN</td>\n",
       "      <td>NaN</td>\n",
       "      <td>NaN</td>\n",
       "      <td>NaN</td>\n",
       "      <td>NaN</td>\n",
       "    </tr>\n",
       "    <tr>\n",
       "      <th>1</th>\n",
       "      <td>2020-12-28</td>\n",
       "      <td>2020-12-29 08:00</td>\n",
       "      <td>41962</td>\n",
       "      <td>41962</td>\n",
       "      <td>0</td>\n",
       "      <td>41962</td>\n",
       "      <td>0</td>\n",
       "      <td>41962</td>\n",
       "      <td>41962</td>\n",
       "      <td>0</td>\n",
       "      <td>...</td>\n",
       "      <td>NaN</td>\n",
       "      <td>NaN</td>\n",
       "      <td>NaN</td>\n",
       "      <td>NaN</td>\n",
       "      <td>NaN</td>\n",
       "      <td>NaN</td>\n",
       "      <td>NaN</td>\n",
       "      <td>NaN</td>\n",
       "      <td>NaN</td>\n",
       "      <td>NaN</td>\n",
       "    </tr>\n",
       "    <tr>\n",
       "      <th>2</th>\n",
       "      <td>2020-12-30</td>\n",
       "      <td>2020-12-31 08:30</td>\n",
       "      <td>131626</td>\n",
       "      <td>131626</td>\n",
       "      <td>0</td>\n",
       "      <td>131626</td>\n",
       "      <td>0</td>\n",
       "      <td>131626</td>\n",
       "      <td>131626</td>\n",
       "      <td>0</td>\n",
       "      <td>...</td>\n",
       "      <td>NaN</td>\n",
       "      <td>NaN</td>\n",
       "      <td>NaN</td>\n",
       "      <td>NaN</td>\n",
       "      <td>NaN</td>\n",
       "      <td>NaN</td>\n",
       "      <td>NaN</td>\n",
       "      <td>NaN</td>\n",
       "      <td>NaN</td>\n",
       "      <td>NaN</td>\n",
       "    </tr>\n",
       "    <tr>\n",
       "      <th>3</th>\n",
       "      <td>2020-12-31</td>\n",
       "      <td>2021-01-01 12:30</td>\n",
       "      <td>165575</td>\n",
       "      <td>165575</td>\n",
       "      <td>0</td>\n",
       "      <td>165575</td>\n",
       "      <td>0</td>\n",
       "      <td>165575</td>\n",
       "      <td>165575</td>\n",
       "      <td>0</td>\n",
       "      <td>...</td>\n",
       "      <td>NaN</td>\n",
       "      <td>NaN</td>\n",
       "      <td>NaN</td>\n",
       "      <td>NaN</td>\n",
       "      <td>NaN</td>\n",
       "      <td>NaN</td>\n",
       "      <td>NaN</td>\n",
       "      <td>NaN</td>\n",
       "      <td>NaN</td>\n",
       "      <td>NaN</td>\n",
       "    </tr>\n",
       "    <tr>\n",
       "      <th>4</th>\n",
       "      <td>2021-01-01</td>\n",
       "      <td>2021-01-02 08:00</td>\n",
       "      <td>188553</td>\n",
       "      <td>188553</td>\n",
       "      <td>0</td>\n",
       "      <td>188553</td>\n",
       "      <td>0</td>\n",
       "      <td>188553</td>\n",
       "      <td>188553</td>\n",
       "      <td>0</td>\n",
       "      <td>...</td>\n",
       "      <td>NaN</td>\n",
       "      <td>NaN</td>\n",
       "      <td>NaN</td>\n",
       "      <td>NaN</td>\n",
       "      <td>NaN</td>\n",
       "      <td>NaN</td>\n",
       "      <td>NaN</td>\n",
       "      <td>NaN</td>\n",
       "      <td>NaN</td>\n",
       "      <td>NaN</td>\n",
       "    </tr>\n",
       "  </tbody>\n",
       "</table>\n",
       "<p>5 rows × 107 columns</p>\n",
       "</div>"
      ],
      "text/plain": [
       "        date  publication_date  dosen_kumulativ  personen_erst_kumulativ  \\\n",
       "0 2020-12-27  2020-12-28 16:15            21566                    21566   \n",
       "1 2020-12-28  2020-12-29 08:00            41962                    41962   \n",
       "2 2020-12-30  2020-12-31 08:30           131626                   131626   \n",
       "3 2020-12-31  2021-01-01 12:30           165575                   165575   \n",
       "4 2021-01-01  2021-01-02 08:00           188553                   188553   \n",
       "\n",
       "   personen_voll_kumulativ  personen_min1_kumulativ  personen_zweit_kumulativ  \\\n",
       "0                        0                    21566                         0   \n",
       "1                        0                    41962                         0   \n",
       "2                        0                   131626                         0   \n",
       "3                        0                   165575                         0   \n",
       "4                        0                   188553                         0   \n",
       "\n",
       "   dosen_biontech_kumulativ  personen_erst_biontech_kumulativ  \\\n",
       "0                     21566                             21566   \n",
       "1                     41962                             41962   \n",
       "2                    131626                            131626   \n",
       "3                    165575                            165575   \n",
       "4                    188553                            188553   \n",
       "\n",
       "   personen_voll_biontech_kumulativ  ...  impf_quote_dosen_alter_60plus  \\\n",
       "0                                 0  ...                            NaN   \n",
       "1                                 0  ...                            NaN   \n",
       "2                                 0  ...                            NaN   \n",
       "3                                 0  ...                            NaN   \n",
       "4                                 0  ...                            NaN   \n",
       "\n",
       "   impf_quote_erst_alter_60plus  impf_quote_voll_alter_60plus  \\\n",
       "0                           NaN                           NaN   \n",
       "1                           NaN                           NaN   \n",
       "2                           NaN                           NaN   \n",
       "3                           NaN                           NaN   \n",
       "4                           NaN                           NaN   \n",
       "\n",
       "   impf_quote_min1_alter_60plus  impf_quote_zweit_alter_60plus  \\\n",
       "0                           NaN                            NaN   \n",
       "1                           NaN                            NaN   \n",
       "2                           NaN                            NaN   \n",
       "3                           NaN                            NaN   \n",
       "4                           NaN                            NaN   \n",
       "\n",
       "   impf_inzidenz_dosen_alter_60plus  impf_inzidenz_erst_alter_60plus  \\\n",
       "0                               NaN                              NaN   \n",
       "1                               NaN                              NaN   \n",
       "2                               NaN                              NaN   \n",
       "3                               NaN                              NaN   \n",
       "4                               NaN                              NaN   \n",
       "\n",
       "   impf_inzidenz_voll_alter_60plus  impf_inzidenz_min1_alter_60plus  \\\n",
       "0                              NaN                              NaN   \n",
       "1                              NaN                              NaN   \n",
       "2                              NaN                              NaN   \n",
       "3                              NaN                              NaN   \n",
       "4                              NaN                              NaN   \n",
       "\n",
       "   impf_inzidenz_zweit_alter_60plus  \n",
       "0                               NaN  \n",
       "1                               NaN  \n",
       "2                               NaN  \n",
       "3                               NaN  \n",
       "4                               NaN  \n",
       "\n",
       "[5 rows x 107 columns]"
      ]
     },
     "execution_count": 31,
     "metadata": {},
     "output_type": "execute_result"
    }
   ],
   "source": [
    "vaccination_cumulative = pd.read_csv(\n",
    "    \"https://raw.githubusercontent.com/ard-data/2020-rki-impf-archive/master/data/9_csv_v3/region_DE.csv\"\n",
    ")\n",
    "vaccination_cumulative[\"date\"] = pd.to_datetime(vaccination_cumulative[\"date\"])\n",
    "vaccination_cumulative.head()"
   ]
  },
  {
   "cell_type": "markdown",
   "metadata": {},
   "source": [
    "2. Set the date as the `DataFrame` index. Use `pandas.DataFrame.set_index(column_name)` for that."
   ]
  },
  {
   "cell_type": "code",
   "execution_count": null,
   "metadata": {},
   "outputs": [],
   "source": []
  },
  {
   "cell_type": "markdown",
   "metadata": {},
   "source": [
    "3. Select only the columns containing the cumulative number of people who are fully vaccinated or vaccinated once/twice."
   ]
  },
  {
   "cell_type": "code",
   "execution_count": null,
   "metadata": {},
   "outputs": [],
   "source": []
  },
  {
   "cell_type": "markdown",
   "metadata": {},
   "source": [
    "4. Plot the cumulative time series."
   ]
  },
  {
   "cell_type": "code",
   "execution_count": null,
   "metadata": {},
   "outputs": [],
   "source": []
  },
  {
   "cell_type": "markdown",
   "metadata": {},
   "source": [
    "6. Compare your results to the data on the BMG website: https://impfdashboard.de/"
   ]
  },
  {
   "cell_type": "code",
   "execution_count": null,
   "metadata": {},
   "outputs": [],
   "source": []
  },
  {
   "cell_type": "code",
   "execution_count": null,
   "metadata": {},
   "outputs": [],
   "source": []
  },
  {
   "cell_type": "code",
   "execution_count": null,
   "metadata": {},
   "outputs": [],
   "source": []
  },
  {
   "cell_type": "code",
   "execution_count": null,
   "metadata": {},
   "outputs": [],
   "source": []
  },
  {
   "cell_type": "code",
   "execution_count": null,
   "metadata": {},
   "outputs": [],
   "source": []
  },
  {
   "cell_type": "code",
   "execution_count": null,
   "metadata": {},
   "outputs": [],
   "source": []
  },
  {
   "cell_type": "code",
   "execution_count": null,
   "metadata": {},
   "outputs": [],
   "source": []
  },
  {
   "cell_type": "code",
   "execution_count": null,
   "metadata": {},
   "outputs": [],
   "source": []
  },
  {
   "cell_type": "code",
   "execution_count": null,
   "metadata": {},
   "outputs": [],
   "source": []
  },
  {
   "cell_type": "code",
   "execution_count": null,
   "metadata": {},
   "outputs": [],
   "source": []
  },
  {
   "cell_type": "code",
   "execution_count": null,
   "metadata": {},
   "outputs": [],
   "source": []
  },
  {
   "cell_type": "code",
   "execution_count": null,
   "metadata": {},
   "outputs": [],
   "source": []
  },
  {
   "cell_type": "code",
   "execution_count": null,
   "metadata": {},
   "outputs": [],
   "source": []
  },
  {
   "cell_type": "code",
   "execution_count": null,
   "metadata": {},
   "outputs": [],
   "source": []
  },
  {
   "cell_type": "code",
   "execution_count": null,
   "metadata": {},
   "outputs": [],
   "source": []
  },
  {
   "cell_type": "code",
   "execution_count": null,
   "metadata": {},
   "outputs": [],
   "source": []
  },
  {
   "cell_type": "code",
   "execution_count": null,
   "metadata": {},
   "outputs": [],
   "source": []
  },
  {
   "cell_type": "code",
   "execution_count": null,
   "metadata": {},
   "outputs": [],
   "source": []
  },
  {
   "cell_type": "code",
   "execution_count": null,
   "metadata": {},
   "outputs": [],
   "source": []
  },
  {
   "cell_type": "code",
   "execution_count": null,
   "metadata": {},
   "outputs": [],
   "source": []
  },
  {
   "cell_type": "markdown",
   "metadata": {},
   "source": [
    "__Solutions__"
   ]
  },
  {
   "cell_type": "markdown",
   "metadata": {},
   "source": [
    "__Words of encouragement :)__ \n",
    "\n",
    "Before you take a look at the solutions, try to solve the exercises yourself. \n",
    "\n",
    "All the information needed lives in _5. Practical_ - if you are stuck, first take a look at the material there. Talk to your fellow students. If you have a solution, then go ahead and take a look here.\n",
    "\n",
    "Also note that the solutions given here show only one possibility - most of the times there are multiple options to achieve the same end result."
   ]
  },
  {
   "cell_type": "markdown",
   "metadata": {},
   "source": [
    "<details>\n",
    "<summary> > Solution 1</summary>\n",
    "    \n",
    "```python\n",
    "data.head(4)\n",
    "data.tail()\n",
    "```\n",
    "    \n",
    "</details>"
   ]
  },
  {
   "cell_type": "markdown",
   "metadata": {},
   "source": [
    "<details>\n",
    "<summary> > Solution 2</summary>\n",
    "    \n",
    "```python\n",
    "len(data.columns)\n",
    "data.columns[2]\n",
    "```\n",
    "    \n",
    "</details>"
   ]
  },
  {
   "cell_type": "markdown",
   "metadata": {},
   "source": [
    "<details>\n",
    "<summary> > Solution 3</summary>\n",
    "    \n",
    "```python\n",
    "pd.DataFrame(\n",
    "    [\n",
    "        [\"France\", \"Gewürztraminer\", True], \n",
    "        [\"Australia\", \"beautiful nature\", True], \n",
    "        [\"Israel\", \"hummus\", True], \n",
    "        [\"Iceland\", \"language\", False]\n",
    "    ], \n",
    "    columns=[\"country\", \"awesome because of\", \"been there\"]\n",
    ")\n",
    "```\n",
    "    \n",
    "</details>"
   ]
  },
  {
   "cell_type": "markdown",
   "metadata": {},
   "source": [
    "<details>\n",
    "<summary> > Solution 4</summary>\n",
    "    \n",
    "```python\n",
    "data[[\"AnzahlFall\", \"AnzahlTodesfall\", \"AnzahlGenesen\"]]\n",
    "```\n",
    "    \n",
    "</details>"
   ]
  },
  {
   "cell_type": "markdown",
   "metadata": {},
   "source": [
    "<details>\n",
    "<summary> > Solution 5</summary>\n",
    "    \n",
    "```python\n",
    "data.loc[:, [\"AnzahlFall\", \"AnzahlTodesfall\", \"AnzahlGenesen\"]]\n",
    "```\n",
    "    \n",
    "</details>"
   ]
  },
  {
   "cell_type": "markdown",
   "metadata": {},
   "source": [
    "<details>\n",
    "<summary> > Solution 6</summary>\n",
    "    \n",
    "```python\n",
    "data.iloc[:, [4, 5, 6]]\n",
    "```\n",
    "    \n",
    "</details>"
   ]
  },
  {
   "cell_type": "markdown",
   "metadata": {},
   "source": [
    "<details>\n",
    "<summary> > Solution 7</summary>\n",
    "    \n",
    "```python\n",
    "data[\"Altersgruppe\"].unique()\n",
    "```\n",
    "    \n",
    "</details>"
   ]
  },
  {
   "cell_type": "markdown",
   "metadata": {},
   "source": [
    "<details>\n",
    "<summary> > Solution 8</summary>\n",
    "    \n",
    "```python\n",
    "len(data[\"Landkreis\"].unique())\n",
    "```\n",
    "    \n",
    "</details>"
   ]
  },
  {
   "cell_type": "markdown",
   "metadata": {},
   "source": [
    "<details>\n",
    "<summary> > Solution 9</summary>\n",
    "    \n",
    "```python\n",
    "data[data[\"Landkreis\"] == \"SK Berlin Mitte\"]\n",
    "```\n",
    "    \n",
    "</details>"
   ]
  },
  {
   "cell_type": "markdown",
   "metadata": {},
   "source": [
    "<details>\n",
    "<summary> > Solution 10</summary>\n",
    "    \n",
    "```python\n",
    "data[\n",
    "    (data[\"Bundesland\"] == \"Berlin\") & \n",
    "    (data[\"Altersgruppe\"] == \"A35-A59\")\n",
    "]\n",
    "```\n",
    "    \n",
    "</details>"
   ]
  },
  {
   "cell_type": "markdown",
   "metadata": {},
   "source": [
    "<details>\n",
    "<summary> > Solution 11</summary>\n",
    "    \n",
    "Go through _Chapter 5.6._ one more time.\n",
    "    \n",
    "</details>"
   ]
  },
  {
   "cell_type": "markdown",
   "metadata": {},
   "source": [
    "<details>\n",
    "<summary> > Solution 12</summary>\n",
    "    \n",
    "```python\n",
    "data_berlin.groupby('Landkreis')['AnzahlFall'].sum()\n",
    "```\n",
    "    \n",
    "</details>"
   ]
  },
  {
   "cell_type": "markdown",
   "metadata": {},
   "source": [
    "<details>\n",
    "<summary> > Solution 13</summary>\n",
    "    \n",
    "```python\n",
    "data_berlin.groupby('Landkreis')['AnzahlFall'].sum().plot(\n",
    "    kind='bar', title=f'Number of COVID-19 cases in Berlin'\n",
    ")\n",
    "```\n",
    "    \n",
    "</details>"
   ]
  },
  {
   "cell_type": "markdown",
   "metadata": {},
   "source": [
    "<details>\n",
    "<summary> > Solution to final exercise</summary>\n",
    "    \n",
    "```python\n",
    "vaccination_cumulative = vaccination_cumulative.set_index(\"date\")\n",
    "vaccination_cumulative = vaccination_cumulative[[\"personen_erst_kumulativ\", \"personen_voll_kumulativ\", \"personen_zweit_kumulativ\"]]\n",
    "vaccination_cumulative.plot()\n",
    "```\n",
    "    \n",
    "</details>"
   ]
  }
 ],
 "metadata": {
  "kernelspec": {
   "display_name": "Python 3",
   "language": "python",
   "name": "python3"
  },
  "language_info": {
   "codemirror_mode": {
    "name": "ipython",
    "version": 3
   },
   "file_extension": ".py",
   "mimetype": "text/x-python",
   "name": "python",
   "nbconvert_exporter": "python",
   "pygments_lexer": "ipython3",
   "version": "3.7.6"
  },
  "widgets": {
   "application/vnd.jupyter.widget-state+json": {
    "state": {},
    "version_major": 2,
    "version_minor": 0
   }
  }
 },
 "nbformat": 4,
 "nbformat_minor": 4
}
