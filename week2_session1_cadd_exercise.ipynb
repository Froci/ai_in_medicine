{
 "cells": [
  {
   "cell_type": "markdown",
   "metadata": {},
   "source": [
    "# AI in medicine - CADD exercise"
   ]
  },
  {
   "cell_type": "markdown",
   "metadata": {},
   "source": [
    "**Tutor**: David Schaller  \n",
    "**Institution**: Charité - Universitätsmedizin Berlin  \n",
    "**Email**: david.schaller@charite.de  \n",
    "\n",
    "This notebook is based on [TeachOpenCADD](https://github.com/volkamerlab/TeachOpenCADD/) and the scikit-learn [intro](https://github.com/volkamerlab/ai_in_medicine) from week 1."
   ]
  },
  {
   "cell_type": "markdown",
   "metadata": {},
   "source": [
    "## Aim\n",
    "\n",
    "In this notebook, the experience gained in the first week will be applied to perform a virtual screening experiment for inhibitors of the epidermal growth factor receptor ([EGFR](https://en.wikipedia.org/wiki/Epidermal_growth_factor_receptor)) via machine learning. First, computer-friendly molecular representations will be introduced, which allow the training of machine learning models. Next, a support vector machine will be trained to classify molecules as active or inactive. The trained model will be used to predict the activity of a small molecule set. Finally, successsful participants can check their hits for potential activity against EGFR via online resources."
   ]
  },
  {
   "cell_type": "markdown",
   "metadata": {},
   "source": [
    "## Learning goals\n",
    "\n",
    "- apply knowledge from first week\n",
    "- represent molecules in a computer-friendly fashion\n",
    "- perform a virtual screening experiment\n",
    "- check online resources for potential activities"
   ]
  },
  {
   "cell_type": "markdown",
   "metadata": {},
   "source": [
    "## Theory\n",
    "The essential theory of machine learning algorithms was covered in the first week. The concept of virtual screening will be presented seperately via slides."
   ]
  },
  {
   "cell_type": "markdown",
   "metadata": {},
   "source": [
    "## References\n",
    "- [epidermal growth factor receptor](https://en.wikipedia.org/wiki/Epidermal_growth_factor_receptor)\n",
    "- [molecular fingerprints](http://infochim.u-strasbg.fr/CS3/program/material/Bajorath.pdf)\n",
    "- [support vector machine](https://en.wikipedia.org/wiki/Support_vector_machine)\n",
    "- [virtual screening](https://en.wikipedia.org/wiki/Virtual_screening)\n",
    "- [TeachOpenCADD](https://github.com/volkamerlab/TeachOpenCADD/)\n",
    "- [scikit-learn Intro from week 1](https://github.com/volkamerlab/ai_in_medicine)"
   ]
  },
  {
   "cell_type": "markdown",
   "metadata": {},
   "source": [
    "## Python packages\n",
    "- [scikit-learn](https://scikit-learn.org/stable/)\n",
    "- [rdkit](https://www.rdkit.org/)\n",
    "- [pandas](https://pandas.pydata.org/)\n",
    "- [numpy](https://numpy.org/)\n",
    "- [matplotlib](https://matplotlib.org/)"
   ]
  },
  {
   "cell_type": "markdown",
   "metadata": {},
   "source": [
    "## Practical\n",
    "\n",
    "When running this notebook on Azure, make sure the Python 3.6 kernel is selected. "
   ]
  },
  {
   "cell_type": "markdown",
   "metadata": {},
   "source": [
    "**Content**\n",
    "\n",
    "1. Install RDKit  \n",
    "2. Import modules  \n",
    "3. Data preparation  \n",
    " 3.1 Load data  \n",
    " 3.2 Interpret molecules  \n",
    "4. Classify data  \n",
    "5. Split data  \n",
    "6. Train a support vector classifier\n",
    "7. Assess performance\n",
    "8. Apply to unknown molecules"
   ]
  },
  {
   "cell_type": "markdown",
   "metadata": {},
   "source": [
    "### 1. Install RDKit\n",
    "\n",
    "RDKit is not installed in Google Colab, and RDKit is only available via `conda` (a package manager), which is not available on Colab either. To provide RDKit, we will need to (1) Install conda (we will use `condacolab` for that) and (2) Install RDKit using `mamba`."
   ]
  },
  {
   "cell_type": "code",
   "execution_count": 1,
   "metadata": {},
   "outputs": [],
   "source": [
    "!pip install condacolab\n",
    "condacolab.install()"
   ]
  },
  {
   "cell_type": "code",
   "execution_count": 3,
   "metadata": {},
   "outputs": [
    {
     "name": "stdout",
     "output_type": "stream",
     "text": [
      "  Package             Version  Build           Channel                    Size\n",
      "────────────────────────────────────────────────────────────────────────────────\n",
      "  Install:\n",
      "────────────────────────────────────────────────────────────────────────────────\n",
      "\n",
      "\u001b[32m  boost           \u001b[00m     1.72.0  py38h1e42940_1  conda-forge/linux-64     359 KB\n",
      "\u001b[32m  boost-cpp       \u001b[00m     1.72.0  h8e57a91_0      conda-forge/linux-64      22 MB\n",
      "\u001b[32m  bzip2           \u001b[00m      1.0.8  h7f98852_4      conda-forge/linux-64     484 KB\n",
      "\u001b[32m  cairo           \u001b[00m     1.16.0  hcf35c78_1003   conda-forge/linux-64       1 MB\n",
      "\u001b[32m  lcms2           \u001b[00m       2.11  hcbb858e_1      conda-forge/linux-64     434 KB\n",
      "\u001b[32m  libtiff         \u001b[00m      4.2.0  hdc55705_0      conda-forge/linux-64     633 KB\n",
      "\u001b[32m  libwebp-base    \u001b[00m      1.1.0  h516909a_3      conda-forge/linux-64\u001b[32m     Cached\u001b[00m\n",
      "\u001b[32m  lz4-c           \u001b[00m      1.9.3  h9c3ff4c_0      conda-forge/linux-64     179 KB\n",
      "\u001b[32m  olefile         \u001b[00m       0.46  pyh9f0ad1d_1    conda-forge/noarch        32 KB\n",
      "\u001b[32m  pillow          \u001b[00m      8.1.0  py38h357d4e7_1  conda-forge/linux-64     674 KB\n",
      "\u001b[32m  pixman          \u001b[00m     0.38.0  h516909a_1003   conda-forge/linux-64\u001b[32m     Cached\u001b[00m\n",
      "\u001b[32m  pycairo         \u001b[00m     1.20.0  py38h323dad1_1  conda-forge/linux-64      78 KB\n",
      "\u001b[32m  rdkit           \u001b[00m  2020.09.3  py38h3f7302f_0  conda-forge/linux-64      26 MB\n",
      "\u001b[32m  reportlab       \u001b[00m     3.5.59  py38hadf75a6_0  conda-forge/linux-64       2 MB\n",
      "\u001b[32m  sqlalchemy      \u001b[00m     1.3.22  py38h497a2fe_1  conda-forge/linux-64       2 MB\n",
      "\u001b[32m  xorg-kbproto    \u001b[00m      1.0.7  h14c3975_1002   conda-forge/linux-64\u001b[32m     Cached\u001b[00m\n",
      "\u001b[32m  xorg-libice     \u001b[00m     1.0.10  h516909a_0      conda-forge/linux-64\u001b[32m     Cached\u001b[00m\n",
      "\u001b[32m  xorg-libsm      \u001b[00m      1.2.3  h84519dc_1000   conda-forge/linux-64\u001b[32m     Cached\u001b[00m\n",
      "\u001b[32m  xorg-libx11     \u001b[00m     1.6.12  h516909a_0      conda-forge/linux-64\u001b[32m     Cached\u001b[00m\n",
      "\u001b[32m  xorg-libxext    \u001b[00m      1.3.4  h516909a_0      conda-forge/linux-64\u001b[32m     Cached\u001b[00m\n",
      "\u001b[32m  xorg-libxrender \u001b[00m     0.9.10  h516909a_1002   conda-forge/linux-64\u001b[32m     Cached\u001b[00m\n",
      "\u001b[32m  xorg-renderproto\u001b[00m     0.11.1  h14c3975_1002   conda-forge/linux-64\u001b[32m     Cached\u001b[00m\n",
      "\u001b[32m  xorg-xextproto  \u001b[00m      7.3.0  h14c3975_1002   conda-forge/linux-64\u001b[32m     Cached\u001b[00m\n",
      "\u001b[32m  xorg-xproto     \u001b[00m     7.0.31  h14c3975_1007   conda-forge/linux-64\u001b[32m     Cached\u001b[00m\n",
      "\u001b[32m  zstd            \u001b[00m      1.4.8  ha95c52a_1      conda-forge/linux-64     702 KB\n",
      "\n",
      "  Upgrade:\n",
      "────────────────────────────────────────────────────────────────────────────────\n",
      "\n",
      "\u001b[31m  ca-certificates \u001b[00m  2020.6.20  hecda079_0      installed                      \n",
      "\u001b[32m  ca-certificates \u001b[00m  2021.1.19  h06a4308_0      pkgs/main/linux-64       121 KB\n",
      "\u001b[31m  certifi         \u001b[00m  2020.6.20  py38h32f6830_0  installed                      \n",
      "\u001b[32m  certifi         \u001b[00m  2020.12.5  py38h578d9bd_1  conda-forge/linux-64     143 KB\n",
      "\u001b[31m  freetype        \u001b[00m     2.10.2  he06d7ca_0      installed                      \n",
      "\u001b[32m  freetype        \u001b[00m     2.10.4  h0708190_1      conda-forge/linux-64     890 KB\n",
      "\u001b[31m  libgcc-ng       \u001b[00m      9.2.0  h24d8f2e_2      installed                      \n",
      "\u001b[32m  libgcc-ng       \u001b[00m      9.3.0  h2828fa1_18     conda-forge/linux-64\u001b[32m     Cached\u001b[00m\n",
      "\u001b[31m  libstdcxx-ng    \u001b[00m      9.2.0  hdf63c60_2      installed                      \n",
      "\u001b[32m  libstdcxx-ng    \u001b[00m      9.3.0  h6de172a_18     conda-forge/linux-64\u001b[32m     Cached\u001b[00m\n",
      "\u001b[31m  openssl         \u001b[00m     1.1.1g  h516909a_0      installed                      \n",
      "\u001b[32m  openssl         \u001b[00m     1.1.1i  h7f98852_0      conda-forge/linux-64\u001b[32m     Cached\u001b[00m\n",
      "\n",
      "  Summary:\n",
      "\n",
      "  Install: 25 packages\n",
      "  Upgrade: 6 packages\n",
      "\n",
      "  Total download: 59 MB\n",
      "\n",
      "────────────────────────────────────────────────────────────────────────────────\n",
      "\n",
      "Preparing transaction: ...working... done\n",
      "Verifying transaction: ...working... done\n",
      "Executing transaction: ...working... done\n"
     ]
    }
   ],
   "source": [
    "!mamba install -yq rdkit"
   ]
  },
  {
   "cell_type": "markdown",
   "metadata": {},
   "source": [
    "### 2. Import modules\n",
    "\n",
    "These modules are needed to perform all parts of this exercise. Feel free to add other modules, since there are multiple solutions to succeed."
   ]
  },
  {
   "cell_type": "code",
   "execution_count": 4,
   "metadata": {},
   "outputs": [],
   "source": [
    "#data handling\n",
    "import numpy as np\n",
    "import pandas as pd\n",
    "\n",
    "# chemistry\n",
    "from rdkit import Chem\n",
    "from rdkit.Chem import MACCSkeys\n",
    "from rdkit.Chem.Draw import IPythonConsole, rdMolDraw2D\n",
    "\n",
    "# machine learning\n",
    "from sklearn.svm import SVC\n",
    "from sklearn.metrics import roc_curve, roc_auc_score\n",
    "from sklearn.model_selection import train_test_split\n",
    "\n",
    "# plotting\n",
    "import matplotlib.pyplot as plt"
   ]
  },
  {
   "cell_type": "markdown",
   "metadata": {},
   "source": [
    "### 3. Data preparation"
   ]
  },
  {
   "cell_type": "markdown",
   "metadata": {},
   "source": [
    "#### 3.1 Load data\n",
    "\n",
    "We will use a subset of molecules retrieved from the [ChEMBL](https://www.ebi.ac.uk/chembl/) database, which contains ~5k molecules with reported activity against EGFR. The whole ChEMBL database currently contains ~16 million datapoints for ~2 million compounds.\n",
    "\n",
    "***Insert code to load the data found in `data/egfr_chembl25.csv` into a pandas dataframe named 'df' and display the first few rows.***"
   ]
  },
  {
   "cell_type": "code",
   "execution_count": 5,
   "metadata": {},
   "outputs": [
    {
     "data": {
      "text/html": [
       "<div>\n",
       "<style scoped>\n",
       "    .dataframe tbody tr th:only-of-type {\n",
       "        vertical-align: middle;\n",
       "    }\n",
       "\n",
       "    .dataframe tbody tr th {\n",
       "        vertical-align: top;\n",
       "    }\n",
       "\n",
       "    .dataframe thead th {\n",
       "        text-align: right;\n",
       "    }\n",
       "</style>\n",
       "<table border=\"1\" class=\"dataframe\">\n",
       "  <thead>\n",
       "    <tr style=\"text-align: right;\">\n",
       "      <th></th>\n",
       "      <th>chembl_id</th>\n",
       "      <th>smiles</th>\n",
       "      <th>IC50[nM]</th>\n",
       "    </tr>\n",
       "  </thead>\n",
       "  <tbody>\n",
       "    <tr>\n",
       "      <th>0</th>\n",
       "      <td>CHEMBL207869</td>\n",
       "      <td>Clc1c(OCc2cc(F)ccc2)ccc(Nc2c(C#Cc3ncccn3)cncn2)c1</td>\n",
       "      <td>77.00</td>\n",
       "    </tr>\n",
       "    <tr>\n",
       "      <th>1</th>\n",
       "      <td>CHEMBL3940060</td>\n",
       "      <td>ClCC(=O)OCCN1C(=O)Oc2c1cc1c(Nc3cc(Cl)c(F)cc3)n...</td>\n",
       "      <td>330.00</td>\n",
       "    </tr>\n",
       "    <tr>\n",
       "      <th>2</th>\n",
       "      <td>CHEMBL3678951</td>\n",
       "      <td>FC(F)(F)c1cc(Nc2n(C(C)C)c3nc(Nc4ccc(N5CC[NH+](...</td>\n",
       "      <td>1.00</td>\n",
       "    </tr>\n",
       "    <tr>\n",
       "      <th>3</th>\n",
       "      <td>CHEMBL504034</td>\n",
       "      <td>Clc1c(OCc2cc(F)ccc2)ccc(Nc2ncnc3c2sc(C#C[C@H]2...</td>\n",
       "      <td>40.00</td>\n",
       "    </tr>\n",
       "    <tr>\n",
       "      <th>4</th>\n",
       "      <td>CHEMBL158797</td>\n",
       "      <td>S(Sc1n(C)c2c(c1C(=O)NCC(O)CO)cccc2)c1n(C)c2c(c...</td>\n",
       "      <td>43000.01</td>\n",
       "    </tr>\n",
       "  </tbody>\n",
       "</table>\n",
       "</div>"
      ],
      "text/plain": [
       "       chembl_id                                             smiles  IC50[nM]\n",
       "0   CHEMBL207869  Clc1c(OCc2cc(F)ccc2)ccc(Nc2c(C#Cc3ncccn3)cncn2)c1     77.00\n",
       "1  CHEMBL3940060  ClCC(=O)OCCN1C(=O)Oc2c1cc1c(Nc3cc(Cl)c(F)cc3)n...    330.00\n",
       "2  CHEMBL3678951  FC(F)(F)c1cc(Nc2n(C(C)C)c3nc(Nc4ccc(N5CC[NH+](...      1.00\n",
       "3   CHEMBL504034  Clc1c(OCc2cc(F)ccc2)ccc(Nc2ncnc3c2sc(C#C[C@H]2...     40.00\n",
       "4   CHEMBL158797  S(Sc1n(C)c2c(c1C(=O)NCC(O)CO)cccc2)c1n(C)c2c(c...  43000.01"
      ]
     },
     "metadata": {},
     "output_type": "display_data"
    },
    {
     "name": "stdout",
     "output_type": "stream",
     "text": [
      "<class 'pandas.core.frame.DataFrame'>\n",
      "RangeIndex: 4909 entries, 0 to 4908\n",
      "Data columns (total 3 columns):\n",
      " #   Column     Non-Null Count  Dtype  \n",
      "---  ------     --------------  -----  \n",
      " 0   chembl_id  4909 non-null   object \n",
      " 1   smiles     4909 non-null   object \n",
      " 2   IC50[nM]   4909 non-null   float64\n",
      "dtypes: float64(1), object(2)\n",
      "memory usage: 115.2+ KB\n"
     ]
    }
   ],
   "source": [
    "# Read activity data for EGFR into a pandas dataframe named df\n",
    "#################### <-- insert code below\n",
    "df = pd.read_csv('https://github.com/volkamerlab/ai_in_medicine/blob/update-2021.02/data/egfr_chembl25.csv?raw=true')\n",
    "display(df.head())\n",
    "df.info()\n",
    "#################### <-- insert code above"
   ]
  },
  {
   "cell_type": "markdown",
   "metadata": {},
   "source": [
    "The dataframe contains information about the ChEMBL ID, which can be used to query the ChEMBL database, a molecule in the form of a SMILES string and an activity value in the form of IC50 in nM. The IC50 describes the molar concentration that will result in 50 percent of inhibition in-vitro."
   ]
  },
  {
   "cell_type": "markdown",
   "metadata": {},
   "source": [
    "#### 3.2 Interpret molecules\n",
    "\n",
    "Next, we will interpret the molecules that are stored as SMILES strings and transform them in a format that a machine learning algorithm can handle. The [RDKit](https://www.rdkit.org/) library is a free open-source framework that can be used to work with molecular data. In the following cells you will learn a few basic functionalities from RDKit and how you can store substructures of molecules in computer-friendly bit vectors, that can be later used to train your model."
   ]
  },
  {
   "cell_type": "code",
   "execution_count": 6,
   "metadata": {},
   "outputs": [
    {
     "name": "stdout",
     "output_type": "stream",
     "text": [
      "Clc1c(OCc2cc(F)ccc2)ccc(Nc2c(C#Cc3ncccn3)cncn2)c1\n"
     ]
    },
    {
     "data": {
      "image/png": "[encoded data removed]",
      "text/plain": [
       "<rdkit.Chem.rdchem.Mol at 0x7f49ea1c8d50>"
      ]
     },
     "execution_count": 6,
     "metadata": {},
     "output_type": "execute_result"
    }
   ],
   "source": [
    "# pic the first SMILES stored in the dataframe and display the molecule with RDKit\n",
    "print(df['smiles'][0])\n",
    "mol = Chem.MolFromSmiles(df['smiles'][0])\n",
    "mol"
   ]
  },
  {
   "cell_type": "markdown",
   "metadata": {},
   "source": [
    "The SMILES (**S**implified **M**olecular **I**nput **L**ine **E**ntry **S**ystem) representation allows to store the types and connectivity of atoms in a single string.  \n",
    "**Atom types** are represented by their atomic symbols, upper case letters represent aliphatic atoms, lower case letters represented aromatic atoms, hydrogens are often stripped away, since those can be inferred from atom type and connectivity:  \n",
    "`C` - aliphatic (sp3) carbon  \n",
    "`n` - aromatic (sp2) nitrogen  \n",
    "**Bonds** are only represented if needed:  \n",
    "`-` - single bond (`CC` and `C-C` are the same, since single bonda are used by default)  \n",
    "`=` - double bond (`C=C-C=C` and `cccc` are the same)  \n",
    "`#` - triple bond  \n",
    "**Ring** opening and closures are represented with numbers:  \n",
    "`c1ccccc1` - benzene  \n",
    "**Substituents** leaving a chain or ring are represented with brackets:  \n",
    "`c1cc(C)ccc1` - methyl-substituted benzene.  \n",
    "`CC(F)(Br)Cl`  - ethane substituted with fluorine, chlorine and bromine"
   ]
  },
  {
   "cell_type": "markdown",
   "metadata": {},
   "source": [
    "**With the rules from above, you should be able to create the SMILES for acetylsalicylic acid, the active ingredient of Aspirin.**\n",
    "\n",
    "<img src='images/aspirin.png'>\n",
    "\n",
    "2D representation of acetylsalicylic acid taken from [Wikipedia](https://en.wikipedia.org/wiki/Aspirin#/media/File:Aspirin-skeletal.svg)."
   ]
  },
  {
   "cell_type": "code",
   "execution_count": 7,
   "metadata": {},
   "outputs": [
    {
     "data": {
      "image/png": "[encoded data removed]",
      "text/plain": [
       "<rdkit.Chem.rdchem.Mol at 0x7f49ea1e78a0>"
      ]
     },
     "execution_count": 7,
     "metadata": {},
     "output_type": "execute_result"
    }
   ],
   "source": [
    "# Write the smiles for acetylsalicylic acid\n",
    "####################\n",
    "aspirin = Chem.MolFromSmiles('C1=C-C(C(O)=O)=C(OC(=O)C)-C=C1')\n",
    "aspirin\n",
    "####################"
   ]
  },
  {
   "cell_type": "markdown",
   "metadata": {},
   "source": [
    "Molecules can be represented in form of [molecular fingerprints](http://infochim.u-strasbg.fr/CS3/program/material/Bajorath.pdf), which store the presence of substructures in a bit vector consisting of zeros and ones. Here we will use Molecular ACCess System (MACCS) keys, which are implemented in RDKit and record the presence of a predefined set of substructures."
   ]
  },
  {
   "cell_type": "code",
   "execution_count": 8,
   "metadata": {},
   "outputs": [
    {
     "name": "stdout",
     "output_type": "stream",
     "text": [
      "[0, 0, 0, 0, 0, 0, 0, 0, 0, 0, 0, 0, 0, 0, 0, 0, 0, 1, 0, 0, 0, 0, 0, 0, 0, 0, 0, 0, 0, 0, 0, 0, 0, 0, 0, 0, 0, 0, 1, 0, 0, 0, 1, 0, 0, 0, 0, 0, 0, 0, 0, 0, 0, 0, 0, 0, 0, 0, 0, 0, 0, 0, 0, 0, 0, 1, 0, 0, 0, 0, 0, 0, 0, 0, 0, 0, 0, 1, 0, 0, 1, 0, 0, 0, 0, 0, 0, 1, 0, 0, 0, 0, 0, 0, 0, 0, 0, 0, 1, 0, 0, 0, 0, 1, 0, 0, 0, 1, 0, 1, 0, 0, 0, 1, 0, 0, 0, 0, 0, 0, 1, 1, 0, 0, 0, 1, 1, 1, 0, 0, 0, 0, 0, 1, 1, 1, 0, 1, 0, 0, 0, 0, 1, 1, 1, 1, 0, 0, 0, 0, 1, 1, 1, 1, 0, 1, 1, 1, 1, 0, 0, 1, 1, 1, 1, 1, 0]\n",
      "Zeros: 129\n",
      "Ones: 38\n"
     ]
    }
   ],
   "source": [
    "maccs_keys = list(MACCSkeys.GenMACCSKeys(mol))\n",
    "print(maccs_keys)\n",
    "print('Zeros:', len(maccs_keys) - sum(maccs_keys))\n",
    "print('Ones:', sum(maccs_keys))"
   ]
  },
  {
   "cell_type": "markdown",
   "metadata": {},
   "source": [
    "Let's explore which substrucutres can be found in our sample molecule."
   ]
  },
  {
   "cell_type": "code",
   "execution_count": 9,
   "metadata": {},
   "outputs": [
    {
     "data": {
      "text/plain": [
       "Int64Index([ 17,  38,  42,  65,  77,  80,  87,  98, 103, 107, 109, 113, 120,\n",
       "            121, 125, 126, 127, 133, 134, 135, 137, 142, 143, 144, 145, 150,\n",
       "            151, 152, 153, 155, 156, 157, 158, 161, 162, 163, 164, 165],\n",
       "           dtype='int64')"
      ]
     },
     "execution_count": 9,
     "metadata": {},
     "output_type": "execute_result"
    }
   ],
   "source": [
    "# Get indices of ones\n",
    "maccs_key_series = pd.Series(maccs_keys)\n",
    "maccs_key_series[maccs_key_series==1].index"
   ]
  },
  {
   "cell_type": "markdown",
   "metadata": {},
   "source": [
    "The underlying substructures are provided in RDKit via a dictionary and are represented as [SMARTS](https://www.daylight.com/dayhtml/doc/theory/theory.smarts.html), which is an extension of the SMILES language and especially useful for substructure searches. The SMARTS of bit 80 represents the substructure `[#7]~*~*~*~[#7]`.\n",
    "- `#7` - any nitrogen\n",
    "- `~` - any bond\n",
    "- `*` - any atom\n",
    "\n",
    "We can also visualize substructures with the following lines. Just replace the `bit_index` with any of the indices found above."
   ]
  },
  {
   "cell_type": "code",
   "execution_count": 10,
   "metadata": {},
   "outputs": [
    {
     "data": {
      "image/png": "[encoded data removed]",
      "text/plain": [
       "<rdkit.Chem.rdchem.Mol at 0x7f49ea17df80>"
      ]
     },
     "execution_count": 10,
     "metadata": {},
     "output_type": "execute_result"
    }
   ],
   "source": [
    "bit_index = 80\n",
    "smarts = MACCSkeys.smartsPatts[bit_index][0]\n",
    "Chem.MolFromSmarts(smarts)"
   ]
  },
  {
   "cell_type": "markdown",
   "metadata": {},
   "source": [
    "Next, let's use the following function to add an RDKit representation and the MACCS keys for each of the SMILES in the data set."
   ]
  },
  {
   "cell_type": "code",
   "execution_count": 11,
   "metadata": {},
   "outputs": [],
   "source": [
    "def add_mols_and_maccs(df, smiles_column='smiles'):\n",
    "    \"\"\"\n",
    "    Generate rdkit molecule objects and MACCSkeys and add them to the given dataframe.\n",
    "    \n",
    "    Parameters\n",
    "    ----------\n",
    "    df: pandas.DataFrame\n",
    "        A data frame containing a column with SMILES.\n",
    "    \"\"\"\n",
    "    df['mol'] = df[smiles_column].apply(Chem.MolFromSmiles)\n",
    "    df['maccs'] = df['mol'].apply(MACCSkeys.GenMACCSKeys)\n",
    "    return"
   ]
  },
  {
   "cell_type": "code",
   "execution_count": 12,
   "metadata": {},
   "outputs": [
    {
     "data": {
      "text/html": [
       "<div>\n",
       "<style scoped>\n",
       "    .dataframe tbody tr th:only-of-type {\n",
       "        vertical-align: middle;\n",
       "    }\n",
       "\n",
       "    .dataframe tbody tr th {\n",
       "        vertical-align: top;\n",
       "    }\n",
       "\n",
       "    .dataframe thead th {\n",
       "        text-align: right;\n",
       "    }\n",
       "</style>\n",
       "<table border=\"1\" class=\"dataframe\">\n",
       "  <thead>\n",
       "    <tr style=\"text-align: right;\">\n",
       "      <th></th>\n",
       "      <th>chembl_id</th>\n",
       "      <th>smiles</th>\n",
       "      <th>IC50[nM]</th>\n",
       "      <th>mol</th>\n",
       "      <th>maccs</th>\n",
       "    </tr>\n",
       "  </thead>\n",
       "  <tbody>\n",
       "    <tr>\n",
       "      <th>0</th>\n",
       "      <td>CHEMBL207869</td>\n",
       "      <td>Clc1c(OCc2cc(F)ccc2)ccc(Nc2c(C#Cc3ncccn3)cncn2)c1</td>\n",
       "      <td>77.00</td>\n",
       "      <td>&lt;rdkit.Chem.rdchem.Mol object at 0x7f49ea191030&gt;</td>\n",
       "      <td>[0, 0, 0, 0, 0, 0, 0, 0, 0, 0, 0, 0, 0, 0, 0, ...</td>\n",
       "    </tr>\n",
       "    <tr>\n",
       "      <th>1</th>\n",
       "      <td>CHEMBL3940060</td>\n",
       "      <td>ClCC(=O)OCCN1C(=O)Oc2c1cc1c(Nc3cc(Cl)c(F)cc3)n...</td>\n",
       "      <td>330.00</td>\n",
       "      <td>&lt;rdkit.Chem.rdchem.Mol object at 0x7f49ea191c10&gt;</td>\n",
       "      <td>[0, 0, 0, 0, 0, 0, 0, 0, 0, 0, 0, 0, 0, 0, 0, ...</td>\n",
       "    </tr>\n",
       "    <tr>\n",
       "      <th>2</th>\n",
       "      <td>CHEMBL3678951</td>\n",
       "      <td>FC(F)(F)c1cc(Nc2n(C(C)C)c3nc(Nc4ccc(N5CC[NH+](...</td>\n",
       "      <td>1.00</td>\n",
       "      <td>&lt;rdkit.Chem.rdchem.Mol object at 0x7f49ea1910d0&gt;</td>\n",
       "      <td>[0, 0, 0, 0, 0, 0, 0, 0, 0, 0, 0, 0, 0, 0, 0, ...</td>\n",
       "    </tr>\n",
       "    <tr>\n",
       "      <th>3</th>\n",
       "      <td>CHEMBL504034</td>\n",
       "      <td>Clc1c(OCc2cc(F)ccc2)ccc(Nc2ncnc3c2sc(C#C[C@H]2...</td>\n",
       "      <td>40.00</td>\n",
       "      <td>&lt;rdkit.Chem.rdchem.Mol object at 0x7f49ea1918f0&gt;</td>\n",
       "      <td>[0, 0, 0, 0, 0, 0, 0, 0, 0, 0, 0, 0, 0, 0, 0, ...</td>\n",
       "    </tr>\n",
       "    <tr>\n",
       "      <th>4</th>\n",
       "      <td>CHEMBL158797</td>\n",
       "      <td>S(Sc1n(C)c2c(c1C(=O)NCC(O)CO)cccc2)c1n(C)c2c(c...</td>\n",
       "      <td>43000.01</td>\n",
       "      <td>&lt;rdkit.Chem.rdchem.Mol object at 0x7f49ea1913f0&gt;</td>\n",
       "      <td>[0, 0, 0, 0, 0, 0, 0, 0, 0, 0, 0, 0, 0, 0, 1, ...</td>\n",
       "    </tr>\n",
       "  </tbody>\n",
       "</table>\n",
       "</div>"
      ],
      "text/plain": [
       "       chembl_id                                             smiles  IC50[nM]  \\\n",
       "0   CHEMBL207869  Clc1c(OCc2cc(F)ccc2)ccc(Nc2c(C#Cc3ncccn3)cncn2)c1     77.00   \n",
       "1  CHEMBL3940060  ClCC(=O)OCCN1C(=O)Oc2c1cc1c(Nc3cc(Cl)c(F)cc3)n...    330.00   \n",
       "2  CHEMBL3678951  FC(F)(F)c1cc(Nc2n(C(C)C)c3nc(Nc4ccc(N5CC[NH+](...      1.00   \n",
       "3   CHEMBL504034  Clc1c(OCc2cc(F)ccc2)ccc(Nc2ncnc3c2sc(C#C[C@H]2...     40.00   \n",
       "4   CHEMBL158797  S(Sc1n(C)c2c(c1C(=O)NCC(O)CO)cccc2)c1n(C)c2c(c...  43000.01   \n",
       "\n",
       "                                                mol  \\\n",
       "0  <rdkit.Chem.rdchem.Mol object at 0x7f49ea191030>   \n",
       "1  <rdkit.Chem.rdchem.Mol object at 0x7f49ea191c10>   \n",
       "2  <rdkit.Chem.rdchem.Mol object at 0x7f49ea1910d0>   \n",
       "3  <rdkit.Chem.rdchem.Mol object at 0x7f49ea1918f0>   \n",
       "4  <rdkit.Chem.rdchem.Mol object at 0x7f49ea1913f0>   \n",
       "\n",
       "                                               maccs  \n",
       "0  [0, 0, 0, 0, 0, 0, 0, 0, 0, 0, 0, 0, 0, 0, 0, ...  \n",
       "1  [0, 0, 0, 0, 0, 0, 0, 0, 0, 0, 0, 0, 0, 0, 0, ...  \n",
       "2  [0, 0, 0, 0, 0, 0, 0, 0, 0, 0, 0, 0, 0, 0, 0, ...  \n",
       "3  [0, 0, 0, 0, 0, 0, 0, 0, 0, 0, 0, 0, 0, 0, 0, ...  \n",
       "4  [0, 0, 0, 0, 0, 0, 0, 0, 0, 0, 0, 0, 0, 0, 1, ...  "
      ]
     },
     "metadata": {},
     "output_type": "display_data"
    }
   ],
   "source": [
    "# add columns for rdkit molecules and maccs keys\n",
    "add_mols_and_maccs(df)\n",
    "display(df.head())"
   ]
  },
  {
   "cell_type": "markdown",
   "metadata": {},
   "source": [
    "### 4. Classify data\n",
    "\n",
    "To train a machine learning model to classify molecules as active or inactive, we need to add an activity label to our data set.\n",
    "\n",
    "***Insert code below that adds a column named 'active' to the dataframe that holds the value 1.0 if the IC50 is lower than 500 and otherwise 0.0.***"
   ]
  },
  {
   "cell_type": "code",
   "execution_count": 13,
   "metadata": {},
   "outputs": [
    {
     "data": {
      "text/html": [
       "<div>\n",
       "<style scoped>\n",
       "    .dataframe tbody tr th:only-of-type {\n",
       "        vertical-align: middle;\n",
       "    }\n",
       "\n",
       "    .dataframe tbody tr th {\n",
       "        vertical-align: top;\n",
       "    }\n",
       "\n",
       "    .dataframe thead th {\n",
       "        text-align: right;\n",
       "    }\n",
       "</style>\n",
       "<table border=\"1\" class=\"dataframe\">\n",
       "  <thead>\n",
       "    <tr style=\"text-align: right;\">\n",
       "      <th></th>\n",
       "      <th>chembl_id</th>\n",
       "      <th>smiles</th>\n",
       "      <th>IC50[nM]</th>\n",
       "      <th>mol</th>\n",
       "      <th>maccs</th>\n",
       "      <th>active</th>\n",
       "    </tr>\n",
       "  </thead>\n",
       "  <tbody>\n",
       "    <tr>\n",
       "      <th>0</th>\n",
       "      <td>CHEMBL207869</td>\n",
       "      <td>Clc1c(OCc2cc(F)ccc2)ccc(Nc2c(C#Cc3ncccn3)cncn2)c1</td>\n",
       "      <td>77.00</td>\n",
       "      <td>&lt;rdkit.Chem.rdchem.Mol object at 0x7f49ea191030&gt;</td>\n",
       "      <td>[0, 0, 0, 0, 0, 0, 0, 0, 0, 0, 0, 0, 0, 0, 0, ...</td>\n",
       "      <td>1.0</td>\n",
       "    </tr>\n",
       "    <tr>\n",
       "      <th>1</th>\n",
       "      <td>CHEMBL3940060</td>\n",
       "      <td>ClCC(=O)OCCN1C(=O)Oc2c1cc1c(Nc3cc(Cl)c(F)cc3)n...</td>\n",
       "      <td>330.00</td>\n",
       "      <td>&lt;rdkit.Chem.rdchem.Mol object at 0x7f49ea191c10&gt;</td>\n",
       "      <td>[0, 0, 0, 0, 0, 0, 0, 0, 0, 0, 0, 0, 0, 0, 0, ...</td>\n",
       "      <td>1.0</td>\n",
       "    </tr>\n",
       "    <tr>\n",
       "      <th>2</th>\n",
       "      <td>CHEMBL3678951</td>\n",
       "      <td>FC(F)(F)c1cc(Nc2n(C(C)C)c3nc(Nc4ccc(N5CC[NH+](...</td>\n",
       "      <td>1.00</td>\n",
       "      <td>&lt;rdkit.Chem.rdchem.Mol object at 0x7f49ea1910d0&gt;</td>\n",
       "      <td>[0, 0, 0, 0, 0, 0, 0, 0, 0, 0, 0, 0, 0, 0, 0, ...</td>\n",
       "      <td>1.0</td>\n",
       "    </tr>\n",
       "    <tr>\n",
       "      <th>3</th>\n",
       "      <td>CHEMBL504034</td>\n",
       "      <td>Clc1c(OCc2cc(F)ccc2)ccc(Nc2ncnc3c2sc(C#C[C@H]2...</td>\n",
       "      <td>40.00</td>\n",
       "      <td>&lt;rdkit.Chem.rdchem.Mol object at 0x7f49ea1918f0&gt;</td>\n",
       "      <td>[0, 0, 0, 0, 0, 0, 0, 0, 0, 0, 0, 0, 0, 0, 0, ...</td>\n",
       "      <td>1.0</td>\n",
       "    </tr>\n",
       "    <tr>\n",
       "      <th>4</th>\n",
       "      <td>CHEMBL158797</td>\n",
       "      <td>S(Sc1n(C)c2c(c1C(=O)NCC(O)CO)cccc2)c1n(C)c2c(c...</td>\n",
       "      <td>43000.01</td>\n",
       "      <td>&lt;rdkit.Chem.rdchem.Mol object at 0x7f49ea1913f0&gt;</td>\n",
       "      <td>[0, 0, 0, 0, 0, 0, 0, 0, 0, 0, 0, 0, 0, 0, 1, ...</td>\n",
       "      <td>0.0</td>\n",
       "    </tr>\n",
       "  </tbody>\n",
       "</table>\n",
       "</div>"
      ],
      "text/plain": [
       "       chembl_id                                             smiles  IC50[nM]  \\\n",
       "0   CHEMBL207869  Clc1c(OCc2cc(F)ccc2)ccc(Nc2c(C#Cc3ncccn3)cncn2)c1     77.00   \n",
       "1  CHEMBL3940060  ClCC(=O)OCCN1C(=O)Oc2c1cc1c(Nc3cc(Cl)c(F)cc3)n...    330.00   \n",
       "2  CHEMBL3678951  FC(F)(F)c1cc(Nc2n(C(C)C)c3nc(Nc4ccc(N5CC[NH+](...      1.00   \n",
       "3   CHEMBL504034  Clc1c(OCc2cc(F)ccc2)ccc(Nc2ncnc3c2sc(C#C[C@H]2...     40.00   \n",
       "4   CHEMBL158797  S(Sc1n(C)c2c(c1C(=O)NCC(O)CO)cccc2)c1n(C)c2c(c...  43000.01   \n",
       "\n",
       "                                                mol  \\\n",
       "0  <rdkit.Chem.rdchem.Mol object at 0x7f49ea191030>   \n",
       "1  <rdkit.Chem.rdchem.Mol object at 0x7f49ea191c10>   \n",
       "2  <rdkit.Chem.rdchem.Mol object at 0x7f49ea1910d0>   \n",
       "3  <rdkit.Chem.rdchem.Mol object at 0x7f49ea1918f0>   \n",
       "4  <rdkit.Chem.rdchem.Mol object at 0x7f49ea1913f0>   \n",
       "\n",
       "                                               maccs  active  \n",
       "0  [0, 0, 0, 0, 0, 0, 0, 0, 0, 0, 0, 0, 0, 0, 0, ...     1.0  \n",
       "1  [0, 0, 0, 0, 0, 0, 0, 0, 0, 0, 0, 0, 0, 0, 0, ...     1.0  \n",
       "2  [0, 0, 0, 0, 0, 0, 0, 0, 0, 0, 0, 0, 0, 0, 0, ...     1.0  \n",
       "3  [0, 0, 0, 0, 0, 0, 0, 0, 0, 0, 0, 0, 0, 0, 0, ...     1.0  \n",
       "4  [0, 0, 0, 0, 0, 0, 0, 0, 0, 0, 0, 0, 0, 0, 1, ...     0.0  "
      ]
     },
     "metadata": {},
     "output_type": "display_data"
    }
   ],
   "source": [
    "# Mark every molecule as active with an IC50 < 500\n",
    "####################\n",
    "df['active'] = np.zeros(len(df))\n",
    "df.loc[df[df['IC50[nM]'] < 500].index, 'active'] = 1.0\n",
    "display(df.head())\n",
    "####################"
   ]
  },
  {
   "cell_type": "markdown",
   "metadata": {},
   "source": [
    "The following lines should find 2762 actives and 2147 inactives."
   ]
  },
  {
   "cell_type": "code",
   "execution_count": 14,
   "metadata": {},
   "outputs": [
    {
     "name": "stdout",
     "output_type": "stream",
     "text": [
      "Actives: 2762\n",
      "Inactives: 2147\n"
     ]
    }
   ],
   "source": [
    "print('Actives:', int(df['active'].sum()))\n",
    "print('Inactives:', int(len(df)-df['active'].sum()))"
   ]
  },
  {
   "cell_type": "markdown",
   "metadata": {},
   "source": [
    "### 5. Split data\n",
    "\n",
    "***Split the data into training and test set by using the [train_test_split](https://scikit-learn.org/stable/modules/generated/sklearn.model_selection.train_test_split.html) function.***"
   ]
  },
  {
   "cell_type": "code",
   "execution_count": 15,
   "metadata": {},
   "outputs": [],
   "source": [
    "# specify features and label\n",
    "x, y = df['maccs'].to_list(), df['active'].to_list()\n",
    "# Split the features and labels into training and test sets\n",
    "####################\n",
    "x_train, x_test, y_train, y_test = train_test_split(x, y, test_size=0.2)\n",
    "####################"
   ]
  },
  {
   "cell_type": "markdown",
   "metadata": {},
   "source": [
    "### 6. Train a support vector classifier\n",
    "\n",
    "***Train a [support vector classifier](https://scikit-learn.org/stable/modules/generated/sklearn.svm.SVC.html).***"
   ]
  },
  {
   "cell_type": "code",
   "execution_count": 16,
   "metadata": {},
   "outputs": [
    {
     "data": {
      "text/plain": [
       "SVC(probability=True)"
      ]
     },
     "execution_count": 16,
     "metadata": {},
     "output_type": "execute_result"
    }
   ],
   "source": [
    "# train model\n",
    "####################\n",
    "svc = SVC(probability=True)\n",
    "svc.fit(x_train, y_train)\n",
    "####################"
   ]
  },
  {
   "cell_type": "markdown",
   "metadata": {},
   "source": [
    "### 7. Assess performance\n",
    "\n",
    "- ***[predict](https://scikit-learn.org/stable/modules/generated/sklearn.svm.SVC.html#sklearn.svm.SVC.predict) the activity of the test set***  \n",
    "- ***assess the performance of your model by plotting a [ROC curve](https://scikit-learn.org/stable/modules/generated/sklearn.metrics.roc_curve.html) and calcuation of the [AUC](https://scikit-learn.org/stable/modules/generated/sklearn.metrics.roc_auc_score.html)***"
   ]
  },
  {
   "cell_type": "code",
   "execution_count": 17,
   "metadata": {},
   "outputs": [],
   "source": [
    "# predict the activity of the test set\n",
    "####################\n",
    "y_test_pred = svc.predict(x_test)\n",
    "####################"
   ]
  },
  {
   "cell_type": "code",
   "execution_count": 18,
   "metadata": {},
   "outputs": [
    {
     "name": "stdout",
     "output_type": "stream",
     "text": [
      "AUC: 0.8094579366948096\n"
     ]
    }
   ],
   "source": [
    "# calculate AUC\n",
    "####################\n",
    "svc_roc_auc = roc_auc_score(y_test, y_test_pred)\n",
    "print('AUC:', svc_roc_auc)\n",
    "####################"
   ]
  },
  {
   "cell_type": "code",
   "execution_count": 19,
   "metadata": {},
   "outputs": [
    {
     "data": {
      "image/png": "[encoded data removed]",
      "text/plain": [
       "<Figure size 432x288 with 1 Axes>"
      ]
     },
     "metadata": {
      "needs_background": "light"
     },
     "output_type": "display_data"
    }
   ],
   "source": [
    "# plot the ROC curve\n",
    "####################\n",
    "fpr, tpr, thresholds = roc_curve(y_test, svc.predict_proba(x_test)[:,1])\n",
    "plt.plot(fpr, tpr, label=f'SVC - AUC={round(svc_roc_auc,2)}')\n",
    "plt.xlim([-0.05, 1.05])\n",
    "plt.ylim([-0.05, 1.05])\n",
    "plt.plot([0, 1], [0, 1], linestyle='--', label='Random', lw=2, color=\"black\")  # Random curve\n",
    "plt.xlabel('False positive rate', size=12)\n",
    "plt.ylabel('True positive rate', size=12)\n",
    "plt.tick_params(labelsize=12)\n",
    "plt.legend(fontsize=12)\n",
    "plt.show()\n",
    "####################"
   ]
  },
  {
   "cell_type": "markdown",
   "metadata": {},
   "source": [
    "### 8. Apply to unknown molecules\n",
    "\n",
    "***Use your model and predict the activity of a set of unknown molecules located at*** `data/egfr_candidates.csv`***.***"
   ]
  },
  {
   "cell_type": "code",
   "execution_count": 20,
   "metadata": {},
   "outputs": [
    {
     "data": {
      "text/html": [
       "<div>\n",
       "<style scoped>\n",
       "    .dataframe tbody tr th:only-of-type {\n",
       "        vertical-align: middle;\n",
       "    }\n",
       "\n",
       "    .dataframe tbody tr th {\n",
       "        vertical-align: top;\n",
       "    }\n",
       "\n",
       "    .dataframe thead th {\n",
       "        text-align: right;\n",
       "    }\n",
       "</style>\n",
       "<table border=\"1\" class=\"dataframe\">\n",
       "  <thead>\n",
       "    <tr style=\"text-align: right;\">\n",
       "      <th></th>\n",
       "      <th>smiles</th>\n",
       "      <th>mol</th>\n",
       "      <th>maccs</th>\n",
       "    </tr>\n",
       "  </thead>\n",
       "  <tbody>\n",
       "    <tr>\n",
       "      <th>0</th>\n",
       "      <td>COC1=C(OCCC[NH+]2CCOCC2)C=C2C(NC3=CC(Cl)=C(F)C...</td>\n",
       "      <td>&lt;rdkit.Chem.rdchem.Mol object at 0x7f49e9fb8d50&gt;</td>\n",
       "      <td>[0, 0, 0, 0, 0, 0, 0, 0, 0, 0, 0, 0, 0, 0, 0, ...</td>\n",
       "    </tr>\n",
       "    <tr>\n",
       "      <th>1</th>\n",
       "      <td>COCCOC1=CC2=C(C=C1OCCOC)C(NC1=CC(=CC=C1)C#C)=N...</td>\n",
       "      <td>&lt;rdkit.Chem.rdchem.Mol object at 0x7f49e9fb87b0&gt;</td>\n",
       "      <td>[0, 0, 0, 0, 0, 0, 0, 0, 0, 0, 0, 0, 0, 0, 0, ...</td>\n",
       "    </tr>\n",
       "    <tr>\n",
       "      <th>2</th>\n",
       "      <td>C[NH+](C)C\\C=C\\C(=O)NC1=C(OC2CCOC2)C=C2N=CN=C(...</td>\n",
       "      <td>&lt;rdkit.Chem.rdchem.Mol object at 0x7f49e9fb8990&gt;</td>\n",
       "      <td>[0, 0, 0, 0, 0, 0, 0, 0, 0, 0, 0, 0, 0, 0, 0, ...</td>\n",
       "    </tr>\n",
       "    <tr>\n",
       "      <th>3</th>\n",
       "      <td>CS(=O)(=O)CCNCC1=CC=C(O1)C1=CC2=C(C=C1)N=CN=C2...</td>\n",
       "      <td>&lt;rdkit.Chem.rdchem.Mol object at 0x7f49e9fb8760&gt;</td>\n",
       "      <td>[0, 0, 0, 0, 0, 0, 0, 0, 0, 0, 0, 0, 0, 0, 0, ...</td>\n",
       "    </tr>\n",
       "    <tr>\n",
       "      <th>4</th>\n",
       "      <td>CCOC1=C(NC(=O)C=CC[NH+](C)C)C=C2C(NC3=CC(Cl)=C...</td>\n",
       "      <td>&lt;rdkit.Chem.rdchem.Mol object at 0x7f49e9f76490&gt;</td>\n",
       "      <td>[0, 0, 0, 0, 0, 0, 0, 0, 0, 0, 0, 0, 0, 0, 0, ...</td>\n",
       "    </tr>\n",
       "    <tr>\n",
       "      <th>5</th>\n",
       "      <td>COC1=C(NC2=NC=C(Cl)C(NC3=CC=CC=C3P(C)(C)=O)=N2...</td>\n",
       "      <td>&lt;rdkit.Chem.rdchem.Mol object at 0x7f49ea0a59e0&gt;</td>\n",
       "      <td>[0, 0, 0, 0, 0, 0, 0, 0, 0, 0, 0, 0, 0, 0, 0, ...</td>\n",
       "    </tr>\n",
       "    <tr>\n",
       "      <th>6</th>\n",
       "      <td>C#CC1=CC(=CC=C1)NC2=NC=NC3=CC4=C(C=C32)OCCOCCO...</td>\n",
       "      <td>&lt;rdkit.Chem.rdchem.Mol object at 0x7f49ea00d940&gt;</td>\n",
       "      <td>[0, 0, 0, 0, 0, 0, 0, 0, 0, 0, 0, 0, 0, 0, 0, ...</td>\n",
       "    </tr>\n",
       "    <tr>\n",
       "      <th>7</th>\n",
       "      <td>COC1=C(NC2=NC=CC(=N2)C2=CN(C)C3=CC=CC=C23)C=C(...</td>\n",
       "      <td>&lt;rdkit.Chem.rdchem.Mol object at 0x7f49ea00d990&gt;</td>\n",
       "      <td>[0, 0, 0, 0, 0, 0, 0, 0, 0, 0, 0, 0, 0, 0, 0, ...</td>\n",
       "    </tr>\n",
       "  </tbody>\n",
       "</table>\n",
       "</div>"
      ],
      "text/plain": [
       "                                              smiles  \\\n",
       "0  COC1=C(OCCC[NH+]2CCOCC2)C=C2C(NC3=CC(Cl)=C(F)C...   \n",
       "1  COCCOC1=CC2=C(C=C1OCCOC)C(NC1=CC(=CC=C1)C#C)=N...   \n",
       "2  C[NH+](C)C\\C=C\\C(=O)NC1=C(OC2CCOC2)C=C2N=CN=C(...   \n",
       "3  CS(=O)(=O)CCNCC1=CC=C(O1)C1=CC2=C(C=C1)N=CN=C2...   \n",
       "4  CCOC1=C(NC(=O)C=CC[NH+](C)C)C=C2C(NC3=CC(Cl)=C...   \n",
       "5  COC1=C(NC2=NC=C(Cl)C(NC3=CC=CC=C3P(C)(C)=O)=N2...   \n",
       "6  C#CC1=CC(=CC=C1)NC2=NC=NC3=CC4=C(C=C32)OCCOCCO...   \n",
       "7  COC1=C(NC2=NC=CC(=N2)C2=CN(C)C3=CC=CC=C23)C=C(...   \n",
       "\n",
       "                                                mol  \\\n",
       "0  <rdkit.Chem.rdchem.Mol object at 0x7f49e9fb8d50>   \n",
       "1  <rdkit.Chem.rdchem.Mol object at 0x7f49e9fb87b0>   \n",
       "2  <rdkit.Chem.rdchem.Mol object at 0x7f49e9fb8990>   \n",
       "3  <rdkit.Chem.rdchem.Mol object at 0x7f49e9fb8760>   \n",
       "4  <rdkit.Chem.rdchem.Mol object at 0x7f49e9f76490>   \n",
       "5  <rdkit.Chem.rdchem.Mol object at 0x7f49ea0a59e0>   \n",
       "6  <rdkit.Chem.rdchem.Mol object at 0x7f49ea00d940>   \n",
       "7  <rdkit.Chem.rdchem.Mol object at 0x7f49ea00d990>   \n",
       "\n",
       "                                               maccs  \n",
       "0  [0, 0, 0, 0, 0, 0, 0, 0, 0, 0, 0, 0, 0, 0, 0, ...  \n",
       "1  [0, 0, 0, 0, 0, 0, 0, 0, 0, 0, 0, 0, 0, 0, 0, ...  \n",
       "2  [0, 0, 0, 0, 0, 0, 0, 0, 0, 0, 0, 0, 0, 0, 0, ...  \n",
       "3  [0, 0, 0, 0, 0, 0, 0, 0, 0, 0, 0, 0, 0, 0, 0, ...  \n",
       "4  [0, 0, 0, 0, 0, 0, 0, 0, 0, 0, 0, 0, 0, 0, 0, ...  \n",
       "5  [0, 0, 0, 0, 0, 0, 0, 0, 0, 0, 0, 0, 0, 0, 0, ...  \n",
       "6  [0, 0, 0, 0, 0, 0, 0, 0, 0, 0, 0, 0, 0, 0, 0, ...  \n",
       "7  [0, 0, 0, 0, 0, 0, 0, 0, 0, 0, 0, 0, 0, 0, 0, ...  "
      ]
     },
     "metadata": {},
     "output_type": "display_data"
    }
   ],
   "source": [
    "# load data and assign maccs keys \n",
    "####################\n",
    "df2 = pd.read_csv('https://github.com/volkamerlab/ai_in_medicine/blob/update-2021.02/data/egfr_candidates.csv?raw=true')\n",
    "add_mols_and_maccs(df2)\n",
    "display(df2)\n",
    "####################"
   ]
  },
  {
   "cell_type": "code",
   "execution_count": 21,
   "metadata": {},
   "outputs": [
    {
     "data": {
      "text/plain": [
       "array([1., 1., 1., 1., 0., 0., 1., 0.])"
      ]
     },
     "metadata": {},
     "output_type": "display_data"
    }
   ],
   "source": [
    "# predict the activity\n",
    "####################\n",
    "y_pred_svc = svc.predict(df2['maccs'].tolist())\n",
    "display(y_pred_svc)\n",
    "####################"
   ]
  },
  {
   "cell_type": "markdown",
   "metadata": {},
   "source": [
    "***Visit [PubChem](https://pubchem.ncbi.nlm.nih.gov/), an only resource for chemical information, and query the database with a SMILES of a predicted active and predicted inactive. What can you find out about the molecules?***"
   ]
  }
 ],
 "metadata": {
  "kernelspec": {
   "display_name": "Python 3",
   "language": "python",
   "name": "python3"
  },
  "language_info": {
   "codemirror_mode": {
    "name": "ipython",
    "version": 3
   },
   "file_extension": ".py",
   "mimetype": "text/x-python",
   "name": "python",
   "nbconvert_exporter": "python",
   "pygments_lexer": "ipython3",
   "version": "3.8.3"
  }
 },
 "nbformat": 4,
 "nbformat_minor": 4
}
