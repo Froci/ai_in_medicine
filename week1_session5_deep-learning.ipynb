{
 "cells": [
  {
   "cell_type": "markdown",
   "metadata": {},
   "source": [
    "# AI in Medicine: Data Science - Basics IV"
   ]
  },
  {
   "cell_type": "markdown",
   "metadata": {},
   "source": [
    "## Python Programming: Deep Learning using *Keras*"
   ]
  },
  {
   "cell_type": "markdown",
   "metadata": {},
   "source": [
    "* **Instructor**: Moritz Seiler, AG Ritter, Charité - Universitätsmedizin Berlin (moritz.seiler@charite.de) <br>\n",
    "* **Target audience**:  Medical students from Charité<br>\n",
    "* **Course date**:  July 2020"
   ]
  },
  {
   "cell_type": "markdown",
   "metadata": {},
   "source": [
    "**First, please make sure, that you're using the Python 3.6 kernel!**<br> You can check that in the top right corner of your browser window. If you're using a different Version, go to the Tab *Kernel* --> *Change Kernel* and select *Python 3.6*.\n",
    "\n",
    "**TensorFlow Update:**<br>\n",
    "The pre-installed version of the tensorflow in this environment is 1.1.0, but the following notebook requires version 2.0.0. Please update the tensorflow library by executing the following cell."
   ]
  },
  {
   "cell_type": "code",
   "execution_count": 1,
   "metadata": {},
   "outputs": [
    {
     "name": "stdout",
     "output_type": "stream",
     "text": [
      "Collecting tensorflow\n",
      "  Downloading tensorflow-2.2.0-cp38-cp38-manylinux2010_x86_64.whl (516.3 MB)\n",
      "\u001b[K     |████████████████████████████████| 516.3 MB 1.4 kB/s eta 0:00:012    |█████████                       | 146.2 MB 9.7 MB/s eta 0:00:39     |████████████████████████▌       | 395.3 MB 4.0 MB/s eta 0:00:30     |█████████████████████████████▍  | 474.9 MB 1.7 MB/s eta 0:00:25\n",
      "\u001b[?25hCollecting opt-einsum>=2.3.2\n",
      "  Downloading opt_einsum-3.2.1-py3-none-any.whl (63 kB)\n",
      "\u001b[K     |████████████████████████████████| 63 kB 876 kB/s eta 0:00:01\n",
      "\u001b[?25hCollecting astunparse==1.6.3\n",
      "  Downloading astunparse-1.6.3-py2.py3-none-any.whl (12 kB)\n",
      "Collecting wrapt>=1.11.1\n",
      "  Downloading wrapt-1.12.1.tar.gz (27 kB)\n",
      "Requirement already satisfied, skipping upgrade: wheel>=0.26; python_version >= \"3\" in /home/jaime/.conda/envs/ai_in_medicine/lib/python3.8/site-packages (from tensorflow) (0.34.2)\n",
      "Collecting tensorflow-estimator<2.3.0,>=2.2.0\n",
      "  Downloading tensorflow_estimator-2.2.0-py2.py3-none-any.whl (454 kB)\n",
      "\u001b[K     |████████████████████████████████| 454 kB 5.7 MB/s eta 0:00:01\n",
      "\u001b[?25hCollecting protobuf>=3.8.0\n",
      "  Downloading protobuf-3.12.2-cp38-cp38-manylinux1_x86_64.whl (1.3 MB)\n",
      "\u001b[K     |████████████████████████████████| 1.3 MB 6.9 MB/s eta 0:00:01\n",
      "\u001b[?25hRequirement already satisfied, skipping upgrade: six>=1.12.0 in /home/jaime/.conda/envs/ai_in_medicine/lib/python3.8/site-packages (from tensorflow) (1.15.0)\n",
      "Collecting termcolor>=1.1.0\n",
      "  Downloading termcolor-1.1.0.tar.gz (3.9 kB)\n",
      "Requirement already satisfied, skipping upgrade: numpy<2.0,>=1.16.0 in /home/jaime/.conda/envs/ai_in_medicine/lib/python3.8/site-packages (from tensorflow) (1.18.5)\n",
      "Collecting tensorboard<2.3.0,>=2.2.0\n",
      "  Downloading tensorboard-2.2.2-py3-none-any.whl (3.0 MB)\n",
      "\u001b[K     |████████████████████████████████| 3.0 MB 4.6 MB/s eta 0:00:01\n",
      "\u001b[?25hCollecting scipy==1.4.1; python_version >= \"3\"\n",
      "  Downloading scipy-1.4.1-cp38-cp38-manylinux1_x86_64.whl (26.0 MB)\n",
      "\u001b[K     |████████████████████████████████| 26.0 MB 5.0 MB/s eta 0:00:01\n",
      "\u001b[?25hCollecting absl-py>=0.7.0\n",
      "  Downloading absl-py-0.9.0.tar.gz (104 kB)\n",
      "\u001b[K     |████████████████████████████████| 104 kB 1.1 MB/s eta 0:00:01\n",
      "\u001b[?25hCollecting google-pasta>=0.1.8\n",
      "  Downloading google_pasta-0.2.0-py3-none-any.whl (57 kB)\n",
      "\u001b[K     |████████████████████████████████| 57 kB 2.5 MB/s eta 0:00:01\n",
      "\u001b[?25hCollecting h5py<2.11.0,>=2.10.0\n",
      "  Downloading h5py-2.10.0-cp38-cp38-manylinux1_x86_64.whl (2.9 MB)\n",
      "\u001b[K     |████████████████████████████████| 2.9 MB 6.4 MB/s eta 0:00:01\n",
      "\u001b[?25hCollecting gast==0.3.3\n",
      "  Downloading gast-0.3.3-py2.py3-none-any.whl (9.7 kB)\n",
      "Collecting keras-preprocessing>=1.1.0\n",
      "  Downloading Keras_Preprocessing-1.1.2-py2.py3-none-any.whl (42 kB)\n",
      "\u001b[K     |████████████████████████████████| 42 kB 624 kB/s eta 0:00:01\n",
      "\u001b[?25hCollecting grpcio>=1.8.6\n",
      "  Downloading grpcio-1.30.0-cp38-cp38-manylinux2010_x86_64.whl (3.0 MB)\n",
      "\u001b[K     |████████████████████████████████| 3.0 MB 630 kB/s eta 0:00:01\n",
      "\u001b[?25hRequirement already satisfied, skipping upgrade: setuptools in /home/jaime/.conda/envs/ai_in_medicine/lib/python3.8/site-packages (from protobuf>=3.8.0->tensorflow) (47.3.1.post20200616)\n",
      "Collecting werkzeug>=0.11.15\n",
      "  Downloading Werkzeug-1.0.1-py2.py3-none-any.whl (298 kB)\n",
      "\u001b[K     |████████████████████████████████| 298 kB 3.9 MB/s eta 0:00:01\n",
      "\u001b[?25hCollecting google-auth-oauthlib<0.5,>=0.4.1\n",
      "  Downloading google_auth_oauthlib-0.4.1-py2.py3-none-any.whl (18 kB)\n",
      "Collecting markdown>=2.6.8\n",
      "  Downloading Markdown-3.2.2-py3-none-any.whl (88 kB)\n",
      "\u001b[K     |████████████████████████████████| 88 kB 4.4 MB/s  eta 0:00:01\n",
      "\u001b[?25hCollecting google-auth<2,>=1.6.3\n",
      "  Downloading google_auth-1.18.0-py2.py3-none-any.whl (90 kB)\n",
      "\u001b[K     |████████████████████████████████| 90 kB 3.7 MB/s eta 0:00:01\n",
      "\u001b[?25hCollecting tensorboard-plugin-wit>=1.6.0\n",
      "  Downloading tensorboard_plugin_wit-1.7.0-py3-none-any.whl (779 kB)\n",
      "\u001b[K     |████████████████████████████████| 779 kB 5.4 MB/s eta 0:00:01\n",
      "\u001b[?25hRequirement already satisfied, skipping upgrade: requests<3,>=2.21.0 in /home/jaime/.conda/envs/ai_in_medicine/lib/python3.8/site-packages (from tensorboard<2.3.0,>=2.2.0->tensorflow) (2.24.0)\n",
      "Collecting requests-oauthlib>=0.7.0\n",
      "  Downloading requests_oauthlib-1.3.0-py2.py3-none-any.whl (23 kB)\n",
      "Collecting pyasn1-modules>=0.2.1\n",
      "  Downloading pyasn1_modules-0.2.8-py2.py3-none-any.whl (155 kB)\n",
      "\u001b[K     |████████████████████████████████| 155 kB 4.6 MB/s eta 0:00:01\n",
      "\u001b[?25hCollecting rsa<5,>=3.1.4; python_version >= \"3\"\n",
      "  Downloading rsa-4.6-py3-none-any.whl (47 kB)\n",
      "\u001b[K     |████████████████████████████████| 47 kB 1.6 MB/s eta 0:00:011\n",
      "\u001b[?25hCollecting cachetools<5.0,>=2.0.0\n",
      "  Downloading cachetools-4.1.1-py3-none-any.whl (10 kB)\n",
      "Requirement already satisfied, skipping upgrade: certifi>=2017.4.17 in /home/jaime/.conda/envs/ai_in_medicine/lib/python3.8/site-packages (from requests<3,>=2.21.0->tensorboard<2.3.0,>=2.2.0->tensorflow) (2020.6.20)\n",
      "Requirement already satisfied, skipping upgrade: urllib3!=1.25.0,!=1.25.1,<1.26,>=1.21.1 in /home/jaime/.conda/envs/ai_in_medicine/lib/python3.8/site-packages (from requests<3,>=2.21.0->tensorboard<2.3.0,>=2.2.0->tensorflow) (1.25.9)\n",
      "Requirement already satisfied, skipping upgrade: chardet<4,>=3.0.2 in /home/jaime/.conda/envs/ai_in_medicine/lib/python3.8/site-packages (from requests<3,>=2.21.0->tensorboard<2.3.0,>=2.2.0->tensorflow) (3.0.4)\n",
      "Requirement already satisfied, skipping upgrade: idna<3,>=2.5 in /home/jaime/.conda/envs/ai_in_medicine/lib/python3.8/site-packages (from requests<3,>=2.21.0->tensorboard<2.3.0,>=2.2.0->tensorflow) (2.10)\n",
      "Collecting oauthlib>=3.0.0\n",
      "  Downloading oauthlib-3.1.0-py2.py3-none-any.whl (147 kB)\n",
      "\u001b[K     |████████████████████████████████| 147 kB 5.1 MB/s eta 0:00:01\n",
      "\u001b[?25hCollecting pyasn1<0.5.0,>=0.4.6\n",
      "  Downloading pyasn1-0.4.8-py2.py3-none-any.whl (77 kB)\n",
      "\u001b[K     |████████████████████████████████| 77 kB 2.0 MB/s eta 0:00:01\n",
      "\u001b[?25hBuilding wheels for collected packages: wrapt, termcolor, absl-py\n",
      "  Building wheel for wrapt (setup.py) ... \u001b[?25ldone\n",
      "\u001b[?25h  Created wheel for wrapt: filename=wrapt-1.12.1-cp38-cp38-linux_x86_64.whl size=78079 sha256=78634198aa41446205aa13d7899b160d7ef00671ca9164b3249cc5d6995a5883\n",
      "  Stored in directory: /home/jaime/.cache/pip/wheels/5f/fd/9e/b6cf5890494cb8ef0b5eaff72e5d55a70fb56316007d6dfe73\n",
      "  Building wheel for termcolor (setup.py) ... \u001b[?25ldone\n",
      "\u001b[?25h  Created wheel for termcolor: filename=termcolor-1.1.0-py3-none-any.whl size=4830 sha256=b0855267b671641c87f61fd1b49efedc27940a9a2f4d250d9b340c294b8b46e6\n",
      "  Stored in directory: /home/jaime/.cache/pip/wheels/a0/16/9c/5473df82468f958445479c59e784896fa24f4a5fc024b0f501\n",
      "  Building wheel for absl-py (setup.py) ... \u001b[?25ldone\n",
      "\u001b[?25h  Created wheel for absl-py: filename=absl_py-0.9.0-py3-none-any.whl size=121931 sha256=0a02cb526086c3fb4e38abee438b1e47893488278d41a1a8c890315b65739fd1\n",
      "  Stored in directory: /home/jaime/.cache/pip/wheels/1d/10/8e/2f79b924179ff1e6510933d63eb851bea01054fff262343b7a\n",
      "Successfully built wrapt termcolor absl-py\n",
      "Installing collected packages: opt-einsum, astunparse, wrapt, tensorflow-estimator, protobuf, termcolor, werkzeug, pyasn1, pyasn1-modules, rsa, cachetools, google-auth, oauthlib, requests-oauthlib, google-auth-oauthlib, markdown, grpcio, tensorboard-plugin-wit, absl-py, tensorboard, scipy, google-pasta, h5py, gast, keras-preprocessing, tensorflow\n",
      "  Attempting uninstall: scipy\n",
      "    Found existing installation: scipy 1.5.0\n",
      "    Uninstalling scipy-1.5.0:\n",
      "      Successfully uninstalled scipy-1.5.0\n",
      "Successfully installed absl-py-0.9.0 astunparse-1.6.3 cachetools-4.1.1 gast-0.3.3 google-auth-1.18.0 google-auth-oauthlib-0.4.1 google-pasta-0.2.0 grpcio-1.30.0 h5py-2.10.0 keras-preprocessing-1.1.2 markdown-3.2.2 oauthlib-3.1.0 opt-einsum-3.2.1 protobuf-3.12.2 pyasn1-0.4.8 pyasn1-modules-0.2.8 requests-oauthlib-1.3.0 rsa-4.6 scipy-1.4.1 tensorboard-2.2.2 tensorboard-plugin-wit-1.7.0 tensorflow-2.2.0 tensorflow-estimator-2.2.0 termcolor-1.1.0 werkzeug-1.0.1 wrapt-1.12.1\n"
     ]
    }
   ],
   "source": [
    "!pip install --upgrade tensorflow"
   ]
  },
  {
   "cell_type": "markdown",
   "metadata": {},
   "source": [
    "## 1. Aims of this session"
   ]
  },
  {
   "cell_type": "markdown",
   "metadata": {},
   "source": [
    "This tutorial introduces **deep learning** in Python with ***Keras***. It is meant to be an **introduction to the *Keras* library** and **<ins>not</ins> a deep dive into the theory** surrounding deep learning. The goal of this session is that you will be able to implement your own neural network in Python.\n"
   ]
  },
  {
   "cell_type": "markdown",
   "metadata": {},
   "source": [
    "## 2. Learning goals"
   ]
  },
  {
   "cell_type": "markdown",
   "metadata": {},
   "source": [
    "### Theory"
   ]
  },
  {
   "cell_type": "markdown",
   "metadata": {},
   "source": [
    "Deep Learning\n",
    "- Definition\n",
    "- Fully-connected Neural Networks\n",
    "- Activation functions\n",
    "- Forward pass\n",
    "- Backward pass\n",
    "- Convolutional Neural Networks"
   ]
  },
  {
   "cell_type": "markdown",
   "metadata": {},
   "source": [
    "### Practical"
   ]
  },
  {
   "cell_type": "markdown",
   "metadata": {},
   "source": [
    "1. Deep Learning Playground\n",
    "2. Data set\n",
    "3. Keras\n",
    "    - Introduction\n",
    "    - Workflow\n",
    "        - Prepare data\n",
    "        - Build model\n",
    "        - Compile model\n",
    "        - Fit model\n",
    "        - Predict\n",
    "        - Evaluate model\n",
    "        - Save model\n"
   ]
  },
  {
   "cell_type": "markdown",
   "metadata": {},
   "source": [
    "## 3. References"
   ]
  },
  {
   "cell_type": "markdown",
   "metadata": {},
   "source": [
    "- Deep Learning<br>\n",
    "https://www.deeplearningbook.org/<br>\n",
    "https://cs231n.github.io/\n",
    "\n",
    "- Keras<br>\n",
    "https://keras.io/guides/<br>\n",
    "https://www.tensorflow.org/tutorials/keras/classification\n",
    "\n",
    "- Data<br>\n",
    "https://www.kaggle.com/uciml/pima-indians-diabetes-database"
   ]
  },
  {
   "cell_type": "markdown",
   "metadata": {},
   "source": [
    "## 4. Theory"
   ]
  },
  {
   "cell_type": "markdown",
   "metadata": {},
   "source": [
    "See accompanying slide deck."
   ]
  },
  {
   "cell_type": "markdown",
   "metadata": {},
   "source": [
    "## 5. Practical"
   ]
  },
  {
   "cell_type": "markdown",
   "metadata": {},
   "source": [
    "### 5.1 Playground excersises"
   ]
  },
  {
   "cell_type": "markdown",
   "metadata": {},
   "source": [
    "The *Tensorflow* Playground is an interactive visualisation of neural networks in your browser. In this playground, you can choose different hyper-parameters of your neural network and visually observe the training process. This allows you to get some intuition on neural network workings"
   ]
  },
  {
   "cell_type": "markdown",
   "metadata": {},
   "source": [
    "https://playground.tensorflow.org"
   ]
  },
  {
   "cell_type": "markdown",
   "metadata": {},
   "source": [
    "### Exercises"
   ]
  },
  {
   "cell_type": "markdown",
   "metadata": {},
   "source": [
    "**1.** Play around and get some intution!"
   ]
  },
  {
   "cell_type": "markdown",
   "metadata": {},
   "source": [
    "**2.** Let's try a different dataset. Investigate the effects of the learning rate on the training results. <br>"
   ]
  },
  {
   "cell_type": "code",
   "execution_count": null,
   "metadata": {},
   "outputs": [],
   "source": []
  },
  {
   "cell_type": "markdown",
   "metadata": {},
   "source": [
    "**3.** We now select the spiral dataset and add noise to the training data (noise=50). What do you observe using the following network architecture?<br>\n",
    "https://playground.tensorflow.org/#activation=sigmoid&batchSize=10&dataset=spiral&regDataset=reg-plane&learningRate=0.03&regularizationRate=0&noise=50&networkShape=2&seed=0.00906&showTestData=false&discretize=false&percTrainData=50&x=true&y=true&xTimesY=false&xSquared=true&ySquared=true&cosX=false&sinX=false&cosY=false&sinY=false&collectStats=false&problem=classification&initZero=false&hideText=false"
   ]
  },
  {
   "cell_type": "code",
   "execution_count": null,
   "metadata": {},
   "outputs": [],
   "source": []
  },
  {
   "cell_type": "markdown",
   "metadata": {},
   "source": [
    "### 5.2 Data set"
   ]
  },
  {
   "cell_type": "markdown",
   "metadata": {},
   "source": [
    "The data we are using in this tutorial is the Diabetes data set that you have already prepared in the previous tutorial.\n",
    "\n",
    "<ins>Source:</ins><br>\n",
    "*Smith, J.W., Everhart, J.E., Dickson, W.C., Knowler, W.C., & Johannes, R.S. (1988). Using the ADAP learning algorithm to forecast the onset of diabetes mellitus. In Proceedings of the Symposium on Computer Applications and Medical Care (pp. 261--265). IEEE Computer Society Press.*\n"
   ]
  },
  {
   "cell_type": "code",
   "execution_count": 2,
   "metadata": {},
   "outputs": [],
   "source": [
    "# Import the Pandas and NumPy library\n",
    "import pandas as pd\n",
    "import numpy as np\n",
    "\n",
    "# Read the Diabetes data set \n",
    "diabetes = pd.read_csv('./data/diabetes.csv')"
   ]
  },
  {
   "cell_type": "code",
   "execution_count": 3,
   "metadata": {},
   "outputs": [
    {
     "data": {
      "text/html": [
       "<div>\n",
       "<style scoped>\n",
       "    .dataframe tbody tr th:only-of-type {\n",
       "        vertical-align: middle;\n",
       "    }\n",
       "\n",
       "    .dataframe tbody tr th {\n",
       "        vertical-align: top;\n",
       "    }\n",
       "\n",
       "    .dataframe thead th {\n",
       "        text-align: right;\n",
       "    }\n",
       "</style>\n",
       "<table border=\"1\" class=\"dataframe\">\n",
       "  <thead>\n",
       "    <tr style=\"text-align: right;\">\n",
       "      <th></th>\n",
       "      <th>Pregnancies</th>\n",
       "      <th>Glucose</th>\n",
       "      <th>BloodPressure</th>\n",
       "      <th>SkinThickness</th>\n",
       "      <th>Insulin</th>\n",
       "      <th>BMI</th>\n",
       "      <th>DiabetesPedigreeFunction</th>\n",
       "      <th>Age</th>\n",
       "      <th>Outcome</th>\n",
       "    </tr>\n",
       "  </thead>\n",
       "  <tbody>\n",
       "    <tr>\n",
       "      <th>0</th>\n",
       "      <td>6</td>\n",
       "      <td>148</td>\n",
       "      <td>72</td>\n",
       "      <td>35</td>\n",
       "      <td>0</td>\n",
       "      <td>33.6</td>\n",
       "      <td>0.627</td>\n",
       "      <td>50</td>\n",
       "      <td>1</td>\n",
       "    </tr>\n",
       "    <tr>\n",
       "      <th>1</th>\n",
       "      <td>1</td>\n",
       "      <td>85</td>\n",
       "      <td>66</td>\n",
       "      <td>29</td>\n",
       "      <td>0</td>\n",
       "      <td>26.6</td>\n",
       "      <td>0.351</td>\n",
       "      <td>31</td>\n",
       "      <td>0</td>\n",
       "    </tr>\n",
       "    <tr>\n",
       "      <th>2</th>\n",
       "      <td>8</td>\n",
       "      <td>183</td>\n",
       "      <td>64</td>\n",
       "      <td>0</td>\n",
       "      <td>0</td>\n",
       "      <td>23.3</td>\n",
       "      <td>0.672</td>\n",
       "      <td>32</td>\n",
       "      <td>1</td>\n",
       "    </tr>\n",
       "    <tr>\n",
       "      <th>3</th>\n",
       "      <td>1</td>\n",
       "      <td>89</td>\n",
       "      <td>66</td>\n",
       "      <td>23</td>\n",
       "      <td>94</td>\n",
       "      <td>28.1</td>\n",
       "      <td>0.167</td>\n",
       "      <td>21</td>\n",
       "      <td>0</td>\n",
       "    </tr>\n",
       "    <tr>\n",
       "      <th>4</th>\n",
       "      <td>0</td>\n",
       "      <td>137</td>\n",
       "      <td>40</td>\n",
       "      <td>35</td>\n",
       "      <td>168</td>\n",
       "      <td>43.1</td>\n",
       "      <td>2.288</td>\n",
       "      <td>33</td>\n",
       "      <td>1</td>\n",
       "    </tr>\n",
       "  </tbody>\n",
       "</table>\n",
       "</div>"
      ],
      "text/plain": [
       "   Pregnancies  Glucose  BloodPressure  SkinThickness  Insulin   BMI  \\\n",
       "0            6      148             72             35        0  33.6   \n",
       "1            1       85             66             29        0  26.6   \n",
       "2            8      183             64              0        0  23.3   \n",
       "3            1       89             66             23       94  28.1   \n",
       "4            0      137             40             35      168  43.1   \n",
       "\n",
       "   DiabetesPedigreeFunction  Age  Outcome  \n",
       "0                     0.627   50        1  \n",
       "1                     0.351   31        0  \n",
       "2                     0.672   32        1  \n",
       "3                     0.167   21        0  \n",
       "4                     2.288   33        1  "
      ]
     },
     "execution_count": 3,
     "metadata": {},
     "output_type": "execute_result"
    }
   ],
   "source": [
    "diabetes.head()"
   ]
  },
  {
   "cell_type": "markdown",
   "metadata": {},
   "source": [
    "### 5.3 Keras\n"
   ]
  },
  {
   "cell_type": "markdown",
   "metadata": {},
   "source": [
    "Keras is a high-level neural networks API, capable of running on top of Tensorflow, Theano, and CNTK. It enables fast experimentation through a high level, user-friendly, modular and extensible API\n",
    "\n",
    "<img src=\"https://keras.io/img/logo.png\" width=\"40%\">\n",
    "\n",
    "<ins>Source:</ins> https://keras.io/img/logo.png"
   ]
  },
  {
   "cell_type": "markdown",
   "metadata": {},
   "source": [
    "### Installation"
   ]
  },
  {
   "cell_type": "markdown",
   "metadata": {},
   "source": [
    "For an installation of the *Keras* library, you have to enter the following command in the terminal."
   ]
  },
  {
   "cell_type": "markdown",
   "metadata": {},
   "source": [
    "```python\n",
    "!pip install tensorflow\n",
    "```"
   ]
  },
  {
   "cell_type": "markdown",
   "metadata": {},
   "source": [
    "Keras comes packaged with *TensorFlow 2.0* as `tensorflow.keras`. To start using *Keras*, simply install *TensorFlow 2.0*."
   ]
  },
  {
   "cell_type": "markdown",
   "metadata": {},
   "source": [
    "*Keras* is a model-level library, providing high-level building blocks for developing deep learning models. It doesn't handle itself low-level operations such as tensor products, convolutions and so on. Instead, it relies on a specialized, well-optimized tensor manipulation library to do so, serving as the \"backend engine\" of Keras. \n",
    "\n",
    "Rather than picking one single tensor library and making the implementation of *Keras* tied to that library, *Keras* handles the problem in a modular way, and several different backend engines can be plugged seamlessly into *Keras*."
   ]
  },
  {
   "cell_type": "markdown",
   "metadata": {},
   "source": [
    "### Importing the library"
   ]
  },
  {
   "cell_type": "markdown",
   "metadata": {},
   "source": [
    "We aren't going to import the whole *Keras* library but only specific classes that we need for our implementation. This will later be done using the following command:"
   ]
  },
  {
   "cell_type": "markdown",
   "metadata": {},
   "source": [
    "```python\n",
    "import tensorflow\n",
    "from tensorflow.keras.xyz import ...\n",
    "```"
   ]
  },
  {
   "cell_type": "markdown",
   "metadata": {},
   "source": [
    "### Workflow"
   ]
  },
  {
   "cell_type": "markdown",
   "metadata": {},
   "source": [
    "Training your first simple neural network with *Keras* doesn't require a lot of code, but we're going to start slow, taking it step-by-step, ensuring you understand the process of how to train a network. The workflow in *Keras* consits of the following steps:\n",
    "1. **Prepare data**\n",
    "2. **Build model**\n",
    "3. **Compile model**\n",
    "4. **Fit model**\n",
    "5. **Predict**\n",
    "6. **Evaluate model**\n",
    "7. **Save model**\n",
    "\n",
    "We're now going to introduce all these steps in more detail in the following part of the notebook. "
   ]
  },
  {
   "cell_type": "markdown",
   "metadata": {},
   "source": [
    "#### 1. Data preparation"
   ]
  },
  {
   "cell_type": "markdown",
   "metadata": {},
   "source": [
    "Before we start building our neural network, we have to prepare our data. A first step should always be data inspection, which you have already done in the last tutorial. Here, we will split our data in different subsets to train our model and will standardise the data."
   ]
  },
  {
   "cell_type": "markdown",
   "metadata": {},
   "source": [
    "**Data splitting**"
   ]
  },
  {
   "cell_type": "markdown",
   "metadata": {},
   "source": [
    "As you have learnt in the last tutorial, we have to split our dataset in subsets since we do not know the (hidden) data generating distribution to calculate the true error of our model. For this, we split the diabetes dataset into a training set, validation set and test set using the following split 60-20-20 to approximate the true error. We use the `train_test_split()`function from them `sklearn.model_selection` module to perform the splitting."
   ]
  },
  {
   "cell_type": "markdown",
   "metadata": {},
   "source": [
    "Here, we split the dataset only in a training and test set. Later in the training step, we use *Keras*' functionality to create a validation set from the training set. "
   ]
  },
  {
   "cell_type": "code",
   "execution_count": 4,
   "metadata": {},
   "outputs": [],
   "source": [
    "from sklearn.model_selection import train_test_split\n",
    "\n",
    "X_train, X_test, y_train, y_test = train_test_split(diabetes[['Glucose','BMI','Age']], diabetes['Outcome'], \n",
    "                                                    test_size=0.2)"
   ]
  },
  {
   "cell_type": "markdown",
   "metadata": {},
   "source": [
    "Let's check how many observations are in each set."
   ]
  },
  {
   "cell_type": "code",
   "execution_count": 5,
   "metadata": {},
   "outputs": [
    {
     "name": "stdout",
     "output_type": "stream",
     "text": [
      "Number of training samples: 614\n",
      "Number of test samples: 154\n"
     ]
    }
   ],
   "source": [
    "print(\"Number of training samples: %i\" % len(X_train))\n",
    "print(\"Number of test samples: %i\" % len(X_test))"
   ]
  },
  {
   "cell_type": "markdown",
   "metadata": {},
   "source": [
    "**Tranformations**"
   ]
  },
  {
   "cell_type": "markdown",
   "metadata": {},
   "source": [
    "Convergence of neural networks is ususally faster if the **average of each input variable**  over the training set is **close to zero**. In general, any shift of the average input away from zero will bias the updates in a particular direction and thus slow down learning. Additionally, **scaling the inputs** - to have **about the same covariance** - speeds up learning because it helps to balance out the rate at which the weights connected to the input nodes learn. Therefore, we will *standardize* our data \n",
    "\n",
    "$$z=\\frac{x-\\mu}{\\sigma} $$\n",
    "\n",
    "with mean $\\mu$ and standard deviation $\\sigma$. This transformation will speed up and stabilise the training process. We can use the `StandardScaler()` function from the `sklearn.preprocessing` module to perform the standardisation."
   ]
  },
  {
   "cell_type": "code",
   "execution_count": 6,
   "metadata": {},
   "outputs": [],
   "source": [
    "from sklearn.preprocessing import StandardScaler\n",
    "\n",
    "# Instatiate scaler\n",
    "scaler = StandardScaler()\n",
    "\n",
    "# Train scaler on the data set\n",
    "scaler.fit(X_train)\n",
    "\n",
    "# Transform datasets\n",
    "X_train = scaler.transform(X_train)\n",
    "X_test = scaler.transform(X_test)"
   ]
  },
  {
   "cell_type": "markdown",
   "metadata": {},
   "source": [
    "Let us have a look at our transformed training set."
   ]
  },
  {
   "cell_type": "code",
   "execution_count": 7,
   "metadata": {},
   "outputs": [
    {
     "data": {
      "text/plain": [
       "array([[-1.10758736,  0.97950682, -0.52200926],\n",
       "       [-0.07733739,  0.18927421, -0.85158632],\n",
       "       [ 0.23485957,  0.31470796, -0.76919206],\n",
       "       [ 0.04754139,  0.18927421, -0.02764368],\n",
       "       [ 1.85828376,  3.463095  , -0.68679779],\n",
       "       [ 0.7968141 , -0.36263427, -0.52200926],\n",
       "       [ 0.42217775, -1.00234638,  2.19700145],\n",
       "       [-0.95148888,  1.36835143, -1.01637485],\n",
       "       [-1.48222371, -0.62604514, -0.52200926],\n",
       "       [-1.17002675, -0.31246077,  0.05475059]])"
      ]
     },
     "execution_count": 7,
     "metadata": {},
     "output_type": "execute_result"
    }
   ],
   "source": [
    "X_train[:10,:]"
   ]
  },
  {
   "cell_type": "markdown",
   "metadata": {},
   "source": [
    "Let us also check the mean and standard deviation of our standardised training dataset."
   ]
  },
  {
   "cell_type": "code",
   "execution_count": 8,
   "metadata": {},
   "outputs": [
    {
     "name": "stdout",
     "output_type": "stream",
     "text": [
      "[ 4.91825184e-17 -2.37233324e-16 -1.27295930e-16]\n",
      "[1. 1. 1.]\n"
     ]
    }
   ],
   "source": [
    "print(np.mean(X_train,0))\n",
    "print(np.std(X_train,0))"
   ]
  },
  {
   "cell_type": "markdown",
   "metadata": {},
   "source": [
    "#### 2. Model Building"
   ]
  },
  {
   "cell_type": "markdown",
   "metadata": {},
   "source": [
    "The core data structures of *Keras* are **layers** and **models**. There are three ways to create Keras models:\n",
    "\n",
    "- The Sequential model is simply a linear stack of layers. *(for simple implementations)*\n",
    "- The Functional API fully-featured API that supports arbitrary model architectures. *(for more complex implementations)*\n",
    "- Model subclassing, where you implement everything from scratch on your own. *(for more complex implementations)*\n",
    "\n",
    "We are going to use the **Sequential model** class in this tutorial. You simply need to import the model from the *Keras* library and initialise a model object using the following commands:"
   ]
  },
  {
   "cell_type": "code",
   "execution_count": 9,
   "metadata": {},
   "outputs": [],
   "source": [
    "import tensorflow \n",
    "from tensorflow.keras.models import Sequential\n",
    "\n",
    "model = Sequential()"
   ]
  },
  {
   "cell_type": "markdown",
   "metadata": {},
   "source": [
    "Then, we can stack layers and add those to our model object. Before we do so, the implementation of the layer types  \n",
    "- dense layer and \n",
    "- convolutional layer \n",
    "\n",
    "is introduced, which you are going to use later in this notebook. A complete list of supported layer types is given in the *Keras* documentation https://keras.io/api/layers/. First, we have to import these layers from the *Keras* layer module using the following command:"
   ]
  },
  {
   "cell_type": "markdown",
   "metadata": {},
   "source": [
    "```python\n",
    "from tensorflow.keras.layers import Dense, Conv2D\n",
    "```"
   ]
  },
  {
   "cell_type": "markdown",
   "metadata": {},
   "source": [
    "**Dense layer**<br>\n",
    "A dense layer/fully-connected layer is a layer in which each input neuron is connected to each output neuron, the parameters units just tells you the dimensionality of your output. \n",
    "\n",
    "```python\n",
    "Dense(units='dimensionality of the output space',\n",
    "      activation='activation function to use',\n",
    "      ...)\n",
    "```\n",
    "<ins>Example:</ins>"
   ]
  },
  {
   "cell_type": "markdown",
   "metadata": {},
   "source": [
    "```python\n",
    "Dense(units=6, activation='relu',...)\n",
    "```"
   ]
  },
  {
   "cell_type": "markdown",
   "metadata": {},
   "source": [
    "**Convolutional layer**<br>\n",
    "The convolutional layer’s parameters consist of a set of learnable filters. During the forward pass, we convolve each filter across the width and height of the input and compute dot products between the entries of the filter and the input at any position. By doing so, we produce an activation map that gives the responses of that filter at every spatial position.\n",
    "\n",
    "```python\n",
    "Conv2D(filters='the dimensionality of the output space (i.e. the number of output filters in convolution)', \n",
    "       kernel_size='specifying the height and width of the 2D convolutional kernel', \n",
    "       strides=' specifying the strides of the convolution along the height and width', \n",
    "       activation='activation function to use',\n",
    "       ...)\n",
    "```\n",
    "<ins>Example:</ins>"
   ]
  },
  {
   "cell_type": "markdown",
   "metadata": {},
   "source": [
    "```python\n",
    "Conv2D(filters=16, kernel_size=(3,3), strides=(1,1), activation='relu',...)\n",
    "# if width and height are equal you can write in short\n",
    "Conv2D(filters=16, kernel_size=3, strides=1, activation='relu',...)\n",
    "```"
   ]
  },
  {
   "cell_type": "markdown",
   "metadata": {},
   "source": [
    "We can simply add these layers to the Sequential model using the `add()` method.\n",
    "Here, we add  \n",
    "- an dense input layer with 3 units, \n",
    "- a dense sigmoid output layer with 1 unit\n",
    "\n",
    "to create a **fully-connected neural network**."
   ]
  },
  {
   "cell_type": "code",
   "execution_count": 10,
   "metadata": {},
   "outputs": [],
   "source": [
    "from tensorflow.keras import Input\n",
    "from tensorflow.keras.layers import Dense\n",
    "\n",
    "model.add(Input(shape=(3,)))\n",
    "model.add(Dense(1, activation='sigmoid'))"
   ]
  },
  {
   "cell_type": "markdown",
   "metadata": {},
   "source": [
    "We can display the content of our neural network by calling the `summary()` method."
   ]
  },
  {
   "cell_type": "code",
   "execution_count": 11,
   "metadata": {},
   "outputs": [
    {
     "name": "stdout",
     "output_type": "stream",
     "text": [
      "Model: \"sequential\"\n",
      "_________________________________________________________________\n",
      "Layer (type)                 Output Shape              Param #   \n",
      "=================================================================\n",
      "dense (Dense)                (None, 1)                 4         \n",
      "=================================================================\n",
      "Total params: 4\n",
      "Trainable params: 4\n",
      "Non-trainable params: 0\n",
      "_________________________________________________________________\n"
     ]
    }
   ],
   "source": [
    "model.summary()"
   ]
  },
  {
   "cell_type": "markdown",
   "metadata": {},
   "source": [
    "*Why does our network have 4 parameters?*"
   ]
  },
  {
   "cell_type": "markdown",
   "metadata": {},
   "source": [
    "#### 3. Model compilation"
   ]
  },
  {
   "cell_type": "markdown",
   "metadata": {},
   "source": [
    "In order to train our neural network, we need to compile our model. This requires us to define a loss function and an optimiser to do so. A list already implemented losses and optimisers can be found in the documentary:\n",
    "\n",
    "- losses: https://keras.io/api/losses/,\n",
    "- optimisers: https://keras.io/api/optimizers/. "
   ]
  },
  {
   "cell_type": "markdown",
   "metadata": {},
   "source": [
    "**Loss function**\n",
    "\n",
    "The purpose of loss functions is to compute the quantity that a model should seek to minimize during training. \n",
    "This function will essentially calculate how poorly our model is performing by comparing what the model is predicting with the actual value it is supposed to output. Therefore, the selection of the loss function depends on the the task.\n",
    "\n",
    "<ins>Examples:</ins><br>\n",
    "\n",
    "*Classification:*\n",
    "- `BinaryCrossentropy()`<br> Computes the cross-entropy loss between true labels and predicted labels *(binary)*.\n",
    "- `CategoricalCrossentropy()`<br> Computes the cross-entropy loss between true labels and predicted labels *(multi-class)*.\n",
    "- ...\n",
    "\n",
    "*Regression:*\n",
    "- `MeanSquaredError()`<br> Computes the mean of squares of errors between labels and predictions.\n",
    "- ...\n",
    "\n",
    "You can import the loss functions from the *Keras* losses module by entering the following command:"
   ]
  },
  {
   "cell_type": "markdown",
   "metadata": {},
   "source": [
    "```python\n",
    "from tensorflow.keras.losses import BinaryCrossentropy, CategoricalCrossentropy, MeanSquaredError\n",
    "```"
   ]
  },
  {
   "cell_type": "markdown",
   "metadata": {},
   "source": [
    "**Optimiser**\n",
    "\n",
    "We have already dealt with the loss function, which is a mathematical way of measuring how wrong your predictions are. In other words, the loss function lets us quantify the quality of any particular set of model parameters. The goal of optimisation is to find those parameteres that minimize the loss function. For this, we can compute the best direction along which we should change our parameters that is mathematically guaranteed to be the direction of the steepest descend. This direction will be related to the gradient of the loss function."
   ]
  },
  {
   "cell_type": "markdown",
   "metadata": {},
   "source": [
    "<ins>Examples:</ins>\n",
    "- `SGD()`<br> Stochastic gradient descent is an implementation of gradient descent - that you know from the lecture - on batches of observations or single random examples on each pass.\n",
    "\n",
    "- `Adam()`<br> Adam stands for adaptive moment estimation, and is another way of using past gradients to calculate current gradients. Adam also utilizes the concept of momentum by adding fractions of previous gradients to the current one.\n",
    "\n",
    "You can import the optimiser from the `tensorflow.keras.optimizers` module by entering the following command:"
   ]
  },
  {
   "cell_type": "markdown",
   "metadata": {},
   "source": [
    "```python\n",
    "from tensorflow.keras.optimizers import SGD, Adam\n",
    "```"
   ]
  },
  {
   "cell_type": "markdown",
   "metadata": {},
   "source": [
    "We instatiate the loss function and the optimiser before we pass them to the model."
   ]
  },
  {
   "cell_type": "code",
   "execution_count": 12,
   "metadata": {},
   "outputs": [],
   "source": [
    "from tensorflow.keras.losses import BinaryCrossentropy\n",
    "from tensorflow.keras.optimizers import SGD\n",
    "\n",
    "loss = BinaryCrossentropy()\n",
    "\n",
    "lr = 4e-2 #lr = 0.04\n",
    "optimiser = SGD(learning_rate=lr)\n",
    "\n",
    "model.compile(loss=loss,\n",
    "              optimizer=optimiser, \n",
    "              metrics=['accuracy'])"
   ]
  },
  {
   "cell_type": "markdown",
   "metadata": {},
   "source": [
    "After compiling our model, we're now ready to start the training."
   ]
  },
  {
   "cell_type": "markdown",
   "metadata": {},
   "source": [
    "#### 4. Model training"
   ]
  },
  {
   "cell_type": "markdown",
   "metadata": {},
   "source": [
    "To train our model we can simply use the `fit()` method. Here, we just have to provide the *number of epochs*, the *batch size* and the *training dataset* (features and targerts). Instead of providing a separate validation dataset, we use the `validation_split` functionality, which uses the last x% observations of the training dataset before shuffling to create a validation set.\n",
    "\n",
    "At the end of each epoch, the model will iterate over the validation dataset and compute the validation loss and validation metric.\n",
    "\n",
    "The `fit()` method outputs a `History` object; its `History.history` attribute is a record of loss and metrics values (training + validation)."
   ]
  },
  {
   "cell_type": "markdown",
   "metadata": {},
   "source": [
    "In our example, we use 50 *epochs* and a *batch size* of 64 to train our model. Additionally, we use a validation split of 0.25 such that our overall data split in training, validation and test set is 60-20-20."
   ]
  },
  {
   "cell_type": "code",
   "execution_count": 13,
   "metadata": {},
   "outputs": [
    {
     "name": "stdout",
     "output_type": "stream",
     "text": [
      "Epoch 1/50\n",
      "8/8 [==============================] - 0s 20ms/step - loss: 0.8892 - accuracy: 0.4609 - val_loss: 0.8461 - val_accuracy: 0.5130\n",
      "Epoch 2/50\n",
      "8/8 [==============================] - 0s 5ms/step - loss: 0.8307 - accuracy: 0.4978 - val_loss: 0.7992 - val_accuracy: 0.5390\n",
      "Epoch 3/50\n",
      "8/8 [==============================] - 0s 6ms/step - loss: 0.7853 - accuracy: 0.5283 - val_loss: 0.7580 - val_accuracy: 0.5455\n",
      "Epoch 4/50\n",
      "8/8 [==============================] - 0s 5ms/step - loss: 0.7459 - accuracy: 0.5652 - val_loss: 0.7235 - val_accuracy: 0.5844\n",
      "Epoch 5/50\n",
      "8/8 [==============================] - 0s 5ms/step - loss: 0.7128 - accuracy: 0.5870 - val_loss: 0.6912 - val_accuracy: 0.5909\n",
      "Epoch 6/50\n",
      "8/8 [==============================] - 0s 6ms/step - loss: 0.6816 - accuracy: 0.6239 - val_loss: 0.6664 - val_accuracy: 0.6104\n",
      "Epoch 7/50\n",
      "8/8 [==============================] - 0s 6ms/step - loss: 0.6578 - accuracy: 0.6587 - val_loss: 0.6466 - val_accuracy: 0.6299\n",
      "Epoch 8/50\n",
      "8/8 [==============================] - 0s 6ms/step - loss: 0.6387 - accuracy: 0.6783 - val_loss: 0.6266 - val_accuracy: 0.6558\n",
      "Epoch 9/50\n",
      "8/8 [==============================] - 0s 5ms/step - loss: 0.6193 - accuracy: 0.7043 - val_loss: 0.6117 - val_accuracy: 0.6688\n",
      "Epoch 10/50\n",
      "8/8 [==============================] - 0s 6ms/step - loss: 0.6049 - accuracy: 0.7130 - val_loss: 0.5978 - val_accuracy: 0.6818\n",
      "Epoch 11/50\n",
      "8/8 [==============================] - 0s 5ms/step - loss: 0.5917 - accuracy: 0.7152 - val_loss: 0.5857 - val_accuracy: 0.6818\n",
      "Epoch 12/50\n",
      "8/8 [==============================] - 0s 5ms/step - loss: 0.5801 - accuracy: 0.7196 - val_loss: 0.5749 - val_accuracy: 0.6948\n",
      "Epoch 13/50\n",
      "8/8 [==============================] - 0s 6ms/step - loss: 0.5701 - accuracy: 0.7261 - val_loss: 0.5656 - val_accuracy: 0.6948\n",
      "Epoch 14/50\n",
      "8/8 [==============================] - 0s 5ms/step - loss: 0.5616 - accuracy: 0.7326 - val_loss: 0.5576 - val_accuracy: 0.7013\n",
      "Epoch 15/50\n",
      "8/8 [==============================] - 0s 5ms/step - loss: 0.5541 - accuracy: 0.7435 - val_loss: 0.5512 - val_accuracy: 0.7013\n",
      "Epoch 16/50\n",
      "8/8 [==============================] - 0s 5ms/step - loss: 0.5482 - accuracy: 0.7478 - val_loss: 0.5459 - val_accuracy: 0.7078\n",
      "Epoch 17/50\n",
      "8/8 [==============================] - 0s 6ms/step - loss: 0.5431 - accuracy: 0.7522 - val_loss: 0.5396 - val_accuracy: 0.7078\n",
      "Epoch 18/50\n",
      "8/8 [==============================] - 0s 6ms/step - loss: 0.5375 - accuracy: 0.7522 - val_loss: 0.5340 - val_accuracy: 0.7143\n",
      "Epoch 19/50\n",
      "8/8 [==============================] - 0s 6ms/step - loss: 0.5321 - accuracy: 0.7543 - val_loss: 0.5289 - val_accuracy: 0.7208\n",
      "Epoch 20/50\n",
      "8/8 [==============================] - 0s 7ms/step - loss: 0.5277 - accuracy: 0.7587 - val_loss: 0.5255 - val_accuracy: 0.7208\n",
      "Epoch 21/50\n",
      "8/8 [==============================] - 0s 5ms/step - loss: 0.5245 - accuracy: 0.7587 - val_loss: 0.5219 - val_accuracy: 0.7273\n",
      "Epoch 22/50\n",
      "8/8 [==============================] - 0s 5ms/step - loss: 0.5211 - accuracy: 0.7565 - val_loss: 0.5184 - val_accuracy: 0.7273\n",
      "Epoch 23/50\n",
      "8/8 [==============================] - 0s 5ms/step - loss: 0.5182 - accuracy: 0.7609 - val_loss: 0.5157 - val_accuracy: 0.7208\n",
      "Epoch 24/50\n",
      "8/8 [==============================] - 0s 7ms/step - loss: 0.5157 - accuracy: 0.7674 - val_loss: 0.5125 - val_accuracy: 0.7338\n",
      "Epoch 25/50\n",
      "8/8 [==============================] - 0s 6ms/step - loss: 0.5130 - accuracy: 0.7696 - val_loss: 0.5101 - val_accuracy: 0.7338\n",
      "Epoch 26/50\n",
      "8/8 [==============================] - 0s 6ms/step - loss: 0.5106 - accuracy: 0.7783 - val_loss: 0.5079 - val_accuracy: 0.7403\n",
      "Epoch 27/50\n",
      "8/8 [==============================] - 0s 6ms/step - loss: 0.5085 - accuracy: 0.7761 - val_loss: 0.5065 - val_accuracy: 0.7468\n",
      "Epoch 28/50\n",
      "8/8 [==============================] - 0s 6ms/step - loss: 0.5074 - accuracy: 0.7783 - val_loss: 0.5046 - val_accuracy: 0.7468\n",
      "Epoch 29/50\n",
      "8/8 [==============================] - 0s 7ms/step - loss: 0.5059 - accuracy: 0.7783 - val_loss: 0.5028 - val_accuracy: 0.7532\n",
      "Epoch 30/50\n",
      "8/8 [==============================] - 0s 5ms/step - loss: 0.5045 - accuracy: 0.7761 - val_loss: 0.5007 - val_accuracy: 0.7532\n",
      "Epoch 31/50\n",
      "8/8 [==============================] - 0s 6ms/step - loss: 0.5029 - accuracy: 0.7739 - val_loss: 0.4995 - val_accuracy: 0.7597\n",
      "Epoch 32/50\n",
      "8/8 [==============================] - 0s 6ms/step - loss: 0.5017 - accuracy: 0.7739 - val_loss: 0.4981 - val_accuracy: 0.7662\n",
      "Epoch 33/50\n",
      "8/8 [==============================] - 0s 6ms/step - loss: 0.5006 - accuracy: 0.7739 - val_loss: 0.4972 - val_accuracy: 0.7662\n",
      "Epoch 34/50\n",
      "8/8 [==============================] - 0s 6ms/step - loss: 0.5000 - accuracy: 0.7739 - val_loss: 0.4959 - val_accuracy: 0.7662\n",
      "Epoch 35/50\n",
      "8/8 [==============================] - 0s 5ms/step - loss: 0.4990 - accuracy: 0.7739 - val_loss: 0.4947 - val_accuracy: 0.7662\n",
      "Epoch 36/50\n",
      "8/8 [==============================] - 0s 5ms/step - loss: 0.4980 - accuracy: 0.7717 - val_loss: 0.4937 - val_accuracy: 0.7662\n",
      "Epoch 37/50\n",
      "8/8 [==============================] - 0s 5ms/step - loss: 0.4974 - accuracy: 0.7717 - val_loss: 0.4924 - val_accuracy: 0.7662\n",
      "Epoch 38/50\n",
      "8/8 [==============================] - 0s 7ms/step - loss: 0.4966 - accuracy: 0.7652 - val_loss: 0.4915 - val_accuracy: 0.7662\n",
      "Epoch 39/50\n",
      "8/8 [==============================] - 0s 9ms/step - loss: 0.4961 - accuracy: 0.7652 - val_loss: 0.4905 - val_accuracy: 0.7597\n",
      "Epoch 40/50\n",
      "8/8 [==============================] - 0s 6ms/step - loss: 0.4952 - accuracy: 0.7674 - val_loss: 0.4903 - val_accuracy: 0.7597\n",
      "Epoch 41/50\n",
      "8/8 [==============================] - 0s 6ms/step - loss: 0.4948 - accuracy: 0.7717 - val_loss: 0.4902 - val_accuracy: 0.7597\n",
      "Epoch 42/50\n",
      "8/8 [==============================] - 0s 5ms/step - loss: 0.4943 - accuracy: 0.7739 - val_loss: 0.4896 - val_accuracy: 0.7597\n",
      "Epoch 43/50\n",
      "8/8 [==============================] - 0s 6ms/step - loss: 0.4939 - accuracy: 0.7761 - val_loss: 0.4890 - val_accuracy: 0.7597\n",
      "Epoch 44/50\n",
      "8/8 [==============================] - 0s 6ms/step - loss: 0.4935 - accuracy: 0.7761 - val_loss: 0.4889 - val_accuracy: 0.7597\n",
      "Epoch 45/50\n",
      "8/8 [==============================] - 0s 6ms/step - loss: 0.4931 - accuracy: 0.7783 - val_loss: 0.4884 - val_accuracy: 0.7597\n",
      "Epoch 46/50\n",
      "8/8 [==============================] - 0s 5ms/step - loss: 0.4927 - accuracy: 0.7783 - val_loss: 0.4881 - val_accuracy: 0.7597\n",
      "Epoch 47/50\n",
      "8/8 [==============================] - 0s 5ms/step - loss: 0.4924 - accuracy: 0.7804 - val_loss: 0.4873 - val_accuracy: 0.7597\n",
      "Epoch 48/50\n",
      "8/8 [==============================] - 0s 6ms/step - loss: 0.4922 - accuracy: 0.7804 - val_loss: 0.4866 - val_accuracy: 0.7597\n",
      "Epoch 49/50\n",
      "8/8 [==============================] - 0s 5ms/step - loss: 0.4919 - accuracy: 0.7804 - val_loss: 0.4866 - val_accuracy: 0.7597\n",
      "Epoch 50/50\n",
      "8/8 [==============================] - 0s 7ms/step - loss: 0.4918 - accuracy: 0.7804 - val_loss: 0.4860 - val_accuracy: 0.7597\n"
     ]
    }
   ],
   "source": [
    "epochs = 50\n",
    "batch_size = 64\n",
    "\n",
    "\n",
    "history = model.fit(x=X_train, y=y_train,\n",
    "                validation_split=0.25,\n",
    "                epochs=epochs, \n",
    "                batch_size=batch_size)"
   ]
  },
  {
   "cell_type": "markdown",
   "metadata": {},
   "source": [
    "The `fit()` methods prints the loss and metric values after every epochs, but we can also use the `History` object to visualise those values to get intuition about the performance of our model."
   ]
  },
  {
   "cell_type": "code",
   "execution_count": 14,
   "metadata": {},
   "outputs": [
    {
     "data": {
      "image/png": "[encoded data removed]",
      "text/plain": [
       "<Figure size 576x1152 with 2 Axes>"
      ]
     },
     "metadata": {
      "needs_background": "light"
     },
     "output_type": "display_data"
    }
   ],
   "source": [
    "import matplotlib.pyplot as plt\n",
    "\n",
    "n_epochs = np.arange(0,epochs)\n",
    "\n",
    "fig, (ax1,ax2) = plt.subplots(2,1,figsize=(8,16))\n",
    "ax1.plot(n_epochs, history.history['loss'], label='training loss')\n",
    "ax1.plot(n_epochs, history.history['val_loss'], label='validation loss')\n",
    "ax1.set_ylim(-0.05,1.05)\n",
    "ax1.legend()\n",
    "\n",
    "ax2.plot(n_epochs, history.history['accuracy'], label='training accuracy')\n",
    "ax2.plot(n_epochs, history.history['val_accuracy'], label='validation accuracy')\n",
    "ax2.set_ylim(-0.05,1.05)\n",
    "ax2.legend()\n",
    "\n",
    "plt.show()"
   ]
  },
  {
   "cell_type": "markdown",
   "metadata": {},
   "source": [
    "#### 5. Prediciton"
   ]
  },
  {
   "cell_type": "markdown",
   "metadata": {},
   "source": [
    "After training, we can use our model to predict the target variable using the `predict()` method, which returns the probabilities $P(Outcome=1|X,w)$."
   ]
  },
  {
   "cell_type": "code",
   "execution_count": 15,
   "metadata": {},
   "outputs": [],
   "source": [
    "y_pred = model.predict(X_test).ravel()"
   ]
  },
  {
   "cell_type": "code",
   "execution_count": 16,
   "metadata": {},
   "outputs": [
    {
     "data": {
      "text/plain": [
       "array([0.45693   , 0.57874984, 0.19088691, 0.45782956, 0.27665728,\n",
       "       0.6421503 , 0.23744702, 0.77027017, 0.6280107 , 0.72141576,\n",
       "       0.2729662 , 0.12178436, 0.15611246, 0.5941319 , 0.27353993,\n",
       "       0.4260062 , 0.2025828 , 0.24915451, 0.23772511, 0.4765395 ,\n",
       "       0.36056712, 0.24727303, 0.10459712, 0.6318413 , 0.10317016,\n",
       "       0.19159961, 0.2303628 , 0.15221062, 0.6142981 , 0.7974855 ,\n",
       "       0.70595866, 0.3055756 , 0.25987893, 0.54891974, 0.2690676 ,\n",
       "       0.27504373, 0.6694256 , 0.60707045, 0.55173063, 0.54875094,\n",
       "       0.10008591, 0.24357063, 0.9152516 , 0.12896615, 0.29788816,\n",
       "       0.33162618, 0.3149709 , 0.7745576 , 0.18801123, 0.42069927,\n",
       "       0.36568868, 0.23321036, 0.25366855, 0.24662143, 0.10521677,\n",
       "       0.10268328, 0.35368228, 0.05784526, 0.02118707, 0.2740609 ,\n",
       "       0.8052405 , 0.7886062 , 0.23403335, 0.04487976, 0.18357998,\n",
       "       0.09257483, 0.44009304, 0.4793266 , 0.04875469, 0.10064501,\n",
       "       0.5482625 , 0.10225961, 0.15605637, 0.696651  , 0.23557097,\n",
       "       0.4310475 , 0.7008432 , 0.08450896, 0.09043935, 0.19706696,\n",
       "       0.6612565 , 0.9209341 , 0.03632289, 0.07054526, 0.09812421,\n",
       "       0.14387137, 0.81537545, 0.30701125, 0.8866414 , 0.8333492 ,\n",
       "       0.04145306, 0.46763247, 0.17971852, 0.6516731 , 0.59515804,\n",
       "       0.11948809, 0.19692221, 0.56401575, 0.11677638, 0.05861843,\n",
       "       0.04924962, 0.33365408, 0.0915904 , 0.32198238, 0.26328593,\n",
       "       0.14176172, 0.6380201 , 0.11280116, 0.62138706, 0.49064645,\n",
       "       0.13338584, 0.17941555, 0.07746238, 0.17385918, 0.49825254,\n",
       "       0.15971309, 0.5919029 , 0.15575191, 0.13763413, 0.09904435,\n",
       "       0.11077091, 0.8283871 , 0.32636875, 0.46194515, 0.31369522,\n",
       "       0.09219494, 0.35721302, 0.40589827, 0.35294405, 0.2887053 ,\n",
       "       0.20779586, 0.30947375, 0.34187233, 0.46218982, 0.62239444,\n",
       "       0.8481531 , 0.46094316, 0.84334934, 0.83859026, 0.31036863,\n",
       "       0.7145231 , 0.1351577 , 0.86627394, 0.3872924 , 0.19667697,\n",
       "       0.2549777 , 0.14528725, 0.17356125, 0.30896515, 0.539865  ,\n",
       "       0.14919516, 0.64258873, 0.17370537, 0.1533119 ], dtype=float32)"
      ]
     },
     "execution_count": 16,
     "metadata": {},
     "output_type": "execute_result"
    }
   ],
   "source": [
    "y_pred"
   ]
  },
  {
   "cell_type": "markdown",
   "metadata": {},
   "source": [
    "If you're not interested in the probability $P(Outcome=1|X,w)$ but simply want to predict the class label, you can use the `predict_classes()` method. This method uses a threshold of 0.5 to classify examples."
   ]
  },
  {
   "cell_type": "code",
   "execution_count": 17,
   "metadata": {},
   "outputs": [
    {
     "name": "stdout",
     "output_type": "stream",
     "text": [
      "WARNING:tensorflow:From <ipython-input-17-e74f15101043>:1: Sequential.predict_classes (from tensorflow.python.keras.engine.sequential) is deprecated and will be removed after 2021-01-01.\n",
      "Instructions for updating:\n",
      "Please use instead:* `np.argmax(model.predict(x), axis=-1)`,   if your model does multi-class classification   (e.g. if it uses a `softmax` last-layer activation).* `(model.predict(x) > 0.5).astype(\"int32\")`,   if your model does binary classification   (e.g. if it uses a `sigmoid` last-layer activation).\n"
     ]
    },
    {
     "data": {
      "text/plain": [
       "array([0, 1, 0, 0, 0, 1, 0, 1, 1, 1, 0, 0, 0, 1, 0, 0, 0, 0, 0, 0, 0, 0,\n",
       "       0, 1, 0, 0, 0, 0, 1, 1, 1, 0, 0, 1, 0, 0, 1, 1, 1, 1, 0, 0, 1, 0,\n",
       "       0, 0, 0, 1, 0, 0, 0, 0, 0, 0, 0, 0, 0, 0, 0, 0, 1, 1, 0, 0, 0, 0,\n",
       "       0, 0, 0, 0, 1, 0, 0, 1, 0, 0, 1, 0, 0, 0, 1, 1, 0, 0, 0, 0, 1, 0,\n",
       "       1, 1, 0, 0, 0, 1, 1, 0, 0, 1, 0, 0, 0, 0, 0, 0, 0, 0, 1, 0, 1, 0,\n",
       "       0, 0, 0, 0, 0, 0, 1, 0, 0, 0, 0, 1, 0, 0, 0, 0, 0, 0, 0, 0, 0, 0,\n",
       "       0, 0, 1, 1, 0, 1, 1, 0, 1, 0, 1, 0, 0, 0, 0, 0, 0, 1, 0, 1, 0, 0],\n",
       "      dtype=int32)"
      ]
     },
     "execution_count": 17,
     "metadata": {},
     "output_type": "execute_result"
    }
   ],
   "source": [
    "model.predict_classes(X_test).ravel()"
   ]
  },
  {
   "cell_type": "markdown",
   "metadata": {},
   "source": [
    "#### 6. Model evaluation"
   ]
  },
  {
   "cell_type": "markdown",
   "metadata": {},
   "source": [
    "To see how good/bad those predictions are, we've to evaluate them using the built-in `evaluate()` method. This returns the loss and metrics values for the model in test mode."
   ]
  },
  {
   "cell_type": "code",
   "execution_count": 18,
   "metadata": {},
   "outputs": [
    {
     "name": "stdout",
     "output_type": "stream",
     "text": [
      "3/3 [==============================] - 0s 2ms/step - loss: 0.5381 - accuracy: 0.7273\n"
     ]
    }
   ],
   "source": [
    "loss_and_metrics = model.evaluate(X_test, y_test, \n",
    "                                  batch_size=batch_size)"
   ]
  },
  {
   "cell_type": "markdown",
   "metadata": {},
   "source": [
    "In addition to loss and metric values, we're going to use the receiver operating characteristics (ROC) and the area under the curve (AUC) to evaluate our model. We can use the `roc_curve()` and `auc` function from the `sklearn.metrics` module to calculate those values. "
   ]
  },
  {
   "cell_type": "code",
   "execution_count": 19,
   "metadata": {},
   "outputs": [],
   "source": [
    "from sklearn.metrics import roc_curve, auc\n",
    "fpr, tpr, thresholds_keras = roc_curve(y_test, y_pred)\n",
    "auc_keras = auc(fpr, tpr)"
   ]
  },
  {
   "cell_type": "markdown",
   "metadata": {},
   "source": [
    "After calculating all values, we can use *matplotllib* to plot the ROC curve."
   ]
  },
  {
   "cell_type": "code",
   "execution_count": 20,
   "metadata": {},
   "outputs": [
    {
     "data": {
      "image/png": "[encoded data removed]",
      "text/plain": [
       "<Figure size 864x576 with 1 Axes>"
      ]
     },
     "metadata": {
      "needs_background": "light"
     },
     "output_type": "display_data"
    }
   ],
   "source": [
    "fig, ax = plt.subplots(1,1,figsize=(12,8))\n",
    "ax.plot([0, 1], [0, 1], 'k--')\n",
    "ax.plot(fpr, tpr, label='Keras (area = {:.3f})'.format(auc_keras))\n",
    "ax.set_xlabel('False positive rate')\n",
    "ax.set_ylabel('True positive rate')\n",
    "ax.set_title('ROC curve')\n",
    "ax.legend(loc='best')\n",
    "\n",
    "plt.show()"
   ]
  },
  {
   "cell_type": "markdown",
   "metadata": {},
   "source": [
    "#### 7. Model saving"
   ]
  },
  {
   "cell_type": "markdown",
   "metadata": {},
   "source": [
    "A Keras model consists of multiple components:\n",
    "\n",
    "- An architecture, or configuration, which specifyies what layers the model contains, and how they're connected.\n",
    "- A set of weights values (the \"state of the model\").\n",
    "- An optimizer (defined by compiling the model).\n",
    "- A set of losses and metrics (defined by compiling the model).\n",
    "\n",
    "We can save these pieces to disk at once into a single archive in the *Tensorflow* `SavedModel`."
   ]
  },
  {
   "cell_type": "markdown",
   "metadata": {},
   "source": [
    "```python\n",
    "model.save('path/to/location')\n",
    "```\n",
    "\n",
    "We can save our neural network to the working directory by entering the following command:"
   ]
  },
  {
   "cell_type": "code",
   "execution_count": 22,
   "metadata": {},
   "outputs": [
    {
     "name": "stdout",
     "output_type": "stream",
     "text": [
      "WARNING:tensorflow:From /home/jaime/.conda/envs/ai_in_medicine/lib/python3.8/site-packages/tensorflow/python/ops/resource_variable_ops.py:1813: calling BaseResourceVariable.__init__ (from tensorflow.python.ops.resource_variable_ops) with constraint is deprecated and will be removed in a future version.\n",
      "Instructions for updating:\n",
      "If using Keras pass *_constraint arguments to layers.\n",
      "INFO:tensorflow:Assets written to: results/week1_session5_deep-learning/my_nn/assets\n"
     ]
    }
   ],
   "source": [
    "from pathlib import Path\n",
    "Path(\"results/week1_session5_deep-learning\").mkdir(parents=True, exist_ok=True)\n",
    "model.save('results/week1_session5_deep-learning/my_nn')"
   ]
  },
  {
   "cell_type": "markdown",
   "metadata": {},
   "source": [
    "This can then simply be loaded using the following command:\n",
    "\n",
    "```python\n",
    "model = tensorflow.keras.models.load_model('my_nn')\n",
    "```"
   ]
  },
  {
   "cell_type": "markdown",
   "metadata": {},
   "source": [
    "**Put everything together**<br>\n",
    "After having itroduced all the steps separately in more detail, everything is put together in one cell, so you don't have to scroll too much."
   ]
  },
  {
   "cell_type": "code",
   "execution_count": 24,
   "metadata": {
    "scrolled": true
   },
   "outputs": [
    {
     "name": "stdout",
     "output_type": "stream",
     "text": [
      "Epoch 1/50\n",
      "29/29 [==============================] - 0s 4ms/step - loss: 0.7637 - accuracy: 0.5870 - val_loss: 0.7556 - val_accuracy: 0.5909\n",
      "Epoch 2/50\n",
      "29/29 [==============================] - 0s 3ms/step - loss: 0.6677 - accuracy: 0.6500 - val_loss: 0.6693 - val_accuracy: 0.6299\n",
      "Epoch 3/50\n",
      "29/29 [==============================] - 0s 3ms/step - loss: 0.6113 - accuracy: 0.6870 - val_loss: 0.6139 - val_accuracy: 0.6818\n",
      "Epoch 4/50\n",
      "29/29 [==============================] - 0s 3ms/step - loss: 0.5760 - accuracy: 0.7000 - val_loss: 0.5769 - val_accuracy: 0.7143\n",
      "Epoch 5/50\n",
      "29/29 [==============================] - 0s 3ms/step - loss: 0.5534 - accuracy: 0.7261 - val_loss: 0.5518 - val_accuracy: 0.7338\n",
      "Epoch 6/50\n",
      "29/29 [==============================] - 0s 3ms/step - loss: 0.5388 - accuracy: 0.7304 - val_loss: 0.5342 - val_accuracy: 0.7338\n",
      "Epoch 7/50\n",
      "29/29 [==============================] - 0s 3ms/step - loss: 0.5290 - accuracy: 0.7478 - val_loss: 0.5220 - val_accuracy: 0.7338\n",
      "Epoch 8/50\n",
      "29/29 [==============================] - 0s 3ms/step - loss: 0.5221 - accuracy: 0.7370 - val_loss: 0.5133 - val_accuracy: 0.7403\n",
      "Epoch 9/50\n",
      "29/29 [==============================] - 0s 3ms/step - loss: 0.5175 - accuracy: 0.7435 - val_loss: 0.5071 - val_accuracy: 0.7597\n",
      "Epoch 10/50\n",
      "29/29 [==============================] - 0s 2ms/step - loss: 0.5143 - accuracy: 0.7435 - val_loss: 0.5022 - val_accuracy: 0.7792\n",
      "Epoch 11/50\n",
      "29/29 [==============================] - 0s 4ms/step - loss: 0.5121 - accuracy: 0.7457 - val_loss: 0.4985 - val_accuracy: 0.7792\n",
      "Epoch 12/50\n",
      "29/29 [==============================] - 0s 4ms/step - loss: 0.5104 - accuracy: 0.7413 - val_loss: 0.4958 - val_accuracy: 0.7792\n",
      "Epoch 13/50\n",
      "29/29 [==============================] - 0s 4ms/step - loss: 0.5092 - accuracy: 0.7500 - val_loss: 0.4941 - val_accuracy: 0.7857\n",
      "Epoch 14/50\n",
      "29/29 [==============================] - 0s 3ms/step - loss: 0.5081 - accuracy: 0.7457 - val_loss: 0.4922 - val_accuracy: 0.7857\n",
      "Epoch 15/50\n",
      "29/29 [==============================] - 0s 4ms/step - loss: 0.5078 - accuracy: 0.7543 - val_loss: 0.4910 - val_accuracy: 0.7857\n",
      "Epoch 16/50\n",
      "29/29 [==============================] - 0s 4ms/step - loss: 0.5072 - accuracy: 0.7587 - val_loss: 0.4902 - val_accuracy: 0.7857\n",
      "Epoch 17/50\n",
      "29/29 [==============================] - 0s 3ms/step - loss: 0.5068 - accuracy: 0.7565 - val_loss: 0.4890 - val_accuracy: 0.7857\n",
      "Epoch 18/50\n",
      "29/29 [==============================] - 0s 3ms/step - loss: 0.5064 - accuracy: 0.7609 - val_loss: 0.4883 - val_accuracy: 0.7792\n",
      "Epoch 19/50\n",
      "29/29 [==============================] - 0s 3ms/step - loss: 0.5062 - accuracy: 0.7587 - val_loss: 0.4875 - val_accuracy: 0.7792\n",
      "Epoch 20/50\n",
      "29/29 [==============================] - 0s 3ms/step - loss: 0.5060 - accuracy: 0.7609 - val_loss: 0.4872 - val_accuracy: 0.7792\n",
      "Epoch 21/50\n",
      "29/29 [==============================] - 0s 3ms/step - loss: 0.5060 - accuracy: 0.7609 - val_loss: 0.4866 - val_accuracy: 0.7792\n",
      "Epoch 22/50\n",
      "29/29 [==============================] - 0s 3ms/step - loss: 0.5060 - accuracy: 0.7587 - val_loss: 0.4863 - val_accuracy: 0.7792\n",
      "Epoch 23/50\n",
      "29/29 [==============================] - 0s 4ms/step - loss: 0.5060 - accuracy: 0.7587 - val_loss: 0.4861 - val_accuracy: 0.7792\n",
      "Epoch 24/50\n",
      "29/29 [==============================] - 0s 4ms/step - loss: 0.5056 - accuracy: 0.7587 - val_loss: 0.4858 - val_accuracy: 0.7792\n",
      "Epoch 25/50\n",
      "29/29 [==============================] - 0s 3ms/step - loss: 0.5057 - accuracy: 0.7630 - val_loss: 0.4856 - val_accuracy: 0.7727\n",
      "Epoch 26/50\n",
      "29/29 [==============================] - 0s 3ms/step - loss: 0.5060 - accuracy: 0.7652 - val_loss: 0.4855 - val_accuracy: 0.7727\n",
      "Epoch 27/50\n",
      "29/29 [==============================] - 0s 3ms/step - loss: 0.5058 - accuracy: 0.7587 - val_loss: 0.4852 - val_accuracy: 0.7662\n",
      "Epoch 28/50\n",
      "29/29 [==============================] - 0s 4ms/step - loss: 0.5056 - accuracy: 0.7609 - val_loss: 0.4851 - val_accuracy: 0.7662\n",
      "Epoch 29/50\n",
      "29/29 [==============================] - 0s 4ms/step - loss: 0.5058 - accuracy: 0.7609 - val_loss: 0.4849 - val_accuracy: 0.7662\n",
      "Epoch 30/50\n",
      "29/29 [==============================] - 0s 3ms/step - loss: 0.5059 - accuracy: 0.7609 - val_loss: 0.4849 - val_accuracy: 0.7662\n",
      "Epoch 31/50\n",
      "29/29 [==============================] - 0s 3ms/step - loss: 0.5055 - accuracy: 0.7630 - val_loss: 0.4848 - val_accuracy: 0.7662\n",
      "Epoch 32/50\n",
      "29/29 [==============================] - 0s 4ms/step - loss: 0.5057 - accuracy: 0.7630 - val_loss: 0.4847 - val_accuracy: 0.7662\n",
      "Epoch 33/50\n",
      "29/29 [==============================] - 0s 3ms/step - loss: 0.5056 - accuracy: 0.7630 - val_loss: 0.4845 - val_accuracy: 0.7662\n",
      "Epoch 34/50\n",
      "29/29 [==============================] - 0s 3ms/step - loss: 0.5056 - accuracy: 0.7609 - val_loss: 0.4845 - val_accuracy: 0.7662\n",
      "Epoch 35/50\n",
      "29/29 [==============================] - 0s 3ms/step - loss: 0.5056 - accuracy: 0.7609 - val_loss: 0.4844 - val_accuracy: 0.7662\n",
      "Epoch 36/50\n",
      "29/29 [==============================] - 0s 3ms/step - loss: 0.5058 - accuracy: 0.7609 - val_loss: 0.4844 - val_accuracy: 0.7662\n",
      "Epoch 37/50\n",
      "29/29 [==============================] - 0s 3ms/step - loss: 0.5056 - accuracy: 0.7587 - val_loss: 0.4846 - val_accuracy: 0.7662\n",
      "Epoch 38/50\n",
      "29/29 [==============================] - 0s 3ms/step - loss: 0.5056 - accuracy: 0.7609 - val_loss: 0.4845 - val_accuracy: 0.7662\n",
      "Epoch 39/50\n",
      "29/29 [==============================] - 0s 3ms/step - loss: 0.5057 - accuracy: 0.7630 - val_loss: 0.4845 - val_accuracy: 0.7662\n",
      "Epoch 40/50\n",
      "29/29 [==============================] - 0s 4ms/step - loss: 0.5055 - accuracy: 0.7630 - val_loss: 0.4843 - val_accuracy: 0.7662\n",
      "Epoch 41/50\n",
      "29/29 [==============================] - 0s 4ms/step - loss: 0.5055 - accuracy: 0.7609 - val_loss: 0.4844 - val_accuracy: 0.7662\n",
      "Epoch 42/50\n",
      "29/29 [==============================] - 0s 3ms/step - loss: 0.5055 - accuracy: 0.7630 - val_loss: 0.4842 - val_accuracy: 0.7662\n",
      "Epoch 43/50\n",
      "29/29 [==============================] - 0s 3ms/step - loss: 0.5055 - accuracy: 0.7652 - val_loss: 0.4841 - val_accuracy: 0.7662\n",
      "Epoch 44/50\n",
      "29/29 [==============================] - 0s 4ms/step - loss: 0.5055 - accuracy: 0.7609 - val_loss: 0.4840 - val_accuracy: 0.7662\n",
      "Epoch 45/50\n",
      "29/29 [==============================] - 0s 4ms/step - loss: 0.5054 - accuracy: 0.7652 - val_loss: 0.4840 - val_accuracy: 0.7662\n",
      "Epoch 46/50\n",
      "29/29 [==============================] - 0s 4ms/step - loss: 0.5055 - accuracy: 0.7609 - val_loss: 0.4841 - val_accuracy: 0.7662\n",
      "Epoch 47/50\n",
      "29/29 [==============================] - 0s 3ms/step - loss: 0.5055 - accuracy: 0.7609 - val_loss: 0.4841 - val_accuracy: 0.7662\n",
      "Epoch 48/50\n",
      "29/29 [==============================] - 0s 3ms/step - loss: 0.5055 - accuracy: 0.7652 - val_loss: 0.4840 - val_accuracy: 0.7662\n",
      "Epoch 49/50\n",
      "29/29 [==============================] - 0s 3ms/step - loss: 0.5056 - accuracy: 0.7630 - val_loss: 0.4840 - val_accuracy: 0.7662\n",
      "Epoch 50/50\n",
      "29/29 [==============================] - 0s 3ms/step - loss: 0.5056 - accuracy: 0.7652 - val_loss: 0.4840 - val_accuracy: 0.7662\n"
     ]
    },
    {
     "data": {
      "image/png": "[encoded data removed]",
      "text/plain": [
       "<Figure size 576x1152 with 2 Axes>"
      ]
     },
     "metadata": {
      "needs_background": "light"
     },
     "output_type": "display_data"
    },
    {
     "name": "stdout",
     "output_type": "stream",
     "text": [
      "10/10 [==============================] - 0s 2ms/step - loss: 0.4644 - accuracy: 0.7987\n"
     ]
    },
    {
     "data": {
      "image/png": "[encoded data removed]",
      "text/plain": [
       "<Figure size 864x576 with 1 Axes>"
      ]
     },
     "metadata": {
      "needs_background": "light"
     },
     "output_type": "display_data"
    },
    {
     "name": "stdout",
     "output_type": "stream",
     "text": [
      "INFO:tensorflow:Assets written to: results/week1_session5_deep-learning/my_nn/assets\n"
     ]
    }
   ],
   "source": [
    "import tensorflow \n",
    "from tensorflow.keras import Input\n",
    "from tensorflow.keras.models import Sequential\n",
    "from tensorflow.keras.layers import Dense\n",
    "from tensorflow.keras.losses import BinaryCrossentropy\n",
    "from tensorflow.keras.optimizers import SGD\n",
    "\n",
    "from sklearn.model_selection import train_test_split\n",
    "from sklearn.preprocessing import StandardScaler\n",
    "from sklearn.metrics import roc_curve, auc\n",
    "\n",
    "import matplotlib.pyplot as plt\n",
    "\n",
    "\n",
    "## Data preparation\n",
    "# Data Splitting\n",
    "X_train, X_test, y_train, y_test = train_test_split(diabetes[['Glucose','BMI','Age']], \n",
    "                                                    diabetes['Outcome'], \n",
    "                                                    test_size=0.2)\n",
    "\n",
    "# Data transformation       \n",
    "scaler = StandardScaler()\n",
    "scaler.fit(X_train)\n",
    "X_train = scaler.transform(X_train)\n",
    "X_test = scaler.transform(X_test)\n",
    "\n",
    "\n",
    "\n",
    "## Model building\n",
    "model = Sequential()\n",
    "model.add(Input(shape=(3,)))\n",
    "model.add(Dense(1, activation='sigmoid'))\n",
    "\n",
    "## Model compilation\n",
    "# Loss function\n",
    "loss = BinaryCrossentropy()\n",
    "\n",
    "# Optimiser\n",
    "lr = 4e-2 \n",
    "optimiser = SGD(learning_rate=lr)\n",
    "\n",
    "model.compile(loss=loss,\n",
    "              optimizer=optimiser, \n",
    "              metrics=['accuracy'])\n",
    "\n",
    "## Model training\n",
    "epochs = 50\n",
    "batch_size = 16\n",
    "\n",
    "history = model.fit(x=X_train, y=y_train, \n",
    "                    validation_split=0.25,\n",
    "                    epochs=epochs,\n",
    "                    batch_size=batch_size)\n",
    "\n",
    "\n",
    "n_epochs = np.arange(0,epochs)\n",
    "\n",
    "fig, (ax1,ax2) = plt.subplots(2,1,figsize=(8,16))\n",
    "ax1.plot(n_epochs, history.history['loss'], label='training loss')\n",
    "ax1.plot(n_epochs, history.history['val_loss'], label='validation loss')\n",
    "ax1.set_ylim(-0.05,1.05)\n",
    "ax1.legend()\n",
    "\n",
    "ax2.plot(n_epochs, history.history['accuracy'], label='training accuracy')\n",
    "ax2.plot(n_epochs, history.history['val_accuracy'], label='validation accuracy')\n",
    "ax2.set_ylim(-0.05,1.05)\n",
    "ax2.legend()\n",
    "plt.show()\n",
    "\n",
    "## Prediciton\n",
    "y_pred = model.predict(X_test).ravel()\n",
    "\n",
    "## Model evaluation\n",
    "loss_and_metrics = model.evaluate(X_test, y_test, \n",
    "                                  batch_size=batch_size)\n",
    "\n",
    "fpr, tpr, thresholds_keras = roc_curve(y_test, y_pred)\n",
    "auc_keras = auc(fpr, tpr)\n",
    "\n",
    "fig, ax = plt.subplots(1,1,figsize=(12,8))\n",
    "ax.plot([0, 1], [0, 1], 'k--')\n",
    "ax.plot(fpr, tpr, label='Keras (area = {:.3f})'.format(auc_keras))\n",
    "ax.set_xlabel('False positive rate')\n",
    "ax.set_ylabel('True positive rate')\n",
    "ax.set_title('ROC curve')\n",
    "ax.legend(loc='best')\n",
    "\n",
    "plt.show()\n",
    "\n",
    "## Save model\n",
    "model.save('results/week1_session5_deep-learning/my_nn')"
   ]
  },
  {
   "cell_type": "markdown",
   "metadata": {},
   "source": [
    "## 6. Discussion"
   ]
  },
  {
   "cell_type": "markdown",
   "metadata": {},
   "source": [
    "In this notebook, the implementation of a neural network using the *Keras* library was introduced.\n",
    "The workflow to build and train a neural network was presented using a step-by-step introduction.\n",
    "- **Data Preparation:** We splitted the dataset and standardised the input features.\n",
    "- **Model Building:** We created a neural network using the Sequential model class and introduced dense and convolutional layers.\n",
    "- **Model compilaton:** We compiled a neural network and introduced different loss functions and optimisers.\n",
    "- **Model training:** We trained a neural network and visualised the training process.\n",
    "- **Model prediction and evaluation:** We used the trained network to predict the target variable and evaluated the network using different metrics.\n",
    "- **Save model:** We saved all model components in a single archive `SavedModel`"
   ]
  },
  {
   "cell_type": "markdown",
   "metadata": {},
   "source": [
    "## 7. Exercises"
   ]
  },
  {
   "cell_type": "markdown",
   "metadata": {},
   "source": [
    "Now that you know the basics to implement a neural network in *Keras*, it's time for you to get your hands dirty and get started.\n",
    "\n",
    "*Tip:* The following resources might be helpful:\n",
    "- www.stackoverflow.com\n",
    "- Keras documentation: https://keras.io/api/"
   ]
  },
  {
   "cell_type": "markdown",
   "metadata": {},
   "source": [
    "### 7.1 Fully-connected neural network (Basic)"
   ]
  },
  {
   "cell_type": "markdown",
   "metadata": {},
   "source": [
    "<ins>**Task:**</ins> Please **implement your own classifier to predict the outcome classes** in the diabetes dataset. <br>\n",
    "<ins>**Model:**</ins> Use a **fully-connected neural network** with at least 1 hidden layer.<br> (*Note:* Since this is still a binary classification task, please use 1 unit and the sigmoid activation in your output layer.)<br>\n",
    "<ins>**Data:**</ins> Use all available data features to predict the outcome class. Split the data into training, validation and test set using a split of 60-20-20.\n",
    "\n",
    "*Do your results look different from the ones in the example above?*"
   ]
  },
  {
   "cell_type": "markdown",
   "metadata": {},
   "source": [
    "#### Data preparation"
   ]
  },
  {
   "cell_type": "code",
   "execution_count": null,
   "metadata": {},
   "outputs": [],
   "source": [
    "### Data preparation ###\n",
    "# TO DO: Split and transform dataset\n",
    "\n",
    "\n"
   ]
  },
  {
   "cell_type": "markdown",
   "metadata": {},
   "source": [
    "#### Model building"
   ]
  },
  {
   "cell_type": "code",
   "execution_count": null,
   "metadata": {},
   "outputs": [],
   "source": [
    "### Model building ###\n",
    "model = Sequential()\n",
    "# TO DO: Create a neural network with at least 1 hidden layer\n",
    "\n",
    "\n",
    "\n",
    "model.summary()"
   ]
  },
  {
   "cell_type": "markdown",
   "metadata": {},
   "source": [
    "#### Model compilation"
   ]
  },
  {
   "cell_type": "code",
   "execution_count": null,
   "metadata": {},
   "outputs": [],
   "source": [
    "# TO DO: Define loss function and optimiser\n",
    "\n",
    "\n",
    "# TO DO: compile model\n",
    "\n",
    "\n"
   ]
  },
  {
   "cell_type": "markdown",
   "metadata": {},
   "source": [
    "#### Model training"
   ]
  },
  {
   "cell_type": "code",
   "execution_count": null,
   "metadata": {},
   "outputs": [],
   "source": [
    "# TO DO: Choose the training length and batch size\n",
    "\n",
    "history = # TO DO: Train your model (Don't forget validation_split)\n",
    "\n"
   ]
  },
  {
   "cell_type": "code",
   "execution_count": null,
   "metadata": {},
   "outputs": [],
   "source": [
    "n_epochs = np.arange(0,epochs)\n",
    "\n",
    "fig, (ax1,ax2) = plt.subplots(2,1,figsize=(8,16))\n",
    "ax1.plot(n_epochs, history.history['loss'], label='training loss')\n",
    "ax1.plot(n_epochs, history.history['val_loss'], label='validation loss')\n",
    "ax1.set_ylim(-0.05,1.05)\n",
    "ax1.legend()\n",
    "\n",
    "ax2.plot(n_epochs, history.history['accuracy'], label='training accuracy')\n",
    "ax2.plot(n_epochs, history.history['val_accuracy'], label='validation accuracy')\n",
    "ax2.set_ylim(-0.05,1.05)\n",
    "ax2.legend()\n",
    "plt.show()"
   ]
  },
  {
   "cell_type": "markdown",
   "metadata": {},
   "source": [
    "#### Model evaluation"
   ]
  },
  {
   "cell_type": "code",
   "execution_count": null,
   "metadata": {},
   "outputs": [],
   "source": [
    "# TO DO: Calculate test loss and accurcy"
   ]
  },
  {
   "cell_type": "code",
   "execution_count": null,
   "metadata": {},
   "outputs": [],
   "source": []
  },
  {
   "cell_type": "code",
   "execution_count": null,
   "metadata": {},
   "outputs": [],
   "source": []
  },
  {
   "cell_type": "markdown",
   "metadata": {},
   "source": [
    "### 7.2 Convolutional neural network (Advanced)"
   ]
  },
  {
   "cell_type": "markdown",
   "metadata": {},
   "source": [
    "The second task is to implement a multi-class image classifier for the famous MNIST dataset. This dataset contains 70,000 (28*28 pixel) images of digits 0-9.\n",
    "\n",
    "<img src=\"https://upload.wikimedia.org/wikipedia/commons/2/27/MnistExamples.png\" width=\"40%\">\n",
    "\n",
    "*Source: https://upload.wikimedia.org/wikipedia/commons/2/27/MnistExamples.png*\n",
    "\n",
    "\n",
    "<ins>**Task:**</ins> Please **implement your own multi-class image classifier to predict the outcome classes** in the diabetes dataset. <br>\n",
    "<ins>**Model:**</ins> Use a **convolutional neural network** with at least 1 hidden convolutional layer.<br> (*Note:* Since this is still a multi-class classification task, please use 10 units and the softmax activation in your output layer.)<br>\n",
    "<ins>**Data:**</ins> Use the 28*28 pixel images to predict the digit class.\n"
   ]
  },
  {
   "cell_type": "markdown",
   "metadata": {},
   "source": [
    "#### Data preparation"
   ]
  },
  {
   "cell_type": "markdown",
   "metadata": {},
   "source": [
    "Before we can use the MNIST data to predict the class labels, we have to **split** the dataset, **normalise** (transform range from 0-255 to 0-1) and reshape the data and **one-hot encode** the target. The data preparation step is already done for you, just execute the following cell and check the data."
   ]
  },
  {
   "cell_type": "code",
   "execution_count": null,
   "metadata": {},
   "outputs": [],
   "source": [
    "# Import the MNIST dataset\n",
    "from tensorflow.keras.datasets import mnist\n",
    "from tensorflow.keras.utils import to_categorical\n",
    "\n",
    "# Load MNIST images and labels and normalise (range 0 to 1) image data\n",
    "(X_train, y_train), (X_test, y_test) = mnist.load_data() # 60,000 training + 10,000 test images/labels\n",
    "X_train = X_train / 255.0\n",
    "X_test  = X_test / 255.0\n",
    "\n",
    "# Reshape dataset to have a single channel \n",
    "X_train = X_train.reshape((X_train.shape[0], 28, 28, 1)) # The CNN requires this layout (batch_size, height, width, n_channels)\n",
    "X_test = X_test.reshape((X_test.shape[0], 28, 28, 1)) # The CNN requires this layout (batch_size, height, width, n_channels)\n",
    "\n",
    "# One-hot encode target values\n",
    "y_train = to_categorical(y_train)\n",
    "y_test = to_categorical(y_test)"
   ]
  },
  {
   "cell_type": "markdown",
   "metadata": {},
   "source": [
    "Let's have a look at the image data..."
   ]
  },
  {
   "cell_type": "code",
   "execution_count": null,
   "metadata": {
    "scrolled": true
   },
   "outputs": [],
   "source": [
    "fig, (ax1,ax2,ax3,ax4) = plt.subplots(1,4, figsize=(12,4))\n",
    "ax1.imshow(X_train[0,:,:,0])\n",
    "ax2.imshow(X_train[1,:,:,0])\n",
    "ax3.imshow(X_train[2,:,:,0])\n",
    "ax4.imshow(X_train[3,:,:,0]);"
   ]
  },
  {
   "cell_type": "markdown",
   "metadata": {},
   "source": [
    "and the one-hot encoded target variable."
   ]
  },
  {
   "cell_type": "code",
   "execution_count": null,
   "metadata": {},
   "outputs": [],
   "source": [
    "y_train[:4]"
   ]
  },
  {
   "cell_type": "markdown",
   "metadata": {},
   "source": [
    "Instead of the categorical class values, we now have a vector of length equal to the number of categories. The i-th component is equal to 1 if target is assigned to the i-th category and all other components are 0. By using this transformation, we transform the categorical variable into a numerical form."
   ]
  },
  {
   "cell_type": "markdown",
   "metadata": {},
   "source": [
    "#### Model building"
   ]
  },
  {
   "cell_type": "markdown",
   "metadata": {},
   "source": [
    "Now, it's time to implement your convolutional neural network. The last layers of the network are fully-connected layers with 256 units and ReLu activation function as well as a fully-connected output layer with 10 units and softmax activation function, since we have a classification task with 10 classes."
   ]
  },
  {
   "cell_type": "code",
   "execution_count": null,
   "metadata": {},
   "outputs": [],
   "source": [
    "from tensorflow.keras.layers import Conv2D, Flatten\n",
    "\n",
    "model = Sequential()\n",
    "model.add(Input(shape=(28,28,1)))\n",
    "# TO DO: Add at least 1 convolutional layer\n",
    "\n",
    "model.add(Flatten()) # This flattens your image with width and height into a vector of length widht*height. \n",
    "model.add(Dense(256, activation='relu')) \n",
    "model.add(Dense(10, activation='softmax')) \n",
    "\n",
    "model.summary()"
   ]
  },
  {
   "cell_type": "markdown",
   "metadata": {},
   "source": [
    "#### Model compilation"
   ]
  },
  {
   "cell_type": "code",
   "execution_count": null,
   "metadata": {},
   "outputs": [],
   "source": [
    "from tensorflow.keras.losses import CategoricalCrossentropy\n",
    "\n",
    "loss = CategoricalCrossentropy()\n",
    "# TO DO: Define loss function\n",
    "\n",
    "# TO DO: Compile your model"
   ]
  },
  {
   "cell_type": "markdown",
   "metadata": {},
   "source": [
    "#### Model training"
   ]
  },
  {
   "cell_type": "markdown",
   "metadata": {},
   "source": [
    "Please train your model for 2 epochs using a batch size of 512. To validate your model, use `validation_split = 0.1`."
   ]
  },
  {
   "cell_type": "code",
   "execution_count": null,
   "metadata": {},
   "outputs": [],
   "source": [
    "# Define number of epochs and batch size\n",
    "epochs = 2\n",
    "batch_size = 512\n",
    "\n",
    "history = # TO DO: Train your model (Don't forget validation_split!)\n"
   ]
  },
  {
   "cell_type": "code",
   "execution_count": null,
   "metadata": {},
   "outputs": [],
   "source": [
    "n_epochs = np.arange(0,20)\n",
    "\n",
    "fig, (ax1,ax2) = plt.subplots(2,1,figsize=(8,16))\n",
    "ax1.plot(n_epochs, history.history['loss'], label='training loss')\n",
    "ax1.plot(n_epochs, history.history['val_loss'], label='validation loss')\n",
    "ax1.set_ylim(-0.05,1.05)\n",
    "ax1.legend()\n",
    "\n",
    "ax2.plot(n_epochs, history.history['accuracy'], label='training accuracy')\n",
    "ax2.plot(n_epochs, history.history['val_accuracy'], label='validation accuracy')\n",
    "ax2.set_ylim(-0.05,1.05)\n",
    "ax2.legend()\n",
    "\n",
    "plt.show()"
   ]
  },
  {
   "cell_type": "markdown",
   "metadata": {},
   "source": [
    "#### Model evaluation"
   ]
  },
  {
   "cell_type": "code",
   "execution_count": null,
   "metadata": {},
   "outputs": [],
   "source": [
    "# TO DO: Calculate test loss and accurcy"
   ]
  },
  {
   "cell_type": "code",
   "execution_count": null,
   "metadata": {},
   "outputs": [],
   "source": []
  },
  {
   "cell_type": "markdown",
   "metadata": {},
   "source": [
    "## 8. Solutions"
   ]
  },
  {
   "cell_type": "markdown",
   "metadata": {},
   "source": [
    "### 1) Fully-connected neural network"
   ]
  },
  {
   "cell_type": "markdown",
   "metadata": {},
   "source": [
    "<ins>**Task:**</ins> Please **implement your own classifier to predict the outcome classes** in the diabetes dataset. <br>\n",
    "<ins>**Model:**</ins> Use a **fully-connected neural network** with at least 1 hidden layer.<br> (*Note:* Since this is still a binary classification task, please use 1 unit and the sigmoid activation in your output layer.)<br>\n",
    "<ins>**Data:**</ins> Use all available data features to predict the outcome class. Split the data into training, validation and test set using a split of 60-20-20.\n",
    "\n",
    "The following solution consider a fully-connected neural network with the following architecture:\n",
    "- <ins>input layer</ins> with 8 units,\n",
    "- <ins>1st hidden layer</ins> with **6 units** and **ReLu** activations,\n",
    "- <ins>2nd hidden layer</ins> with **6 units** and **tanh** activations,\n",
    "- <ins>3rd hidden layer</ins> with **4 units** and **tanh** activations,\n",
    "- <ins>output layer</ins> with **1 unit** and **sigmoid** activation."
   ]
  },
  {
   "cell_type": "markdown",
   "metadata": {},
   "source": [
    "**Data preparation**"
   ]
  },
  {
   "cell_type": "code",
   "execution_count": 75,
   "metadata": {},
   "outputs": [],
   "source": [
    "# Data Splitting\n",
    "X_train, X_test, y_train, y_test = train_test_split(diabetes.iloc[:,:-1], \n",
    "                                                    diabetes['Outcome'], \n",
    "                                                    test_size=0.2)\n",
    "\n",
    "# Data transformation       \n",
    "scaler = StandardScaler()\n",
    "scaler.fit(X_train)\n",
    "X_train = scaler.transform(X_train)\n",
    "X_test = scaler.transform(X_test)"
   ]
  },
  {
   "cell_type": "markdown",
   "metadata": {},
   "source": [
    "**Model building**"
   ]
  },
  {
   "cell_type": "code",
   "execution_count": 76,
   "metadata": {},
   "outputs": [
    {
     "name": "stdout",
     "output_type": "stream",
     "text": [
      "Model: \"sequential_14\"\n",
      "_________________________________________________________________\n",
      "Layer (type)                 Output Shape              Param #   \n",
      "=================================================================\n",
      "dense_53 (Dense)             (None, 6)                 54        \n",
      "_________________________________________________________________\n",
      "dense_54 (Dense)             (None, 6)                 42        \n",
      "_________________________________________________________________\n",
      "dense_55 (Dense)             (None, 6)                 42        \n",
      "_________________________________________________________________\n",
      "dense_56 (Dense)             (None, 1)                 7         \n",
      "=================================================================\n",
      "Total params: 145\n",
      "Trainable params: 145\n",
      "Non-trainable params: 0\n",
      "_________________________________________________________________\n"
     ]
    }
   ],
   "source": [
    "## Model building\n",
    "model = Sequential()\n",
    "model.add(Input(shape=(8,)))\n",
    "model.add(Dense(6, activation='relu'))\n",
    "model.add(Dense(6, activation='tanh'))\n",
    "model.add(Dense(6, activation='tanh'))\n",
    "model.add(Dense(1, activation='sigmoid'))\n",
    "\n",
    "model.summary()"
   ]
  },
  {
   "cell_type": "markdown",
   "metadata": {},
   "source": [
    "**Model compilation**"
   ]
  },
  {
   "cell_type": "code",
   "execution_count": 77,
   "metadata": {},
   "outputs": [],
   "source": [
    "from tensorflow.keras.optimizers import Adam\n",
    "\n",
    "# Loss function\n",
    "loss = BinaryCrossentropy()\n",
    "\n",
    "# Optimiser\n",
    "lr = 1e-3\n",
    "#optimiser = SGD(learning_rate=lr)\n",
    "optimiser = Adam(learning_rate=lr)\n",
    "\n",
    "model.compile(loss=loss,\n",
    "              optimizer=optimiser, \n",
    "              metrics=['accuracy'])"
   ]
  },
  {
   "cell_type": "markdown",
   "metadata": {},
   "source": [
    "**Model training**"
   ]
  },
  {
   "cell_type": "code",
   "execution_count": 78,
   "metadata": {},
   "outputs": [
    {
     "name": "stdout",
     "output_type": "stream",
     "text": [
      "Train on 460 samples, validate on 154 samples\n",
      "Epoch 1/50\n",
      "460/460 [==============================] - 0s 492us/sample - loss: 0.6704 - accuracy: 0.5957 - val_loss: 0.6436 - val_accuracy: 0.6558\n",
      "Epoch 2/50\n",
      "460/460 [==============================] - 0s 80us/sample - loss: 0.6479 - accuracy: 0.6413 - val_loss: 0.6229 - val_accuracy: 0.6948\n",
      "Epoch 3/50\n",
      "460/460 [==============================] - 0s 81us/sample - loss: 0.6341 - accuracy: 0.6435 - val_loss: 0.6090 - val_accuracy: 0.7078\n",
      "Epoch 4/50\n",
      "460/460 [==============================] - 0s 79us/sample - loss: 0.6232 - accuracy: 0.6435 - val_loss: 0.5988 - val_accuracy: 0.7078\n",
      "Epoch 5/50\n",
      "460/460 [==============================] - 0s 77us/sample - loss: 0.6126 - accuracy: 0.6435 - val_loss: 0.5910 - val_accuracy: 0.7143\n",
      "Epoch 6/50\n",
      "460/460 [==============================] - 0s 74us/sample - loss: 0.6011 - accuracy: 0.6522 - val_loss: 0.5814 - val_accuracy: 0.7143\n",
      "Epoch 7/50\n",
      "460/460 [==============================] - 0s 76us/sample - loss: 0.5889 - accuracy: 0.6565 - val_loss: 0.5716 - val_accuracy: 0.7078\n",
      "Epoch 8/50\n",
      "460/460 [==============================] - 0s 87us/sample - loss: 0.5752 - accuracy: 0.6696 - val_loss: 0.5613 - val_accuracy: 0.7078\n",
      "Epoch 9/50\n",
      "460/460 [==============================] - 0s 88us/sample - loss: 0.5599 - accuracy: 0.6783 - val_loss: 0.5488 - val_accuracy: 0.7208\n",
      "Epoch 10/50\n",
      "460/460 [==============================] - 0s 87us/sample - loss: 0.5457 - accuracy: 0.7000 - val_loss: 0.5380 - val_accuracy: 0.7403\n",
      "Epoch 11/50\n",
      "460/460 [==============================] - 0s 81us/sample - loss: 0.5325 - accuracy: 0.7326 - val_loss: 0.5260 - val_accuracy: 0.7662\n",
      "Epoch 12/50\n",
      "460/460 [==============================] - 0s 88us/sample - loss: 0.5177 - accuracy: 0.7413 - val_loss: 0.5172 - val_accuracy: 0.7597\n",
      "Epoch 13/50\n",
      "460/460 [==============================] - 0s 93us/sample - loss: 0.5055 - accuracy: 0.7457 - val_loss: 0.5076 - val_accuracy: 0.7662\n",
      "Epoch 14/50\n",
      "460/460 [==============================] - 0s 92us/sample - loss: 0.4956 - accuracy: 0.7587 - val_loss: 0.4994 - val_accuracy: 0.7662\n",
      "Epoch 15/50\n",
      "460/460 [==============================] - 0s 84us/sample - loss: 0.4860 - accuracy: 0.7565 - val_loss: 0.4937 - val_accuracy: 0.7597\n",
      "Epoch 16/50\n",
      "460/460 [==============================] - 0s 95us/sample - loss: 0.4789 - accuracy: 0.7609 - val_loss: 0.4883 - val_accuracy: 0.7662\n",
      "Epoch 17/50\n",
      "460/460 [==============================] - 0s 93us/sample - loss: 0.4717 - accuracy: 0.7652 - val_loss: 0.4828 - val_accuracy: 0.7662\n",
      "Epoch 18/50\n",
      "460/460 [==============================] - 0s 85us/sample - loss: 0.4658 - accuracy: 0.7696 - val_loss: 0.4789 - val_accuracy: 0.7662\n",
      "Epoch 19/50\n",
      "460/460 [==============================] - 0s 89us/sample - loss: 0.4618 - accuracy: 0.7674 - val_loss: 0.4768 - val_accuracy: 0.7792\n",
      "Epoch 20/50\n",
      "460/460 [==============================] - 0s 84us/sample - loss: 0.4572 - accuracy: 0.7696 - val_loss: 0.4743 - val_accuracy: 0.7792\n",
      "Epoch 21/50\n",
      "460/460 [==============================] - 0s 90us/sample - loss: 0.4540 - accuracy: 0.7696 - val_loss: 0.4729 - val_accuracy: 0.7922\n",
      "Epoch 22/50\n",
      "460/460 [==============================] - 0s 94us/sample - loss: 0.4508 - accuracy: 0.7739 - val_loss: 0.4708 - val_accuracy: 0.7987\n",
      "Epoch 23/50\n",
      "460/460 [==============================] - 0s 93us/sample - loss: 0.4479 - accuracy: 0.7696 - val_loss: 0.4694 - val_accuracy: 0.7987\n",
      "Epoch 24/50\n",
      "460/460 [==============================] - 0s 84us/sample - loss: 0.4463 - accuracy: 0.7696 - val_loss: 0.4687 - val_accuracy: 0.7922\n",
      "Epoch 25/50\n",
      "460/460 [==============================] - 0s 100us/sample - loss: 0.4435 - accuracy: 0.7674 - val_loss: 0.4667 - val_accuracy: 0.7922\n",
      "Epoch 26/50\n",
      "460/460 [==============================] - 0s 94us/sample - loss: 0.4413 - accuracy: 0.7696 - val_loss: 0.4662 - val_accuracy: 0.7857\n",
      "Epoch 27/50\n",
      "460/460 [==============================] - 0s 88us/sample - loss: 0.4399 - accuracy: 0.7761 - val_loss: 0.4666 - val_accuracy: 0.7857\n",
      "Epoch 28/50\n",
      "460/460 [==============================] - 0s 91us/sample - loss: 0.4380 - accuracy: 0.7717 - val_loss: 0.4655 - val_accuracy: 0.7857\n",
      "Epoch 29/50\n",
      "460/460 [==============================] - 0s 88us/sample - loss: 0.4368 - accuracy: 0.7761 - val_loss: 0.4656 - val_accuracy: 0.7857\n",
      "Epoch 30/50\n",
      "460/460 [==============================] - 0s 98us/sample - loss: 0.4350 - accuracy: 0.7783 - val_loss: 0.4650 - val_accuracy: 0.7857\n",
      "Epoch 31/50\n",
      "460/460 [==============================] - 0s 91us/sample - loss: 0.4339 - accuracy: 0.7848 - val_loss: 0.4649 - val_accuracy: 0.7857\n",
      "Epoch 32/50\n",
      "460/460 [==============================] - 0s 83us/sample - loss: 0.4326 - accuracy: 0.7848 - val_loss: 0.4664 - val_accuracy: 0.7857\n",
      "Epoch 33/50\n",
      "460/460 [==============================] - 0s 86us/sample - loss: 0.4312 - accuracy: 0.7826 - val_loss: 0.4651 - val_accuracy: 0.7922\n",
      "Epoch 34/50\n",
      "460/460 [==============================] - 0s 84us/sample - loss: 0.4297 - accuracy: 0.7848 - val_loss: 0.4658 - val_accuracy: 0.7857\n",
      "Epoch 35/50\n",
      "460/460 [==============================] - 0s 95us/sample - loss: 0.4287 - accuracy: 0.7935 - val_loss: 0.4651 - val_accuracy: 0.7922\n",
      "Epoch 36/50\n",
      "460/460 [==============================] - 0s 92us/sample - loss: 0.4280 - accuracy: 0.7870 - val_loss: 0.4658 - val_accuracy: 0.7922\n",
      "Epoch 37/50\n",
      "460/460 [==============================] - 0s 89us/sample - loss: 0.4268 - accuracy: 0.7848 - val_loss: 0.4655 - val_accuracy: 0.7922\n",
      "Epoch 38/50\n",
      "460/460 [==============================] - 0s 75us/sample - loss: 0.4264 - accuracy: 0.7848 - val_loss: 0.4668 - val_accuracy: 0.7922\n",
      "Epoch 39/50\n",
      "460/460 [==============================] - 0s 71us/sample - loss: 0.4262 - accuracy: 0.7804 - val_loss: 0.4657 - val_accuracy: 0.7922\n",
      "Epoch 40/50\n",
      "460/460 [==============================] - 0s 76us/sample - loss: 0.4245 - accuracy: 0.7848 - val_loss: 0.4660 - val_accuracy: 0.7922\n",
      "Epoch 41/50\n",
      "460/460 [==============================] - 0s 77us/sample - loss: 0.4233 - accuracy: 0.7826 - val_loss: 0.4675 - val_accuracy: 0.7922\n",
      "Epoch 42/50\n",
      "460/460 [==============================] - 0s 73us/sample - loss: 0.4236 - accuracy: 0.7891 - val_loss: 0.4662 - val_accuracy: 0.7987\n",
      "Epoch 43/50\n",
      "460/460 [==============================] - 0s 72us/sample - loss: 0.4221 - accuracy: 0.7848 - val_loss: 0.4661 - val_accuracy: 0.7922\n",
      "Epoch 44/50\n",
      "460/460 [==============================] - 0s 76us/sample - loss: 0.4205 - accuracy: 0.7848 - val_loss: 0.4674 - val_accuracy: 0.7922\n",
      "Epoch 45/50\n",
      "460/460 [==============================] - 0s 74us/sample - loss: 0.4204 - accuracy: 0.7804 - val_loss: 0.4680 - val_accuracy: 0.7922\n",
      "Epoch 46/50\n",
      "460/460 [==============================] - 0s 74us/sample - loss: 0.4191 - accuracy: 0.7870 - val_loss: 0.4671 - val_accuracy: 0.7857\n",
      "Epoch 47/50\n",
      "460/460 [==============================] - 0s 75us/sample - loss: 0.4184 - accuracy: 0.7804 - val_loss: 0.4673 - val_accuracy: 0.7922\n",
      "Epoch 48/50\n",
      "460/460 [==============================] - 0s 74us/sample - loss: 0.4184 - accuracy: 0.7891 - val_loss: 0.4679 - val_accuracy: 0.7922\n",
      "Epoch 49/50\n",
      "460/460 [==============================] - 0s 78us/sample - loss: 0.4171 - accuracy: 0.7761 - val_loss: 0.4669 - val_accuracy: 0.7922\n",
      "Epoch 50/50\n",
      "460/460 [==============================] - 0s 75us/sample - loss: 0.4165 - accuracy: 0.7783 - val_loss: 0.4683 - val_accuracy: 0.7922\n"
     ]
    },
    {
     "data": {
      "image/png": "[encoded data removed]",
      "text/plain": [
       "<Figure size 576x1152 with 2 Axes>"
      ]
     },
     "metadata": {
      "needs_background": "light"
     },
     "output_type": "display_data"
    }
   ],
   "source": [
    "## Model training\n",
    "epochs = 50\n",
    "batch_size = 16\n",
    "\n",
    "history = model.fit(x=X_train, y=y_train, \n",
    "                    validation_split=0.25,\n",
    "                    epochs=epochs,\n",
    "                    batch_size=batch_size)\n",
    "\n",
    "\n",
    "n_epochs = np.arange(0,epochs)\n",
    "\n",
    "fig, (ax1,ax2) = plt.subplots(2,1,figsize=(8,16))\n",
    "ax1.plot(n_epochs, history.history['loss'], label='training loss')\n",
    "ax1.plot(n_epochs, history.history['val_loss'], label='validation loss')\n",
    "ax1.set_ylim(-0.05,1.05)\n",
    "ax1.legend()\n",
    "\n",
    "ax2.plot(n_epochs, history.history['accuracy'], label='training accuracy')\n",
    "ax2.plot(n_epochs, history.history['val_accuracy'], label='validation accuracy')\n",
    "ax2.set_ylim(-0.05,1.05)\n",
    "ax2.legend()\n",
    "plt.show()"
   ]
  },
  {
   "cell_type": "markdown",
   "metadata": {},
   "source": [
    "**Model evaluation**"
   ]
  },
  {
   "cell_type": "code",
   "execution_count": 79,
   "metadata": {},
   "outputs": [
    {
     "name": "stdout",
     "output_type": "stream",
     "text": [
      "154/154 [==============================] - 0s 50us/sample - loss: 0.5479 - accuracy: 0.7273\n"
     ]
    }
   ],
   "source": [
    "loss_and_metrics = model.evaluate(X_test, y_test, \n",
    "                                  batch_size=batch_size)"
   ]
  },
  {
   "cell_type": "markdown",
   "metadata": {},
   "source": [
    "### 2) Convolutional Neural Network"
   ]
  },
  {
   "cell_type": "markdown",
   "metadata": {},
   "source": [
    "<ins>**Task:**</ins> Please **implement your own multi-class image classifier to predict the outcome classes** in the diabetes dataset. <br>\n",
    "<ins>**Model:**</ins> Use a **convolutional neural network** with at least 1 hidden convolutional layer.<br> (*Note:* Since this is still a multi-class classification task, please use 10 units and the softmax activation in your output layer.)<br>\n",
    "<ins>**Data:**</ins> Use the 28*28 pixel images to predict the digit class."
   ]
  },
  {
   "cell_type": "markdown",
   "metadata": {},
   "source": [
    "The following solution consider a convolutional neural network with the following architecture:\n",
    "- <ins>input</ins> shape $28 \\times 28 \\times 1$,\n",
    "- <ins>1st hidden (convolutional) layer</ins> with **32 filters**, **kernel size (5,5)**, **stride (1,1)** and **ReLu** activations,\n",
    "- <ins>2nd hidden (convolutional) layer</ins> with **64 filters**, **kernel size (5,5)**, **stride (1,1)** and **ReLu** activations,\n",
    "- <ins>3rd hidden (convolutional) layer</ins> with **256 filters**, **kernel size (3,3)**, **stride (1,1)** and **tanh** activations,\n",
    "- <ins>4th hidden (fully-connected) layer</ins> with **256 units** and **ReLu** activations.\n",
    "- <ins>output layer</ins> with **10 units** and **softmax** activation."
   ]
  },
  {
   "cell_type": "markdown",
   "metadata": {},
   "source": [
    "**Data Preparation**"
   ]
  },
  {
   "cell_type": "code",
   "execution_count": 102,
   "metadata": {},
   "outputs": [],
   "source": [
    "# Import the MNIST dataset\n",
    "from tensorflow.keras.datasets import mnist\n",
    "from tensorflow.keras.utils import to_categorical\n",
    "\n",
    "# Load MNIST images and labels and normalise (range 0 to 1) image data\n",
    "(X_train, y_train), (X_test, y_test) = mnist.load_data() # 60,000 training + 10,000 test images/labels\n",
    "X_train = X_train / 255.0\n",
    "X_test  = X_test / 255.0\n",
    "\n",
    "# Reshape dataset to have a single channel \n",
    "X_train = X_train.reshape((X_train.shape[0], 28, 28, 1)) # The CNN requires this layout (batch_size, height, width, n_channels)\n",
    "X_test = X_test.reshape((X_test.shape[0], 28, 28, 1)) # The CNN requires this layout (batch_size, height, width, n_channels)\n",
    "\n",
    "# One-hot encode target values\n",
    "y_train = to_categorical(y_train)\n",
    "y_test = to_categorical(y_test)"
   ]
  },
  {
   "cell_type": "markdown",
   "metadata": {},
   "source": [
    "**Model building**"
   ]
  },
  {
   "cell_type": "code",
   "execution_count": 103,
   "metadata": {},
   "outputs": [
    {
     "name": "stdout",
     "output_type": "stream",
     "text": [
      "Model: \"sequential_21\"\n",
      "_________________________________________________________________\n",
      "Layer (type)                 Output Shape              Param #   \n",
      "=================================================================\n",
      "conv2d_15 (Conv2D)           (None, 24, 24, 32)        832       \n",
      "_________________________________________________________________\n",
      "conv2d_16 (Conv2D)           (None, 20, 20, 64)        51264     \n",
      "_________________________________________________________________\n",
      "conv2d_17 (Conv2D)           (None, 16, 16, 256)       409856    \n",
      "_________________________________________________________________\n",
      "flatten_5 (Flatten)          (None, 65536)             0         \n",
      "_________________________________________________________________\n",
      "dense_67 (Dense)             (None, 256)               16777472  \n",
      "_________________________________________________________________\n",
      "dense_68 (Dense)             (None, 10)                2570      \n",
      "=================================================================\n",
      "Total params: 17,241,994\n",
      "Trainable params: 17,241,994\n",
      "Non-trainable params: 0\n",
      "_________________________________________________________________\n"
     ]
    }
   ],
   "source": [
    "from tensorflow.keras.layers import Conv2D, Flatten\n",
    "\n",
    "model = Sequential()\n",
    "model.add(Input(shape=(28,28,1)))\n",
    "model.add(Conv2D(32, kernel_size=(5,5), strides=(1,1), activation='relu'))\n",
    "model.add(Conv2D(64, kernel_size=(5,5), strides=(1,1), activation='relu'))\n",
    "model.add(Conv2D(256, kernel_size=(5,5), strides=(1,1), activation='relu'))\n",
    "model.add(Flatten()) # This flattens your image with width and height into a vector of length widht*height. \n",
    "model.add(Dense(256, activation='relu')) \n",
    "model.add(Dense(10, activation='softmax')) \n",
    "\n",
    "model.summary()"
   ]
  },
  {
   "cell_type": "markdown",
   "metadata": {},
   "source": [
    "**Model compilation**"
   ]
  },
  {
   "cell_type": "code",
   "execution_count": 104,
   "metadata": {},
   "outputs": [],
   "source": [
    "from tensorflow.keras.losses import CategoricalCrossentropy\n",
    "\n",
    "# Loss function\n",
    "loss = CategoricalCrossentropy()\n",
    "\n",
    "# Optimiser\n",
    "lr = 1e-3\n",
    "#optimiser = SGD(learning_rate=lr)\n",
    "optimiser = Adam(learning_rate=lr)\n",
    "\n",
    "model.compile(loss=loss,\n",
    "              optimizer=optimiser, \n",
    "              metrics=['accuracy'])"
   ]
  },
  {
   "cell_type": "markdown",
   "metadata": {},
   "source": [
    "**Model training**"
   ]
  },
  {
   "cell_type": "code",
   "execution_count": 105,
   "metadata": {},
   "outputs": [
    {
     "name": "stdout",
     "output_type": "stream",
     "text": [
      "Train on 54000 samples, validate on 6000 samples\n",
      "Epoch 1/2\n",
      "54000/54000 [==============================] - 261s 5ms/sample - loss: 0.2311 - accuracy: 0.9284 - val_loss: 0.0534 - val_accuracy: 0.9845\n",
      "Epoch 2/2\n",
      "54000/54000 [==============================] - 266s 5ms/sample - loss: 0.0413 - accuracy: 0.9874 - val_loss: 0.0382 - val_accuracy: 0.9892\n"
     ]
    },
    {
     "data": {
      "image/png": "[encoded data removed]",
      "text/plain": [
       "<Figure size 576x1152 with 2 Axes>"
      ]
     },
     "metadata": {
      "needs_background": "light"
     },
     "output_type": "display_data"
    }
   ],
   "source": [
    "# Define number of epochs and batch size\n",
    "epochs = 2\n",
    "batch_size = 512\n",
    "\n",
    "history = model.fit(x=X_train, y=y_train, \n",
    "                    validation_split=0.1,\n",
    "                    epochs=epochs,\n",
    "                    batch_size=batch_size)\n",
    "\n",
    "\n",
    "n_epochs = np.arange(0,epochs)\n",
    "\n",
    "fig, (ax1,ax2) = plt.subplots(2,1,figsize=(8,16))\n",
    "ax1.plot(n_epochs, history.history['loss'], label='training loss')\n",
    "ax1.plot(n_epochs, history.history['val_loss'], label='validation loss')\n",
    "ax1.set_ylim(-0.05,1.05)\n",
    "ax1.legend()\n",
    "\n",
    "ax2.plot(n_epochs, history.history['accuracy'], label='training accuracy')\n",
    "ax2.plot(n_epochs, history.history['val_accuracy'], label='validation accuracy')\n",
    "ax2.set_ylim(-0.05,1.05)\n",
    "ax2.legend()\n",
    "plt.show()"
   ]
  },
  {
   "cell_type": "markdown",
   "metadata": {},
   "source": [
    "**Model evaluation**"
   ]
  },
  {
   "cell_type": "code",
   "execution_count": 106,
   "metadata": {},
   "outputs": [
    {
     "name": "stdout",
     "output_type": "stream",
     "text": [
      "10000/10000 [==============================] - 9s 926us/sample - loss: 0.0335 - accuracy: 0.9908\n"
     ]
    }
   ],
   "source": [
    "loss_and_metrics = model.evaluate(X_test, y_test, \n",
    "                                  batch_size=batch_size)"
   ]
  }
 ],
 "metadata": {
  "kernelspec": {
   "display_name": "Python 3",
   "language": "python",
   "name": "python3"
  },
  "language_info": {
   "codemirror_mode": {
    "name": "ipython",
    "version": 3
   },
   "file_extension": ".py",
   "mimetype": "text/x-python",
   "name": "python",
   "nbconvert_exporter": "python",
   "pygments_lexer": "ipython3",
   "version": "3.8.3"
  }
 },
 "nbformat": 4,
 "nbformat_minor": 4
}
