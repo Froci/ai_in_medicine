{
 "cells": [
  {
   "cell_type": "markdown",
   "metadata": {},
   "source": [
    "# AI in Medicine: Data Science - Basics IV"
   ]
  },
  {
   "cell_type": "markdown",
   "metadata": {},
   "source": [
    "*Instructor:* Moritz Seiler, AG Ritter, Charité - Universitätsmedizin Berlin (moritz.seiler@charite.de) <br>\n",
    "*Target audience:* Medical students from Charité<br>\n",
    "*Course date:* July 2020"
   ]
  },
  {
   "cell_type": "markdown",
   "metadata": {},
   "source": [
    "This notebook introduces **deep learning** in Python with ***Keras***. This tutorial is meant to be an **introduction to the *Keras* library** and **<ins>not</ins> a deep dive into the theory** surrounding deep learning. The goal of this session is that you will be able to implement your own network in Python."
   ]
  },
  {
   "cell_type": "markdown",
   "metadata": {},
   "source": [
    "**First, please make sure, that you're using the Python 3/3.6 kernel!** You can check that in the top right corner of your browser window. If you're using a different Version, go to the Tab 'Kernel' --> 'Change Kernel' and select the correct kernel."
   ]
  },
  {
   "cell_type": "markdown",
   "metadata": {},
   "source": [
    "***Deep Learning Playground***\n",
    "\n",
    "***Data set***\n",
    "\n",
    "***Keras***\n",
    "- Introduction\n",
    "- Workflow\n",
    "    - Prepare data\n",
    "    - Build model\n",
    "    - Compile model\n",
    "    - Fit model\n",
    "    - Predict\n",
    "    - Evaluate model\n",
    "    - Save model\n",
    "    \n",
    "***Exercises***"
   ]
  },
  {
   "cell_type": "markdown",
   "metadata": {},
   "source": [
    "## Playground excersises"
   ]
  },
  {
   "cell_type": "markdown",
   "metadata": {},
   "source": [
    "The *Tensorflow* Playground is an interactive visualisation of neural networks in your browser. In this playground, you can choose different hyper-parameters of your neural network and visually observe the training process. This allows you to get some intuition on neural network workings"
   ]
  },
  {
   "cell_type": "markdown",
   "metadata": {},
   "source": [
    "https://playground.tensorflow.org"
   ]
  },
  {
   "cell_type": "markdown",
   "metadata": {},
   "source": [
    "### Exercise"
   ]
  },
  {
   "cell_type": "markdown",
   "metadata": {},
   "source": [
    "**1.** Play around and get some intution! <br>\n",
    "**2.** Let's try a different dataset. Investigate the effects of the learning rate on the training results. <br>\n",
    "**3.** ..."
   ]
  },
  {
   "cell_type": "code",
   "execution_count": null,
   "metadata": {},
   "outputs": [],
   "source": []
  },
  {
   "cell_type": "code",
   "execution_count": null,
   "metadata": {},
   "outputs": [],
   "source": []
  },
  {
   "cell_type": "code",
   "execution_count": null,
   "metadata": {},
   "outputs": [],
   "source": []
  },
  {
   "cell_type": "code",
   "execution_count": null,
   "metadata": {},
   "outputs": [],
   "source": []
  },
  {
   "cell_type": "code",
   "execution_count": null,
   "metadata": {},
   "outputs": [],
   "source": []
  },
  {
   "cell_type": "code",
   "execution_count": null,
   "metadata": {},
   "outputs": [],
   "source": []
  },
  {
   "cell_type": "code",
   "execution_count": null,
   "metadata": {},
   "outputs": [],
   "source": []
  },
  {
   "cell_type": "markdown",
   "metadata": {},
   "source": [
    "## Data set"
   ]
  },
  {
   "cell_type": "markdown",
   "metadata": {},
   "source": [
    "The data we are using in this tutorial is the Diabetes data set that you have already prepared in the previous tutorial.\n",
    "\n",
    "Source:<br>\n",
    "*Smith, J.W., Everhart, J.E., Dickson, W.C., Knowler, W.C., & Johannes, R.S. (1988). Using the ADAP learning algorithm to forecast the onset of diabetes mellitus. In Proceedings of the Symposium on Computer Applications and Medical Care (pp. 261--265). IEEE Computer Society Press.*\n"
   ]
  },
  {
   "cell_type": "code",
   "execution_count": 1,
   "metadata": {},
   "outputs": [],
   "source": [
    "# Import the Pandas and NumPy library\n",
    "import pandas as pd\n",
    "import numpy as np\n",
    "\n",
    "# Read the Diabetes data set \n",
    "diabetes = pd.read_csv('diabetes.csv')"
   ]
  },
  {
   "cell_type": "code",
   "execution_count": 2,
   "metadata": {},
   "outputs": [
    {
     "data": {
      "text/html": [
       "<div>\n",
       "<style scoped>\n",
       "    .dataframe tbody tr th:only-of-type {\n",
       "        vertical-align: middle;\n",
       "    }\n",
       "\n",
       "    .dataframe tbody tr th {\n",
       "        vertical-align: top;\n",
       "    }\n",
       "\n",
       "    .dataframe thead th {\n",
       "        text-align: right;\n",
       "    }\n",
       "</style>\n",
       "<table border=\"1\" class=\"dataframe\">\n",
       "  <thead>\n",
       "    <tr style=\"text-align: right;\">\n",
       "      <th></th>\n",
       "      <th>Pregnancies</th>\n",
       "      <th>Glucose</th>\n",
       "      <th>BloodPressure</th>\n",
       "      <th>SkinThickness</th>\n",
       "      <th>Insulin</th>\n",
       "      <th>BMI</th>\n",
       "      <th>DiabetesPedigreeFunction</th>\n",
       "      <th>Age</th>\n",
       "      <th>Outcome</th>\n",
       "    </tr>\n",
       "  </thead>\n",
       "  <tbody>\n",
       "    <tr>\n",
       "      <th>0</th>\n",
       "      <td>6</td>\n",
       "      <td>148</td>\n",
       "      <td>72</td>\n",
       "      <td>35</td>\n",
       "      <td>0</td>\n",
       "      <td>33.6</td>\n",
       "      <td>0.627</td>\n",
       "      <td>50</td>\n",
       "      <td>1</td>\n",
       "    </tr>\n",
       "    <tr>\n",
       "      <th>1</th>\n",
       "      <td>1</td>\n",
       "      <td>85</td>\n",
       "      <td>66</td>\n",
       "      <td>29</td>\n",
       "      <td>0</td>\n",
       "      <td>26.6</td>\n",
       "      <td>0.351</td>\n",
       "      <td>31</td>\n",
       "      <td>0</td>\n",
       "    </tr>\n",
       "    <tr>\n",
       "      <th>2</th>\n",
       "      <td>8</td>\n",
       "      <td>183</td>\n",
       "      <td>64</td>\n",
       "      <td>0</td>\n",
       "      <td>0</td>\n",
       "      <td>23.3</td>\n",
       "      <td>0.672</td>\n",
       "      <td>32</td>\n",
       "      <td>1</td>\n",
       "    </tr>\n",
       "    <tr>\n",
       "      <th>3</th>\n",
       "      <td>1</td>\n",
       "      <td>89</td>\n",
       "      <td>66</td>\n",
       "      <td>23</td>\n",
       "      <td>94</td>\n",
       "      <td>28.1</td>\n",
       "      <td>0.167</td>\n",
       "      <td>21</td>\n",
       "      <td>0</td>\n",
       "    </tr>\n",
       "    <tr>\n",
       "      <th>4</th>\n",
       "      <td>0</td>\n",
       "      <td>137</td>\n",
       "      <td>40</td>\n",
       "      <td>35</td>\n",
       "      <td>168</td>\n",
       "      <td>43.1</td>\n",
       "      <td>2.288</td>\n",
       "      <td>33</td>\n",
       "      <td>1</td>\n",
       "    </tr>\n",
       "  </tbody>\n",
       "</table>\n",
       "</div>"
      ],
      "text/plain": [
       "   Pregnancies  Glucose  BloodPressure  SkinThickness  Insulin   BMI  \\\n",
       "0            6      148             72             35        0  33.6   \n",
       "1            1       85             66             29        0  26.6   \n",
       "2            8      183             64              0        0  23.3   \n",
       "3            1       89             66             23       94  28.1   \n",
       "4            0      137             40             35      168  43.1   \n",
       "\n",
       "   DiabetesPedigreeFunction  Age  Outcome  \n",
       "0                     0.627   50        1  \n",
       "1                     0.351   31        0  \n",
       "2                     0.672   32        1  \n",
       "3                     0.167   21        0  \n",
       "4                     2.288   33        1  "
      ]
     },
     "execution_count": 2,
     "metadata": {},
     "output_type": "execute_result"
    }
   ],
   "source": [
    "diabetes.head()"
   ]
  },
  {
   "cell_type": "markdown",
   "metadata": {},
   "source": [
    "## ***Keras***\n"
   ]
  },
  {
   "cell_type": "markdown",
   "metadata": {},
   "source": [
    "Keras is a high-level neural networks API, capable of running on top of Tensorflow, Theano, and CNTK. It enables fast experimentation through a high level, user-friendly, modular and extensible API\n",
    "\n",
    "<img src=\"https://keras.io/img/logo.png\" width=\"40%\">\n",
    "\n",
    "*Source: https://keras.io/img/logo.png*"
   ]
  },
  {
   "cell_type": "markdown",
   "metadata": {},
   "source": [
    "### Installation"
   ]
  },
  {
   "cell_type": "markdown",
   "metadata": {},
   "source": [
    "For an installation of the *Keras* library, you have to enter the following command in the terminal."
   ]
  },
  {
   "cell_type": "markdown",
   "metadata": {},
   "source": [
    "```python\n",
    "!pip install tensorflow\n",
    "```"
   ]
  },
  {
   "cell_type": "markdown",
   "metadata": {},
   "source": [
    "Keras comes packaged with *TensorFlow 2.0* as `tensorflow.keras`. To start using *Keras*, simply install *TensorFlow 2.0*."
   ]
  },
  {
   "cell_type": "markdown",
   "metadata": {},
   "source": [
    "*Keras* is a model-level library, providing high-level building blocks for developing deep learning models. It does not handle itself low-level operations such as tensor products, convolutions and so on. Instead, it relies on a specialized, well-optimized tensor manipulation library to do so, serving as the \"backend engine\" of Keras. \n",
    "\n",
    "Rather than picking one single tensor library and making the implementation of *Keras* tied to that library, *Keras* handles the problem in a modular way, and several different backend engines can be plugged seamlessly into *Keras*."
   ]
  },
  {
   "cell_type": "markdown",
   "metadata": {},
   "source": [
    "### Importing the library"
   ]
  },
  {
   "cell_type": "markdown",
   "metadata": {},
   "source": [
    "We are not going to import the whole *Keras* library but only specific classes that we need for our implementation. This will later be done by the following command:"
   ]
  },
  {
   "cell_type": "markdown",
   "metadata": {},
   "source": [
    "```python\n",
    "import tensorflow\n",
    "from tensorflow.keras.xyz import ...\n",
    "```"
   ]
  },
  {
   "cell_type": "markdown",
   "metadata": {},
   "source": [
    "### Workflow"
   ]
  },
  {
   "cell_type": "markdown",
   "metadata": {},
   "source": [
    "Training your first simple neural network with Keras does not require a lot of code, but we are going to start slow, taking it step-by-step, ensuring you understand the process of how to train a network. The workflow in *Keras* consits of the following steps:\n",
    "1. **Prepare data**\n",
    "2. **Build model**\n",
    "3. **Compile model**\n",
    "4. **Fit model**\n",
    "5. **Predict**\n",
    "6. **Evaluate model**\n",
    "7. **Save model**\n",
    "\n",
    "We are now going to introduce all these steps in more detail in the following part of the notebook. "
   ]
  },
  {
   "cell_type": "markdown",
   "metadata": {},
   "source": [
    "#### 1. Data preparation"
   ]
  },
  {
   "cell_type": "markdown",
   "metadata": {},
   "source": [
    "Before, we start building our neural network, we have to prepare our data. A first step should always be data inspection, which you have already done in the last tutorial. Here, we will split our data in different subsets to train our model and will standardise the data."
   ]
  },
  {
   "cell_type": "markdown",
   "metadata": {},
   "source": [
    "**Data splitting**"
   ]
  },
  {
   "cell_type": "markdown",
   "metadata": {},
   "source": [
    "As you have learnt in the last tutorial, we have to split our dataset in subsets since we do not know the (hidden) data generating distribution to calculate the true error of our model. For this, we split the diabetes dataset into a training set, validation set and test set using the following split 60-20-20 to approximate the true error. We use the `train_test_split()`function from them `sklearn.model_selection` module to split the dataset."
   ]
  },
  {
   "cell_type": "markdown",
   "metadata": {},
   "source": [
    "Here, we split the dataset only in a training and test set. Later in the training step, we use *Keras* functionality to create a validation set from the training set. "
   ]
  },
  {
   "cell_type": "code",
   "execution_count": 84,
   "metadata": {},
   "outputs": [],
   "source": [
    "from sklearn.model_selection import train_test_split\n",
    "\n",
    "X_train, X_test, y_train, y_test = train_test_split(diabetes[['Glucose','BMI','Age']], diabetes['Outcome'], test_size=0.2)"
   ]
  },
  {
   "cell_type": "markdown",
   "metadata": {},
   "source": [
    "Let's check how many observations are in each data set."
   ]
  },
  {
   "cell_type": "code",
   "execution_count": 4,
   "metadata": {},
   "outputs": [
    {
     "name": "stdout",
     "output_type": "stream",
     "text": [
      "Number of training samples: 614\n",
      "Number of test samples: 154\n"
     ]
    }
   ],
   "source": [
    "print(\"Number of training samples: %i\" % len(X_train))\n",
    "print(\"Number of test samples: %i\" % len(X_test))"
   ]
  },
  {
   "cell_type": "markdown",
   "metadata": {},
   "source": [
    "**Tranformations**"
   ]
  },
  {
   "cell_type": "markdown",
   "metadata": {},
   "source": [
    "Convergence is ususally faster if the **average of each input variable**  over the training set is **close to zero**. In general, any shift of the average input away from zero will bias the updates in a particular direction and thus slow down learning. Additionally, **scaling the inputs** - to have **about the same covariance** - speeds up learning because it helps to balance out the rate at which the weights connected to the input nodes learn. Therefore, we will *standardize* our data \n",
    "\n",
    "$$z=\\frac{x-\\mu}{\\sigma} $$\n",
    "\n",
    "with mean $\\mu$ and standard deviation $\\sigma$. This transformation will speed up and stabilise the training process. We can use the `StandardScaler()` function from the `sklearn.preprocessing` module for the standardisation."
   ]
  },
  {
   "cell_type": "code",
   "execution_count": 85,
   "metadata": {},
   "outputs": [],
   "source": [
    "from sklearn.preprocessing import StandardScaler\n",
    "\n",
    "# Instatiate scaler\n",
    "scaler = StandardScaler()\n",
    "\n",
    "# Train scaler on the data set\n",
    "scaler.fit(X_train)\n",
    "\n",
    "# Transform datasets\n",
    "X_train = scaler.transform(X_train)\n",
    "X_test = scaler.transform(X_test)"
   ]
  },
  {
   "cell_type": "markdown",
   "metadata": {},
   "source": [
    "Let us have a look at our transformed training set."
   ]
  },
  {
   "cell_type": "code",
   "execution_count": 6,
   "metadata": {},
   "outputs": [
    {
     "data": {
      "text/plain": [
       "array([[-0.31897686, -0.59068916,  0.55058386],\n",
       "       [-1.04564103, -0.3980322 , -0.97487436],\n",
       "       [ 0.72362825, -0.01271829,  2.07604209],\n",
       "       [-1.7723052 , -0.01271829,  0.72007922],\n",
       "       [-0.79288827, -1.45122357, -0.63588364],\n",
       "       [ 1.63985699,  0.21847006, -0.21214525],\n",
       "       [ 0.06015227,  0.25700145, -0.46638829],\n",
       "       [ 1.95579793,  1.11753586,  0.97432226],\n",
       "       [-0.38216505,  0.34690803, -0.63588364],\n",
       "       [-0.91926465, -1.61819293, -0.72063132]])"
      ]
     },
     "execution_count": 6,
     "metadata": {},
     "output_type": "execute_result"
    }
   ],
   "source": [
    "X_train[:10,:]"
   ]
  },
  {
   "cell_type": "markdown",
   "metadata": {},
   "source": [
    "Let us also check the mean and standard deviation of our standardised training dataset."
   ]
  },
  {
   "cell_type": "code",
   "execution_count": 7,
   "metadata": {},
   "outputs": [
    {
     "name": "stdout",
     "output_type": "stream",
     "text": [
      "[ 1.85157716e-16 -6.65410542e-16 -1.44654466e-16]\n",
      "[1. 1. 1.]\n"
     ]
    }
   ],
   "source": [
    "print(np.mean(X_train,0))\n",
    "print(np.std(X_train,0))"
   ]
  },
  {
   "cell_type": "markdown",
   "metadata": {},
   "source": [
    "#### 2. Model Building"
   ]
  },
  {
   "cell_type": "markdown",
   "metadata": {},
   "source": [
    "The core data structures of *Keras* are **layers** and **models**. There are three ways to create Keras models:\n",
    "\n",
    "- The Sequential model is simply a linear stack of layers. *(for simple implementations)*\n",
    "- The Functional API fully-featured API that supports arbitrary model architectures. *(for more complex implementations)*\n",
    "- Model subclassing, where you implement everything from scratch on your own. *(for more complex implementations)*\n",
    "\n",
    "We are going to use the **Sequential model** class in this tutorial. You simply need to import the model from the *Keras* library and initialise a model object using the following commands:"
   ]
  },
  {
   "cell_type": "code",
   "execution_count": 8,
   "metadata": {},
   "outputs": [
    {
     "name": "stderr",
     "output_type": "stream",
     "text": [
      "/home/moritz/anaconda3/envs/pytorch/lib/python3.7/site-packages/tensorflow/python/framework/dtypes.py:523: FutureWarning: Passing (type, 1) or '1type' as a synonym of type is deprecated; in a future version of numpy, it will be understood as (type, (1,)) / '(1,)type'.\n",
      "  _np_qint8 = np.dtype([(\"qint8\", np.int8, 1)])\n",
      "/home/moritz/anaconda3/envs/pytorch/lib/python3.7/site-packages/tensorflow/python/framework/dtypes.py:524: FutureWarning: Passing (type, 1) or '1type' as a synonym of type is deprecated; in a future version of numpy, it will be understood as (type, (1,)) / '(1,)type'.\n",
      "  _np_quint8 = np.dtype([(\"quint8\", np.uint8, 1)])\n",
      "/home/moritz/anaconda3/envs/pytorch/lib/python3.7/site-packages/tensorflow/python/framework/dtypes.py:525: FutureWarning: Passing (type, 1) or '1type' as a synonym of type is deprecated; in a future version of numpy, it will be understood as (type, (1,)) / '(1,)type'.\n",
      "  _np_qint16 = np.dtype([(\"qint16\", np.int16, 1)])\n",
      "/home/moritz/anaconda3/envs/pytorch/lib/python3.7/site-packages/tensorflow/python/framework/dtypes.py:526: FutureWarning: Passing (type, 1) or '1type' as a synonym of type is deprecated; in a future version of numpy, it will be understood as (type, (1,)) / '(1,)type'.\n",
      "  _np_quint16 = np.dtype([(\"quint16\", np.uint16, 1)])\n",
      "/home/moritz/anaconda3/envs/pytorch/lib/python3.7/site-packages/tensorflow/python/framework/dtypes.py:527: FutureWarning: Passing (type, 1) or '1type' as a synonym of type is deprecated; in a future version of numpy, it will be understood as (type, (1,)) / '(1,)type'.\n",
      "  _np_qint32 = np.dtype([(\"qint32\", np.int32, 1)])\n",
      "/home/moritz/anaconda3/envs/pytorch/lib/python3.7/site-packages/tensorflow/python/framework/dtypes.py:532: FutureWarning: Passing (type, 1) or '1type' as a synonym of type is deprecated; in a future version of numpy, it will be understood as (type, (1,)) / '(1,)type'.\n",
      "  np_resource = np.dtype([(\"resource\", np.ubyte, 1)])\n",
      "/home/moritz/anaconda3/envs/pytorch/lib/python3.7/site-packages/tensorboard/compat/tensorflow_stub/dtypes.py:541: FutureWarning: Passing (type, 1) or '1type' as a synonym of type is deprecated; in a future version of numpy, it will be understood as (type, (1,)) / '(1,)type'.\n",
      "  _np_qint8 = np.dtype([(\"qint8\", np.int8, 1)])\n",
      "/home/moritz/anaconda3/envs/pytorch/lib/python3.7/site-packages/tensorboard/compat/tensorflow_stub/dtypes.py:542: FutureWarning: Passing (type, 1) or '1type' as a synonym of type is deprecated; in a future version of numpy, it will be understood as (type, (1,)) / '(1,)type'.\n",
      "  _np_quint8 = np.dtype([(\"quint8\", np.uint8, 1)])\n",
      "/home/moritz/anaconda3/envs/pytorch/lib/python3.7/site-packages/tensorboard/compat/tensorflow_stub/dtypes.py:543: FutureWarning: Passing (type, 1) or '1type' as a synonym of type is deprecated; in a future version of numpy, it will be understood as (type, (1,)) / '(1,)type'.\n",
      "  _np_qint16 = np.dtype([(\"qint16\", np.int16, 1)])\n",
      "/home/moritz/anaconda3/envs/pytorch/lib/python3.7/site-packages/tensorboard/compat/tensorflow_stub/dtypes.py:544: FutureWarning: Passing (type, 1) or '1type' as a synonym of type is deprecated; in a future version of numpy, it will be understood as (type, (1,)) / '(1,)type'.\n",
      "  _np_quint16 = np.dtype([(\"quint16\", np.uint16, 1)])\n",
      "/home/moritz/anaconda3/envs/pytorch/lib/python3.7/site-packages/tensorboard/compat/tensorflow_stub/dtypes.py:545: FutureWarning: Passing (type, 1) or '1type' as a synonym of type is deprecated; in a future version of numpy, it will be understood as (type, (1,)) / '(1,)type'.\n",
      "  _np_qint32 = np.dtype([(\"qint32\", np.int32, 1)])\n",
      "/home/moritz/anaconda3/envs/pytorch/lib/python3.7/site-packages/tensorboard/compat/tensorflow_stub/dtypes.py:550: FutureWarning: Passing (type, 1) or '1type' as a synonym of type is deprecated; in a future version of numpy, it will be understood as (type, (1,)) / '(1,)type'.\n",
      "  np_resource = np.dtype([(\"resource\", np.ubyte, 1)])\n"
     ]
    }
   ],
   "source": [
    "import tensorflow \n",
    "from tensorflow.keras.models import Sequential\n",
    "\n",
    "model = Sequential()"
   ]
  },
  {
   "cell_type": "markdown",
   "metadata": {},
   "source": [
    "Then, we can stack layers and add those to our model object. Before we do so, the implementation of the layer types  \n",
    "- dense layer and \n",
    "- convolutional layer \n",
    "\n",
    "is introduced, which you are going to use later in this notebook. A list of supported layer types is given in the *Keras* documentation https://keras.io/api/layers/. First, we have to import these layers from the *Keras* layer module using the following command:"
   ]
  },
  {
   "cell_type": "markdown",
   "metadata": {},
   "source": [
    "```python\n",
    "from tensorflow.keras.layers import Dense, Conv2D\n",
    "```"
   ]
  },
  {
   "cell_type": "markdown",
   "metadata": {},
   "source": [
    "**Dense layer**<br>\n",
    "A dense layer/fully-connected layer is a layer in which each input neuron is connected to each output neuron, the parameters units just tells you the dimensionality of your output. \n",
    "\n",
    "```python\n",
    "Dense(units='dimensionality of the output space',\n",
    "      activation='activation function to use',\n",
    "      ...)\n",
    "```\n",
    "*Example:*"
   ]
  },
  {
   "cell_type": "markdown",
   "metadata": {},
   "source": [
    "```python\n",
    "Dense(units=6, activation='relu',...)\n",
    "```"
   ]
  },
  {
   "cell_type": "markdown",
   "metadata": {},
   "source": [
    "**Convolutional layer**<br>\n",
    "The convolutional layer’s parameters consist of a set of learnable filters. During the forward pass, we convolve each filter across the width and height of the input and compute dot products between the entries of the filter and the input at any position. By doing so, we produce an activation map that gives the responses of that filter at every spatial position.\n",
    "\n",
    "```python\n",
    "Conv2D(filters='the dimensionality of the output space (i.e. the number of output filters in convolution)', \n",
    "       kernel_size='specifying the height and width of the 2D convolutional kernel', \n",
    "       strides=' specifying the strides of the convolution along the height and width', \n",
    "       activation='activation function to use',\n",
    "       ...)\n",
    "```\n",
    "*Example:*"
   ]
  },
  {
   "cell_type": "markdown",
   "metadata": {},
   "source": [
    "```python\n",
    "Conv2D(filters=16, kernel_size=(3,3), strides=(1,1), activation='relu',...)\n",
    "# if width and height are equal you can write in short\n",
    "Conv2D(filters=16, kernel_size=3, strides=1, activation='relu',...)\n",
    "```"
   ]
  },
  {
   "cell_type": "markdown",
   "metadata": {},
   "source": [
    "We can simply add these layers to the Sequential model using the `add()` method.\n",
    "Here, we add  \n",
    "- an dense input layer with 4 units, \n",
    "- a dense sigmoid output layer with 1 unit\n",
    "\n",
    "to create a **fully-connected neural network**."
   ]
  },
  {
   "cell_type": "code",
   "execution_count": 9,
   "metadata": {},
   "outputs": [],
   "source": [
    "from tensorflow.keras import Input\n",
    "from tensorflow.keras.layers import Dense\n",
    "\n",
    "model.add(Input(shape=(3,)))\n",
    "model.add(Dense(1, activation='sigmoid'))"
   ]
  },
  {
   "cell_type": "markdown",
   "metadata": {},
   "source": [
    "We can display the content of our neural network by calling the `summary()` method."
   ]
  },
  {
   "cell_type": "code",
   "execution_count": 10,
   "metadata": {},
   "outputs": [
    {
     "name": "stdout",
     "output_type": "stream",
     "text": [
      "Model: \"sequential\"\n",
      "_________________________________________________________________\n",
      "Layer (type)                 Output Shape              Param #   \n",
      "=================================================================\n",
      "dense (Dense)                (None, 1)                 4         \n",
      "=================================================================\n",
      "Total params: 4\n",
      "Trainable params: 4\n",
      "Non-trainable params: 0\n",
      "_________________________________________________________________\n"
     ]
    }
   ],
   "source": [
    "model.summary()"
   ]
  },
  {
   "cell_type": "markdown",
   "metadata": {},
   "source": [
    "#### 3. Model compilation"
   ]
  },
  {
   "cell_type": "markdown",
   "metadata": {},
   "source": [
    "In order to train our neural network that we have just created, we need to compile our model first. This requires us to define a loss function and an optimiser to do so. A list already implemented losses and optimisers can be found in the documentary:\n",
    "\n",
    "- losses: https://keras.io/api/losses/,\n",
    "- optimisers: https://keras.io/api/optimizers/. "
   ]
  },
  {
   "cell_type": "markdown",
   "metadata": {},
   "source": [
    "**Loss function**\n",
    "\n",
    "The purpose of loss functions is to compute the quantity that a model should seek to minimize during training. \n",
    "This function will essentially calculate how poorly our model is performing by comparing what the model is predicting with the actual value it is supposed to output. Therefore, the selection of the loss function depends on the the task.\n",
    "\n",
    "*Examples:*<br>\n",
    "\n",
    "Classification:\n",
    "- `BinaryCrossentropy()`<br> Computes the cross-entropy loss between true labels and predicted labels *(binary)*.\n",
    "- `CategoricalCrossentropy()`<br> Computes the cross-entropy loss between true labels and predicted labels *(multi-class)*.\n",
    "- ...\n",
    "\n",
    "Regression\n",
    "- `MeanSquaredError()`<br> Computes the mean of squares of errors between labels and predictions.\n",
    "- ...\n",
    "\n",
    "You can import the loss functions from the *Keras* losses module by entering the following command:"
   ]
  },
  {
   "cell_type": "markdown",
   "metadata": {},
   "source": [
    "```python\n",
    "from tensorflow.keras.losses import BinaryCrossentropy, CategoricalCrossentropy, MeanSquaredError\n",
    "```"
   ]
  },
  {
   "cell_type": "markdown",
   "metadata": {},
   "source": [
    "**Optimiser**\n",
    "\n",
    "We have already dealt with the loss function, which is a mathematical way of measuring how wrong your predictions are. In other words, the loss function lets us quantify the quality of any particular set of model parameters. The goal of optimisation is to find those parameteres that minimize the loss function. For this, we can compute the best direction along which we should change our parameters that is mathematically guaranteed to be the direction of the steepest descend. This direction will be related to the gradient of the loss function."
   ]
  },
  {
   "cell_type": "markdown",
   "metadata": {},
   "source": [
    "*Examples:*\n",
    "- `SGD()`<br> Stochastic gradient descent is an implementation of gradient descent - that you know from the lecture - on batches of observations or single random examples on each pass.\n",
    "\n",
    "- `Adam()`<br> Adam stands for adaptive moment estimation, and is another way of using past gradients to calculate current gradients. Adam also utilizes the concept of momentum by adding fractions of previous gradients to the current one.\n",
    "\n",
    "You can import the optimiser from the `tensorflow.keras.optimizers` module by entering the following command:"
   ]
  },
  {
   "cell_type": "markdown",
   "metadata": {},
   "source": [
    "```python\n",
    "from tensorflow.keras.optimizers import SGD, Adam\n",
    "```"
   ]
  },
  {
   "cell_type": "markdown",
   "metadata": {},
   "source": [
    "We instatiate the loss function and the optimiser before we pass them to the model."
   ]
  },
  {
   "cell_type": "code",
   "execution_count": 11,
   "metadata": {},
   "outputs": [],
   "source": [
    "from tensorflow.keras.losses import BinaryCrossentropy\n",
    "from tensorflow.keras.optimizers import SGD\n",
    "\n",
    "loss = BinaryCrossentropy()\n",
    "\n",
    "lr = 4e-2 #lr = 0.04\n",
    "optimiser = SGD(learning_rate=lr)\n",
    "\n",
    "model.compile(loss=loss,\n",
    "              optimizer=optimiser, \n",
    "              metrics=['accuracy'])"
   ]
  },
  {
   "cell_type": "markdown",
   "metadata": {},
   "source": [
    "After compiling our model, we're now ready to start the training."
   ]
  },
  {
   "cell_type": "markdown",
   "metadata": {},
   "source": [
    "#### 4. Model training"
   ]
  },
  {
   "cell_type": "markdown",
   "metadata": {},
   "source": [
    "To train our model we can simply use the `fit()` method. Here, we just have to provide the *number of epochs*, the *batch size* and the *training dataset* (features and targerts). Instead of providing a separate validation dataset, we use the `validation_split` functionality, which uses the last x% observations of the training dataset before shuffling to create a validation set.\n",
    "\n",
    "At the end of each epoch, the model will iterate over the validation dataset and compute the validation loss and validation metrics.\n",
    "\n",
    "The `fit()` method outputs a `History` object; its `History.history` attribute is a record of loss and metrics values (training + validation)."
   ]
  },
  {
   "cell_type": "markdown",
   "metadata": {},
   "source": [
    "In our example, we use 50 *epochs* and a *batch size* of 64 to train our model. Additionally, we use a validation split of 0.25 such that our overall data split in training, validation and test set is 60-20-20."
   ]
  },
  {
   "cell_type": "code",
   "execution_count": 12,
   "metadata": {},
   "outputs": [
    {
     "name": "stdout",
     "output_type": "stream",
     "text": [
      "Train on 460 samples, validate on 154 samples\n",
      "Epoch 1/50\n",
      "460/460 [==============================] - 0s 331us/sample - loss: 0.5909 - accuracy: 0.6761 - val_loss: 0.5297 - val_accuracy: 0.7468\n",
      "Epoch 2/50\n",
      "460/460 [==============================] - 0s 23us/sample - loss: 0.5798 - accuracy: 0.6826 - val_loss: 0.5201 - val_accuracy: 0.7532\n",
      "Epoch 3/50\n",
      "460/460 [==============================] - 0s 24us/sample - loss: 0.5699 - accuracy: 0.6978 - val_loss: 0.5136 - val_accuracy: 0.7532\n",
      "Epoch 4/50\n",
      "460/460 [==============================] - 0s 23us/sample - loss: 0.5628 - accuracy: 0.7065 - val_loss: 0.5071 - val_accuracy: 0.7468\n",
      "Epoch 5/50\n",
      "460/460 [==============================] - 0s 24us/sample - loss: 0.5554 - accuracy: 0.7130 - val_loss: 0.5011 - val_accuracy: 0.7532\n",
      "Epoch 6/50\n",
      "460/460 [==============================] - 0s 28us/sample - loss: 0.5487 - accuracy: 0.7261 - val_loss: 0.4962 - val_accuracy: 0.7532\n",
      "Epoch 7/50\n",
      "460/460 [==============================] - 0s 25us/sample - loss: 0.5426 - accuracy: 0.7370 - val_loss: 0.4917 - val_accuracy: 0.7792\n",
      "Epoch 8/50\n",
      "460/460 [==============================] - 0s 25us/sample - loss: 0.5375 - accuracy: 0.7348 - val_loss: 0.4881 - val_accuracy: 0.7727\n",
      "Epoch 9/50\n",
      "460/460 [==============================] - 0s 26us/sample - loss: 0.5331 - accuracy: 0.7457 - val_loss: 0.4849 - val_accuracy: 0.7727\n",
      "Epoch 10/50\n",
      "460/460 [==============================] - 0s 24us/sample - loss: 0.5289 - accuracy: 0.7500 - val_loss: 0.4819 - val_accuracy: 0.7857\n",
      "Epoch 11/50\n",
      "460/460 [==============================] - 0s 27us/sample - loss: 0.5255 - accuracy: 0.7543 - val_loss: 0.4791 - val_accuracy: 0.7792\n",
      "Epoch 12/50\n",
      "460/460 [==============================] - 0s 25us/sample - loss: 0.5219 - accuracy: 0.7609 - val_loss: 0.4766 - val_accuracy: 0.7922\n",
      "Epoch 13/50\n",
      "460/460 [==============================] - 0s 25us/sample - loss: 0.5192 - accuracy: 0.7609 - val_loss: 0.4741 - val_accuracy: 0.7922\n",
      "Epoch 14/50\n",
      "460/460 [==============================] - 0s 24us/sample - loss: 0.5168 - accuracy: 0.7609 - val_loss: 0.4722 - val_accuracy: 0.7792\n",
      "Epoch 15/50\n",
      "460/460 [==============================] - 0s 21us/sample - loss: 0.5139 - accuracy: 0.7543 - val_loss: 0.4707 - val_accuracy: 0.7792\n",
      "Epoch 16/50\n",
      "460/460 [==============================] - 0s 26us/sample - loss: 0.5120 - accuracy: 0.7587 - val_loss: 0.4695 - val_accuracy: 0.7792\n",
      "Epoch 17/50\n",
      "460/460 [==============================] - 0s 20us/sample - loss: 0.5104 - accuracy: 0.7609 - val_loss: 0.4684 - val_accuracy: 0.7727\n",
      "Epoch 18/50\n",
      "460/460 [==============================] - 0s 21us/sample - loss: 0.5087 - accuracy: 0.7674 - val_loss: 0.4670 - val_accuracy: 0.7727\n",
      "Epoch 19/50\n",
      "460/460 [==============================] - 0s 26us/sample - loss: 0.5071 - accuracy: 0.7652 - val_loss: 0.4661 - val_accuracy: 0.7727\n",
      "Epoch 20/50\n",
      "460/460 [==============================] - 0s 25us/sample - loss: 0.5059 - accuracy: 0.7696 - val_loss: 0.4653 - val_accuracy: 0.7727\n",
      "Epoch 21/50\n",
      "460/460 [==============================] - 0s 28us/sample - loss: 0.5048 - accuracy: 0.7717 - val_loss: 0.4648 - val_accuracy: 0.7727\n",
      "Epoch 22/50\n",
      "460/460 [==============================] - 0s 29us/sample - loss: 0.5036 - accuracy: 0.7717 - val_loss: 0.4645 - val_accuracy: 0.7727\n",
      "Epoch 23/50\n",
      "460/460 [==============================] - 0s 23us/sample - loss: 0.5028 - accuracy: 0.7630 - val_loss: 0.4642 - val_accuracy: 0.7792\n",
      "Epoch 24/50\n",
      "460/460 [==============================] - 0s 24us/sample - loss: 0.5023 - accuracy: 0.7587 - val_loss: 0.4641 - val_accuracy: 0.7792\n",
      "Epoch 25/50\n",
      "460/460 [==============================] - 0s 25us/sample - loss: 0.5013 - accuracy: 0.7609 - val_loss: 0.4636 - val_accuracy: 0.7727\n",
      "Epoch 26/50\n",
      "460/460 [==============================] - 0s 27us/sample - loss: 0.5008 - accuracy: 0.7609 - val_loss: 0.4634 - val_accuracy: 0.7727\n",
      "Epoch 27/50\n",
      "460/460 [==============================] - 0s 28us/sample - loss: 0.5001 - accuracy: 0.7609 - val_loss: 0.4630 - val_accuracy: 0.7727\n",
      "Epoch 28/50\n",
      "460/460 [==============================] - 0s 23us/sample - loss: 0.4996 - accuracy: 0.7630 - val_loss: 0.4631 - val_accuracy: 0.7727\n",
      "Epoch 29/50\n",
      "460/460 [==============================] - 0s 23us/sample - loss: 0.4991 - accuracy: 0.7587 - val_loss: 0.4627 - val_accuracy: 0.7727\n",
      "Epoch 30/50\n",
      "460/460 [==============================] - 0s 25us/sample - loss: 0.4988 - accuracy: 0.7587 - val_loss: 0.4630 - val_accuracy: 0.7727\n",
      "Epoch 31/50\n",
      "460/460 [==============================] - 0s 24us/sample - loss: 0.4982 - accuracy: 0.7587 - val_loss: 0.4625 - val_accuracy: 0.7727\n",
      "Epoch 32/50\n",
      "460/460 [==============================] - 0s 21us/sample - loss: 0.4977 - accuracy: 0.7609 - val_loss: 0.4622 - val_accuracy: 0.7792\n",
      "Epoch 33/50\n",
      "460/460 [==============================] - 0s 20us/sample - loss: 0.4973 - accuracy: 0.7630 - val_loss: 0.4618 - val_accuracy: 0.7792\n",
      "Epoch 34/50\n",
      "460/460 [==============================] - 0s 25us/sample - loss: 0.4970 - accuracy: 0.7609 - val_loss: 0.4616 - val_accuracy: 0.7792\n",
      "Epoch 35/50\n",
      "460/460 [==============================] - 0s 24us/sample - loss: 0.4966 - accuracy: 0.7587 - val_loss: 0.4612 - val_accuracy: 0.7792\n",
      "Epoch 36/50\n",
      "460/460 [==============================] - 0s 24us/sample - loss: 0.4964 - accuracy: 0.7587 - val_loss: 0.4611 - val_accuracy: 0.7792\n",
      "Epoch 37/50\n",
      "460/460 [==============================] - 0s 26us/sample - loss: 0.4961 - accuracy: 0.7587 - val_loss: 0.4613 - val_accuracy: 0.7792\n",
      "Epoch 38/50\n",
      "460/460 [==============================] - 0s 25us/sample - loss: 0.4958 - accuracy: 0.7609 - val_loss: 0.4613 - val_accuracy: 0.7792\n",
      "Epoch 39/50\n",
      "460/460 [==============================] - 0s 22us/sample - loss: 0.4957 - accuracy: 0.7587 - val_loss: 0.4610 - val_accuracy: 0.7792\n",
      "Epoch 40/50\n",
      "460/460 [==============================] - 0s 21us/sample - loss: 0.4954 - accuracy: 0.7609 - val_loss: 0.4610 - val_accuracy: 0.7792\n",
      "Epoch 41/50\n",
      "460/460 [==============================] - 0s 21us/sample - loss: 0.4953 - accuracy: 0.7630 - val_loss: 0.4605 - val_accuracy: 0.7792\n",
      "Epoch 42/50\n",
      "460/460 [==============================] - 0s 22us/sample - loss: 0.4950 - accuracy: 0.7652 - val_loss: 0.4606 - val_accuracy: 0.7792\n",
      "Epoch 43/50\n",
      "460/460 [==============================] - 0s 24us/sample - loss: 0.4950 - accuracy: 0.7630 - val_loss: 0.4599 - val_accuracy: 0.7792\n",
      "Epoch 44/50\n",
      "460/460 [==============================] - 0s 20us/sample - loss: 0.4950 - accuracy: 0.7630 - val_loss: 0.4600 - val_accuracy: 0.7792\n",
      "Epoch 45/50\n",
      "460/460 [==============================] - 0s 22us/sample - loss: 0.4948 - accuracy: 0.7630 - val_loss: 0.4597 - val_accuracy: 0.7792\n",
      "Epoch 46/50\n",
      "460/460 [==============================] - 0s 20us/sample - loss: 0.4948 - accuracy: 0.7630 - val_loss: 0.4599 - val_accuracy: 0.7792\n",
      "Epoch 47/50\n",
      "460/460 [==============================] - 0s 21us/sample - loss: 0.4947 - accuracy: 0.7630 - val_loss: 0.4599 - val_accuracy: 0.7792\n",
      "Epoch 48/50\n",
      "460/460 [==============================] - 0s 24us/sample - loss: 0.4946 - accuracy: 0.7652 - val_loss: 0.4600 - val_accuracy: 0.7792\n",
      "Epoch 49/50\n",
      "460/460 [==============================] - 0s 23us/sample - loss: 0.4946 - accuracy: 0.7630 - val_loss: 0.4603 - val_accuracy: 0.7792\n",
      "Epoch 50/50\n",
      "460/460 [==============================] - 0s 22us/sample - loss: 0.4944 - accuracy: 0.7630 - val_loss: 0.4597 - val_accuracy: 0.7792\n"
     ]
    }
   ],
   "source": [
    "epochs = 50\n",
    "batch_size = 64\n",
    "\n",
    "\n",
    "history = model.fit(x=X_train, y=y_train,\n",
    "                validation_split=0.25,\n",
    "                epochs=epochs, \n",
    "                batch_size=batch_size)"
   ]
  },
  {
   "cell_type": "markdown",
   "metadata": {},
   "source": [
    "The `fit()` methods prints the loss and metrics values after every epochs, but we can also use the `History` object to visualise those values to get intuition about the performance of our model."
   ]
  },
  {
   "cell_type": "code",
   "execution_count": 15,
   "metadata": {},
   "outputs": [
    {
     "data": {
      "image/png": "[encoded data removed]",
      "text/plain": [
       "<Figure size 576x1152 with 2 Axes>"
      ]
     },
     "metadata": {
      "needs_background": "light"
     },
     "output_type": "display_data"
    }
   ],
   "source": [
    "import matplotlib.pyplot as plt\n",
    "\n",
    "n_epochs = np.arange(0,epochs)\n",
    "\n",
    "fig, (ax1,ax2) = plt.subplots(2,1,figsize=(8,16))\n",
    "ax1.plot(n_epochs, history.history['loss'], label='training loss')\n",
    "ax1.plot(n_epochs, history.history['val_loss'], label='validation loss')\n",
    "ax1.set_ylim(-0.05,1.05)\n",
    "ax1.legend()\n",
    "\n",
    "ax2.plot(n_epochs, history.history['accuracy'], label='training accuracy')\n",
    "ax2.plot(n_epochs, history.history['val_accuracy'], label='validation accuracy')\n",
    "ax2.set_ylim(-0.05,1.05)\n",
    "ax2.legend()\n",
    "\n",
    "plt.show()"
   ]
  },
  {
   "cell_type": "markdown",
   "metadata": {},
   "source": [
    "#### 5. Prediciton"
   ]
  },
  {
   "cell_type": "markdown",
   "metadata": {},
   "source": [
    "After training, we can use our model for predictions using the built-in `predict()` method, which returns the probabilities $P(Outcome=1|X,w)$."
   ]
  },
  {
   "cell_type": "code",
   "execution_count": 18,
   "metadata": {},
   "outputs": [],
   "source": [
    "y_pred = model.predict(X_test).ravel()"
   ]
  },
  {
   "cell_type": "code",
   "execution_count": 19,
   "metadata": {},
   "outputs": [
    {
     "data": {
      "text/plain": [
       "array([0.23363394, 0.19101465, 0.32774347, 0.37707105, 0.24671161,\n",
       "       0.5680933 , 0.09473667, 0.5253392 , 0.09884593, 0.16297433,\n",
       "       0.13369459, 0.01959369, 0.3574983 , 0.7709298 , 0.31527805,\n",
       "       0.86189616, 0.75545293, 0.36062098, 0.0714446 , 0.05256757,\n",
       "       0.10077009, 0.28155503, 0.17133763, 0.3612813 , 0.2428836 ,\n",
       "       0.0622848 , 0.5490081 , 0.5805227 , 0.14105171, 0.1653612 ,\n",
       "       0.11777353, 0.08161387, 0.14921317, 0.07147431, 0.37299824,\n",
       "       0.48112127, 0.80588806, 0.85305184, 0.15870887, 0.47631073,\n",
       "       0.79163706, 0.7893084 , 0.21224412, 0.05299869, 0.37533912,\n",
       "       0.8513756 , 0.33967003, 0.16915196, 0.2352776 , 0.7303634 ,\n",
       "       0.16867438, 0.0871383 , 0.24041286, 0.12301627, 0.2914477 ,\n",
       "       0.22703794, 0.07067338, 0.25390726, 0.91359603, 0.04758871,\n",
       "       0.8525177 , 0.5329949 , 0.08439872, 0.32597333, 0.74738383,\n",
       "       0.12344834, 0.44894883, 0.4153154 , 0.00847298, 0.1344125 ,\n",
       "       0.89880645, 0.06374004, 0.13166076, 0.348765  , 0.07485619,\n",
       "       0.7533878 , 0.11244744, 0.21245867, 0.9364501 , 0.59257096,\n",
       "       0.7273404 , 0.36886013, 0.10641408, 0.11549592, 0.58674115,\n",
       "       0.64310116, 0.08577123, 0.92217815, 0.3657968 , 0.20564511,\n",
       "       0.08356571, 0.22029817, 0.26072747, 0.7186451 , 0.08922169,\n",
       "       0.7493066 , 0.5738379 , 0.35425135, 0.41616258, 0.71191806,\n",
       "       0.16622546, 0.18284652, 0.45357522, 0.15695652, 0.1296995 ,\n",
       "       0.12042654, 0.71026915, 0.7801399 , 0.19097802, 0.20121393,\n",
       "       0.06745479, 0.48303896, 0.31796807, 0.3140695 , 0.3814937 ,\n",
       "       0.5008665 , 0.36830217, 0.5496066 , 0.1965974 , 0.01250249,\n",
       "       0.10743546, 0.7927817 , 0.41217667, 0.48026052, 0.17912284,\n",
       "       0.28142786, 0.5020539 , 0.6597737 , 0.6515912 , 0.63639444,\n",
       "       0.11040768, 0.6100046 , 0.37068006, 0.12297419, 0.0821189 ,\n",
       "       0.12384471, 0.12983695, 0.09418231, 0.38894275, 0.16162708,\n",
       "       0.061021  , 0.15938744, 0.22803813, 0.6227386 , 0.10454267,\n",
       "       0.06879267, 0.08056003, 0.2680893 , 0.10511282, 0.81492454,\n",
       "       0.01709491, 0.21056715, 0.07003941, 0.38782462], dtype=float32)"
      ]
     },
     "execution_count": 19,
     "metadata": {},
     "output_type": "execute_result"
    }
   ],
   "source": [
    "y_pred"
   ]
  },
  {
   "cell_type": "markdown",
   "metadata": {},
   "source": [
    "If you're not interested in the probability $P(Outcome=1|X,w)$ but simply want to predict the class label, you can use the `predict_classes()` method. This method uses a threshold of 0.5 to classify examples."
   ]
  },
  {
   "cell_type": "code",
   "execution_count": 17,
   "metadata": {},
   "outputs": [
    {
     "data": {
      "text/plain": [
       "array([0, 0, 0, 0, 0, 1, 0, 1, 0, 0, 0, 0, 0, 1, 0, 1, 1, 0, 0, 0, 0, 0,\n",
       "       0, 0, 0, 0, 1, 1, 0, 0, 0, 0, 0, 0, 0, 0, 1, 1, 0, 0, 1, 1, 0, 0,\n",
       "       0, 1, 0, 0, 0, 1, 0, 0, 0, 0, 0, 0, 0, 0, 1, 0, 1, 1, 0, 0, 1, 0,\n",
       "       0, 0, 0, 0, 1, 0, 0, 0, 0, 1, 0, 0, 1, 1, 1, 0, 0, 0, 1, 1, 0, 1,\n",
       "       0, 0, 0, 0, 0, 1, 0, 1, 1, 0, 0, 1, 0, 0, 0, 0, 0, 0, 1, 1, 0, 0,\n",
       "       0, 0, 0, 0, 0, 1, 0, 1, 0, 0, 0, 1, 0, 0, 0, 0, 1, 1, 1, 1, 0, 1,\n",
       "       0, 0, 0, 0, 0, 0, 0, 0, 0, 0, 0, 1, 0, 0, 0, 0, 0, 1, 0, 0, 0, 0],\n",
       "      dtype=int32)"
      ]
     },
     "execution_count": 17,
     "metadata": {},
     "output_type": "execute_result"
    }
   ],
   "source": [
    "model.predict_classes(X_test).ravel()"
   ]
  },
  {
   "cell_type": "markdown",
   "metadata": {},
   "source": [
    "#### 6. Model evaluation"
   ]
  },
  {
   "cell_type": "markdown",
   "metadata": {},
   "source": [
    "To see how good/bad those predictions are, we've to evaluate them using the built-in `evaluate()` method. This returns the loss and metrics values for the model in test mode."
   ]
  },
  {
   "cell_type": "code",
   "execution_count": 16,
   "metadata": {},
   "outputs": [
    {
     "name": "stdout",
     "output_type": "stream",
     "text": [
      "154/154 [==============================] - 0s 23us/sample - loss: 0.4959 - accuracy: 0.7662\n"
     ]
    }
   ],
   "source": [
    "loss_and_metrics = model.evaluate(X_test, y_test, \n",
    "                                  batch_size=batch_size)"
   ]
  },
  {
   "cell_type": "markdown",
   "metadata": {},
   "source": [
    "In addition to loss and metrics values, we're going to use the receiver operating characteristics (ROC) and the area under the curve (AUC) to evaluate our model. We can use the `roc_curve()` and `auc` function from the `sklearn.metrics` module to calculate those values. "
   ]
  },
  {
   "cell_type": "code",
   "execution_count": 17,
   "metadata": {},
   "outputs": [],
   "source": [
    "from sklearn.metrics import roc_curve, auc\n",
    "fpr, tpr, thresholds_keras = roc_curve(y_test, y_pred)\n",
    "auc_keras = auc(fpr, tpr)"
   ]
  },
  {
   "cell_type": "markdown",
   "metadata": {},
   "source": [
    "After calculating all values, we can use *matplotllib* to plot the ROC curve."
   ]
  },
  {
   "cell_type": "code",
   "execution_count": 18,
   "metadata": {},
   "outputs": [
    {
     "data": {
      "image/png": "[encoded data removed]",
      "text/plain": [
       "<Figure size 864x576 with 1 Axes>"
      ]
     },
     "metadata": {
      "needs_background": "light"
     },
     "output_type": "display_data"
    }
   ],
   "source": [
    "import matplotlib.pyplot as plt\n",
    "\n",
    "fig, ax = plt.subplots(1,1,figsize=(12,8))\n",
    "ax.plot([0, 1], [0, 1], 'k--')\n",
    "ax.plot(fpr, tpr, label='Keras (area = {:.3f})'.format(auc_keras))\n",
    "ax.set_xlabel('False positive rate')\n",
    "ax.set_ylabel('True positive rate')\n",
    "ax.set_title('ROC curve')\n",
    "ax.legend(loc='best')\n",
    "\n",
    "plt.show()"
   ]
  },
  {
   "cell_type": "markdown",
   "metadata": {},
   "source": [
    "#### 7. Model saving"
   ]
  },
  {
   "cell_type": "markdown",
   "metadata": {},
   "source": [
    "A Keras model consists of multiple components:\n",
    "\n",
    "- An architecture, or configuration, which specifyies what layers the model contains, and how they're connected.\n",
    "- A set of weights values (the \"state of the model\").\n",
    "- An optimizer (defined by compiling the model).\n",
    "- A set of losses and metrics (defined by compiling the model).\n",
    "\n",
    "We can save these pieces to disk at once into a single archive in the *Tensorflow* `SavedModel`."
   ]
  },
  {
   "cell_type": "markdown",
   "metadata": {},
   "source": [
    "```python\n",
    "model.save('path/to/location')\n",
    "```\n",
    "\n",
    "We can save our neural network to the working directory by entering the following command:"
   ]
  },
  {
   "cell_type": "code",
   "execution_count": 19,
   "metadata": {},
   "outputs": [],
   "source": [
    "model.save('my_nn')"
   ]
  },
  {
   "cell_type": "markdown",
   "metadata": {},
   "source": [
    "This can then simply be loaded using the following command:\n",
    "\n",
    "```python\n",
    "model = tensorflow.keras.models.load_model('my_nn')\n",
    "```"
   ]
  },
  {
   "cell_type": "markdown",
   "metadata": {},
   "source": [
    "**Put everything together**<br>\n",
    "After having itroduced all the steps separately in more detail, everything is put together in one cell, so you don't have to scroll too much."
   ]
  },
  {
   "cell_type": "code",
   "execution_count": 77,
   "metadata": {
    "scrolled": true
   },
   "outputs": [
    {
     "name": "stdout",
     "output_type": "stream",
     "text": [
      "Train on 460 samples, validate on 154 samples\n",
      "Epoch 1/100\n",
      "460/460 [==============================] - 0s 445us/sample - loss: 0.6138 - accuracy: 0.6457 - val_loss: 0.5578 - val_accuracy: 0.7338\n",
      "Epoch 2/100\n",
      "460/460 [==============================] - 0s 73us/sample - loss: 0.5865 - accuracy: 0.6370 - val_loss: 0.5294 - val_accuracy: 0.7468\n",
      "Epoch 3/100\n",
      "460/460 [==============================] - 0s 76us/sample - loss: 0.5748 - accuracy: 0.6413 - val_loss: 0.5153 - val_accuracy: 0.7532\n",
      "Epoch 4/100\n",
      "460/460 [==============================] - 0s 87us/sample - loss: 0.5683 - accuracy: 0.6457 - val_loss: 0.5063 - val_accuracy: 0.7403\n",
      "Epoch 5/100\n",
      "460/460 [==============================] - 0s 80us/sample - loss: 0.5637 - accuracy: 0.6609 - val_loss: 0.5002 - val_accuracy: 0.7532\n",
      "Epoch 6/100\n",
      "460/460 [==============================] - 0s 78us/sample - loss: 0.5601 - accuracy: 0.6565 - val_loss: 0.4956 - val_accuracy: 0.7468\n",
      "Epoch 7/100\n",
      "460/460 [==============================] - 0s 78us/sample - loss: 0.5573 - accuracy: 0.6630 - val_loss: 0.4931 - val_accuracy: 0.7403\n",
      "Epoch 8/100\n",
      "460/460 [==============================] - 0s 79us/sample - loss: 0.5544 - accuracy: 0.6804 - val_loss: 0.4897 - val_accuracy: 0.7727\n",
      "Epoch 9/100\n",
      "460/460 [==============================] - 0s 83us/sample - loss: 0.5512 - accuracy: 0.7022 - val_loss: 0.4872 - val_accuracy: 0.7792\n",
      "Epoch 10/100\n",
      "460/460 [==============================] - 0s 69us/sample - loss: 0.5475 - accuracy: 0.7109 - val_loss: 0.4842 - val_accuracy: 0.7662\n",
      "Epoch 11/100\n",
      "460/460 [==============================] - 0s 75us/sample - loss: 0.5448 - accuracy: 0.7130 - val_loss: 0.4805 - val_accuracy: 0.7792\n",
      "Epoch 12/100\n",
      "460/460 [==============================] - 0s 68us/sample - loss: 0.5416 - accuracy: 0.7196 - val_loss: 0.4774 - val_accuracy: 0.7792\n",
      "Epoch 13/100\n",
      "460/460 [==============================] - 0s 66us/sample - loss: 0.5391 - accuracy: 0.7239 - val_loss: 0.4753 - val_accuracy: 0.7792\n",
      "Epoch 14/100\n",
      "460/460 [==============================] - 0s 66us/sample - loss: 0.5365 - accuracy: 0.7196 - val_loss: 0.4737 - val_accuracy: 0.7662\n",
      "Epoch 15/100\n",
      "460/460 [==============================] - 0s 67us/sample - loss: 0.5337 - accuracy: 0.7174 - val_loss: 0.4710 - val_accuracy: 0.7662\n",
      "Epoch 16/100\n",
      "460/460 [==============================] - 0s 67us/sample - loss: 0.5319 - accuracy: 0.7239 - val_loss: 0.4695 - val_accuracy: 0.7662\n",
      "Epoch 17/100\n",
      "460/460 [==============================] - 0s 65us/sample - loss: 0.5296 - accuracy: 0.7261 - val_loss: 0.4681 - val_accuracy: 0.7662\n",
      "Epoch 18/100\n",
      "460/460 [==============================] - 0s 67us/sample - loss: 0.5274 - accuracy: 0.7261 - val_loss: 0.4670 - val_accuracy: 0.7597\n",
      "Epoch 19/100\n",
      "460/460 [==============================] - 0s 70us/sample - loss: 0.5254 - accuracy: 0.7261 - val_loss: 0.4652 - val_accuracy: 0.7597\n",
      "Epoch 20/100\n",
      "460/460 [==============================] - 0s 68us/sample - loss: 0.5237 - accuracy: 0.7283 - val_loss: 0.4638 - val_accuracy: 0.7597\n",
      "Epoch 21/100\n",
      "460/460 [==============================] - 0s 69us/sample - loss: 0.5214 - accuracy: 0.7348 - val_loss: 0.4607 - val_accuracy: 0.7597\n",
      "Epoch 22/100\n",
      "460/460 [==============================] - 0s 64us/sample - loss: 0.5188 - accuracy: 0.7326 - val_loss: 0.4569 - val_accuracy: 0.7532\n",
      "Epoch 23/100\n",
      "460/460 [==============================] - 0s 67us/sample - loss: 0.5159 - accuracy: 0.7391 - val_loss: 0.4553 - val_accuracy: 0.7597\n",
      "Epoch 24/100\n",
      "460/460 [==============================] - 0s 68us/sample - loss: 0.5130 - accuracy: 0.7391 - val_loss: 0.4534 - val_accuracy: 0.7597\n",
      "Epoch 25/100\n",
      "460/460 [==============================] - 0s 66us/sample - loss: 0.5104 - accuracy: 0.7370 - val_loss: 0.4518 - val_accuracy: 0.7597\n",
      "Epoch 26/100\n",
      "460/460 [==============================] - 0s 70us/sample - loss: 0.5088 - accuracy: 0.7413 - val_loss: 0.4505 - val_accuracy: 0.7597\n",
      "Epoch 27/100\n",
      "460/460 [==============================] - 0s 68us/sample - loss: 0.5066 - accuracy: 0.7435 - val_loss: 0.4500 - val_accuracy: 0.7597\n",
      "Epoch 28/100\n",
      "460/460 [==============================] - 0s 72us/sample - loss: 0.5048 - accuracy: 0.7391 - val_loss: 0.4496 - val_accuracy: 0.7597\n",
      "Epoch 29/100\n",
      "460/460 [==============================] - 0s 73us/sample - loss: 0.5033 - accuracy: 0.7478 - val_loss: 0.4491 - val_accuracy: 0.7532\n",
      "Epoch 30/100\n",
      "460/460 [==============================] - 0s 64us/sample - loss: 0.5017 - accuracy: 0.7413 - val_loss: 0.4484 - val_accuracy: 0.7597\n",
      "Epoch 31/100\n",
      "460/460 [==============================] - 0s 63us/sample - loss: 0.5005 - accuracy: 0.7457 - val_loss: 0.4480 - val_accuracy: 0.7597\n",
      "Epoch 32/100\n",
      "460/460 [==============================] - 0s 73us/sample - loss: 0.4995 - accuracy: 0.7435 - val_loss: 0.4466 - val_accuracy: 0.7597\n",
      "Epoch 33/100\n",
      "460/460 [==============================] - 0s 68us/sample - loss: 0.4981 - accuracy: 0.7478 - val_loss: 0.4465 - val_accuracy: 0.7597\n",
      "Epoch 34/100\n",
      "460/460 [==============================] - 0s 67us/sample - loss: 0.4973 - accuracy: 0.7435 - val_loss: 0.4452 - val_accuracy: 0.7597\n",
      "Epoch 35/100\n",
      "460/460 [==============================] - 0s 67us/sample - loss: 0.4964 - accuracy: 0.7457 - val_loss: 0.4442 - val_accuracy: 0.7597\n",
      "Epoch 36/100\n",
      "460/460 [==============================] - 0s 80us/sample - loss: 0.4957 - accuracy: 0.7478 - val_loss: 0.4433 - val_accuracy: 0.7597\n",
      "Epoch 37/100\n",
      "460/460 [==============================] - 0s 66us/sample - loss: 0.4948 - accuracy: 0.7457 - val_loss: 0.4423 - val_accuracy: 0.7857\n",
      "Epoch 38/100\n",
      "460/460 [==============================] - 0s 61us/sample - loss: 0.4947 - accuracy: 0.7565 - val_loss: 0.4419 - val_accuracy: 0.7922\n",
      "Epoch 39/100\n",
      "460/460 [==============================] - 0s 64us/sample - loss: 0.4939 - accuracy: 0.7565 - val_loss: 0.4414 - val_accuracy: 0.7987\n",
      "Epoch 40/100\n",
      "460/460 [==============================] - 0s 65us/sample - loss: 0.4934 - accuracy: 0.7630 - val_loss: 0.4407 - val_accuracy: 0.8052\n",
      "Epoch 41/100\n",
      "460/460 [==============================] - 0s 67us/sample - loss: 0.4923 - accuracy: 0.7565 - val_loss: 0.4399 - val_accuracy: 0.8052\n",
      "Epoch 42/100\n",
      "460/460 [==============================] - 0s 62us/sample - loss: 0.4918 - accuracy: 0.7543 - val_loss: 0.4388 - val_accuracy: 0.8052\n",
      "Epoch 43/100\n",
      "460/460 [==============================] - 0s 65us/sample - loss: 0.4910 - accuracy: 0.7630 - val_loss: 0.4386 - val_accuracy: 0.8052\n",
      "Epoch 44/100\n",
      "460/460 [==============================] - 0s 62us/sample - loss: 0.4903 - accuracy: 0.7696 - val_loss: 0.4382 - val_accuracy: 0.8052\n",
      "Epoch 45/100\n",
      "460/460 [==============================] - 0s 66us/sample - loss: 0.4898 - accuracy: 0.7674 - val_loss: 0.4380 - val_accuracy: 0.8052\n",
      "Epoch 46/100\n",
      "460/460 [==============================] - 0s 63us/sample - loss: 0.4893 - accuracy: 0.7630 - val_loss: 0.4374 - val_accuracy: 0.8052\n",
      "Epoch 47/100\n",
      "460/460 [==============================] - 0s 68us/sample - loss: 0.4888 - accuracy: 0.7652 - val_loss: 0.4365 - val_accuracy: 0.8052\n",
      "Epoch 48/100\n",
      "460/460 [==============================] - 0s 73us/sample - loss: 0.4889 - accuracy: 0.7674 - val_loss: 0.4358 - val_accuracy: 0.8052\n",
      "Epoch 49/100\n",
      "460/460 [==============================] - 0s 87us/sample - loss: 0.4880 - accuracy: 0.7696 - val_loss: 0.4355 - val_accuracy: 0.8052\n",
      "Epoch 50/100\n",
      "460/460 [==============================] - 0s 63us/sample - loss: 0.4874 - accuracy: 0.7630 - val_loss: 0.4355 - val_accuracy: 0.8052\n",
      "Epoch 51/100\n",
      "460/460 [==============================] - 0s 63us/sample - loss: 0.4870 - accuracy: 0.7717 - val_loss: 0.4351 - val_accuracy: 0.8052\n",
      "Epoch 52/100\n",
      "460/460 [==============================] - 0s 63us/sample - loss: 0.4864 - accuracy: 0.7739 - val_loss: 0.4346 - val_accuracy: 0.7987\n",
      "Epoch 53/100\n",
      "460/460 [==============================] - 0s 65us/sample - loss: 0.4861 - accuracy: 0.7739 - val_loss: 0.4341 - val_accuracy: 0.7987\n",
      "Epoch 54/100\n",
      "460/460 [==============================] - 0s 71us/sample - loss: 0.4861 - accuracy: 0.7761 - val_loss: 0.4340 - val_accuracy: 0.7987\n",
      "Epoch 55/100\n",
      "460/460 [==============================] - 0s 61us/sample - loss: 0.4857 - accuracy: 0.7739 - val_loss: 0.4333 - val_accuracy: 0.7922\n",
      "Epoch 56/100\n",
      "460/460 [==============================] - 0s 62us/sample - loss: 0.4857 - accuracy: 0.7739 - val_loss: 0.4325 - val_accuracy: 0.7922\n",
      "Epoch 57/100\n",
      "460/460 [==============================] - 0s 63us/sample - loss: 0.4849 - accuracy: 0.7739 - val_loss: 0.4330 - val_accuracy: 0.7922\n",
      "Epoch 58/100\n",
      "460/460 [==============================] - 0s 68us/sample - loss: 0.4848 - accuracy: 0.7696 - val_loss: 0.4321 - val_accuracy: 0.7857\n",
      "Epoch 59/100\n",
      "460/460 [==============================] - 0s 63us/sample - loss: 0.4847 - accuracy: 0.7674 - val_loss: 0.4321 - val_accuracy: 0.7857\n",
      "Epoch 60/100\n",
      "460/460 [==============================] - 0s 64us/sample - loss: 0.4844 - accuracy: 0.7739 - val_loss: 0.4323 - val_accuracy: 0.7857\n",
      "Epoch 61/100\n",
      "460/460 [==============================] - 0s 62us/sample - loss: 0.4846 - accuracy: 0.7739 - val_loss: 0.4325 - val_accuracy: 0.7857\n",
      "Epoch 62/100\n",
      "460/460 [==============================] - 0s 65us/sample - loss: 0.4838 - accuracy: 0.7761 - val_loss: 0.4331 - val_accuracy: 0.7857\n",
      "Epoch 63/100\n",
      "460/460 [==============================] - 0s 61us/sample - loss: 0.4841 - accuracy: 0.7696 - val_loss: 0.4327 - val_accuracy: 0.7857\n",
      "Epoch 64/100\n",
      "460/460 [==============================] - 0s 62us/sample - loss: 0.4833 - accuracy: 0.7739 - val_loss: 0.4320 - val_accuracy: 0.7857\n",
      "Epoch 65/100\n",
      "460/460 [==============================] - 0s 66us/sample - loss: 0.4831 - accuracy: 0.7739 - val_loss: 0.4316 - val_accuracy: 0.7857\n",
      "Epoch 66/100\n",
      "460/460 [==============================] - 0s 62us/sample - loss: 0.4832 - accuracy: 0.7717 - val_loss: 0.4320 - val_accuracy: 0.7857\n",
      "Epoch 67/100\n",
      "460/460 [==============================] - 0s 67us/sample - loss: 0.4826 - accuracy: 0.7739 - val_loss: 0.4323 - val_accuracy: 0.7857\n",
      "Epoch 68/100\n",
      "460/460 [==============================] - 0s 60us/sample - loss: 0.4824 - accuracy: 0.7696 - val_loss: 0.4322 - val_accuracy: 0.7857\n",
      "Epoch 69/100\n",
      "460/460 [==============================] - 0s 64us/sample - loss: 0.4824 - accuracy: 0.7761 - val_loss: 0.4328 - val_accuracy: 0.7857\n",
      "Epoch 70/100\n",
      "460/460 [==============================] - 0s 60us/sample - loss: 0.4822 - accuracy: 0.7739 - val_loss: 0.4327 - val_accuracy: 0.7857\n",
      "Epoch 71/100\n",
      "460/460 [==============================] - 0s 63us/sample - loss: 0.4820 - accuracy: 0.7761 - val_loss: 0.4333 - val_accuracy: 0.7857\n",
      "Epoch 72/100\n",
      "460/460 [==============================] - 0s 67us/sample - loss: 0.4816 - accuracy: 0.7783 - val_loss: 0.4338 - val_accuracy: 0.7857\n",
      "Epoch 73/100\n",
      "460/460 [==============================] - 0s 64us/sample - loss: 0.4812 - accuracy: 0.7717 - val_loss: 0.4331 - val_accuracy: 0.7857\n",
      "Epoch 74/100\n",
      "460/460 [==============================] - 0s 68us/sample - loss: 0.4812 - accuracy: 0.7696 - val_loss: 0.4332 - val_accuracy: 0.7857\n",
      "Epoch 75/100\n",
      "460/460 [==============================] - 0s 62us/sample - loss: 0.4813 - accuracy: 0.7761 - val_loss: 0.4336 - val_accuracy: 0.7857\n",
      "Epoch 76/100\n",
      "460/460 [==============================] - 0s 65us/sample - loss: 0.4809 - accuracy: 0.7717 - val_loss: 0.4330 - val_accuracy: 0.7857\n",
      "Epoch 77/100\n",
      "460/460 [==============================] - 0s 61us/sample - loss: 0.4806 - accuracy: 0.7739 - val_loss: 0.4336 - val_accuracy: 0.7857\n",
      "Epoch 78/100\n",
      "460/460 [==============================] - 0s 64us/sample - loss: 0.4801 - accuracy: 0.7739 - val_loss: 0.4338 - val_accuracy: 0.7857\n",
      "Epoch 79/100\n",
      "460/460 [==============================] - 0s 65us/sample - loss: 0.4806 - accuracy: 0.7674 - val_loss: 0.4326 - val_accuracy: 0.7857\n",
      "Epoch 80/100\n",
      "460/460 [==============================] - 0s 68us/sample - loss: 0.4801 - accuracy: 0.7739 - val_loss: 0.4330 - val_accuracy: 0.7857\n",
      "Epoch 81/100\n",
      "460/460 [==============================] - 0s 63us/sample - loss: 0.4799 - accuracy: 0.7739 - val_loss: 0.4334 - val_accuracy: 0.7857\n",
      "Epoch 82/100\n",
      "460/460 [==============================] - 0s 64us/sample - loss: 0.4802 - accuracy: 0.7717 - val_loss: 0.4335 - val_accuracy: 0.7857\n",
      "Epoch 83/100\n",
      "460/460 [==============================] - 0s 66us/sample - loss: 0.4796 - accuracy: 0.7739 - val_loss: 0.4336 - val_accuracy: 0.7857\n",
      "Epoch 84/100\n",
      "460/460 [==============================] - 0s 64us/sample - loss: 0.4798 - accuracy: 0.7783 - val_loss: 0.4335 - val_accuracy: 0.7857\n",
      "Epoch 85/100\n",
      "460/460 [==============================] - 0s 65us/sample - loss: 0.4794 - accuracy: 0.7717 - val_loss: 0.4331 - val_accuracy: 0.7857\n",
      "Epoch 86/100\n",
      "460/460 [==============================] - 0s 61us/sample - loss: 0.4794 - accuracy: 0.7761 - val_loss: 0.4335 - val_accuracy: 0.7857\n",
      "Epoch 87/100\n",
      "460/460 [==============================] - 0s 65us/sample - loss: 0.4792 - accuracy: 0.7739 - val_loss: 0.4340 - val_accuracy: 0.7857\n",
      "Epoch 88/100\n",
      "460/460 [==============================] - 0s 64us/sample - loss: 0.4786 - accuracy: 0.7717 - val_loss: 0.4342 - val_accuracy: 0.7857\n",
      "Epoch 89/100\n",
      "460/460 [==============================] - 0s 64us/sample - loss: 0.4787 - accuracy: 0.7761 - val_loss: 0.4348 - val_accuracy: 0.7857\n",
      "Epoch 90/100\n",
      "460/460 [==============================] - 0s 64us/sample - loss: 0.4786 - accuracy: 0.7674 - val_loss: 0.4343 - val_accuracy: 0.7857\n",
      "Epoch 91/100\n",
      "460/460 [==============================] - 0s 64us/sample - loss: 0.4778 - accuracy: 0.7783 - val_loss: 0.4343 - val_accuracy: 0.7857\n",
      "Epoch 92/100\n",
      "460/460 [==============================] - 0s 68us/sample - loss: 0.4785 - accuracy: 0.7783 - val_loss: 0.4346 - val_accuracy: 0.7792\n",
      "Epoch 93/100\n",
      "460/460 [==============================] - 0s 63us/sample - loss: 0.4780 - accuracy: 0.7761 - val_loss: 0.4346 - val_accuracy: 0.7857\n",
      "Epoch 94/100\n",
      "460/460 [==============================] - 0s 66us/sample - loss: 0.4777 - accuracy: 0.7674 - val_loss: 0.4352 - val_accuracy: 0.7857\n",
      "Epoch 95/100\n",
      "460/460 [==============================] - 0s 63us/sample - loss: 0.4775 - accuracy: 0.7674 - val_loss: 0.4351 - val_accuracy: 0.7792\n",
      "Epoch 96/100\n",
      "460/460 [==============================] - 0s 63us/sample - loss: 0.4775 - accuracy: 0.7717 - val_loss: 0.4356 - val_accuracy: 0.7857\n",
      "Epoch 97/100\n",
      "460/460 [==============================] - 0s 65us/sample - loss: 0.4773 - accuracy: 0.7717 - val_loss: 0.4356 - val_accuracy: 0.7857\n",
      "Epoch 98/100\n",
      "460/460 [==============================] - 0s 67us/sample - loss: 0.4774 - accuracy: 0.7761 - val_loss: 0.4354 - val_accuracy: 0.7857\n",
      "Epoch 99/100\n",
      "460/460 [==============================] - 0s 64us/sample - loss: 0.4771 - accuracy: 0.7739 - val_loss: 0.4360 - val_accuracy: 0.7857\n",
      "Epoch 100/100\n",
      "460/460 [==============================] - 0s 62us/sample - loss: 0.4770 - accuracy: 0.7739 - val_loss: 0.4356 - val_accuracy: 0.7857\n",
      "154/154 [==============================] - 0s 34us/sample - loss: 0.4965 - accuracy: 0.7662\n"
     ]
    },
    {
     "data": {
      "image/png": "[encoded data removed]",
      "text/plain": [
       "<Figure size 864x576 with 1 Axes>"
      ]
     },
     "metadata": {
      "needs_background": "light"
     },
     "output_type": "display_data"
    }
   ],
   "source": [
    "import tensorflow \n",
    "from tensorflow.keras import Input\n",
    "from tensorflow.keras.models import Sequential\n",
    "from tensorflow.keras.layers import Dense\n",
    "from tensorflow.keras.losses import BinaryCrossentropy\n",
    "from tensorflow.keras.optimizers import SGD\n",
    "\n",
    "from sklearn.model_selection import train_test_split\n",
    "from sklearn.preprocessing import StandardScaler\n",
    "from sklearn.metrics import roc_curve, auc\n",
    "\n",
    "import matplotlib.pyplot as plt\n",
    "\n",
    "\n",
    "## Data preparation\n",
    "# Data Splitting\n",
    "X_train, X_test, y_train, y_test = train_test_split(diabetes[['Glucose','BMI','Age']], \n",
    "                                                    diabetes['Outcome'], \n",
    "                                                    test_size=0.2)\n",
    "\n",
    "# Data transformation       \n",
    "scaler = StandardScaler()\n",
    "scaler.fit(X_train)\n",
    "X_train = scaler.transform(X_train)\n",
    "X_test = scaler.transform(X_test)\n",
    "\n",
    "\n",
    "\n",
    "## Model building\n",
    "model = Sequential()\n",
    "model.add(Input(shape=(3,)))\n",
    "model.add(Dense(units=4, activation='relu'))\n",
    "model.add(Dense(1, activation='sigmoid'))\n",
    "\n",
    "## Model compilation\n",
    "# Loss function\n",
    "loss = BinaryCrossentropy()\n",
    "\n",
    "# Optimiser\n",
    "lr = 4e-2 \n",
    "optimiser = SGD(learning_rate=lr)\n",
    "\n",
    "model.compile(loss=loss,\n",
    "              optimizer=optimiser, \n",
    "              metrics=['accuracy'])\n",
    "\n",
    "## Model training\n",
    "epochs = 50\n",
    "batch_size = 16\n",
    "\n",
    "history = model.fit(x=X_train, y=y_train, \n",
    "                    validation_split=0.25,\n",
    "                    epochs=epochs,\n",
    "                    batch_size=batch_size)\n",
    "\n",
    "\n",
    "n_epochs = np.arange(0,epochs)\n",
    "\n",
    "fig, (ax1,ax2) = plt.subplots(2,1,figsize=(8,16))\n",
    "ax1.plot(n_epochs, history.history['loss'], label='training loss')\n",
    "ax1.plot(n_epochs, history.history['val_loss'], label='validation loss')\n",
    "ax1.set_ylim(-0.05,1.05)\n",
    "ax1.legend()\n",
    "\n",
    "ax2.plot(n_epochs, history.history['accuracy'], label='training accuracy')\n",
    "ax2.plot(n_epochs, history.history['val_accuracy'], label='validation accuracy')\n",
    "ax2.set_ylim(-0.05,1.05)\n",
    "ax2.legend()\n",
    "plt.show()\n",
    "\n",
    "## Prediciton\n",
    "y_pred = model.predict(X_test).ravel()\n",
    "\n",
    "## Model evaluation\n",
    "loss_and_metrics = model.evaluate(X_test, y_test, \n",
    "                                  batch_size=batch_size)\n",
    "\n",
    "fpr, tpr, thresholds_keras = roc_curve(y_test, y_pred)\n",
    "auc_keras = auc(fpr, tpr)\n",
    "\n",
    "fig, ax = plt.subplots(1,1,figsize=(12,8))\n",
    "ax.plot([0, 1], [0, 1], 'k--')\n",
    "ax.plot(fpr, tpr, label='Keras (area = {:.3f})'.format(auc_keras))\n",
    "ax.set_xlabel('False positive rate')\n",
    "ax.set_ylabel('True positive rate')\n",
    "ax.set_title('ROC curve')\n",
    "ax.legend(loc='best')\n",
    "\n",
    "plt.show()\n",
    "\n",
    "## Save model\n",
    "model.save('my_nn')"
   ]
  },
  {
   "cell_type": "code",
   "execution_count": null,
   "metadata": {},
   "outputs": [],
   "source": []
  },
  {
   "cell_type": "markdown",
   "metadata": {},
   "source": [
    "## Exercises"
   ]
  },
  {
   "cell_type": "markdown",
   "metadata": {},
   "source": [
    "Now that you know the basics to implement a neural network in *Keras*, it's time for you to get your hands dirty and get started."
   ]
  },
  {
   "cell_type": "markdown",
   "metadata": {},
   "source": [
    "### 1) Fully-connected neural network (Basic)"
   ]
  },
  {
   "cell_type": "markdown",
   "metadata": {},
   "source": [
    "***Task:*** Please **implement your own classifier to predict the outcome classes** in the diabetes dataset. <br>\n",
    "***Model:*** Use a fully-connected neural network with at least 1 hidden layer.<br> (*Note:* Since this is still a binary classification task, please use 1 unit and the sigmoid activation in your output layer.)<br>\n",
    "***Data:*** Use all available data features to predict the outcome class.\n",
    "\n",
    "Do your results look different from the ones in the example above?"
   ]
  },
  {
   "cell_type": "markdown",
   "metadata": {},
   "source": [
    "#### Data preparation"
   ]
  },
  {
   "cell_type": "code",
   "execution_count": 160,
   "metadata": {},
   "outputs": [],
   "source": [
    "### Data preparation ###\n",
    "# TO DO: Split and transform dataset\n",
    "\n",
    "\n"
   ]
  },
  {
   "cell_type": "markdown",
   "metadata": {},
   "source": [
    "#### Model building"
   ]
  },
  {
   "cell_type": "code",
   "execution_count": 161,
   "metadata": {},
   "outputs": [
    {
     "name": "stdout",
     "output_type": "stream",
     "text": [
      "Model: \"sequential_32\"\n",
      "_________________________________________________________________\n",
      "Layer (type)                 Output Shape              Param #   \n",
      "=================================================================\n",
      "dense_64 (Dense)             (None, 8)                 72        \n",
      "_________________________________________________________________\n",
      "dense_65 (Dense)             (None, 4)                 36        \n",
      "_________________________________________________________________\n",
      "dense_66 (Dense)             (None, 4)                 20        \n",
      "_________________________________________________________________\n",
      "dense_67 (Dense)             (None, 1)                 5         \n",
      "=================================================================\n",
      "Total params: 133\n",
      "Trainable params: 133\n",
      "Non-trainable params: 0\n",
      "_________________________________________________________________\n"
     ]
    }
   ],
   "source": [
    "### Model building ###\n",
    "model = Sequential()\n",
    "# TO DO: Create a neural network with at least 1 hidden layer\n",
    "\n",
    "\n",
    "model.summary()"
   ]
  },
  {
   "cell_type": "markdown",
   "metadata": {},
   "source": [
    "#### Model compilation"
   ]
  },
  {
   "cell_type": "code",
   "execution_count": 162,
   "metadata": {},
   "outputs": [],
   "source": [
    "# TO DO: Define loss function and optimiser\n",
    "\n",
    "\n",
    "# TO DO: compile model\n",
    "\n",
    "\n"
   ]
  },
  {
   "cell_type": "markdown",
   "metadata": {},
   "source": [
    "#### Model training"
   ]
  },
  {
   "cell_type": "code",
   "execution_count": 163,
   "metadata": {},
   "outputs": [
    {
     "name": "stdout",
     "output_type": "stream",
     "text": [
      "Train on 460 samples, validate on 154 samples\n",
      "Epoch 1/200\n",
      "460/460 [==============================] - 0s 503us/sample - loss: 0.7146 - accuracy: 0.6304 - val_loss: 0.7705 - val_accuracy: 0.5779\n",
      "Epoch 2/200\n",
      "460/460 [==============================] - 0s 78us/sample - loss: 0.7029 - accuracy: 0.6565 - val_loss: 0.7531 - val_accuracy: 0.5779\n",
      "Epoch 3/200\n",
      "460/460 [==============================] - 0s 85us/sample - loss: 0.6931 - accuracy: 0.6565 - val_loss: 0.7407 - val_accuracy: 0.5779\n",
      "Epoch 4/200\n",
      "460/460 [==============================] - 0s 91us/sample - loss: 0.6848 - accuracy: 0.6565 - val_loss: 0.7294 - val_accuracy: 0.5844\n",
      "Epoch 5/200\n",
      "460/460 [==============================] - 0s 81us/sample - loss: 0.6771 - accuracy: 0.6565 - val_loss: 0.7187 - val_accuracy: 0.5844\n",
      "Epoch 6/200\n",
      "460/460 [==============================] - 0s 75us/sample - loss: 0.6698 - accuracy: 0.6565 - val_loss: 0.7091 - val_accuracy: 0.5844\n",
      "Epoch 7/200\n",
      "460/460 [==============================] - 0s 86us/sample - loss: 0.6628 - accuracy: 0.6565 - val_loss: 0.6997 - val_accuracy: 0.5844\n",
      "Epoch 8/200\n",
      "460/460 [==============================] - 0s 76us/sample - loss: 0.6558 - accuracy: 0.6565 - val_loss: 0.6921 - val_accuracy: 0.5844\n",
      "Epoch 9/200\n",
      "460/460 [==============================] - 0s 78us/sample - loss: 0.6490 - accuracy: 0.6565 - val_loss: 0.6846 - val_accuracy: 0.5844\n",
      "Epoch 10/200\n",
      "460/460 [==============================] - 0s 88us/sample - loss: 0.6420 - accuracy: 0.6565 - val_loss: 0.6771 - val_accuracy: 0.5844\n",
      "Epoch 11/200\n",
      "460/460 [==============================] - 0s 80us/sample - loss: 0.6353 - accuracy: 0.6565 - val_loss: 0.6705 - val_accuracy: 0.5844\n",
      "Epoch 12/200\n",
      "460/460 [==============================] - 0s 78us/sample - loss: 0.6287 - accuracy: 0.6565 - val_loss: 0.6639 - val_accuracy: 0.5844\n",
      "Epoch 13/200\n",
      "460/460 [==============================] - 0s 82us/sample - loss: 0.6215 - accuracy: 0.6565 - val_loss: 0.6574 - val_accuracy: 0.5844\n",
      "Epoch 14/200\n",
      "460/460 [==============================] - 0s 90us/sample - loss: 0.6148 - accuracy: 0.6565 - val_loss: 0.6509 - val_accuracy: 0.5844\n",
      "Epoch 15/200\n",
      "460/460 [==============================] - 0s 87us/sample - loss: 0.6080 - accuracy: 0.6587 - val_loss: 0.6429 - val_accuracy: 0.5844\n",
      "Epoch 16/200\n",
      "460/460 [==============================] - 0s 76us/sample - loss: 0.6012 - accuracy: 0.6587 - val_loss: 0.6356 - val_accuracy: 0.5844\n",
      "Epoch 17/200\n",
      "460/460 [==============================] - 0s 76us/sample - loss: 0.5944 - accuracy: 0.6609 - val_loss: 0.6297 - val_accuracy: 0.5844\n",
      "Epoch 18/200\n",
      "460/460 [==============================] - 0s 77us/sample - loss: 0.5880 - accuracy: 0.6609 - val_loss: 0.6223 - val_accuracy: 0.5909\n",
      "Epoch 19/200\n",
      "460/460 [==============================] - 0s 75us/sample - loss: 0.5816 - accuracy: 0.6609 - val_loss: 0.6163 - val_accuracy: 0.5909\n",
      "Epoch 20/200\n",
      "460/460 [==============================] - 0s 78us/sample - loss: 0.5757 - accuracy: 0.6609 - val_loss: 0.6097 - val_accuracy: 0.5909\n",
      "Epoch 21/200\n",
      "460/460 [==============================] - 0s 77us/sample - loss: 0.5700 - accuracy: 0.6609 - val_loss: 0.6040 - val_accuracy: 0.6039\n",
      "Epoch 22/200\n",
      "460/460 [==============================] - 0s 82us/sample - loss: 0.5643 - accuracy: 0.6652 - val_loss: 0.5974 - val_accuracy: 0.6169\n",
      "Epoch 23/200\n",
      "460/460 [==============================] - 0s 86us/sample - loss: 0.5590 - accuracy: 0.6696 - val_loss: 0.5912 - val_accuracy: 0.6299\n",
      "Epoch 24/200\n",
      "460/460 [==============================] - 0s 94us/sample - loss: 0.5541 - accuracy: 0.6717 - val_loss: 0.5854 - val_accuracy: 0.6429\n",
      "Epoch 25/200\n",
      "460/460 [==============================] - 0s 91us/sample - loss: 0.5489 - accuracy: 0.6957 - val_loss: 0.5810 - val_accuracy: 0.6558\n",
      "Epoch 26/200\n",
      "460/460 [==============================] - 0s 84us/sample - loss: 0.5443 - accuracy: 0.6891 - val_loss: 0.5748 - val_accuracy: 0.7013\n",
      "Epoch 27/200\n",
      "460/460 [==============================] - 0s 88us/sample - loss: 0.5398 - accuracy: 0.6826 - val_loss: 0.5695 - val_accuracy: 0.7208\n",
      "Epoch 28/200\n",
      "460/460 [==============================] - 0s 81us/sample - loss: 0.5355 - accuracy: 0.6935 - val_loss: 0.5641 - val_accuracy: 0.7338\n",
      "Epoch 29/200\n",
      "460/460 [==============================] - 0s 81us/sample - loss: 0.5310 - accuracy: 0.7000 - val_loss: 0.5586 - val_accuracy: 0.7597\n",
      "Epoch 30/200\n",
      "460/460 [==============================] - 0s 100us/sample - loss: 0.5268 - accuracy: 0.7065 - val_loss: 0.5533 - val_accuracy: 0.7662\n",
      "Epoch 31/200\n",
      "460/460 [==============================] - 0s 91us/sample - loss: 0.5224 - accuracy: 0.7261 - val_loss: 0.5479 - val_accuracy: 0.7532\n",
      "Epoch 32/200\n",
      "460/460 [==============================] - 0s 89us/sample - loss: 0.5186 - accuracy: 0.7348 - val_loss: 0.5435 - val_accuracy: 0.7662\n",
      "Epoch 33/200\n",
      "460/460 [==============================] - 0s 89us/sample - loss: 0.5143 - accuracy: 0.7348 - val_loss: 0.5370 - val_accuracy: 0.7792\n",
      "Epoch 34/200\n",
      "460/460 [==============================] - 0s 73us/sample - loss: 0.5105 - accuracy: 0.7413 - val_loss: 0.5338 - val_accuracy: 0.7857\n",
      "Epoch 35/200\n",
      "460/460 [==============================] - 0s 76us/sample - loss: 0.5068 - accuracy: 0.7478 - val_loss: 0.5278 - val_accuracy: 0.8052\n",
      "Epoch 36/200\n",
      "460/460 [==============================] - 0s 79us/sample - loss: 0.5031 - accuracy: 0.7609 - val_loss: 0.5247 - val_accuracy: 0.8052\n",
      "Epoch 37/200\n",
      "460/460 [==============================] - 0s 92us/sample - loss: 0.5001 - accuracy: 0.7565 - val_loss: 0.5183 - val_accuracy: 0.8052\n",
      "Epoch 38/200\n",
      "460/460 [==============================] - 0s 85us/sample - loss: 0.4962 - accuracy: 0.7630 - val_loss: 0.5168 - val_accuracy: 0.8052\n",
      "Epoch 39/200\n",
      "460/460 [==============================] - 0s 80us/sample - loss: 0.4933 - accuracy: 0.7696 - val_loss: 0.5122 - val_accuracy: 0.8052\n",
      "Epoch 40/200\n",
      "460/460 [==============================] - 0s 98us/sample - loss: 0.4910 - accuracy: 0.7696 - val_loss: 0.5078 - val_accuracy: 0.8117\n",
      "Epoch 41/200\n",
      "460/460 [==============================] - 0s 87us/sample - loss: 0.4882 - accuracy: 0.7696 - val_loss: 0.5057 - val_accuracy: 0.8117\n",
      "Epoch 42/200\n",
      "460/460 [==============================] - 0s 84us/sample - loss: 0.4863 - accuracy: 0.7674 - val_loss: 0.5021 - val_accuracy: 0.8182\n",
      "Epoch 43/200\n",
      "460/460 [==============================] - 0s 83us/sample - loss: 0.4840 - accuracy: 0.7739 - val_loss: 0.4991 - val_accuracy: 0.8117\n",
      "Epoch 44/200\n",
      "460/460 [==============================] - 0s 86us/sample - loss: 0.4819 - accuracy: 0.7783 - val_loss: 0.4973 - val_accuracy: 0.8117\n",
      "Epoch 45/200\n",
      "460/460 [==============================] - 0s 122us/sample - loss: 0.4800 - accuracy: 0.7804 - val_loss: 0.4934 - val_accuracy: 0.8117\n",
      "Epoch 46/200\n",
      "460/460 [==============================] - 0s 108us/sample - loss: 0.4780 - accuracy: 0.7826 - val_loss: 0.4910 - val_accuracy: 0.8182\n",
      "Epoch 47/200\n",
      "460/460 [==============================] - 0s 97us/sample - loss: 0.4764 - accuracy: 0.7804 - val_loss: 0.4894 - val_accuracy: 0.8182\n",
      "Epoch 48/200\n",
      "460/460 [==============================] - 0s 85us/sample - loss: 0.4748 - accuracy: 0.7783 - val_loss: 0.4871 - val_accuracy: 0.8117\n",
      "Epoch 49/200\n",
      "460/460 [==============================] - 0s 90us/sample - loss: 0.4735 - accuracy: 0.7804 - val_loss: 0.4856 - val_accuracy: 0.8182\n",
      "Epoch 50/200\n",
      "460/460 [==============================] - 0s 93us/sample - loss: 0.4722 - accuracy: 0.7848 - val_loss: 0.4825 - val_accuracy: 0.8182\n",
      "Epoch 51/200\n",
      "460/460 [==============================] - 0s 87us/sample - loss: 0.4704 - accuracy: 0.7848 - val_loss: 0.4819 - val_accuracy: 0.8182\n",
      "Epoch 52/200\n",
      "460/460 [==============================] - 0s 87us/sample - loss: 0.4692 - accuracy: 0.7804 - val_loss: 0.4814 - val_accuracy: 0.8182\n",
      "Epoch 53/200\n",
      "460/460 [==============================] - 0s 84us/sample - loss: 0.4680 - accuracy: 0.7848 - val_loss: 0.4798 - val_accuracy: 0.8117\n",
      "Epoch 54/200\n",
      "460/460 [==============================] - 0s 78us/sample - loss: 0.4673 - accuracy: 0.7826 - val_loss: 0.4764 - val_accuracy: 0.8117\n",
      "Epoch 55/200\n",
      "460/460 [==============================] - 0s 73us/sample - loss: 0.4658 - accuracy: 0.7826 - val_loss: 0.4763 - val_accuracy: 0.8117\n",
      "Epoch 56/200\n"
     ]
    },
    {
     "name": "stdout",
     "output_type": "stream",
     "text": [
      "460/460 [==============================] - 0s 77us/sample - loss: 0.4648 - accuracy: 0.7804 - val_loss: 0.4756 - val_accuracy: 0.8117\n",
      "Epoch 57/200\n",
      "460/460 [==============================] - 0s 77us/sample - loss: 0.4640 - accuracy: 0.7826 - val_loss: 0.4741 - val_accuracy: 0.8117\n",
      "Epoch 58/200\n",
      "460/460 [==============================] - 0s 72us/sample - loss: 0.4627 - accuracy: 0.7826 - val_loss: 0.4722 - val_accuracy: 0.8182\n",
      "Epoch 59/200\n",
      "460/460 [==============================] - 0s 77us/sample - loss: 0.4619 - accuracy: 0.7826 - val_loss: 0.4716 - val_accuracy: 0.8182\n",
      "Epoch 60/200\n",
      "460/460 [==============================] - 0s 74us/sample - loss: 0.4614 - accuracy: 0.7870 - val_loss: 0.4715 - val_accuracy: 0.8182\n",
      "Epoch 61/200\n",
      "460/460 [==============================] - 0s 76us/sample - loss: 0.4601 - accuracy: 0.7848 - val_loss: 0.4701 - val_accuracy: 0.8182\n",
      "Epoch 62/200\n",
      "460/460 [==============================] - 0s 90us/sample - loss: 0.4593 - accuracy: 0.7848 - val_loss: 0.4702 - val_accuracy: 0.8182\n",
      "Epoch 63/200\n",
      "460/460 [==============================] - 0s 74us/sample - loss: 0.4584 - accuracy: 0.7848 - val_loss: 0.4698 - val_accuracy: 0.8117\n",
      "Epoch 64/200\n",
      "460/460 [==============================] - 0s 73us/sample - loss: 0.4579 - accuracy: 0.7848 - val_loss: 0.4679 - val_accuracy: 0.8117\n",
      "Epoch 65/200\n",
      "460/460 [==============================] - 0s 73us/sample - loss: 0.4568 - accuracy: 0.7870 - val_loss: 0.4675 - val_accuracy: 0.8117\n",
      "Epoch 66/200\n",
      "460/460 [==============================] - 0s 77us/sample - loss: 0.4562 - accuracy: 0.7913 - val_loss: 0.4665 - val_accuracy: 0.8117\n",
      "Epoch 67/200\n",
      "460/460 [==============================] - 0s 76us/sample - loss: 0.4559 - accuracy: 0.7891 - val_loss: 0.4663 - val_accuracy: 0.8117\n",
      "Epoch 68/200\n",
      "460/460 [==============================] - 0s 76us/sample - loss: 0.4542 - accuracy: 0.7935 - val_loss: 0.4656 - val_accuracy: 0.8117\n",
      "Epoch 69/200\n",
      "460/460 [==============================] - 0s 78us/sample - loss: 0.4536 - accuracy: 0.7913 - val_loss: 0.4655 - val_accuracy: 0.8117\n",
      "Epoch 70/200\n",
      "460/460 [==============================] - 0s 91us/sample - loss: 0.4534 - accuracy: 0.7957 - val_loss: 0.4650 - val_accuracy: 0.8117\n",
      "Epoch 71/200\n",
      "460/460 [==============================] - 0s 77us/sample - loss: 0.4527 - accuracy: 0.7935 - val_loss: 0.4645 - val_accuracy: 0.8117\n",
      "Epoch 72/200\n",
      "460/460 [==============================] - 0s 79us/sample - loss: 0.4519 - accuracy: 0.7978 - val_loss: 0.4636 - val_accuracy: 0.8117\n",
      "Epoch 73/200\n",
      "460/460 [==============================] - 0s 78us/sample - loss: 0.4515 - accuracy: 0.7935 - val_loss: 0.4641 - val_accuracy: 0.8117\n",
      "Epoch 74/200\n",
      "460/460 [==============================] - 0s 77us/sample - loss: 0.4506 - accuracy: 0.7978 - val_loss: 0.4635 - val_accuracy: 0.8117\n",
      "Epoch 75/200\n",
      "460/460 [==============================] - 0s 79us/sample - loss: 0.4500 - accuracy: 0.8000 - val_loss: 0.4620 - val_accuracy: 0.8117\n",
      "Epoch 76/200\n",
      "460/460 [==============================] - 0s 76us/sample - loss: 0.4492 - accuracy: 0.7957 - val_loss: 0.4630 - val_accuracy: 0.8182\n",
      "Epoch 77/200\n",
      "460/460 [==============================] - 0s 82us/sample - loss: 0.4489 - accuracy: 0.7913 - val_loss: 0.4621 - val_accuracy: 0.8117\n",
      "Epoch 78/200\n",
      "460/460 [==============================] - 0s 75us/sample - loss: 0.4480 - accuracy: 0.7935 - val_loss: 0.4635 - val_accuracy: 0.8182\n",
      "Epoch 79/200\n",
      "460/460 [==============================] - 0s 73us/sample - loss: 0.4475 - accuracy: 0.7891 - val_loss: 0.4618 - val_accuracy: 0.8182\n",
      "Epoch 80/200\n",
      "460/460 [==============================] - 0s 78us/sample - loss: 0.4468 - accuracy: 0.7891 - val_loss: 0.4622 - val_accuracy: 0.8182\n",
      "Epoch 81/200\n",
      "460/460 [==============================] - 0s 80us/sample - loss: 0.4462 - accuracy: 0.7891 - val_loss: 0.4616 - val_accuracy: 0.8182\n",
      "Epoch 82/200\n",
      "460/460 [==============================] - 0s 79us/sample - loss: 0.4455 - accuracy: 0.7913 - val_loss: 0.4637 - val_accuracy: 0.8117\n",
      "Epoch 83/200\n",
      "460/460 [==============================] - 0s 77us/sample - loss: 0.4447 - accuracy: 0.7913 - val_loss: 0.4623 - val_accuracy: 0.8117\n",
      "Epoch 84/200\n",
      "460/460 [==============================] - 0s 78us/sample - loss: 0.4444 - accuracy: 0.7913 - val_loss: 0.4623 - val_accuracy: 0.8117\n",
      "Epoch 85/200\n",
      "460/460 [==============================] - 0s 78us/sample - loss: 0.4438 - accuracy: 0.7935 - val_loss: 0.4616 - val_accuracy: 0.8182\n",
      "Epoch 86/200\n",
      "460/460 [==============================] - 0s 88us/sample - loss: 0.4430 - accuracy: 0.7957 - val_loss: 0.4623 - val_accuracy: 0.8182\n",
      "Epoch 87/200\n",
      "460/460 [==============================] - 0s 81us/sample - loss: 0.4424 - accuracy: 0.7978 - val_loss: 0.4625 - val_accuracy: 0.8182\n",
      "Epoch 88/200\n",
      "460/460 [==============================] - 0s 77us/sample - loss: 0.4419 - accuracy: 0.7978 - val_loss: 0.4642 - val_accuracy: 0.8182\n",
      "Epoch 89/200\n",
      "460/460 [==============================] - 0s 71us/sample - loss: 0.4413 - accuracy: 0.7978 - val_loss: 0.4618 - val_accuracy: 0.8182\n",
      "Epoch 90/200\n",
      "460/460 [==============================] - 0s 74us/sample - loss: 0.4407 - accuracy: 0.7957 - val_loss: 0.4634 - val_accuracy: 0.8182\n",
      "Epoch 91/200\n",
      "460/460 [==============================] - 0s 77us/sample - loss: 0.4398 - accuracy: 0.8000 - val_loss: 0.4635 - val_accuracy: 0.8182\n",
      "Epoch 92/200\n",
      "460/460 [==============================] - 0s 74us/sample - loss: 0.4388 - accuracy: 0.8000 - val_loss: 0.4633 - val_accuracy: 0.8182\n",
      "Epoch 93/200\n",
      "460/460 [==============================] - 0s 75us/sample - loss: 0.4384 - accuracy: 0.8022 - val_loss: 0.4629 - val_accuracy: 0.8182\n",
      "Epoch 94/200\n",
      "460/460 [==============================] - 0s 77us/sample - loss: 0.4377 - accuracy: 0.8000 - val_loss: 0.4639 - val_accuracy: 0.8117\n",
      "Epoch 95/200\n",
      "460/460 [==============================] - 0s 86us/sample - loss: 0.4372 - accuracy: 0.8000 - val_loss: 0.4636 - val_accuracy: 0.8117\n",
      "Epoch 96/200\n",
      "460/460 [==============================] - 0s 80us/sample - loss: 0.4364 - accuracy: 0.8022 - val_loss: 0.4632 - val_accuracy: 0.8182\n",
      "Epoch 97/200\n",
      "460/460 [==============================] - 0s 81us/sample - loss: 0.4364 - accuracy: 0.7957 - val_loss: 0.4630 - val_accuracy: 0.8182\n",
      "Epoch 98/200\n",
      "460/460 [==============================] - 0s 93us/sample - loss: 0.4357 - accuracy: 0.8000 - val_loss: 0.4638 - val_accuracy: 0.8117\n",
      "Epoch 99/200\n",
      "460/460 [==============================] - 0s 84us/sample - loss: 0.4348 - accuracy: 0.8000 - val_loss: 0.4632 - val_accuracy: 0.8182\n",
      "Epoch 100/200\n",
      "460/460 [==============================] - 0s 86us/sample - loss: 0.4345 - accuracy: 0.8000 - val_loss: 0.4626 - val_accuracy: 0.8247\n",
      "Epoch 101/200\n",
      "460/460 [==============================] - 0s 78us/sample - loss: 0.4341 - accuracy: 0.7978 - val_loss: 0.4635 - val_accuracy: 0.8117\n",
      "Epoch 102/200\n",
      "460/460 [==============================] - 0s 77us/sample - loss: 0.4336 - accuracy: 0.7957 - val_loss: 0.4640 - val_accuracy: 0.8312\n",
      "Epoch 103/200\n",
      "460/460 [==============================] - 0s 80us/sample - loss: 0.4331 - accuracy: 0.7957 - val_loss: 0.4637 - val_accuracy: 0.8247\n",
      "Epoch 104/200\n",
      "460/460 [==============================] - 0s 73us/sample - loss: 0.4327 - accuracy: 0.7935 - val_loss: 0.4655 - val_accuracy: 0.8182\n",
      "Epoch 105/200\n",
      "460/460 [==============================] - 0s 82us/sample - loss: 0.4322 - accuracy: 0.7935 - val_loss: 0.4638 - val_accuracy: 0.8312\n",
      "Epoch 106/200\n",
      "460/460 [==============================] - 0s 91us/sample - loss: 0.4319 - accuracy: 0.7978 - val_loss: 0.4632 - val_accuracy: 0.8312\n",
      "Epoch 107/200\n",
      "460/460 [==============================] - 0s 83us/sample - loss: 0.4315 - accuracy: 0.7957 - val_loss: 0.4650 - val_accuracy: 0.8247\n",
      "Epoch 108/200\n",
      "460/460 [==============================] - 0s 93us/sample - loss: 0.4312 - accuracy: 0.7978 - val_loss: 0.4627 - val_accuracy: 0.8312\n",
      "Epoch 109/200\n",
      "460/460 [==============================] - 0s 89us/sample - loss: 0.4306 - accuracy: 0.7978 - val_loss: 0.4628 - val_accuracy: 0.8312\n",
      "Epoch 110/200\n",
      "460/460 [==============================] - 0s 87us/sample - loss: 0.4300 - accuracy: 0.7978 - val_loss: 0.4652 - val_accuracy: 0.8247\n",
      "Epoch 111/200\n",
      "460/460 [==============================] - 0s 89us/sample - loss: 0.4301 - accuracy: 0.7957 - val_loss: 0.4652 - val_accuracy: 0.8247\n"
     ]
    },
    {
     "name": "stdout",
     "output_type": "stream",
     "text": [
      "Epoch 112/200\n",
      "460/460 [==============================] - 0s 77us/sample - loss: 0.4292 - accuracy: 0.7957 - val_loss: 0.4642 - val_accuracy: 0.8247\n",
      "Epoch 113/200\n",
      "460/460 [==============================] - 0s 83us/sample - loss: 0.4291 - accuracy: 0.7957 - val_loss: 0.4647 - val_accuracy: 0.8312\n",
      "Epoch 114/200\n",
      "460/460 [==============================] - 0s 85us/sample - loss: 0.4284 - accuracy: 0.7957 - val_loss: 0.4649 - val_accuracy: 0.8247\n",
      "Epoch 115/200\n",
      "460/460 [==============================] - 0s 89us/sample - loss: 0.4285 - accuracy: 0.7935 - val_loss: 0.4639 - val_accuracy: 0.8247\n",
      "Epoch 116/200\n",
      "460/460 [==============================] - 0s 89us/sample - loss: 0.4276 - accuracy: 0.7978 - val_loss: 0.4645 - val_accuracy: 0.8182\n",
      "Epoch 117/200\n",
      "460/460 [==============================] - 0s 79us/sample - loss: 0.4270 - accuracy: 0.8000 - val_loss: 0.4650 - val_accuracy: 0.8182\n",
      "Epoch 118/200\n",
      "460/460 [==============================] - 0s 80us/sample - loss: 0.4270 - accuracy: 0.7978 - val_loss: 0.4653 - val_accuracy: 0.8182\n",
      "Epoch 119/200\n",
      "460/460 [==============================] - 0s 84us/sample - loss: 0.4263 - accuracy: 0.8000 - val_loss: 0.4653 - val_accuracy: 0.8182\n",
      "Epoch 120/200\n",
      "460/460 [==============================] - 0s 85us/sample - loss: 0.4263 - accuracy: 0.8000 - val_loss: 0.4659 - val_accuracy: 0.8182\n",
      "Epoch 121/200\n",
      "460/460 [==============================] - 0s 94us/sample - loss: 0.4257 - accuracy: 0.8000 - val_loss: 0.4637 - val_accuracy: 0.8247\n",
      "Epoch 122/200\n",
      "460/460 [==============================] - 0s 88us/sample - loss: 0.4253 - accuracy: 0.7978 - val_loss: 0.4632 - val_accuracy: 0.8182\n",
      "Epoch 123/200\n",
      "460/460 [==============================] - 0s 94us/sample - loss: 0.4252 - accuracy: 0.7957 - val_loss: 0.4642 - val_accuracy: 0.8182\n",
      "Epoch 124/200\n",
      "460/460 [==============================] - 0s 78us/sample - loss: 0.4249 - accuracy: 0.8022 - val_loss: 0.4660 - val_accuracy: 0.8182\n",
      "Epoch 125/200\n",
      "460/460 [==============================] - 0s 82us/sample - loss: 0.4243 - accuracy: 0.7978 - val_loss: 0.4659 - val_accuracy: 0.8247\n",
      "Epoch 126/200\n",
      "460/460 [==============================] - 0s 78us/sample - loss: 0.4240 - accuracy: 0.7935 - val_loss: 0.4642 - val_accuracy: 0.8247\n",
      "Epoch 127/200\n",
      "460/460 [==============================] - 0s 76us/sample - loss: 0.4239 - accuracy: 0.8000 - val_loss: 0.4647 - val_accuracy: 0.8182\n",
      "Epoch 128/200\n",
      "460/460 [==============================] - 0s 72us/sample - loss: 0.4235 - accuracy: 0.8000 - val_loss: 0.4649 - val_accuracy: 0.8182\n",
      "Epoch 129/200\n",
      "460/460 [==============================] - 0s 76us/sample - loss: 0.4233 - accuracy: 0.8000 - val_loss: 0.4638 - val_accuracy: 0.8182\n",
      "Epoch 130/200\n",
      "460/460 [==============================] - 0s 75us/sample - loss: 0.4228 - accuracy: 0.8000 - val_loss: 0.4652 - val_accuracy: 0.8247\n",
      "Epoch 131/200\n",
      "460/460 [==============================] - 0s 74us/sample - loss: 0.4226 - accuracy: 0.8043 - val_loss: 0.4655 - val_accuracy: 0.8182\n",
      "Epoch 132/200\n",
      "460/460 [==============================] - 0s 75us/sample - loss: 0.4221 - accuracy: 0.7978 - val_loss: 0.4642 - val_accuracy: 0.8182\n",
      "Epoch 133/200\n",
      "460/460 [==============================] - 0s 84us/sample - loss: 0.4217 - accuracy: 0.8043 - val_loss: 0.4665 - val_accuracy: 0.8182\n",
      "Epoch 134/200\n",
      "460/460 [==============================] - 0s 71us/sample - loss: 0.4216 - accuracy: 0.8000 - val_loss: 0.4664 - val_accuracy: 0.8182\n",
      "Epoch 135/200\n",
      "460/460 [==============================] - 0s 74us/sample - loss: 0.4215 - accuracy: 0.8022 - val_loss: 0.4643 - val_accuracy: 0.8182\n",
      "Epoch 136/200\n",
      "460/460 [==============================] - 0s 79us/sample - loss: 0.4209 - accuracy: 0.8043 - val_loss: 0.4651 - val_accuracy: 0.8182\n",
      "Epoch 137/200\n",
      "460/460 [==============================] - 0s 77us/sample - loss: 0.4209 - accuracy: 0.8000 - val_loss: 0.4662 - val_accuracy: 0.8182\n",
      "Epoch 138/200\n",
      "460/460 [==============================] - 0s 83us/sample - loss: 0.4202 - accuracy: 0.8000 - val_loss: 0.4657 - val_accuracy: 0.8117\n",
      "Epoch 139/200\n",
      "460/460 [==============================] - 0s 77us/sample - loss: 0.4203 - accuracy: 0.8043 - val_loss: 0.4656 - val_accuracy: 0.8117\n",
      "Epoch 140/200\n",
      "460/460 [==============================] - 0s 78us/sample - loss: 0.4198 - accuracy: 0.8043 - val_loss: 0.4658 - val_accuracy: 0.8117\n",
      "Epoch 141/200\n",
      "460/460 [==============================] - 0s 73us/sample - loss: 0.4194 - accuracy: 0.8043 - val_loss: 0.4659 - val_accuracy: 0.8117\n",
      "Epoch 142/200\n",
      "460/460 [==============================] - 0s 79us/sample - loss: 0.4193 - accuracy: 0.8000 - val_loss: 0.4666 - val_accuracy: 0.8117\n",
      "Epoch 143/200\n",
      "460/460 [==============================] - 0s 79us/sample - loss: 0.4192 - accuracy: 0.8065 - val_loss: 0.4652 - val_accuracy: 0.8117\n",
      "Epoch 144/200\n",
      "460/460 [==============================] - 0s 76us/sample - loss: 0.4188 - accuracy: 0.8065 - val_loss: 0.4671 - val_accuracy: 0.8117\n",
      "Epoch 145/200\n",
      "460/460 [==============================] - 0s 81us/sample - loss: 0.4188 - accuracy: 0.8043 - val_loss: 0.4658 - val_accuracy: 0.8117\n",
      "Epoch 146/200\n",
      "460/460 [==============================] - 0s 77us/sample - loss: 0.4184 - accuracy: 0.8087 - val_loss: 0.4658 - val_accuracy: 0.8117\n",
      "Epoch 147/200\n",
      "460/460 [==============================] - 0s 78us/sample - loss: 0.4183 - accuracy: 0.8087 - val_loss: 0.4674 - val_accuracy: 0.8117\n",
      "Epoch 148/200\n",
      "460/460 [==============================] - 0s 77us/sample - loss: 0.4180 - accuracy: 0.8065 - val_loss: 0.4657 - val_accuracy: 0.8117\n",
      "Epoch 149/200\n",
      "460/460 [==============================] - 0s 78us/sample - loss: 0.4175 - accuracy: 0.8065 - val_loss: 0.4662 - val_accuracy: 0.8117\n",
      "Epoch 150/200\n",
      "460/460 [==============================] - 0s 76us/sample - loss: 0.4176 - accuracy: 0.8087 - val_loss: 0.4681 - val_accuracy: 0.8117\n",
      "Epoch 151/200\n",
      "460/460 [==============================] - 0s 77us/sample - loss: 0.4169 - accuracy: 0.8065 - val_loss: 0.4676 - val_accuracy: 0.8117\n",
      "Epoch 152/200\n",
      "460/460 [==============================] - 0s 77us/sample - loss: 0.4170 - accuracy: 0.8065 - val_loss: 0.4665 - val_accuracy: 0.8117\n",
      "Epoch 153/200\n",
      "460/460 [==============================] - 0s 76us/sample - loss: 0.4165 - accuracy: 0.8087 - val_loss: 0.4685 - val_accuracy: 0.8117\n",
      "Epoch 154/200\n",
      "460/460 [==============================] - 0s 81us/sample - loss: 0.4163 - accuracy: 0.8087 - val_loss: 0.4686 - val_accuracy: 0.8052\n",
      "Epoch 155/200\n",
      "460/460 [==============================] - 0s 74us/sample - loss: 0.4158 - accuracy: 0.8109 - val_loss: 0.4680 - val_accuracy: 0.8117\n",
      "Epoch 156/200\n",
      "460/460 [==============================] - 0s 74us/sample - loss: 0.4155 - accuracy: 0.8087 - val_loss: 0.4681 - val_accuracy: 0.8117\n",
      "Epoch 157/200\n",
      "460/460 [==============================] - 0s 75us/sample - loss: 0.4153 - accuracy: 0.8109 - val_loss: 0.4672 - val_accuracy: 0.8117\n",
      "Epoch 158/200\n",
      "460/460 [==============================] - 0s 80us/sample - loss: 0.4149 - accuracy: 0.8087 - val_loss: 0.4676 - val_accuracy: 0.8117\n",
      "Epoch 159/200\n",
      "460/460 [==============================] - 0s 76us/sample - loss: 0.4147 - accuracy: 0.8130 - val_loss: 0.4672 - val_accuracy: 0.8052\n",
      "Epoch 160/200\n",
      "460/460 [==============================] - 0s 75us/sample - loss: 0.4143 - accuracy: 0.8130 - val_loss: 0.4689 - val_accuracy: 0.8117\n",
      "Epoch 161/200\n",
      "460/460 [==============================] - 0s 76us/sample - loss: 0.4140 - accuracy: 0.8152 - val_loss: 0.4683 - val_accuracy: 0.8052\n",
      "Epoch 162/200\n",
      "460/460 [==============================] - 0s 76us/sample - loss: 0.4137 - accuracy: 0.8174 - val_loss: 0.4679 - val_accuracy: 0.8052\n",
      "Epoch 163/200\n",
      "460/460 [==============================] - 0s 77us/sample - loss: 0.4137 - accuracy: 0.8196 - val_loss: 0.4674 - val_accuracy: 0.8052\n",
      "Epoch 164/200\n",
      "460/460 [==============================] - 0s 78us/sample - loss: 0.4131 - accuracy: 0.8174 - val_loss: 0.4688 - val_accuracy: 0.8052\n",
      "Epoch 165/200\n",
      "460/460 [==============================] - 0s 79us/sample - loss: 0.4128 - accuracy: 0.8152 - val_loss: 0.4694 - val_accuracy: 0.8052\n",
      "Epoch 166/200\n",
      "460/460 [==============================] - 0s 77us/sample - loss: 0.4126 - accuracy: 0.8152 - val_loss: 0.4689 - val_accuracy: 0.8052\n",
      "Epoch 167/200\n"
     ]
    },
    {
     "name": "stdout",
     "output_type": "stream",
     "text": [
      "460/460 [==============================] - 0s 73us/sample - loss: 0.4125 - accuracy: 0.8196 - val_loss: 0.4687 - val_accuracy: 0.8052\n",
      "Epoch 168/200\n",
      "460/460 [==============================] - 0s 80us/sample - loss: 0.4122 - accuracy: 0.8217 - val_loss: 0.4698 - val_accuracy: 0.8052\n",
      "Epoch 169/200\n",
      "460/460 [==============================] - 0s 74us/sample - loss: 0.4123 - accuracy: 0.8196 - val_loss: 0.4680 - val_accuracy: 0.8052\n",
      "Epoch 170/200\n",
      "460/460 [==============================] - 0s 73us/sample - loss: 0.4114 - accuracy: 0.8130 - val_loss: 0.4699 - val_accuracy: 0.8052\n",
      "Epoch 171/200\n",
      "460/460 [==============================] - 0s 74us/sample - loss: 0.4112 - accuracy: 0.8174 - val_loss: 0.4701 - val_accuracy: 0.8052\n",
      "Epoch 172/200\n",
      "460/460 [==============================] - 0s 79us/sample - loss: 0.4106 - accuracy: 0.8152 - val_loss: 0.4696 - val_accuracy: 0.8052\n",
      "Epoch 173/200\n",
      "460/460 [==============================] - 0s 78us/sample - loss: 0.4108 - accuracy: 0.8152 - val_loss: 0.4719 - val_accuracy: 0.8052\n",
      "Epoch 174/200\n",
      "460/460 [==============================] - 0s 77us/sample - loss: 0.4108 - accuracy: 0.8130 - val_loss: 0.4707 - val_accuracy: 0.8052\n",
      "Epoch 175/200\n",
      "460/460 [==============================] - 0s 79us/sample - loss: 0.4099 - accuracy: 0.8174 - val_loss: 0.4717 - val_accuracy: 0.8052\n",
      "Epoch 176/200\n",
      "460/460 [==============================] - 0s 77us/sample - loss: 0.4097 - accuracy: 0.8217 - val_loss: 0.4717 - val_accuracy: 0.8052\n",
      "Epoch 177/200\n",
      "460/460 [==============================] - 0s 84us/sample - loss: 0.4094 - accuracy: 0.8196 - val_loss: 0.4715 - val_accuracy: 0.8052\n",
      "Epoch 178/200\n",
      "460/460 [==============================] - 0s 76us/sample - loss: 0.4092 - accuracy: 0.8196 - val_loss: 0.4722 - val_accuracy: 0.8052\n",
      "Epoch 179/200\n",
      "460/460 [==============================] - 0s 74us/sample - loss: 0.4092 - accuracy: 0.8217 - val_loss: 0.4740 - val_accuracy: 0.7922\n",
      "Epoch 180/200\n",
      "460/460 [==============================] - 0s 78us/sample - loss: 0.4088 - accuracy: 0.8196 - val_loss: 0.4725 - val_accuracy: 0.8052\n",
      "Epoch 181/200\n",
      "460/460 [==============================] - 0s 80us/sample - loss: 0.4087 - accuracy: 0.8196 - val_loss: 0.4721 - val_accuracy: 0.8052\n",
      "Epoch 182/200\n",
      "460/460 [==============================] - 0s 86us/sample - loss: 0.4083 - accuracy: 0.8196 - val_loss: 0.4724 - val_accuracy: 0.8052\n",
      "Epoch 183/200\n",
      "460/460 [==============================] - 0s 79us/sample - loss: 0.4083 - accuracy: 0.8217 - val_loss: 0.4727 - val_accuracy: 0.8052\n",
      "Epoch 184/200\n",
      "460/460 [==============================] - 0s 75us/sample - loss: 0.4086 - accuracy: 0.8174 - val_loss: 0.4753 - val_accuracy: 0.7922\n",
      "Epoch 185/200\n",
      "460/460 [==============================] - 0s 80us/sample - loss: 0.4077 - accuracy: 0.8217 - val_loss: 0.4732 - val_accuracy: 0.8052\n",
      "Epoch 186/200\n",
      "460/460 [==============================] - 0s 74us/sample - loss: 0.4073 - accuracy: 0.8239 - val_loss: 0.4726 - val_accuracy: 0.8052\n",
      "Epoch 187/200\n",
      "460/460 [==============================] - 0s 78us/sample - loss: 0.4072 - accuracy: 0.8239 - val_loss: 0.4739 - val_accuracy: 0.8052\n",
      "Epoch 188/200\n",
      "460/460 [==============================] - 0s 76us/sample - loss: 0.4068 - accuracy: 0.8196 - val_loss: 0.4744 - val_accuracy: 0.7987\n",
      "Epoch 189/200\n",
      "460/460 [==============================] - 0s 75us/sample - loss: 0.4071 - accuracy: 0.8217 - val_loss: 0.4737 - val_accuracy: 0.8052\n",
      "Epoch 190/200\n",
      "460/460 [==============================] - 0s 80us/sample - loss: 0.4065 - accuracy: 0.8239 - val_loss: 0.4734 - val_accuracy: 0.8052\n",
      "Epoch 191/200\n",
      "460/460 [==============================] - 0s 86us/sample - loss: 0.4059 - accuracy: 0.8261 - val_loss: 0.4749 - val_accuracy: 0.8052\n",
      "Epoch 192/200\n",
      "460/460 [==============================] - 0s 79us/sample - loss: 0.4060 - accuracy: 0.8261 - val_loss: 0.4759 - val_accuracy: 0.7987\n",
      "Epoch 193/200\n",
      "460/460 [==============================] - 0s 80us/sample - loss: 0.4059 - accuracy: 0.8239 - val_loss: 0.4756 - val_accuracy: 0.7987\n",
      "Epoch 194/200\n",
      "460/460 [==============================] - 0s 76us/sample - loss: 0.4055 - accuracy: 0.8261 - val_loss: 0.4761 - val_accuracy: 0.7987\n",
      "Epoch 195/200\n",
      "460/460 [==============================] - 0s 80us/sample - loss: 0.4055 - accuracy: 0.8261 - val_loss: 0.4751 - val_accuracy: 0.7987\n",
      "Epoch 196/200\n",
      "460/460 [==============================] - 0s 74us/sample - loss: 0.4053 - accuracy: 0.8239 - val_loss: 0.4745 - val_accuracy: 0.7987\n",
      "Epoch 197/200\n",
      "460/460 [==============================] - 0s 75us/sample - loss: 0.4048 - accuracy: 0.8261 - val_loss: 0.4782 - val_accuracy: 0.7922\n",
      "Epoch 198/200\n",
      "460/460 [==============================] - 0s 79us/sample - loss: 0.4050 - accuracy: 0.8304 - val_loss: 0.4791 - val_accuracy: 0.7857\n",
      "Epoch 199/200\n",
      "460/460 [==============================] - 0s 77us/sample - loss: 0.4044 - accuracy: 0.8283 - val_loss: 0.4761 - val_accuracy: 0.7987\n",
      "Epoch 200/200\n",
      "460/460 [==============================] - 0s 74us/sample - loss: 0.4038 - accuracy: 0.8283 - val_loss: 0.4770 - val_accuracy: 0.7922\n"
     ]
    }
   ],
   "source": [
    "# TO DO: Choose the training length and batch size\n",
    "\n",
    "history = # TO DO: Train your model (Don't forget validation_split)\n",
    "\n"
   ]
  },
  {
   "cell_type": "code",
   "execution_count": 164,
   "metadata": {},
   "outputs": [
    {
     "data": {
      "image/png": "[encoded data removed]",
      "text/plain": [
       "<Figure size 576x1152 with 2 Axes>"
      ]
     },
     "metadata": {
      "needs_background": "light"
     },
     "output_type": "display_data"
    }
   ],
   "source": [
    "n_epochs = np.arange(0,epochs)\n",
    "\n",
    "fig, (ax1,ax2) = plt.subplots(2,1,figsize=(8,16))\n",
    "ax1.plot(n_epochs, history.history['loss'], label='training loss')\n",
    "ax1.plot(n_epochs, history.history['val_loss'], label='validation loss')\n",
    "ax1.set_ylim(-0.05,1.05)\n",
    "ax1.legend()\n",
    "\n",
    "ax2.plot(n_epochs, history.history['accuracy'], label='training accuracy')\n",
    "ax2.plot(n_epochs, history.history['val_accuracy'], label='validation accuracy')\n",
    "ax2.set_ylim(-0.05,1.05)\n",
    "ax2.legend()\n",
    "plt.show()"
   ]
  },
  {
   "cell_type": "markdown",
   "metadata": {},
   "source": [
    "#### Model evaluation"
   ]
  },
  {
   "cell_type": "code",
   "execution_count": null,
   "metadata": {},
   "outputs": [],
   "source": [
    "# TO DO: Calculate test loss and accurcy"
   ]
  },
  {
   "cell_type": "code",
   "execution_count": null,
   "metadata": {},
   "outputs": [],
   "source": []
  },
  {
   "cell_type": "code",
   "execution_count": null,
   "metadata": {},
   "outputs": [],
   "source": []
  },
  {
   "cell_type": "markdown",
   "metadata": {},
   "source": [
    "### 2) Convolutional neural network (Advanced)"
   ]
  },
  {
   "cell_type": "markdown",
   "metadata": {},
   "source": [
    "The second task is to implement a multi-class image classifier for the famous MNIST dataset. This dataset contains 70,000 (28*28 pixel) images of digits 0-9.\n",
    "\n",
    "<img src=\"https://upload.wikimedia.org/wikipedia/commons/2/27/MnistExamples.png\" width=\"40%\">\n",
    "\n",
    "*Source: https://upload.wikimedia.org/wikipedia/commons/2/27/MnistExamples.png*\n",
    "\n",
    "\n",
    "***Task:*** Please **implement your own multi-class image classifier to predict the outcome classes** in the diabetes dataset. <br>\n",
    "***Model:*** Use a convolutional neural network with at least 1 hidden convolutional layer.<br> (*Note:* Since this is still a multi-class classification task, please use 10 units and the softmax activation in your output layer.)<br>\n",
    "***Data:*** Use the 28*28 pixel images to predict the digit class.\n"
   ]
  },
  {
   "cell_type": "markdown",
   "metadata": {},
   "source": [
    "#### Data preparation"
   ]
  },
  {
   "cell_type": "markdown",
   "metadata": {},
   "source": [
    "Before we can use the MNIST data to predict the class labels, we have to **split** the dataset, **normalise** (transform range from 0-255 to 0-1) and reshape the data and **one-hot encode** the target. The data preparation step is already done for you, just execute the following cell and check the data."
   ]
  },
  {
   "cell_type": "code",
   "execution_count": 165,
   "metadata": {},
   "outputs": [],
   "source": [
    "# Import the MNIST dataset\n",
    "from tensorflow.keras.datasets import mnist\n",
    "from tensorflow.keras.utils import to_categorical\n",
    "\n",
    "# Load MNIST images and labels and normalise (range 0 to 1) image data\n",
    "(X_train, y_train), (X_test, y_test) = mnist.load_data() # 60,000 training + 10,000 test images/labels\n",
    "X_train = X_train / 255.0\n",
    "X_test  = X_test / 255.0\n",
    "\n",
    "# Reshape dataset to have a single channel \n",
    "X_train = trainX.reshape((X_train.shape[0], 28, 28, 1)) # The CNN requires this layout\n",
    "X_test = testX.reshape((X_test.shape[0], 28, 28, 1)) # The CNN requires this layout\n",
    "\n",
    "# One-hot encode target values\n",
    "y_train = to_categorical(y_train)\n",
    "y_test = to_categorical(y_test)"
   ]
  },
  {
   "cell_type": "markdown",
   "metadata": {},
   "source": [
    "Let's have a look at the image data..."
   ]
  },
  {
   "cell_type": "code",
   "execution_count": 166,
   "metadata": {
    "scrolled": true
   },
   "outputs": [
    {
     "data": {
      "image/png": "[encoded data removed]",
      "text/plain": [
       "<Figure size 864x288 with 4 Axes>"
      ]
     },
     "metadata": {
      "needs_background": "light"
     },
     "output_type": "display_data"
    }
   ],
   "source": [
    "fig, (ax1,ax2,ax3,ax4) = plt.subplots(1,4, figsize=(12,4))\n",
    "ax1.imshow(X_train[0,:,:,0])\n",
    "ax2.imshow(X_train[1,:,:,0])\n",
    "ax3.imshow(X_train[2,:,:,0])\n",
    "ax4.imshow(X_train[3,:,:,0]);"
   ]
  },
  {
   "cell_type": "markdown",
   "metadata": {},
   "source": [
    "and the one-hot encoded target variable."
   ]
  },
  {
   "cell_type": "code",
   "execution_count": 174,
   "metadata": {},
   "outputs": [
    {
     "data": {
      "text/plain": [
       "array([[0., 0., 0., 0., 0., 1., 0., 0., 0., 0.],\n",
       "       [1., 0., 0., 0., 0., 0., 0., 0., 0., 0.],\n",
       "       [0., 0., 0., 0., 1., 0., 0., 0., 0., 0.],\n",
       "       [0., 1., 0., 0., 0., 0., 0., 0., 0., 0.]], dtype=float32)"
      ]
     },
     "execution_count": 174,
     "metadata": {},
     "output_type": "execute_result"
    }
   ],
   "source": [
    "y_train[:4]"
   ]
  },
  {
   "cell_type": "markdown",
   "metadata": {},
   "source": [
    "Instead of the categorical class values, we now have vector with length equal to the number of categories. The i-th component equal to 1 if target is assigned to the i-th category and the other components are 0. Using this transformation, we transform the categorical variable to a numerical form."
   ]
  },
  {
   "cell_type": "markdown",
   "metadata": {},
   "source": [
    "#### Model compilation"
   ]
  },
  {
   "cell_type": "markdown",
   "metadata": {},
   "source": [
    "Now, it's time to implement your convolutional neural network. The last layers of the network are fully-connected layers with 256 units and ReLu activation function as well as a fully-connected output layer with 10 units and softmax activation funtion, since we face a classification task with 10 classes."
   ]
  },
  {
   "cell_type": "code",
   "execution_count": 167,
   "metadata": {},
   "outputs": [],
   "source": [
    "from tensorflow.keras.layers import Conv2D, Flatten\n",
    "\n",
    "model = Sequential()\n",
    "model.add(Input(shape=(28,28,1)))\n",
    "# TO DO: Add at least 1 convolutional layer\n",
    "\n",
    "model.add(Flatten()) # This flattens your 28*28 image into a vector of length (28*28=) 784. \n",
    "model.add(Dense(256, activation='relu')) \n",
    "model.add(Dense(10, activation='softmax')) \n",
    "\n",
    "model.summary()"
   ]
  },
  {
   "cell_type": "markdown",
   "metadata": {},
   "source": [
    "#### Model compilation"
   ]
  },
  {
   "cell_type": "code",
   "execution_count": 168,
   "metadata": {},
   "outputs": [],
   "source": [
    "from tensorflow.keras.losses import CategoricalCrossentropy\n",
    "\n",
    "loss = CategoricalCrossentropy()\n",
    "# TO DO: Define loss function\n",
    "\n",
    "# TO DO: Compile your model"
   ]
  },
  {
   "cell_type": "markdown",
   "metadata": {},
   "source": [
    "#### Model training"
   ]
  },
  {
   "cell_type": "code",
   "execution_count": 169,
   "metadata": {},
   "outputs": [
    {
     "name": "stdout",
     "output_type": "stream",
     "text": [
      "Train on 48000 samples, validate on 12000 samples\n",
      "Epoch 1/20\n",
      "48000/48000 [==============================] - 36s 750us/sample - loss: 0.8434 - accuracy: 0.8026 - val_loss: 0.2636 - val_accuracy: 0.9223\n",
      "Epoch 2/20\n",
      "48000/48000 [==============================] - 35s 733us/sample - loss: 0.2202 - accuracy: 0.9346 - val_loss: 0.1828 - val_accuracy: 0.9471\n",
      "Epoch 3/20\n",
      "48000/48000 [==============================] - 35s 730us/sample - loss: 0.1496 - accuracy: 0.9548 - val_loss: 0.1463 - val_accuracy: 0.9557\n",
      "Epoch 4/20\n",
      "48000/48000 [==============================] - 35s 724us/sample - loss: 0.1149 - accuracy: 0.9653 - val_loss: 0.1315 - val_accuracy: 0.9624\n",
      "Epoch 5/20\n",
      "48000/48000 [==============================] - 35s 720us/sample - loss: 0.0928 - accuracy: 0.9719 - val_loss: 0.1158 - val_accuracy: 0.9657\n",
      "Epoch 6/20\n",
      "48000/48000 [==============================] - 35s 724us/sample - loss: 0.0782 - accuracy: 0.9766 - val_loss: 0.1066 - val_accuracy: 0.9681\n",
      "Epoch 7/20\n",
      "48000/48000 [==============================] - 35s 723us/sample - loss: 0.0669 - accuracy: 0.9797 - val_loss: 0.1047 - val_accuracy: 0.9701\n",
      "Epoch 8/20\n",
      "48000/48000 [==============================] - 38s 787us/sample - loss: 0.0578 - accuracy: 0.9827 - val_loss: 0.0949 - val_accuracy: 0.9712\n",
      "Epoch 9/20\n",
      "48000/48000 [==============================] - 39s 819us/sample - loss: 0.0512 - accuracy: 0.9852 - val_loss: 0.0937 - val_accuracy: 0.9722\n",
      "Epoch 10/20\n",
      "48000/48000 [==============================] - 38s 788us/sample - loss: 0.0446 - accuracy: 0.9869 - val_loss: 0.0921 - val_accuracy: 0.9732\n",
      "Epoch 11/20\n",
      "48000/48000 [==============================] - 38s 787us/sample - loss: 0.0397 - accuracy: 0.9887 - val_loss: 0.0879 - val_accuracy: 0.9749\n",
      "Epoch 12/20\n",
      "48000/48000 [==============================] - 37s 776us/sample - loss: 0.0355 - accuracy: 0.9900 - val_loss: 0.0845 - val_accuracy: 0.9758\n",
      "Epoch 13/20\n",
      "48000/48000 [==============================] - 38s 791us/sample - loss: 0.0314 - accuracy: 0.9917 - val_loss: 0.0858 - val_accuracy: 0.9761\n",
      "Epoch 14/20\n",
      "48000/48000 [==============================] - 37s 774us/sample - loss: 0.0285 - accuracy: 0.9923 - val_loss: 0.0834 - val_accuracy: 0.9778\n",
      "Epoch 15/20\n",
      "48000/48000 [==============================] - 36s 745us/sample - loss: 0.0252 - accuracy: 0.9935 - val_loss: 0.0816 - val_accuracy: 0.9764\n",
      "Epoch 16/20\n",
      "48000/48000 [==============================] - 36s 747us/sample - loss: 0.0225 - accuracy: 0.9944 - val_loss: 0.0816 - val_accuracy: 0.9779\n",
      "Epoch 17/20\n",
      "48000/48000 [==============================] - 36s 748us/sample - loss: 0.0205 - accuracy: 0.9950 - val_loss: 0.0831 - val_accuracy: 0.9782\n",
      "Epoch 18/20\n",
      "48000/48000 [==============================] - 38s 790us/sample - loss: 0.0184 - accuracy: 0.9956 - val_loss: 0.0823 - val_accuracy: 0.9787\n",
      "Epoch 19/20\n",
      "48000/48000 [==============================] - 38s 797us/sample - loss: 0.0166 - accuracy: 0.9962 - val_loss: 0.0826 - val_accuracy: 0.9775\n",
      "Epoch 20/20\n",
      "48000/48000 [==============================] - 39s 802us/sample - loss: 0.0149 - accuracy: 0.9968 - val_loss: 0.0815 - val_accuracy: 0.9786\n"
     ]
    }
   ],
   "source": [
    "# TO DO: Choose the training length and batch size\n",
    "\n",
    "history = # TO DO: Train your model (Don't forget validation_split!)\n"
   ]
  },
  {
   "cell_type": "code",
   "execution_count": 170,
   "metadata": {},
   "outputs": [
    {
     "data": {
      "image/png": "[encoded data removed]",
      "text/plain": [
       "<Figure size 576x1152 with 2 Axes>"
      ]
     },
     "metadata": {
      "needs_background": "light"
     },
     "output_type": "display_data"
    }
   ],
   "source": [
    "n_epochs = np.arange(0,20)\n",
    "\n",
    "fig, (ax1,ax2) = plt.subplots(2,1,figsize=(8,16))\n",
    "ax1.plot(n_epochs, history.history['loss'], label='training loss')\n",
    "ax1.plot(n_epochs, history.history['val_loss'], label='validation loss')\n",
    "ax1.set_ylim(-0.05,1.05)\n",
    "ax1.legend()\n",
    "\n",
    "ax2.plot(n_epochs, history.history['accuracy'], label='training accuracy')\n",
    "ax2.plot(n_epochs, history.history['val_accuracy'], label='validation accuracy')\n",
    "ax2.set_ylim(-0.05,1.05)\n",
    "ax2.legend()\n",
    "\n",
    "plt.show()"
   ]
  },
  {
   "cell_type": "markdown",
   "metadata": {},
   "source": [
    "#### Model evaluation"
   ]
  },
  {
   "cell_type": "code",
   "execution_count": 171,
   "metadata": {},
   "outputs": [
    {
     "name": "stdout",
     "output_type": "stream",
     "text": [
      "10000/10000 [==============================] - 3s 276us/sample - loss: 0.0716 - accuracy: 0.9798\n"
     ]
    }
   ],
   "source": [
    "# TO DO: Calculate test loss and accurcy"
   ]
  }
 ],
 "metadata": {
  "kernelspec": {
   "display_name": "Python 3",
   "language": "python",
   "name": "python3"
  },
  "language_info": {
   "codemirror_mode": {
    "name": "ipython",
    "version": 3
   },
   "file_extension": ".py",
   "mimetype": "text/x-python",
   "name": "python",
   "nbconvert_exporter": "python",
   "pygments_lexer": "ipython3",
   "version": "3.7.5"
  }
 },
 "nbformat": 4,
 "nbformat_minor": 4
}
