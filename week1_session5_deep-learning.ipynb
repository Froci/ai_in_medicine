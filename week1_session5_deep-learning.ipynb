{
 "cells": [
  {
   "cell_type": "markdown",
   "metadata": {},
   "source": [
    "# AI in Medicine: Data Science - Basics IV"
   ]
  },
  {
   "cell_type": "markdown",
   "metadata": {},
   "source": [
    "## Python Programming: Deep Learning using *Keras*"
   ]
  },
  {
   "cell_type": "markdown",
   "metadata": {},
   "source": [
    "*Instructor:* Moritz Seiler, AG Ritter, Charité - Universitätsmedizin Berlin (moritz.seiler@charite.de) <br>\n",
    "*Target audience:* Medical students from Charité<br>\n",
    "*Course date:* July 2020"
   ]
  },
  {
   "cell_type": "markdown",
   "metadata": {},
   "source": [
    "**First, please make sure, that you're using the Python 3.6 kernel!**<br> You can check that in the top right corner of your browser window. If you're using a different Version, go to the Tab *Kernel* --> *Change Kernel* and select *Python 3.6*.\n",
    "\n",
    "**TensorFlow Update:**<br>\n",
    "The pre-installed version of the tensorflow in this environment is 1.1.0, but the following notebook requires version 2.0.0. Please update the tensorflow library by executing the following cell."
   ]
  },
  {
   "cell_type": "code",
   "execution_count": null,
   "metadata": {},
   "outputs": [],
   "source": [
    "!pip install --upgrade tensorflow"
   ]
  },
  {
   "cell_type": "markdown",
   "metadata": {},
   "source": [
    "## 1. Aims of this session"
   ]
  },
  {
   "cell_type": "markdown",
   "metadata": {},
   "source": [
    "This tutorial introduces **deep learning** in Python with ***Keras***. It is meant to be an **introduction to the *Keras* library** and **<ins>not</ins> a deep dive into the theory** surrounding deep learning. The goal of this session is that you will be able to implement your own neural network in Python.\n"
   ]
  },
  {
   "cell_type": "markdown",
   "metadata": {},
   "source": [
    "## 2. Learning goals"
   ]
  },
  {
   "cell_type": "markdown",
   "metadata": {},
   "source": [
    "### Theory"
   ]
  },
  {
   "cell_type": "markdown",
   "metadata": {},
   "source": [
    "Deep Learning\n",
    "- Definition\n",
    "- Fully-connected Neural Networks\n",
    "- Activation functions\n",
    "- Forward pass\n",
    "- Backward pass\n",
    "- Convolutional Neural Networks"
   ]
  },
  {
   "cell_type": "markdown",
   "metadata": {},
   "source": [
    "### Practical"
   ]
  },
  {
   "cell_type": "markdown",
   "metadata": {},
   "source": [
    "1. Deep Learning Playground\n",
    "2. Data set\n",
    "3. Keras\n",
    "    - Introduction\n",
    "    - Workflow\n",
    "        - Prepare data\n",
    "        - Build model\n",
    "        - Compile model\n",
    "        - Fit model\n",
    "        - Predict\n",
    "        - Evaluate model\n",
    "        - Save model\n"
   ]
  },
  {
   "cell_type": "markdown",
   "metadata": {},
   "source": [
    "## 3. References"
   ]
  },
  {
   "cell_type": "markdown",
   "metadata": {},
   "source": [
    "- Deep Learning<br>\n",
    "https://www.deeplearningbook.org/<br>\n",
    "https://cs231n.github.io/\n",
    "\n",
    "- Keras<br>\n",
    "https://keras.io/guides/<br>\n",
    "https://www.tensorflow.org/tutorials/keras/classification\n",
    "\n",
    "- Data<br>\n",
    "https://www.kaggle.com/uciml/pima-indians-diabetes-database"
   ]
  },
  {
   "cell_type": "markdown",
   "metadata": {},
   "source": [
    "## 4. Theory"
   ]
  },
  {
   "cell_type": "markdown",
   "metadata": {},
   "source": [
    "See accompanying slide deck."
   ]
  },
  {
   "cell_type": "markdown",
   "metadata": {},
   "source": [
    "## 5. Practical"
   ]
  },
  {
   "cell_type": "markdown",
   "metadata": {},
   "source": [
    "### 5.1 Playground excersises"
   ]
  },
  {
   "cell_type": "markdown",
   "metadata": {},
   "source": [
    "The *Tensorflow* Playground is an interactive visualisation of neural networks in your browser. In this playground, you can choose different hyper-parameters of your neural network and visually observe the training process. This allows you to get some intuition on neural network workings"
   ]
  },
  {
   "cell_type": "markdown",
   "metadata": {},
   "source": [
    "https://playground.tensorflow.org"
   ]
  },
  {
   "cell_type": "markdown",
   "metadata": {},
   "source": [
    "### Exercises"
   ]
  },
  {
   "cell_type": "markdown",
   "metadata": {},
   "source": [
    "**1.** Play around and get some intution!"
   ]
  },
  {
   "cell_type": "markdown",
   "metadata": {},
   "source": [
    "**2.** Let's try a different dataset. Investigate the effects of the learning rate on the training results. <br>"
   ]
  },
  {
   "cell_type": "code",
   "execution_count": null,
   "metadata": {},
   "outputs": [],
   "source": []
  },
  {
   "cell_type": "markdown",
   "metadata": {},
   "source": [
    "**3.** We now select the spiral dataset and add noise to the training data (noise=50). What do you observe using the following network architecture?<br>\n",
    "https://playground.tensorflow.org/#activation=sigmoid&batchSize=10&dataset=spiral&regDataset=reg-plane&learningRate=0.03&regularizationRate=0&noise=50&networkShape=2&seed=0.00906&showTestData=false&discretize=false&percTrainData=50&x=true&y=true&xTimesY=false&xSquared=true&ySquared=true&cosX=false&sinX=false&cosY=false&sinY=false&collectStats=false&problem=classification&initZero=false&hideText=false"
   ]
  },
  {
   "cell_type": "code",
   "execution_count": null,
   "metadata": {},
   "outputs": [],
   "source": []
  },
  {
   "cell_type": "markdown",
   "metadata": {},
   "source": [
    "### 5.2 Data set"
   ]
  },
  {
   "cell_type": "markdown",
   "metadata": {},
   "source": [
    "The data we are using in this tutorial is the Diabetes data set that you have already prepared in the previous tutorial.\n",
    "\n",
    "<ins>Source:</ins><br>\n",
    "*Smith, J.W., Everhart, J.E., Dickson, W.C., Knowler, W.C., & Johannes, R.S. (1988). Using the ADAP learning algorithm to forecast the onset of diabetes mellitus. In Proceedings of the Symposium on Computer Applications and Medical Care (pp. 261--265). IEEE Computer Society Press.*\n"
   ]
  },
  {
   "cell_type": "code",
   "execution_count": 2,
   "metadata": {},
   "outputs": [],
   "source": [
    "# Import the Pandas and NumPy library\n",
    "import pandas as pd\n",
    "import numpy as np\n",
    "\n",
    "# Read the Diabetes data set \n",
    "diabetes = pd.read_csv('./data/diabetes.csv')"
   ]
  },
  {
   "cell_type": "code",
   "execution_count": 3,
   "metadata": {},
   "outputs": [
    {
     "data": {
      "text/html": [
       "<div>\n",
       "<style scoped>\n",
       "    .dataframe tbody tr th:only-of-type {\n",
       "        vertical-align: middle;\n",
       "    }\n",
       "\n",
       "    .dataframe tbody tr th {\n",
       "        vertical-align: top;\n",
       "    }\n",
       "\n",
       "    .dataframe thead th {\n",
       "        text-align: right;\n",
       "    }\n",
       "</style>\n",
       "<table border=\"1\" class=\"dataframe\">\n",
       "  <thead>\n",
       "    <tr style=\"text-align: right;\">\n",
       "      <th></th>\n",
       "      <th>Pregnancies</th>\n",
       "      <th>Glucose</th>\n",
       "      <th>BloodPressure</th>\n",
       "      <th>SkinThickness</th>\n",
       "      <th>Insulin</th>\n",
       "      <th>BMI</th>\n",
       "      <th>DiabetesPedigreeFunction</th>\n",
       "      <th>Age</th>\n",
       "      <th>Outcome</th>\n",
       "    </tr>\n",
       "  </thead>\n",
       "  <tbody>\n",
       "    <tr>\n",
       "      <th>0</th>\n",
       "      <td>6</td>\n",
       "      <td>148</td>\n",
       "      <td>72</td>\n",
       "      <td>35</td>\n",
       "      <td>0</td>\n",
       "      <td>33.6</td>\n",
       "      <td>0.627</td>\n",
       "      <td>50</td>\n",
       "      <td>1</td>\n",
       "    </tr>\n",
       "    <tr>\n",
       "      <th>1</th>\n",
       "      <td>1</td>\n",
       "      <td>85</td>\n",
       "      <td>66</td>\n",
       "      <td>29</td>\n",
       "      <td>0</td>\n",
       "      <td>26.6</td>\n",
       "      <td>0.351</td>\n",
       "      <td>31</td>\n",
       "      <td>0</td>\n",
       "    </tr>\n",
       "    <tr>\n",
       "      <th>2</th>\n",
       "      <td>8</td>\n",
       "      <td>183</td>\n",
       "      <td>64</td>\n",
       "      <td>0</td>\n",
       "      <td>0</td>\n",
       "      <td>23.3</td>\n",
       "      <td>0.672</td>\n",
       "      <td>32</td>\n",
       "      <td>1</td>\n",
       "    </tr>\n",
       "    <tr>\n",
       "      <th>3</th>\n",
       "      <td>1</td>\n",
       "      <td>89</td>\n",
       "      <td>66</td>\n",
       "      <td>23</td>\n",
       "      <td>94</td>\n",
       "      <td>28.1</td>\n",
       "      <td>0.167</td>\n",
       "      <td>21</td>\n",
       "      <td>0</td>\n",
       "    </tr>\n",
       "    <tr>\n",
       "      <th>4</th>\n",
       "      <td>0</td>\n",
       "      <td>137</td>\n",
       "      <td>40</td>\n",
       "      <td>35</td>\n",
       "      <td>168</td>\n",
       "      <td>43.1</td>\n",
       "      <td>2.288</td>\n",
       "      <td>33</td>\n",
       "      <td>1</td>\n",
       "    </tr>\n",
       "  </tbody>\n",
       "</table>\n",
       "</div>"
      ],
      "text/plain": [
       "   Pregnancies  Glucose  BloodPressure  SkinThickness  Insulin   BMI  \\\n",
       "0            6      148             72             35        0  33.6   \n",
       "1            1       85             66             29        0  26.6   \n",
       "2            8      183             64              0        0  23.3   \n",
       "3            1       89             66             23       94  28.1   \n",
       "4            0      137             40             35      168  43.1   \n",
       "\n",
       "   DiabetesPedigreeFunction  Age  Outcome  \n",
       "0                     0.627   50        1  \n",
       "1                     0.351   31        0  \n",
       "2                     0.672   32        1  \n",
       "3                     0.167   21        0  \n",
       "4                     2.288   33        1  "
      ]
     },
     "execution_count": 3,
     "metadata": {},
     "output_type": "execute_result"
    }
   ],
   "source": [
    "diabetes.head()"
   ]
  },
  {
   "cell_type": "markdown",
   "metadata": {},
   "source": [
    "### 5.3 Keras\n"
   ]
  },
  {
   "cell_type": "markdown",
   "metadata": {},
   "source": [
    "Keras is a high-level neural networks API, capable of running on top of Tensorflow, Theano, and CNTK. It enables fast experimentation through a high level, user-friendly, modular and extensible API\n",
    "\n",
    "<img src=\"https://keras.io/img/logo.png\" width=\"40%\">\n",
    "\n",
    "<ins>Source:</ins> https://keras.io/img/logo.png"
   ]
  },
  {
   "cell_type": "markdown",
   "metadata": {},
   "source": [
    "### Installation"
   ]
  },
  {
   "cell_type": "markdown",
   "metadata": {},
   "source": [
    "For an installation of the *Keras* library, you have to enter the following command in the terminal."
   ]
  },
  {
   "cell_type": "markdown",
   "metadata": {},
   "source": [
    "```python\n",
    "!pip install tensorflow\n",
    "```"
   ]
  },
  {
   "cell_type": "markdown",
   "metadata": {},
   "source": [
    "Keras comes packaged with *TensorFlow 2.0* as `tensorflow.keras`. To start using *Keras*, simply install *TensorFlow 2.0*."
   ]
  },
  {
   "cell_type": "markdown",
   "metadata": {},
   "source": [
    "*Keras* is a model-level library, providing high-level building blocks for developing deep learning models. It doesn't handle itself low-level operations such as tensor products, convolutions and so on. Instead, it relies on a specialized, well-optimized tensor manipulation library to do so, serving as the \"backend engine\" of Keras. \n",
    "\n",
    "Rather than picking one single tensor library and making the implementation of *Keras* tied to that library, *Keras* handles the problem in a modular way, and several different backend engines can be plugged seamlessly into *Keras*."
   ]
  },
  {
   "cell_type": "markdown",
   "metadata": {},
   "source": [
    "### Importing the library"
   ]
  },
  {
   "cell_type": "markdown",
   "metadata": {},
   "source": [
    "We aren't going to import the whole *Keras* library but only specific classes that we need for our implementation. This will later be done using the following command:"
   ]
  },
  {
   "cell_type": "markdown",
   "metadata": {},
   "source": [
    "```python\n",
    "import tensorflow\n",
    "from tensorflow.keras.xyz import ...\n",
    "```"
   ]
  },
  {
   "cell_type": "markdown",
   "metadata": {},
   "source": [
    "### Workflow"
   ]
  },
  {
   "cell_type": "markdown",
   "metadata": {},
   "source": [
    "Training your first simple neural network with *Keras* doesn't require a lot of code, but we're going to start slow, taking it step-by-step, ensuring you understand the process of how to train a network. The workflow in *Keras* consits of the following steps:\n",
    "1. **Prepare data**\n",
    "2. **Build model**\n",
    "3. **Compile model**\n",
    "4. **Fit model**\n",
    "5. **Predict**\n",
    "6. **Evaluate model**\n",
    "7. **Save model**\n",
    "\n",
    "We're now going to introduce all these steps in more detail in the following part of the notebook. "
   ]
  },
  {
   "cell_type": "markdown",
   "metadata": {},
   "source": [
    "#### 1. Data preparation"
   ]
  },
  {
   "cell_type": "markdown",
   "metadata": {},
   "source": [
    "Before we start building our neural network, we have to prepare our data. A first step should always be data inspection, which you have already done in the last tutorial. Here, we will split our data in different subsets to train our model and will standardise the data."
   ]
  },
  {
   "cell_type": "markdown",
   "metadata": {},
   "source": [
    "**Data splitting**"
   ]
  },
  {
   "cell_type": "markdown",
   "metadata": {},
   "source": [
    "As you have learnt in the last tutorial, we have to split our dataset in subsets since we do not know the (hidden) data generating distribution to calculate the true error of our model. For this, we split the diabetes dataset into a training set, validation set and test set using the following split 60-20-20 to approximate the true error. We use the `train_test_split()`function from them `sklearn.model_selection` module to perform the splitting."
   ]
  },
  {
   "cell_type": "markdown",
   "metadata": {},
   "source": [
    "Here, we split the dataset only in a training and test set. Later in the training step, we use *Keras*' functionality to create a validation set from the training set. "
   ]
  },
  {
   "cell_type": "code",
   "execution_count": 4,
   "metadata": {},
   "outputs": [],
   "source": [
    "from sklearn.model_selection import train_test_split\n",
    "\n",
    "X_train, X_test, y_train, y_test = train_test_split(diabetes[['Glucose','BMI','Age']], diabetes['Outcome'], \n",
    "                                                    test_size=0.2)"
   ]
  },
  {
   "cell_type": "markdown",
   "metadata": {},
   "source": [
    "Let's check how many observations are in each set."
   ]
  },
  {
   "cell_type": "code",
   "execution_count": 5,
   "metadata": {},
   "outputs": [
    {
     "name": "stdout",
     "output_type": "stream",
     "text": [
      "Number of training samples: 614\n",
      "Number of test samples: 154\n"
     ]
    }
   ],
   "source": [
    "print(\"Number of training samples: %i\" % len(X_train))\n",
    "print(\"Number of test samples: %i\" % len(X_test))"
   ]
  },
  {
   "cell_type": "markdown",
   "metadata": {},
   "source": [
    "**Tranformations**"
   ]
  },
  {
   "cell_type": "markdown",
   "metadata": {},
   "source": [
    "Convergence of neural networks is ususally faster if the **average of each input variable**  over the training set is **close to zero**. In general, any shift of the average input away from zero will bias the updates in a particular direction and thus slow down learning. Additionally, **scaling the inputs** - to have **about the same covariance** - speeds up learning because it helps to balance out the rate at which the weights connected to the input nodes learn. Therefore, we will *standardize* our data \n",
    "\n",
    "$$z=\\frac{x-\\mu}{\\sigma} $$\n",
    "\n",
    "with mean $\\mu$ and standard deviation $\\sigma$. This transformation will speed up and stabilise the training process. We can use the `StandardScaler()` function from the `sklearn.preprocessing` module to perform the standardisation."
   ]
  },
  {
   "cell_type": "code",
   "execution_count": 6,
   "metadata": {},
   "outputs": [],
   "source": [
    "from sklearn.preprocessing import StandardScaler\n",
    "\n",
    "# Instatiate scaler\n",
    "scaler = StandardScaler()\n",
    "\n",
    "# Train scaler on the data set\n",
    "scaler.fit(X_train)\n",
    "\n",
    "# Transform datasets\n",
    "X_train = scaler.transform(X_train)\n",
    "X_test = scaler.transform(X_test)"
   ]
  },
  {
   "cell_type": "markdown",
   "metadata": {},
   "source": [
    "Let us have a look at our transformed training set."
   ]
  },
  {
   "cell_type": "code",
   "execution_count": 7,
   "metadata": {},
   "outputs": [
    {
     "data": {
      "text/plain": [
       "array([[-0.01193877, -0.67944669,  2.37202777],\n",
       "       [-2.06571683, -0.97837021, -0.96323312],\n",
       "       [-0.07513195,  1.80291821, -0.37956247],\n",
       "       [-0.83345   ,  0.0483671 , -0.79647008],\n",
       "       [-0.26471146,  0.24331723, -1.04661465],\n",
       "       [-0.70706366, -1.47224385, -0.54632551],\n",
       "       [-1.0546261 ,  0.4642607 ,  1.20468646],\n",
       "       [-0.45429097,  0.63321747, -0.71308856],\n",
       "       [ 1.31511782,  1.19207449,  1.12130494],\n",
       "       [-1.14941585, -0.51048991, -0.46294399]])"
      ]
     },
     "execution_count": 7,
     "metadata": {},
     "output_type": "execute_result"
    }
   ],
   "source": [
    "X_train[:10,:]"
   ]
  },
  {
   "cell_type": "markdown",
   "metadata": {},
   "source": [
    "Let us also check the mean and standard deviation of our standardised training dataset."
   ]
  },
  {
   "cell_type": "code",
   "execution_count": 8,
   "metadata": {},
   "outputs": [
    {
     "name": "stdout",
     "output_type": "stream",
     "text": [
      "[-5.93083310e-17 -4.48428844e-16  5.78617863e-18]\n",
      "[1. 1. 1.]\n"
     ]
    }
   ],
   "source": [
    "print(np.mean(X_train,0))\n",
    "print(np.std(X_train,0))"
   ]
  },
  {
   "cell_type": "markdown",
   "metadata": {},
   "source": [
    "#### 2. Model Building"
   ]
  },
  {
   "cell_type": "markdown",
   "metadata": {},
   "source": [
    "The core data structures of *Keras* are **layers** and **models**. There are three ways to create Keras models:\n",
    "\n",
    "- The Sequential model is simply a linear stack of layers. *(for simple implementations)*\n",
    "- The Functional API fully-featured API that supports arbitrary model architectures. *(for more complex implementations)*\n",
    "- Model subclassing, where you implement everything from scratch on your own. *(for more complex implementations)*\n",
    "\n",
    "We are going to use the **Sequential model** class in this tutorial. You simply need to import the model from the *Keras* library and initialise a model object using the following commands:"
   ]
  },
  {
   "cell_type": "code",
   "execution_count": 9,
   "metadata": {},
   "outputs": [
    {
     "name": "stderr",
     "output_type": "stream",
     "text": [
      "/home/moritz/anaconda3/envs/pytorch/lib/python3.7/site-packages/tensorflow/python/framework/dtypes.py:523: FutureWarning: Passing (type, 1) or '1type' as a synonym of type is deprecated; in a future version of numpy, it will be understood as (type, (1,)) / '(1,)type'.\n",
      "  _np_qint8 = np.dtype([(\"qint8\", np.int8, 1)])\n",
      "/home/moritz/anaconda3/envs/pytorch/lib/python3.7/site-packages/tensorflow/python/framework/dtypes.py:524: FutureWarning: Passing (type, 1) or '1type' as a synonym of type is deprecated; in a future version of numpy, it will be understood as (type, (1,)) / '(1,)type'.\n",
      "  _np_quint8 = np.dtype([(\"quint8\", np.uint8, 1)])\n",
      "/home/moritz/anaconda3/envs/pytorch/lib/python3.7/site-packages/tensorflow/python/framework/dtypes.py:525: FutureWarning: Passing (type, 1) or '1type' as a synonym of type is deprecated; in a future version of numpy, it will be understood as (type, (1,)) / '(1,)type'.\n",
      "  _np_qint16 = np.dtype([(\"qint16\", np.int16, 1)])\n",
      "/home/moritz/anaconda3/envs/pytorch/lib/python3.7/site-packages/tensorflow/python/framework/dtypes.py:526: FutureWarning: Passing (type, 1) or '1type' as a synonym of type is deprecated; in a future version of numpy, it will be understood as (type, (1,)) / '(1,)type'.\n",
      "  _np_quint16 = np.dtype([(\"quint16\", np.uint16, 1)])\n",
      "/home/moritz/anaconda3/envs/pytorch/lib/python3.7/site-packages/tensorflow/python/framework/dtypes.py:527: FutureWarning: Passing (type, 1) or '1type' as a synonym of type is deprecated; in a future version of numpy, it will be understood as (type, (1,)) / '(1,)type'.\n",
      "  _np_qint32 = np.dtype([(\"qint32\", np.int32, 1)])\n",
      "/home/moritz/anaconda3/envs/pytorch/lib/python3.7/site-packages/tensorflow/python/framework/dtypes.py:532: FutureWarning: Passing (type, 1) or '1type' as a synonym of type is deprecated; in a future version of numpy, it will be understood as (type, (1,)) / '(1,)type'.\n",
      "  np_resource = np.dtype([(\"resource\", np.ubyte, 1)])\n",
      "/home/moritz/anaconda3/envs/pytorch/lib/python3.7/site-packages/tensorboard/compat/tensorflow_stub/dtypes.py:541: FutureWarning: Passing (type, 1) or '1type' as a synonym of type is deprecated; in a future version of numpy, it will be understood as (type, (1,)) / '(1,)type'.\n",
      "  _np_qint8 = np.dtype([(\"qint8\", np.int8, 1)])\n",
      "/home/moritz/anaconda3/envs/pytorch/lib/python3.7/site-packages/tensorboard/compat/tensorflow_stub/dtypes.py:542: FutureWarning: Passing (type, 1) or '1type' as a synonym of type is deprecated; in a future version of numpy, it will be understood as (type, (1,)) / '(1,)type'.\n",
      "  _np_quint8 = np.dtype([(\"quint8\", np.uint8, 1)])\n",
      "/home/moritz/anaconda3/envs/pytorch/lib/python3.7/site-packages/tensorboard/compat/tensorflow_stub/dtypes.py:543: FutureWarning: Passing (type, 1) or '1type' as a synonym of type is deprecated; in a future version of numpy, it will be understood as (type, (1,)) / '(1,)type'.\n",
      "  _np_qint16 = np.dtype([(\"qint16\", np.int16, 1)])\n",
      "/home/moritz/anaconda3/envs/pytorch/lib/python3.7/site-packages/tensorboard/compat/tensorflow_stub/dtypes.py:544: FutureWarning: Passing (type, 1) or '1type' as a synonym of type is deprecated; in a future version of numpy, it will be understood as (type, (1,)) / '(1,)type'.\n",
      "  _np_quint16 = np.dtype([(\"quint16\", np.uint16, 1)])\n",
      "/home/moritz/anaconda3/envs/pytorch/lib/python3.7/site-packages/tensorboard/compat/tensorflow_stub/dtypes.py:545: FutureWarning: Passing (type, 1) or '1type' as a synonym of type is deprecated; in a future version of numpy, it will be understood as (type, (1,)) / '(1,)type'.\n",
      "  _np_qint32 = np.dtype([(\"qint32\", np.int32, 1)])\n",
      "/home/moritz/anaconda3/envs/pytorch/lib/python3.7/site-packages/tensorboard/compat/tensorflow_stub/dtypes.py:550: FutureWarning: Passing (type, 1) or '1type' as a synonym of type is deprecated; in a future version of numpy, it will be understood as (type, (1,)) / '(1,)type'.\n",
      "  np_resource = np.dtype([(\"resource\", np.ubyte, 1)])\n"
     ]
    }
   ],
   "source": [
    "import tensorflow \n",
    "from tensorflow.keras.models import Sequential\n",
    "\n",
    "model = Sequential()"
   ]
  },
  {
   "cell_type": "markdown",
   "metadata": {},
   "source": [
    "Then, we can stack layers and add those to our model object. Before we do so, the implementation of the layer types  \n",
    "- dense layer and \n",
    "- convolutional layer \n",
    "\n",
    "is introduced, which you are going to use later in this notebook. A complete list of supported layer types is given in the *Keras* documentation https://keras.io/api/layers/. First, we have to import these layers from the *Keras* layer module using the following command:"
   ]
  },
  {
   "cell_type": "markdown",
   "metadata": {},
   "source": [
    "```python\n",
    "from tensorflow.keras.layers import Dense, Conv2D\n",
    "```"
   ]
  },
  {
   "cell_type": "markdown",
   "metadata": {},
   "source": [
    "**Dense layer**<br>\n",
    "A dense layer/fully-connected layer is a layer in which each input neuron is connected to each output neuron, the parameters units just tells you the dimensionality of your output. \n",
    "\n",
    "```python\n",
    "Dense(units='dimensionality of the output space',\n",
    "      activation='activation function to use',\n",
    "      ...)\n",
    "```\n",
    "<ins>Example:</ins>"
   ]
  },
  {
   "cell_type": "markdown",
   "metadata": {},
   "source": [
    "```python\n",
    "Dense(units=6, activation='relu',...)\n",
    "```"
   ]
  },
  {
   "cell_type": "markdown",
   "metadata": {},
   "source": [
    "**Convolutional layer**<br>\n",
    "The convolutional layer’s parameters consist of a set of learnable filters. During the forward pass, we convolve each filter across the width and height of the input and compute dot products between the entries of the filter and the input at any position. By doing so, we produce an activation map that gives the responses of that filter at every spatial position.\n",
    "\n",
    "```python\n",
    "Conv2D(filters='the dimensionality of the output space (i.e. the number of output filters in convolution)', \n",
    "       kernel_size='specifying the height and width of the 2D convolutional kernel', \n",
    "       strides=' specifying the strides of the convolution along the height and width', \n",
    "       activation='activation function to use',\n",
    "       ...)\n",
    "```\n",
    "<ins>Example:</ins>"
   ]
  },
  {
   "cell_type": "markdown",
   "metadata": {},
   "source": [
    "```python\n",
    "Conv2D(filters=16, kernel_size=(3,3), strides=(1,1), activation='relu',...)\n",
    "# if width and height are equal you can write in short\n",
    "Conv2D(filters=16, kernel_size=3, strides=1, activation='relu',...)\n",
    "```"
   ]
  },
  {
   "cell_type": "markdown",
   "metadata": {},
   "source": [
    "We can simply add these layers to the Sequential model using the `add()` method.\n",
    "Here, we add  \n",
    "- an dense input layer with 3 units, \n",
    "- a dense sigmoid output layer with 1 unit\n",
    "\n",
    "to create a **fully-connected neural network**."
   ]
  },
  {
   "cell_type": "code",
   "execution_count": 10,
   "metadata": {},
   "outputs": [],
   "source": [
    "from tensorflow.keras import Input\n",
    "from tensorflow.keras.layers import Dense\n",
    "\n",
    "model.add(Input(shape=(3,)))\n",
    "model.add(Dense(1, activation='sigmoid'))"
   ]
  },
  {
   "cell_type": "markdown",
   "metadata": {},
   "source": [
    "We can display the content of our neural network by calling the `summary()` method."
   ]
  },
  {
   "cell_type": "code",
   "execution_count": 11,
   "metadata": {},
   "outputs": [
    {
     "name": "stdout",
     "output_type": "stream",
     "text": [
      "Model: \"sequential\"\n",
      "_________________________________________________________________\n",
      "Layer (type)                 Output Shape              Param #   \n",
      "=================================================================\n",
      "dense (Dense)                (None, 1)                 4         \n",
      "=================================================================\n",
      "Total params: 4\n",
      "Trainable params: 4\n",
      "Non-trainable params: 0\n",
      "_________________________________________________________________\n"
     ]
    }
   ],
   "source": [
    "model.summary()"
   ]
  },
  {
   "cell_type": "markdown",
   "metadata": {},
   "source": [
    "*Why does our network have 4 parameters?*"
   ]
  },
  {
   "cell_type": "markdown",
   "metadata": {},
   "source": [
    "#### 3. Model compilation"
   ]
  },
  {
   "cell_type": "markdown",
   "metadata": {},
   "source": [
    "In order to train our neural network, we need to compile our model. This requires us to define a loss function and an optimiser to do so. A list already implemented losses and optimisers can be found in the documentary:\n",
    "\n",
    "- losses: https://keras.io/api/losses/,\n",
    "- optimisers: https://keras.io/api/optimizers/. "
   ]
  },
  {
   "cell_type": "markdown",
   "metadata": {},
   "source": [
    "**Loss function**\n",
    "\n",
    "The purpose of loss functions is to compute the quantity that a model should seek to minimize during training. \n",
    "This function will essentially calculate how poorly our model is performing by comparing what the model is predicting with the actual value it is supposed to output. Therefore, the selection of the loss function depends on the the task.\n",
    "\n",
    "<ins>Examples:</ins><br>\n",
    "\n",
    "*Classification:*\n",
    "- `BinaryCrossentropy()`<br> Computes the cross-entropy loss between true labels and predicted labels *(binary)*.\n",
    "- `CategoricalCrossentropy()`<br> Computes the cross-entropy loss between true labels and predicted labels *(multi-class)*.\n",
    "- ...\n",
    "\n",
    "*Regression:*\n",
    "- `MeanSquaredError()`<br> Computes the mean of squares of errors between labels and predictions.\n",
    "- ...\n",
    "\n",
    "You can import the loss functions from the *Keras* losses module by entering the following command:"
   ]
  },
  {
   "cell_type": "markdown",
   "metadata": {},
   "source": [
    "```python\n",
    "from tensorflow.keras.losses import BinaryCrossentropy, CategoricalCrossentropy, MeanSquaredError\n",
    "```"
   ]
  },
  {
   "cell_type": "markdown",
   "metadata": {},
   "source": [
    "**Optimiser**\n",
    "\n",
    "We have already dealt with the loss function, which is a mathematical way of measuring how wrong your predictions are. In other words, the loss function lets us quantify the quality of any particular set of model parameters. The goal of optimisation is to find those parameteres that minimize the loss function. For this, we can compute the best direction along which we should change our parameters that is mathematically guaranteed to be the direction of the steepest descend. This direction will be related to the gradient of the loss function."
   ]
  },
  {
   "cell_type": "markdown",
   "metadata": {},
   "source": [
    "<ins>Examples:</ins>\n",
    "- `SGD()`<br> Stochastic gradient descent is an implementation of gradient descent - that you know from the lecture - on batches of observations or single random examples on each pass.\n",
    "\n",
    "- `Adam()`<br> Adam stands for adaptive moment estimation, and is another way of using past gradients to calculate current gradients. Adam also utilizes the concept of momentum by adding fractions of previous gradients to the current one.\n",
    "\n",
    "You can import the optimiser from the `tensorflow.keras.optimizers` module by entering the following command:"
   ]
  },
  {
   "cell_type": "markdown",
   "metadata": {},
   "source": [
    "```python\n",
    "from tensorflow.keras.optimizers import SGD, Adam\n",
    "```"
   ]
  },
  {
   "cell_type": "markdown",
   "metadata": {},
   "source": [
    "We instatiate the loss function and the optimiser before we pass them to the model."
   ]
  },
  {
   "cell_type": "code",
   "execution_count": 12,
   "metadata": {},
   "outputs": [],
   "source": [
    "from tensorflow.keras.losses import BinaryCrossentropy\n",
    "from tensorflow.keras.optimizers import SGD\n",
    "\n",
    "loss = BinaryCrossentropy()\n",
    "\n",
    "lr = 4e-2 #lr = 0.04\n",
    "optimiser = SGD(learning_rate=lr)\n",
    "\n",
    "model.compile(loss=loss,\n",
    "              optimizer=optimiser, \n",
    "              metrics=['accuracy'])"
   ]
  },
  {
   "cell_type": "markdown",
   "metadata": {},
   "source": [
    "After compiling our model, we're now ready to start the training."
   ]
  },
  {
   "cell_type": "markdown",
   "metadata": {},
   "source": [
    "#### 4. Model training"
   ]
  },
  {
   "cell_type": "markdown",
   "metadata": {},
   "source": [
    "To train our model we can simply use the `fit()` method. Here, we just have to provide the *number of epochs*, the *batch size* and the *training dataset* (features and targerts). Instead of providing a separate validation dataset, we use the `validation_split` functionality, which uses the last x% observations of the training dataset before shuffling to create a validation set.\n",
    "\n",
    "At the end of each epoch, the model will iterate over the validation dataset and compute the validation loss and validation metric.\n",
    "\n",
    "The `fit()` method outputs a `History` object; its `History.history` attribute is a record of loss and metrics values (training + validation)."
   ]
  },
  {
   "cell_type": "markdown",
   "metadata": {},
   "source": [
    "In our example, we use 50 *epochs* and a *batch size* of 64 to train our model. Additionally, we use a validation split of 0.25 such that our overall data split in training, validation and test set is 60-20-20."
   ]
  },
  {
   "cell_type": "code",
   "execution_count": 13,
   "metadata": {},
   "outputs": [
    {
     "name": "stdout",
     "output_type": "stream",
     "text": [
      "Train on 460 samples, validate on 154 samples\n",
      "Epoch 1/50\n",
      "460/460 [==============================] - 0s 394us/sample - loss: 1.0794 - accuracy: 0.2957 - val_loss: 0.9930 - val_accuracy: 0.2857\n",
      "Epoch 2/50\n",
      "460/460 [==============================] - 0s 19us/sample - loss: 0.9827 - accuracy: 0.3152 - val_loss: 0.9155 - val_accuracy: 0.3182\n",
      "Epoch 3/50\n",
      "460/460 [==============================] - 0s 23us/sample - loss: 0.9023 - accuracy: 0.3370 - val_loss: 0.8490 - val_accuracy: 0.3701\n",
      "Epoch 4/50\n",
      "460/460 [==============================] - 0s 27us/sample - loss: 0.8335 - accuracy: 0.3457 - val_loss: 0.7901 - val_accuracy: 0.3831\n",
      "Epoch 5/50\n",
      "460/460 [==============================] - 0s 22us/sample - loss: 0.7730 - accuracy: 0.3848 - val_loss: 0.7421 - val_accuracy: 0.4610\n",
      "Epoch 6/50\n",
      "460/460 [==============================] - 0s 19us/sample - loss: 0.7241 - accuracy: 0.4609 - val_loss: 0.7062 - val_accuracy: 0.5325\n",
      "Epoch 7/50\n",
      "460/460 [==============================] - 0s 22us/sample - loss: 0.6864 - accuracy: 0.5652 - val_loss: 0.6750 - val_accuracy: 0.6364\n",
      "Epoch 8/50\n",
      "460/460 [==============================] - 0s 27us/sample - loss: 0.6541 - accuracy: 0.6543 - val_loss: 0.6490 - val_accuracy: 0.6623\n",
      "Epoch 9/50\n",
      "460/460 [==============================] - 0s 26us/sample - loss: 0.6267 - accuracy: 0.7022 - val_loss: 0.6270 - val_accuracy: 0.6883\n",
      "Epoch 10/50\n",
      "460/460 [==============================] - 0s 25us/sample - loss: 0.6035 - accuracy: 0.7326 - val_loss: 0.6115 - val_accuracy: 0.6948\n",
      "Epoch 11/50\n",
      "460/460 [==============================] - 0s 27us/sample - loss: 0.5860 - accuracy: 0.7522 - val_loss: 0.5986 - val_accuracy: 0.6948\n",
      "Epoch 12/50\n",
      "460/460 [==============================] - 0s 27us/sample - loss: 0.5710 - accuracy: 0.7522 - val_loss: 0.5877 - val_accuracy: 0.7208\n",
      "Epoch 13/50\n",
      "460/460 [==============================] - 0s 30us/sample - loss: 0.5591 - accuracy: 0.7609 - val_loss: 0.5788 - val_accuracy: 0.7273\n",
      "Epoch 14/50\n",
      "460/460 [==============================] - 0s 26us/sample - loss: 0.5485 - accuracy: 0.7652 - val_loss: 0.5717 - val_accuracy: 0.7273\n",
      "Epoch 15/50\n",
      "460/460 [==============================] - 0s 28us/sample - loss: 0.5396 - accuracy: 0.7674 - val_loss: 0.5655 - val_accuracy: 0.7338\n",
      "Epoch 16/50\n",
      "460/460 [==============================] - 0s 22us/sample - loss: 0.5320 - accuracy: 0.7739 - val_loss: 0.5604 - val_accuracy: 0.7273\n",
      "Epoch 17/50\n",
      "460/460 [==============================] - 0s 26us/sample - loss: 0.5259 - accuracy: 0.7717 - val_loss: 0.5560 - val_accuracy: 0.7273\n",
      "Epoch 18/50\n",
      "460/460 [==============================] - 0s 30us/sample - loss: 0.5200 - accuracy: 0.7826 - val_loss: 0.5526 - val_accuracy: 0.7338\n",
      "Epoch 19/50\n",
      "460/460 [==============================] - 0s 24us/sample - loss: 0.5148 - accuracy: 0.7848 - val_loss: 0.5492 - val_accuracy: 0.7338\n",
      "Epoch 20/50\n",
      "460/460 [==============================] - 0s 24us/sample - loss: 0.5108 - accuracy: 0.7870 - val_loss: 0.5474 - val_accuracy: 0.7338\n",
      "Epoch 21/50\n",
      "460/460 [==============================] - 0s 21us/sample - loss: 0.5070 - accuracy: 0.7870 - val_loss: 0.5454 - val_accuracy: 0.7403\n",
      "Epoch 22/50\n",
      "460/460 [==============================] - 0s 21us/sample - loss: 0.5039 - accuracy: 0.7913 - val_loss: 0.5441 - val_accuracy: 0.7403\n",
      "Epoch 23/50\n",
      "460/460 [==============================] - 0s 21us/sample - loss: 0.5010 - accuracy: 0.7935 - val_loss: 0.5427 - val_accuracy: 0.7468\n",
      "Epoch 24/50\n",
      "460/460 [==============================] - 0s 23us/sample - loss: 0.4986 - accuracy: 0.7891 - val_loss: 0.5415 - val_accuracy: 0.7468\n",
      "Epoch 25/50\n",
      "460/460 [==============================] - 0s 23us/sample - loss: 0.4962 - accuracy: 0.7870 - val_loss: 0.5408 - val_accuracy: 0.7468\n",
      "Epoch 26/50\n",
      "460/460 [==============================] - 0s 27us/sample - loss: 0.4941 - accuracy: 0.7870 - val_loss: 0.5405 - val_accuracy: 0.7468\n",
      "Epoch 27/50\n",
      "460/460 [==============================] - 0s 23us/sample - loss: 0.4924 - accuracy: 0.7891 - val_loss: 0.5404 - val_accuracy: 0.7468\n",
      "Epoch 28/50\n",
      "460/460 [==============================] - 0s 27us/sample - loss: 0.4907 - accuracy: 0.7870 - val_loss: 0.5398 - val_accuracy: 0.7468\n",
      "Epoch 29/50\n",
      "460/460 [==============================] - 0s 21us/sample - loss: 0.4891 - accuracy: 0.7870 - val_loss: 0.5388 - val_accuracy: 0.7468\n",
      "Epoch 30/50\n",
      "460/460 [==============================] - 0s 28us/sample - loss: 0.4877 - accuracy: 0.7870 - val_loss: 0.5386 - val_accuracy: 0.7468\n",
      "Epoch 31/50\n",
      "460/460 [==============================] - 0s 21us/sample - loss: 0.4867 - accuracy: 0.7848 - val_loss: 0.5385 - val_accuracy: 0.7403\n",
      "Epoch 32/50\n",
      "460/460 [==============================] - 0s 25us/sample - loss: 0.4853 - accuracy: 0.7826 - val_loss: 0.5383 - val_accuracy: 0.7403\n",
      "Epoch 33/50\n",
      "460/460 [==============================] - 0s 21us/sample - loss: 0.4843 - accuracy: 0.7826 - val_loss: 0.5379 - val_accuracy: 0.7338\n",
      "Epoch 34/50\n",
      "460/460 [==============================] - 0s 22us/sample - loss: 0.4833 - accuracy: 0.7804 - val_loss: 0.5387 - val_accuracy: 0.7338\n",
      "Epoch 35/50\n",
      "460/460 [==============================] - 0s 20us/sample - loss: 0.4824 - accuracy: 0.7804 - val_loss: 0.5386 - val_accuracy: 0.7338\n",
      "Epoch 36/50\n",
      "460/460 [==============================] - 0s 22us/sample - loss: 0.4816 - accuracy: 0.7826 - val_loss: 0.5391 - val_accuracy: 0.7273\n",
      "Epoch 37/50\n",
      "460/460 [==============================] - 0s 22us/sample - loss: 0.4809 - accuracy: 0.7826 - val_loss: 0.5393 - val_accuracy: 0.7208\n",
      "Epoch 38/50\n",
      "460/460 [==============================] - 0s 29us/sample - loss: 0.4803 - accuracy: 0.7848 - val_loss: 0.5397 - val_accuracy: 0.7273\n",
      "Epoch 39/50\n",
      "460/460 [==============================] - 0s 23us/sample - loss: 0.4799 - accuracy: 0.7826 - val_loss: 0.5397 - val_accuracy: 0.7273\n",
      "Epoch 40/50\n",
      "460/460 [==============================] - 0s 25us/sample - loss: 0.4792 - accuracy: 0.7870 - val_loss: 0.5404 - val_accuracy: 0.7208\n",
      "Epoch 41/50\n",
      "460/460 [==============================] - 0s 21us/sample - loss: 0.4788 - accuracy: 0.7848 - val_loss: 0.5402 - val_accuracy: 0.7273\n",
      "Epoch 42/50\n",
      "460/460 [==============================] - 0s 20us/sample - loss: 0.4784 - accuracy: 0.7870 - val_loss: 0.5404 - val_accuracy: 0.7208\n",
      "Epoch 43/50\n",
      "460/460 [==============================] - 0s 19us/sample - loss: 0.4780 - accuracy: 0.7870 - val_loss: 0.5408 - val_accuracy: 0.7208\n",
      "Epoch 44/50\n",
      "460/460 [==============================] - 0s 26us/sample - loss: 0.4776 - accuracy: 0.7870 - val_loss: 0.5415 - val_accuracy: 0.7208\n",
      "Epoch 45/50\n",
      "460/460 [==============================] - 0s 23us/sample - loss: 0.4774 - accuracy: 0.7848 - val_loss: 0.5418 - val_accuracy: 0.7208\n",
      "Epoch 46/50\n",
      "460/460 [==============================] - 0s 21us/sample - loss: 0.4771 - accuracy: 0.7826 - val_loss: 0.5424 - val_accuracy: 0.7208\n",
      "Epoch 47/50\n",
      "460/460 [==============================] - 0s 21us/sample - loss: 0.4769 - accuracy: 0.7848 - val_loss: 0.5423 - val_accuracy: 0.7208\n",
      "Epoch 48/50\n",
      "460/460 [==============================] - 0s 24us/sample - loss: 0.4765 - accuracy: 0.7848 - val_loss: 0.5429 - val_accuracy: 0.7208\n",
      "Epoch 49/50\n",
      "460/460 [==============================] - 0s 23us/sample - loss: 0.4762 - accuracy: 0.7848 - val_loss: 0.5427 - val_accuracy: 0.7208\n",
      "Epoch 50/50\n",
      "460/460 [==============================] - 0s 24us/sample - loss: 0.4760 - accuracy: 0.7826 - val_loss: 0.5430 - val_accuracy: 0.7208\n"
     ]
    }
   ],
   "source": [
    "epochs = 50\n",
    "batch_size = 64\n",
    "\n",
    "\n",
    "history = model.fit(x=X_train, y=y_train,\n",
    "                validation_split=0.25,\n",
    "                epochs=epochs, \n",
    "                batch_size=batch_size)"
   ]
  },
  {
   "cell_type": "markdown",
   "metadata": {},
   "source": [
    "The `fit()` methods prints the loss and metric values after every epochs, but we can also use the `History` object to visualise those values to get intuition about the performance of our model."
   ]
  },
  {
   "cell_type": "code",
   "execution_count": 14,
   "metadata": {},
   "outputs": [
    {
     "data": {
      "text/plain": [
       "<Figure size 800x1600 with 2 Axes>"
      ]
     },
     "metadata": {},
     "output_type": "display_data"
    }
   ],
   "source": [
    "import matplotlib.pyplot as plt\n",
    "\n",
    "n_epochs = np.arange(0,epochs)\n",
    "\n",
    "fig, (ax1,ax2) = plt.subplots(2,1,figsize=(8,16))\n",
    "ax1.plot(n_epochs, history.history['loss'], label='training loss')\n",
    "ax1.plot(n_epochs, history.history['val_loss'], label='validation loss')\n",
    "ax1.set_ylim(-0.05,1.05)\n",
    "ax1.legend()\n",
    "\n",
    "ax2.plot(n_epochs, history.history['accuracy'], label='training accuracy')\n",
    "ax2.plot(n_epochs, history.history['val_accuracy'], label='validation accuracy')\n",
    "ax2.set_ylim(-0.05,1.05)\n",
    "ax2.legend()\n",
    "\n",
    "plt.show()"
   ]
  },
  {
   "cell_type": "markdown",
   "metadata": {},
   "source": [
    "#### 5. Prediciton"
   ]
  },
  {
   "cell_type": "markdown",
   "metadata": {},
   "source": [
    "After training, we can use our model to predict the target variable using the `predict()` method, which returns the probabilities $P(Outcome=1|X,w)$."
   ]
  },
  {
   "cell_type": "code",
   "execution_count": 15,
   "metadata": {},
   "outputs": [],
   "source": [
    "y_pred = model.predict(X_test).ravel()"
   ]
  },
  {
   "cell_type": "code",
   "execution_count": 16,
   "metadata": {},
   "outputs": [
    {
     "data": {
      "text/plain": [
       "array([0.86917824, 0.1681307 , 0.08332729, 0.06834254, 0.82660365,\n",
       "       0.8544017 , 0.5873528 , 0.21397683, 0.16846865, 0.41038015,\n",
       "       0.22317371, 0.4533466 , 0.22704527, 0.24842173, 0.7680237 ,\n",
       "       0.07869622, 0.18223193, 0.13604853, 0.23530301, 0.48846236,\n",
       "       0.005162  , 0.51610965, 0.32316595, 0.21021315, 0.4680867 ,\n",
       "       0.1778912 , 0.62833816, 0.5481343 , 0.01946476, 0.05178782,\n",
       "       0.18637243, 0.3970095 , 0.30616766, 0.332857  , 0.28657374,\n",
       "       0.29880574, 0.09714755, 0.56941825, 0.5037423 , 0.90910447,\n",
       "       0.24397391, 0.272631  , 0.40765738, 0.08811539, 0.07522282,\n",
       "       0.9435288 , 0.20905268, 0.13595334, 0.14847204, 0.7312938 ,\n",
       "       0.14306739, 0.92327917, 0.14847061, 0.38996127, 0.23096403,\n",
       "       0.4213202 , 0.36029714, 0.10826859, 0.4315375 , 0.1857762 ,\n",
       "       0.18970576, 0.15783855, 0.3464504 , 0.10388169, 0.10521564,\n",
       "       0.55514044, 0.82846344, 0.21720344, 0.5923097 , 0.90862894,\n",
       "       0.26884997, 0.30797234, 0.5745971 , 0.6936848 , 0.07852128,\n",
       "       0.06017405, 0.6686423 , 0.70341885, 0.30791497, 0.3542594 ,\n",
       "       0.75725496, 0.84753835, 0.8014891 , 0.5333897 , 0.5886987 ,\n",
       "       0.08479068, 0.00530696, 0.44461745, 0.5094561 , 0.6004022 ,\n",
       "       0.38247666, 0.30538246, 0.87219185, 0.32551026, 0.11930341,\n",
       "       0.10694191, 0.6960703 , 0.90029955, 0.2737586 , 0.11364794,\n",
       "       0.62187165, 0.19486526, 0.12472513, 0.30041853, 0.24104941,\n",
       "       0.29797795, 0.09398195, 0.2829821 , 0.2635271 , 0.50340694,\n",
       "       0.2641614 , 0.46725154, 0.10570541, 0.32535607, 0.43767822,\n",
       "       0.18707243, 0.14831728, 0.10935163, 0.8577031 , 0.35726207,\n",
       "       0.2738912 , 0.02437657, 0.08544782, 0.24440989, 0.23484233,\n",
       "       0.07739237, 0.13556203, 0.3255522 , 0.2870749 , 0.08226466,\n",
       "       0.23388511, 0.37632638, 0.12933943, 0.2638654 , 0.5821186 ,\n",
       "       0.31972712, 0.26855084, 0.8465923 , 0.6859531 , 0.25770122,\n",
       "       0.76628155, 0.5529084 , 0.3300431 , 0.13863367, 0.7971981 ,\n",
       "       0.16799015, 0.72228646, 0.10349372, 0.00635487, 0.85419226,\n",
       "       0.5007514 , 0.11812747, 0.13420323, 0.3573827 ], dtype=float32)"
      ]
     },
     "execution_count": 16,
     "metadata": {},
     "output_type": "execute_result"
    }
   ],
   "source": [
    "y_pred"
   ]
  },
  {
   "cell_type": "markdown",
   "metadata": {},
   "source": [
    "If you're not interested in the probability $P(Outcome=1|X,w)$ but simply want to predict the class label, you can use the `predict_classes()` method. This method uses a threshold of 0.5 to classify examples."
   ]
  },
  {
   "cell_type": "code",
   "execution_count": 17,
   "metadata": {},
   "outputs": [
    {
     "data": {
      "text/plain": [
       "array([1, 0, 0, 0, 1, 1, 1, 0, 0, 0, 0, 0, 0, 0, 1, 0, 0, 0, 0, 0, 0, 1,\n",
       "       0, 0, 0, 0, 1, 1, 0, 0, 0, 0, 0, 0, 0, 0, 0, 1, 1, 1, 0, 0, 0, 0,\n",
       "       0, 1, 0, 0, 0, 1, 0, 1, 0, 0, 0, 0, 0, 0, 0, 0, 0, 0, 0, 0, 0, 1,\n",
       "       1, 0, 1, 1, 0, 0, 1, 1, 0, 0, 1, 1, 0, 0, 1, 1, 1, 1, 1, 0, 0, 0,\n",
       "       1, 1, 0, 0, 1, 0, 0, 0, 1, 1, 0, 0, 1, 0, 0, 0, 0, 0, 0, 0, 0, 1,\n",
       "       0, 0, 0, 0, 0, 0, 0, 0, 1, 0, 0, 0, 0, 0, 0, 0, 0, 0, 0, 0, 0, 0,\n",
       "       0, 0, 1, 0, 0, 1, 1, 0, 1, 1, 0, 0, 1, 0, 1, 0, 0, 1, 1, 0, 0, 0],\n",
       "      dtype=int32)"
      ]
     },
     "execution_count": 17,
     "metadata": {},
     "output_type": "execute_result"
    }
   ],
   "source": [
    "model.predict_classes(X_test).ravel()"
   ]
  },
  {
   "cell_type": "markdown",
   "metadata": {},
   "source": [
    "#### 6. Model evaluation"
   ]
  },
  {
   "cell_type": "markdown",
   "metadata": {},
   "source": [
    "To see how good/bad those predictions are, we've to evaluate them using the built-in `evaluate()` method. This returns the loss and metrics values for the model in test mode."
   ]
  },
  {
   "cell_type": "code",
   "execution_count": 18,
   "metadata": {},
   "outputs": [
    {
     "name": "stdout",
     "output_type": "stream",
     "text": [
      "154/154 [==============================] - 0s 19us/sample - loss: 0.5080 - accuracy: 0.7338\n"
     ]
    }
   ],
   "source": [
    "loss_and_metrics = model.evaluate(X_test, y_test, \n",
    "                                  batch_size=batch_size)"
   ]
  },
  {
   "cell_type": "markdown",
   "metadata": {},
   "source": [
    "In addition to loss and metric values, we're going to use the receiver operating characteristics (ROC) and the area under the curve (AUC) to evaluate our model. We can use the `roc_curve()` and `auc` function from the `sklearn.metrics` module to calculate those values. "
   ]
  },
  {
   "cell_type": "code",
   "execution_count": 19,
   "metadata": {},
   "outputs": [],
   "source": [
    "from sklearn.metrics import roc_curve, auc\n",
    "fpr, tpr, thresholds_keras = roc_curve(y_test, y_pred)\n",
    "auc_keras = auc(fpr, tpr)"
   ]
  },
  {
   "cell_type": "markdown",
   "metadata": {},
   "source": [
    "After calculating all values, we can use *matplotllib* to plot the ROC curve."
   ]
  },
  {
   "cell_type": "code",
   "execution_count": 20,
   "metadata": {},
   "outputs": [
    {
     "data": {
      "image/png": "[encoded data removed]",
      "text/plain": [
       "<Figure size 864x576 with 1 Axes>"
      ]
     },
     "metadata": {
      "needs_background": "light"
     },
     "output_type": "display_data"
    }
   ],
   "source": [
    "fig, ax = plt.subplots(1,1,figsize=(12,8))\n",
    "ax.plot([0, 1], [0, 1], 'k--')\n",
    "ax.plot(fpr, tpr, label='Keras (area = {:.3f})'.format(auc_keras))\n",
    "ax.set_xlabel('False positive rate')\n",
    "ax.set_ylabel('True positive rate')\n",
    "ax.set_title('ROC curve')\n",
    "ax.legend(loc='best')\n",
    "\n",
    "plt.show()"
   ]
  },
  {
   "cell_type": "markdown",
   "metadata": {},
   "source": [
    "#### 7. Model saving"
   ]
  },
  {
   "cell_type": "markdown",
   "metadata": {},
   "source": [
    "A Keras model consists of multiple components:\n",
    "\n",
    "- An architecture, or configuration, which specifyies what layers the model contains, and how they're connected.\n",
    "- A set of weights values (the \"state of the model\").\n",
    "- An optimizer (defined by compiling the model).\n",
    "- A set of losses and metrics (defined by compiling the model).\n",
    "\n",
    "We can save these pieces to disk at once into a single archive in the *Tensorflow* `SavedModel`."
   ]
  },
  {
   "cell_type": "markdown",
   "metadata": {},
   "source": [
    "```python\n",
    "model.save('path/to/location')\n",
    "```\n",
    "\n",
    "We can save our neural network to the working directory by entering the following command:"
   ]
  },
  {
   "cell_type": "code",
   "execution_count": null,
   "metadata": {},
   "outputs": [],
   "source": [
    "model.save('my_nn')"
   ]
  },
  {
   "cell_type": "markdown",
   "metadata": {},
   "source": [
    "This can then simply be loaded using the following command:\n",
    "\n",
    "```python\n",
    "model = tensorflow.keras.models.load_model('my_nn')\n",
    "```"
   ]
  },
  {
   "cell_type": "markdown",
   "metadata": {},
   "source": [
    "**Put everything together**<br>\n",
    "After having itroduced all the steps separately in more detail, everything is put together in one cell, so you don't have to scroll too much."
   ]
  },
  {
   "cell_type": "code",
   "execution_count": null,
   "metadata": {
    "scrolled": true
   },
   "outputs": [],
   "source": [
    "import tensorflow \n",
    "from tensorflow.keras import Input\n",
    "from tensorflow.keras.models import Sequential\n",
    "from tensorflow.keras.layers import Dense\n",
    "from tensorflow.keras.losses import BinaryCrossentropy\n",
    "from tensorflow.keras.optimizers import SGD\n",
    "\n",
    "from sklearn.model_selection import train_test_split\n",
    "from sklearn.preprocessing import StandardScaler\n",
    "from sklearn.metrics import roc_curve, auc\n",
    "\n",
    "import matplotlib.pyplot as plt\n",
    "\n",
    "\n",
    "## Data preparation\n",
    "# Data Splitting\n",
    "X_train, X_test, y_train, y_test = train_test_split(diabetes[['Glucose','BMI','Age']], \n",
    "                                                    diabetes['Outcome'], \n",
    "                                                    test_size=0.2)\n",
    "\n",
    "# Data transformation       \n",
    "scaler = StandardScaler()\n",
    "scaler.fit(X_train)\n",
    "X_train = scaler.transform(X_train)\n",
    "X_test = scaler.transform(X_test)\n",
    "\n",
    "\n",
    "\n",
    "## Model building\n",
    "model = Sequential()\n",
    "model.add(Input(shape=(3,)))\n",
    "model.add(Dense(1, activation='sigmoid'))\n",
    "\n",
    "## Model compilation\n",
    "# Loss function\n",
    "loss = BinaryCrossentropy()\n",
    "\n",
    "# Optimiser\n",
    "lr = 4e-2 \n",
    "optimiser = SGD(learning_rate=lr)\n",
    "\n",
    "model.compile(loss=loss,\n",
    "              optimizer=optimiser, \n",
    "              metrics=['accuracy'])\n",
    "\n",
    "## Model training\n",
    "epochs = 50\n",
    "batch_size = 16\n",
    "\n",
    "history = model.fit(x=X_train, y=y_train, \n",
    "                    validation_split=0.25,\n",
    "                    epochs=epochs,\n",
    "                    batch_size=batch_size)\n",
    "\n",
    "\n",
    "n_epochs = np.arange(0,epochs)\n",
    "\n",
    "fig, (ax1,ax2) = plt.subplots(2,1,figsize=(8,16))\n",
    "ax1.plot(n_epochs, history.history['loss'], label='training loss')\n",
    "ax1.plot(n_epochs, history.history['val_loss'], label='validation loss')\n",
    "ax1.set_ylim(-0.05,1.05)\n",
    "ax1.legend()\n",
    "\n",
    "ax2.plot(n_epochs, history.history['accuracy'], label='training accuracy')\n",
    "ax2.plot(n_epochs, history.history['val_accuracy'], label='validation accuracy')\n",
    "ax2.set_ylim(-0.05,1.05)\n",
    "ax2.legend()\n",
    "plt.show()\n",
    "\n",
    "## Prediciton\n",
    "y_pred = model.predict(X_test).ravel()\n",
    "\n",
    "## Model evaluation\n",
    "loss_and_metrics = model.evaluate(X_test, y_test, \n",
    "                                  batch_size=batch_size)\n",
    "\n",
    "fpr, tpr, thresholds_keras = roc_curve(y_test, y_pred)\n",
    "auc_keras = auc(fpr, tpr)\n",
    "\n",
    "fig, ax = plt.subplots(1,1,figsize=(12,8))\n",
    "ax.plot([0, 1], [0, 1], 'k--')\n",
    "ax.plot(fpr, tpr, label='Keras (area = {:.3f})'.format(auc_keras))\n",
    "ax.set_xlabel('False positive rate')\n",
    "ax.set_ylabel('True positive rate')\n",
    "ax.set_title('ROC curve')\n",
    "ax.legend(loc='best')\n",
    "\n",
    "plt.show()\n",
    "\n",
    "## Save model\n",
    "model.save('my_nn')"
   ]
  },
  {
   "cell_type": "markdown",
   "metadata": {},
   "source": [
    "## 6. Discussion"
   ]
  },
  {
   "cell_type": "markdown",
   "metadata": {},
   "source": [
    "In this notebook, the implementation of a neural network using the *Keras* library was introduced.\n",
    "The workflow to build and train a neural network was presented using a step-by-step introduction.\n",
    "- **Data Preparation:** We splitted the dataset and standardised the input features.\n",
    "- **Model Building:** We created a neural network using the Sequential model class and introduced dense and convolutional layers.\n",
    "- **Model compilaton:** We compiled a neural network and introduced different loss functions and optimisers.\n",
    "- **Model training:** We trained a neural network and visualised the training process.\n",
    "- **Model prediction and evaluation:** We used the trained network to predict the target variable and evaluated the network using different metrics.\n",
    "- **Save model:** We saved all model components in a single archive `SavedModel`"
   ]
  },
  {
   "cell_type": "markdown",
   "metadata": {},
   "source": [
    "## 7. Exercises"
   ]
  },
  {
   "cell_type": "markdown",
   "metadata": {},
   "source": [
    "Now that you know the basics to implement a neural network in *Keras*, it's time for you to get your hands dirty and get started.\n",
    "\n",
    "*Tip:* The following resources might be helpful:\n",
    "- www.stackoverflow.com\n",
    "- Keras documentation: https://keras.io/api/"
   ]
  },
  {
   "cell_type": "markdown",
   "metadata": {},
   "source": [
    "### 7.1 Fully-connected neural network (Basic)"
   ]
  },
  {
   "cell_type": "markdown",
   "metadata": {},
   "source": [
    "<ins>**Task:**</ins> Please **implement your own classifier to predict the outcome classes** in the diabetes dataset. <br>\n",
    "<ins>**Model:**</ins> Use a **fully-connected neural network** with at least 1 hidden layer.<br> (*Note:* Since this is still a binary classification task, please use 1 unit and the sigmoid activation in your output layer.)<br>\n",
    "<ins>**Data:**</ins> Use all available data features to predict the outcome class. Split the data into training, validation and test set using a split of 60-20-20.\n",
    "\n",
    "*Do your results look different from the ones in the example above?*"
   ]
  },
  {
   "cell_type": "markdown",
   "metadata": {},
   "source": [
    "#### Data preparation"
   ]
  },
  {
   "cell_type": "code",
   "execution_count": null,
   "metadata": {},
   "outputs": [],
   "source": [
    "### Data preparation ###\n",
    "# TO DO: Split and transform dataset\n",
    "\n",
    "\n"
   ]
  },
  {
   "cell_type": "markdown",
   "metadata": {},
   "source": [
    "#### Model building"
   ]
  },
  {
   "cell_type": "code",
   "execution_count": null,
   "metadata": {},
   "outputs": [],
   "source": [
    "### Model building ###\n",
    "model = Sequential()\n",
    "# TO DO: Create a neural network with at least 1 hidden layer\n",
    "\n",
    "\n",
    "\n",
    "model.summary()"
   ]
  },
  {
   "cell_type": "markdown",
   "metadata": {},
   "source": [
    "#### Model compilation"
   ]
  },
  {
   "cell_type": "code",
   "execution_count": null,
   "metadata": {},
   "outputs": [],
   "source": [
    "# TO DO: Define loss function and optimiser\n",
    "\n",
    "\n",
    "# TO DO: compile model\n",
    "\n",
    "\n"
   ]
  },
  {
   "cell_type": "markdown",
   "metadata": {},
   "source": [
    "#### Model training"
   ]
  },
  {
   "cell_type": "code",
   "execution_count": null,
   "metadata": {},
   "outputs": [],
   "source": [
    "# TO DO: Choose the training length and batch size\n",
    "\n",
    "history = # TO DO: Train your model (Don't forget validation_split)\n",
    "\n"
   ]
  },
  {
   "cell_type": "code",
   "execution_count": null,
   "metadata": {},
   "outputs": [],
   "source": [
    "n_epochs = np.arange(0,epochs)\n",
    "\n",
    "fig, (ax1,ax2) = plt.subplots(2,1,figsize=(8,16))\n",
    "ax1.plot(n_epochs, history.history['loss'], label='training loss')\n",
    "ax1.plot(n_epochs, history.history['val_loss'], label='validation loss')\n",
    "ax1.set_ylim(-0.05,1.05)\n",
    "ax1.legend()\n",
    "\n",
    "ax2.plot(n_epochs, history.history['accuracy'], label='training accuracy')\n",
    "ax2.plot(n_epochs, history.history['val_accuracy'], label='validation accuracy')\n",
    "ax2.set_ylim(-0.05,1.05)\n",
    "ax2.legend()\n",
    "plt.show()"
   ]
  },
  {
   "cell_type": "markdown",
   "metadata": {},
   "source": [
    "#### Model evaluation"
   ]
  },
  {
   "cell_type": "code",
   "execution_count": null,
   "metadata": {},
   "outputs": [],
   "source": [
    "# TO DO: Calculate test loss and accurcy"
   ]
  },
  {
   "cell_type": "code",
   "execution_count": null,
   "metadata": {},
   "outputs": [],
   "source": []
  },
  {
   "cell_type": "code",
   "execution_count": null,
   "metadata": {},
   "outputs": [],
   "source": []
  },
  {
   "cell_type": "markdown",
   "metadata": {},
   "source": [
    "### 7.2 Convolutional neural network (Advanced)"
   ]
  },
  {
   "cell_type": "markdown",
   "metadata": {},
   "source": [
    "The second task is to implement a multi-class image classifier for the famous MNIST dataset. This dataset contains 70,000 (28*28 pixel) images of digits 0-9.\n",
    "\n",
    "<img src=\"https://upload.wikimedia.org/wikipedia/commons/2/27/MnistExamples.png\" width=\"40%\">\n",
    "\n",
    "*Source: https://upload.wikimedia.org/wikipedia/commons/2/27/MnistExamples.png*\n",
    "\n",
    "\n",
    "<ins>**Task:**</ins> Please **implement your own multi-class image classifier to predict the outcome classes** in the diabetes dataset. <br>\n",
    "<ins>**Model:**</ins> Use a **convolutional neural network** with at least 1 hidden convolutional layer.<br> (*Note:* Since this is still a multi-class classification task, please use 10 units and the softmax activation in your output layer.)<br>\n",
    "<ins>**Data:**</ins> Use the 28*28 pixel images to predict the digit class.\n"
   ]
  },
  {
   "cell_type": "markdown",
   "metadata": {},
   "source": [
    "#### Data preparation"
   ]
  },
  {
   "cell_type": "markdown",
   "metadata": {},
   "source": [
    "Before we can use the MNIST data to predict the class labels, we have to **split** the dataset, **normalise** (transform range from 0-255 to 0-1) and reshape the data and **one-hot encode** the target. The data preparation step is already done for you, just execute the following cell and check the data."
   ]
  },
  {
   "cell_type": "code",
   "execution_count": null,
   "metadata": {},
   "outputs": [],
   "source": [
    "# Import the MNIST dataset\n",
    "from tensorflow.keras.datasets import mnist\n",
    "from tensorflow.keras.utils import to_categorical\n",
    "\n",
    "# Load MNIST images and labels and normalise (range 0 to 1) image data\n",
    "(X_train, y_train), (X_test, y_test) = mnist.load_data() # 60,000 training + 10,000 test images/labels\n",
    "X_train = X_train / 255.0\n",
    "X_test  = X_test / 255.0\n",
    "\n",
    "# Reshape dataset to have a single channel \n",
    "X_train = X_train.reshape((X_train.shape[0], 28, 28, 1)) # The CNN requires this layout (batch_size, height, width, n_channels)\n",
    "X_test = X_test.reshape((X_test.shape[0], 28, 28, 1)) # The CNN requires this layout (batch_size, height, width, n_channels)\n",
    "\n",
    "# One-hot encode target values\n",
    "y_train = to_categorical(y_train)\n",
    "y_test = to_categorical(y_test)"
   ]
  },
  {
   "cell_type": "markdown",
   "metadata": {},
   "source": [
    "Let's have a look at the image data..."
   ]
  },
  {
   "cell_type": "code",
   "execution_count": null,
   "metadata": {
    "scrolled": true
   },
   "outputs": [],
   "source": [
    "fig, (ax1,ax2,ax3,ax4) = plt.subplots(1,4, figsize=(12,4))\n",
    "ax1.imshow(X_train[0,:,:,0])\n",
    "ax2.imshow(X_train[1,:,:,0])\n",
    "ax3.imshow(X_train[2,:,:,0])\n",
    "ax4.imshow(X_train[3,:,:,0]);"
   ]
  },
  {
   "cell_type": "markdown",
   "metadata": {},
   "source": [
    "and the one-hot encoded target variable."
   ]
  },
  {
   "cell_type": "code",
   "execution_count": null,
   "metadata": {},
   "outputs": [],
   "source": [
    "y_train[:4]"
   ]
  },
  {
   "cell_type": "markdown",
   "metadata": {},
   "source": [
    "Instead of the categorical class values, we now have a vector of length equal to the number of categories. The i-th component is equal to 1 if target is assigned to the i-th category and all other components are 0. By using this transformation, we transform the categorical variable into a numerical form."
   ]
  },
  {
   "cell_type": "markdown",
   "metadata": {},
   "source": [
    "#### Model building"
   ]
  },
  {
   "cell_type": "markdown",
   "metadata": {},
   "source": [
    "Now, it's time to implement your convolutional neural network. The last layers of the network are fully-connected layers with 256 units and ReLu activation function as well as a fully-connected output layer with 10 units and softmax activation function, since we have a classification task with 10 classes."
   ]
  },
  {
   "cell_type": "code",
   "execution_count": null,
   "metadata": {},
   "outputs": [],
   "source": [
    "from tensorflow.keras.layers import Conv2D, Flatten\n",
    "\n",
    "model = Sequential()\n",
    "model.add(Input(shape=(28,28,1)))\n",
    "# TO DO: Add at least 1 convolutional layer\n",
    "\n",
    "model.add(Flatten()) # This flattens your image with width and height into a vector of length widht*height. \n",
    "model.add(Dense(256, activation='relu')) \n",
    "model.add(Dense(10, activation='softmax')) \n",
    "\n",
    "model.summary()"
   ]
  },
  {
   "cell_type": "markdown",
   "metadata": {},
   "source": [
    "#### Model compilation"
   ]
  },
  {
   "cell_type": "code",
   "execution_count": null,
   "metadata": {},
   "outputs": [],
   "source": [
    "from tensorflow.keras.losses import CategoricalCrossentropy\n",
    "\n",
    "loss = CategoricalCrossentropy()\n",
    "# TO DO: Define loss function\n",
    "\n",
    "# TO DO: Compile your model"
   ]
  },
  {
   "cell_type": "markdown",
   "metadata": {},
   "source": [
    "#### Model training"
   ]
  },
  {
   "cell_type": "markdown",
   "metadata": {},
   "source": [
    "Please train your model for 2 epochs using a batch size of 512. To validate your model, use `validation_split = 0.1`."
   ]
  },
  {
   "cell_type": "code",
   "execution_count": null,
   "metadata": {},
   "outputs": [],
   "source": [
    "# Define number of epochs and batch size\n",
    "epochs = 2\n",
    "batch_size = 512\n",
    "\n",
    "history = # TO DO: Train your model (Don't forget validation_split!)\n"
   ]
  },
  {
   "cell_type": "code",
   "execution_count": null,
   "metadata": {},
   "outputs": [],
   "source": [
    "n_epochs = np.arange(0,20)\n",
    "\n",
    "fig, (ax1,ax2) = plt.subplots(2,1,figsize=(8,16))\n",
    "ax1.plot(n_epochs, history.history['loss'], label='training loss')\n",
    "ax1.plot(n_epochs, history.history['val_loss'], label='validation loss')\n",
    "ax1.set_ylim(-0.05,1.05)\n",
    "ax1.legend()\n",
    "\n",
    "ax2.plot(n_epochs, history.history['accuracy'], label='training accuracy')\n",
    "ax2.plot(n_epochs, history.history['val_accuracy'], label='validation accuracy')\n",
    "ax2.set_ylim(-0.05,1.05)\n",
    "ax2.legend()\n",
    "\n",
    "plt.show()"
   ]
  },
  {
   "cell_type": "markdown",
   "metadata": {},
   "source": [
    "#### Model evaluation"
   ]
  },
  {
   "cell_type": "code",
   "execution_count": null,
   "metadata": {},
   "outputs": [],
   "source": [
    "# TO DO: Calculate test loss and accurcy"
   ]
  },
  {
   "cell_type": "code",
   "execution_count": null,
   "metadata": {},
   "outputs": [],
   "source": []
  },
  {
   "cell_type": "markdown",
   "metadata": {},
   "source": [
    "## 8. Solutions"
   ]
  },
  {
   "cell_type": "markdown",
   "metadata": {},
   "source": [
    "### 1) Fully-connected neural network"
   ]
  },
  {
   "cell_type": "markdown",
   "metadata": {},
   "source": [
    "<ins>**Task:**</ins> Please **implement your own classifier to predict the outcome classes** in the diabetes dataset. <br>\n",
    "<ins>**Model:**</ins> Use a **fully-connected neural network** with at least 1 hidden layer.<br> (*Note:* Since this is still a binary classification task, please use 1 unit and the sigmoid activation in your output layer.)<br>\n",
    "<ins>**Data:**</ins> Use all available data features to predict the outcome class. Split the data into training, validation and test set using a split of 60-20-20.\n",
    "\n",
    "The following solution consider a fully-connected neural network with the following architecture:\n",
    "- <ins>input layer</ins> with 8 units,\n",
    "- <ins>1st hidden layer</ins> with **6 units** and **ReLu** activations,\n",
    "- <ins>2nd hidden layer</ins> with **6 units** and **tanh** activations,\n",
    "- <ins>3rd hidden layer</ins> with **4 units** and **tanh** activations,\n",
    "- <ins>output layer</ins> with **1 unit** and **sigmoid** activation."
   ]
  },
  {
   "cell_type": "markdown",
   "metadata": {},
   "source": [
    "**Data preparation**"
   ]
  },
  {
   "cell_type": "code",
   "execution_count": 75,
   "metadata": {},
   "outputs": [],
   "source": [
    "# Data Splitting\n",
    "X_train, X_test, y_train, y_test = train_test_split(diabetes.iloc[:,:-1], \n",
    "                                                    diabetes['Outcome'], \n",
    "                                                    test_size=0.2)\n",
    "\n",
    "# Data transformation       \n",
    "scaler = StandardScaler()\n",
    "scaler.fit(X_train)\n",
    "X_train = scaler.transform(X_train)\n",
    "X_test = scaler.transform(X_test)"
   ]
  },
  {
   "cell_type": "markdown",
   "metadata": {},
   "source": [
    "**Model building**"
   ]
  },
  {
   "cell_type": "code",
   "execution_count": 76,
   "metadata": {},
   "outputs": [
    {
     "name": "stdout",
     "output_type": "stream",
     "text": [
      "Model: \"sequential_14\"\n",
      "_________________________________________________________________\n",
      "Layer (type)                 Output Shape              Param #   \n",
      "=================================================================\n",
      "dense_53 (Dense)             (None, 6)                 54        \n",
      "_________________________________________________________________\n",
      "dense_54 (Dense)             (None, 6)                 42        \n",
      "_________________________________________________________________\n",
      "dense_55 (Dense)             (None, 6)                 42        \n",
      "_________________________________________________________________\n",
      "dense_56 (Dense)             (None, 1)                 7         \n",
      "=================================================================\n",
      "Total params: 145\n",
      "Trainable params: 145\n",
      "Non-trainable params: 0\n",
      "_________________________________________________________________\n"
     ]
    }
   ],
   "source": [
    "## Model building\n",
    "model = Sequential()\n",
    "model.add(Input(shape=(8,)))\n",
    "model.add(Dense(6, activation='relu'))\n",
    "model.add(Dense(6, activation='tanh'))\n",
    "model.add(Dense(6, activation='tanh'))\n",
    "model.add(Dense(1, activation='sigmoid'))\n",
    "\n",
    "model.summary()"
   ]
  },
  {
   "cell_type": "markdown",
   "metadata": {},
   "source": [
    "**Model compilation**"
   ]
  },
  {
   "cell_type": "code",
   "execution_count": 77,
   "metadata": {},
   "outputs": [],
   "source": [
    "from tensorflow.keras.optimizers import Adam\n",
    "\n",
    "# Loss function\n",
    "loss = BinaryCrossentropy()\n",
    "\n",
    "# Optimiser\n",
    "lr = 1e-3\n",
    "#optimiser = SGD(learning_rate=lr)\n",
    "optimiser = Adam(learning_rate=lr)\n",
    "\n",
    "model.compile(loss=loss,\n",
    "              optimizer=optimiser, \n",
    "              metrics=['accuracy'])"
   ]
  },
  {
   "cell_type": "markdown",
   "metadata": {},
   "source": [
    "**Model training**"
   ]
  },
  {
   "cell_type": "code",
   "execution_count": 78,
   "metadata": {},
   "outputs": [
    {
     "name": "stdout",
     "output_type": "stream",
     "text": [
      "Train on 460 samples, validate on 154 samples\n",
      "Epoch 1/50\n",
      "460/460 [==============================] - 0s 492us/sample - loss: 0.6704 - accuracy: 0.5957 - val_loss: 0.6436 - val_accuracy: 0.6558\n",
      "Epoch 2/50\n",
      "460/460 [==============================] - 0s 80us/sample - loss: 0.6479 - accuracy: 0.6413 - val_loss: 0.6229 - val_accuracy: 0.6948\n",
      "Epoch 3/50\n",
      "460/460 [==============================] - 0s 81us/sample - loss: 0.6341 - accuracy: 0.6435 - val_loss: 0.6090 - val_accuracy: 0.7078\n",
      "Epoch 4/50\n",
      "460/460 [==============================] - 0s 79us/sample - loss: 0.6232 - accuracy: 0.6435 - val_loss: 0.5988 - val_accuracy: 0.7078\n",
      "Epoch 5/50\n",
      "460/460 [==============================] - 0s 77us/sample - loss: 0.6126 - accuracy: 0.6435 - val_loss: 0.5910 - val_accuracy: 0.7143\n",
      "Epoch 6/50\n",
      "460/460 [==============================] - 0s 74us/sample - loss: 0.6011 - accuracy: 0.6522 - val_loss: 0.5814 - val_accuracy: 0.7143\n",
      "Epoch 7/50\n",
      "460/460 [==============================] - 0s 76us/sample - loss: 0.5889 - accuracy: 0.6565 - val_loss: 0.5716 - val_accuracy: 0.7078\n",
      "Epoch 8/50\n",
      "460/460 [==============================] - 0s 87us/sample - loss: 0.5752 - accuracy: 0.6696 - val_loss: 0.5613 - val_accuracy: 0.7078\n",
      "Epoch 9/50\n",
      "460/460 [==============================] - 0s 88us/sample - loss: 0.5599 - accuracy: 0.6783 - val_loss: 0.5488 - val_accuracy: 0.7208\n",
      "Epoch 10/50\n",
      "460/460 [==============================] - 0s 87us/sample - loss: 0.5457 - accuracy: 0.7000 - val_loss: 0.5380 - val_accuracy: 0.7403\n",
      "Epoch 11/50\n",
      "460/460 [==============================] - 0s 81us/sample - loss: 0.5325 - accuracy: 0.7326 - val_loss: 0.5260 - val_accuracy: 0.7662\n",
      "Epoch 12/50\n",
      "460/460 [==============================] - 0s 88us/sample - loss: 0.5177 - accuracy: 0.7413 - val_loss: 0.5172 - val_accuracy: 0.7597\n",
      "Epoch 13/50\n",
      "460/460 [==============================] - 0s 93us/sample - loss: 0.5055 - accuracy: 0.7457 - val_loss: 0.5076 - val_accuracy: 0.7662\n",
      "Epoch 14/50\n",
      "460/460 [==============================] - 0s 92us/sample - loss: 0.4956 - accuracy: 0.7587 - val_loss: 0.4994 - val_accuracy: 0.7662\n",
      "Epoch 15/50\n",
      "460/460 [==============================] - 0s 84us/sample - loss: 0.4860 - accuracy: 0.7565 - val_loss: 0.4937 - val_accuracy: 0.7597\n",
      "Epoch 16/50\n",
      "460/460 [==============================] - 0s 95us/sample - loss: 0.4789 - accuracy: 0.7609 - val_loss: 0.4883 - val_accuracy: 0.7662\n",
      "Epoch 17/50\n",
      "460/460 [==============================] - 0s 93us/sample - loss: 0.4717 - accuracy: 0.7652 - val_loss: 0.4828 - val_accuracy: 0.7662\n",
      "Epoch 18/50\n",
      "460/460 [==============================] - 0s 85us/sample - loss: 0.4658 - accuracy: 0.7696 - val_loss: 0.4789 - val_accuracy: 0.7662\n",
      "Epoch 19/50\n",
      "460/460 [==============================] - 0s 89us/sample - loss: 0.4618 - accuracy: 0.7674 - val_loss: 0.4768 - val_accuracy: 0.7792\n",
      "Epoch 20/50\n",
      "460/460 [==============================] - 0s 84us/sample - loss: 0.4572 - accuracy: 0.7696 - val_loss: 0.4743 - val_accuracy: 0.7792\n",
      "Epoch 21/50\n",
      "460/460 [==============================] - 0s 90us/sample - loss: 0.4540 - accuracy: 0.7696 - val_loss: 0.4729 - val_accuracy: 0.7922\n",
      "Epoch 22/50\n",
      "460/460 [==============================] - 0s 94us/sample - loss: 0.4508 - accuracy: 0.7739 - val_loss: 0.4708 - val_accuracy: 0.7987\n",
      "Epoch 23/50\n",
      "460/460 [==============================] - 0s 93us/sample - loss: 0.4479 - accuracy: 0.7696 - val_loss: 0.4694 - val_accuracy: 0.7987\n",
      "Epoch 24/50\n",
      "460/460 [==============================] - 0s 84us/sample - loss: 0.4463 - accuracy: 0.7696 - val_loss: 0.4687 - val_accuracy: 0.7922\n",
      "Epoch 25/50\n",
      "460/460 [==============================] - 0s 100us/sample - loss: 0.4435 - accuracy: 0.7674 - val_loss: 0.4667 - val_accuracy: 0.7922\n",
      "Epoch 26/50\n",
      "460/460 [==============================] - 0s 94us/sample - loss: 0.4413 - accuracy: 0.7696 - val_loss: 0.4662 - val_accuracy: 0.7857\n",
      "Epoch 27/50\n",
      "460/460 [==============================] - 0s 88us/sample - loss: 0.4399 - accuracy: 0.7761 - val_loss: 0.4666 - val_accuracy: 0.7857\n",
      "Epoch 28/50\n",
      "460/460 [==============================] - 0s 91us/sample - loss: 0.4380 - accuracy: 0.7717 - val_loss: 0.4655 - val_accuracy: 0.7857\n",
      "Epoch 29/50\n",
      "460/460 [==============================] - 0s 88us/sample - loss: 0.4368 - accuracy: 0.7761 - val_loss: 0.4656 - val_accuracy: 0.7857\n",
      "Epoch 30/50\n",
      "460/460 [==============================] - 0s 98us/sample - loss: 0.4350 - accuracy: 0.7783 - val_loss: 0.4650 - val_accuracy: 0.7857\n",
      "Epoch 31/50\n",
      "460/460 [==============================] - 0s 91us/sample - loss: 0.4339 - accuracy: 0.7848 - val_loss: 0.4649 - val_accuracy: 0.7857\n",
      "Epoch 32/50\n",
      "460/460 [==============================] - 0s 83us/sample - loss: 0.4326 - accuracy: 0.7848 - val_loss: 0.4664 - val_accuracy: 0.7857\n",
      "Epoch 33/50\n",
      "460/460 [==============================] - 0s 86us/sample - loss: 0.4312 - accuracy: 0.7826 - val_loss: 0.4651 - val_accuracy: 0.7922\n",
      "Epoch 34/50\n",
      "460/460 [==============================] - 0s 84us/sample - loss: 0.4297 - accuracy: 0.7848 - val_loss: 0.4658 - val_accuracy: 0.7857\n",
      "Epoch 35/50\n",
      "460/460 [==============================] - 0s 95us/sample - loss: 0.4287 - accuracy: 0.7935 - val_loss: 0.4651 - val_accuracy: 0.7922\n",
      "Epoch 36/50\n",
      "460/460 [==============================] - 0s 92us/sample - loss: 0.4280 - accuracy: 0.7870 - val_loss: 0.4658 - val_accuracy: 0.7922\n",
      "Epoch 37/50\n",
      "460/460 [==============================] - 0s 89us/sample - loss: 0.4268 - accuracy: 0.7848 - val_loss: 0.4655 - val_accuracy: 0.7922\n",
      "Epoch 38/50\n",
      "460/460 [==============================] - 0s 75us/sample - loss: 0.4264 - accuracy: 0.7848 - val_loss: 0.4668 - val_accuracy: 0.7922\n",
      "Epoch 39/50\n",
      "460/460 [==============================] - 0s 71us/sample - loss: 0.4262 - accuracy: 0.7804 - val_loss: 0.4657 - val_accuracy: 0.7922\n",
      "Epoch 40/50\n",
      "460/460 [==============================] - 0s 76us/sample - loss: 0.4245 - accuracy: 0.7848 - val_loss: 0.4660 - val_accuracy: 0.7922\n",
      "Epoch 41/50\n",
      "460/460 [==============================] - 0s 77us/sample - loss: 0.4233 - accuracy: 0.7826 - val_loss: 0.4675 - val_accuracy: 0.7922\n",
      "Epoch 42/50\n",
      "460/460 [==============================] - 0s 73us/sample - loss: 0.4236 - accuracy: 0.7891 - val_loss: 0.4662 - val_accuracy: 0.7987\n",
      "Epoch 43/50\n",
      "460/460 [==============================] - 0s 72us/sample - loss: 0.4221 - accuracy: 0.7848 - val_loss: 0.4661 - val_accuracy: 0.7922\n",
      "Epoch 44/50\n",
      "460/460 [==============================] - 0s 76us/sample - loss: 0.4205 - accuracy: 0.7848 - val_loss: 0.4674 - val_accuracy: 0.7922\n",
      "Epoch 45/50\n",
      "460/460 [==============================] - 0s 74us/sample - loss: 0.4204 - accuracy: 0.7804 - val_loss: 0.4680 - val_accuracy: 0.7922\n",
      "Epoch 46/50\n",
      "460/460 [==============================] - 0s 74us/sample - loss: 0.4191 - accuracy: 0.7870 - val_loss: 0.4671 - val_accuracy: 0.7857\n",
      "Epoch 47/50\n",
      "460/460 [==============================] - 0s 75us/sample - loss: 0.4184 - accuracy: 0.7804 - val_loss: 0.4673 - val_accuracy: 0.7922\n",
      "Epoch 48/50\n",
      "460/460 [==============================] - 0s 74us/sample - loss: 0.4184 - accuracy: 0.7891 - val_loss: 0.4679 - val_accuracy: 0.7922\n",
      "Epoch 49/50\n",
      "460/460 [==============================] - 0s 78us/sample - loss: 0.4171 - accuracy: 0.7761 - val_loss: 0.4669 - val_accuracy: 0.7922\n",
      "Epoch 50/50\n",
      "460/460 [==============================] - 0s 75us/sample - loss: 0.4165 - accuracy: 0.7783 - val_loss: 0.4683 - val_accuracy: 0.7922\n"
     ]
    },
    {
     "data": {
      "image/png": "[encoded data removed]",
      "text/plain": [
       "<Figure size 576x1152 with 2 Axes>"
      ]
     },
     "metadata": {
      "needs_background": "light"
     },
     "output_type": "display_data"
    }
   ],
   "source": [
    "## Model training\n",
    "epochs = 50\n",
    "batch_size = 16\n",
    "\n",
    "history = model.fit(x=X_train, y=y_train, \n",
    "                    validation_split=0.25,\n",
    "                    epochs=epochs,\n",
    "                    batch_size=batch_size)\n",
    "\n",
    "\n",
    "n_epochs = np.arange(0,epochs)\n",
    "\n",
    "fig, (ax1,ax2) = plt.subplots(2,1,figsize=(8,16))\n",
    "ax1.plot(n_epochs, history.history['loss'], label='training loss')\n",
    "ax1.plot(n_epochs, history.history['val_loss'], label='validation loss')\n",
    "ax1.set_ylim(-0.05,1.05)\n",
    "ax1.legend()\n",
    "\n",
    "ax2.plot(n_epochs, history.history['accuracy'], label='training accuracy')\n",
    "ax2.plot(n_epochs, history.history['val_accuracy'], label='validation accuracy')\n",
    "ax2.set_ylim(-0.05,1.05)\n",
    "ax2.legend()\n",
    "plt.show()"
   ]
  },
  {
   "cell_type": "markdown",
   "metadata": {},
   "source": [
    "**Model evaluation**"
   ]
  },
  {
   "cell_type": "code",
   "execution_count": 79,
   "metadata": {},
   "outputs": [
    {
     "name": "stdout",
     "output_type": "stream",
     "text": [
      "154/154 [==============================] - 0s 50us/sample - loss: 0.5479 - accuracy: 0.7273\n"
     ]
    }
   ],
   "source": [
    "loss_and_metrics = model.evaluate(X_test, y_test, \n",
    "                                  batch_size=batch_size)"
   ]
  },
  {
   "cell_type": "markdown",
   "metadata": {},
   "source": [
    "### 2) Convolutional Neural Network"
   ]
  },
  {
   "cell_type": "markdown",
   "metadata": {},
   "source": [
    "<ins>**Task:**</ins> Please **implement your own multi-class image classifier to predict the outcome classes** in the diabetes dataset. <br>\n",
    "<ins>**Model:**</ins> Use a **convolutional neural network** with at least 1 hidden convolutional layer.<br> (*Note:* Since this is still a multi-class classification task, please use 10 units and the softmax activation in your output layer.)<br>\n",
    "<ins>**Data:**</ins> Use the 28*28 pixel images to predict the digit class."
   ]
  },
  {
   "cell_type": "markdown",
   "metadata": {},
   "source": [
    "The following solution consider a convolutional neural network with the following architecture:\n",
    "- <ins>input</ins> shape $28 \\times 28 \\times 1$,\n",
    "- <ins>1st hidden (convolutional) layer</ins> with **32 filters**, **kernel size (5,5)**, **stride (1,1)** and **ReLu** activations,\n",
    "- <ins>2nd hidden (convolutional) layer</ins> with **64 filters**, **kernel size (5,5)**, **stride (1,1)** and **ReLu** activations,\n",
    "- <ins>3rd hidden (convolutional) layer</ins> with **256 filters**, **kernel size (3,3)**, **stride (1,1)** and **tanh** activations,\n",
    "- <ins>4th hidden (fully-connected) layer</ins> with **256 units** and **ReLu** activations.\n",
    "- <ins>output layer</ins> with **10 units** and **softmax** activation."
   ]
  },
  {
   "cell_type": "markdown",
   "metadata": {},
   "source": [
    "**Data Preparation**"
   ]
  },
  {
   "cell_type": "code",
   "execution_count": 102,
   "metadata": {},
   "outputs": [],
   "source": [
    "# Import the MNIST dataset\n",
    "from tensorflow.keras.datasets import mnist\n",
    "from tensorflow.keras.utils import to_categorical\n",
    "\n",
    "# Load MNIST images and labels and normalise (range 0 to 1) image data\n",
    "(X_train, y_train), (X_test, y_test) = mnist.load_data() # 60,000 training + 10,000 test images/labels\n",
    "X_train = X_train / 255.0\n",
    "X_test  = X_test / 255.0\n",
    "\n",
    "# Reshape dataset to have a single channel \n",
    "X_train = X_train.reshape((X_train.shape[0], 28, 28, 1)) # The CNN requires this layout (batch_size, height, width, n_channels)\n",
    "X_test = X_test.reshape((X_test.shape[0], 28, 28, 1)) # The CNN requires this layout (batch_size, height, width, n_channels)\n",
    "\n",
    "# One-hot encode target values\n",
    "y_train = to_categorical(y_train)\n",
    "y_test = to_categorical(y_test)"
   ]
  },
  {
   "cell_type": "markdown",
   "metadata": {},
   "source": [
    "**Model building**"
   ]
  },
  {
   "cell_type": "code",
   "execution_count": 103,
   "metadata": {},
   "outputs": [
    {
     "name": "stdout",
     "output_type": "stream",
     "text": [
      "Model: \"sequential_21\"\n",
      "_________________________________________________________________\n",
      "Layer (type)                 Output Shape              Param #   \n",
      "=================================================================\n",
      "conv2d_15 (Conv2D)           (None, 24, 24, 32)        832       \n",
      "_________________________________________________________________\n",
      "conv2d_16 (Conv2D)           (None, 20, 20, 64)        51264     \n",
      "_________________________________________________________________\n",
      "conv2d_17 (Conv2D)           (None, 16, 16, 256)       409856    \n",
      "_________________________________________________________________\n",
      "flatten_5 (Flatten)          (None, 65536)             0         \n",
      "_________________________________________________________________\n",
      "dense_67 (Dense)             (None, 256)               16777472  \n",
      "_________________________________________________________________\n",
      "dense_68 (Dense)             (None, 10)                2570      \n",
      "=================================================================\n",
      "Total params: 17,241,994\n",
      "Trainable params: 17,241,994\n",
      "Non-trainable params: 0\n",
      "_________________________________________________________________\n"
     ]
    }
   ],
   "source": [
    "from tensorflow.keras.layers import Conv2D, Flatten\n",
    "\n",
    "model = Sequential()\n",
    "model.add(Input(shape=(28,28,1)))\n",
    "model.add(Conv2D(32, kernel_size=(5,5), strides=(1,1), activation='relu'))\n",
    "model.add(Conv2D(64, kernel_size=(5,5), strides=(1,1), activation='relu'))\n",
    "model.add(Conv2D(256, kernel_size=(5,5), strides=(1,1), activation='relu'))\n",
    "model.add(Flatten()) # This flattens your image with width and height into a vector of length widht*height. \n",
    "model.add(Dense(256, activation='relu')) \n",
    "model.add(Dense(10, activation='softmax')) \n",
    "\n",
    "model.summary()"
   ]
  },
  {
   "cell_type": "markdown",
   "metadata": {},
   "source": [
    "**Model compilation**"
   ]
  },
  {
   "cell_type": "code",
   "execution_count": 104,
   "metadata": {},
   "outputs": [],
   "source": [
    "from tensorflow.keras.losses import CategoricalCrossentropy\n",
    "\n",
    "# Loss function\n",
    "loss = CategoricalCrossentropy()\n",
    "\n",
    "# Optimiser\n",
    "lr = 1e-3\n",
    "#optimiser = SGD(learning_rate=lr)\n",
    "optimiser = Adam(learning_rate=lr)\n",
    "\n",
    "model.compile(loss=loss,\n",
    "              optimizer=optimiser, \n",
    "              metrics=['accuracy'])"
   ]
  },
  {
   "cell_type": "markdown",
   "metadata": {},
   "source": [
    "**Model training**"
   ]
  },
  {
   "cell_type": "code",
   "execution_count": 105,
   "metadata": {},
   "outputs": [
    {
     "name": "stdout",
     "output_type": "stream",
     "text": [
      "Train on 54000 samples, validate on 6000 samples\n",
      "Epoch 1/2\n",
      "54000/54000 [==============================] - 261s 5ms/sample - loss: 0.2311 - accuracy: 0.9284 - val_loss: 0.0534 - val_accuracy: 0.9845\n",
      "Epoch 2/2\n",
      "54000/54000 [==============================] - 266s 5ms/sample - loss: 0.0413 - accuracy: 0.9874 - val_loss: 0.0382 - val_accuracy: 0.9892\n"
     ]
    },
    {
     "data": {
      "image/png": "[encoded data removed]",
      "text/plain": [
       "<Figure size 576x1152 with 2 Axes>"
      ]
     },
     "metadata": {
      "needs_background": "light"
     },
     "output_type": "display_data"
    }
   ],
   "source": [
    "# Define number of epochs and batch size\n",
    "epochs = 2\n",
    "batch_size = 512\n",
    "\n",
    "history = model.fit(x=X_train, y=y_train, \n",
    "                    validation_split=0.1,\n",
    "                    epochs=epochs,\n",
    "                    batch_size=batch_size)\n",
    "\n",
    "\n",
    "n_epochs = np.arange(0,epochs)\n",
    "\n",
    "fig, (ax1,ax2) = plt.subplots(2,1,figsize=(8,16))\n",
    "ax1.plot(n_epochs, history.history['loss'], label='training loss')\n",
    "ax1.plot(n_epochs, history.history['val_loss'], label='validation loss')\n",
    "ax1.set_ylim(-0.05,1.05)\n",
    "ax1.legend()\n",
    "\n",
    "ax2.plot(n_epochs, history.history['accuracy'], label='training accuracy')\n",
    "ax2.plot(n_epochs, history.history['val_accuracy'], label='validation accuracy')\n",
    "ax2.set_ylim(-0.05,1.05)\n",
    "ax2.legend()\n",
    "plt.show()"
   ]
  },
  {
   "cell_type": "markdown",
   "metadata": {},
   "source": [
    "**Model evaluation**"
   ]
  },
  {
   "cell_type": "code",
   "execution_count": 106,
   "metadata": {},
   "outputs": [
    {
     "name": "stdout",
     "output_type": "stream",
     "text": [
      "10000/10000 [==============================] - 9s 926us/sample - loss: 0.0335 - accuracy: 0.9908\n"
     ]
    }
   ],
   "source": [
    "loss_and_metrics = model.evaluate(X_test, y_test, \n",
    "                                  batch_size=batch_size)"
   ]
  }
 ],
 "metadata": {
  "kernelspec": {
   "display_name": "Python 3",
   "language": "python",
   "name": "python3"
  },
  "language_info": {
   "codemirror_mode": {
    "name": "ipython",
    "version": 3
   },
   "file_extension": ".py",
   "mimetype": "text/x-python",
   "name": "python",
   "nbconvert_exporter": "python",
   "pygments_lexer": "ipython3",
   "version": "3.7.5"
  }
 },
 "nbformat": 4,
 "nbformat_minor": 4
}
