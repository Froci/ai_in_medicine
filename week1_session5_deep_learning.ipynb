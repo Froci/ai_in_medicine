{
 "cells": [
  {
   "cell_type": "markdown",
   "metadata": {
    "id": "Akn_mosVUh85"
   },
   "source": [
    "# AI in Medicine: Data Science - Basics IV"
   ]
  },
  {
   "cell_type": "markdown",
   "metadata": {
    "id": "l5_jtm5BUh88"
   },
   "source": [
    "## Python Programming: Deep Learning using *Keras*"
   ]
  },
  {
   "cell_type": "markdown",
   "metadata": {
    "id": "MulWXbThUh88"
   },
   "source": [
    "* **Instructor**: Moritz Seiler, AG Ritter, Charité - Universitätsmedizin Berlin (moritz.seiler@charite.de) <br>\n",
    "* **Target audience**:  Medical students from Charité<br>\n",
    "* **Course date**:  February 2021"
   ]
  },
  {
   "cell_type": "markdown",
   "metadata": {
    "id": "rhSxBhNcUh8-"
   },
   "source": [
    "> **Note:** If you are using this notebook outside of Google Colab,**please ensure that you're using a Python 3.6 or higher kernel**. You can check that in the top right corner of your browser window. If you're using a different Version, go to the Tab \"Kernel\" --> \"Change Kernel\" and select \"Python 3.6\" or higher. <br>\n",
    "\n",
    "**Executing the below cell should return a version higher than 3.6.0**"
   ]
  },
  {
   "cell_type": "code",
   "execution_count": 1,
   "metadata": {
    "colab": {
     "base_uri": "https://localhost:8080/"
    },
    "id": "LeBKwxQtjPYA",
    "outputId": "094f63b1-5789-4d0e-ed98-e714f709180d"
   },
   "outputs": [
    {
     "name": "stdout",
     "output_type": "stream",
     "text": [
      "Python 3.6.9\n"
     ]
    }
   ],
   "source": [
    "!python --version"
   ]
  },
  {
   "cell_type": "markdown",
   "metadata": {
    "id": "Ub-T-KMxjN84"
   },
   "source": [
    "**TensorFlow Update:**<br>\n",
    "The pre-installed version of the tensorflow in this environment is 1.1.0, but the following notebook requires version 2.0.0. Please update the tensorflow library by executing the following cell."
   ]
  },
  {
   "cell_type": "code",
   "execution_count": 2,
   "metadata": {
    "colab": {
     "base_uri": "https://localhost:8080/",
     "height": 36
    },
    "id": "dIaqZZDtivmz",
    "outputId": "404cd42b-2707-46cf-9683-2f4ef9810a92"
   },
   "outputs": [
    {
     "data": {
      "application/vnd.google.colaboratory.intrinsic+json": {
       "type": "string"
      },
      "text/plain": [
       "'2.4.0'"
      ]
     },
     "execution_count": 2,
     "metadata": {
      "tags": []
     },
     "output_type": "execute_result"
    }
   ],
   "source": [
    "import tensorflow as tf\n",
    "tf.__version__"
   ]
  },
  {
   "cell_type": "markdown",
   "metadata": {
    "id": "u_pJOsotUh9J"
   },
   "source": [
    "## 1. Aims of this session"
   ]
  },
  {
   "cell_type": "markdown",
   "metadata": {
    "id": "O1nsdV1IUh9L"
   },
   "source": [
    "This tutorial introduces **deep learning** in Python with ***Keras***. It is meant to be an **introduction to the *Keras* library** and **<ins>not</ins> a deep dive into the theory** surrounding deep learning. The goal of this session is that you will be able to implement your own neural network in Python.\n"
   ]
  },
  {
   "cell_type": "markdown",
   "metadata": {
    "id": "Z5gY7MmcUh9M"
   },
   "source": [
    "## 2. Learning goals"
   ]
  },
  {
   "cell_type": "markdown",
   "metadata": {
    "id": "muMORQO_Uh9N"
   },
   "source": [
    "### Theory"
   ]
  },
  {
   "cell_type": "markdown",
   "metadata": {
    "id": "DlJh1x8WUh9N"
   },
   "source": [
    "Deep Learning\n",
    "- Definition\n",
    "- Fully-connected Neural Networks\n",
    "- Activation functions\n",
    "- Forward pass\n",
    "- Backward pass\n",
    "- Convolutional Neural Networks"
   ]
  },
  {
   "cell_type": "markdown",
   "metadata": {
    "id": "y4A0vJJXUh9P"
   },
   "source": [
    "### Practical"
   ]
  },
  {
   "cell_type": "markdown",
   "metadata": {
    "id": "_R6reocbUh9Q"
   },
   "source": [
    "1. Deep Learning Playground\n",
    "2. Data set\n",
    "3. Keras\n",
    "    - Introduction\n",
    "    - Workflow\n",
    "        - Prepare data\n",
    "        - Build model\n",
    "        - Compile model\n",
    "        - Fit model\n",
    "        - Predict\n",
    "        - Evaluate model\n",
    "        - Save model\n"
   ]
  },
  {
   "cell_type": "markdown",
   "metadata": {
    "id": "cosraY4LUh9Q"
   },
   "source": [
    "## 3. References"
   ]
  },
  {
   "cell_type": "markdown",
   "metadata": {
    "id": "NeV_-HNfUh9Y"
   },
   "source": [
    "- Deep Learning<br>\n",
    "https://www.deeplearningbook.org/<br>\n",
    "https://cs231n.github.io/\n",
    "\n",
    "- Keras<br>\n",
    "https://keras.io/guides/<br>\n",
    "https://www.tensorflow.org/tutorials/keras/classification\n",
    "\n",
    "- Data<br>\n",
    "https://www.kaggle.com/uciml/pima-indians-diabetes-database"
   ]
  },
  {
   "cell_type": "markdown",
   "metadata": {
    "id": "FyXVV-5hUh9Y"
   },
   "source": [
    "## 4. Theory"
   ]
  },
  {
   "cell_type": "markdown",
   "metadata": {
    "id": "DzloYLXvUh9Z"
   },
   "source": [
    "See accompanying slide deck."
   ]
  },
  {
   "cell_type": "markdown",
   "metadata": {
    "id": "-IKKFtrEUh9Z"
   },
   "source": [
    "## 5. Practical"
   ]
  },
  {
   "cell_type": "markdown",
   "metadata": {
    "id": "LxDD36XgUh9Z"
   },
   "source": [
    "### 5.1 Playground excersises"
   ]
  },
  {
   "cell_type": "markdown",
   "metadata": {
    "id": "AtlCJ6UeUh9Z"
   },
   "source": [
    "The *Tensorflow* Playground is an interactive visualisation of neural networks in your browser. In this playground, you can choose different hyper-parameters of your neural network and visually observe the training process. This allows you to get some intuition on neural network workings"
   ]
  },
  {
   "cell_type": "markdown",
   "metadata": {
    "id": "qIHWjpWYUh9b"
   },
   "source": [
    "https://playground.tensorflow.org"
   ]
  },
  {
   "cell_type": "markdown",
   "metadata": {
    "id": "-WP0QGVMUh9b"
   },
   "source": [
    "### Exercises"
   ]
  },
  {
   "cell_type": "markdown",
   "metadata": {
    "id": "FnNgJVqSUh9b"
   },
   "source": [
    "**1.** Play around and get some intution!"
   ]
  },
  {
   "cell_type": "markdown",
   "metadata": {
    "id": "LpjHqPCWUh9c"
   },
   "source": [
    "**2.** Let's try a different dataset. Investigate the effects of the learning rate on the training results. <br>"
   ]
  },
  {
   "cell_type": "code",
   "execution_count": null,
   "metadata": {
    "id": "4YNYpk80Uh9f"
   },
   "outputs": [],
   "source": []
  },
  {
   "cell_type": "markdown",
   "metadata": {
    "id": "4YIwIAzfUh9h"
   },
   "source": [
    "**3.** We now select the spiral dataset and add noise to the training data (noise=50). What do you observe using the following network architecture?<br>\n",
    "https://playground.tensorflow.org/#activation=sigmoid&batchSize=10&dataset=spiral&regDataset=reg-plane&learningRate=0.03&regularizationRate=0&noise=50&networkShape=2&seed=0.00906&showTestData=false&discretize=false&percTrainData=50&x=true&y=true&xTimesY=false&xSquared=true&ySquared=true&cosX=false&sinX=false&cosY=false&sinY=false&collectStats=false&problem=classification&initZero=false&hideText=false"
   ]
  },
  {
   "cell_type": "code",
   "execution_count": null,
   "metadata": {
    "id": "YR--lsyqUh9i"
   },
   "outputs": [],
   "source": []
  },
  {
   "cell_type": "markdown",
   "metadata": {
    "id": "Bwo7O4_gUh9k"
   },
   "source": [
    "### 5.2 Data set"
   ]
  },
  {
   "cell_type": "markdown",
   "metadata": {
    "id": "YIPH1UIRUh9l"
   },
   "source": [
    "The data we are using in this tutorial is the Diabetes data set that you have already prepared in the previous tutorial.\n",
    "\n",
    "<ins>Source:</ins><br>\n",
    "*Smith, J.W., Everhart, J.E., Dickson, W.C., Knowler, W.C., & Johannes, R.S. (1988). Using the ADAP learning algorithm to forecast the onset of diabetes mellitus. In Proceedings of the Symposium on Computer Applications and Medical Care (pp. 261--265). IEEE Computer Society Press.*\n"
   ]
  },
  {
   "cell_type": "code",
   "execution_count": 25,
   "metadata": {
    "id": "SbCC38ffUh9m"
   },
   "outputs": [],
   "source": [
    "# Import the Pandas and NumPy library\n",
    "import pandas as pd\n",
    "import numpy as np\n",
    "\n",
    "\n",
    "# Read the Diabetes data set \n",
    "diabetes = pd.read_csv('https://github.com/volkamerlab/ai_in_medicine/raw/update-2021.02/data/diabetes.csv')"
   ]
  },
  {
   "cell_type": "code",
   "execution_count": 26,
   "metadata": {
    "colab": {
     "base_uri": "https://localhost:8080/",
     "height": 206
    },
    "id": "pTGfru68Uh9m",
    "outputId": "2fe33c3e-4c77-4926-97c8-0ae212b826cf"
   },
   "outputs": [
    {
     "data": {
      "text/html": [
       "<div>\n",
       "<style scoped>\n",
       "    .dataframe tbody tr th:only-of-type {\n",
       "        vertical-align: middle;\n",
       "    }\n",
       "\n",
       "    .dataframe tbody tr th {\n",
       "        vertical-align: top;\n",
       "    }\n",
       "\n",
       "    .dataframe thead th {\n",
       "        text-align: right;\n",
       "    }\n",
       "</style>\n",
       "<table border=\"1\" class=\"dataframe\">\n",
       "  <thead>\n",
       "    <tr style=\"text-align: right;\">\n",
       "      <th></th>\n",
       "      <th>Pregnancies</th>\n",
       "      <th>Glucose</th>\n",
       "      <th>BloodPressure</th>\n",
       "      <th>SkinThickness</th>\n",
       "      <th>Insulin</th>\n",
       "      <th>BMI</th>\n",
       "      <th>DiabetesPedigreeFunction</th>\n",
       "      <th>Age</th>\n",
       "      <th>Outcome</th>\n",
       "    </tr>\n",
       "  </thead>\n",
       "  <tbody>\n",
       "    <tr>\n",
       "      <th>0</th>\n",
       "      <td>6</td>\n",
       "      <td>148</td>\n",
       "      <td>72</td>\n",
       "      <td>35</td>\n",
       "      <td>0</td>\n",
       "      <td>33.6</td>\n",
       "      <td>0.627</td>\n",
       "      <td>50</td>\n",
       "      <td>1</td>\n",
       "    </tr>\n",
       "    <tr>\n",
       "      <th>1</th>\n",
       "      <td>1</td>\n",
       "      <td>85</td>\n",
       "      <td>66</td>\n",
       "      <td>29</td>\n",
       "      <td>0</td>\n",
       "      <td>26.6</td>\n",
       "      <td>0.351</td>\n",
       "      <td>31</td>\n",
       "      <td>0</td>\n",
       "    </tr>\n",
       "    <tr>\n",
       "      <th>2</th>\n",
       "      <td>8</td>\n",
       "      <td>183</td>\n",
       "      <td>64</td>\n",
       "      <td>0</td>\n",
       "      <td>0</td>\n",
       "      <td>23.3</td>\n",
       "      <td>0.672</td>\n",
       "      <td>32</td>\n",
       "      <td>1</td>\n",
       "    </tr>\n",
       "    <tr>\n",
       "      <th>3</th>\n",
       "      <td>1</td>\n",
       "      <td>89</td>\n",
       "      <td>66</td>\n",
       "      <td>23</td>\n",
       "      <td>94</td>\n",
       "      <td>28.1</td>\n",
       "      <td>0.167</td>\n",
       "      <td>21</td>\n",
       "      <td>0</td>\n",
       "    </tr>\n",
       "    <tr>\n",
       "      <th>4</th>\n",
       "      <td>0</td>\n",
       "      <td>137</td>\n",
       "      <td>40</td>\n",
       "      <td>35</td>\n",
       "      <td>168</td>\n",
       "      <td>43.1</td>\n",
       "      <td>2.288</td>\n",
       "      <td>33</td>\n",
       "      <td>1</td>\n",
       "    </tr>\n",
       "  </tbody>\n",
       "</table>\n",
       "</div>"
      ],
      "text/plain": [
       "   Pregnancies  Glucose  BloodPressure  ...  DiabetesPedigreeFunction  Age  Outcome\n",
       "0            6      148             72  ...                     0.627   50        1\n",
       "1            1       85             66  ...                     0.351   31        0\n",
       "2            8      183             64  ...                     0.672   32        1\n",
       "3            1       89             66  ...                     0.167   21        0\n",
       "4            0      137             40  ...                     2.288   33        1\n",
       "\n",
       "[5 rows x 9 columns]"
      ]
     },
     "execution_count": 26,
     "metadata": {
      "tags": []
     },
     "output_type": "execute_result"
    }
   ],
   "source": [
    "diabetes.head()"
   ]
  },
  {
   "cell_type": "code",
   "execution_count": 4,
   "metadata": {
    "id": "4WgXZmQlVlQS"
   },
   "outputs": [],
   "source": []
  },
  {
   "cell_type": "markdown",
   "metadata": {
    "id": "7NZLHzTmUh9o"
   },
   "source": [
    "### 5.3 Keras\n"
   ]
  },
  {
   "cell_type": "markdown",
   "metadata": {
    "id": "acsny_xVUh9p"
   },
   "source": [
    "Keras is a high-level neural networks API, capable of running on top of Tensorflow, Theano, and CNTK. It enables fast experimentation through a high level, user-friendly, modular and extensible API\n",
    "\n",
    "<img src=\"https://keras.io/img/logo.png\" width=\"40%\">\n",
    "\n",
    "<ins>Source:</ins> https://keras.io/img/logo.png"
   ]
  },
  {
   "cell_type": "markdown",
   "metadata": {
    "id": "j_YMY3nWUh9p"
   },
   "source": [
    "### Installation"
   ]
  },
  {
   "cell_type": "markdown",
   "metadata": {
    "id": "__XnytcRUh9p"
   },
   "source": [
    "For an installation of the *Keras* library, you have to enter the following command in the terminal."
   ]
  },
  {
   "cell_type": "markdown",
   "metadata": {
    "id": "j3KOYchaUh9q"
   },
   "source": [
    "```python\n",
    "!pip install tensorflow\n",
    "```"
   ]
  },
  {
   "cell_type": "markdown",
   "metadata": {
    "id": "_ql4nQgRUh9q"
   },
   "source": [
    "Keras comes packaged with *TensorFlow 2.0* as `tensorflow.keras`. To start using *Keras*, simply install *TensorFlow 2.0*."
   ]
  },
  {
   "cell_type": "markdown",
   "metadata": {
    "id": "mEIhPfo5Uh9r"
   },
   "source": [
    "*Keras* is a model-level library, providing high-level building blocks for developing deep learning models. It doesn't handle itself low-level operations such as tensor products, convolutions and so on. Instead, it relies on a specialized, well-optimized tensor manipulation library to do so, serving as the \"backend engine\" of Keras. \n",
    "\n",
    "Rather than picking one single tensor library and making the implementation of *Keras* tied to that library, *Keras* handles the problem in a modular way, and several different backend engines can be plugged seamlessly into *Keras*."
   ]
  },
  {
   "cell_type": "markdown",
   "metadata": {
    "id": "rtgIJJ1GUh9r"
   },
   "source": [
    "### Importing the library"
   ]
  },
  {
   "cell_type": "markdown",
   "metadata": {
    "id": "a9U5V2EEUh9t"
   },
   "source": [
    "We aren't going to import the whole *Keras* library but only specific classes that we need for our implementation. This will later be done using the following command:"
   ]
  },
  {
   "cell_type": "markdown",
   "metadata": {
    "id": "Sev4kbIjUh9u"
   },
   "source": [
    "```python\n",
    "import tensorflow as tf\n",
    "from tensorflow.keras.xyz import ...\n",
    "```"
   ]
  },
  {
   "cell_type": "markdown",
   "metadata": {
    "id": "ThgpIYjAUh9u"
   },
   "source": [
    "### Workflow"
   ]
  },
  {
   "cell_type": "markdown",
   "metadata": {
    "id": "EeLZsFYCUh9v"
   },
   "source": [
    "Training your first simple neural network with *Keras* doesn't require a lot of code, but we're going to start slow, taking it step-by-step, ensuring you understand the process of how to train a network. The workflow in *Keras* consits of the following steps:\n",
    "1. **Prepare data**\n",
    "2. **Build model**\n",
    "3. **Compile model**\n",
    "4. **Fit model**\n",
    "5. **Predict**\n",
    "6. **Evaluate model**\n",
    "7. **Save model**\n",
    "\n",
    "We're now going to introduce all these steps in more detail in the following part of the notebook. "
   ]
  },
  {
   "cell_type": "markdown",
   "metadata": {
    "id": "X3Iej-MNUh9v"
   },
   "source": [
    "#### 1. Data preparation"
   ]
  },
  {
   "cell_type": "markdown",
   "metadata": {
    "id": "oWnAxNECUh9v"
   },
   "source": [
    "Before we start building our neural network, we have to prepare our data. A first step should always be data inspection, which you have already done in the last tutorial. Here, we will split our data in different subsets to train our model and will standardise the data."
   ]
  },
  {
   "cell_type": "markdown",
   "metadata": {
    "id": "JPrH05GZUh9x"
   },
   "source": [
    "**Data splitting**"
   ]
  },
  {
   "cell_type": "markdown",
   "metadata": {
    "id": "9HV0QMqcUh9x"
   },
   "source": [
    "As you have learnt in the last tutorial, we have to split our dataset in subsets since we do not know the (hidden) data generating distribution to calculate the true error of our model. For this, we split the diabetes dataset into a training set, validation set and test set using the following split 60-20-20 to approximate the true error. We use the `train_test_split()`function from them `sklearn.model_selection` module to perform the splitting."
   ]
  },
  {
   "cell_type": "markdown",
   "metadata": {
    "id": "SXzeWl3RUh9x"
   },
   "source": [
    "Here, we split the dataset only in a training and test set. Later in the training step, we use *Keras*' functionality to create a validation set from the training set. "
   ]
  },
  {
   "cell_type": "code",
   "execution_count": 5,
   "metadata": {
    "id": "URVclPL_Uh9x"
   },
   "outputs": [],
   "source": [
    "from sklearn.model_selection import train_test_split\n",
    "\n",
    "X_train, X_test, y_train, y_test = train_test_split(diabetes[['Glucose','BMI','Age']], diabetes['Outcome'], \n",
    "                                                    test_size=0.2)"
   ]
  },
  {
   "cell_type": "markdown",
   "metadata": {
    "id": "QkPdmBBHUh9x"
   },
   "source": [
    "Let's check how many observations are in each set."
   ]
  },
  {
   "cell_type": "code",
   "execution_count": 6,
   "metadata": {
    "colab": {
     "base_uri": "https://localhost:8080/"
    },
    "id": "4AMXv4ODUh9y",
    "outputId": "48d5d796-7b24-4244-99f3-91289269e965"
   },
   "outputs": [
    {
     "name": "stdout",
     "output_type": "stream",
     "text": [
      "Number of training samples: 614\n",
      "Number of test samples: 154\n"
     ]
    }
   ],
   "source": [
    "print(\"Number of training samples: %i\" % len(X_train))\n",
    "print(\"Number of test samples: %i\" % len(X_test))"
   ]
  },
  {
   "cell_type": "markdown",
   "metadata": {
    "id": "Y1DBHAb7Uh9z"
   },
   "source": [
    "**Tranformations**"
   ]
  },
  {
   "cell_type": "markdown",
   "metadata": {
    "id": "wYXY_WmJUh90"
   },
   "source": [
    "Convergence of neural networks is ususally faster if the **average of each input variable**  over the training set is **close to zero**. In general, any shift of the average input away from zero will bias the updates in a particular direction and thus slow down learning. Additionally, **scaling the inputs** - to have **about the same covariance** - speeds up learning because it helps to balance out the rate at which the weights connected to the input nodes learn. Therefore, we will *standardize* our data \n",
    "\n",
    "$$z=\\frac{x-\\mu}{\\sigma} $$\n",
    "\n",
    "with mean $\\mu$ and standard deviation $\\sigma$. This transformation will speed up and stabilise the training process. We can use the `StandardScaler()` function from the `sklearn.preprocessing` module to perform the standardisation."
   ]
  },
  {
   "cell_type": "code",
   "execution_count": 7,
   "metadata": {
    "id": "I5Hj349qUh92"
   },
   "outputs": [],
   "source": [
    "from sklearn.preprocessing import StandardScaler\n",
    "\n",
    "# Instatiate scaler\n",
    "scaler = StandardScaler()\n",
    "\n",
    "# Train scaler on the data set\n",
    "scaler.fit(X_train)\n",
    "\n",
    "# Transform datasets\n",
    "X_train = scaler.transform(X_train)\n",
    "X_test = scaler.transform(X_test)"
   ]
  },
  {
   "cell_type": "markdown",
   "metadata": {
    "id": "IFA4d1z7Uh92"
   },
   "source": [
    "Let us have a look at our transformed training set."
   ]
  },
  {
   "cell_type": "code",
   "execution_count": 8,
   "metadata": {
    "colab": {
     "base_uri": "https://localhost:8080/"
    },
    "id": "GBRjFuFOUh92",
    "outputId": "001a9ec3-bbb0-4495-a4a5-a0fbf412d61a"
   },
   "outputs": [
    {
     "data": {
      "text/plain": [
       "array([[-0.39095186,  0.47879896, -0.70833137],\n",
       "       [-1.17062071,  0.6173749 , -0.45249874],\n",
       "       [-0.82756642, -0.74318888, -0.96416399],\n",
       "       [ 1.35550636,  2.55743806, -0.87888645],\n",
       "       [-0.60925914, -0.34005887, -0.53777628],\n",
       "       [-0.82756642, -1.02034076, -0.96416399],\n",
       "       [-0.54688563, -0.52902607, -0.87888645],\n",
       "       [-0.51569888,  1.42363491,  0.99721945],\n",
       "       [ 2.22873547, -0.76838451, -0.79360891],\n",
       "       [ 1.85449442,  0.49139677,  1.5088847 ]])"
      ]
     },
     "execution_count": 8,
     "metadata": {
      "tags": []
     },
     "output_type": "execute_result"
    }
   ],
   "source": [
    "X_train[:10,:]"
   ]
  },
  {
   "cell_type": "markdown",
   "metadata": {
    "id": "ZSyq9fCZUh93"
   },
   "source": [
    "Let us also check the mean and standard deviation of our standardised training dataset."
   ]
  },
  {
   "cell_type": "code",
   "execution_count": 9,
   "metadata": {
    "colab": {
     "base_uri": "https://localhost:8080/"
    },
    "id": "_r_zsDIHUh94",
    "outputId": "cf580001-ddba-45e6-9a0d-e5611f91913d"
   },
   "outputs": [
    {
     "name": "stdout",
     "output_type": "stream",
     "text": [
      "[ 1.21509751e-16 -3.21132914e-16 -2.43019502e-16]\n",
      "[1. 1. 1.]\n"
     ]
    }
   ],
   "source": [
    "print(np.mean(X_train,0))\n",
    "print(np.std(X_train,0))"
   ]
  },
  {
   "cell_type": "markdown",
   "metadata": {
    "id": "Ztbd-o7HUh94"
   },
   "source": [
    "#### 2. Model Building"
   ]
  },
  {
   "cell_type": "markdown",
   "metadata": {
    "id": "2DCl3nGqUh94"
   },
   "source": [
    "The core data structures of *Keras* are **layers** and **models**. There are three ways to create Keras models:\n",
    "\n",
    "- The Sequential model is simply a linear stack of layers. *(for simple implementations)*\n",
    "- The Functional API fully-featured API that supports arbitrary model architectures. *(for more complex implementations)*\n",
    "- Model subclassing, where you implement everything from scratch on your own. *(for more complex implementations)*\n",
    "\n",
    "We are going to use the **Sequential model** class in this tutorial. You simply need to import the model from the *Keras* library and initialise a model object using the following commands:"
   ]
  },
  {
   "cell_type": "code",
   "execution_count": 10,
   "metadata": {
    "id": "a7gc80ZfUh95"
   },
   "outputs": [],
   "source": [
    "import tensorflow as tf\n",
    "from tensorflow.keras.models import Sequential\n",
    "\n",
    "model = Sequential()"
   ]
  },
  {
   "cell_type": "markdown",
   "metadata": {
    "id": "IpmpOjfxUh95"
   },
   "source": [
    "Then, we can stack layers and add those to our model object. Before we do so, the implementation of the layer types  \n",
    "- dense layer and \n",
    "- convolutional layer \n",
    "\n",
    "is introduced, which you are going to use later in this notebook. A complete list of supported layer types is given in the *Keras* documentation https://keras.io/api/layers/. First, we have to import these layers from the *Keras* layer module using the following command:"
   ]
  },
  {
   "cell_type": "markdown",
   "metadata": {
    "id": "w72LP4ipUh95"
   },
   "source": [
    "```python\n",
    "from tensorflow.keras.layers import Dense, Conv2D\n",
    "```"
   ]
  },
  {
   "cell_type": "markdown",
   "metadata": {
    "id": "R52VX13DUh95"
   },
   "source": [
    "**Dense layer**<br>\n",
    "A dense layer/fully-connected layer is a layer in which each input neuron is connected to each output neuron, the parameters units just tells you the dimensionality of your output. \n",
    "\n",
    "```python\n",
    "Dense(units='dimensionality of the output space',\n",
    "      activation='activation function to use',\n",
    "      ...)\n",
    "```\n",
    "<ins>Example:</ins>"
   ]
  },
  {
   "cell_type": "markdown",
   "metadata": {
    "id": "CMincqCAUh95"
   },
   "source": [
    "```python\n",
    "Dense(units=6, activation='relu',...)\n",
    "```"
   ]
  },
  {
   "cell_type": "markdown",
   "metadata": {
    "id": "S3JgPKH1Uh95"
   },
   "source": [
    "**Convolutional layer**<br>\n",
    "The convolutional layer’s parameters consist of a set of learnable filters. During the forward pass, we convolve each filter across the width and height of the input and compute dot products between the entries of the filter and the input at any position. By doing so, we produce an activation map that gives the responses of that filter at every spatial position.\n",
    "\n",
    "```python\n",
    "Conv2D(filters='the dimensionality of the output space (i.e. the number of output filters in convolution)', \n",
    "       kernel_size='specifying the height and width of the 2D convolutional kernel', \n",
    "       strides=' specifying the strides of the convolution along the height and width', \n",
    "       activation='activation function to use',\n",
    "       ...)\n",
    "```\n",
    "<ins>Example:</ins>"
   ]
  },
  {
   "cell_type": "markdown",
   "metadata": {
    "id": "8E14gK7wUh96"
   },
   "source": [
    "```python\n",
    "Conv2D(filters=16, kernel_size=(3,3), strides=(1,1), activation='relu',...)\n",
    "# if width and height are equal you can write in short\n",
    "Conv2D(filters=16, kernel_size=3, strides=1, activation='relu',...)\n",
    "```"
   ]
  },
  {
   "cell_type": "markdown",
   "metadata": {
    "id": "NiIPEAy_Uh96"
   },
   "source": [
    "We can simply add these layers to the Sequential model using the `add()` method.\n",
    "Here, we add  \n",
    "- an dense input layer with 3 units, \n",
    "- a dense sigmoid output layer with 1 unit\n",
    "\n",
    "to create a **fully-connected neural network**."
   ]
  },
  {
   "cell_type": "code",
   "execution_count": 11,
   "metadata": {
    "id": "cwi8JcVZUh96"
   },
   "outputs": [],
   "source": [
    "from tensorflow.keras import Input\n",
    "from tensorflow.keras.layers import Dense\n",
    "\n",
    "model.add(Input(shape=(3,)))\n",
    "model.add(Dense(1, activation='sigmoid'))"
   ]
  },
  {
   "cell_type": "markdown",
   "metadata": {
    "id": "MewTFbooUh97"
   },
   "source": [
    "We can display the content of our neural network by calling the `summary()` method."
   ]
  },
  {
   "cell_type": "code",
   "execution_count": null,
   "metadata": {
    "colab": {
     "base_uri": "https://localhost:8080/"
    },
    "id": "eDek3IM-Uh97",
    "outputId": "d5d92226-850e-4e6b-e7d7-6db3efdb882d"
   },
   "outputs": [
    {
     "name": "stdout",
     "output_type": "stream",
     "text": [
      "Model: \"sequential\"\n",
      "_________________________________________________________________\n",
      "Layer (type)                 Output Shape              Param #   \n",
      "=================================================================\n",
      "dense (Dense)                (None, 1)                 4         \n",
      "=================================================================\n",
      "Total params: 4\n",
      "Trainable params: 4\n",
      "Non-trainable params: 0\n",
      "_________________________________________________________________\n"
     ]
    }
   ],
   "source": [
    "model.summary()"
   ]
  },
  {
   "cell_type": "markdown",
   "metadata": {
    "id": "Z5RVIWapUh98"
   },
   "source": [
    "*Why does our network have 4 parameters?*"
   ]
  },
  {
   "cell_type": "markdown",
   "metadata": {
    "id": "EWzeB6VJUh98"
   },
   "source": [
    "#### 3. Model compilation"
   ]
  },
  {
   "cell_type": "markdown",
   "metadata": {
    "id": "bBBy-ENyUh99"
   },
   "source": [
    "In order to train our neural network, we need to compile our model. This requires us to define a loss function and an optimiser to do so. A list already implemented losses and optimisers can be found in the documentary:\n",
    "\n",
    "- losses: https://keras.io/api/losses/,\n",
    "- optimisers: https://keras.io/api/optimizers/. "
   ]
  },
  {
   "cell_type": "markdown",
   "metadata": {
    "id": "jupgR4smUh99"
   },
   "source": [
    "**Loss function**\n",
    "\n",
    "The purpose of loss functions is to compute the quantity that a model should seek to minimize during training. \n",
    "This function will essentially calculate how poorly our model is performing by comparing what the model is predicting with the actual value it is supposed to output. Therefore, the selection of the loss function depends on the the task.\n",
    "\n",
    "<ins>Examples:</ins><br>\n",
    "\n",
    "*Classification:*\n",
    "- `BinaryCrossentropy()`<br> Computes the cross-entropy loss between true labels and predicted labels *(binary)*.\n",
    "- `CategoricalCrossentropy()`<br> Computes the cross-entropy loss between true labels and predicted labels *(multi-class)*.\n",
    "- ...\n",
    "\n",
    "*Regression:*\n",
    "- `MeanSquaredError()`<br> Computes the mean of squares of errors between labels and predictions.\n",
    "- ...\n",
    "\n",
    "You can import the loss functions from the *Keras* losses module by entering the following command:"
   ]
  },
  {
   "cell_type": "markdown",
   "metadata": {
    "id": "UDP-4PpbUh9-"
   },
   "source": [
    "```python\n",
    "from tensorflow.keras.losses import BinaryCrossentropy, CategoricalCrossentropy, MeanSquaredError\n",
    "```"
   ]
  },
  {
   "cell_type": "markdown",
   "metadata": {
    "id": "-EIWQ_pZUh9-"
   },
   "source": [
    "**Optimiser**\n",
    "\n",
    "We have already dealt with the loss function, which is a mathematical way of measuring how wrong your predictions are. In other words, the loss function lets us quantify the quality of any particular set of model parameters. The goal of optimisation is to find those parameteres that minimize the loss function. For this, we can compute the best direction along which we should change our parameters that is mathematically guaranteed to be the direction of the steepest descend. This direction will be related to the gradient of the loss function."
   ]
  },
  {
   "cell_type": "markdown",
   "metadata": {
    "id": "BAb-sovUUh9-"
   },
   "source": [
    "<ins>Examples:</ins>\n",
    "- `SGD()`<br> Stochastic gradient descent is an implementation of gradient descent - that you know from the lecture - on batches of observations or single random examples on each pass.\n",
    "\n",
    "- `Adam()`<br> Adam stands for adaptive moment estimation, and is another way of using past gradients to calculate current gradients. Adam also utilizes the concept of momentum by adding fractions of previous gradients to the current one.\n",
    "\n",
    "You can import the optimiser from the `tf.keras.optimizers` module by entering the following command:"
   ]
  },
  {
   "cell_type": "markdown",
   "metadata": {
    "id": "TqRtHMErUh9-"
   },
   "source": [
    "```python\n",
    "from tensorflow.keras.optimizers import SGD, Adam\n",
    "```"
   ]
  },
  {
   "cell_type": "markdown",
   "metadata": {
    "id": "v2e4xBarUh9-"
   },
   "source": [
    "We instatiate the loss function and the optimiser before we pass them to the model."
   ]
  },
  {
   "cell_type": "code",
   "execution_count": 12,
   "metadata": {
    "id": "fxlquR4jUh9-"
   },
   "outputs": [],
   "source": [
    "from tensorflow.keras.losses import BinaryCrossentropy\n",
    "from tensorflow.keras.optimizers import SGD\n",
    "\n",
    "loss = BinaryCrossentropy()\n",
    "\n",
    "lr = 4e-2 #lr = 0.04\n",
    "optimiser = SGD(learning_rate=lr)\n",
    "\n",
    "model.compile(loss=loss,\n",
    "              optimizer=optimiser, \n",
    "              metrics=['accuracy'])"
   ]
  },
  {
   "cell_type": "markdown",
   "metadata": {
    "id": "3IIzAO07Uh-A"
   },
   "source": [
    "After compiling our model, we're now ready to start the training."
   ]
  },
  {
   "cell_type": "markdown",
   "metadata": {
    "id": "qpXJdIUxUh-A"
   },
   "source": [
    "#### 4. Model training"
   ]
  },
  {
   "cell_type": "markdown",
   "metadata": {
    "id": "Xydm8CZcUh-B"
   },
   "source": [
    "To train our model we can simply use the `fit()` method. Here, we just have to provide the *number of epochs*, the *batch size* and the *training dataset* (features and targerts). Instead of providing a separate validation dataset, we use the `validation_split` functionality, which uses the last x% observations of the training dataset before shuffling to create a validation set.\n",
    "\n",
    "At the end of each epoch, the model will iterate over the validation dataset and compute the validation loss and validation metric.\n",
    "\n",
    "The `fit()` method outputs a `History` object; its `History.history` attribute is a record of loss and metrics values (training + validation)."
   ]
  },
  {
   "cell_type": "markdown",
   "metadata": {
    "id": "-rfGPuS6Uh-B"
   },
   "source": [
    "In our example, we use 50 *epochs* and a *batch size* of 64 to train our model. Additionally, we use a validation split of 0.25 such that our overall data split in training, validation and test set is 60-20-20."
   ]
  },
  {
   "cell_type": "code",
   "execution_count": 13,
   "metadata": {
    "colab": {
     "base_uri": "https://localhost:8080/"
    },
    "id": "rfmSlXFeUh-B",
    "outputId": "5fa547c8-005a-4db6-a368-240c5067d2c2"
   },
   "outputs": [
    {
     "name": "stdout",
     "output_type": "stream",
     "text": [
      "Epoch 1/50\n",
      "8/8 [==============================] - 1s 55ms/step - loss: 0.8913 - accuracy: 0.4385 - val_loss: 0.8099 - val_accuracy: 0.5260\n",
      "Epoch 2/50\n",
      "8/8 [==============================] - 0s 6ms/step - loss: 0.8642 - accuracy: 0.4591 - val_loss: 0.7701 - val_accuracy: 0.5260\n",
      "Epoch 3/50\n",
      "8/8 [==============================] - 0s 6ms/step - loss: 0.7740 - accuracy: 0.5097 - val_loss: 0.7369 - val_accuracy: 0.5390\n",
      "Epoch 4/50\n",
      "8/8 [==============================] - 0s 5ms/step - loss: 0.7512 - accuracy: 0.5288 - val_loss: 0.7067 - val_accuracy: 0.5844\n",
      "Epoch 5/50\n",
      "8/8 [==============================] - 0s 6ms/step - loss: 0.7113 - accuracy: 0.5781 - val_loss: 0.6823 - val_accuracy: 0.6169\n",
      "Epoch 6/50\n",
      "8/8 [==============================] - 0s 6ms/step - loss: 0.6901 - accuracy: 0.5895 - val_loss: 0.6622 - val_accuracy: 0.6623\n",
      "Epoch 7/50\n",
      "8/8 [==============================] - 0s 6ms/step - loss: 0.6461 - accuracy: 0.6478 - val_loss: 0.6449 - val_accuracy: 0.6818\n",
      "Epoch 8/50\n",
      "8/8 [==============================] - 0s 6ms/step - loss: 0.6274 - accuracy: 0.6570 - val_loss: 0.6288 - val_accuracy: 0.6948\n",
      "Epoch 9/50\n",
      "8/8 [==============================] - 0s 6ms/step - loss: 0.5952 - accuracy: 0.6866 - val_loss: 0.6167 - val_accuracy: 0.7338\n",
      "Epoch 10/50\n",
      "8/8 [==============================] - 0s 6ms/step - loss: 0.5892 - accuracy: 0.6826 - val_loss: 0.6071 - val_accuracy: 0.7338\n",
      "Epoch 11/50\n",
      "8/8 [==============================] - 0s 6ms/step - loss: 0.5825 - accuracy: 0.6903 - val_loss: 0.5978 - val_accuracy: 0.7403\n",
      "Epoch 12/50\n",
      "8/8 [==============================] - 0s 6ms/step - loss: 0.5779 - accuracy: 0.6985 - val_loss: 0.5908 - val_accuracy: 0.7403\n",
      "Epoch 13/50\n",
      "8/8 [==============================] - 0s 6ms/step - loss: 0.5627 - accuracy: 0.7020 - val_loss: 0.5851 - val_accuracy: 0.7338\n",
      "Epoch 14/50\n",
      "8/8 [==============================] - 0s 7ms/step - loss: 0.5268 - accuracy: 0.7419 - val_loss: 0.5811 - val_accuracy: 0.7338\n",
      "Epoch 15/50\n",
      "8/8 [==============================] - 0s 6ms/step - loss: 0.5466 - accuracy: 0.7199 - val_loss: 0.5765 - val_accuracy: 0.7403\n",
      "Epoch 16/50\n",
      "8/8 [==============================] - 0s 6ms/step - loss: 0.5263 - accuracy: 0.7424 - val_loss: 0.5728 - val_accuracy: 0.7338\n",
      "Epoch 17/50\n",
      "8/8 [==============================] - 0s 24ms/step - loss: 0.5396 - accuracy: 0.7268 - val_loss: 0.5697 - val_accuracy: 0.7403\n",
      "Epoch 18/50\n",
      "8/8 [==============================] - 0s 7ms/step - loss: 0.5170 - accuracy: 0.7448 - val_loss: 0.5672 - val_accuracy: 0.7338\n",
      "Epoch 19/50\n",
      "8/8 [==============================] - 0s 6ms/step - loss: 0.5177 - accuracy: 0.7504 - val_loss: 0.5654 - val_accuracy: 0.7208\n",
      "Epoch 20/50\n",
      "8/8 [==============================] - 0s 7ms/step - loss: 0.4951 - accuracy: 0.7687 - val_loss: 0.5639 - val_accuracy: 0.7273\n",
      "Epoch 21/50\n",
      "8/8 [==============================] - 0s 6ms/step - loss: 0.5048 - accuracy: 0.7558 - val_loss: 0.5622 - val_accuracy: 0.7273\n",
      "Epoch 22/50\n",
      "8/8 [==============================] - 0s 6ms/step - loss: 0.5054 - accuracy: 0.7501 - val_loss: 0.5610 - val_accuracy: 0.7273\n",
      "Epoch 23/50\n",
      "8/8 [==============================] - 0s 6ms/step - loss: 0.4996 - accuracy: 0.7632 - val_loss: 0.5601 - val_accuracy: 0.7338\n",
      "Epoch 24/50\n",
      "8/8 [==============================] - 0s 6ms/step - loss: 0.5143 - accuracy: 0.7344 - val_loss: 0.5591 - val_accuracy: 0.7338\n",
      "Epoch 25/50\n",
      "8/8 [==============================] - 0s 8ms/step - loss: 0.5192 - accuracy: 0.7262 - val_loss: 0.5585 - val_accuracy: 0.7403\n",
      "Epoch 26/50\n",
      "8/8 [==============================] - 0s 6ms/step - loss: 0.4958 - accuracy: 0.7620 - val_loss: 0.5581 - val_accuracy: 0.7468\n",
      "Epoch 27/50\n",
      "8/8 [==============================] - 0s 6ms/step - loss: 0.4864 - accuracy: 0.7721 - val_loss: 0.5576 - val_accuracy: 0.7597\n",
      "Epoch 28/50\n",
      "8/8 [==============================] - 0s 6ms/step - loss: 0.4708 - accuracy: 0.7699 - val_loss: 0.5572 - val_accuracy: 0.7597\n",
      "Epoch 29/50\n",
      "8/8 [==============================] - 0s 6ms/step - loss: 0.4887 - accuracy: 0.7541 - val_loss: 0.5567 - val_accuracy: 0.7597\n",
      "Epoch 30/50\n",
      "8/8 [==============================] - 0s 5ms/step - loss: 0.4662 - accuracy: 0.7719 - val_loss: 0.5565 - val_accuracy: 0.7597\n",
      "Epoch 31/50\n",
      "8/8 [==============================] - 0s 6ms/step - loss: 0.4745 - accuracy: 0.7695 - val_loss: 0.5561 - val_accuracy: 0.7597\n",
      "Epoch 32/50\n",
      "8/8 [==============================] - 0s 6ms/step - loss: 0.4669 - accuracy: 0.7812 - val_loss: 0.5560 - val_accuracy: 0.7597\n",
      "Epoch 33/50\n",
      "8/8 [==============================] - 0s 6ms/step - loss: 0.4896 - accuracy: 0.7632 - val_loss: 0.5557 - val_accuracy: 0.7597\n",
      "Epoch 34/50\n",
      "8/8 [==============================] - 0s 6ms/step - loss: 0.4744 - accuracy: 0.7736 - val_loss: 0.5558 - val_accuracy: 0.7597\n",
      "Epoch 35/50\n",
      "8/8 [==============================] - 0s 6ms/step - loss: 0.4711 - accuracy: 0.7795 - val_loss: 0.5560 - val_accuracy: 0.7597\n",
      "Epoch 36/50\n",
      "8/8 [==============================] - 0s 6ms/step - loss: 0.4726 - accuracy: 0.7858 - val_loss: 0.5559 - val_accuracy: 0.7532\n",
      "Epoch 37/50\n",
      "8/8 [==============================] - 0s 6ms/step - loss: 0.4645 - accuracy: 0.7830 - val_loss: 0.5559 - val_accuracy: 0.7532\n",
      "Epoch 38/50\n",
      "8/8 [==============================] - 0s 6ms/step - loss: 0.4566 - accuracy: 0.7888 - val_loss: 0.5559 - val_accuracy: 0.7532\n",
      "Epoch 39/50\n",
      "8/8 [==============================] - 0s 6ms/step - loss: 0.4714 - accuracy: 0.7838 - val_loss: 0.5560 - val_accuracy: 0.7532\n",
      "Epoch 40/50\n",
      "8/8 [==============================] - 0s 7ms/step - loss: 0.4714 - accuracy: 0.7731 - val_loss: 0.5562 - val_accuracy: 0.7532\n",
      "Epoch 41/50\n",
      "8/8 [==============================] - 0s 8ms/step - loss: 0.4984 - accuracy: 0.7680 - val_loss: 0.5562 - val_accuracy: 0.7532\n",
      "Epoch 42/50\n",
      "8/8 [==============================] - 0s 6ms/step - loss: 0.4612 - accuracy: 0.7868 - val_loss: 0.5564 - val_accuracy: 0.7532\n",
      "Epoch 43/50\n",
      "8/8 [==============================] - 0s 6ms/step - loss: 0.4657 - accuracy: 0.7902 - val_loss: 0.5566 - val_accuracy: 0.7532\n",
      "Epoch 44/50\n",
      "8/8 [==============================] - 0s 6ms/step - loss: 0.4615 - accuracy: 0.7799 - val_loss: 0.5567 - val_accuracy: 0.7532\n",
      "Epoch 45/50\n",
      "8/8 [==============================] - 0s 6ms/step - loss: 0.4759 - accuracy: 0.7889 - val_loss: 0.5570 - val_accuracy: 0.7532\n",
      "Epoch 46/50\n",
      "8/8 [==============================] - 0s 7ms/step - loss: 0.4846 - accuracy: 0.7748 - val_loss: 0.5570 - val_accuracy: 0.7532\n",
      "Epoch 47/50\n",
      "8/8 [==============================] - 0s 6ms/step - loss: 0.4914 - accuracy: 0.7663 - val_loss: 0.5573 - val_accuracy: 0.7532\n",
      "Epoch 48/50\n",
      "8/8 [==============================] - 0s 6ms/step - loss: 0.4693 - accuracy: 0.7881 - val_loss: 0.5575 - val_accuracy: 0.7532\n",
      "Epoch 49/50\n",
      "8/8 [==============================] - 0s 6ms/step - loss: 0.4705 - accuracy: 0.7829 - val_loss: 0.5579 - val_accuracy: 0.7532\n",
      "Epoch 50/50\n",
      "8/8 [==============================] - 0s 6ms/step - loss: 0.4798 - accuracy: 0.7872 - val_loss: 0.5580 - val_accuracy: 0.7532\n"
     ]
    }
   ],
   "source": [
    "epochs = 50\n",
    "batch_size = 64\n",
    "\n",
    "\n",
    "history = model.fit(x=X_train, y=y_train,\n",
    "                validation_split=0.25,\n",
    "                epochs=epochs, \n",
    "                batch_size=batch_size)"
   ]
  },
  {
   "cell_type": "markdown",
   "metadata": {
    "id": "HM6xNwsDUh-C"
   },
   "source": [
    "The `fit()` methods prints the loss and metric values after every epochs, but we can also use the `History` object to visualise those values to get intuition about the performance of our model."
   ]
  },
  {
   "cell_type": "code",
   "execution_count": 14,
   "metadata": {
    "colab": {
     "base_uri": "https://localhost:8080/",
     "height": 918
    },
    "id": "bjzzBU5nUh-C",
    "outputId": "6d80c6d7-670d-4f92-8dc8-be4dd8199b3c"
   },
   "outputs": [
    {
     "data": {
      "image/png": "[encoded data removed]",
      "text/plain": [
       "<Figure size 576x1152 with 2 Axes>"
      ]
     },
     "metadata": {
      "needs_background": "light",
      "tags": []
     },
     "output_type": "display_data"
    }
   ],
   "source": [
    "import matplotlib.pyplot as plt\n",
    "\n",
    "n_epochs = np.arange(0,epochs)\n",
    "\n",
    "fig, (ax1,ax2) = plt.subplots(2,1,figsize=(8,16))\n",
    "ax1.plot(n_epochs, history.history['loss'], label='training loss')\n",
    "ax1.plot(n_epochs, history.history['val_loss'], label='validation loss')\n",
    "ax1.set_ylim(-0.05,1.05)\n",
    "ax1.legend()\n",
    "\n",
    "ax2.plot(n_epochs, history.history['accuracy'], label='training accuracy')\n",
    "ax2.plot(n_epochs, history.history['val_accuracy'], label='validation accuracy')\n",
    "ax2.set_ylim(-0.05,1.05)\n",
    "ax2.legend()\n",
    "\n",
    "plt.show()"
   ]
  },
  {
   "cell_type": "markdown",
   "metadata": {
    "id": "LoVD-RmuUh-C"
   },
   "source": [
    "#### 5. Prediciton"
   ]
  },
  {
   "cell_type": "markdown",
   "metadata": {
    "id": "DNpO23_cUh-D"
   },
   "source": [
    "After training, we can use our model to predict the target variable using the `predict()` method, which returns the probabilities $P(Outcome=1|X,w)$."
   ]
  },
  {
   "cell_type": "code",
   "execution_count": 15,
   "metadata": {
    "id": "igTgfUfzUh-D"
   },
   "outputs": [],
   "source": [
    "y_pred = model.predict(X_test).ravel()"
   ]
  },
  {
   "cell_type": "code",
   "execution_count": 16,
   "metadata": {
    "colab": {
     "base_uri": "https://localhost:8080/"
    },
    "id": "9o_Rg_1SUh-E",
    "outputId": "085a028e-a425-4b72-d2c6-f085498d922b"
   },
   "outputs": [
    {
     "data": {
      "text/plain": [
       "array([0.05555123, 0.22617862, 0.34957832, 0.09881246, 0.06794661,\n",
       "       0.20941886, 0.18363681, 0.05049351, 0.12242034, 0.6523565 ,\n",
       "       0.08474189, 0.10667619, 0.539581  , 0.88078284, 0.26753378,\n",
       "       0.30884272, 0.08958572, 0.55513066, 0.4639635 , 0.14557362,\n",
       "       0.2932973 , 0.87559307, 0.33623627, 0.73147404, 0.7207566 ,\n",
       "       0.13820022, 0.19689694, 0.06599575, 0.54601514, 0.23373434,\n",
       "       0.49441397, 0.07032177, 0.09572762, 0.83277106, 0.3834809 ,\n",
       "       0.00403017, 0.2144767 , 0.21968299, 0.28612018, 0.1151838 ,\n",
       "       0.3336751 , 0.9159709 , 0.2797792 , 0.48032224, 0.3941072 ,\n",
       "       0.24545848, 0.322881  , 0.7944375 , 0.15414768, 0.71703035,\n",
       "       0.27922943, 0.1677778 , 0.68144596, 0.31435114, 0.58011734,\n",
       "       0.63017124, 0.65313756, 0.14006978, 0.07625982, 0.04650509,\n",
       "       0.40362957, 0.17011261, 0.07136726, 0.35376018, 0.7765228 ,\n",
       "       0.2289522 , 0.6805256 , 0.13871989, 0.744834  , 0.6605837 ,\n",
       "       0.00602394, 0.73968273, 0.6068407 , 0.2787926 , 0.12638327,\n",
       "       0.09564692, 0.9336973 , 0.28192118, 0.11301184, 0.5596574 ,\n",
       "       0.2913404 , 0.04110545, 0.35675454, 0.48871228, 0.4379115 ,\n",
       "       0.8311615 , 0.07327148, 0.12848923, 0.20459732, 0.23617265,\n",
       "       0.6348053 , 0.06580651, 0.08313507, 0.20196372, 0.03959072,\n",
       "       0.3276577 , 0.245588  , 0.33569217, 0.14992821, 0.17138669,\n",
       "       0.3277406 , 0.5423041 , 0.44938406, 0.21868873, 0.11955234,\n",
       "       0.40132204, 0.07794887, 0.07532033, 0.12356123, 0.17527512,\n",
       "       0.4751816 , 0.00572449, 0.85328245, 0.21186659, 0.11860937,\n",
       "       0.19655207, 0.19093049, 0.93361425, 0.8111531 , 0.5437995 ,\n",
       "       0.63053125, 0.56889415, 0.3453682 , 0.27171552, 0.53517044,\n",
       "       0.31183076, 0.08333424, 0.06875834, 0.23141804, 0.05687523,\n",
       "       0.47001833, 0.2497795 , 0.7117841 , 0.19198895, 0.04935148,\n",
       "       0.236013  , 0.77855027, 0.11603531, 0.3565566 , 0.36149758,\n",
       "       0.6822839 , 0.7121137 , 0.79931843, 0.11082801, 0.02306101,\n",
       "       0.13751233, 0.59159327, 0.15249643, 0.08011374, 0.64496267,\n",
       "       0.09598997, 0.3931859 , 0.2708978 , 0.7542456 ], dtype=float32)"
      ]
     },
     "execution_count": 16,
     "metadata": {
      "tags": []
     },
     "output_type": "execute_result"
    }
   ],
   "source": [
    "y_pred"
   ]
  },
  {
   "cell_type": "markdown",
   "metadata": {
    "id": "-gAVC9_eUh-E"
   },
   "source": [
    "If you're not interested in the probability $P(Outcome=1|X,w)$ but simply want to predict the class label, you can use the `predict_classes()` method. This method uses a threshold of 0.5 to classify examples."
   ]
  },
  {
   "cell_type": "code",
   "execution_count": 17,
   "metadata": {
    "colab": {
     "base_uri": "https://localhost:8080/"
    },
    "id": "bJKBfZaoUh-E",
    "outputId": "2971e304-f65c-4365-ad70-9c6f32dcfc98"
   },
   "outputs": [
    {
     "data": {
      "text/plain": [
       "array([0, 0, 0, 0, 0, 0, 0, 0, 0, 1, 0, 0, 1, 1, 0, 0, 0, 1, 0, 0, 0, 1,\n",
       "       0, 1, 1, 0, 0, 0, 1, 0, 0, 0, 0, 1, 0, 0, 0, 0, 0, 0, 0, 1, 0, 0,\n",
       "       0, 0, 0, 1, 0, 1, 0, 0, 1, 0, 1, 1, 1, 0, 0, 0, 0, 0, 0, 0, 1, 0,\n",
       "       1, 0, 1, 1, 0, 1, 1, 0, 0, 0, 1, 0, 0, 1, 0, 0, 0, 0, 0, 1, 0, 0,\n",
       "       0, 0, 1, 0, 0, 0, 0, 0, 0, 0, 0, 0, 0, 1, 0, 0, 0, 0, 0, 0, 0, 0,\n",
       "       0, 0, 1, 0, 0, 0, 0, 1, 1, 1, 1, 1, 0, 0, 1, 0, 0, 0, 0, 0, 0, 0,\n",
       "       1, 0, 0, 0, 1, 0, 0, 0, 1, 1, 1, 0, 0, 0, 1, 0, 0, 1, 0, 0, 0, 1],\n",
       "      dtype=int32)"
      ]
     },
     "execution_count": 17,
     "metadata": {
      "tags": []
     },
     "output_type": "execute_result"
    }
   ],
   "source": [
    "(model.predict(X_test) > 0.5).astype('int32').ravel()"
   ]
  },
  {
   "cell_type": "markdown",
   "metadata": {
    "id": "o3OF4CXlUh-G"
   },
   "source": [
    "#### 6. Model evaluation"
   ]
  },
  {
   "cell_type": "markdown",
   "metadata": {
    "id": "K6flm6tPUh-G"
   },
   "source": [
    "To see how good/bad those predictions are, we've to evaluate them using the built-in `evaluate()` method. This returns the loss and metrics values for the model in test mode."
   ]
  },
  {
   "cell_type": "code",
   "execution_count": 18,
   "metadata": {
    "colab": {
     "base_uri": "https://localhost:8080/"
    },
    "id": "36Nbr-opUh-G",
    "outputId": "1d6e0309-d934-4cd3-e6ec-3316795dcd85"
   },
   "outputs": [
    {
     "name": "stdout",
     "output_type": "stream",
     "text": [
      "3/3 [==============================] - 0s 2ms/step - loss: 0.4923 - accuracy: 0.7532\n"
     ]
    }
   ],
   "source": [
    "loss_and_metrics = model.evaluate(X_test, y_test, \n",
    "                                  batch_size=batch_size)"
   ]
  },
  {
   "cell_type": "markdown",
   "metadata": {
    "id": "466tUYg2Uh-H"
   },
   "source": [
    "In addition to loss and metric values, we're going to use the receiver operating characteristics (ROC) and the area under the curve (AUC) to evaluate our model. We can use the `roc_curve()` and `auc` function from the `sklearn.metrics` module to calculate those values. "
   ]
  },
  {
   "cell_type": "code",
   "execution_count": 19,
   "metadata": {
    "id": "6d_7aYgXUh-I"
   },
   "outputs": [],
   "source": [
    "from sklearn.metrics import roc_curve, auc\n",
    "fpr, tpr, thresholds_keras = roc_curve(y_test, y_pred)\n",
    "auc_keras = auc(fpr, tpr)"
   ]
  },
  {
   "cell_type": "markdown",
   "metadata": {
    "id": "5rbMl597Uh-I"
   },
   "source": [
    "After calculating all values, we can use *matplotllib* to plot the ROC curve."
   ]
  },
  {
   "cell_type": "code",
   "execution_count": 20,
   "metadata": {
    "colab": {
     "base_uri": "https://localhost:8080/",
     "height": 513
    },
    "id": "fRgkYOVTUh-I",
    "outputId": "db9c7d98-9430-46a7-c369-d5488b5d763d"
   },
   "outputs": [
    {
     "data": {
      "image/png": "[encoded data removed]",
      "text/plain": [
       "<Figure size 864x576 with 1 Axes>"
      ]
     },
     "metadata": {
      "needs_background": "light",
      "tags": []
     },
     "output_type": "display_data"
    }
   ],
   "source": [
    "fig, ax = plt.subplots(1,1,figsize=(12,8))\n",
    "ax.plot([0, 1], [0, 1], 'k--')\n",
    "ax.plot(fpr, tpr, label='Keras (area = {:.3f})'.format(auc_keras))\n",
    "ax.set_xlabel('False positive rate')\n",
    "ax.set_ylabel('True positive rate')\n",
    "ax.set_title('ROC curve')\n",
    "ax.legend(loc='best')\n",
    "\n",
    "plt.show()"
   ]
  },
  {
   "cell_type": "markdown",
   "metadata": {
    "id": "i7VjoafyUh-K"
   },
   "source": [
    "#### 7. Model saving"
   ]
  },
  {
   "cell_type": "markdown",
   "metadata": {
    "id": "5YeHs3dsUh-L"
   },
   "source": [
    "A Keras model consists of multiple components:\n",
    "\n",
    "- An architecture, or configuration, which specifyies what layers the model contains, and how they're connected.\n",
    "- A set of weights values (the \"state of the model\").\n",
    "- An optimizer (defined by compiling the model).\n",
    "- A set of losses and metrics (defined by compiling the model).\n",
    "\n",
    "We can save these pieces to disk at once into a single archive in the *Tensorflow* `SavedModel`."
   ]
  },
  {
   "cell_type": "markdown",
   "metadata": {
    "id": "qcoS90GJUh-L"
   },
   "source": [
    "```python\n",
    "model.save('path/to/location')\n",
    "```\n",
    "\n",
    "We can save our neural network to the working directory by entering the following command:"
   ]
  },
  {
   "cell_type": "code",
   "execution_count": 23,
   "metadata": {
    "colab": {
     "base_uri": "https://localhost:8080/"
    },
    "id": "pAlEyHd4Uh-M",
    "outputId": "ff29ca90-e45f-42b7-ab6e-801f8d280d24"
   },
   "outputs": [
    {
     "name": "stdout",
     "output_type": "stream",
     "text": [
      "INFO:tensorflow:Assets written to: results/week1_session5_deep-learning/my_nn/assets\n"
     ]
    }
   ],
   "source": [
    "from pathlib import Path\n",
    "Path(\"results/week1_session5_deep-learning\").mkdir(parents=True, exist_ok=True)\n",
    "model.save('results/week1_session5_deep-learning/my_nn')"
   ]
  },
  {
   "cell_type": "markdown",
   "metadata": {
    "id": "xidD1YzCUh-M"
   },
   "source": [
    "This can then simply be loaded using the following command:\n",
    "\n",
    "```python\n",
    "model = tf.keras.models.load_model('my_nn')\n",
    "```"
   ]
  },
  {
   "cell_type": "markdown",
   "metadata": {
    "id": "WJEjehtYUh-M"
   },
   "source": [
    "**Put everything together**<br>\n",
    "After having itroduced all the steps separately in more detail, everything is put together in one cell, so you don't have to scroll too much."
   ]
  },
  {
   "cell_type": "code",
   "execution_count": 21,
   "metadata": {
    "colab": {
     "base_uri": "https://localhost:8080/",
     "height": 1000
    },
    "id": "cfZhhlzrUh-M",
    "outputId": "7ced0f04-dcfe-48e9-bae4-b761ae4329d6",
    "scrolled": true
   },
   "outputs": [
    {
     "name": "stdout",
     "output_type": "stream",
     "text": [
      "Epoch 1/50\n",
      "29/29 [==============================] - 0s 7ms/step - loss: 0.7814 - accuracy: 0.6064 - val_loss: 0.6965 - val_accuracy: 0.6494\n",
      "Epoch 2/50\n",
      "29/29 [==============================] - 0s 2ms/step - loss: 0.6317 - accuracy: 0.6649 - val_loss: 0.6414 - val_accuracy: 0.6623\n",
      "Epoch 3/50\n",
      "29/29 [==============================] - 0s 2ms/step - loss: 0.6209 - accuracy: 0.6367 - val_loss: 0.6064 - val_accuracy: 0.6883\n",
      "Epoch 4/50\n",
      "29/29 [==============================] - 0s 2ms/step - loss: 0.5686 - accuracy: 0.6880 - val_loss: 0.5841 - val_accuracy: 0.7208\n",
      "Epoch 5/50\n",
      "29/29 [==============================] - 0s 7ms/step - loss: 0.5651 - accuracy: 0.7153 - val_loss: 0.5707 - val_accuracy: 0.7013\n",
      "Epoch 6/50\n",
      "29/29 [==============================] - 0s 2ms/step - loss: 0.4875 - accuracy: 0.7483 - val_loss: 0.5624 - val_accuracy: 0.6948\n",
      "Epoch 7/50\n",
      "29/29 [==============================] - 0s 2ms/step - loss: 0.5039 - accuracy: 0.7536 - val_loss: 0.5578 - val_accuracy: 0.7208\n",
      "Epoch 8/50\n",
      "29/29 [==============================] - 0s 2ms/step - loss: 0.5055 - accuracy: 0.7814 - val_loss: 0.5551 - val_accuracy: 0.7143\n",
      "Epoch 9/50\n",
      "29/29 [==============================] - 0s 3ms/step - loss: 0.5250 - accuracy: 0.7453 - val_loss: 0.5537 - val_accuracy: 0.7273\n",
      "Epoch 10/50\n",
      "29/29 [==============================] - 0s 2ms/step - loss: 0.4933 - accuracy: 0.7568 - val_loss: 0.5532 - val_accuracy: 0.7338\n",
      "Epoch 11/50\n",
      "29/29 [==============================] - 0s 3ms/step - loss: 0.4933 - accuracy: 0.7851 - val_loss: 0.5532 - val_accuracy: 0.7338\n",
      "Epoch 12/50\n",
      "29/29 [==============================] - 0s 2ms/step - loss: 0.4810 - accuracy: 0.7824 - val_loss: 0.5535 - val_accuracy: 0.7338\n",
      "Epoch 13/50\n",
      "29/29 [==============================] - 0s 2ms/step - loss: 0.4963 - accuracy: 0.7664 - val_loss: 0.5542 - val_accuracy: 0.7403\n",
      "Epoch 14/50\n",
      "29/29 [==============================] - 0s 3ms/step - loss: 0.4956 - accuracy: 0.7711 - val_loss: 0.5549 - val_accuracy: 0.7338\n",
      "Epoch 15/50\n",
      "29/29 [==============================] - 0s 3ms/step - loss: 0.4511 - accuracy: 0.8048 - val_loss: 0.5556 - val_accuracy: 0.7403\n",
      "Epoch 16/50\n",
      "29/29 [==============================] - 0s 2ms/step - loss: 0.4701 - accuracy: 0.7929 - val_loss: 0.5564 - val_accuracy: 0.7403\n",
      "Epoch 17/50\n",
      "29/29 [==============================] - 0s 2ms/step - loss: 0.4951 - accuracy: 0.7701 - val_loss: 0.5571 - val_accuracy: 0.7403\n",
      "Epoch 18/50\n",
      "29/29 [==============================] - 0s 3ms/step - loss: 0.4557 - accuracy: 0.8070 - val_loss: 0.5578 - val_accuracy: 0.7403\n",
      "Epoch 19/50\n",
      "29/29 [==============================] - 0s 2ms/step - loss: 0.5306 - accuracy: 0.7472 - val_loss: 0.5585 - val_accuracy: 0.7403\n",
      "Epoch 20/50\n",
      "29/29 [==============================] - 0s 2ms/step - loss: 0.4851 - accuracy: 0.7896 - val_loss: 0.5591 - val_accuracy: 0.7403\n",
      "Epoch 21/50\n",
      "29/29 [==============================] - 0s 2ms/step - loss: 0.4729 - accuracy: 0.7917 - val_loss: 0.5598 - val_accuracy: 0.7403\n",
      "Epoch 22/50\n",
      "29/29 [==============================] - 0s 2ms/step - loss: 0.4841 - accuracy: 0.7731 - val_loss: 0.5604 - val_accuracy: 0.7338\n",
      "Epoch 23/50\n",
      "29/29 [==============================] - 0s 3ms/step - loss: 0.5159 - accuracy: 0.7559 - val_loss: 0.5610 - val_accuracy: 0.7338\n",
      "Epoch 24/50\n",
      "29/29 [==============================] - 0s 2ms/step - loss: 0.4629 - accuracy: 0.7705 - val_loss: 0.5614 - val_accuracy: 0.7338\n",
      "Epoch 25/50\n",
      "29/29 [==============================] - 0s 3ms/step - loss: 0.5055 - accuracy: 0.7644 - val_loss: 0.5619 - val_accuracy: 0.7338\n",
      "Epoch 26/50\n",
      "29/29 [==============================] - 0s 2ms/step - loss: 0.4830 - accuracy: 0.7656 - val_loss: 0.5621 - val_accuracy: 0.7338\n",
      "Epoch 27/50\n",
      "29/29 [==============================] - 0s 2ms/step - loss: 0.5128 - accuracy: 0.7674 - val_loss: 0.5626 - val_accuracy: 0.7338\n",
      "Epoch 28/50\n",
      "29/29 [==============================] - 0s 2ms/step - loss: 0.4939 - accuracy: 0.7535 - val_loss: 0.5629 - val_accuracy: 0.7338\n",
      "Epoch 29/50\n",
      "29/29 [==============================] - 0s 3ms/step - loss: 0.4936 - accuracy: 0.7564 - val_loss: 0.5631 - val_accuracy: 0.7338\n",
      "Epoch 30/50\n",
      "29/29 [==============================] - 0s 2ms/step - loss: 0.4575 - accuracy: 0.8034 - val_loss: 0.5633 - val_accuracy: 0.7338\n",
      "Epoch 31/50\n",
      "29/29 [==============================] - 0s 2ms/step - loss: 0.4678 - accuracy: 0.7726 - val_loss: 0.5635 - val_accuracy: 0.7338\n",
      "Epoch 32/50\n",
      "29/29 [==============================] - 0s 2ms/step - loss: 0.4565 - accuracy: 0.7994 - val_loss: 0.5636 - val_accuracy: 0.7338\n",
      "Epoch 33/50\n",
      "29/29 [==============================] - 0s 2ms/step - loss: 0.5060 - accuracy: 0.7661 - val_loss: 0.5640 - val_accuracy: 0.7338\n",
      "Epoch 34/50\n",
      "29/29 [==============================] - 0s 2ms/step - loss: 0.4855 - accuracy: 0.7797 - val_loss: 0.5643 - val_accuracy: 0.7338\n",
      "Epoch 35/50\n",
      "29/29 [==============================] - 0s 2ms/step - loss: 0.4903 - accuracy: 0.7730 - val_loss: 0.5644 - val_accuracy: 0.7338\n",
      "Epoch 36/50\n",
      "29/29 [==============================] - 0s 2ms/step - loss: 0.5183 - accuracy: 0.7471 - val_loss: 0.5647 - val_accuracy: 0.7338\n",
      "Epoch 37/50\n",
      "29/29 [==============================] - 0s 2ms/step - loss: 0.4719 - accuracy: 0.7815 - val_loss: 0.5649 - val_accuracy: 0.7338\n",
      "Epoch 38/50\n",
      "29/29 [==============================] - 0s 2ms/step - loss: 0.4868 - accuracy: 0.7800 - val_loss: 0.5651 - val_accuracy: 0.7338\n",
      "Epoch 39/50\n",
      "29/29 [==============================] - 0s 2ms/step - loss: 0.4481 - accuracy: 0.7774 - val_loss: 0.5653 - val_accuracy: 0.7338\n",
      "Epoch 40/50\n",
      "29/29 [==============================] - 0s 2ms/step - loss: 0.4796 - accuracy: 0.7747 - val_loss: 0.5654 - val_accuracy: 0.7403\n",
      "Epoch 41/50\n",
      "29/29 [==============================] - 0s 2ms/step - loss: 0.4848 - accuracy: 0.7724 - val_loss: 0.5653 - val_accuracy: 0.7338\n",
      "Epoch 42/50\n",
      "29/29 [==============================] - 0s 2ms/step - loss: 0.4701 - accuracy: 0.7893 - val_loss: 0.5654 - val_accuracy: 0.7338\n",
      "Epoch 43/50\n",
      "29/29 [==============================] - 0s 2ms/step - loss: 0.4936 - accuracy: 0.7821 - val_loss: 0.5654 - val_accuracy: 0.7338\n",
      "Epoch 44/50\n",
      "29/29 [==============================] - 0s 2ms/step - loss: 0.4850 - accuracy: 0.7745 - val_loss: 0.5656 - val_accuracy: 0.7338\n",
      "Epoch 45/50\n",
      "29/29 [==============================] - 0s 3ms/step - loss: 0.4828 - accuracy: 0.7784 - val_loss: 0.5656 - val_accuracy: 0.7338\n",
      "Epoch 46/50\n",
      "29/29 [==============================] - 0s 2ms/step - loss: 0.4648 - accuracy: 0.7984 - val_loss: 0.5657 - val_accuracy: 0.7338\n",
      "Epoch 47/50\n",
      "29/29 [==============================] - 0s 3ms/step - loss: 0.4611 - accuracy: 0.8082 - val_loss: 0.5657 - val_accuracy: 0.7403\n",
      "Epoch 48/50\n",
      "29/29 [==============================] - 0s 2ms/step - loss: 0.4940 - accuracy: 0.7665 - val_loss: 0.5658 - val_accuracy: 0.7338\n",
      "Epoch 49/50\n",
      "29/29 [==============================] - 0s 2ms/step - loss: 0.5045 - accuracy: 0.7661 - val_loss: 0.5658 - val_accuracy: 0.7338\n",
      "Epoch 50/50\n",
      "29/29 [==============================] - 0s 3ms/step - loss: 0.4780 - accuracy: 0.7681 - val_loss: 0.5658 - val_accuracy: 0.7338\n"
     ]
    },
    {
     "data": {
      "image/png": "[encoded data removed]",
      "text/plain": [
       "<Figure size 576x1152 with 2 Axes>"
      ]
     },
     "metadata": {
      "needs_background": "light",
      "tags": []
     },
     "output_type": "display_data"
    },
    {
     "name": "stdout",
     "output_type": "stream",
     "text": [
      "10/10 [==============================] - 0s 1ms/step - loss: 0.4712 - accuracy: 0.7792\n"
     ]
    },
    {
     "data": {
      "image/png": "[encoded data removed]",
      "text/plain": [
       "<Figure size 864x576 with 1 Axes>"
      ]
     },
     "metadata": {
      "needs_background": "light",
      "tags": []
     },
     "output_type": "display_data"
    },
    {
     "name": "stdout",
     "output_type": "stream",
     "text": [
      "INFO:tensorflow:Assets written to: results/week1_session5_deep-learning/my_nn/assets\n"
     ]
    }
   ],
   "source": [
    "import tensorflow as tf\n",
    "from tensorflow.keras import Input\n",
    "from tensorflow.keras.models import Sequential\n",
    "from tensorflow.keras.layers import Dense\n",
    "from tensorflow.keras.losses import BinaryCrossentropy\n",
    "from tensorflow.keras.optimizers import SGD\n",
    "\n",
    "from sklearn.model_selection import train_test_split\n",
    "from sklearn.preprocessing import StandardScaler\n",
    "from sklearn.metrics import roc_curve, auc\n",
    "\n",
    "import matplotlib.pyplot as plt\n",
    "\n",
    "\n",
    "## Data preparation\n",
    "# Data Splitting\n",
    "X_train, X_test, y_train, y_test = train_test_split(diabetes[['Glucose','BMI','Age']], \n",
    "                                                    diabetes['Outcome'], \n",
    "                                                    test_size=0.2)\n",
    "\n",
    "# Data transformation       \n",
    "scaler = StandardScaler()\n",
    "scaler.fit(X_train)\n",
    "X_train = scaler.transform(X_train)\n",
    "X_test = scaler.transform(X_test)\n",
    "\n",
    "\n",
    "\n",
    "## Model building\n",
    "model = Sequential()\n",
    "model.add(Input(shape=(3,)))\n",
    "model.add(Dense(1, activation='sigmoid'))\n",
    "\n",
    "## Model compilation\n",
    "# Loss function\n",
    "loss = BinaryCrossentropy()\n",
    "\n",
    "# Optimiser\n",
    "lr = 4e-2 \n",
    "optimiser = SGD(learning_rate=lr)\n",
    "\n",
    "model.compile(loss=loss,\n",
    "              optimizer=optimiser, \n",
    "              metrics=['accuracy'])\n",
    "\n",
    "## Model training\n",
    "epochs = 50\n",
    "batch_size = 16\n",
    "\n",
    "history = model.fit(x=X_train, y=y_train, \n",
    "                    validation_split=0.25,\n",
    "                    epochs=epochs,\n",
    "                    batch_size=batch_size)\n",
    "\n",
    "\n",
    "n_epochs = np.arange(0,epochs)\n",
    "\n",
    "fig, (ax1,ax2) = plt.subplots(2,1,figsize=(8,16))\n",
    "ax1.plot(n_epochs, history.history['loss'], label='training loss')\n",
    "ax1.plot(n_epochs, history.history['val_loss'], label='validation loss')\n",
    "ax1.set_ylim(-0.05,1.05)\n",
    "ax1.legend()\n",
    "\n",
    "ax2.plot(n_epochs, history.history['accuracy'], label='training accuracy')\n",
    "ax2.plot(n_epochs, history.history['val_accuracy'], label='validation accuracy')\n",
    "ax2.set_ylim(-0.05,1.05)\n",
    "ax2.legend()\n",
    "plt.show()\n",
    "\n",
    "## Prediciton\n",
    "y_pred = model.predict(X_test).ravel()\n",
    "\n",
    "## Model evaluation\n",
    "loss_and_metrics = model.evaluate(X_test, y_test, \n",
    "                                  batch_size=batch_size)\n",
    "\n",
    "fpr, tpr, thresholds_keras = roc_curve(y_test, y_pred)\n",
    "auc_keras = auc(fpr, tpr)\n",
    "\n",
    "fig, ax = plt.subplots(1,1,figsize=(12,8))\n",
    "ax.plot([0, 1], [0, 1], 'k--')\n",
    "ax.plot(fpr, tpr, label='Keras (area = {:.3f})'.format(auc_keras))\n",
    "ax.set_xlabel('False positive rate')\n",
    "ax.set_ylabel('True positive rate')\n",
    "ax.set_title('ROC curve')\n",
    "ax.legend(loc='best')\n",
    "\n",
    "plt.show()\n",
    "\n",
    "## Save model\n",
    "model.save('results/week1_session5_deep-learning/my_nn')"
   ]
  },
  {
   "cell_type": "markdown",
   "metadata": {
    "id": "XXnhc-0AUh-N"
   },
   "source": [
    "## 6. Discussion"
   ]
  },
  {
   "cell_type": "markdown",
   "metadata": {
    "id": "3aF_LeRsUh-N"
   },
   "source": [
    "In this notebook, the implementation of a neural network using the *Keras* library was introduced.\n",
    "The workflow to build and train a neural network was presented using a step-by-step introduction.\n",
    "- **Data Preparation:** We splitted the dataset and standardised the input features.\n",
    "- **Model Building:** We created a neural network using the Sequential model class and introduced dense and convolutional layers.\n",
    "- **Model compilaton:** We compiled a neural network and introduced different loss functions and optimisers.\n",
    "- **Model training:** We trained a neural network and visualised the training process.\n",
    "- **Model prediction and evaluation:** We used the trained network to predict the target variable and evaluated the network using different metrics.\n",
    "- **Save model:** We saved all model components in a single archive `SavedModel`"
   ]
  },
  {
   "cell_type": "markdown",
   "metadata": {
    "id": "H1S--I93Uh-N"
   },
   "source": [
    "## 7. Exercises"
   ]
  },
  {
   "cell_type": "markdown",
   "metadata": {
    "id": "v3vgvCFrUh-N"
   },
   "source": [
    "Now that you know the basics to implement a neural network in *Keras*, it's time for you to get your hands dirty and get started.\n",
    "\n",
    "*Tip:* The following resources might be helpful:\n",
    "- www.stackoverflow.com\n",
    "- Keras documentation: https://keras.io/api/"
   ]
  },
  {
   "cell_type": "markdown",
   "metadata": {
    "id": "a-k7cUjsUh-O"
   },
   "source": [
    "### 7.1 Fully-connected neural network (Basic)"
   ]
  },
  {
   "cell_type": "markdown",
   "metadata": {
    "id": "Jny6Au3PUh-P"
   },
   "source": [
    "<ins>**Task:**</ins> Please **implement your own classifier to predict the outcome classes** in the diabetes dataset. <br>\n",
    "<ins>**Model:**</ins> Use a **fully-connected neural network** with at least 1 hidden layer.<br> (*Note:* Since this is still a binary classification task, please use 1 unit and the sigmoid activation in your output layer.)<br>\n",
    "<ins>**Data:**</ins> Use all available data features to predict the outcome class. Split the data into training, validation and test set using a split of 60-20-20.\n",
    "\n",
    "*Do your results look different from the ones in the example above?*"
   ]
  },
  {
   "cell_type": "markdown",
   "metadata": {
    "id": "czwiTTuZUh-P"
   },
   "source": [
    "#### Data preparation"
   ]
  },
  {
   "cell_type": "code",
   "execution_count": null,
   "metadata": {
    "id": "phQ7DUzTUh-P"
   },
   "outputs": [],
   "source": [
    "### Data preparation ###\n",
    "# TO DO: Split and transform dataset\n",
    "\n",
    "\n"
   ]
  },
  {
   "cell_type": "markdown",
   "metadata": {
    "id": "g_ySb_OPUh-Q"
   },
   "source": [
    "#### Model building"
   ]
  },
  {
   "cell_type": "code",
   "execution_count": null,
   "metadata": {
    "id": "DZziPuBQUh-Q"
   },
   "outputs": [],
   "source": [
    "### Model building ###\n",
    "model = Sequential()\n",
    "# TO DO: Create a neural network with at least 1 hidden layer\n",
    "\n",
    "\n",
    "\n",
    "model.summary()"
   ]
  },
  {
   "cell_type": "markdown",
   "metadata": {
    "id": "YicHVCCFUh-Q"
   },
   "source": [
    "#### Model compilation"
   ]
  },
  {
   "cell_type": "code",
   "execution_count": null,
   "metadata": {
    "id": "ujSj8JNGUh-Q"
   },
   "outputs": [],
   "source": [
    "# TO DO: Define loss function and optimiser\n",
    "\n",
    "\n",
    "# TO DO: compile model\n",
    "\n",
    "\n"
   ]
  },
  {
   "cell_type": "markdown",
   "metadata": {
    "id": "3DS2NSSRUh-Q"
   },
   "source": [
    "#### Model training"
   ]
  },
  {
   "cell_type": "code",
   "execution_count": null,
   "metadata": {
    "id": "j7u9YkQ0Uh-Q"
   },
   "outputs": [],
   "source": [
    "# TO DO: Choose the training length and batch size\n",
    "\n",
    "history = # TO DO: Train your model (Don't forget validation_split)\n",
    "\n"
   ]
  },
  {
   "cell_type": "code",
   "execution_count": null,
   "metadata": {
    "id": "92pv2JUzUh-R"
   },
   "outputs": [],
   "source": [
    "n_epochs = np.arange(0,epochs)\n",
    "\n",
    "fig, (ax1,ax2) = plt.subplots(2,1,figsize=(8,16))\n",
    "ax1.plot(n_epochs, history.history['loss'], label='training loss')\n",
    "ax1.plot(n_epochs, history.history['val_loss'], label='validation loss')\n",
    "ax1.set_ylim(-0.05,1.05)\n",
    "ax1.legend()\n",
    "\n",
    "ax2.plot(n_epochs, history.history['accuracy'], label='training accuracy')\n",
    "ax2.plot(n_epochs, history.history['val_accuracy'], label='validation accuracy')\n",
    "ax2.set_ylim(-0.05,1.05)\n",
    "ax2.legend()\n",
    "plt.show()"
   ]
  },
  {
   "cell_type": "markdown",
   "metadata": {
    "id": "Ub7ZLspqUh-R"
   },
   "source": [
    "#### Model evaluation"
   ]
  },
  {
   "cell_type": "code",
   "execution_count": null,
   "metadata": {
    "id": "4Rz2Wg58Uh-R"
   },
   "outputs": [],
   "source": [
    "# TO DO: Calculate test loss and accurcy"
   ]
  },
  {
   "cell_type": "code",
   "execution_count": null,
   "metadata": {
    "id": "5oL2ZXgbUh-R"
   },
   "outputs": [],
   "source": []
  },
  {
   "cell_type": "code",
   "execution_count": null,
   "metadata": {
    "id": "Jhdgx4uvUh-R"
   },
   "outputs": [],
   "source": []
  },
  {
   "cell_type": "markdown",
   "metadata": {
    "id": "_bOg7qVCUh-S"
   },
   "source": [
    "### 7.2 Convolutional neural network (Advanced)"
   ]
  },
  {
   "cell_type": "markdown",
   "metadata": {
    "id": "0a707cYtUh-S"
   },
   "source": [
    "The second task is to implement a multi-class image classifier for the famous MNIST dataset. This dataset contains 70,000 (28*28 pixel) images of digits 0-9.\n",
    "\n",
    "<img src=\"https://upload.wikimedia.org/wikipedia/commons/2/27/MnistExamples.png\" width=\"40%\">\n",
    "\n",
    "*Source: https://upload.wikimedia.org/wikipedia/commons/2/27/MnistExamples.png*\n",
    "\n",
    "\n",
    "<ins>**Task:**</ins> Please **implement your own multi-class image classifier to predict the outcome classes** in the MNIST dataset. Can you get a **model accuracy of $> 0.98$?** <br>\n",
    "<ins>**Model:**</ins> Use a **convolutional neural network** with at least 1 hidden convolutional layer.<br> (*Note:* Since this is still a multi-class classification task, please use 10 units and the softmax activation in your output layer.)<br>\n",
    "<ins>**Data:**</ins> Use the 28*28 pixel images to predict the digit class.\n"
   ]
  },
  {
   "cell_type": "markdown",
   "metadata": {
    "id": "0fr0snQswRkR"
   },
   "source": [
    "#### Hardware acceleration (Colab users only!)"
   ]
  },
  {
   "cell_type": "markdown",
   "metadata": {
    "id": "kZ7bt-EzwdIn"
   },
   "source": [
    "When using high-dimensional data (e.g., images), training your network on a CPU is very slow. Hardware accelarators like GPUs or TPUs decrease the training time by parallelising the your computations. Colab allows us to use a TPU to train our neural network. To use such kind of hardware acceleration, select the device: Runtime > change runtime type > Hardware accelarator > GPU/TPU. After changing the runtime type, all the data in memory is lost; so, you have to import all libraries again.\n",
    "\n",
    "For this tutorial, please use a TPU for your training and run the following cell."
   ]
  },
  {
   "cell_type": "code",
   "execution_count": null,
   "metadata": {},
   "outputs": [],
   "source": [
    "import tensorflow as tf\n",
    "import matplotlib.pyplot as plt\n",
    "import numpy as np"
   ]
  },
  {
   "cell_type": "code",
   "execution_count": 22,
   "metadata": {
    "colab": {
     "base_uri": "https://localhost:8080/"
    },
    "id": "FujHii7Bcmt1",
    "outputId": "8db9d990-0fec-44ad-e76c-e575f79b3fc9"
   },
   "outputs": [
    {
     "name": "stdout",
     "output_type": "stream",
     "text": [
      "Tensorflow version 2.4.0\n",
      "Running on TPU  ['10.118.52.194:8470']\n",
      "INFO:tensorflow:Initializing the TPU system: grpc://10.118.52.194:8470\n"
     ]
    },
    {
     "name": "stderr",
     "output_type": "stream",
     "text": [
      "INFO:tensorflow:Initializing the TPU system: grpc://10.118.52.194:8470\n"
     ]
    },
    {
     "name": "stdout",
     "output_type": "stream",
     "text": [
      "INFO:tensorflow:Clearing out eager caches\n"
     ]
    },
    {
     "name": "stderr",
     "output_type": "stream",
     "text": [
      "INFO:tensorflow:Clearing out eager caches\n"
     ]
    },
    {
     "name": "stdout",
     "output_type": "stream",
     "text": [
      "INFO:tensorflow:Finished initializing TPU system.\n"
     ]
    },
    {
     "name": "stderr",
     "output_type": "stream",
     "text": [
      "INFO:tensorflow:Finished initializing TPU system.\n",
      "WARNING:absl:`tf.distribute.experimental.TPUStrategy` is deprecated, please use  the non experimental symbol `tf.distribute.TPUStrategy` instead.\n"
     ]
    },
    {
     "name": "stdout",
     "output_type": "stream",
     "text": [
      "INFO:tensorflow:Found TPU system:\n"
     ]
    },
    {
     "name": "stderr",
     "output_type": "stream",
     "text": [
      "INFO:tensorflow:Found TPU system:\n"
     ]
    },
    {
     "name": "stdout",
     "output_type": "stream",
     "text": [
      "INFO:tensorflow:*** Num TPU Cores: 8\n"
     ]
    },
    {
     "name": "stderr",
     "output_type": "stream",
     "text": [
      "INFO:tensorflow:*** Num TPU Cores: 8\n"
     ]
    },
    {
     "name": "stdout",
     "output_type": "stream",
     "text": [
      "INFO:tensorflow:*** Num TPU Workers: 1\n"
     ]
    },
    {
     "name": "stderr",
     "output_type": "stream",
     "text": [
      "INFO:tensorflow:*** Num TPU Workers: 1\n"
     ]
    },
    {
     "name": "stdout",
     "output_type": "stream",
     "text": [
      "INFO:tensorflow:*** Num TPU Cores Per Worker: 8\n"
     ]
    },
    {
     "name": "stderr",
     "output_type": "stream",
     "text": [
      "INFO:tensorflow:*** Num TPU Cores Per Worker: 8\n"
     ]
    },
    {
     "name": "stdout",
     "output_type": "stream",
     "text": [
      "INFO:tensorflow:*** Available Device: _DeviceAttributes(/job:localhost/replica:0/task:0/device:CPU:0, CPU, 0, 0)\n"
     ]
    },
    {
     "name": "stderr",
     "output_type": "stream",
     "text": [
      "INFO:tensorflow:*** Available Device: _DeviceAttributes(/job:localhost/replica:0/task:0/device:CPU:0, CPU, 0, 0)\n"
     ]
    },
    {
     "name": "stdout",
     "output_type": "stream",
     "text": [
      "INFO:tensorflow:*** Available Device: _DeviceAttributes(/job:worker/replica:0/task:0/device:CPU:0, CPU, 0, 0)\n"
     ]
    },
    {
     "name": "stderr",
     "output_type": "stream",
     "text": [
      "INFO:tensorflow:*** Available Device: _DeviceAttributes(/job:worker/replica:0/task:0/device:CPU:0, CPU, 0, 0)\n"
     ]
    },
    {
     "name": "stdout",
     "output_type": "stream",
     "text": [
      "INFO:tensorflow:*** Available Device: _DeviceAttributes(/job:worker/replica:0/task:0/device:TPU:0, TPU, 0, 0)\n"
     ]
    },
    {
     "name": "stderr",
     "output_type": "stream",
     "text": [
      "INFO:tensorflow:*** Available Device: _DeviceAttributes(/job:worker/replica:0/task:0/device:TPU:0, TPU, 0, 0)\n"
     ]
    },
    {
     "name": "stdout",
     "output_type": "stream",
     "text": [
      "INFO:tensorflow:*** Available Device: _DeviceAttributes(/job:worker/replica:0/task:0/device:TPU:1, TPU, 0, 0)\n"
     ]
    },
    {
     "name": "stderr",
     "output_type": "stream",
     "text": [
      "INFO:tensorflow:*** Available Device: _DeviceAttributes(/job:worker/replica:0/task:0/device:TPU:1, TPU, 0, 0)\n"
     ]
    },
    {
     "name": "stdout",
     "output_type": "stream",
     "text": [
      "INFO:tensorflow:*** Available Device: _DeviceAttributes(/job:worker/replica:0/task:0/device:TPU:2, TPU, 0, 0)\n"
     ]
    },
    {
     "name": "stderr",
     "output_type": "stream",
     "text": [
      "INFO:tensorflow:*** Available Device: _DeviceAttributes(/job:worker/replica:0/task:0/device:TPU:2, TPU, 0, 0)\n"
     ]
    },
    {
     "name": "stdout",
     "output_type": "stream",
     "text": [
      "INFO:tensorflow:*** Available Device: _DeviceAttributes(/job:worker/replica:0/task:0/device:TPU:3, TPU, 0, 0)\n"
     ]
    },
    {
     "name": "stderr",
     "output_type": "stream",
     "text": [
      "INFO:tensorflow:*** Available Device: _DeviceAttributes(/job:worker/replica:0/task:0/device:TPU:3, TPU, 0, 0)\n"
     ]
    },
    {
     "name": "stdout",
     "output_type": "stream",
     "text": [
      "INFO:tensorflow:*** Available Device: _DeviceAttributes(/job:worker/replica:0/task:0/device:TPU:4, TPU, 0, 0)\n"
     ]
    },
    {
     "name": "stderr",
     "output_type": "stream",
     "text": [
      "INFO:tensorflow:*** Available Device: _DeviceAttributes(/job:worker/replica:0/task:0/device:TPU:4, TPU, 0, 0)\n"
     ]
    },
    {
     "name": "stdout",
     "output_type": "stream",
     "text": [
      "INFO:tensorflow:*** Available Device: _DeviceAttributes(/job:worker/replica:0/task:0/device:TPU:5, TPU, 0, 0)\n"
     ]
    },
    {
     "name": "stderr",
     "output_type": "stream",
     "text": [
      "INFO:tensorflow:*** Available Device: _DeviceAttributes(/job:worker/replica:0/task:0/device:TPU:5, TPU, 0, 0)\n"
     ]
    },
    {
     "name": "stdout",
     "output_type": "stream",
     "text": [
      "INFO:tensorflow:*** Available Device: _DeviceAttributes(/job:worker/replica:0/task:0/device:TPU:6, TPU, 0, 0)\n"
     ]
    },
    {
     "name": "stderr",
     "output_type": "stream",
     "text": [
      "INFO:tensorflow:*** Available Device: _DeviceAttributes(/job:worker/replica:0/task:0/device:TPU:6, TPU, 0, 0)\n"
     ]
    },
    {
     "name": "stdout",
     "output_type": "stream",
     "text": [
      "INFO:tensorflow:*** Available Device: _DeviceAttributes(/job:worker/replica:0/task:0/device:TPU:7, TPU, 0, 0)\n"
     ]
    },
    {
     "name": "stderr",
     "output_type": "stream",
     "text": [
      "INFO:tensorflow:*** Available Device: _DeviceAttributes(/job:worker/replica:0/task:0/device:TPU:7, TPU, 0, 0)\n"
     ]
    },
    {
     "name": "stdout",
     "output_type": "stream",
     "text": [
      "INFO:tensorflow:*** Available Device: _DeviceAttributes(/job:worker/replica:0/task:0/device:TPU_SYSTEM:0, TPU_SYSTEM, 0, 0)\n"
     ]
    },
    {
     "name": "stderr",
     "output_type": "stream",
     "text": [
      "INFO:tensorflow:*** Available Device: _DeviceAttributes(/job:worker/replica:0/task:0/device:TPU_SYSTEM:0, TPU_SYSTEM, 0, 0)\n"
     ]
    },
    {
     "name": "stdout",
     "output_type": "stream",
     "text": [
      "INFO:tensorflow:*** Available Device: _DeviceAttributes(/job:worker/replica:0/task:0/device:XLA_CPU:0, XLA_CPU, 0, 0)\n"
     ]
    },
    {
     "name": "stderr",
     "output_type": "stream",
     "text": [
      "INFO:tensorflow:*** Available Device: _DeviceAttributes(/job:worker/replica:0/task:0/device:XLA_CPU:0, XLA_CPU, 0, 0)\n"
     ]
    }
   ],
   "source": [
    "print(\"Tensorflow version \" + tf.__version__)\n",
    "\n",
    "try:\n",
    "  tpu = tf.distribute.cluster_resolver.TPUClusterResolver()  # TPU detection\n",
    "  print('Running on TPU ', tpu.cluster_spec().as_dict()['worker'])\n",
    "except ValueError:\n",
    "  raise BaseException('ERROR: Not connected to a TPU runtime; please see the previous cell in this notebook for instructions!')\n",
    "\n",
    "tf.config.experimental_connect_to_cluster(tpu)\n",
    "tf.tpu.experimental.initialize_tpu_system(tpu)\n",
    "tpu_strategy = tf.distribute.experimental.TPUStrategy(tpu)"
   ]
  },
  {
   "cell_type": "markdown",
   "metadata": {
    "id": "U6BbEM5LUh-S"
   },
   "source": [
    "#### Data preparation"
   ]
  },
  {
   "cell_type": "markdown",
   "metadata": {
    "id": "V6URfze6Uh-S"
   },
   "source": [
    "Before we can use the MNIST data to predict the class labels, we have to **split** the dataset, **normalise** (transform range from 0-255 to 0-1) and reshape the data and **one-hot encode** the target. The data preparation step is already done for you, just execute the following cell and check the data."
   ]
  },
  {
   "cell_type": "code",
   "execution_count": 23,
   "metadata": {
    "id": "zDmzkfsoUh-S"
   },
   "outputs": [],
   "source": [
    "# Import the MNIST dataset\n",
    "from tensorflow.keras.datasets import mnist\n",
    "from tensorflow.keras.utils import to_categorical\n",
    "\n",
    "# Load MNIST images and labels and normalise (range 0 to 1) image data\n",
    "(X_train, y_train), (X_test, y_test) = mnist.load_data() # 60,000 training + 10,000 test images/labels\n",
    "X_train = X_train / 255.0\n",
    "X_test  = X_test / 255.0\n",
    "\n",
    "# Reshape dataset to have a single channel \n",
    "X_train = X_train.reshape((X_train.shape[0], 28, 28, 1)) # The CNN requires this layout (batch_size, height, width, n_channels)\n",
    "X_test = X_test.reshape((X_test.shape[0], 28, 28, 1)) # The CNN requires this layout (batch_size, height, width, n_channels)\n",
    "\n",
    "# One-hot encode target values\n",
    "y_train = to_categorical(y_train)\n",
    "y_test = to_categorical(y_test)"
   ]
  },
  {
   "cell_type": "markdown",
   "metadata": {
    "id": "uvMb_jKuUh-T"
   },
   "source": [
    "Let's have a look at the image data..."
   ]
  },
  {
   "cell_type": "code",
   "execution_count": 24,
   "metadata": {
    "colab": {
     "base_uri": "https://localhost:8080/",
     "height": 195
    },
    "id": "5uYuYEvtUh-T",
    "outputId": "110a2128-3a46-47ae-eee2-4d6e4d3609c5",
    "scrolled": true
   },
   "outputs": [
    {
     "data": {
      "image/png": "[encoded data removed]",
      "text/plain": [
       "<Figure size 864x288 with 4 Axes>"
      ]
     },
     "metadata": {
      "needs_background": "light",
      "tags": []
     },
     "output_type": "display_data"
    }
   ],
   "source": [
    "fig, (ax1,ax2,ax3,ax4) = plt.subplots(1,4, figsize=(12,4))\n",
    "ax1.imshow(X_train[0,:,:,0])\n",
    "ax2.imshow(X_train[1,:,:,0])\n",
    "ax3.imshow(X_train[2,:,:,0])\n",
    "ax4.imshow(X_train[3,:,:,0]);"
   ]
  },
  {
   "cell_type": "markdown",
   "metadata": {
    "id": "UlXwmgIiUh-T"
   },
   "source": [
    "and the one-hot encoded target variable."
   ]
  },
  {
   "cell_type": "code",
   "execution_count": 25,
   "metadata": {
    "colab": {
     "base_uri": "https://localhost:8080/"
    },
    "id": "BTOe7H8eUh-T",
    "outputId": "bde5a4e9-f1a5-4cbf-b266-291adc876f42"
   },
   "outputs": [
    {
     "data": {
      "text/plain": [
       "array([[0., 0., 0., 0., 0., 1., 0., 0., 0., 0.],\n",
       "       [1., 0., 0., 0., 0., 0., 0., 0., 0., 0.],\n",
       "       [0., 0., 0., 0., 1., 0., 0., 0., 0., 0.],\n",
       "       [0., 1., 0., 0., 0., 0., 0., 0., 0., 0.]], dtype=float32)"
      ]
     },
     "execution_count": 25,
     "metadata": {
      "tags": []
     },
     "output_type": "execute_result"
    }
   ],
   "source": [
    "y_train[:4]"
   ]
  },
  {
   "cell_type": "markdown",
   "metadata": {
    "id": "M3uYMIOtUh-U"
   },
   "source": [
    "Instead of the categorical class values, we now have a vector of length equal to the number of categories. The i-th component is equal to 1 if target is assigned to the i-th category and all other components are 0. By using this transformation, we transform the categorical variable into a numerical form."
   ]
  },
  {
   "cell_type": "markdown",
   "metadata": {
    "id": "ZzPEZojLUh-U"
   },
   "source": [
    "#### Model building"
   ]
  },
  {
   "cell_type": "markdown",
   "metadata": {
    "id": "dYBab8vqUh-U"
   },
   "source": [
    "Now, it's time to implement your convolutional neural network. The last layer of the network is a fully-connected output layer with 10 units and softmax activation function, since we have a classification task with 10 classes."
   ]
  },
  {
   "cell_type": "markdown",
   "metadata": {
    "id": "Zr1HsRSw3RY_"
   },
   "source": [
    "**Colab users only!**"
   ]
  },
  {
   "cell_type": "code",
   "execution_count": 43,
   "metadata": {
    "colab": {
     "base_uri": "https://localhost:8080/"
    },
    "id": "luDQB20wUh-U",
    "outputId": "e87b2d9a-f80b-43a8-efdd-355ec833f671"
   },
   "outputs": [
    {
     "name": "stdout",
     "output_type": "stream",
     "text": [
      "Model: \"sequential_1\"\n",
      "_________________________________________________________________\n",
      "Layer (type)                 Output Shape              Param #   \n",
      "=================================================================\n",
      "flatten (Flatten)            (None, 784)               0         \n",
      "_________________________________________________________________\n",
      "dense_1 (Dense)              (None, 256)               200960    \n",
      "_________________________________________________________________\n",
      "dense_2 (Dense)              (None, 10)                2570      \n",
      "=================================================================\n",
      "Total params: 203,530\n",
      "Trainable params: 203,530\n",
      "Non-trainable params: 0\n",
      "_________________________________________________________________\n"
     ]
    }
   ],
   "source": [
    "from tensorflow.keras.layers import Flatten, # TO DO: Import convolutional layer\n",
    "\n",
    "with tpu_strategy.scope():\n",
    "  model = Sequential()\n",
    "  model.add(Input(shape=(28,28,1)))\n",
    "\n",
    "  # TO DO: Add at least 1 convolutional layer\n",
    "\n",
    "  model.add(Flatten()) # This flattens your image with width and height into a vector of length widht*height. \n",
    "  model.add(Dense(10, activation='softmax')) \n",
    "\n",
    "model.summary()"
   ]
  },
  {
   "cell_type": "markdown",
   "metadata": {
    "id": "ZzpKEcyT3r9E"
   },
   "source": [
    "**Non-Colab users only!**"
   ]
  },
  {
   "cell_type": "code",
   "execution_count": null,
   "metadata": {
    "id": "uRWYC2IN3cOC"
   },
   "outputs": [],
   "source": [
    "from tensorflow.keras.layers import Flatten, # TO DO: Import convolutional layer\n",
    "\n",
    "model = Sequential()\n",
    "model.add(Input(shape=(28,28,1)))\n",
    "\n",
    "# TO DO: Add at least 1 convolutional layer\n",
    "\n",
    "model.add(Flatten()) # This flattens your image with width and height into a vector of length widht*height. \n",
    "model.add(Dense(10, activation='softmax')) \n",
    "\n",
    "model.summary()"
   ]
  },
  {
   "cell_type": "markdown",
   "metadata": {
    "id": "c73CAtOHUh-V"
   },
   "source": [
    "#### Model compilation"
   ]
  },
  {
   "cell_type": "markdown",
   "metadata": {
    "id": "5uMpREwKyLl6"
   },
   "source": [
    "Here, we have a multi-class problem; therefore, you can't use the binary cross-entropy loss. Do you know a loss function which you can use in this setting?"
   ]
  },
  {
   "cell_type": "code",
   "execution_count": null,
   "metadata": {
    "id": "F-loiCMoUh-V"
   },
   "outputs": [],
   "source": [
    "from tensorflow.keras.losses import # TO DO: Import loss function\n",
    "from tensorflow.keras.optimizers import # TO DO: Import optimiser\n",
    "\n",
    "loss = # TO DO: Define loss function\n",
    "optimiser = # TO DO: Define optimiser\n",
    "\n",
    "# TO DO: Compile your model"
   ]
  },
  {
   "cell_type": "markdown",
   "metadata": {
    "id": "H07mRdelUh-V"
   },
   "source": [
    "#### Model training"
   ]
  },
  {
   "cell_type": "markdown",
   "metadata": {
    "id": "Hwj4ti0oUh-V"
   },
   "source": [
    "Please train your model choosing an adequate number of epochs and batch size. To validate your model, use `validation_split = 0.1`.\n",
    "\n",
    "*Recommendation:* For non-Colab users, please use $\\leq 2$ epochs to train your network."
   ]
  },
  {
   "cell_type": "code",
   "execution_count": null,
   "metadata": {
    "id": "lGF5gg9kUh-W"
   },
   "outputs": [],
   "source": [
    "# Define number of epochs and batch size\n",
    "epochs = # TO DO: Choose number of epochs\n",
    "batch_size = # TO DO: Choose batch size\n",
    "\n",
    "history = # TO DO: Train your model (Don't forget validation_split!)\n"
   ]
  },
  {
   "cell_type": "code",
   "execution_count": null,
   "metadata": {
    "id": "7a_dlAQZUh-W"
   },
   "outputs": [],
   "source": [
    "n_epochs = np.arange(0,20)\n",
    "\n",
    "fig, (ax1,ax2) = plt.subplots(2,1,figsize=(8,16))\n",
    "ax1.plot(n_epochs, history.history['loss'], label='training loss')\n",
    "ax1.plot(n_epochs, history.history['val_loss'], label='validation loss')\n",
    "ax1.set_ylim(-0.05,1.05)\n",
    "ax1.legend()\n",
    "\n",
    "ax2.plot(n_epochs, history.history['accuracy'], label='training accuracy')\n",
    "ax2.plot(n_epochs, history.history['val_accuracy'], label='validation accuracy')\n",
    "ax2.set_ylim(-0.05,1.05)\n",
    "ax2.legend()\n",
    "\n",
    "plt.show()"
   ]
  },
  {
   "cell_type": "markdown",
   "metadata": {
    "id": "-Fdb9yHdUh-X"
   },
   "source": [
    "#### Model evaluation"
   ]
  },
  {
   "cell_type": "code",
   "execution_count": null,
   "metadata": {
    "id": "1UHhheIBUh-X"
   },
   "outputs": [],
   "source": [
    "# TO DO: Calculate test loss and accuracy"
   ]
  },
  {
   "cell_type": "code",
   "execution_count": null,
   "metadata": {
    "id": "nehuxiYjUh-X"
   },
   "outputs": [],
   "source": []
  },
  {
   "cell_type": "markdown",
   "metadata": {
    "id": "Iz1gBS3VUh-X"
   },
   "source": [
    "## 8. Solutions"
   ]
  },
  {
   "cell_type": "markdown",
   "metadata": {
    "id": "olNYzb3eUh-X"
   },
   "source": [
    "### 1) Fully-connected neural network"
   ]
  },
  {
   "cell_type": "markdown",
   "metadata": {
    "id": "W-PeqRuxUh-X"
   },
   "source": [
    "<ins>**Task:**</ins> Please **implement your own classifier to predict the outcome classes** in the diabetes dataset. <br>\n",
    "<ins>**Model:**</ins> Use a **fully-connected neural network** with at least 1 hidden layer.<br> (*Note:* Since this is still a binary classification task, please use 1 unit and the sigmoid activation in your output layer.)<br>\n",
    "<ins>**Data:**</ins> Use all available data features to predict the outcome class. Split the data into training, validation and test set using a split of 60-20-20.\n",
    "\n",
    "The following solution consider a fully-connected neural network with the following architecture:\n",
    "- <ins>input layer</ins> with 8 units,\n",
    "- <ins>1st hidden layer</ins> with **6 units** and **ReLu** activations,\n",
    "- <ins>2nd hidden layer</ins> with **6 units** and **tanh** activations,\n",
    "- <ins>3rd hidden layer</ins> with **4 units** and **tanh** activations,\n",
    "- <ins>output layer</ins> with **1 unit** and **sigmoid** activation."
   ]
  },
  {
   "cell_type": "markdown",
   "metadata": {
    "id": "0XECT_D5Uh-Y"
   },
   "source": [
    "**Data preparation**"
   ]
  },
  {
   "cell_type": "code",
   "execution_count": 32,
   "metadata": {
    "id": "QXvxUBjaUh-Y"
   },
   "outputs": [],
   "source": [
    "# Data Splitting\n",
    "X_train, X_test, y_train, y_test = train_test_split(diabetes.iloc[:,:-1], \n",
    "                                                    diabetes['Outcome'], \n",
    "                                                    test_size=0.2)\n",
    "\n",
    "# Data transformation       \n",
    "scaler = StandardScaler()\n",
    "scaler.fit(X_train)\n",
    "X_train = scaler.transform(X_train)\n",
    "X_test = scaler.transform(X_test)"
   ]
  },
  {
   "cell_type": "markdown",
   "metadata": {
    "id": "85RUvcV3Uh-Y"
   },
   "source": [
    "**Model building**"
   ]
  },
  {
   "cell_type": "code",
   "execution_count": 33,
   "metadata": {
    "colab": {
     "base_uri": "https://localhost:8080/"
    },
    "id": "jtAqS2TQUh-Y",
    "outputId": "f58b69bc-ab4e-4aa8-dfb7-40c1a5c523ba"
   },
   "outputs": [
    {
     "name": "stdout",
     "output_type": "stream",
     "text": [
      "Model: \"sequential_3\"\n",
      "_________________________________________________________________\n",
      "Layer (type)                 Output Shape              Param #   \n",
      "=================================================================\n",
      "dense_6 (Dense)              (None, 6)                 54        \n",
      "_________________________________________________________________\n",
      "dense_7 (Dense)              (None, 6)                 42        \n",
      "_________________________________________________________________\n",
      "dense_8 (Dense)              (None, 6)                 42        \n",
      "_________________________________________________________________\n",
      "dense_9 (Dense)              (None, 1)                 7         \n",
      "=================================================================\n",
      "Total params: 145\n",
      "Trainable params: 145\n",
      "Non-trainable params: 0\n",
      "_________________________________________________________________\n"
     ]
    }
   ],
   "source": [
    "## Model building\n",
    "model = Sequential()\n",
    "model.add(Input(shape=(8,)))\n",
    "model.add(Dense(6, activation='relu'))\n",
    "model.add(Dense(6, activation='tanh'))\n",
    "model.add(Dense(6, activation='tanh'))\n",
    "model.add(Dense(1, activation='sigmoid'))\n",
    "\n",
    "model.summary()"
   ]
  },
  {
   "cell_type": "markdown",
   "metadata": {
    "id": "UvG9OjLdUh-Y"
   },
   "source": [
    "**Model compilation**"
   ]
  },
  {
   "cell_type": "code",
   "execution_count": 34,
   "metadata": {
    "id": "rHqe1wjNUh-Y"
   },
   "outputs": [],
   "source": [
    "from tensorflow.keras.optimizers import Adam\n",
    "\n",
    "# Loss function\n",
    "loss = BinaryCrossentropy()\n",
    "\n",
    "# Optimiser\n",
    "lr = 1e-3\n",
    "#optimiser = SGD(learning_rate=lr)\n",
    "optimiser = SGD(learning_rate=lr)\n",
    "\n",
    "model.compile(loss=loss,\n",
    "              optimizer=optimiser, \n",
    "              metrics=['accuracy'])"
   ]
  },
  {
   "cell_type": "markdown",
   "metadata": {
    "id": "9JBmuGEQUh-Z"
   },
   "source": [
    "**Model training**"
   ]
  },
  {
   "cell_type": "code",
   "execution_count": 35,
   "metadata": {
    "colab": {
     "base_uri": "https://localhost:8080/",
     "height": 1000
    },
    "id": "C5sQs8jKUh-Z",
    "outputId": "c11edd74-c533-4471-9a1b-eba10dce191f"
   },
   "outputs": [
    {
     "name": "stdout",
     "output_type": "stream",
     "text": [
      "Epoch 1/50\n",
      "29/29 [==============================] - 1s 16ms/step - loss: 0.6804 - accuracy: 0.5581 - val_loss: 0.6716 - val_accuracy: 0.6234\n",
      "Epoch 2/50\n",
      "29/29 [==============================] - 0s 11ms/step - loss: 0.6839 - accuracy: 0.5771 - val_loss: 0.6663 - val_accuracy: 0.6299\n",
      "Epoch 3/50\n",
      "29/29 [==============================] - 0s 11ms/step - loss: 0.6855 - accuracy: 0.5896 - val_loss: 0.6614 - val_accuracy: 0.6364\n",
      "Epoch 4/50\n",
      "29/29 [==============================] - 0s 11ms/step - loss: 0.6799 - accuracy: 0.6129 - val_loss: 0.6567 - val_accuracy: 0.6364\n",
      "Epoch 5/50\n",
      "29/29 [==============================] - 0s 12ms/step - loss: 0.6705 - accuracy: 0.6246 - val_loss: 0.6522 - val_accuracy: 0.6494\n",
      "Epoch 6/50\n",
      "29/29 [==============================] - 0s 11ms/step - loss: 0.6655 - accuracy: 0.6172 - val_loss: 0.6481 - val_accuracy: 0.6558\n",
      "Epoch 7/50\n",
      "29/29 [==============================] - 0s 11ms/step - loss: 0.6672 - accuracy: 0.6161 - val_loss: 0.6440 - val_accuracy: 0.6623\n",
      "Epoch 8/50\n",
      "29/29 [==============================] - 0s 12ms/step - loss: 0.6656 - accuracy: 0.6319 - val_loss: 0.6402 - val_accuracy: 0.6688\n",
      "Epoch 9/50\n",
      "29/29 [==============================] - 0s 12ms/step - loss: 0.6616 - accuracy: 0.6078 - val_loss: 0.6365 - val_accuracy: 0.6688\n",
      "Epoch 10/50\n",
      "29/29 [==============================] - 0s 12ms/step - loss: 0.6484 - accuracy: 0.6397 - val_loss: 0.6331 - val_accuracy: 0.6818\n",
      "Epoch 11/50\n",
      "29/29 [==============================] - 0s 12ms/step - loss: 0.6415 - accuracy: 0.6724 - val_loss: 0.6298 - val_accuracy: 0.6883\n",
      "Epoch 12/50\n",
      "29/29 [==============================] - 0s 12ms/step - loss: 0.6476 - accuracy: 0.6468 - val_loss: 0.6267 - val_accuracy: 0.6883\n",
      "Epoch 13/50\n",
      "29/29 [==============================] - 0s 12ms/step - loss: 0.6487 - accuracy: 0.6440 - val_loss: 0.6237 - val_accuracy: 0.6818\n",
      "Epoch 14/50\n",
      "29/29 [==============================] - 0s 12ms/step - loss: 0.6496 - accuracy: 0.6521 - val_loss: 0.6208 - val_accuracy: 0.6753\n",
      "Epoch 15/50\n",
      "29/29 [==============================] - 0s 11ms/step - loss: 0.6475 - accuracy: 0.6530 - val_loss: 0.6180 - val_accuracy: 0.6753\n",
      "Epoch 16/50\n",
      "29/29 [==============================] - 0s 12ms/step - loss: 0.6332 - accuracy: 0.6728 - val_loss: 0.6153 - val_accuracy: 0.6753\n",
      "Epoch 17/50\n",
      "29/29 [==============================] - 0s 12ms/step - loss: 0.6331 - accuracy: 0.6589 - val_loss: 0.6127 - val_accuracy: 0.6818\n",
      "Epoch 18/50\n",
      "29/29 [==============================] - 0s 11ms/step - loss: 0.6483 - accuracy: 0.6241 - val_loss: 0.6102 - val_accuracy: 0.6688\n",
      "Epoch 19/50\n",
      "29/29 [==============================] - 0s 11ms/step - loss: 0.6271 - accuracy: 0.6563 - val_loss: 0.6078 - val_accuracy: 0.6753\n",
      "Epoch 20/50\n",
      "29/29 [==============================] - 0s 11ms/step - loss: 0.6244 - accuracy: 0.6674 - val_loss: 0.6055 - val_accuracy: 0.6818\n",
      "Epoch 21/50\n",
      "29/29 [==============================] - 0s 11ms/step - loss: 0.6465 - accuracy: 0.6252 - val_loss: 0.6033 - val_accuracy: 0.6818\n",
      "Epoch 22/50\n",
      "29/29 [==============================] - 0s 12ms/step - loss: 0.6309 - accuracy: 0.6373 - val_loss: 0.6012 - val_accuracy: 0.6818\n",
      "Epoch 23/50\n",
      "29/29 [==============================] - 0s 12ms/step - loss: 0.6207 - accuracy: 0.6669 - val_loss: 0.5992 - val_accuracy: 0.6753\n",
      "Epoch 24/50\n",
      "29/29 [==============================] - 0s 12ms/step - loss: 0.6390 - accuracy: 0.6396 - val_loss: 0.5972 - val_accuracy: 0.6688\n",
      "Epoch 25/50\n",
      "29/29 [==============================] - 0s 12ms/step - loss: 0.6092 - accuracy: 0.6817 - val_loss: 0.5953 - val_accuracy: 0.6688\n",
      "Epoch 26/50\n",
      "29/29 [==============================] - 0s 11ms/step - loss: 0.6246 - accuracy: 0.6364 - val_loss: 0.5934 - val_accuracy: 0.6688\n",
      "Epoch 27/50\n",
      "29/29 [==============================] - 0s 16ms/step - loss: 0.6123 - accuracy: 0.6801 - val_loss: 0.5917 - val_accuracy: 0.6688\n",
      "Epoch 28/50\n",
      "29/29 [==============================] - 0s 12ms/step - loss: 0.6292 - accuracy: 0.6484 - val_loss: 0.5899 - val_accuracy: 0.6688\n",
      "Epoch 29/50\n",
      "29/29 [==============================] - 0s 12ms/step - loss: 0.6089 - accuracy: 0.6804 - val_loss: 0.5882 - val_accuracy: 0.6753\n",
      "Epoch 30/50\n",
      "29/29 [==============================] - 0s 12ms/step - loss: 0.6137 - accuracy: 0.6645 - val_loss: 0.5866 - val_accuracy: 0.6753\n",
      "Epoch 31/50\n",
      "29/29 [==============================] - 0s 11ms/step - loss: 0.6032 - accuracy: 0.7085 - val_loss: 0.5850 - val_accuracy: 0.6688\n",
      "Epoch 32/50\n",
      "29/29 [==============================] - 0s 12ms/step - loss: 0.6141 - accuracy: 0.6487 - val_loss: 0.5834 - val_accuracy: 0.6688\n",
      "Epoch 33/50\n",
      "29/29 [==============================] - 0s 11ms/step - loss: 0.6178 - accuracy: 0.6659 - val_loss: 0.5819 - val_accuracy: 0.6753\n",
      "Epoch 34/50\n",
      "29/29 [==============================] - 0s 12ms/step - loss: 0.6203 - accuracy: 0.6399 - val_loss: 0.5804 - val_accuracy: 0.6753\n",
      "Epoch 35/50\n",
      "29/29 [==============================] - 0s 11ms/step - loss: 0.6157 - accuracy: 0.6553 - val_loss: 0.5790 - val_accuracy: 0.6753\n",
      "Epoch 36/50\n",
      "29/29 [==============================] - 0s 12ms/step - loss: 0.6169 - accuracy: 0.6756 - val_loss: 0.5775 - val_accuracy: 0.6753\n",
      "Epoch 37/50\n",
      "29/29 [==============================] - 0s 12ms/step - loss: 0.6101 - accuracy: 0.6542 - val_loss: 0.5761 - val_accuracy: 0.6753\n",
      "Epoch 38/50\n",
      "29/29 [==============================] - 0s 11ms/step - loss: 0.6121 - accuracy: 0.6510 - val_loss: 0.5748 - val_accuracy: 0.6688\n",
      "Epoch 39/50\n",
      "29/29 [==============================] - 0s 11ms/step - loss: 0.6128 - accuracy: 0.6728 - val_loss: 0.5735 - val_accuracy: 0.6688\n",
      "Epoch 40/50\n",
      "29/29 [==============================] - 0s 12ms/step - loss: 0.6039 - accuracy: 0.6477 - val_loss: 0.5722 - val_accuracy: 0.6688\n",
      "Epoch 41/50\n",
      "29/29 [==============================] - 0s 12ms/step - loss: 0.6031 - accuracy: 0.6645 - val_loss: 0.5709 - val_accuracy: 0.6688\n",
      "Epoch 42/50\n",
      "29/29 [==============================] - 0s 12ms/step - loss: 0.6086 - accuracy: 0.6511 - val_loss: 0.5697 - val_accuracy: 0.6688\n",
      "Epoch 43/50\n",
      "29/29 [==============================] - 0s 11ms/step - loss: 0.6129 - accuracy: 0.6373 - val_loss: 0.5685 - val_accuracy: 0.6688\n",
      "Epoch 44/50\n",
      "29/29 [==============================] - 0s 12ms/step - loss: 0.6066 - accuracy: 0.6602 - val_loss: 0.5673 - val_accuracy: 0.6688\n",
      "Epoch 45/50\n",
      "29/29 [==============================] - 0s 12ms/step - loss: 0.6109 - accuracy: 0.6815 - val_loss: 0.5661 - val_accuracy: 0.6688\n",
      "Epoch 46/50\n",
      "29/29 [==============================] - 0s 12ms/step - loss: 0.6135 - accuracy: 0.6611 - val_loss: 0.5650 - val_accuracy: 0.6688\n",
      "Epoch 47/50\n",
      "29/29 [==============================] - 0s 11ms/step - loss: 0.6367 - accuracy: 0.6207 - val_loss: 0.5639 - val_accuracy: 0.6688\n",
      "Epoch 48/50\n",
      "29/29 [==============================] - 0s 11ms/step - loss: 0.5823 - accuracy: 0.6818 - val_loss: 0.5628 - val_accuracy: 0.6688\n",
      "Epoch 49/50\n",
      "29/29 [==============================] - 0s 12ms/step - loss: 0.6052 - accuracy: 0.6768 - val_loss: 0.5617 - val_accuracy: 0.6688\n",
      "Epoch 50/50\n",
      "29/29 [==============================] - 0s 12ms/step - loss: 0.5926 - accuracy: 0.6757 - val_loss: 0.5606 - val_accuracy: 0.6688\n"
     ]
    },
    {
     "data": {
      "image/png": "[encoded data removed]",
      "text/plain": [
       "<Figure size 576x1152 with 2 Axes>"
      ]
     },
     "metadata": {
      "needs_background": "light",
      "tags": []
     },
     "output_type": "display_data"
    }
   ],
   "source": [
    "## Model training\n",
    "epochs = 50\n",
    "batch_size = 16\n",
    "\n",
    "history = model.fit(x=X_train, y=y_train, \n",
    "                    validation_split=0.25,\n",
    "                    epochs=epochs,\n",
    "                    batch_size=batch_size)\n",
    "\n",
    "\n",
    "n_epochs = np.arange(0,epochs)\n",
    "\n",
    "fig, (ax1,ax2) = plt.subplots(2,1,figsize=(8,16))\n",
    "ax1.plot(n_epochs, history.history['loss'], label='training loss')\n",
    "ax1.plot(n_epochs, history.history['val_loss'], label='validation loss')\n",
    "ax1.set_ylim(-0.05,1.05)\n",
    "ax1.legend()\n",
    "\n",
    "ax2.plot(n_epochs, history.history['accuracy'], label='training accuracy')\n",
    "ax2.plot(n_epochs, history.history['val_accuracy'], label='validation accuracy')\n",
    "ax2.set_ylim(-0.05,1.05)\n",
    "ax2.legend()\n",
    "plt.show()"
   ]
  },
  {
   "cell_type": "markdown",
   "metadata": {
    "id": "BENpofJbUh-Z"
   },
   "source": [
    "**Model evaluation**"
   ]
  },
  {
   "cell_type": "code",
   "execution_count": 36,
   "metadata": {
    "colab": {
     "base_uri": "https://localhost:8080/"
    },
    "id": "ugjjIBXSUh-a",
    "outputId": "39cd1121-539f-4053-f276-aad87fbb1cc9"
   },
   "outputs": [
    {
     "name": "stdout",
     "output_type": "stream",
     "text": [
      "10/10 [==============================] - 0s 9ms/step - loss: 0.6095 - accuracy: 0.6429\n"
     ]
    }
   ],
   "source": [
    "loss_and_metrics = model.evaluate(X_test, y_test, \n",
    "                                  batch_size=batch_size)"
   ]
  },
  {
   "cell_type": "markdown",
   "metadata": {
    "id": "LWSbmOPGUh-a"
   },
   "source": [
    "### 2) Convolutional Neural Network"
   ]
  },
  {
   "cell_type": "markdown",
   "metadata": {
    "id": "0SZE57X7Uh-a"
   },
   "source": [
    "<ins>**Task:**</ins> Please **implement your own multi-class image classifier to predict the outcome classes** in the diabetes dataset. <br>\n",
    "<ins>**Model:**</ins> Use a **convolutional neural network** with at least 1 hidden convolutional layer.<br> (*Note:* Since this is still a multi-class classification task, please use 10 units and the softmax activation in your output layer.)<br>\n",
    "<ins>**Data:**</ins> Use the 28*28 pixel images to predict the digit class."
   ]
  },
  {
   "cell_type": "markdown",
   "metadata": {
    "id": "XCl6xpkYUh-a"
   },
   "source": [
    "The following solution consider a convolutional neural network with the following architecture:\n",
    "- <ins>input</ins> shape $28 \\times 28 \\times 1$,\n",
    "- <ins>1st hidden (convolutional) layer</ins> with **32 filters**, **kernel size (3,3)**, **stride (1,1)** and **ReLu** activations,\n",
    "- <ins>2nd hidden (convolutional) layer</ins> with **64 filters**, **kernel size (3,3)**, **stride (1,1)** and **ReLu** activations,\n",
    "- <ins>3rd hidden (convolutional) layer</ins> with **256 filters**, **kernel size (3,3)**, **stride (1,1)** and **tanh** activations,\n",
    "- <ins>output layer</ins> with **10 units** and **softmax** activation."
   ]
  },
  {
   "cell_type": "markdown",
   "metadata": {
    "id": "vSqvLQGTUh-b"
   },
   "source": [
    "**Data Preparation**"
   ]
  },
  {
   "cell_type": "code",
   "execution_count": 37,
   "metadata": {
    "id": "2c-WB7USUh-b"
   },
   "outputs": [],
   "source": [
    "# Import the MNIST dataset\n",
    "from tensorflow.keras.datasets import mnist\n",
    "from tensorflow.keras.utils import to_categorical\n",
    "\n",
    "# Load MNIST images and labels and normalise (range 0 to 1) image data\n",
    "(X_train, y_train), (X_test, y_test) = mnist.load_data() # 60,000 training + 10,000 test images/labels\n",
    "X_train = X_train / 255.0\n",
    "X_test  = X_test / 255.0\n",
    "\n",
    "# Reshape dataset to have a single channel \n",
    "X_train = X_train.reshape((X_train.shape[0], 28, 28, 1)) # The CNN requires this layout (batch_size, height, width, n_channels)\n",
    "X_test = X_test.reshape((X_test.shape[0], 28, 28, 1)) # The CNN requires this layout (batch_size, height, width, n_channels)\n",
    "\n",
    "# One-hot encode target values\n",
    "y_train = to_categorical(y_train)\n",
    "y_test = to_categorical(y_test)"
   ]
  },
  {
   "cell_type": "markdown",
   "metadata": {
    "id": "ek8NxwWtUh-b"
   },
   "source": [
    "**Model building**"
   ]
  },
  {
   "cell_type": "markdown",
   "metadata": {},
   "source": [
    "For Colab-users:"
   ]
  },
  {
   "cell_type": "code",
   "execution_count": 42,
   "metadata": {
    "colab": {
     "base_uri": "https://localhost:8080/"
    },
    "id": "2pJdleZDUh-c",
    "outputId": "1a9ed8fe-f461-45e0-e71f-8a43277f278d"
   },
   "outputs": [
    {
     "name": "stdout",
     "output_type": "stream",
     "text": [
      "Model: \"sequential_5\"\n",
      "_________________________________________________________________\n",
      "Layer (type)                 Output Shape              Param #   \n",
      "=================================================================\n",
      "conv2d_3 (Conv2D)            (None, 26, 26, 32)        320       \n",
      "_________________________________________________________________\n",
      "conv2d_4 (Conv2D)            (None, 24, 24, 64)        18496     \n",
      "_________________________________________________________________\n",
      "conv2d_5 (Conv2D)            (None, 22, 22, 256)       147712    \n",
      "_________________________________________________________________\n",
      "flatten_1 (Flatten)          (None, 123904)            0         \n",
      "_________________________________________________________________\n",
      "dense_11 (Dense)             (None, 10)                1239050   \n",
      "=================================================================\n",
      "Total params: 1,405,578\n",
      "Trainable params: 1,405,578\n",
      "Non-trainable params: 0\n",
      "_________________________________________________________________\n"
     ]
    }
   ],
   "source": [
    "from tensorflow.keras.models import Sequential\n",
    "from tensorflow.keras.layers import Input, Conv2D, Dense, Flatten\n",
    "with tpu_strategy.scope():\n",
    "  model = Sequential()\n",
    "  model.add(Input(shape=(28,28,1)))\n",
    "  model.add(Conv2D(32, kernel_size=(3,3), strides=(1,1), activation='relu'))\n",
    "  model.add(Conv2D(64, kernel_size=(3,3), strides=(1,1), activation='relu'))\n",
    "  model.add(Conv2D(256, kernel_size=(3,3), strides=(1,1), activation='tanh'))\n",
    "  model.add(Flatten()) # This flattens your image with width and height into a vector of length widht*height. \n",
    "  model.add(Dense(10, activation='softmax')) \n",
    "\n",
    "model.summary()"
   ]
  },
  {
   "cell_type": "markdown",
   "metadata": {
    "id": "qSsr9bcCbLm6"
   },
   "source": [
    "For non-Colab-users:"
   ]
  },
  {
   "cell_type": "code",
   "execution_count": null,
   "metadata": {},
   "outputs": [],
   "source": [
    "from tensorflow.keras.models import Sequential\n",
    "from tensorflow.keras.layers import Input, Conv2D, Dense, Flatten\n",
    "\n",
    "model = Sequential()\n",
    "model.add(Input(shape=(28,28,1)))\n",
    "model.add(Conv2D(32, kernel_size=(3,3), strides=(1,1), activation='relu'))\n",
    "model.add(Conv2D(64, kernel_size=(3,3), strides=(1,1), activation='relu'))\n",
    "model.add(Conv2D(256, kernel_size=(3,3), strides=(1,1), activation='tanh'))\n",
    "model.add(Flatten()) # This flattens your image with width and height into a vector of length widht*height. \n",
    "model.add(Dense(10, activation='softmax')) \n",
    "\n",
    "model.summary()"
   ]
  },
  {
   "cell_type": "markdown",
   "metadata": {
    "id": "1uKhX5rBUh-c"
   },
   "source": [
    "**Model compilation**"
   ]
  },
  {
   "cell_type": "code",
   "execution_count": 43,
   "metadata": {
    "id": "oFWio_qOUh-c"
   },
   "outputs": [],
   "source": [
    "from tensorflow.keras.losses import CategoricalCrossentropy\n",
    "from tensorflow.keras.optimizers import Adam\n",
    "\n",
    "# Loss function\n",
    "loss = CategoricalCrossentropy()\n",
    "\n",
    "# Optimiser\n",
    "lr = 1e-3\n",
    "\n",
    "optimiser = Adam(learning_rate=lr)\n",
    "\n",
    "model.compile(loss=loss,\n",
    "              optimizer=optimiser, \n",
    "              metrics=['accuracy'])"
   ]
  },
  {
   "cell_type": "code",
   "execution_count": 43,
   "metadata": {
    "id": "YhVeA-QFZdSE"
   },
   "outputs": [],
   "source": []
  },
  {
   "cell_type": "markdown",
   "metadata": {
    "id": "RvHWyEp_Uh-c"
   },
   "source": [
    "**Model training**"
   ]
  },
  {
   "cell_type": "code",
   "execution_count": 44,
   "metadata": {
    "colab": {
     "base_uri": "https://localhost:8080/",
     "height": 1000
    },
    "id": "0-F3al1VUh-c",
    "outputId": "79a1d53e-8945-4c66-c38a-79db2d2acc50"
   },
   "outputs": [
    {
     "name": "stdout",
     "output_type": "stream",
     "text": [
      "Epoch 1/50\n",
      "106/106 [==============================] - 13s 76ms/step - loss: 0.5032 - accuracy: 0.8408 - val_loss: 0.0686 - val_accuracy: 0.9822\n",
      "Epoch 2/50\n",
      "106/106 [==============================] - 3s 26ms/step - loss: 0.0667 - accuracy: 0.9794 - val_loss: 0.0582 - val_accuracy: 0.9847\n",
      "Epoch 3/50\n",
      "106/106 [==============================] - 3s 26ms/step - loss: 0.0512 - accuracy: 0.9847 - val_loss: 0.0560 - val_accuracy: 0.9847\n",
      "Epoch 4/50\n",
      "106/106 [==============================] - 3s 27ms/step - loss: 0.0400 - accuracy: 0.9875 - val_loss: 0.0489 - val_accuracy: 0.9880\n",
      "Epoch 5/50\n",
      "106/106 [==============================] - 3s 26ms/step - loss: 0.0319 - accuracy: 0.9903 - val_loss: 0.0468 - val_accuracy: 0.9887\n",
      "Epoch 6/50\n",
      "106/106 [==============================] - 3s 26ms/step - loss: 0.0271 - accuracy: 0.9913 - val_loss: 0.0528 - val_accuracy: 0.9873\n",
      "Epoch 7/50\n",
      "106/106 [==============================] - 3s 26ms/step - loss: 0.0222 - accuracy: 0.9922 - val_loss: 0.0494 - val_accuracy: 0.9883\n",
      "Epoch 8/50\n",
      "106/106 [==============================] - 3s 26ms/step - loss: 0.0176 - accuracy: 0.9944 - val_loss: 0.0588 - val_accuracy: 0.9867\n",
      "Epoch 9/50\n",
      "106/106 [==============================] - 3s 27ms/step - loss: 0.0139 - accuracy: 0.9956 - val_loss: 0.0528 - val_accuracy: 0.9873\n",
      "Epoch 10/50\n",
      "106/106 [==============================] - 3s 28ms/step - loss: 0.0124 - accuracy: 0.9956 - val_loss: 0.0552 - val_accuracy: 0.9888\n",
      "Epoch 11/50\n",
      "106/106 [==============================] - 3s 26ms/step - loss: 0.0085 - accuracy: 0.9971 - val_loss: 0.0653 - val_accuracy: 0.9860\n",
      "Epoch 12/50\n",
      "106/106 [==============================] - 3s 27ms/step - loss: 0.0141 - accuracy: 0.9949 - val_loss: 0.0571 - val_accuracy: 0.9873\n",
      "Epoch 13/50\n",
      "106/106 [==============================] - 3s 26ms/step - loss: 0.0068 - accuracy: 0.9978 - val_loss: 0.0617 - val_accuracy: 0.9882\n",
      "Epoch 14/50\n",
      "106/106 [==============================] - 3s 27ms/step - loss: 0.0049 - accuracy: 0.9983 - val_loss: 0.0662 - val_accuracy: 0.9882\n",
      "Epoch 15/50\n",
      "106/106 [==============================] - 3s 27ms/step - loss: 0.0072 - accuracy: 0.9974 - val_loss: 0.0541 - val_accuracy: 0.9890\n",
      "Epoch 16/50\n",
      "106/106 [==============================] - 3s 27ms/step - loss: 0.0068 - accuracy: 0.9973 - val_loss: 0.0638 - val_accuracy: 0.9892\n",
      "Epoch 17/50\n",
      "106/106 [==============================] - 3s 27ms/step - loss: 0.0069 - accuracy: 0.9979 - val_loss: 0.0703 - val_accuracy: 0.9888\n",
      "Epoch 18/50\n",
      "106/106 [==============================] - 3s 26ms/step - loss: 0.0077 - accuracy: 0.9973 - val_loss: 0.0633 - val_accuracy: 0.9888\n",
      "Epoch 19/50\n",
      "106/106 [==============================] - 3s 26ms/step - loss: 0.0044 - accuracy: 0.9984 - val_loss: 0.0639 - val_accuracy: 0.9887\n",
      "Epoch 20/50\n",
      "106/106 [==============================] - 3s 27ms/step - loss: 0.0027 - accuracy: 0.9990 - val_loss: 0.0728 - val_accuracy: 0.9902\n",
      "Epoch 21/50\n",
      "106/106 [==============================] - 3s 27ms/step - loss: 0.0045 - accuracy: 0.9984 - val_loss: 0.0798 - val_accuracy: 0.9877\n",
      "Epoch 22/50\n",
      "106/106 [==============================] - 3s 27ms/step - loss: 0.0045 - accuracy: 0.9983 - val_loss: 0.0774 - val_accuracy: 0.9887\n",
      "Epoch 23/50\n",
      "106/106 [==============================] - 3s 27ms/step - loss: 0.0039 - accuracy: 0.9987 - val_loss: 0.0717 - val_accuracy: 0.9888\n",
      "Epoch 24/50\n",
      "106/106 [==============================] - 3s 27ms/step - loss: 0.0029 - accuracy: 0.9992 - val_loss: 0.0873 - val_accuracy: 0.9870\n",
      "Epoch 25/50\n",
      "106/106 [==============================] - 3s 27ms/step - loss: 0.0083 - accuracy: 0.9971 - val_loss: 0.0642 - val_accuracy: 0.9880\n",
      "Epoch 26/50\n",
      "106/106 [==============================] - 3s 26ms/step - loss: 0.0063 - accuracy: 0.9980 - val_loss: 0.0655 - val_accuracy: 0.9897\n",
      "Epoch 27/50\n",
      "106/106 [==============================] - 3s 27ms/step - loss: 0.0043 - accuracy: 0.9986 - val_loss: 0.0745 - val_accuracy: 0.9880\n",
      "Epoch 28/50\n",
      "106/106 [==============================] - 3s 28ms/step - loss: 0.0038 - accuracy: 0.9986 - val_loss: 0.0788 - val_accuracy: 0.9883\n",
      "Epoch 29/50\n",
      "106/106 [==============================] - 3s 27ms/step - loss: 0.0021 - accuracy: 0.9992 - val_loss: 0.0685 - val_accuracy: 0.9888\n",
      "Epoch 30/50\n",
      "106/106 [==============================] - 3s 29ms/step - loss: 0.0041 - accuracy: 0.9985 - val_loss: 0.0700 - val_accuracy: 0.9895\n",
      "Epoch 31/50\n",
      "106/106 [==============================] - 3s 28ms/step - loss: 0.0015 - accuracy: 0.9995 - val_loss: 0.0969 - val_accuracy: 0.9880\n",
      "Epoch 32/50\n",
      "106/106 [==============================] - 3s 27ms/step - loss: 0.0029 - accuracy: 0.9990 - val_loss: 0.0928 - val_accuracy: 0.9882\n",
      "Epoch 33/50\n",
      "106/106 [==============================] - 3s 27ms/step - loss: 0.0071 - accuracy: 0.9979 - val_loss: 0.0959 - val_accuracy: 0.9868\n",
      "Epoch 34/50\n",
      "106/106 [==============================] - 3s 27ms/step - loss: 0.0058 - accuracy: 0.9978 - val_loss: 0.0926 - val_accuracy: 0.9892\n",
      "Epoch 35/50\n",
      "106/106 [==============================] - 3s 27ms/step - loss: 0.0039 - accuracy: 0.9987 - val_loss: 0.1056 - val_accuracy: 0.9867\n",
      "Epoch 36/50\n",
      "106/106 [==============================] - 3s 28ms/step - loss: 0.0071 - accuracy: 0.9978 - val_loss: 0.0787 - val_accuracy: 0.9900\n",
      "Epoch 37/50\n",
      "106/106 [==============================] - 3s 27ms/step - loss: 0.0019 - accuracy: 0.9993 - val_loss: 0.0988 - val_accuracy: 0.9878\n",
      "Epoch 38/50\n",
      "106/106 [==============================] - 3s 27ms/step - loss: 0.0035 - accuracy: 0.9987 - val_loss: 0.0816 - val_accuracy: 0.9893\n",
      "Epoch 39/50\n",
      "106/106 [==============================] - 3s 28ms/step - loss: 0.0035 - accuracy: 0.9988 - val_loss: 0.1071 - val_accuracy: 0.9870\n",
      "Epoch 40/50\n",
      "106/106 [==============================] - 3s 28ms/step - loss: 0.0023 - accuracy: 0.9992 - val_loss: 0.0933 - val_accuracy: 0.9880\n",
      "Epoch 41/50\n",
      "106/106 [==============================] - 3s 28ms/step - loss: 0.0022 - accuracy: 0.9993 - val_loss: 0.0912 - val_accuracy: 0.9872\n",
      "Epoch 42/50\n",
      "106/106 [==============================] - 3s 27ms/step - loss: 0.0037 - accuracy: 0.9988 - val_loss: 0.1026 - val_accuracy: 0.9870\n",
      "Epoch 43/50\n",
      "106/106 [==============================] - 3s 27ms/step - loss: 0.0048 - accuracy: 0.9983 - val_loss: 0.0880 - val_accuracy: 0.9903\n",
      "Epoch 44/50\n",
      "106/106 [==============================] - 3s 27ms/step - loss: 0.0014 - accuracy: 0.9997 - val_loss: 0.0904 - val_accuracy: 0.9893\n",
      "Epoch 45/50\n",
      "106/106 [==============================] - 3s 26ms/step - loss: 5.2129e-04 - accuracy: 0.9999 - val_loss: 0.0910 - val_accuracy: 0.9887\n",
      "Epoch 46/50\n",
      "106/106 [==============================] - 3s 26ms/step - loss: 5.8042e-04 - accuracy: 0.9999 - val_loss: 0.0911 - val_accuracy: 0.9882\n",
      "Epoch 47/50\n",
      "106/106 [==============================] - 3s 26ms/step - loss: 4.6689e-04 - accuracy: 0.9998 - val_loss: 0.0917 - val_accuracy: 0.9902\n",
      "Epoch 48/50\n",
      "106/106 [==============================] - 3s 26ms/step - loss: 1.5634e-04 - accuracy: 1.0000 - val_loss: 0.1065 - val_accuracy: 0.9878\n",
      "Epoch 49/50\n",
      "106/106 [==============================] - 3s 26ms/step - loss: 0.0026 - accuracy: 0.9991 - val_loss: 0.0948 - val_accuracy: 0.9900\n",
      "Epoch 50/50\n",
      "106/106 [==============================] - 3s 27ms/step - loss: 0.0015 - accuracy: 0.9995 - val_loss: 0.0835 - val_accuracy: 0.9895\n"
     ]
    },
    {
     "data": {
      "image/png": "[encoded data removed]",
      "text/plain": [
       "<Figure size 576x1152 with 2 Axes>"
      ]
     },
     "metadata": {
      "needs_background": "light",
      "tags": []
     },
     "output_type": "display_data"
    }
   ],
   "source": [
    "# Define number of epochs and batch size\n",
    "epochs = 50\n",
    "batch_size = 512\n",
    "\n",
    "\n",
    "history = model.fit(x=X_train, y=y_train, \n",
    "                    validation_split=0.1,\n",
    "                    epochs=epochs,\n",
    "                    batch_size=batch_size)\n",
    "\n",
    "\n",
    "n_epochs = np.arange(0,epochs)\n",
    "\n",
    "fig, (ax1,ax2) = plt.subplots(2,1,figsize=(8,16))\n",
    "ax1.plot(n_epochs, history.history['loss'], label='training loss')\n",
    "ax1.plot(n_epochs, history.history['val_loss'], label='validation loss')\n",
    "ax1.set_ylim(-0.05,1.05)\n",
    "ax1.legend()\n",
    "\n",
    "ax2.plot(n_epochs, history.history['accuracy'], label='training accuracy')\n",
    "ax2.plot(n_epochs, history.history['val_accuracy'], label='validation accuracy')\n",
    "ax2.set_ylim(-0.05,1.05)\n",
    "ax2.legend()\n",
    "plt.show()"
   ]
  },
  {
   "cell_type": "markdown",
   "metadata": {
    "id": "Xa3TPeflUh-c"
   },
   "source": [
    "**Model evaluation**"
   ]
  },
  {
   "cell_type": "code",
   "execution_count": 45,
   "metadata": {
    "colab": {
     "base_uri": "https://localhost:8080/"
    },
    "id": "YDONIU6yUh-d",
    "outputId": "30a546ff-d255-4635-8d6a-5c7dfd6fb9e9"
   },
   "outputs": [
    {
     "name": "stdout",
     "output_type": "stream",
     "text": [
      "20/20 [==============================] - 2s 76ms/step - loss: 0.1092 - accuracy: 0.9863\n"
     ]
    }
   ],
   "source": [
    "loss_and_metrics = model.evaluate(X_test, y_test, \n",
    "                                  batch_size=batch_size)"
   ]
  },
  {
   "cell_type": "code",
   "execution_count": null,
   "metadata": {
    "id": "4uMtcpK_drVz"
   },
   "outputs": [],
   "source": []
  }
 ],
 "metadata": {
  "colab": {
   "collapsed_sections": [],
   "name": "week1_session5_deep_learning.ipynb",
   "provenance": []
  },
  "kernelspec": {
   "display_name": "Python 3",
   "language": "python",
   "name": "python3"
  },
  "language_info": {
   "codemirror_mode": {
    "name": "ipython",
    "version": 3
   },
   "file_extension": ".py",
   "mimetype": "text/x-python",
   "name": "python",
   "nbconvert_exporter": "python",
   "pygments_lexer": "ipython3",
   "version": "3.8.3"
  }
 },
 "nbformat": 4,
 "nbformat_minor": 4
}
